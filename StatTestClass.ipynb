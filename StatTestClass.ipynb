{
 "cells": [
  {
   "cell_type": "markdown",
   "metadata": {},
   "source": [
    "\n",
    "# <span style=\"color: mediumvioletred;\"><u>Statistical Test Practice with Class Data</u></span>\n",
    "#### <span style=\"color: MediumPurple;\">Sophia Dalal </span>\n",
    "#### <span style=\"color: MediumPurple;\">April 8 2025  </span>\n"
   ]
  },
  {
   "cell_type": "markdown",
   "metadata": {},
   "source": [
    "## Packages "
   ]
  },
  {
   "cell_type": "code",
   "execution_count": 1,
   "metadata": {},
   "outputs": [],
   "source": [
    "# import stats from scipy, numpy, pandas, matplotlib, and seaborn\n",
    "import numpy as np\n",
    "import pandas as pd\n",
    "import matplotlib.pyplot as plt\n",
    "import seaborn as sns\n",
    "from scipy import stats\n",
    "\n"
   ]
  },
  {
   "cell_type": "markdown",
   "metadata": {},
   "source": [
    "## Import the Data "
   ]
  },
  {
   "cell_type": "code",
   "execution_count": 2,
   "metadata": {},
   "outputs": [],
   "source": [
    "# import the data set ICU_Mortality.csv and assign it to the variable df\n",
    "df = pd.read_csv('ICU_Mortality.csv')"
   ]
  },
  {
   "cell_type": "code",
   "execution_count": 3,
   "metadata": {},
   "outputs": [
    {
     "name": "stdout",
     "output_type": "stream",
     "text": [
      "<class 'pandas.core.frame.DataFrame'>\n",
      "RangeIndex: 311 entries, 0 to 310\n",
      "Data columns (total 6 columns):\n",
      " #   Column     Non-Null Count  Dtype  \n",
      "---  ------     --------------  -----  \n",
      " 0   Mortality  311 non-null    object \n",
      " 1   Age        311 non-null    int64  \n",
      " 2   WCC        311 non-null    float64\n",
      " 3   HB         311 non-null    float64\n",
      " 4   Diabetes   213 non-null    object \n",
      " 5   Class      311 non-null    object \n",
      "dtypes: float64(2), int64(1), object(3)\n",
      "memory usage: 14.7+ KB\n"
     ]
    }
   ],
   "source": [
    "# show the first 5 rows of the data set\n",
    "df.head()\n",
    "# show the info of the columns in the data set\n",
    "df.info()"
   ]
  },
  {
   "cell_type": "markdown",
   "metadata": {},
   "source": [
    "## EDA\n"
   ]
  },
  {
   "cell_type": "markdown",
   "metadata": {},
   "source": [
    "### Mortality "
   ]
  },
  {
   "cell_type": "code",
   "execution_count": 4,
   "metadata": {},
   "outputs": [
    {
     "data": {
      "text/plain": [
       "Mortality\n",
       "Survived    207\n",
       "Died        104\n",
       "Name: count, dtype: int64"
      ]
     },
     "execution_count": 4,
     "metadata": {},
     "output_type": "execute_result"
    }
   ],
   "source": [
    "# calculate the frequency of the categories in the 'Mortality' column\n",
    "df['Mortality'].value_counts()"
   ]
  },
  {
   "cell_type": "code",
   "execution_count": 5,
   "metadata": {},
   "outputs": [
    {
     "data": {
      "text/plain": [
       "Mortality\n",
       "Survived    0.665595\n",
       "Died        0.334405\n",
       "Name: proportion, dtype: float64"
      ]
     },
     "execution_count": 5,
     "metadata": {},
     "output_type": "execute_result"
    }
   ],
   "source": [
    "\t\n",
    "# calculate the relative frequency of the categories in the 'Mortality' column\n",
    "df['Mortality'].value_counts(normalize=True)"
   ]
  },
  {
   "cell_type": "code",
   "execution_count": 6,
   "metadata": {},
   "outputs": [
    {
     "data": {
      "image/png": "[encoded data removed]",
      "text/plain": [
       "<Figure size 640x480 with 1 Axes>"
      ]
     },
     "metadata": {},
     "output_type": "display_data"
    }
   ],
   "source": [
    "# create a bar chart of the frequency of the categories in the 'Mortality' column\n",
    "sns.countplot(x='Mortality', data=df)\n",
    "plt.title('Frequency of Mortality')\n",
    "plt.xlabel('Mortality')\n",
    "plt.ylabel('Frequency')\n",
    "plt.show()"
   ]
  },
  {
   "cell_type": "markdown",
   "metadata": {},
   "source": [
    "## Age "
   ]
  },
  {
   "cell_type": "code",
   "execution_count": 7,
   "metadata": {},
   "outputs": [
    {
     "data": {
      "application/vnd.microsoft.datawrangler.viewer.v0+json": {
       "columns": [
        {
         "name": "Mortality",
         "rawType": "object",
         "type": "string"
        },
        {
         "name": "count",
         "rawType": "float64",
         "type": "float"
        },
        {
         "name": "mean",
         "rawType": "float64",
         "type": "float"
        },
        {
         "name": "std",
         "rawType": "float64",
         "type": "float"
        },
        {
         "name": "min",
         "rawType": "float64",
         "type": "float"
        },
        {
         "name": "25%",
         "rawType": "float64",
         "type": "float"
        },
        {
         "name": "50%",
         "rawType": "float64",
         "type": "float"
        },
        {
         "name": "75%",
         "rawType": "float64",
         "type": "float"
        },
        {
         "name": "max",
         "rawType": "float64",
         "type": "float"
        }
       ],
       "conversionMethod": "pd.DataFrame",
       "ref": "3edd3328-d35b-4001-8bf6-96a2ae3f6783",
       "rows": [
        [
         "Died",
         "104.0",
         "61.125",
         "9.738012296929268",
         "45.0",
         "52.75",
         "61.0",
         "69.0",
         "77.0"
        ],
        [
         "Survived",
         "207.0",
         "54.111111111111114",
         "10.830208660650332",
         "23.0",
         "47.0",
         "53.0",
         "60.0",
         "85.0"
        ]
       ],
       "shape": {
        "columns": 8,
        "rows": 2
       }
      },
      "text/html": [
       "<div>\n",
       "<style scoped>\n",
       "    .dataframe tbody tr th:only-of-type {\n",
       "        vertical-align: middle;\n",
       "    }\n",
       "\n",
       "    .dataframe tbody tr th {\n",
       "        vertical-align: top;\n",
       "    }\n",
       "\n",
       "    .dataframe thead th {\n",
       "        text-align: right;\n",
       "    }\n",
       "</style>\n",
       "<table border=\"1\" class=\"dataframe\">\n",
       "  <thead>\n",
       "    <tr style=\"text-align: right;\">\n",
       "      <th></th>\n",
       "      <th>count</th>\n",
       "      <th>mean</th>\n",
       "      <th>std</th>\n",
       "      <th>min</th>\n",
       "      <th>25%</th>\n",
       "      <th>50%</th>\n",
       "      <th>75%</th>\n",
       "      <th>max</th>\n",
       "    </tr>\n",
       "    <tr>\n",
       "      <th>Mortality</th>\n",
       "      <th></th>\n",
       "      <th></th>\n",
       "      <th></th>\n",
       "      <th></th>\n",
       "      <th></th>\n",
       "      <th></th>\n",
       "      <th></th>\n",
       "      <th></th>\n",
       "    </tr>\n",
       "  </thead>\n",
       "  <tbody>\n",
       "    <tr>\n",
       "      <th>Died</th>\n",
       "      <td>104.0</td>\n",
       "      <td>61.125000</td>\n",
       "      <td>9.738012</td>\n",
       "      <td>45.0</td>\n",
       "      <td>52.75</td>\n",
       "      <td>61.0</td>\n",
       "      <td>69.0</td>\n",
       "      <td>77.0</td>\n",
       "    </tr>\n",
       "    <tr>\n",
       "      <th>Survived</th>\n",
       "      <td>207.0</td>\n",
       "      <td>54.111111</td>\n",
       "      <td>10.830209</td>\n",
       "      <td>23.0</td>\n",
       "      <td>47.00</td>\n",
       "      <td>53.0</td>\n",
       "      <td>60.0</td>\n",
       "      <td>85.0</td>\n",
       "    </tr>\n",
       "  </tbody>\n",
       "</table>\n",
       "</div>"
      ],
      "text/plain": [
       "           count       mean        std   min    25%   50%   75%   max\n",
       "Mortality                                                            \n",
       "Died       104.0  61.125000   9.738012  45.0  52.75  61.0  69.0  77.0\n",
       "Survived   207.0  54.111111  10.830209  23.0  47.00  53.0  60.0  85.0"
      ]
     },
     "execution_count": 7,
     "metadata": {},
     "output_type": "execute_result"
    }
   ],
   "source": [
    "# Calculate the summary statistics of the 'Age' column for each category of the 'Mortality' column\n",
    "df.groupby('Mortality')['Age'].describe()"
   ]
  },
  {
   "cell_type": "code",
   "execution_count": 8,
   "metadata": {},
   "outputs": [
    {
     "data": {
      "image/png": "[encoded data removed]",
      "text/plain": [
       "<Figure size 640x480 with 1 Axes>"
      ]
     },
     "metadata": {},
     "output_type": "display_data"
    }
   ],
   "source": [
    "# Create a box and whisker plot of the 'Age' column for each category of the 'Mortality' column\n",
    "sns.boxplot(x='Mortality', y='Age', data=df)\n",
    "plt.title('Box and Whisker Plot of Age by Mortality')\n",
    "plt.xlabel('Mortality')\n",
    "plt.ylabel('Age')\n",
    "plt.show()"
   ]
  },
  {
   "cell_type": "markdown",
   "metadata": {},
   "source": [
    "### Statistical Tests"
   ]
  },
  {
   "cell_type": "markdown",
   "metadata": {},
   "source": [
    "#### Age Comparison between survivors and non-survivors "
   ]
  },
  {
   "cell_type": "code",
   "execution_count": 9,
   "metadata": {},
   "outputs": [],
   "source": [
    "# create a numpy array of the 'Age' column only for the 'Mortality' category \"Died\" assign to the variable age_died\n",
    "age_died = df[df['Mortality'] == 'Died']['Age'].to_numpy()\n",
    "\n",
    "# create a numpy array of the 'Age' column only for the 'Mortality' category \"Survived\" assign to the variable age_survived\n",
    "age_survived = df[df['Mortality'] == 'Survived']['Age'].to_numpy()"
   ]
  },
  {
   "cell_type": "code",
   "execution_count": 10,
   "metadata": {},
   "outputs": [
    {
     "data": {
      "text/plain": [
       "np.float64(0.8045888311255794)"
      ]
     },
     "execution_count": 10,
     "metadata": {},
     "output_type": "execute_result"
    }
   ],
   "source": [
    "# calculate the ratio of variances between age_died and age_survived\n",
    "age_died.var() / age_survived.var()"
   ]
  },
  {
   "cell_type": "code",
   "execution_count": 11,
   "metadata": {},
   "outputs": [
    {
     "data": {
      "text/plain": [
       "LeveneResult(statistic=np.float64(7.0145796435275225e-06), pvalue=np.float64(0.9978885101059543))"
      ]
     },
     "execution_count": 11,
     "metadata": {},
     "output_type": "execute_result"
    }
   ],
   "source": [
    "# conduct Levene's test for equality of variances\n",
    "stats.levene(age_died, age_survived)"
   ]
  },
  {
   "cell_type": "code",
   "execution_count": 12,
   "metadata": {},
   "outputs": [
    {
     "data": {
      "image/png": "[encoded data removed]",
      "text/plain": [
       "<Figure size 640x480 with 1 Axes>"
      ]
     },
     "metadata": {},
     "output_type": "display_data"
    }
   ],
   "source": [
    "# Create a QQ plot of the age_died data\n",
    "# Add the title QQ plot of Age for Died Patients\n",
    "stats.probplot(age_died, dist=\"norm\", plot=plt)\n",
    "plt.title('QQ plot of Age for Died Patients')\n",
    "plt.xlabel('Theoretical Quantiles')\n",
    "plt.ylabel('Sample Quantiles')\n",
    "plt.show()"
   ]
  },
  {
   "cell_type": "code",
   "execution_count": 13,
   "metadata": {},
   "outputs": [
    {
     "data": {
      "image/png": "[encoded data removed]",
      "text/plain": [
       "<Figure size 640x480 with 1 Axes>"
      ]
     },
     "metadata": {},
     "output_type": "display_data"
    }
   ],
   "source": [
    "\t\n",
    "# Create a QQ plot of the age_survived data\n",
    "# Add the title QQ plot of Age for Survived Patients\n",
    "stats.probplot(age_survived, dist=\"norm\", plot=plt)\n",
    "plt.title('QQ plot of Age for Survived Patients')\n",
    "plt.xlabel('Theoretical Quantiles')\n",
    "plt.ylabel('Sample Quantiles')\n",
    "plt.show()"
   ]
  },
  {
   "cell_type": "code",
   "execution_count": 14,
   "metadata": {},
   "outputs": [
    {
     "data": {
      "text/plain": [
       "ShapiroResult(statistic=np.float64(0.9420111357919863), pvalue=np.float64(0.00018938181206075024))"
      ]
     },
     "execution_count": 14,
     "metadata": {},
     "output_type": "execute_result"
    }
   ],
   "source": [
    "# Counduct a Shapiro-Wilk test for normality on the age_died data\n",
    "stats.shapiro(age_died)"
   ]
  },
  {
   "cell_type": "code",
   "execution_count": 15,
   "metadata": {},
   "outputs": [
    {
     "name": "stdout",
     "output_type": "stream",
     "text": [
      "T statistic: 5.568894557769548\n",
      "P value: 5.575021676545234e-08\n",
      "Reject the null hypothesis: there is a significant difference between the means of the two groups.\n"
     ]
    }
   ],
   "source": [
    "# Conduct a t test for equal means between the age_died and age_survived data\n",
    "# set the sigificance level to 0.05\n",
    "alpha = 0.05\n",
    "# conduct the t test\n",
    "t_stat, p_value = stats.ttest_ind(age_died, age_survived, equal_var=True)\n",
    "# print the t statistic and p value\n",
    "print(f'T statistic: {t_stat}')\n",
    "print(f'P value: {p_value}')\n",
    "# check if the p value is less than the significance level\n",
    "if p_value < alpha:\n",
    "    print('Reject the null hypothesis: there is a significant difference between the means of the two groups.')\n",
    "else:\n",
    "    print('Fail to reject the null hypothesis: there is no significant difference between the means of the two groups.')\n"
   ]
  },
  {
   "cell_type": "markdown",
   "metadata": {},
   "source": [
    "The mean age of the survivors is 54 years (SD: 0.8), while the mean age of the non-survivors is 61 years (SD: 9.7). There is enough evidence in the data at the 5% level of significance to concludde that the mean age of survivors is different from the mean age of the non-survivors. The p-value is less than 0.05, indicating a statistically significant difference in age between the two groups.\n"
   ]
  },
  {
   "cell_type": "code",
   "execution_count": 16,
   "metadata": {},
   "outputs": [
    {
     "name": "stdout",
     "output_type": "stream",
     "text": [
      "U statistic: 14709.5\n",
      "P value: 1.3213922162691065e-07\n",
      "Reject the null hypothesis: there is a significant difference between the medians of the two groups.\n"
     ]
    }
   ],
   "source": [
    "# Conduct a Mann-Whitney U test for equal medians between the age_died and age_survived data\n",
    "# set the significance level to 0.05\n",
    "alpha = 0.05\n",
    "# conduct the Mann-Whitney U test\n",
    "u_stat, p_value = stats.mannwhitneyu(age_died, age_survived, alternative='two-sided')\n",
    "# print the U statistic and p value\n",
    "print(f'U statistic: {u_stat}')\n",
    "print(f'P value: {p_value}')\n",
    "# check if the p value is less than the significance level\n",
    "if p_value < alpha:\n",
    "    print('Reject the null hypothesis: there is a significant difference between the medians of the two groups.')\n",
    "else:\n",
    "    print('Fail to reject the null hypothesis: there is no significant difference between the medians of the two groups.')\n"
   ]
  },
  {
   "cell_type": "markdown",
   "metadata": {},
   "source": [
    "The mean age of the survivors is 54 years (SD: 10.8), while the mean age of the non-survivors is 61 years (SD: 9.7). There is enough evidence in the data at the 5% level of significance to concludde that the mean age of survivors is different from the mean age of the non-survivors. Due to the violation of normality, the Mann-Whitney U test was used to compare the two groups. The p-value is less than 0.05, indicating a statistically significant difference in age between the two groups."
   ]
  },
  {
   "cell_type": "markdown",
   "metadata": {},
   "source": [
    "## Looking at two categorical variables "
   ]
  },
  {
   "cell_type": "markdown",
   "metadata": {},
   "source": [
    "#### Mortality Vs Class "
   ]
  },
  {
   "cell_type": "code",
   "execution_count": 17,
   "metadata": {},
   "outputs": [
    {
     "data": {
      "application/vnd.microsoft.datawrangler.viewer.v0+json": {
       "columns": [
        {
         "name": "Class",
         "rawType": "object",
         "type": "string"
        },
        {
         "name": "Died",
         "rawType": "int64",
         "type": "integer"
        },
        {
         "name": "Survived",
         "rawType": "int64",
         "type": "integer"
        }
       ],
       "conversionMethod": "pd.DataFrame",
       "ref": "3aeef8b0-3af8-4f68-94e0-7018a6e46d19",
       "rows": [
        [
         "Infectious",
         "49",
         "101"
        ],
        [
         "Non-infectious",
         "55",
         "106"
        ]
       ],
       "shape": {
        "columns": 2,
        "rows": 2
       }
      },
      "text/html": [
       "<div>\n",
       "<style scoped>\n",
       "    .dataframe tbody tr th:only-of-type {\n",
       "        vertical-align: middle;\n",
       "    }\n",
       "\n",
       "    .dataframe tbody tr th {\n",
       "        vertical-align: top;\n",
       "    }\n",
       "\n",
       "    .dataframe thead th {\n",
       "        text-align: right;\n",
       "    }\n",
       "</style>\n",
       "<table border=\"1\" class=\"dataframe\">\n",
       "  <thead>\n",
       "    <tr style=\"text-align: right;\">\n",
       "      <th>Mortality</th>\n",
       "      <th>Died</th>\n",
       "      <th>Survived</th>\n",
       "    </tr>\n",
       "    <tr>\n",
       "      <th>Class</th>\n",
       "      <th></th>\n",
       "      <th></th>\n",
       "    </tr>\n",
       "  </thead>\n",
       "  <tbody>\n",
       "    <tr>\n",
       "      <th>Infectious</th>\n",
       "      <td>49</td>\n",
       "      <td>101</td>\n",
       "    </tr>\n",
       "    <tr>\n",
       "      <th>Non-infectious</th>\n",
       "      <td>55</td>\n",
       "      <td>106</td>\n",
       "    </tr>\n",
       "  </tbody>\n",
       "</table>\n",
       "</div>"
      ],
      "text/plain": [
       "Mortality       Died  Survived\n",
       "Class                         \n",
       "Infectious        49       101\n",
       "Non-infectious    55       106"
      ]
     },
     "execution_count": 17,
     "metadata": {},
     "output_type": "execute_result"
    }
   ],
   "source": [
    "# Create a contigency table of the Class and Mortality columns\n",
    "pd.crosstab(df['Class'], df['Mortality'])"
   ]
  },
  {
   "cell_type": "code",
   "execution_count": 18,
   "metadata": {},
   "outputs": [
    {
     "data": {
      "application/vnd.microsoft.datawrangler.viewer.v0+json": {
       "columns": [
        {
         "name": "Class",
         "rawType": "object",
         "type": "string"
        },
        {
         "name": "Died",
         "rawType": "int64",
         "type": "integer"
        },
        {
         "name": "Survived",
         "rawType": "int64",
         "type": "integer"
        },
        {
         "name": "All",
         "rawType": "int64",
         "type": "integer"
        }
       ],
       "conversionMethod": "pd.DataFrame",
       "ref": "e1ffe98d-4376-4273-bacc-daf6c4c4d826",
       "rows": [
        [
         "Infectious",
         "49",
         "101",
         "150"
        ],
        [
         "Non-infectious",
         "55",
         "106",
         "161"
        ],
        [
         "All",
         "104",
         "207",
         "311"
        ]
       ],
       "shape": {
        "columns": 3,
        "rows": 3
       }
      },
      "text/html": [
       "<div>\n",
       "<style scoped>\n",
       "    .dataframe tbody tr th:only-of-type {\n",
       "        vertical-align: middle;\n",
       "    }\n",
       "\n",
       "    .dataframe tbody tr th {\n",
       "        vertical-align: top;\n",
       "    }\n",
       "\n",
       "    .dataframe thead th {\n",
       "        text-align: right;\n",
       "    }\n",
       "</style>\n",
       "<table border=\"1\" class=\"dataframe\">\n",
       "  <thead>\n",
       "    <tr style=\"text-align: right;\">\n",
       "      <th>Mortality</th>\n",
       "      <th>Died</th>\n",
       "      <th>Survived</th>\n",
       "      <th>All</th>\n",
       "    </tr>\n",
       "    <tr>\n",
       "      <th>Class</th>\n",
       "      <th></th>\n",
       "      <th></th>\n",
       "      <th></th>\n",
       "    </tr>\n",
       "  </thead>\n",
       "  <tbody>\n",
       "    <tr>\n",
       "      <th>Infectious</th>\n",
       "      <td>49</td>\n",
       "      <td>101</td>\n",
       "      <td>150</td>\n",
       "    </tr>\n",
       "    <tr>\n",
       "      <th>Non-infectious</th>\n",
       "      <td>55</td>\n",
       "      <td>106</td>\n",
       "      <td>161</td>\n",
       "    </tr>\n",
       "    <tr>\n",
       "      <th>All</th>\n",
       "      <td>104</td>\n",
       "      <td>207</td>\n",
       "      <td>311</td>\n",
       "    </tr>\n",
       "  </tbody>\n",
       "</table>\n",
       "</div>"
      ],
      "text/plain": [
       "Mortality       Died  Survived  All\n",
       "Class                              \n",
       "Infectious        49       101  150\n",
       "Non-infectious    55       106  161\n",
       "All              104       207  311"
      ]
     },
     "execution_count": 18,
     "metadata": {},
     "output_type": "execute_result"
    }
   ],
   "source": [
    "# add a totals row and column to the contingency table\n",
    "pd.crosstab(df['Class'], df['Mortality'], margins=True)"
   ]
  },
  {
   "cell_type": "code",
   "execution_count": 19,
   "metadata": {},
   "outputs": [
    {
     "name": "stdout",
     "output_type": "stream",
     "text": [
      "[[ 50.1607717  99.8392283]\n",
      " [ 53.8392283 107.1607717]]\n"
     ]
    }
   ],
   "source": [
    "# use the contigency table to calculate the expected frequencies\n",
    "# calculate the expected frequencies\n",
    "contingency_table = pd.crosstab(df['Class'], df['Mortality'])\n",
    "expected_frequencies = stats.contingency.expected_freq(contingency_table)\n",
    "# print the expected frequencies\n",
    "print(expected_frequencies)"
   ]
  },
  {
   "cell_type": "code",
   "execution_count": 20,
   "metadata": {},
   "outputs": [
    {
     "name": "stdout",
     "output_type": "stream",
     "text": [
      "Chi square statistic: 0.025261737710934283\n",
      "P value: 0.8737166065287936\n",
      "Degrees of freedom: 1\n",
      "Fail to reject the null hypothesis: there is no significant association between the Class and Mortality variables.\n"
     ]
    }
   ],
   "source": [
    "# conduct a chi square test for independence between the Class and Mortality columns\n",
    "chi2_stat, p_value, dof, expected = stats.chi2_contingency(contingency_table)\n",
    "# print the chi square statistic, p value, and degrees of freedom\n",
    "print(f'Chi square statistic: {chi2_stat}')\n",
    "print(f'P value: {p_value}')\n",
    "print(f'Degrees of freedom: {dof}')\n",
    "# check if the p value is less than the significance level\n",
    "alpha = 0.05\n",
    "if p_value < alpha:\n",
    "    print('Reject the null hypothesis: there is a significant association between the Class and Mortality variables.')\n",
    "else:\n",
    "    print('Fail to reject the null hypothesis: there is no significant association between the Class and Mortality variables.')\n"
   ]
  },
  {
   "cell_type": "markdown",
   "metadata": {},
   "source": [
    "## Numerical Vs. Numerical "
   ]
  },
  {
   "cell_type": "markdown",
   "metadata": {},
   "source": [
    "#### WCC vs HB "
   ]
  },
  {
   "cell_type": "code",
   "execution_count": 21,
   "metadata": {},
   "outputs": [
    {
     "data": {
      "text/plain": [
       "count    311.000000\n",
       "mean      10.286817\n",
       "std        4.023486\n",
       "min       -0.800000\n",
       "25%        7.600000\n",
       "50%       10.000000\n",
       "75%       12.650000\n",
       "max       30.800000\n",
       "Name: WCC, dtype: float64"
      ]
     },
     "execution_count": 21,
     "metadata": {},
     "output_type": "execute_result"
    }
   ],
   "source": [
    "# Summary statistics of the WCC column\n",
    "df['WCC'].describe()"
   ]
  },
  {
   "cell_type": "code",
   "execution_count": 22,
   "metadata": {},
   "outputs": [
    {
     "data": {
      "text/plain": [
       "count    311.000000\n",
       "mean      13.529260\n",
       "std        2.459835\n",
       "min        4.900000\n",
       "25%       11.950000\n",
       "50%       13.600000\n",
       "75%       15.150000\n",
       "max       20.200000\n",
       "Name: HB, dtype: float64"
      ]
     },
     "execution_count": 22,
     "metadata": {},
     "output_type": "execute_result"
    }
   ],
   "source": [
    "# summary statistics of the HB column\n",
    "df['HB'].describe()"
   ]
  },
  {
   "cell_type": "code",
   "execution_count": 23,
   "metadata": {},
   "outputs": [
    {
     "name": "stdout",
     "output_type": "stream",
     "text": [
      "Correlation coefficient: -0.15112591679462978\n",
      "P value: 0.007590698508170839\n",
      "Reject the null hypothesis: there is a significant correlation between the WCC and HB variables.\n"
     ]
    }
   ],
   "source": [
    "# conduct a pearson correlation test between the WCC and HB columns\n",
    "correlation, p_value = stats.pearsonr(df['WCC'], df['HB'])\n",
    "# print the correlation coefficient and p value\n",
    "print(f'Correlation coefficient: {correlation}')\n",
    "print(f'P value: {p_value}')\n",
    "# check if the p value is less than the significance level\n",
    "alpha = 0.05\n",
    "if p_value < alpha:\n",
    "    print('Reject the null hypothesis: there is a significant correlation between the WCC and HB variables.')\n",
    "else:\n",
    "    print('Fail to reject the null hypothesis: there is no significant correlation between the WCC and HB variables.')\n"
   ]
  },
  {
   "cell_type": "code",
   "execution_count": 24,
   "metadata": {},
   "outputs": [
    {
     "data": {
      "image/png": "[encoded data removed]",
      "text/plain": [
       "<Figure size 640x480 with 1 Axes>"
      ]
     },
     "metadata": {},
     "output_type": "display_data"
    }
   ],
   "source": [
    "# make a scatter plot of the WCC and HB columns with a regression line\n",
    "sns.regplot(x='WCC', y='HB', data=df)\n",
    "plt.title('Scatter plot of WCC and HB with Regression Line')\n",
    "plt.xlabel('WCC')\n",
    "plt.ylabel('HB')\n",
    "plt.show()"
   ]
  }
 ],
 "metadata": {
  "kernelspec": {
   "display_name": ".venv",
   "language": "python",
   "name": "python3"
  },
  "language_info": {
   "codemirror_mode": {
    "name": "ipython",
    "version": 3
   },
   "file_extension": ".py",
   "mimetype": "text/x-python",
   "name": "python",
   "nbconvert_exporter": "python",
   "pygments_lexer": "ipython3",
   "version": "3.9.6"
  }
 },
 "nbformat": 4,
 "nbformat_minor": 2
}
