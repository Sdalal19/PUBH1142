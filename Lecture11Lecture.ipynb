{
 "cells": [
  {
   "cell_type": "markdown",
   "metadata": {},
   "source": [
    "# Distributions"
   ]
  },
  {
   "cell_type": "code",
   "execution_count": 20,
   "metadata": {},
   "outputs": [],
   "source": [
    "import numpy\n",
    "from plotly import graph_objects, figure_factory\n",
    "import pandas\n",
    "from scipy import stats"
   ]
  },
  {
   "cell_type": "markdown",
   "metadata": {},
   "source": [
    "# Discrete Random Variable"
   ]
  },
  {
   "cell_type": "code",
   "execution_count": 21,
   "metadata": {},
   "outputs": [],
   "source": [
    "# Seed the random number generator with a known value\n",
    "numpy.random.seed(28)"
   ]
  },
  {
   "cell_type": "code",
   "execution_count": 22,
   "metadata": {},
   "outputs": [],
   "source": [
    "# Create a empty list named \"results\" to store the results\n",
    "results = []"
   ]
  },
  {
   "cell_type": "code",
   "execution_count": 23,
   "metadata": {},
   "outputs": [],
   "source": [
    "# Create a for loop to roll the dice 1000 times\n",
    "for _ in range(1000):\n",
    "    results.append(numpy.random.randint(1, 7) + numpy.random.randint(1, 7))"
   ]
  },
  {
   "cell_type": "code",
   "execution_count": 24,
   "metadata": {},
   "outputs": [],
   "source": [
    "# Seed the random number generator with a known value\n",
    "numpy.random.seed(0)\n",
    "\n",
    "# Select two ramdom integers between 1 and 6 and add them\n",
    "def roll_dice():\n",
    "    return numpy.random.randint(1, 7) + numpy.random.randint(1, 7)\n",
    "\n",
    "# Roll the dice 1000 times and store the results\n",
    "rolls = [roll_dice() for _ in range(1000)]"
   ]
  },
  {
   "cell_type": "code",
   "execution_count": 25,
   "metadata": {},
   "outputs": [],
   "source": [
    "# Convert the numpy array to a pandas DataFrame\n",
    "results = pandas.DataFrame(results, columns=['Value'])"
   ]
  },
  {
   "cell_type": "code",
   "execution_count": 26,
   "metadata": {},
   "outputs": [
    {
     "name": "stdout",
     "output_type": "stream",
     "text": [
      "       count\n",
      "Value       \n",
      "2         24\n",
      "3         39\n",
      "4         93\n",
      "5        108\n",
      "6        121\n",
      "7        183\n",
      "8        152\n",
      "9        105\n",
      "10       103\n",
      "11        53\n",
      "12        19\n"
     ]
    }
   ],
   "source": [
    "# Create a DataFrame object from the value counts and sort the index\n",
    "value_counts = pandas.DataFrame(results['Value'].value_counts()).sort_index()\n",
    "\n",
    "# Print the series object to the screen\n",
    "print(value_counts)"
   ]
  },
  {
   "cell_type": "code",
   "execution_count": 32,
   "metadata": {},
   "outputs": [],
   "source": [
    "# Create a bar chart of the value counts\n",
    "fig = go.Figure(\n",
    "    go.Bar(\n",
    "        x=value_counts.index.to_list(),  # Convert index to a list for x-axis\n",
    "        y=value_counts.values[:, 0],    # Use the first column of values for y-axis\n",
    "        text=value_counts.values[:, 0], # Display counts as text on bars\n",
    "        textposition='auto'             # Automatically position the text\n",
    "    )\n",
    ")"
   ]
  },
  {
   "cell_type": "code",
   "execution_count": 39,
   "metadata": {},
   "outputs": [
    {
     "name": "stdout",
     "output_type": "stream",
     "text": [
      "Collecting nbformat\n",
      "  Downloading nbformat-5.10.4-py3-none-any.whl.metadata (3.6 kB)\n",
      "Collecting fastjsonschema>=2.15 (from nbformat)\n",
      "  Downloading fastjsonschema-2.21.1-py3-none-any.whl.metadata (2.2 kB)\n",
      "Collecting jsonschema>=2.6 (from nbformat)\n",
      "  Downloading jsonschema-4.23.0-py3-none-any.whl.metadata (7.9 kB)\n",
      "Requirement already satisfied: jupyter-core!=5.0.*,>=4.12 in ./.venv/lib/python3.9/site-packages (from nbformat) (5.7.2)\n",
      "Requirement already satisfied: traitlets>=5.1 in ./.venv/lib/python3.9/site-packages (from nbformat) (5.14.3)\n",
      "Collecting attrs>=22.2.0 (from jsonschema>=2.6->nbformat)\n",
      "  Downloading attrs-25.3.0-py3-none-any.whl.metadata (10 kB)\n",
      "Collecting jsonschema-specifications>=2023.03.6 (from jsonschema>=2.6->nbformat)\n",
      "  Downloading jsonschema_specifications-2024.10.1-py3-none-any.whl.metadata (3.0 kB)\n",
      "Collecting referencing>=0.28.4 (from jsonschema>=2.6->nbformat)\n",
      "  Downloading referencing-0.36.2-py3-none-any.whl.metadata (2.8 kB)\n",
      "Collecting rpds-py>=0.7.1 (from jsonschema>=2.6->nbformat)\n",
      "  Downloading rpds_py-0.24.0-cp39-cp39-macosx_11_0_arm64.whl.metadata (4.1 kB)\n",
      "Requirement already satisfied: platformdirs>=2.5 in ./.venv/lib/python3.9/site-packages (from jupyter-core!=5.0.*,>=4.12->nbformat) (4.3.6)\n",
      "Requirement already satisfied: typing-extensions>=4.4.0 in ./.venv/lib/python3.9/site-packages (from referencing>=0.28.4->jsonschema>=2.6->nbformat) (4.12.2)\n",
      "Downloading nbformat-5.10.4-py3-none-any.whl (78 kB)\n",
      "Downloading fastjsonschema-2.21.1-py3-none-any.whl (23 kB)\n",
      "Downloading jsonschema-4.23.0-py3-none-any.whl (88 kB)\n",
      "Downloading attrs-25.3.0-py3-none-any.whl (63 kB)\n",
      "Downloading jsonschema_specifications-2024.10.1-py3-none-any.whl (18 kB)\n",
      "Downloading referencing-0.36.2-py3-none-any.whl (26 kB)\n",
      "Downloading rpds_py-0.24.0-cp39-cp39-macosx_11_0_arm64.whl (362 kB)\n",
      "Installing collected packages: fastjsonschema, rpds-py, attrs, referencing, jsonschema-specifications, jsonschema, nbformat\n",
      "Successfully installed attrs-25.3.0 fastjsonschema-2.21.1 jsonschema-4.23.0 jsonschema-specifications-2024.10.1 nbformat-5.10.4 referencing-0.36.2 rpds-py-0.24.0\n",
      "\n",
      "\u001b[1m[\u001b[0m\u001b[34;49mnotice\u001b[0m\u001b[1;39;49m]\u001b[0m\u001b[39;49m A new release of pip is available: \u001b[0m\u001b[31;49m25.0\u001b[0m\u001b[39;49m -> \u001b[0m\u001b[32;49m25.0.1\u001b[0m\n",
      "\u001b[1m[\u001b[0m\u001b[34;49mnotice\u001b[0m\u001b[1;39;49m]\u001b[0m\u001b[39;49m To update, run: \u001b[0m\u001b[32;49mpip install --upgrade pip\u001b[0m\n",
      "Note: you may need to restart the kernel to use updated packages.\n"
     ]
    }
   ],
   "source": [
    "pip install --upgrade nbformat\n"
   ]
  },
  {
   "cell_type": "code",
   "execution_count": 41,
   "metadata": {},
   "outputs": [
    {
     "name": "stdout",
     "output_type": "stream",
     "text": [
      "Name: nbformat\n",
      "Version: 5.10.4\n",
      "Summary: The Jupyter Notebook format\n",
      "Home-page: https://jupyter.org\n",
      "Author: \n",
      "Author-email: Jupyter Development Team <jupyter@googlegroups.com>\n",
      "License: BSD 3-Clause License\n",
      "        \n",
      "        - Copyright (c) 2001-2015, IPython Development Team\n",
      "        - Copyright (c) 2015-, Jupyter Development Team\n",
      "        \n",
      "        All rights reserved.\n",
      "        \n",
      "        Redistribution and use in source and binary forms, with or without\n",
      "        modification, are permitted provided that the following conditions are met:\n",
      "        \n",
      "        1. Redistributions of source code must retain the above copyright notice, this\n",
      "           list of conditions and the following disclaimer.\n",
      "        \n",
      "        2. Redistributions in binary form must reproduce the above copyright notice,\n",
      "           this list of conditions and the following disclaimer in the documentation\n",
      "           and/or other materials provided with the distribution.\n",
      "        \n",
      "        3. Neither the name of the copyright holder nor the names of its\n",
      "           contributors may be used to endorse or promote products derived from\n",
      "           this software without specific prior written permission.\n",
      "        \n",
      "        THIS SOFTWARE IS PROVIDED BY THE COPYRIGHT HOLDERS AND CONTRIBUTORS \"AS IS\"\n",
      "        AND ANY EXPRESS OR IMPLIED WARRANTIES, INCLUDING, BUT NOT LIMITED TO, THE\n",
      "        IMPLIED WARRANTIES OF MERCHANTABILITY AND FITNESS FOR A PARTICULAR PURPOSE ARE\n",
      "        DISCLAIMED. IN NO EVENT SHALL THE COPYRIGHT HOLDER OR CONTRIBUTORS BE LIABLE\n",
      "        FOR ANY DIRECT, INDIRECT, INCIDENTAL, SPECIAL, EXEMPLARY, OR CONSEQUENTIAL\n",
      "        DAMAGES (INCLUDING, BUT NOT LIMITED TO, PROCUREMENT OF SUBSTITUTE GOODS OR\n",
      "        SERVICES; LOSS OF USE, DATA, OR PROFITS; OR BUSINESS INTERRUPTION) HOWEVER\n",
      "        CAUSED AND ON ANY THEORY OF LIABILITY, WHETHER IN CONTRACT, STRICT LIABILITY,\n",
      "        OR TORT (INCLUDING NEGLIGENCE OR OTHERWISE) ARISING IN ANY WAY OUT OF THE USE\n",
      "        OF THIS SOFTWARE, EVEN IF ADVISED OF THE POSSIBILITY OF SUCH DAMAGE.\n",
      "Location: /Users/sophiadalal/Desktop/Health Data Science /.venv/lib/python3.9/site-packages\n",
      "Requires: fastjsonschema, jsonschema, jupyter-core, traitlets\n",
      "Required-by: \n",
      "Note: you may need to restart the kernel to use updated packages.\n"
     ]
    }
   ],
   "source": [
    "pip show nbformat"
   ]
  },
  {
   "cell_type": "code",
   "execution_count": 46,
   "metadata": {},
   "outputs": [
    {
     "name": "stdout",
     "output_type": "stream",
     "text": [
      "Requirement already satisfied: pip in ./.venv/lib/python3.9/site-packages (25.0)\n",
      "Collecting pip\n",
      "  Downloading pip-25.0.1-py3-none-any.whl.metadata (3.7 kB)\n",
      "Downloading pip-25.0.1-py3-none-any.whl (1.8 MB)\n",
      "\u001b[2K   \u001b[90m━━━━━━━━━━━━━━━━━━━━━━━━━━━━━━━━━━━━━━━━\u001b[0m \u001b[32m1.8/1.8 MB\u001b[0m \u001b[31m19.6 MB/s\u001b[0m eta \u001b[36m0:00:00\u001b[0m\n",
      "\u001b[?25hInstalling collected packages: pip\n",
      "  Attempting uninstall: pip\n",
      "    Found existing installation: pip 25.0\n",
      "    Uninstalling pip-25.0:\n",
      "      Successfully uninstalled pip-25.0\n",
      "Successfully installed pip-25.0.1\n",
      "Note: you may need to restart the kernel to use updated packages.\n"
     ]
    }
   ],
   "source": [
    "pip install --upgrade pip\n"
   ]
  },
  {
   "cell_type": "code",
   "execution_count": 47,
   "metadata": {},
   "outputs": [
    {
     "name": "stdout",
     "output_type": "stream",
     "text": [
      "Name: nbformat\n",
      "Version: 5.10.4\n",
      "Summary: The Jupyter Notebook format\n",
      "Home-page: https://jupyter.org\n",
      "Author: \n",
      "Author-email: Jupyter Development Team <jupyter@googlegroups.com>\n",
      "License: BSD 3-Clause License\n",
      "        \n",
      "        - Copyright (c) 2001-2015, IPython Development Team\n",
      "        - Copyright (c) 2015-, Jupyter Development Team\n",
      "        \n",
      "        All rights reserved.\n",
      "        \n",
      "        Redistribution and use in source and binary forms, with or without\n",
      "        modification, are permitted provided that the following conditions are met:\n",
      "        \n",
      "        1. Redistributions of source code must retain the above copyright notice, this\n",
      "           list of conditions and the following disclaimer.\n",
      "        \n",
      "        2. Redistributions in binary form must reproduce the above copyright notice,\n",
      "           this list of conditions and the following disclaimer in the documentation\n",
      "           and/or other materials provided with the distribution.\n",
      "        \n",
      "        3. Neither the name of the copyright holder nor the names of its\n",
      "           contributors may be used to endorse or promote products derived from\n",
      "           this software without specific prior written permission.\n",
      "        \n",
      "        THIS SOFTWARE IS PROVIDED BY THE COPYRIGHT HOLDERS AND CONTRIBUTORS \"AS IS\"\n",
      "        AND ANY EXPRESS OR IMPLIED WARRANTIES, INCLUDING, BUT NOT LIMITED TO, THE\n",
      "        IMPLIED WARRANTIES OF MERCHANTABILITY AND FITNESS FOR A PARTICULAR PURPOSE ARE\n",
      "        DISCLAIMED. IN NO EVENT SHALL THE COPYRIGHT HOLDER OR CONTRIBUTORS BE LIABLE\n",
      "        FOR ANY DIRECT, INDIRECT, INCIDENTAL, SPECIAL, EXEMPLARY, OR CONSEQUENTIAL\n",
      "        DAMAGES (INCLUDING, BUT NOT LIMITED TO, PROCUREMENT OF SUBSTITUTE GOODS OR\n",
      "        SERVICES; LOSS OF USE, DATA, OR PROFITS; OR BUSINESS INTERRUPTION) HOWEVER\n",
      "        CAUSED AND ON ANY THEORY OF LIABILITY, WHETHER IN CONTRACT, STRICT LIABILITY,\n",
      "        OR TORT (INCLUDING NEGLIGENCE OR OTHERWISE) ARISING IN ANY WAY OUT OF THE USE\n",
      "        OF THIS SOFTWARE, EVEN IF ADVISED OF THE POSSIBILITY OF SUCH DAMAGE.\n",
      "Location: /Users/sophiadalal/Desktop/Health Data Science /.venv/lib/python3.9/site-packages\n",
      "Requires: fastjsonschema, jsonschema, jupyter-core, traitlets\n",
      "Required-by: \n",
      "Note: you may need to restart the kernel to use updated packages.\n"
     ]
    }
   ],
   "source": [
    "pip show nbformat"
   ]
  },
  {
   "cell_type": "code",
   "execution_count": 49,
   "metadata": {},
   "outputs": [],
   "source": [
    "# Create a bar chart of the value counts\n",
    "fig = graph_objects.Figure(\n",
    "    graph_objects.Bar(\n",
    "        x=value_counts.index.to_list(),\n",
    "        y=value_counts.values[:, 0],\n",
    "        text=value_counts.values[:, 0],\n",
    "        textposition='auto'\n",
    "    )\n",
    ")"
   ]
  },
  {
   "cell_type": "code",
   "execution_count": 50,
   "metadata": {},
   "outputs": [
    {
     "ename": "ValueError",
     "evalue": "Mime type rendering requires nbformat>=4.2.0 but it is not installed",
     "output_type": "error",
     "traceback": [
      "\u001b[0;31m---------------------------------------------------------------------------\u001b[0m",
      "\u001b[0;31mValueError\u001b[0m                                Traceback (most recent call last)",
      "File \u001b[0;32m~/Desktop/Health Data Science /.venv/lib/python3.9/site-packages/IPython/core/formatters.py:922\u001b[0m, in \u001b[0;36mIPythonDisplayFormatter.__call__\u001b[0;34m(self, obj)\u001b[0m\n\u001b[1;32m    920\u001b[0m method \u001b[38;5;241m=\u001b[39m get_real_method(obj, \u001b[38;5;28mself\u001b[39m\u001b[38;5;241m.\u001b[39mprint_method)\n\u001b[1;32m    921\u001b[0m \u001b[38;5;28;01mif\u001b[39;00m method \u001b[38;5;129;01mis\u001b[39;00m \u001b[38;5;129;01mnot\u001b[39;00m \u001b[38;5;28;01mNone\u001b[39;00m:\n\u001b[0;32m--> 922\u001b[0m     \u001b[43mmethod\u001b[49m\u001b[43m(\u001b[49m\u001b[43m)\u001b[49m\n\u001b[1;32m    923\u001b[0m     \u001b[38;5;28;01mreturn\u001b[39;00m \u001b[38;5;28;01mTrue\u001b[39;00m\n",
      "File \u001b[0;32m~/Desktop/Health Data Science /.venv/lib/python3.9/site-packages/plotly/basedatatypes.py:833\u001b[0m, in \u001b[0;36mBaseFigure._ipython_display_\u001b[0;34m(self)\u001b[0m\n\u001b[1;32m    830\u001b[0m \u001b[38;5;28;01mimport\u001b[39;00m\u001b[38;5;250m \u001b[39m\u001b[38;5;21;01mplotly\u001b[39;00m\u001b[38;5;21;01m.\u001b[39;00m\u001b[38;5;21;01mio\u001b[39;00m\u001b[38;5;250m \u001b[39m\u001b[38;5;28;01mas\u001b[39;00m\u001b[38;5;250m \u001b[39m\u001b[38;5;21;01mpio\u001b[39;00m\n\u001b[1;32m    832\u001b[0m \u001b[38;5;28;01mif\u001b[39;00m pio\u001b[38;5;241m.\u001b[39mrenderers\u001b[38;5;241m.\u001b[39mrender_on_display \u001b[38;5;129;01mand\u001b[39;00m pio\u001b[38;5;241m.\u001b[39mrenderers\u001b[38;5;241m.\u001b[39mdefault:\n\u001b[0;32m--> 833\u001b[0m     \u001b[43mpio\u001b[49m\u001b[38;5;241;43m.\u001b[39;49m\u001b[43mshow\u001b[49m\u001b[43m(\u001b[49m\u001b[38;5;28;43mself\u001b[39;49m\u001b[43m)\u001b[49m\n\u001b[1;32m    834\u001b[0m \u001b[38;5;28;01melse\u001b[39;00m:\n\u001b[1;32m    835\u001b[0m     \u001b[38;5;28mprint\u001b[39m(\u001b[38;5;28mrepr\u001b[39m(\u001b[38;5;28mself\u001b[39m))\n",
      "File \u001b[0;32m~/Desktop/Health Data Science /.venv/lib/python3.9/site-packages/plotly/io/_renderers.py:425\u001b[0m, in \u001b[0;36mshow\u001b[0;34m(fig, renderer, validate, **kwargs)\u001b[0m\n\u001b[1;32m    420\u001b[0m     \u001b[38;5;28;01mraise\u001b[39;00m \u001b[38;5;167;01mValueError\u001b[39;00m(\n\u001b[1;32m    421\u001b[0m         \u001b[38;5;124m\"\u001b[39m\u001b[38;5;124mMime type rendering requires ipython but it is not installed\u001b[39m\u001b[38;5;124m\"\u001b[39m\n\u001b[1;32m    422\u001b[0m     )\n\u001b[1;32m    424\u001b[0m \u001b[38;5;28;01mif\u001b[39;00m \u001b[38;5;129;01mnot\u001b[39;00m nbformat \u001b[38;5;129;01mor\u001b[39;00m Version(nbformat\u001b[38;5;241m.\u001b[39m__version__) \u001b[38;5;241m<\u001b[39m Version(\u001b[38;5;124m\"\u001b[39m\u001b[38;5;124m4.2.0\u001b[39m\u001b[38;5;124m\"\u001b[39m):\n\u001b[0;32m--> 425\u001b[0m     \u001b[38;5;28;01mraise\u001b[39;00m \u001b[38;5;167;01mValueError\u001b[39;00m(\n\u001b[1;32m    426\u001b[0m         \u001b[38;5;124m\"\u001b[39m\u001b[38;5;124mMime type rendering requires nbformat>=4.2.0 but it is not installed\u001b[39m\u001b[38;5;124m\"\u001b[39m\n\u001b[1;32m    427\u001b[0m     )\n\u001b[1;32m    429\u001b[0m display_jupyter_version_warnings()\n\u001b[1;32m    431\u001b[0m ipython_display\u001b[38;5;241m.\u001b[39mdisplay(bundle, raw\u001b[38;5;241m=\u001b[39m\u001b[38;5;28;01mTrue\u001b[39;00m)\n",
      "\u001b[0;31mValueError\u001b[0m: Mime type rendering requires nbformat>=4.2.0 but it is not installed"
     ]
    },
    {
     "data": {
      "application/vnd.plotly.v1+json": {
       "config": {
        "plotlyServerURL": "https://plot.ly"
       },
       "data": [
        {
         "text": {
          "bdata": "AAAAAAAAOEAAAAAAAIBDQAAAAAAAQFdAAAAAAAAAW0AAAAAAAEBeQAAAAAAA4GZAAAAAAAAAY0AAAAAAAEBaQAAAAAAAwFlAAAAAAACASkAAAAAAAAAzQA==",
          "dtype": "f8"
         },
         "textposition": "auto",
         "type": "bar",
         "x": [
          2,
          3,
          4,
          5,
          6,
          7,
          8,
          9,
          10,
          11,
          12
         ],
         "y": {
          "bdata": "GAAnAF0AbAB5ALcAmABpAGcANQATAA==",
          "dtype": "i2"
         }
        }
       ],
       "layout": {
        "template": {
         "data": {
          "bar": [
           {
            "error_x": {
             "color": "#2a3f5f"
            },
            "error_y": {
             "color": "#2a3f5f"
            },
            "marker": {
             "line": {
              "color": "#E5ECF6",
              "width": 0.5
             },
             "pattern": {
              "fillmode": "overlay",
              "size": 10,
              "solidity": 0.2
             }
            },
            "type": "bar"
           }
          ],
          "barpolar": [
           {
            "marker": {
             "line": {
              "color": "#E5ECF6",
              "width": 0.5
             },
             "pattern": {
              "fillmode": "overlay",
              "size": 10,
              "solidity": 0.2
             }
            },
            "type": "barpolar"
           }
          ],
          "carpet": [
           {
            "aaxis": {
             "endlinecolor": "#2a3f5f",
             "gridcolor": "white",
             "linecolor": "white",
             "minorgridcolor": "white",
             "startlinecolor": "#2a3f5f"
            },
            "baxis": {
             "endlinecolor": "#2a3f5f",
             "gridcolor": "white",
             "linecolor": "white",
             "minorgridcolor": "white",
             "startlinecolor": "#2a3f5f"
            },
            "type": "carpet"
           }
          ],
          "choropleth": [
           {
            "colorbar": {
             "outlinewidth": 0,
             "ticks": ""
            },
            "type": "choropleth"
           }
          ],
          "contour": [
           {
            "colorbar": {
             "outlinewidth": 0,
             "ticks": ""
            },
            "colorscale": [
             [
              0,
              "#0d0887"
             ],
             [
              0.1111111111111111,
              "#46039f"
             ],
             [
              0.2222222222222222,
              "#7201a8"
             ],
             [
              0.3333333333333333,
              "#9c179e"
             ],
             [
              0.4444444444444444,
              "#bd3786"
             ],
             [
              0.5555555555555556,
              "#d8576b"
             ],
             [
              0.6666666666666666,
              "#ed7953"
             ],
             [
              0.7777777777777778,
              "#fb9f3a"
             ],
             [
              0.8888888888888888,
              "#fdca26"
             ],
             [
              1,
              "#f0f921"
             ]
            ],
            "type": "contour"
           }
          ],
          "contourcarpet": [
           {
            "colorbar": {
             "outlinewidth": 0,
             "ticks": ""
            },
            "type": "contourcarpet"
           }
          ],
          "heatmap": [
           {
            "colorbar": {
             "outlinewidth": 0,
             "ticks": ""
            },
            "colorscale": [
             [
              0,
              "#0d0887"
             ],
             [
              0.1111111111111111,
              "#46039f"
             ],
             [
              0.2222222222222222,
              "#7201a8"
             ],
             [
              0.3333333333333333,
              "#9c179e"
             ],
             [
              0.4444444444444444,
              "#bd3786"
             ],
             [
              0.5555555555555556,
              "#d8576b"
             ],
             [
              0.6666666666666666,
              "#ed7953"
             ],
             [
              0.7777777777777778,
              "#fb9f3a"
             ],
             [
              0.8888888888888888,
              "#fdca26"
             ],
             [
              1,
              "#f0f921"
             ]
            ],
            "type": "heatmap"
           }
          ],
          "histogram": [
           {
            "marker": {
             "pattern": {
              "fillmode": "overlay",
              "size": 10,
              "solidity": 0.2
             }
            },
            "type": "histogram"
           }
          ],
          "histogram2d": [
           {
            "colorbar": {
             "outlinewidth": 0,
             "ticks": ""
            },
            "colorscale": [
             [
              0,
              "#0d0887"
             ],
             [
              0.1111111111111111,
              "#46039f"
             ],
             [
              0.2222222222222222,
              "#7201a8"
             ],
             [
              0.3333333333333333,
              "#9c179e"
             ],
             [
              0.4444444444444444,
              "#bd3786"
             ],
             [
              0.5555555555555556,
              "#d8576b"
             ],
             [
              0.6666666666666666,
              "#ed7953"
             ],
             [
              0.7777777777777778,
              "#fb9f3a"
             ],
             [
              0.8888888888888888,
              "#fdca26"
             ],
             [
              1,
              "#f0f921"
             ]
            ],
            "type": "histogram2d"
           }
          ],
          "histogram2dcontour": [
           {
            "colorbar": {
             "outlinewidth": 0,
             "ticks": ""
            },
            "colorscale": [
             [
              0,
              "#0d0887"
             ],
             [
              0.1111111111111111,
              "#46039f"
             ],
             [
              0.2222222222222222,
              "#7201a8"
             ],
             [
              0.3333333333333333,
              "#9c179e"
             ],
             [
              0.4444444444444444,
              "#bd3786"
             ],
             [
              0.5555555555555556,
              "#d8576b"
             ],
             [
              0.6666666666666666,
              "#ed7953"
             ],
             [
              0.7777777777777778,
              "#fb9f3a"
             ],
             [
              0.8888888888888888,
              "#fdca26"
             ],
             [
              1,
              "#f0f921"
             ]
            ],
            "type": "histogram2dcontour"
           }
          ],
          "mesh3d": [
           {
            "colorbar": {
             "outlinewidth": 0,
             "ticks": ""
            },
            "type": "mesh3d"
           }
          ],
          "parcoords": [
           {
            "line": {
             "colorbar": {
              "outlinewidth": 0,
              "ticks": ""
             }
            },
            "type": "parcoords"
           }
          ],
          "pie": [
           {
            "automargin": true,
            "type": "pie"
           }
          ],
          "scatter": [
           {
            "fillpattern": {
             "fillmode": "overlay",
             "size": 10,
             "solidity": 0.2
            },
            "type": "scatter"
           }
          ],
          "scatter3d": [
           {
            "line": {
             "colorbar": {
              "outlinewidth": 0,
              "ticks": ""
             }
            },
            "marker": {
             "colorbar": {
              "outlinewidth": 0,
              "ticks": ""
             }
            },
            "type": "scatter3d"
           }
          ],
          "scattercarpet": [
           {
            "marker": {
             "colorbar": {
              "outlinewidth": 0,
              "ticks": ""
             }
            },
            "type": "scattercarpet"
           }
          ],
          "scattergeo": [
           {
            "marker": {
             "colorbar": {
              "outlinewidth": 0,
              "ticks": ""
             }
            },
            "type": "scattergeo"
           }
          ],
          "scattergl": [
           {
            "marker": {
             "colorbar": {
              "outlinewidth": 0,
              "ticks": ""
             }
            },
            "type": "scattergl"
           }
          ],
          "scattermap": [
           {
            "marker": {
             "colorbar": {
              "outlinewidth": 0,
              "ticks": ""
             }
            },
            "type": "scattermap"
           }
          ],
          "scattermapbox": [
           {
            "marker": {
             "colorbar": {
              "outlinewidth": 0,
              "ticks": ""
             }
            },
            "type": "scattermapbox"
           }
          ],
          "scatterpolar": [
           {
            "marker": {
             "colorbar": {
              "outlinewidth": 0,
              "ticks": ""
             }
            },
            "type": "scatterpolar"
           }
          ],
          "scatterpolargl": [
           {
            "marker": {
             "colorbar": {
              "outlinewidth": 0,
              "ticks": ""
             }
            },
            "type": "scatterpolargl"
           }
          ],
          "scatterternary": [
           {
            "marker": {
             "colorbar": {
              "outlinewidth": 0,
              "ticks": ""
             }
            },
            "type": "scatterternary"
           }
          ],
          "surface": [
           {
            "colorbar": {
             "outlinewidth": 0,
             "ticks": ""
            },
            "colorscale": [
             [
              0,
              "#0d0887"
             ],
             [
              0.1111111111111111,
              "#46039f"
             ],
             [
              0.2222222222222222,
              "#7201a8"
             ],
             [
              0.3333333333333333,
              "#9c179e"
             ],
             [
              0.4444444444444444,
              "#bd3786"
             ],
             [
              0.5555555555555556,
              "#d8576b"
             ],
             [
              0.6666666666666666,
              "#ed7953"
             ],
             [
              0.7777777777777778,
              "#fb9f3a"
             ],
             [
              0.8888888888888888,
              "#fdca26"
             ],
             [
              1,
              "#f0f921"
             ]
            ],
            "type": "surface"
           }
          ],
          "table": [
           {
            "cells": {
             "fill": {
              "color": "#EBF0F8"
             },
             "line": {
              "color": "white"
             }
            },
            "header": {
             "fill": {
              "color": "#C8D4E3"
             },
             "line": {
              "color": "white"
             }
            },
            "type": "table"
           }
          ]
         },
         "layout": {
          "annotationdefaults": {
           "arrowcolor": "#2a3f5f",
           "arrowhead": 0,
           "arrowwidth": 1
          },
          "autotypenumbers": "strict",
          "coloraxis": {
           "colorbar": {
            "outlinewidth": 0,
            "ticks": ""
           }
          },
          "colorscale": {
           "diverging": [
            [
             0,
             "#8e0152"
            ],
            [
             0.1,
             "#c51b7d"
            ],
            [
             0.2,
             "#de77ae"
            ],
            [
             0.3,
             "#f1b6da"
            ],
            [
             0.4,
             "#fde0ef"
            ],
            [
             0.5,
             "#f7f7f7"
            ],
            [
             0.6,
             "#e6f5d0"
            ],
            [
             0.7,
             "#b8e186"
            ],
            [
             0.8,
             "#7fbc41"
            ],
            [
             0.9,
             "#4d9221"
            ],
            [
             1,
             "#276419"
            ]
           ],
           "sequential": [
            [
             0,
             "#0d0887"
            ],
            [
             0.1111111111111111,
             "#46039f"
            ],
            [
             0.2222222222222222,
             "#7201a8"
            ],
            [
             0.3333333333333333,
             "#9c179e"
            ],
            [
             0.4444444444444444,
             "#bd3786"
            ],
            [
             0.5555555555555556,
             "#d8576b"
            ],
            [
             0.6666666666666666,
             "#ed7953"
            ],
            [
             0.7777777777777778,
             "#fb9f3a"
            ],
            [
             0.8888888888888888,
             "#fdca26"
            ],
            [
             1,
             "#f0f921"
            ]
           ],
           "sequentialminus": [
            [
             0,
             "#0d0887"
            ],
            [
             0.1111111111111111,
             "#46039f"
            ],
            [
             0.2222222222222222,
             "#7201a8"
            ],
            [
             0.3333333333333333,
             "#9c179e"
            ],
            [
             0.4444444444444444,
             "#bd3786"
            ],
            [
             0.5555555555555556,
             "#d8576b"
            ],
            [
             0.6666666666666666,
             "#ed7953"
            ],
            [
             0.7777777777777778,
             "#fb9f3a"
            ],
            [
             0.8888888888888888,
             "#fdca26"
            ],
            [
             1,
             "#f0f921"
            ]
           ]
          },
          "colorway": [
           "#636efa",
           "#EF553B",
           "#00cc96",
           "#ab63fa",
           "#FFA15A",
           "#19d3f3",
           "#FF6692",
           "#B6E880",
           "#FF97FF",
           "#FECB52"
          ],
          "font": {
           "color": "#2a3f5f"
          },
          "geo": {
           "bgcolor": "white",
           "lakecolor": "white",
           "landcolor": "#E5ECF6",
           "showlakes": true,
           "showland": true,
           "subunitcolor": "white"
          },
          "hoverlabel": {
           "align": "left"
          },
          "hovermode": "closest",
          "mapbox": {
           "style": "light"
          },
          "paper_bgcolor": "white",
          "plot_bgcolor": "#E5ECF6",
          "polar": {
           "angularaxis": {
            "gridcolor": "white",
            "linecolor": "white",
            "ticks": ""
           },
           "bgcolor": "#E5ECF6",
           "radialaxis": {
            "gridcolor": "white",
            "linecolor": "white",
            "ticks": ""
           }
          },
          "scene": {
           "xaxis": {
            "backgroundcolor": "#E5ECF6",
            "gridcolor": "white",
            "gridwidth": 2,
            "linecolor": "white",
            "showbackground": true,
            "ticks": "",
            "zerolinecolor": "white"
           },
           "yaxis": {
            "backgroundcolor": "#E5ECF6",
            "gridcolor": "white",
            "gridwidth": 2,
            "linecolor": "white",
            "showbackground": true,
            "ticks": "",
            "zerolinecolor": "white"
           },
           "zaxis": {
            "backgroundcolor": "#E5ECF6",
            "gridcolor": "white",
            "gridwidth": 2,
            "linecolor": "white",
            "showbackground": true,
            "ticks": "",
            "zerolinecolor": "white"
           }
          },
          "shapedefaults": {
           "line": {
            "color": "#2a3f5f"
           }
          },
          "ternary": {
           "aaxis": {
            "gridcolor": "white",
            "linecolor": "white",
            "ticks": ""
           },
           "baxis": {
            "gridcolor": "white",
            "linecolor": "white",
            "ticks": ""
           },
           "bgcolor": "#E5ECF6",
           "caxis": {
            "gridcolor": "white",
            "linecolor": "white",
            "ticks": ""
           }
          },
          "title": {
           "x": 0.05
          },
          "xaxis": {
           "automargin": true,
           "gridcolor": "white",
           "linecolor": "white",
           "ticks": "",
           "title": {
            "standoff": 15
           },
           "zerolinecolor": "white",
           "zerolinewidth": 2
          },
          "yaxis": {
           "automargin": true,
           "gridcolor": "white",
           "linecolor": "white",
           "ticks": "",
           "title": {
            "standoff": 15
           },
           "zerolinecolor": "white",
           "zerolinewidth": 2
          }
         }
        },
        "title": {
         "text": "Value Counts for 1000 Dice Rolls"
        },
        "width": 700,
        "xaxis": {
         "title": {
          "text": "Dice Value"
         }
        },
        "yaxis": {
         "title": {
          "text": "Count"
         }
        }
       }
      },
      "text/html": [
       "<div>                        <script type=\"text/javascript\">window.PlotlyConfig = {MathJaxConfig: 'local'};</script>\n",
       "        <script charset=\"utf-8\" src=\"https://cdn.plot.ly/plotly-3.0.1.min.js\"></script>                <div id=\"892304fd-dc01-490f-a459-ccd4a093c75d\" class=\"plotly-graph-div\" style=\"height:100%; width:700px;\"></div>            <script type=\"text/javascript\">                window.PLOTLYENV=window.PLOTLYENV || {};                                if (document.getElementById(\"892304fd-dc01-490f-a459-ccd4a093c75d\")) {                    Plotly.newPlot(                        \"892304fd-dc01-490f-a459-ccd4a093c75d\",                        [{\"text\":{\"dtype\":\"f8\",\"bdata\":\"AAAAAAAAOEAAAAAAAIBDQAAAAAAAQFdAAAAAAAAAW0AAAAAAAEBeQAAAAAAA4GZAAAAAAAAAY0AAAAAAAEBaQAAAAAAAwFlAAAAAAACASkAAAAAAAAAzQA==\"},\"textposition\":\"auto\",\"x\":[2,3,4,5,6,7,8,9,10,11,12],\"y\":{\"dtype\":\"i2\",\"bdata\":\"GAAnAF0AbAB5ALcAmABpAGcANQATAA==\"},\"type\":\"bar\"}],                        {\"template\":{\"data\":{\"histogram2dcontour\":[{\"type\":\"histogram2dcontour\",\"colorbar\":{\"outlinewidth\":0,\"ticks\":\"\"},\"colorscale\":[[0.0,\"#0d0887\"],[0.1111111111111111,\"#46039f\"],[0.2222222222222222,\"#7201a8\"],[0.3333333333333333,\"#9c179e\"],[0.4444444444444444,\"#bd3786\"],[0.5555555555555556,\"#d8576b\"],[0.6666666666666666,\"#ed7953\"],[0.7777777777777778,\"#fb9f3a\"],[0.8888888888888888,\"#fdca26\"],[1.0,\"#f0f921\"]]}],\"choropleth\":[{\"type\":\"choropleth\",\"colorbar\":{\"outlinewidth\":0,\"ticks\":\"\"}}],\"histogram2d\":[{\"type\":\"histogram2d\",\"colorbar\":{\"outlinewidth\":0,\"ticks\":\"\"},\"colorscale\":[[0.0,\"#0d0887\"],[0.1111111111111111,\"#46039f\"],[0.2222222222222222,\"#7201a8\"],[0.3333333333333333,\"#9c179e\"],[0.4444444444444444,\"#bd3786\"],[0.5555555555555556,\"#d8576b\"],[0.6666666666666666,\"#ed7953\"],[0.7777777777777778,\"#fb9f3a\"],[0.8888888888888888,\"#fdca26\"],[1.0,\"#f0f921\"]]}],\"heatmap\":[{\"type\":\"heatmap\",\"colorbar\":{\"outlinewidth\":0,\"ticks\":\"\"},\"colorscale\":[[0.0,\"#0d0887\"],[0.1111111111111111,\"#46039f\"],[0.2222222222222222,\"#7201a8\"],[0.3333333333333333,\"#9c179e\"],[0.4444444444444444,\"#bd3786\"],[0.5555555555555556,\"#d8576b\"],[0.6666666666666666,\"#ed7953\"],[0.7777777777777778,\"#fb9f3a\"],[0.8888888888888888,\"#fdca26\"],[1.0,\"#f0f921\"]]}],\"contourcarpet\":[{\"type\":\"contourcarpet\",\"colorbar\":{\"outlinewidth\":0,\"ticks\":\"\"}}],\"contour\":[{\"type\":\"contour\",\"colorbar\":{\"outlinewidth\":0,\"ticks\":\"\"},\"colorscale\":[[0.0,\"#0d0887\"],[0.1111111111111111,\"#46039f\"],[0.2222222222222222,\"#7201a8\"],[0.3333333333333333,\"#9c179e\"],[0.4444444444444444,\"#bd3786\"],[0.5555555555555556,\"#d8576b\"],[0.6666666666666666,\"#ed7953\"],[0.7777777777777778,\"#fb9f3a\"],[0.8888888888888888,\"#fdca26\"],[1.0,\"#f0f921\"]]}],\"surface\":[{\"type\":\"surface\",\"colorbar\":{\"outlinewidth\":0,\"ticks\":\"\"},\"colorscale\":[[0.0,\"#0d0887\"],[0.1111111111111111,\"#46039f\"],[0.2222222222222222,\"#7201a8\"],[0.3333333333333333,\"#9c179e\"],[0.4444444444444444,\"#bd3786\"],[0.5555555555555556,\"#d8576b\"],[0.6666666666666666,\"#ed7953\"],[0.7777777777777778,\"#fb9f3a\"],[0.8888888888888888,\"#fdca26\"],[1.0,\"#f0f921\"]]}],\"mesh3d\":[{\"type\":\"mesh3d\",\"colorbar\":{\"outlinewidth\":0,\"ticks\":\"\"}}],\"scatter\":[{\"fillpattern\":{\"fillmode\":\"overlay\",\"size\":10,\"solidity\":0.2},\"type\":\"scatter\"}],\"parcoords\":[{\"type\":\"parcoords\",\"line\":{\"colorbar\":{\"outlinewidth\":0,\"ticks\":\"\"}}}],\"scatterpolargl\":[{\"type\":\"scatterpolargl\",\"marker\":{\"colorbar\":{\"outlinewidth\":0,\"ticks\":\"\"}}}],\"bar\":[{\"error_x\":{\"color\":\"#2a3f5f\"},\"error_y\":{\"color\":\"#2a3f5f\"},\"marker\":{\"line\":{\"color\":\"#E5ECF6\",\"width\":0.5},\"pattern\":{\"fillmode\":\"overlay\",\"size\":10,\"solidity\":0.2}},\"type\":\"bar\"}],\"scattergeo\":[{\"type\":\"scattergeo\",\"marker\":{\"colorbar\":{\"outlinewidth\":0,\"ticks\":\"\"}}}],\"scatterpolar\":[{\"type\":\"scatterpolar\",\"marker\":{\"colorbar\":{\"outlinewidth\":0,\"ticks\":\"\"}}}],\"histogram\":[{\"marker\":{\"pattern\":{\"fillmode\":\"overlay\",\"size\":10,\"solidity\":0.2}},\"type\":\"histogram\"}],\"scattergl\":[{\"type\":\"scattergl\",\"marker\":{\"colorbar\":{\"outlinewidth\":0,\"ticks\":\"\"}}}],\"scatter3d\":[{\"type\":\"scatter3d\",\"line\":{\"colorbar\":{\"outlinewidth\":0,\"ticks\":\"\"}},\"marker\":{\"colorbar\":{\"outlinewidth\":0,\"ticks\":\"\"}}}],\"scattermap\":[{\"type\":\"scattermap\",\"marker\":{\"colorbar\":{\"outlinewidth\":0,\"ticks\":\"\"}}}],\"scattermapbox\":[{\"type\":\"scattermapbox\",\"marker\":{\"colorbar\":{\"outlinewidth\":0,\"ticks\":\"\"}}}],\"scatterternary\":[{\"type\":\"scatterternary\",\"marker\":{\"colorbar\":{\"outlinewidth\":0,\"ticks\":\"\"}}}],\"scattercarpet\":[{\"type\":\"scattercarpet\",\"marker\":{\"colorbar\":{\"outlinewidth\":0,\"ticks\":\"\"}}}],\"carpet\":[{\"aaxis\":{\"endlinecolor\":\"#2a3f5f\",\"gridcolor\":\"white\",\"linecolor\":\"white\",\"minorgridcolor\":\"white\",\"startlinecolor\":\"#2a3f5f\"},\"baxis\":{\"endlinecolor\":\"#2a3f5f\",\"gridcolor\":\"white\",\"linecolor\":\"white\",\"minorgridcolor\":\"white\",\"startlinecolor\":\"#2a3f5f\"},\"type\":\"carpet\"}],\"table\":[{\"cells\":{\"fill\":{\"color\":\"#EBF0F8\"},\"line\":{\"color\":\"white\"}},\"header\":{\"fill\":{\"color\":\"#C8D4E3\"},\"line\":{\"color\":\"white\"}},\"type\":\"table\"}],\"barpolar\":[{\"marker\":{\"line\":{\"color\":\"#E5ECF6\",\"width\":0.5},\"pattern\":{\"fillmode\":\"overlay\",\"size\":10,\"solidity\":0.2}},\"type\":\"barpolar\"}],\"pie\":[{\"automargin\":true,\"type\":\"pie\"}]},\"layout\":{\"autotypenumbers\":\"strict\",\"colorway\":[\"#636efa\",\"#EF553B\",\"#00cc96\",\"#ab63fa\",\"#FFA15A\",\"#19d3f3\",\"#FF6692\",\"#B6E880\",\"#FF97FF\",\"#FECB52\"],\"font\":{\"color\":\"#2a3f5f\"},\"hovermode\":\"closest\",\"hoverlabel\":{\"align\":\"left\"},\"paper_bgcolor\":\"white\",\"plot_bgcolor\":\"#E5ECF6\",\"polar\":{\"bgcolor\":\"#E5ECF6\",\"angularaxis\":{\"gridcolor\":\"white\",\"linecolor\":\"white\",\"ticks\":\"\"},\"radialaxis\":{\"gridcolor\":\"white\",\"linecolor\":\"white\",\"ticks\":\"\"}},\"ternary\":{\"bgcolor\":\"#E5ECF6\",\"aaxis\":{\"gridcolor\":\"white\",\"linecolor\":\"white\",\"ticks\":\"\"},\"baxis\":{\"gridcolor\":\"white\",\"linecolor\":\"white\",\"ticks\":\"\"},\"caxis\":{\"gridcolor\":\"white\",\"linecolor\":\"white\",\"ticks\":\"\"}},\"coloraxis\":{\"colorbar\":{\"outlinewidth\":0,\"ticks\":\"\"}},\"colorscale\":{\"sequential\":[[0.0,\"#0d0887\"],[0.1111111111111111,\"#46039f\"],[0.2222222222222222,\"#7201a8\"],[0.3333333333333333,\"#9c179e\"],[0.4444444444444444,\"#bd3786\"],[0.5555555555555556,\"#d8576b\"],[0.6666666666666666,\"#ed7953\"],[0.7777777777777778,\"#fb9f3a\"],[0.8888888888888888,\"#fdca26\"],[1.0,\"#f0f921\"]],\"sequentialminus\":[[0.0,\"#0d0887\"],[0.1111111111111111,\"#46039f\"],[0.2222222222222222,\"#7201a8\"],[0.3333333333333333,\"#9c179e\"],[0.4444444444444444,\"#bd3786\"],[0.5555555555555556,\"#d8576b\"],[0.6666666666666666,\"#ed7953\"],[0.7777777777777778,\"#fb9f3a\"],[0.8888888888888888,\"#fdca26\"],[1.0,\"#f0f921\"]],\"diverging\":[[0,\"#8e0152\"],[0.1,\"#c51b7d\"],[0.2,\"#de77ae\"],[0.3,\"#f1b6da\"],[0.4,\"#fde0ef\"],[0.5,\"#f7f7f7\"],[0.6,\"#e6f5d0\"],[0.7,\"#b8e186\"],[0.8,\"#7fbc41\"],[0.9,\"#4d9221\"],[1,\"#276419\"]]},\"xaxis\":{\"gridcolor\":\"white\",\"linecolor\":\"white\",\"ticks\":\"\",\"title\":{\"standoff\":15},\"zerolinecolor\":\"white\",\"automargin\":true,\"zerolinewidth\":2},\"yaxis\":{\"gridcolor\":\"white\",\"linecolor\":\"white\",\"ticks\":\"\",\"title\":{\"standoff\":15},\"zerolinecolor\":\"white\",\"automargin\":true,\"zerolinewidth\":2},\"scene\":{\"xaxis\":{\"backgroundcolor\":\"#E5ECF6\",\"gridcolor\":\"white\",\"linecolor\":\"white\",\"showbackground\":true,\"ticks\":\"\",\"zerolinecolor\":\"white\",\"gridwidth\":2},\"yaxis\":{\"backgroundcolor\":\"#E5ECF6\",\"gridcolor\":\"white\",\"linecolor\":\"white\",\"showbackground\":true,\"ticks\":\"\",\"zerolinecolor\":\"white\",\"gridwidth\":2},\"zaxis\":{\"backgroundcolor\":\"#E5ECF6\",\"gridcolor\":\"white\",\"linecolor\":\"white\",\"showbackground\":true,\"ticks\":\"\",\"zerolinecolor\":\"white\",\"gridwidth\":2}},\"shapedefaults\":{\"line\":{\"color\":\"#2a3f5f\"}},\"annotationdefaults\":{\"arrowcolor\":\"#2a3f5f\",\"arrowhead\":0,\"arrowwidth\":1},\"geo\":{\"bgcolor\":\"white\",\"landcolor\":\"#E5ECF6\",\"subunitcolor\":\"white\",\"showland\":true,\"showlakes\":true,\"lakecolor\":\"white\"},\"title\":{\"x\":0.05},\"mapbox\":{\"style\":\"light\"}}},\"title\":{\"text\":\"Value Counts for 1000 Dice Rolls\"},\"xaxis\":{\"title\":{\"text\":\"Dice Value\"}},\"yaxis\":{\"title\":{\"text\":\"Count\"}},\"width\":700},                        {\"responsive\": true}                    )                };            </script>        </div>"
      ],
      "text/plain": [
       "Figure({\n",
       "    'data': [{'text': {'bdata': ('AAAAAAAAOEAAAAAAAIBDQAAAAAAAQF' ... 'AAwFlAAAAAAACASkAAAAAAAAAzQA=='),\n",
       "                       'dtype': 'f8'},\n",
       "              'textposition': 'auto',\n",
       "              'type': 'bar',\n",
       "              'x': [2, 3, 4, 5, 6, 7, 8, 9, 10, 11, 12],\n",
       "              'y': {'bdata': 'GAAnAF0AbAB5ALcAmABpAGcANQATAA==', 'dtype': 'i2'}}],\n",
       "    'layout': {'template': '...',\n",
       "               'title': {'text': 'Value Counts for 1000 Dice Rolls'},\n",
       "               'width': 700,\n",
       "               'xaxis': {'title': {'text': 'Dice Value'}},\n",
       "               'yaxis': {'title': {'text': 'Count'}}}\n",
       "})"
      ]
     },
     "execution_count": 50,
     "metadata": {},
     "output_type": "execute_result"
    }
   ],
   "source": [
    "fig.update_layout(\n",
    "    title='Value Counts for 1000 Dice Rolls',\n",
    "    xaxis_title='Dice Value',\n",
    "    yaxis_title='Count',\n",
    "    width=700,\n",
    ")"
   ]
  },
  {
   "cell_type": "code",
   "execution_count": 53,
   "metadata": {},
   "outputs": [
    {
     "data": {
      "application/vnd.microsoft.datawrangler.viewer.v0+json": {
       "columns": [
        {
         "name": "Value",
         "rawType": "int64",
         "type": "integer"
        },
        {
         "name": "count",
         "rawType": "float64",
         "type": "float"
        }
       ],
       "conversionMethod": "pd.DataFrame",
       "ref": "87e457f7-960b-413d-90e6-39acfe7f5dec",
       "rows": [
        [
         "2",
         "0.024"
        ],
        [
         "3",
         "0.039"
        ],
        [
         "4",
         "0.093"
        ],
        [
         "5",
         "0.108"
        ],
        [
         "6",
         "0.121"
        ],
        [
         "7",
         "0.183"
        ],
        [
         "8",
         "0.152"
        ],
        [
         "9",
         "0.105"
        ],
        [
         "10",
         "0.103"
        ],
        [
         "11",
         "0.053"
        ],
        [
         "12",
         "0.019"
        ]
       ],
       "shape": {
        "columns": 1,
        "rows": 11
       }
      },
      "text/html": [
       "<div>\n",
       "<style scoped>\n",
       "    .dataframe tbody tr th:only-of-type {\n",
       "        vertical-align: middle;\n",
       "    }\n",
       "\n",
       "    .dataframe tbody tr th {\n",
       "        vertical-align: top;\n",
       "    }\n",
       "\n",
       "    .dataframe thead th {\n",
       "        text-align: right;\n",
       "    }\n",
       "</style>\n",
       "<table border=\"1\" class=\"dataframe\">\n",
       "  <thead>\n",
       "    <tr style=\"text-align: right;\">\n",
       "      <th></th>\n",
       "      <th>count</th>\n",
       "    </tr>\n",
       "    <tr>\n",
       "      <th>Value</th>\n",
       "      <th></th>\n",
       "    </tr>\n",
       "  </thead>\n",
       "  <tbody>\n",
       "    <tr>\n",
       "      <th>2</th>\n",
       "      <td>0.024</td>\n",
       "    </tr>\n",
       "    <tr>\n",
       "      <th>3</th>\n",
       "      <td>0.039</td>\n",
       "    </tr>\n",
       "    <tr>\n",
       "      <th>4</th>\n",
       "      <td>0.093</td>\n",
       "    </tr>\n",
       "    <tr>\n",
       "      <th>5</th>\n",
       "      <td>0.108</td>\n",
       "    </tr>\n",
       "    <tr>\n",
       "      <th>6</th>\n",
       "      <td>0.121</td>\n",
       "    </tr>\n",
       "    <tr>\n",
       "      <th>7</th>\n",
       "      <td>0.183</td>\n",
       "    </tr>\n",
       "    <tr>\n",
       "      <th>8</th>\n",
       "      <td>0.152</td>\n",
       "    </tr>\n",
       "    <tr>\n",
       "      <th>9</th>\n",
       "      <td>0.105</td>\n",
       "    </tr>\n",
       "    <tr>\n",
       "      <th>10</th>\n",
       "      <td>0.103</td>\n",
       "    </tr>\n",
       "    <tr>\n",
       "      <th>11</th>\n",
       "      <td>0.053</td>\n",
       "    </tr>\n",
       "    <tr>\n",
       "      <th>12</th>\n",
       "      <td>0.019</td>\n",
       "    </tr>\n",
       "  </tbody>\n",
       "</table>\n",
       "</div>"
      ],
      "text/plain": [
       "       count\n",
       "Value       \n",
       "2      0.024\n",
       "3      0.039\n",
       "4      0.093\n",
       "5      0.108\n",
       "6      0.121\n",
       "7      0.183\n",
       "8      0.152\n",
       "9      0.105\n",
       "10     0.103\n",
       "11     0.053\n",
       "12     0.019"
      ]
     },
     "execution_count": 53,
     "metadata": {},
     "output_type": "execute_result"
    }
   ],
   "source": [
    "# Empirical probability mass function of the two-dice sum distribution\n",
    "value_counts / 1000"
   ]
  },
  {
   "cell_type": "code",
   "execution_count": 54,
   "metadata": {},
   "outputs": [
    {
     "name": "stdout",
     "output_type": "stream",
     "text": [
      "Probability of rolling a 7: 0.183\n"
     ]
    }
   ],
   "source": [
    "# Calculate the probability of rolling a 7 in this experiment\n",
    "print('Probability of rolling a 7:', value_counts.iloc[5].values.tolist()[0] / 1000)"
   ]
  },
  {
   "cell_type": "code",
   "execution_count": 55,
   "metadata": {},
   "outputs": [],
   "source": [
    "# Create a bar chart of the value counts\n",
    "fig = graph_objects.Figure(\n",
    "    graph_objects.Bar(\n",
    "        x=value_counts.index.to_list(),\n",
    "        y=value_counts.values[:, 0] / 1000\n",
    "    )\n",
    ")"
   ]
  },
  {
   "cell_type": "code",
   "execution_count": 56,
   "metadata": {},
   "outputs": [
    {
     "ename": "ValueError",
     "evalue": "Mime type rendering requires nbformat>=4.2.0 but it is not installed",
     "output_type": "error",
     "traceback": [
      "\u001b[0;31m---------------------------------------------------------------------------\u001b[0m",
      "\u001b[0;31mValueError\u001b[0m                                Traceback (most recent call last)",
      "File \u001b[0;32m~/Desktop/Health Data Science /.venv/lib/python3.9/site-packages/IPython/core/formatters.py:922\u001b[0m, in \u001b[0;36mIPythonDisplayFormatter.__call__\u001b[0;34m(self, obj)\u001b[0m\n\u001b[1;32m    920\u001b[0m method \u001b[38;5;241m=\u001b[39m get_real_method(obj, \u001b[38;5;28mself\u001b[39m\u001b[38;5;241m.\u001b[39mprint_method)\n\u001b[1;32m    921\u001b[0m \u001b[38;5;28;01mif\u001b[39;00m method \u001b[38;5;129;01mis\u001b[39;00m \u001b[38;5;129;01mnot\u001b[39;00m \u001b[38;5;28;01mNone\u001b[39;00m:\n\u001b[0;32m--> 922\u001b[0m     \u001b[43mmethod\u001b[49m\u001b[43m(\u001b[49m\u001b[43m)\u001b[49m\n\u001b[1;32m    923\u001b[0m     \u001b[38;5;28;01mreturn\u001b[39;00m \u001b[38;5;28;01mTrue\u001b[39;00m\n",
      "File \u001b[0;32m~/Desktop/Health Data Science /.venv/lib/python3.9/site-packages/plotly/basedatatypes.py:833\u001b[0m, in \u001b[0;36mBaseFigure._ipython_display_\u001b[0;34m(self)\u001b[0m\n\u001b[1;32m    830\u001b[0m \u001b[38;5;28;01mimport\u001b[39;00m\u001b[38;5;250m \u001b[39m\u001b[38;5;21;01mplotly\u001b[39;00m\u001b[38;5;21;01m.\u001b[39;00m\u001b[38;5;21;01mio\u001b[39;00m\u001b[38;5;250m \u001b[39m\u001b[38;5;28;01mas\u001b[39;00m\u001b[38;5;250m \u001b[39m\u001b[38;5;21;01mpio\u001b[39;00m\n\u001b[1;32m    832\u001b[0m \u001b[38;5;28;01mif\u001b[39;00m pio\u001b[38;5;241m.\u001b[39mrenderers\u001b[38;5;241m.\u001b[39mrender_on_display \u001b[38;5;129;01mand\u001b[39;00m pio\u001b[38;5;241m.\u001b[39mrenderers\u001b[38;5;241m.\u001b[39mdefault:\n\u001b[0;32m--> 833\u001b[0m     \u001b[43mpio\u001b[49m\u001b[38;5;241;43m.\u001b[39;49m\u001b[43mshow\u001b[49m\u001b[43m(\u001b[49m\u001b[38;5;28;43mself\u001b[39;49m\u001b[43m)\u001b[49m\n\u001b[1;32m    834\u001b[0m \u001b[38;5;28;01melse\u001b[39;00m:\n\u001b[1;32m    835\u001b[0m     \u001b[38;5;28mprint\u001b[39m(\u001b[38;5;28mrepr\u001b[39m(\u001b[38;5;28mself\u001b[39m))\n",
      "File \u001b[0;32m~/Desktop/Health Data Science /.venv/lib/python3.9/site-packages/plotly/io/_renderers.py:425\u001b[0m, in \u001b[0;36mshow\u001b[0;34m(fig, renderer, validate, **kwargs)\u001b[0m\n\u001b[1;32m    420\u001b[0m     \u001b[38;5;28;01mraise\u001b[39;00m \u001b[38;5;167;01mValueError\u001b[39;00m(\n\u001b[1;32m    421\u001b[0m         \u001b[38;5;124m\"\u001b[39m\u001b[38;5;124mMime type rendering requires ipython but it is not installed\u001b[39m\u001b[38;5;124m\"\u001b[39m\n\u001b[1;32m    422\u001b[0m     )\n\u001b[1;32m    424\u001b[0m \u001b[38;5;28;01mif\u001b[39;00m \u001b[38;5;129;01mnot\u001b[39;00m nbformat \u001b[38;5;129;01mor\u001b[39;00m Version(nbformat\u001b[38;5;241m.\u001b[39m__version__) \u001b[38;5;241m<\u001b[39m Version(\u001b[38;5;124m\"\u001b[39m\u001b[38;5;124m4.2.0\u001b[39m\u001b[38;5;124m\"\u001b[39m):\n\u001b[0;32m--> 425\u001b[0m     \u001b[38;5;28;01mraise\u001b[39;00m \u001b[38;5;167;01mValueError\u001b[39;00m(\n\u001b[1;32m    426\u001b[0m         \u001b[38;5;124m\"\u001b[39m\u001b[38;5;124mMime type rendering requires nbformat>=4.2.0 but it is not installed\u001b[39m\u001b[38;5;124m\"\u001b[39m\n\u001b[1;32m    427\u001b[0m     )\n\u001b[1;32m    429\u001b[0m display_jupyter_version_warnings()\n\u001b[1;32m    431\u001b[0m ipython_display\u001b[38;5;241m.\u001b[39mdisplay(bundle, raw\u001b[38;5;241m=\u001b[39m\u001b[38;5;28;01mTrue\u001b[39;00m)\n",
      "\u001b[0;31mValueError\u001b[0m: Mime type rendering requires nbformat>=4.2.0 but it is not installed"
     ]
    },
    {
     "data": {
      "application/vnd.plotly.v1+json": {
       "config": {
        "plotlyServerURL": "https://plot.ly"
       },
       "data": [
        {
         "type": "bar",
         "x": [
          2,
          3,
          4,
          5,
          6,
          7,
          8,
          9,
          10,
          11,
          12
         ],
         "y": {
          "bdata": "+n5qvHSTmD8rhxbZzvejPwIrhxbZzrc/2c73U+Oluz9g5dAi2/m+PwaBlUOLbMc/2/l+arx0wz/hehSuR+G6P5HtfD81Xro/iUFg5dAiqz/b+X5qvHSTPw==",
          "dtype": "f8"
         }
        }
       ],
       "layout": {
        "template": {
         "data": {
          "bar": [
           {
            "error_x": {
             "color": "#2a3f5f"
            },
            "error_y": {
             "color": "#2a3f5f"
            },
            "marker": {
             "line": {
              "color": "#E5ECF6",
              "width": 0.5
             },
             "pattern": {
              "fillmode": "overlay",
              "size": 10,
              "solidity": 0.2
             }
            },
            "type": "bar"
           }
          ],
          "barpolar": [
           {
            "marker": {
             "line": {
              "color": "#E5ECF6",
              "width": 0.5
             },
             "pattern": {
              "fillmode": "overlay",
              "size": 10,
              "solidity": 0.2
             }
            },
            "type": "barpolar"
           }
          ],
          "carpet": [
           {
            "aaxis": {
             "endlinecolor": "#2a3f5f",
             "gridcolor": "white",
             "linecolor": "white",
             "minorgridcolor": "white",
             "startlinecolor": "#2a3f5f"
            },
            "baxis": {
             "endlinecolor": "#2a3f5f",
             "gridcolor": "white",
             "linecolor": "white",
             "minorgridcolor": "white",
             "startlinecolor": "#2a3f5f"
            },
            "type": "carpet"
           }
          ],
          "choropleth": [
           {
            "colorbar": {
             "outlinewidth": 0,
             "ticks": ""
            },
            "type": "choropleth"
           }
          ],
          "contour": [
           {
            "colorbar": {
             "outlinewidth": 0,
             "ticks": ""
            },
            "colorscale": [
             [
              0,
              "#0d0887"
             ],
             [
              0.1111111111111111,
              "#46039f"
             ],
             [
              0.2222222222222222,
              "#7201a8"
             ],
             [
              0.3333333333333333,
              "#9c179e"
             ],
             [
              0.4444444444444444,
              "#bd3786"
             ],
             [
              0.5555555555555556,
              "#d8576b"
             ],
             [
              0.6666666666666666,
              "#ed7953"
             ],
             [
              0.7777777777777778,
              "#fb9f3a"
             ],
             [
              0.8888888888888888,
              "#fdca26"
             ],
             [
              1,
              "#f0f921"
             ]
            ],
            "type": "contour"
           }
          ],
          "contourcarpet": [
           {
            "colorbar": {
             "outlinewidth": 0,
             "ticks": ""
            },
            "type": "contourcarpet"
           }
          ],
          "heatmap": [
           {
            "colorbar": {
             "outlinewidth": 0,
             "ticks": ""
            },
            "colorscale": [
             [
              0,
              "#0d0887"
             ],
             [
              0.1111111111111111,
              "#46039f"
             ],
             [
              0.2222222222222222,
              "#7201a8"
             ],
             [
              0.3333333333333333,
              "#9c179e"
             ],
             [
              0.4444444444444444,
              "#bd3786"
             ],
             [
              0.5555555555555556,
              "#d8576b"
             ],
             [
              0.6666666666666666,
              "#ed7953"
             ],
             [
              0.7777777777777778,
              "#fb9f3a"
             ],
             [
              0.8888888888888888,
              "#fdca26"
             ],
             [
              1,
              "#f0f921"
             ]
            ],
            "type": "heatmap"
           }
          ],
          "histogram": [
           {
            "marker": {
             "pattern": {
              "fillmode": "overlay",
              "size": 10,
              "solidity": 0.2
             }
            },
            "type": "histogram"
           }
          ],
          "histogram2d": [
           {
            "colorbar": {
             "outlinewidth": 0,
             "ticks": ""
            },
            "colorscale": [
             [
              0,
              "#0d0887"
             ],
             [
              0.1111111111111111,
              "#46039f"
             ],
             [
              0.2222222222222222,
              "#7201a8"
             ],
             [
              0.3333333333333333,
              "#9c179e"
             ],
             [
              0.4444444444444444,
              "#bd3786"
             ],
             [
              0.5555555555555556,
              "#d8576b"
             ],
             [
              0.6666666666666666,
              "#ed7953"
             ],
             [
              0.7777777777777778,
              "#fb9f3a"
             ],
             [
              0.8888888888888888,
              "#fdca26"
             ],
             [
              1,
              "#f0f921"
             ]
            ],
            "type": "histogram2d"
           }
          ],
          "histogram2dcontour": [
           {
            "colorbar": {
             "outlinewidth": 0,
             "ticks": ""
            },
            "colorscale": [
             [
              0,
              "#0d0887"
             ],
             [
              0.1111111111111111,
              "#46039f"
             ],
             [
              0.2222222222222222,
              "#7201a8"
             ],
             [
              0.3333333333333333,
              "#9c179e"
             ],
             [
              0.4444444444444444,
              "#bd3786"
             ],
             [
              0.5555555555555556,
              "#d8576b"
             ],
             [
              0.6666666666666666,
              "#ed7953"
             ],
             [
              0.7777777777777778,
              "#fb9f3a"
             ],
             [
              0.8888888888888888,
              "#fdca26"
             ],
             [
              1,
              "#f0f921"
             ]
            ],
            "type": "histogram2dcontour"
           }
          ],
          "mesh3d": [
           {
            "colorbar": {
             "outlinewidth": 0,
             "ticks": ""
            },
            "type": "mesh3d"
           }
          ],
          "parcoords": [
           {
            "line": {
             "colorbar": {
              "outlinewidth": 0,
              "ticks": ""
             }
            },
            "type": "parcoords"
           }
          ],
          "pie": [
           {
            "automargin": true,
            "type": "pie"
           }
          ],
          "scatter": [
           {
            "fillpattern": {
             "fillmode": "overlay",
             "size": 10,
             "solidity": 0.2
            },
            "type": "scatter"
           }
          ],
          "scatter3d": [
           {
            "line": {
             "colorbar": {
              "outlinewidth": 0,
              "ticks": ""
             }
            },
            "marker": {
             "colorbar": {
              "outlinewidth": 0,
              "ticks": ""
             }
            },
            "type": "scatter3d"
           }
          ],
          "scattercarpet": [
           {
            "marker": {
             "colorbar": {
              "outlinewidth": 0,
              "ticks": ""
             }
            },
            "type": "scattercarpet"
           }
          ],
          "scattergeo": [
           {
            "marker": {
             "colorbar": {
              "outlinewidth": 0,
              "ticks": ""
             }
            },
            "type": "scattergeo"
           }
          ],
          "scattergl": [
           {
            "marker": {
             "colorbar": {
              "outlinewidth": 0,
              "ticks": ""
             }
            },
            "type": "scattergl"
           }
          ],
          "scattermap": [
           {
            "marker": {
             "colorbar": {
              "outlinewidth": 0,
              "ticks": ""
             }
            },
            "type": "scattermap"
           }
          ],
          "scattermapbox": [
           {
            "marker": {
             "colorbar": {
              "outlinewidth": 0,
              "ticks": ""
             }
            },
            "type": "scattermapbox"
           }
          ],
          "scatterpolar": [
           {
            "marker": {
             "colorbar": {
              "outlinewidth": 0,
              "ticks": ""
             }
            },
            "type": "scatterpolar"
           }
          ],
          "scatterpolargl": [
           {
            "marker": {
             "colorbar": {
              "outlinewidth": 0,
              "ticks": ""
             }
            },
            "type": "scatterpolargl"
           }
          ],
          "scatterternary": [
           {
            "marker": {
             "colorbar": {
              "outlinewidth": 0,
              "ticks": ""
             }
            },
            "type": "scatterternary"
           }
          ],
          "surface": [
           {
            "colorbar": {
             "outlinewidth": 0,
             "ticks": ""
            },
            "colorscale": [
             [
              0,
              "#0d0887"
             ],
             [
              0.1111111111111111,
              "#46039f"
             ],
             [
              0.2222222222222222,
              "#7201a8"
             ],
             [
              0.3333333333333333,
              "#9c179e"
             ],
             [
              0.4444444444444444,
              "#bd3786"
             ],
             [
              0.5555555555555556,
              "#d8576b"
             ],
             [
              0.6666666666666666,
              "#ed7953"
             ],
             [
              0.7777777777777778,
              "#fb9f3a"
             ],
             [
              0.8888888888888888,
              "#fdca26"
             ],
             [
              1,
              "#f0f921"
             ]
            ],
            "type": "surface"
           }
          ],
          "table": [
           {
            "cells": {
             "fill": {
              "color": "#EBF0F8"
             },
             "line": {
              "color": "white"
             }
            },
            "header": {
             "fill": {
              "color": "#C8D4E3"
             },
             "line": {
              "color": "white"
             }
            },
            "type": "table"
           }
          ]
         },
         "layout": {
          "annotationdefaults": {
           "arrowcolor": "#2a3f5f",
           "arrowhead": 0,
           "arrowwidth": 1
          },
          "autotypenumbers": "strict",
          "coloraxis": {
           "colorbar": {
            "outlinewidth": 0,
            "ticks": ""
           }
          },
          "colorscale": {
           "diverging": [
            [
             0,
             "#8e0152"
            ],
            [
             0.1,
             "#c51b7d"
            ],
            [
             0.2,
             "#de77ae"
            ],
            [
             0.3,
             "#f1b6da"
            ],
            [
             0.4,
             "#fde0ef"
            ],
            [
             0.5,
             "#f7f7f7"
            ],
            [
             0.6,
             "#e6f5d0"
            ],
            [
             0.7,
             "#b8e186"
            ],
            [
             0.8,
             "#7fbc41"
            ],
            [
             0.9,
             "#4d9221"
            ],
            [
             1,
             "#276419"
            ]
           ],
           "sequential": [
            [
             0,
             "#0d0887"
            ],
            [
             0.1111111111111111,
             "#46039f"
            ],
            [
             0.2222222222222222,
             "#7201a8"
            ],
            [
             0.3333333333333333,
             "#9c179e"
            ],
            [
             0.4444444444444444,
             "#bd3786"
            ],
            [
             0.5555555555555556,
             "#d8576b"
            ],
            [
             0.6666666666666666,
             "#ed7953"
            ],
            [
             0.7777777777777778,
             "#fb9f3a"
            ],
            [
             0.8888888888888888,
             "#fdca26"
            ],
            [
             1,
             "#f0f921"
            ]
           ],
           "sequentialminus": [
            [
             0,
             "#0d0887"
            ],
            [
             0.1111111111111111,
             "#46039f"
            ],
            [
             0.2222222222222222,
             "#7201a8"
            ],
            [
             0.3333333333333333,
             "#9c179e"
            ],
            [
             0.4444444444444444,
             "#bd3786"
            ],
            [
             0.5555555555555556,
             "#d8576b"
            ],
            [
             0.6666666666666666,
             "#ed7953"
            ],
            [
             0.7777777777777778,
             "#fb9f3a"
            ],
            [
             0.8888888888888888,
             "#fdca26"
            ],
            [
             1,
             "#f0f921"
            ]
           ]
          },
          "colorway": [
           "#636efa",
           "#EF553B",
           "#00cc96",
           "#ab63fa",
           "#FFA15A",
           "#19d3f3",
           "#FF6692",
           "#B6E880",
           "#FF97FF",
           "#FECB52"
          ],
          "font": {
           "color": "#2a3f5f"
          },
          "geo": {
           "bgcolor": "white",
           "lakecolor": "white",
           "landcolor": "#E5ECF6",
           "showlakes": true,
           "showland": true,
           "subunitcolor": "white"
          },
          "hoverlabel": {
           "align": "left"
          },
          "hovermode": "closest",
          "mapbox": {
           "style": "light"
          },
          "paper_bgcolor": "white",
          "plot_bgcolor": "#E5ECF6",
          "polar": {
           "angularaxis": {
            "gridcolor": "white",
            "linecolor": "white",
            "ticks": ""
           },
           "bgcolor": "#E5ECF6",
           "radialaxis": {
            "gridcolor": "white",
            "linecolor": "white",
            "ticks": ""
           }
          },
          "scene": {
           "xaxis": {
            "backgroundcolor": "#E5ECF6",
            "gridcolor": "white",
            "gridwidth": 2,
            "linecolor": "white",
            "showbackground": true,
            "ticks": "",
            "zerolinecolor": "white"
           },
           "yaxis": {
            "backgroundcolor": "#E5ECF6",
            "gridcolor": "white",
            "gridwidth": 2,
            "linecolor": "white",
            "showbackground": true,
            "ticks": "",
            "zerolinecolor": "white"
           },
           "zaxis": {
            "backgroundcolor": "#E5ECF6",
            "gridcolor": "white",
            "gridwidth": 2,
            "linecolor": "white",
            "showbackground": true,
            "ticks": "",
            "zerolinecolor": "white"
           }
          },
          "shapedefaults": {
           "line": {
            "color": "#2a3f5f"
           }
          },
          "ternary": {
           "aaxis": {
            "gridcolor": "white",
            "linecolor": "white",
            "ticks": ""
           },
           "baxis": {
            "gridcolor": "white",
            "linecolor": "white",
            "ticks": ""
           },
           "bgcolor": "#E5ECF6",
           "caxis": {
            "gridcolor": "white",
            "linecolor": "white",
            "ticks": ""
           }
          },
          "title": {
           "x": 0.05
          },
          "xaxis": {
           "automargin": true,
           "gridcolor": "white",
           "linecolor": "white",
           "ticks": "",
           "title": {
            "standoff": 15
           },
           "zerolinecolor": "white",
           "zerolinewidth": 2
          },
          "yaxis": {
           "automargin": true,
           "gridcolor": "white",
           "linecolor": "white",
           "ticks": "",
           "title": {
            "standoff": 15
           },
           "zerolinecolor": "white",
           "zerolinewidth": 2
          }
         }
        },
        "title": {
         "text": "Visualizing the Probabilities"
        },
        "width": 700,
        "xaxis": {
         "title": {
          "text": "Dice Value"
         }
        },
        "yaxis": {
         "title": {
          "text": "Probability (proportion)"
         }
        }
       }
      },
      "text/html": [
       "<div>                        <script type=\"text/javascript\">window.PlotlyConfig = {MathJaxConfig: 'local'};</script>\n",
       "        <script charset=\"utf-8\" src=\"https://cdn.plot.ly/plotly-3.0.1.min.js\"></script>                <div id=\"3bebca56-0dd9-4b8c-aea1-cb1d71f727e4\" class=\"plotly-graph-div\" style=\"height:100%; width:700px;\"></div>            <script type=\"text/javascript\">                window.PLOTLYENV=window.PLOTLYENV || {};                                if (document.getElementById(\"3bebca56-0dd9-4b8c-aea1-cb1d71f727e4\")) {                    Plotly.newPlot(                        \"3bebca56-0dd9-4b8c-aea1-cb1d71f727e4\",                        [{\"x\":[2,3,4,5,6,7,8,9,10,11,12],\"y\":{\"dtype\":\"f8\",\"bdata\":\"+n5qvHSTmD8rhxbZzvejPwIrhxbZzrc\\u002f2c73U+Oluz9g5dAi2\\u002fm+PwaBlUOLbMc\\u002f2\\u002fl+arx0wz\\u002fhehSuR+G6P5HtfD81Xro\\u002fiUFg5dAiqz\\u002fb+X5qvHSTPw==\"},\"type\":\"bar\"}],                        {\"template\":{\"data\":{\"histogram2dcontour\":[{\"type\":\"histogram2dcontour\",\"colorbar\":{\"outlinewidth\":0,\"ticks\":\"\"},\"colorscale\":[[0.0,\"#0d0887\"],[0.1111111111111111,\"#46039f\"],[0.2222222222222222,\"#7201a8\"],[0.3333333333333333,\"#9c179e\"],[0.4444444444444444,\"#bd3786\"],[0.5555555555555556,\"#d8576b\"],[0.6666666666666666,\"#ed7953\"],[0.7777777777777778,\"#fb9f3a\"],[0.8888888888888888,\"#fdca26\"],[1.0,\"#f0f921\"]]}],\"choropleth\":[{\"type\":\"choropleth\",\"colorbar\":{\"outlinewidth\":0,\"ticks\":\"\"}}],\"histogram2d\":[{\"type\":\"histogram2d\",\"colorbar\":{\"outlinewidth\":0,\"ticks\":\"\"},\"colorscale\":[[0.0,\"#0d0887\"],[0.1111111111111111,\"#46039f\"],[0.2222222222222222,\"#7201a8\"],[0.3333333333333333,\"#9c179e\"],[0.4444444444444444,\"#bd3786\"],[0.5555555555555556,\"#d8576b\"],[0.6666666666666666,\"#ed7953\"],[0.7777777777777778,\"#fb9f3a\"],[0.8888888888888888,\"#fdca26\"],[1.0,\"#f0f921\"]]}],\"heatmap\":[{\"type\":\"heatmap\",\"colorbar\":{\"outlinewidth\":0,\"ticks\":\"\"},\"colorscale\":[[0.0,\"#0d0887\"],[0.1111111111111111,\"#46039f\"],[0.2222222222222222,\"#7201a8\"],[0.3333333333333333,\"#9c179e\"],[0.4444444444444444,\"#bd3786\"],[0.5555555555555556,\"#d8576b\"],[0.6666666666666666,\"#ed7953\"],[0.7777777777777778,\"#fb9f3a\"],[0.8888888888888888,\"#fdca26\"],[1.0,\"#f0f921\"]]}],\"contourcarpet\":[{\"type\":\"contourcarpet\",\"colorbar\":{\"outlinewidth\":0,\"ticks\":\"\"}}],\"contour\":[{\"type\":\"contour\",\"colorbar\":{\"outlinewidth\":0,\"ticks\":\"\"},\"colorscale\":[[0.0,\"#0d0887\"],[0.1111111111111111,\"#46039f\"],[0.2222222222222222,\"#7201a8\"],[0.3333333333333333,\"#9c179e\"],[0.4444444444444444,\"#bd3786\"],[0.5555555555555556,\"#d8576b\"],[0.6666666666666666,\"#ed7953\"],[0.7777777777777778,\"#fb9f3a\"],[0.8888888888888888,\"#fdca26\"],[1.0,\"#f0f921\"]]}],\"surface\":[{\"type\":\"surface\",\"colorbar\":{\"outlinewidth\":0,\"ticks\":\"\"},\"colorscale\":[[0.0,\"#0d0887\"],[0.1111111111111111,\"#46039f\"],[0.2222222222222222,\"#7201a8\"],[0.3333333333333333,\"#9c179e\"],[0.4444444444444444,\"#bd3786\"],[0.5555555555555556,\"#d8576b\"],[0.6666666666666666,\"#ed7953\"],[0.7777777777777778,\"#fb9f3a\"],[0.8888888888888888,\"#fdca26\"],[1.0,\"#f0f921\"]]}],\"mesh3d\":[{\"type\":\"mesh3d\",\"colorbar\":{\"outlinewidth\":0,\"ticks\":\"\"}}],\"scatter\":[{\"fillpattern\":{\"fillmode\":\"overlay\",\"size\":10,\"solidity\":0.2},\"type\":\"scatter\"}],\"parcoords\":[{\"type\":\"parcoords\",\"line\":{\"colorbar\":{\"outlinewidth\":0,\"ticks\":\"\"}}}],\"scatterpolargl\":[{\"type\":\"scatterpolargl\",\"marker\":{\"colorbar\":{\"outlinewidth\":0,\"ticks\":\"\"}}}],\"bar\":[{\"error_x\":{\"color\":\"#2a3f5f\"},\"error_y\":{\"color\":\"#2a3f5f\"},\"marker\":{\"line\":{\"color\":\"#E5ECF6\",\"width\":0.5},\"pattern\":{\"fillmode\":\"overlay\",\"size\":10,\"solidity\":0.2}},\"type\":\"bar\"}],\"scattergeo\":[{\"type\":\"scattergeo\",\"marker\":{\"colorbar\":{\"outlinewidth\":0,\"ticks\":\"\"}}}],\"scatterpolar\":[{\"type\":\"scatterpolar\",\"marker\":{\"colorbar\":{\"outlinewidth\":0,\"ticks\":\"\"}}}],\"histogram\":[{\"marker\":{\"pattern\":{\"fillmode\":\"overlay\",\"size\":10,\"solidity\":0.2}},\"type\":\"histogram\"}],\"scattergl\":[{\"type\":\"scattergl\",\"marker\":{\"colorbar\":{\"outlinewidth\":0,\"ticks\":\"\"}}}],\"scatter3d\":[{\"type\":\"scatter3d\",\"line\":{\"colorbar\":{\"outlinewidth\":0,\"ticks\":\"\"}},\"marker\":{\"colorbar\":{\"outlinewidth\":0,\"ticks\":\"\"}}}],\"scattermap\":[{\"type\":\"scattermap\",\"marker\":{\"colorbar\":{\"outlinewidth\":0,\"ticks\":\"\"}}}],\"scattermapbox\":[{\"type\":\"scattermapbox\",\"marker\":{\"colorbar\":{\"outlinewidth\":0,\"ticks\":\"\"}}}],\"scatterternary\":[{\"type\":\"scatterternary\",\"marker\":{\"colorbar\":{\"outlinewidth\":0,\"ticks\":\"\"}}}],\"scattercarpet\":[{\"type\":\"scattercarpet\",\"marker\":{\"colorbar\":{\"outlinewidth\":0,\"ticks\":\"\"}}}],\"carpet\":[{\"aaxis\":{\"endlinecolor\":\"#2a3f5f\",\"gridcolor\":\"white\",\"linecolor\":\"white\",\"minorgridcolor\":\"white\",\"startlinecolor\":\"#2a3f5f\"},\"baxis\":{\"endlinecolor\":\"#2a3f5f\",\"gridcolor\":\"white\",\"linecolor\":\"white\",\"minorgridcolor\":\"white\",\"startlinecolor\":\"#2a3f5f\"},\"type\":\"carpet\"}],\"table\":[{\"cells\":{\"fill\":{\"color\":\"#EBF0F8\"},\"line\":{\"color\":\"white\"}},\"header\":{\"fill\":{\"color\":\"#C8D4E3\"},\"line\":{\"color\":\"white\"}},\"type\":\"table\"}],\"barpolar\":[{\"marker\":{\"line\":{\"color\":\"#E5ECF6\",\"width\":0.5},\"pattern\":{\"fillmode\":\"overlay\",\"size\":10,\"solidity\":0.2}},\"type\":\"barpolar\"}],\"pie\":[{\"automargin\":true,\"type\":\"pie\"}]},\"layout\":{\"autotypenumbers\":\"strict\",\"colorway\":[\"#636efa\",\"#EF553B\",\"#00cc96\",\"#ab63fa\",\"#FFA15A\",\"#19d3f3\",\"#FF6692\",\"#B6E880\",\"#FF97FF\",\"#FECB52\"],\"font\":{\"color\":\"#2a3f5f\"},\"hovermode\":\"closest\",\"hoverlabel\":{\"align\":\"left\"},\"paper_bgcolor\":\"white\",\"plot_bgcolor\":\"#E5ECF6\",\"polar\":{\"bgcolor\":\"#E5ECF6\",\"angularaxis\":{\"gridcolor\":\"white\",\"linecolor\":\"white\",\"ticks\":\"\"},\"radialaxis\":{\"gridcolor\":\"white\",\"linecolor\":\"white\",\"ticks\":\"\"}},\"ternary\":{\"bgcolor\":\"#E5ECF6\",\"aaxis\":{\"gridcolor\":\"white\",\"linecolor\":\"white\",\"ticks\":\"\"},\"baxis\":{\"gridcolor\":\"white\",\"linecolor\":\"white\",\"ticks\":\"\"},\"caxis\":{\"gridcolor\":\"white\",\"linecolor\":\"white\",\"ticks\":\"\"}},\"coloraxis\":{\"colorbar\":{\"outlinewidth\":0,\"ticks\":\"\"}},\"colorscale\":{\"sequential\":[[0.0,\"#0d0887\"],[0.1111111111111111,\"#46039f\"],[0.2222222222222222,\"#7201a8\"],[0.3333333333333333,\"#9c179e\"],[0.4444444444444444,\"#bd3786\"],[0.5555555555555556,\"#d8576b\"],[0.6666666666666666,\"#ed7953\"],[0.7777777777777778,\"#fb9f3a\"],[0.8888888888888888,\"#fdca26\"],[1.0,\"#f0f921\"]],\"sequentialminus\":[[0.0,\"#0d0887\"],[0.1111111111111111,\"#46039f\"],[0.2222222222222222,\"#7201a8\"],[0.3333333333333333,\"#9c179e\"],[0.4444444444444444,\"#bd3786\"],[0.5555555555555556,\"#d8576b\"],[0.6666666666666666,\"#ed7953\"],[0.7777777777777778,\"#fb9f3a\"],[0.8888888888888888,\"#fdca26\"],[1.0,\"#f0f921\"]],\"diverging\":[[0,\"#8e0152\"],[0.1,\"#c51b7d\"],[0.2,\"#de77ae\"],[0.3,\"#f1b6da\"],[0.4,\"#fde0ef\"],[0.5,\"#f7f7f7\"],[0.6,\"#e6f5d0\"],[0.7,\"#b8e186\"],[0.8,\"#7fbc41\"],[0.9,\"#4d9221\"],[1,\"#276419\"]]},\"xaxis\":{\"gridcolor\":\"white\",\"linecolor\":\"white\",\"ticks\":\"\",\"title\":{\"standoff\":15},\"zerolinecolor\":\"white\",\"automargin\":true,\"zerolinewidth\":2},\"yaxis\":{\"gridcolor\":\"white\",\"linecolor\":\"white\",\"ticks\":\"\",\"title\":{\"standoff\":15},\"zerolinecolor\":\"white\",\"automargin\":true,\"zerolinewidth\":2},\"scene\":{\"xaxis\":{\"backgroundcolor\":\"#E5ECF6\",\"gridcolor\":\"white\",\"linecolor\":\"white\",\"showbackground\":true,\"ticks\":\"\",\"zerolinecolor\":\"white\",\"gridwidth\":2},\"yaxis\":{\"backgroundcolor\":\"#E5ECF6\",\"gridcolor\":\"white\",\"linecolor\":\"white\",\"showbackground\":true,\"ticks\":\"\",\"zerolinecolor\":\"white\",\"gridwidth\":2},\"zaxis\":{\"backgroundcolor\":\"#E5ECF6\",\"gridcolor\":\"white\",\"linecolor\":\"white\",\"showbackground\":true,\"ticks\":\"\",\"zerolinecolor\":\"white\",\"gridwidth\":2}},\"shapedefaults\":{\"line\":{\"color\":\"#2a3f5f\"}},\"annotationdefaults\":{\"arrowcolor\":\"#2a3f5f\",\"arrowhead\":0,\"arrowwidth\":1},\"geo\":{\"bgcolor\":\"white\",\"landcolor\":\"#E5ECF6\",\"subunitcolor\":\"white\",\"showland\":true,\"showlakes\":true,\"lakecolor\":\"white\"},\"title\":{\"x\":0.05},\"mapbox\":{\"style\":\"light\"}}},\"title\":{\"text\":\"Visualizing the Probabilities\"},\"xaxis\":{\"title\":{\"text\":\"Dice Value\"}},\"yaxis\":{\"title\":{\"text\":\"Probability (proportion)\"}},\"width\":700},                        {\"responsive\": true}                    )                };            </script>        </div>"
      ],
      "text/plain": [
       "Figure({\n",
       "    'data': [{'type': 'bar',\n",
       "              'x': [2, 3, 4, 5, 6, 7, 8, 9, 10, 11, 12],\n",
       "              'y': {'bdata': ('+n5qvHSTmD8rhxbZzvejPwIrhxbZzr' ... '81Xro/iUFg5dAiqz/b+X5qvHSTPw=='),\n",
       "                    'dtype': 'f8'}}],\n",
       "    'layout': {'template': '...',\n",
       "               'title': {'text': 'Visualizing the Probabilities'},\n",
       "               'width': 700,\n",
       "               'xaxis': {'title': {'text': 'Dice Value'}},\n",
       "               'yaxis': {'title': {'text': 'Probability (proportion)'}}}\n",
       "})"
      ]
     },
     "execution_count": 56,
     "metadata": {},
     "output_type": "execute_result"
    }
   ],
   "source": [
    "# Update the layout to improve readability\n",
    "fig.update_layout(\n",
    "    title='Visualizing the Probabilities',\n",
    "    xaxis_title='Dice Value',\n",
    "    yaxis_title='Probability (proportion)',\n",
    "    width=700\n",
    ")"
   ]
  },
  {
   "cell_type": "code",
   "execution_count": 57,
   "metadata": {},
   "outputs": [
    {
     "ename": "ValueError",
     "evalue": "Mime type rendering requires nbformat>=4.2.0 but it is not installed",
     "output_type": "error",
     "traceback": [
      "\u001b[0;31m---------------------------------------------------------------------------\u001b[0m",
      "\u001b[0;31mValueError\u001b[0m                                Traceback (most recent call last)",
      "File \u001b[0;32m~/Desktop/Health Data Science /.venv/lib/python3.9/site-packages/IPython/core/formatters.py:922\u001b[0m, in \u001b[0;36mIPythonDisplayFormatter.__call__\u001b[0;34m(self, obj)\u001b[0m\n\u001b[1;32m    920\u001b[0m method \u001b[38;5;241m=\u001b[39m get_real_method(obj, \u001b[38;5;28mself\u001b[39m\u001b[38;5;241m.\u001b[39mprint_method)\n\u001b[1;32m    921\u001b[0m \u001b[38;5;28;01mif\u001b[39;00m method \u001b[38;5;129;01mis\u001b[39;00m \u001b[38;5;129;01mnot\u001b[39;00m \u001b[38;5;28;01mNone\u001b[39;00m:\n\u001b[0;32m--> 922\u001b[0m     \u001b[43mmethod\u001b[49m\u001b[43m(\u001b[49m\u001b[43m)\u001b[49m\n\u001b[1;32m    923\u001b[0m     \u001b[38;5;28;01mreturn\u001b[39;00m \u001b[38;5;28;01mTrue\u001b[39;00m\n",
      "File \u001b[0;32m~/Desktop/Health Data Science /.venv/lib/python3.9/site-packages/plotly/basedatatypes.py:833\u001b[0m, in \u001b[0;36mBaseFigure._ipython_display_\u001b[0;34m(self)\u001b[0m\n\u001b[1;32m    830\u001b[0m \u001b[38;5;28;01mimport\u001b[39;00m\u001b[38;5;250m \u001b[39m\u001b[38;5;21;01mplotly\u001b[39;00m\u001b[38;5;21;01m.\u001b[39;00m\u001b[38;5;21;01mio\u001b[39;00m\u001b[38;5;250m \u001b[39m\u001b[38;5;28;01mas\u001b[39;00m\u001b[38;5;250m \u001b[39m\u001b[38;5;21;01mpio\u001b[39;00m\n\u001b[1;32m    832\u001b[0m \u001b[38;5;28;01mif\u001b[39;00m pio\u001b[38;5;241m.\u001b[39mrenderers\u001b[38;5;241m.\u001b[39mrender_on_display \u001b[38;5;129;01mand\u001b[39;00m pio\u001b[38;5;241m.\u001b[39mrenderers\u001b[38;5;241m.\u001b[39mdefault:\n\u001b[0;32m--> 833\u001b[0m     \u001b[43mpio\u001b[49m\u001b[38;5;241;43m.\u001b[39;49m\u001b[43mshow\u001b[49m\u001b[43m(\u001b[49m\u001b[38;5;28;43mself\u001b[39;49m\u001b[43m)\u001b[49m\n\u001b[1;32m    834\u001b[0m \u001b[38;5;28;01melse\u001b[39;00m:\n\u001b[1;32m    835\u001b[0m     \u001b[38;5;28mprint\u001b[39m(\u001b[38;5;28mrepr\u001b[39m(\u001b[38;5;28mself\u001b[39m))\n",
      "File \u001b[0;32m~/Desktop/Health Data Science /.venv/lib/python3.9/site-packages/plotly/io/_renderers.py:425\u001b[0m, in \u001b[0;36mshow\u001b[0;34m(fig, renderer, validate, **kwargs)\u001b[0m\n\u001b[1;32m    420\u001b[0m     \u001b[38;5;28;01mraise\u001b[39;00m \u001b[38;5;167;01mValueError\u001b[39;00m(\n\u001b[1;32m    421\u001b[0m         \u001b[38;5;124m\"\u001b[39m\u001b[38;5;124mMime type rendering requires ipython but it is not installed\u001b[39m\u001b[38;5;124m\"\u001b[39m\n\u001b[1;32m    422\u001b[0m     )\n\u001b[1;32m    424\u001b[0m \u001b[38;5;28;01mif\u001b[39;00m \u001b[38;5;129;01mnot\u001b[39;00m nbformat \u001b[38;5;129;01mor\u001b[39;00m Version(nbformat\u001b[38;5;241m.\u001b[39m__version__) \u001b[38;5;241m<\u001b[39m Version(\u001b[38;5;124m\"\u001b[39m\u001b[38;5;124m4.2.0\u001b[39m\u001b[38;5;124m\"\u001b[39m):\n\u001b[0;32m--> 425\u001b[0m     \u001b[38;5;28;01mraise\u001b[39;00m \u001b[38;5;167;01mValueError\u001b[39;00m(\n\u001b[1;32m    426\u001b[0m         \u001b[38;5;124m\"\u001b[39m\u001b[38;5;124mMime type rendering requires nbformat>=4.2.0 but it is not installed\u001b[39m\u001b[38;5;124m\"\u001b[39m\n\u001b[1;32m    427\u001b[0m     )\n\u001b[1;32m    429\u001b[0m display_jupyter_version_warnings()\n\u001b[1;32m    431\u001b[0m ipython_display\u001b[38;5;241m.\u001b[39mdisplay(bundle, raw\u001b[38;5;241m=\u001b[39m\u001b[38;5;28;01mTrue\u001b[39;00m)\n",
      "\u001b[0;31mValueError\u001b[0m: Mime type rendering requires nbformat>=4.2.0 but it is not installed"
     ]
    },
    {
     "data": {
      "application/vnd.plotly.v1+json": {
       "config": {
        "plotlyServerURL": "https://plot.ly"
       },
       "data": [
        {
         "type": "bar",
         "x": {
          "bdata": "AgMEBQYHCAkKCww=",
          "dtype": "i1"
         },
         "y": {
          "bdata": "HMdxHMdxnD8cx3Ecx3GsP1VVVVVVVbU/HMdxHMdxvD9yHMdxHMfBP1VVVVVVVcU/chzHcRzHwT8cx3Ecx3G8P1VVVVVVVbU/HMdxHMdxrD8cx3Ecx3GcPw==",
          "dtype": "f8"
         }
        }
       ],
       "layout": {
        "template": {
         "data": {
          "bar": [
           {
            "error_x": {
             "color": "#2a3f5f"
            },
            "error_y": {
             "color": "#2a3f5f"
            },
            "marker": {
             "line": {
              "color": "#E5ECF6",
              "width": 0.5
             },
             "pattern": {
              "fillmode": "overlay",
              "size": 10,
              "solidity": 0.2
             }
            },
            "type": "bar"
           }
          ],
          "barpolar": [
           {
            "marker": {
             "line": {
              "color": "#E5ECF6",
              "width": 0.5
             },
             "pattern": {
              "fillmode": "overlay",
              "size": 10,
              "solidity": 0.2
             }
            },
            "type": "barpolar"
           }
          ],
          "carpet": [
           {
            "aaxis": {
             "endlinecolor": "#2a3f5f",
             "gridcolor": "white",
             "linecolor": "white",
             "minorgridcolor": "white",
             "startlinecolor": "#2a3f5f"
            },
            "baxis": {
             "endlinecolor": "#2a3f5f",
             "gridcolor": "white",
             "linecolor": "white",
             "minorgridcolor": "white",
             "startlinecolor": "#2a3f5f"
            },
            "type": "carpet"
           }
          ],
          "choropleth": [
           {
            "colorbar": {
             "outlinewidth": 0,
             "ticks": ""
            },
            "type": "choropleth"
           }
          ],
          "contour": [
           {
            "colorbar": {
             "outlinewidth": 0,
             "ticks": ""
            },
            "colorscale": [
             [
              0,
              "#0d0887"
             ],
             [
              0.1111111111111111,
              "#46039f"
             ],
             [
              0.2222222222222222,
              "#7201a8"
             ],
             [
              0.3333333333333333,
              "#9c179e"
             ],
             [
              0.4444444444444444,
              "#bd3786"
             ],
             [
              0.5555555555555556,
              "#d8576b"
             ],
             [
              0.6666666666666666,
              "#ed7953"
             ],
             [
              0.7777777777777778,
              "#fb9f3a"
             ],
             [
              0.8888888888888888,
              "#fdca26"
             ],
             [
              1,
              "#f0f921"
             ]
            ],
            "type": "contour"
           }
          ],
          "contourcarpet": [
           {
            "colorbar": {
             "outlinewidth": 0,
             "ticks": ""
            },
            "type": "contourcarpet"
           }
          ],
          "heatmap": [
           {
            "colorbar": {
             "outlinewidth": 0,
             "ticks": ""
            },
            "colorscale": [
             [
              0,
              "#0d0887"
             ],
             [
              0.1111111111111111,
              "#46039f"
             ],
             [
              0.2222222222222222,
              "#7201a8"
             ],
             [
              0.3333333333333333,
              "#9c179e"
             ],
             [
              0.4444444444444444,
              "#bd3786"
             ],
             [
              0.5555555555555556,
              "#d8576b"
             ],
             [
              0.6666666666666666,
              "#ed7953"
             ],
             [
              0.7777777777777778,
              "#fb9f3a"
             ],
             [
              0.8888888888888888,
              "#fdca26"
             ],
             [
              1,
              "#f0f921"
             ]
            ],
            "type": "heatmap"
           }
          ],
          "histogram": [
           {
            "marker": {
             "pattern": {
              "fillmode": "overlay",
              "size": 10,
              "solidity": 0.2
             }
            },
            "type": "histogram"
           }
          ],
          "histogram2d": [
           {
            "colorbar": {
             "outlinewidth": 0,
             "ticks": ""
            },
            "colorscale": [
             [
              0,
              "#0d0887"
             ],
             [
              0.1111111111111111,
              "#46039f"
             ],
             [
              0.2222222222222222,
              "#7201a8"
             ],
             [
              0.3333333333333333,
              "#9c179e"
             ],
             [
              0.4444444444444444,
              "#bd3786"
             ],
             [
              0.5555555555555556,
              "#d8576b"
             ],
             [
              0.6666666666666666,
              "#ed7953"
             ],
             [
              0.7777777777777778,
              "#fb9f3a"
             ],
             [
              0.8888888888888888,
              "#fdca26"
             ],
             [
              1,
              "#f0f921"
             ]
            ],
            "type": "histogram2d"
           }
          ],
          "histogram2dcontour": [
           {
            "colorbar": {
             "outlinewidth": 0,
             "ticks": ""
            },
            "colorscale": [
             [
              0,
              "#0d0887"
             ],
             [
              0.1111111111111111,
              "#46039f"
             ],
             [
              0.2222222222222222,
              "#7201a8"
             ],
             [
              0.3333333333333333,
              "#9c179e"
             ],
             [
              0.4444444444444444,
              "#bd3786"
             ],
             [
              0.5555555555555556,
              "#d8576b"
             ],
             [
              0.6666666666666666,
              "#ed7953"
             ],
             [
              0.7777777777777778,
              "#fb9f3a"
             ],
             [
              0.8888888888888888,
              "#fdca26"
             ],
             [
              1,
              "#f0f921"
             ]
            ],
            "type": "histogram2dcontour"
           }
          ],
          "mesh3d": [
           {
            "colorbar": {
             "outlinewidth": 0,
             "ticks": ""
            },
            "type": "mesh3d"
           }
          ],
          "parcoords": [
           {
            "line": {
             "colorbar": {
              "outlinewidth": 0,
              "ticks": ""
             }
            },
            "type": "parcoords"
           }
          ],
          "pie": [
           {
            "automargin": true,
            "type": "pie"
           }
          ],
          "scatter": [
           {
            "fillpattern": {
             "fillmode": "overlay",
             "size": 10,
             "solidity": 0.2
            },
            "type": "scatter"
           }
          ],
          "scatter3d": [
           {
            "line": {
             "colorbar": {
              "outlinewidth": 0,
              "ticks": ""
             }
            },
            "marker": {
             "colorbar": {
              "outlinewidth": 0,
              "ticks": ""
             }
            },
            "type": "scatter3d"
           }
          ],
          "scattercarpet": [
           {
            "marker": {
             "colorbar": {
              "outlinewidth": 0,
              "ticks": ""
             }
            },
            "type": "scattercarpet"
           }
          ],
          "scattergeo": [
           {
            "marker": {
             "colorbar": {
              "outlinewidth": 0,
              "ticks": ""
             }
            },
            "type": "scattergeo"
           }
          ],
          "scattergl": [
           {
            "marker": {
             "colorbar": {
              "outlinewidth": 0,
              "ticks": ""
             }
            },
            "type": "scattergl"
           }
          ],
          "scattermap": [
           {
            "marker": {
             "colorbar": {
              "outlinewidth": 0,
              "ticks": ""
             }
            },
            "type": "scattermap"
           }
          ],
          "scattermapbox": [
           {
            "marker": {
             "colorbar": {
              "outlinewidth": 0,
              "ticks": ""
             }
            },
            "type": "scattermapbox"
           }
          ],
          "scatterpolar": [
           {
            "marker": {
             "colorbar": {
              "outlinewidth": 0,
              "ticks": ""
             }
            },
            "type": "scatterpolar"
           }
          ],
          "scatterpolargl": [
           {
            "marker": {
             "colorbar": {
              "outlinewidth": 0,
              "ticks": ""
             }
            },
            "type": "scatterpolargl"
           }
          ],
          "scatterternary": [
           {
            "marker": {
             "colorbar": {
              "outlinewidth": 0,
              "ticks": ""
             }
            },
            "type": "scatterternary"
           }
          ],
          "surface": [
           {
            "colorbar": {
             "outlinewidth": 0,
             "ticks": ""
            },
            "colorscale": [
             [
              0,
              "#0d0887"
             ],
             [
              0.1111111111111111,
              "#46039f"
             ],
             [
              0.2222222222222222,
              "#7201a8"
             ],
             [
              0.3333333333333333,
              "#9c179e"
             ],
             [
              0.4444444444444444,
              "#bd3786"
             ],
             [
              0.5555555555555556,
              "#d8576b"
             ],
             [
              0.6666666666666666,
              "#ed7953"
             ],
             [
              0.7777777777777778,
              "#fb9f3a"
             ],
             [
              0.8888888888888888,
              "#fdca26"
             ],
             [
              1,
              "#f0f921"
             ]
            ],
            "type": "surface"
           }
          ],
          "table": [
           {
            "cells": {
             "fill": {
              "color": "#EBF0F8"
             },
             "line": {
              "color": "white"
             }
            },
            "header": {
             "fill": {
              "color": "#C8D4E3"
             },
             "line": {
              "color": "white"
             }
            },
            "type": "table"
           }
          ]
         },
         "layout": {
          "annotationdefaults": {
           "arrowcolor": "#2a3f5f",
           "arrowhead": 0,
           "arrowwidth": 1
          },
          "autotypenumbers": "strict",
          "coloraxis": {
           "colorbar": {
            "outlinewidth": 0,
            "ticks": ""
           }
          },
          "colorscale": {
           "diverging": [
            [
             0,
             "#8e0152"
            ],
            [
             0.1,
             "#c51b7d"
            ],
            [
             0.2,
             "#de77ae"
            ],
            [
             0.3,
             "#f1b6da"
            ],
            [
             0.4,
             "#fde0ef"
            ],
            [
             0.5,
             "#f7f7f7"
            ],
            [
             0.6,
             "#e6f5d0"
            ],
            [
             0.7,
             "#b8e186"
            ],
            [
             0.8,
             "#7fbc41"
            ],
            [
             0.9,
             "#4d9221"
            ],
            [
             1,
             "#276419"
            ]
           ],
           "sequential": [
            [
             0,
             "#0d0887"
            ],
            [
             0.1111111111111111,
             "#46039f"
            ],
            [
             0.2222222222222222,
             "#7201a8"
            ],
            [
             0.3333333333333333,
             "#9c179e"
            ],
            [
             0.4444444444444444,
             "#bd3786"
            ],
            [
             0.5555555555555556,
             "#d8576b"
            ],
            [
             0.6666666666666666,
             "#ed7953"
            ],
            [
             0.7777777777777778,
             "#fb9f3a"
            ],
            [
             0.8888888888888888,
             "#fdca26"
            ],
            [
             1,
             "#f0f921"
            ]
           ],
           "sequentialminus": [
            [
             0,
             "#0d0887"
            ],
            [
             0.1111111111111111,
             "#46039f"
            ],
            [
             0.2222222222222222,
             "#7201a8"
            ],
            [
             0.3333333333333333,
             "#9c179e"
            ],
            [
             0.4444444444444444,
             "#bd3786"
            ],
            [
             0.5555555555555556,
             "#d8576b"
            ],
            [
             0.6666666666666666,
             "#ed7953"
            ],
            [
             0.7777777777777778,
             "#fb9f3a"
            ],
            [
             0.8888888888888888,
             "#fdca26"
            ],
            [
             1,
             "#f0f921"
            ]
           ]
          },
          "colorway": [
           "#636efa",
           "#EF553B",
           "#00cc96",
           "#ab63fa",
           "#FFA15A",
           "#19d3f3",
           "#FF6692",
           "#B6E880",
           "#FF97FF",
           "#FECB52"
          ],
          "font": {
           "color": "#2a3f5f"
          },
          "geo": {
           "bgcolor": "white",
           "lakecolor": "white",
           "landcolor": "#E5ECF6",
           "showlakes": true,
           "showland": true,
           "subunitcolor": "white"
          },
          "hoverlabel": {
           "align": "left"
          },
          "hovermode": "closest",
          "mapbox": {
           "style": "light"
          },
          "paper_bgcolor": "white",
          "plot_bgcolor": "#E5ECF6",
          "polar": {
           "angularaxis": {
            "gridcolor": "white",
            "linecolor": "white",
            "ticks": ""
           },
           "bgcolor": "#E5ECF6",
           "radialaxis": {
            "gridcolor": "white",
            "linecolor": "white",
            "ticks": ""
           }
          },
          "scene": {
           "xaxis": {
            "backgroundcolor": "#E5ECF6",
            "gridcolor": "white",
            "gridwidth": 2,
            "linecolor": "white",
            "showbackground": true,
            "ticks": "",
            "zerolinecolor": "white"
           },
           "yaxis": {
            "backgroundcolor": "#E5ECF6",
            "gridcolor": "white",
            "gridwidth": 2,
            "linecolor": "white",
            "showbackground": true,
            "ticks": "",
            "zerolinecolor": "white"
           },
           "zaxis": {
            "backgroundcolor": "#E5ECF6",
            "gridcolor": "white",
            "gridwidth": 2,
            "linecolor": "white",
            "showbackground": true,
            "ticks": "",
            "zerolinecolor": "white"
           }
          },
          "shapedefaults": {
           "line": {
            "color": "#2a3f5f"
           }
          },
          "ternary": {
           "aaxis": {
            "gridcolor": "white",
            "linecolor": "white",
            "ticks": ""
           },
           "baxis": {
            "gridcolor": "white",
            "linecolor": "white",
            "ticks": ""
           },
           "bgcolor": "#E5ECF6",
           "caxis": {
            "gridcolor": "white",
            "linecolor": "white",
            "ticks": ""
           }
          },
          "title": {
           "x": 0.05
          },
          "xaxis": {
           "automargin": true,
           "gridcolor": "white",
           "linecolor": "white",
           "ticks": "",
           "title": {
            "standoff": 15
           },
           "zerolinecolor": "white",
           "zerolinewidth": 2
          },
          "yaxis": {
           "automargin": true,
           "gridcolor": "white",
           "linecolor": "white",
           "ticks": "",
           "title": {
            "standoff": 15
           },
           "zerolinecolor": "white",
           "zerolinewidth": 2
          }
         }
        },
        "title": {
         "text": "Visualizing the PMF"
        },
        "width": 700,
        "xaxis": {
         "title": {
          "text": "Dice Value"
         }
        },
        "yaxis": {
         "title": {
          "text": "Probability (proportion)"
         }
        }
       }
      },
      "text/html": [
       "<div>                        <script type=\"text/javascript\">window.PlotlyConfig = {MathJaxConfig: 'local'};</script>\n",
       "        <script charset=\"utf-8\" src=\"https://cdn.plot.ly/plotly-3.0.1.min.js\"></script>                <div id=\"c90fee13-bfb0-4fc7-be58-5c9cf4d3a639\" class=\"plotly-graph-div\" style=\"height:100%; width:700px;\"></div>            <script type=\"text/javascript\">                window.PLOTLYENV=window.PLOTLYENV || {};                                if (document.getElementById(\"c90fee13-bfb0-4fc7-be58-5c9cf4d3a639\")) {                    Plotly.newPlot(                        \"c90fee13-bfb0-4fc7-be58-5c9cf4d3a639\",                        [{\"x\":{\"dtype\":\"i1\",\"bdata\":\"AgMEBQYHCAkKCww=\"},\"y\":{\"dtype\":\"f8\",\"bdata\":\"HMdxHMdxnD8cx3Ecx3GsP1VVVVVVVbU\\u002fHMdxHMdxvD9yHMdxHMfBP1VVVVVVVcU\\u002fchzHcRzHwT8cx3Ecx3G8P1VVVVVVVbU\\u002fHMdxHMdxrD8cx3Ecx3GcPw==\"},\"type\":\"bar\"}],                        {\"template\":{\"data\":{\"histogram2dcontour\":[{\"type\":\"histogram2dcontour\",\"colorbar\":{\"outlinewidth\":0,\"ticks\":\"\"},\"colorscale\":[[0.0,\"#0d0887\"],[0.1111111111111111,\"#46039f\"],[0.2222222222222222,\"#7201a8\"],[0.3333333333333333,\"#9c179e\"],[0.4444444444444444,\"#bd3786\"],[0.5555555555555556,\"#d8576b\"],[0.6666666666666666,\"#ed7953\"],[0.7777777777777778,\"#fb9f3a\"],[0.8888888888888888,\"#fdca26\"],[1.0,\"#f0f921\"]]}],\"choropleth\":[{\"type\":\"choropleth\",\"colorbar\":{\"outlinewidth\":0,\"ticks\":\"\"}}],\"histogram2d\":[{\"type\":\"histogram2d\",\"colorbar\":{\"outlinewidth\":0,\"ticks\":\"\"},\"colorscale\":[[0.0,\"#0d0887\"],[0.1111111111111111,\"#46039f\"],[0.2222222222222222,\"#7201a8\"],[0.3333333333333333,\"#9c179e\"],[0.4444444444444444,\"#bd3786\"],[0.5555555555555556,\"#d8576b\"],[0.6666666666666666,\"#ed7953\"],[0.7777777777777778,\"#fb9f3a\"],[0.8888888888888888,\"#fdca26\"],[1.0,\"#f0f921\"]]}],\"heatmap\":[{\"type\":\"heatmap\",\"colorbar\":{\"outlinewidth\":0,\"ticks\":\"\"},\"colorscale\":[[0.0,\"#0d0887\"],[0.1111111111111111,\"#46039f\"],[0.2222222222222222,\"#7201a8\"],[0.3333333333333333,\"#9c179e\"],[0.4444444444444444,\"#bd3786\"],[0.5555555555555556,\"#d8576b\"],[0.6666666666666666,\"#ed7953\"],[0.7777777777777778,\"#fb9f3a\"],[0.8888888888888888,\"#fdca26\"],[1.0,\"#f0f921\"]]}],\"contourcarpet\":[{\"type\":\"contourcarpet\",\"colorbar\":{\"outlinewidth\":0,\"ticks\":\"\"}}],\"contour\":[{\"type\":\"contour\",\"colorbar\":{\"outlinewidth\":0,\"ticks\":\"\"},\"colorscale\":[[0.0,\"#0d0887\"],[0.1111111111111111,\"#46039f\"],[0.2222222222222222,\"#7201a8\"],[0.3333333333333333,\"#9c179e\"],[0.4444444444444444,\"#bd3786\"],[0.5555555555555556,\"#d8576b\"],[0.6666666666666666,\"#ed7953\"],[0.7777777777777778,\"#fb9f3a\"],[0.8888888888888888,\"#fdca26\"],[1.0,\"#f0f921\"]]}],\"surface\":[{\"type\":\"surface\",\"colorbar\":{\"outlinewidth\":0,\"ticks\":\"\"},\"colorscale\":[[0.0,\"#0d0887\"],[0.1111111111111111,\"#46039f\"],[0.2222222222222222,\"#7201a8\"],[0.3333333333333333,\"#9c179e\"],[0.4444444444444444,\"#bd3786\"],[0.5555555555555556,\"#d8576b\"],[0.6666666666666666,\"#ed7953\"],[0.7777777777777778,\"#fb9f3a\"],[0.8888888888888888,\"#fdca26\"],[1.0,\"#f0f921\"]]}],\"mesh3d\":[{\"type\":\"mesh3d\",\"colorbar\":{\"outlinewidth\":0,\"ticks\":\"\"}}],\"scatter\":[{\"fillpattern\":{\"fillmode\":\"overlay\",\"size\":10,\"solidity\":0.2},\"type\":\"scatter\"}],\"parcoords\":[{\"type\":\"parcoords\",\"line\":{\"colorbar\":{\"outlinewidth\":0,\"ticks\":\"\"}}}],\"scatterpolargl\":[{\"type\":\"scatterpolargl\",\"marker\":{\"colorbar\":{\"outlinewidth\":0,\"ticks\":\"\"}}}],\"bar\":[{\"error_x\":{\"color\":\"#2a3f5f\"},\"error_y\":{\"color\":\"#2a3f5f\"},\"marker\":{\"line\":{\"color\":\"#E5ECF6\",\"width\":0.5},\"pattern\":{\"fillmode\":\"overlay\",\"size\":10,\"solidity\":0.2}},\"type\":\"bar\"}],\"scattergeo\":[{\"type\":\"scattergeo\",\"marker\":{\"colorbar\":{\"outlinewidth\":0,\"ticks\":\"\"}}}],\"scatterpolar\":[{\"type\":\"scatterpolar\",\"marker\":{\"colorbar\":{\"outlinewidth\":0,\"ticks\":\"\"}}}],\"histogram\":[{\"marker\":{\"pattern\":{\"fillmode\":\"overlay\",\"size\":10,\"solidity\":0.2}},\"type\":\"histogram\"}],\"scattergl\":[{\"type\":\"scattergl\",\"marker\":{\"colorbar\":{\"outlinewidth\":0,\"ticks\":\"\"}}}],\"scatter3d\":[{\"type\":\"scatter3d\",\"line\":{\"colorbar\":{\"outlinewidth\":0,\"ticks\":\"\"}},\"marker\":{\"colorbar\":{\"outlinewidth\":0,\"ticks\":\"\"}}}],\"scattermap\":[{\"type\":\"scattermap\",\"marker\":{\"colorbar\":{\"outlinewidth\":0,\"ticks\":\"\"}}}],\"scattermapbox\":[{\"type\":\"scattermapbox\",\"marker\":{\"colorbar\":{\"outlinewidth\":0,\"ticks\":\"\"}}}],\"scatterternary\":[{\"type\":\"scatterternary\",\"marker\":{\"colorbar\":{\"outlinewidth\":0,\"ticks\":\"\"}}}],\"scattercarpet\":[{\"type\":\"scattercarpet\",\"marker\":{\"colorbar\":{\"outlinewidth\":0,\"ticks\":\"\"}}}],\"carpet\":[{\"aaxis\":{\"endlinecolor\":\"#2a3f5f\",\"gridcolor\":\"white\",\"linecolor\":\"white\",\"minorgridcolor\":\"white\",\"startlinecolor\":\"#2a3f5f\"},\"baxis\":{\"endlinecolor\":\"#2a3f5f\",\"gridcolor\":\"white\",\"linecolor\":\"white\",\"minorgridcolor\":\"white\",\"startlinecolor\":\"#2a3f5f\"},\"type\":\"carpet\"}],\"table\":[{\"cells\":{\"fill\":{\"color\":\"#EBF0F8\"},\"line\":{\"color\":\"white\"}},\"header\":{\"fill\":{\"color\":\"#C8D4E3\"},\"line\":{\"color\":\"white\"}},\"type\":\"table\"}],\"barpolar\":[{\"marker\":{\"line\":{\"color\":\"#E5ECF6\",\"width\":0.5},\"pattern\":{\"fillmode\":\"overlay\",\"size\":10,\"solidity\":0.2}},\"type\":\"barpolar\"}],\"pie\":[{\"automargin\":true,\"type\":\"pie\"}]},\"layout\":{\"autotypenumbers\":\"strict\",\"colorway\":[\"#636efa\",\"#EF553B\",\"#00cc96\",\"#ab63fa\",\"#FFA15A\",\"#19d3f3\",\"#FF6692\",\"#B6E880\",\"#FF97FF\",\"#FECB52\"],\"font\":{\"color\":\"#2a3f5f\"},\"hovermode\":\"closest\",\"hoverlabel\":{\"align\":\"left\"},\"paper_bgcolor\":\"white\",\"plot_bgcolor\":\"#E5ECF6\",\"polar\":{\"bgcolor\":\"#E5ECF6\",\"angularaxis\":{\"gridcolor\":\"white\",\"linecolor\":\"white\",\"ticks\":\"\"},\"radialaxis\":{\"gridcolor\":\"white\",\"linecolor\":\"white\",\"ticks\":\"\"}},\"ternary\":{\"bgcolor\":\"#E5ECF6\",\"aaxis\":{\"gridcolor\":\"white\",\"linecolor\":\"white\",\"ticks\":\"\"},\"baxis\":{\"gridcolor\":\"white\",\"linecolor\":\"white\",\"ticks\":\"\"},\"caxis\":{\"gridcolor\":\"white\",\"linecolor\":\"white\",\"ticks\":\"\"}},\"coloraxis\":{\"colorbar\":{\"outlinewidth\":0,\"ticks\":\"\"}},\"colorscale\":{\"sequential\":[[0.0,\"#0d0887\"],[0.1111111111111111,\"#46039f\"],[0.2222222222222222,\"#7201a8\"],[0.3333333333333333,\"#9c179e\"],[0.4444444444444444,\"#bd3786\"],[0.5555555555555556,\"#d8576b\"],[0.6666666666666666,\"#ed7953\"],[0.7777777777777778,\"#fb9f3a\"],[0.8888888888888888,\"#fdca26\"],[1.0,\"#f0f921\"]],\"sequentialminus\":[[0.0,\"#0d0887\"],[0.1111111111111111,\"#46039f\"],[0.2222222222222222,\"#7201a8\"],[0.3333333333333333,\"#9c179e\"],[0.4444444444444444,\"#bd3786\"],[0.5555555555555556,\"#d8576b\"],[0.6666666666666666,\"#ed7953\"],[0.7777777777777778,\"#fb9f3a\"],[0.8888888888888888,\"#fdca26\"],[1.0,\"#f0f921\"]],\"diverging\":[[0,\"#8e0152\"],[0.1,\"#c51b7d\"],[0.2,\"#de77ae\"],[0.3,\"#f1b6da\"],[0.4,\"#fde0ef\"],[0.5,\"#f7f7f7\"],[0.6,\"#e6f5d0\"],[0.7,\"#b8e186\"],[0.8,\"#7fbc41\"],[0.9,\"#4d9221\"],[1,\"#276419\"]]},\"xaxis\":{\"gridcolor\":\"white\",\"linecolor\":\"white\",\"ticks\":\"\",\"title\":{\"standoff\":15},\"zerolinecolor\":\"white\",\"automargin\":true,\"zerolinewidth\":2},\"yaxis\":{\"gridcolor\":\"white\",\"linecolor\":\"white\",\"ticks\":\"\",\"title\":{\"standoff\":15},\"zerolinecolor\":\"white\",\"automargin\":true,\"zerolinewidth\":2},\"scene\":{\"xaxis\":{\"backgroundcolor\":\"#E5ECF6\",\"gridcolor\":\"white\",\"linecolor\":\"white\",\"showbackground\":true,\"ticks\":\"\",\"zerolinecolor\":\"white\",\"gridwidth\":2},\"yaxis\":{\"backgroundcolor\":\"#E5ECF6\",\"gridcolor\":\"white\",\"linecolor\":\"white\",\"showbackground\":true,\"ticks\":\"\",\"zerolinecolor\":\"white\",\"gridwidth\":2},\"zaxis\":{\"backgroundcolor\":\"#E5ECF6\",\"gridcolor\":\"white\",\"linecolor\":\"white\",\"showbackground\":true,\"ticks\":\"\",\"zerolinecolor\":\"white\",\"gridwidth\":2}},\"shapedefaults\":{\"line\":{\"color\":\"#2a3f5f\"}},\"annotationdefaults\":{\"arrowcolor\":\"#2a3f5f\",\"arrowhead\":0,\"arrowwidth\":1},\"geo\":{\"bgcolor\":\"white\",\"landcolor\":\"#E5ECF6\",\"subunitcolor\":\"white\",\"showland\":true,\"showlakes\":true,\"lakecolor\":\"white\"},\"title\":{\"x\":0.05},\"mapbox\":{\"style\":\"light\"}}},\"title\":{\"text\":\"Visualizing the PMF\"},\"xaxis\":{\"title\":{\"text\":\"Dice Value\"}},\"yaxis\":{\"title\":{\"text\":\"Probability (proportion)\"}},\"width\":700},                        {\"responsive\": true}                    )                };            </script>        </div>"
      ],
      "text/plain": [
       "Figure({\n",
       "    'data': [{'type': 'bar',\n",
       "              'x': {'bdata': 'AgMEBQYHCAkKCww=', 'dtype': 'i1'},\n",
       "              'y': {'bdata': ('HMdxHMdxnD8cx3Ecx3GsP1VVVVVVVb' ... 'VVVbU/HMdxHMdxrD8cx3Ecx3GcPw=='),\n",
       "                    'dtype': 'f8'}}],\n",
       "    'layout': {'template': '...',\n",
       "               'title': {'text': 'Visualizing the PMF'},\n",
       "               'width': 700,\n",
       "               'xaxis': {'title': {'text': 'Dice Value'}},\n",
       "               'yaxis': {'title': {'text': 'Probability (proportion)'}}}\n",
       "})"
      ]
     },
     "execution_count": 57,
     "metadata": {},
     "output_type": "execute_result"
    }
   ],
   "source": [
    "# Create a bar chart of the value counts\n",
    "fig = graph_objects.Figure(\n",
    "    graph_objects.Bar(\n",
    "        x=numpy.arange(2,13),\n",
    "        y=numpy.array([1,2,3,4,5,6,5,4,3,2,1]) / 36\n",
    "    )\n",
    ")\n",
    "\n",
    "# Update the layout to improve readability\n",
    "fig.update_layout(\n",
    "    title='Visualizing the PMF',\n",
    "    xaxis_title='Dice Value',\n",
    "    yaxis_title='Probability (proportion)',\n",
    "    width=700\n",
    ")"
   ]
  },
  {
   "cell_type": "code",
   "execution_count": 58,
   "metadata": {},
   "outputs": [
    {
     "ename": "ValueError",
     "evalue": "Mime type rendering requires nbformat>=4.2.0 but it is not installed",
     "output_type": "error",
     "traceback": [
      "\u001b[0;31m---------------------------------------------------------------------------\u001b[0m",
      "\u001b[0;31mValueError\u001b[0m                                Traceback (most recent call last)",
      "File \u001b[0;32m~/Desktop/Health Data Science /.venv/lib/python3.9/site-packages/IPython/core/formatters.py:922\u001b[0m, in \u001b[0;36mIPythonDisplayFormatter.__call__\u001b[0;34m(self, obj)\u001b[0m\n\u001b[1;32m    920\u001b[0m method \u001b[38;5;241m=\u001b[39m get_real_method(obj, \u001b[38;5;28mself\u001b[39m\u001b[38;5;241m.\u001b[39mprint_method)\n\u001b[1;32m    921\u001b[0m \u001b[38;5;28;01mif\u001b[39;00m method \u001b[38;5;129;01mis\u001b[39;00m \u001b[38;5;129;01mnot\u001b[39;00m \u001b[38;5;28;01mNone\u001b[39;00m:\n\u001b[0;32m--> 922\u001b[0m     \u001b[43mmethod\u001b[49m\u001b[43m(\u001b[49m\u001b[43m)\u001b[49m\n\u001b[1;32m    923\u001b[0m     \u001b[38;5;28;01mreturn\u001b[39;00m \u001b[38;5;28;01mTrue\u001b[39;00m\n",
      "File \u001b[0;32m~/Desktop/Health Data Science /.venv/lib/python3.9/site-packages/plotly/basedatatypes.py:833\u001b[0m, in \u001b[0;36mBaseFigure._ipython_display_\u001b[0;34m(self)\u001b[0m\n\u001b[1;32m    830\u001b[0m \u001b[38;5;28;01mimport\u001b[39;00m\u001b[38;5;250m \u001b[39m\u001b[38;5;21;01mplotly\u001b[39;00m\u001b[38;5;21;01m.\u001b[39;00m\u001b[38;5;21;01mio\u001b[39;00m\u001b[38;5;250m \u001b[39m\u001b[38;5;28;01mas\u001b[39;00m\u001b[38;5;250m \u001b[39m\u001b[38;5;21;01mpio\u001b[39;00m\n\u001b[1;32m    832\u001b[0m \u001b[38;5;28;01mif\u001b[39;00m pio\u001b[38;5;241m.\u001b[39mrenderers\u001b[38;5;241m.\u001b[39mrender_on_display \u001b[38;5;129;01mand\u001b[39;00m pio\u001b[38;5;241m.\u001b[39mrenderers\u001b[38;5;241m.\u001b[39mdefault:\n\u001b[0;32m--> 833\u001b[0m     \u001b[43mpio\u001b[49m\u001b[38;5;241;43m.\u001b[39;49m\u001b[43mshow\u001b[49m\u001b[43m(\u001b[49m\u001b[38;5;28;43mself\u001b[39;49m\u001b[43m)\u001b[49m\n\u001b[1;32m    834\u001b[0m \u001b[38;5;28;01melse\u001b[39;00m:\n\u001b[1;32m    835\u001b[0m     \u001b[38;5;28mprint\u001b[39m(\u001b[38;5;28mrepr\u001b[39m(\u001b[38;5;28mself\u001b[39m))\n",
      "File \u001b[0;32m~/Desktop/Health Data Science /.venv/lib/python3.9/site-packages/plotly/io/_renderers.py:425\u001b[0m, in \u001b[0;36mshow\u001b[0;34m(fig, renderer, validate, **kwargs)\u001b[0m\n\u001b[1;32m    420\u001b[0m     \u001b[38;5;28;01mraise\u001b[39;00m \u001b[38;5;167;01mValueError\u001b[39;00m(\n\u001b[1;32m    421\u001b[0m         \u001b[38;5;124m\"\u001b[39m\u001b[38;5;124mMime type rendering requires ipython but it is not installed\u001b[39m\u001b[38;5;124m\"\u001b[39m\n\u001b[1;32m    422\u001b[0m     )\n\u001b[1;32m    424\u001b[0m \u001b[38;5;28;01mif\u001b[39;00m \u001b[38;5;129;01mnot\u001b[39;00m nbformat \u001b[38;5;129;01mor\u001b[39;00m Version(nbformat\u001b[38;5;241m.\u001b[39m__version__) \u001b[38;5;241m<\u001b[39m Version(\u001b[38;5;124m\"\u001b[39m\u001b[38;5;124m4.2.0\u001b[39m\u001b[38;5;124m\"\u001b[39m):\n\u001b[0;32m--> 425\u001b[0m     \u001b[38;5;28;01mraise\u001b[39;00m \u001b[38;5;167;01mValueError\u001b[39;00m(\n\u001b[1;32m    426\u001b[0m         \u001b[38;5;124m\"\u001b[39m\u001b[38;5;124mMime type rendering requires nbformat>=4.2.0 but it is not installed\u001b[39m\u001b[38;5;124m\"\u001b[39m\n\u001b[1;32m    427\u001b[0m     )\n\u001b[1;32m    429\u001b[0m display_jupyter_version_warnings()\n\u001b[1;32m    431\u001b[0m ipython_display\u001b[38;5;241m.\u001b[39mdisplay(bundle, raw\u001b[38;5;241m=\u001b[39m\u001b[38;5;28;01mTrue\u001b[39;00m)\n",
      "\u001b[0;31mValueError\u001b[0m: Mime type rendering requires nbformat>=4.2.0 but it is not installed"
     ]
    },
    {
     "data": {
      "application/vnd.plotly.v1+json": {
       "config": {
        "plotlyServerURL": "https://plot.ly"
       },
       "data": [
        {
         "marker": {
          "color": [
           "lightslategray",
           "lightslategray",
           "lightslategray",
           "lightslategray",
           "lightslategray",
           "lightslategray",
           "lightslategray",
           "lightslategray",
           "crimson",
           "crimson",
           "crimson"
          ]
         },
         "type": "bar",
         "x": {
          "bdata": "AgMEBQYHCAkKCww=",
          "dtype": "i1"
         },
         "y": {
          "bdata": "HMdxHMdxnD8cx3Ecx3GsP1VVVVVVVbU/HMdxHMdxvD9yHMdxHMfBP1VVVVVVVcU/chzHcRzHwT8cx3Ecx3G8P1VVVVVVVbU/HMdxHMdxrD8cx3Ecx3GcPw==",
          "dtype": "f8"
         }
        }
       ],
       "layout": {
        "template": {
         "data": {
          "bar": [
           {
            "error_x": {
             "color": "#2a3f5f"
            },
            "error_y": {
             "color": "#2a3f5f"
            },
            "marker": {
             "line": {
              "color": "#E5ECF6",
              "width": 0.5
             },
             "pattern": {
              "fillmode": "overlay",
              "size": 10,
              "solidity": 0.2
             }
            },
            "type": "bar"
           }
          ],
          "barpolar": [
           {
            "marker": {
             "line": {
              "color": "#E5ECF6",
              "width": 0.5
             },
             "pattern": {
              "fillmode": "overlay",
              "size": 10,
              "solidity": 0.2
             }
            },
            "type": "barpolar"
           }
          ],
          "carpet": [
           {
            "aaxis": {
             "endlinecolor": "#2a3f5f",
             "gridcolor": "white",
             "linecolor": "white",
             "minorgridcolor": "white",
             "startlinecolor": "#2a3f5f"
            },
            "baxis": {
             "endlinecolor": "#2a3f5f",
             "gridcolor": "white",
             "linecolor": "white",
             "minorgridcolor": "white",
             "startlinecolor": "#2a3f5f"
            },
            "type": "carpet"
           }
          ],
          "choropleth": [
           {
            "colorbar": {
             "outlinewidth": 0,
             "ticks": ""
            },
            "type": "choropleth"
           }
          ],
          "contour": [
           {
            "colorbar": {
             "outlinewidth": 0,
             "ticks": ""
            },
            "colorscale": [
             [
              0,
              "#0d0887"
             ],
             [
              0.1111111111111111,
              "#46039f"
             ],
             [
              0.2222222222222222,
              "#7201a8"
             ],
             [
              0.3333333333333333,
              "#9c179e"
             ],
             [
              0.4444444444444444,
              "#bd3786"
             ],
             [
              0.5555555555555556,
              "#d8576b"
             ],
             [
              0.6666666666666666,
              "#ed7953"
             ],
             [
              0.7777777777777778,
              "#fb9f3a"
             ],
             [
              0.8888888888888888,
              "#fdca26"
             ],
             [
              1,
              "#f0f921"
             ]
            ],
            "type": "contour"
           }
          ],
          "contourcarpet": [
           {
            "colorbar": {
             "outlinewidth": 0,
             "ticks": ""
            },
            "type": "contourcarpet"
           }
          ],
          "heatmap": [
           {
            "colorbar": {
             "outlinewidth": 0,
             "ticks": ""
            },
            "colorscale": [
             [
              0,
              "#0d0887"
             ],
             [
              0.1111111111111111,
              "#46039f"
             ],
             [
              0.2222222222222222,
              "#7201a8"
             ],
             [
              0.3333333333333333,
              "#9c179e"
             ],
             [
              0.4444444444444444,
              "#bd3786"
             ],
             [
              0.5555555555555556,
              "#d8576b"
             ],
             [
              0.6666666666666666,
              "#ed7953"
             ],
             [
              0.7777777777777778,
              "#fb9f3a"
             ],
             [
              0.8888888888888888,
              "#fdca26"
             ],
             [
              1,
              "#f0f921"
             ]
            ],
            "type": "heatmap"
           }
          ],
          "histogram": [
           {
            "marker": {
             "pattern": {
              "fillmode": "overlay",
              "size": 10,
              "solidity": 0.2
             }
            },
            "type": "histogram"
           }
          ],
          "histogram2d": [
           {
            "colorbar": {
             "outlinewidth": 0,
             "ticks": ""
            },
            "colorscale": [
             [
              0,
              "#0d0887"
             ],
             [
              0.1111111111111111,
              "#46039f"
             ],
             [
              0.2222222222222222,
              "#7201a8"
             ],
             [
              0.3333333333333333,
              "#9c179e"
             ],
             [
              0.4444444444444444,
              "#bd3786"
             ],
             [
              0.5555555555555556,
              "#d8576b"
             ],
             [
              0.6666666666666666,
              "#ed7953"
             ],
             [
              0.7777777777777778,
              "#fb9f3a"
             ],
             [
              0.8888888888888888,
              "#fdca26"
             ],
             [
              1,
              "#f0f921"
             ]
            ],
            "type": "histogram2d"
           }
          ],
          "histogram2dcontour": [
           {
            "colorbar": {
             "outlinewidth": 0,
             "ticks": ""
            },
            "colorscale": [
             [
              0,
              "#0d0887"
             ],
             [
              0.1111111111111111,
              "#46039f"
             ],
             [
              0.2222222222222222,
              "#7201a8"
             ],
             [
              0.3333333333333333,
              "#9c179e"
             ],
             [
              0.4444444444444444,
              "#bd3786"
             ],
             [
              0.5555555555555556,
              "#d8576b"
             ],
             [
              0.6666666666666666,
              "#ed7953"
             ],
             [
              0.7777777777777778,
              "#fb9f3a"
             ],
             [
              0.8888888888888888,
              "#fdca26"
             ],
             [
              1,
              "#f0f921"
             ]
            ],
            "type": "histogram2dcontour"
           }
          ],
          "mesh3d": [
           {
            "colorbar": {
             "outlinewidth": 0,
             "ticks": ""
            },
            "type": "mesh3d"
           }
          ],
          "parcoords": [
           {
            "line": {
             "colorbar": {
              "outlinewidth": 0,
              "ticks": ""
             }
            },
            "type": "parcoords"
           }
          ],
          "pie": [
           {
            "automargin": true,
            "type": "pie"
           }
          ],
          "scatter": [
           {
            "fillpattern": {
             "fillmode": "overlay",
             "size": 10,
             "solidity": 0.2
            },
            "type": "scatter"
           }
          ],
          "scatter3d": [
           {
            "line": {
             "colorbar": {
              "outlinewidth": 0,
              "ticks": ""
             }
            },
            "marker": {
             "colorbar": {
              "outlinewidth": 0,
              "ticks": ""
             }
            },
            "type": "scatter3d"
           }
          ],
          "scattercarpet": [
           {
            "marker": {
             "colorbar": {
              "outlinewidth": 0,
              "ticks": ""
             }
            },
            "type": "scattercarpet"
           }
          ],
          "scattergeo": [
           {
            "marker": {
             "colorbar": {
              "outlinewidth": 0,
              "ticks": ""
             }
            },
            "type": "scattergeo"
           }
          ],
          "scattergl": [
           {
            "marker": {
             "colorbar": {
              "outlinewidth": 0,
              "ticks": ""
             }
            },
            "type": "scattergl"
           }
          ],
          "scattermap": [
           {
            "marker": {
             "colorbar": {
              "outlinewidth": 0,
              "ticks": ""
             }
            },
            "type": "scattermap"
           }
          ],
          "scattermapbox": [
           {
            "marker": {
             "colorbar": {
              "outlinewidth": 0,
              "ticks": ""
             }
            },
            "type": "scattermapbox"
           }
          ],
          "scatterpolar": [
           {
            "marker": {
             "colorbar": {
              "outlinewidth": 0,
              "ticks": ""
             }
            },
            "type": "scatterpolar"
           }
          ],
          "scatterpolargl": [
           {
            "marker": {
             "colorbar": {
              "outlinewidth": 0,
              "ticks": ""
             }
            },
            "type": "scatterpolargl"
           }
          ],
          "scatterternary": [
           {
            "marker": {
             "colorbar": {
              "outlinewidth": 0,
              "ticks": ""
             }
            },
            "type": "scatterternary"
           }
          ],
          "surface": [
           {
            "colorbar": {
             "outlinewidth": 0,
             "ticks": ""
            },
            "colorscale": [
             [
              0,
              "#0d0887"
             ],
             [
              0.1111111111111111,
              "#46039f"
             ],
             [
              0.2222222222222222,
              "#7201a8"
             ],
             [
              0.3333333333333333,
              "#9c179e"
             ],
             [
              0.4444444444444444,
              "#bd3786"
             ],
             [
              0.5555555555555556,
              "#d8576b"
             ],
             [
              0.6666666666666666,
              "#ed7953"
             ],
             [
              0.7777777777777778,
              "#fb9f3a"
             ],
             [
              0.8888888888888888,
              "#fdca26"
             ],
             [
              1,
              "#f0f921"
             ]
            ],
            "type": "surface"
           }
          ],
          "table": [
           {
            "cells": {
             "fill": {
              "color": "#EBF0F8"
             },
             "line": {
              "color": "white"
             }
            },
            "header": {
             "fill": {
              "color": "#C8D4E3"
             },
             "line": {
              "color": "white"
             }
            },
            "type": "table"
           }
          ]
         },
         "layout": {
          "annotationdefaults": {
           "arrowcolor": "#2a3f5f",
           "arrowhead": 0,
           "arrowwidth": 1
          },
          "autotypenumbers": "strict",
          "coloraxis": {
           "colorbar": {
            "outlinewidth": 0,
            "ticks": ""
           }
          },
          "colorscale": {
           "diverging": [
            [
             0,
             "#8e0152"
            ],
            [
             0.1,
             "#c51b7d"
            ],
            [
             0.2,
             "#de77ae"
            ],
            [
             0.3,
             "#f1b6da"
            ],
            [
             0.4,
             "#fde0ef"
            ],
            [
             0.5,
             "#f7f7f7"
            ],
            [
             0.6,
             "#e6f5d0"
            ],
            [
             0.7,
             "#b8e186"
            ],
            [
             0.8,
             "#7fbc41"
            ],
            [
             0.9,
             "#4d9221"
            ],
            [
             1,
             "#276419"
            ]
           ],
           "sequential": [
            [
             0,
             "#0d0887"
            ],
            [
             0.1111111111111111,
             "#46039f"
            ],
            [
             0.2222222222222222,
             "#7201a8"
            ],
            [
             0.3333333333333333,
             "#9c179e"
            ],
            [
             0.4444444444444444,
             "#bd3786"
            ],
            [
             0.5555555555555556,
             "#d8576b"
            ],
            [
             0.6666666666666666,
             "#ed7953"
            ],
            [
             0.7777777777777778,
             "#fb9f3a"
            ],
            [
             0.8888888888888888,
             "#fdca26"
            ],
            [
             1,
             "#f0f921"
            ]
           ],
           "sequentialminus": [
            [
             0,
             "#0d0887"
            ],
            [
             0.1111111111111111,
             "#46039f"
            ],
            [
             0.2222222222222222,
             "#7201a8"
            ],
            [
             0.3333333333333333,
             "#9c179e"
            ],
            [
             0.4444444444444444,
             "#bd3786"
            ],
            [
             0.5555555555555556,
             "#d8576b"
            ],
            [
             0.6666666666666666,
             "#ed7953"
            ],
            [
             0.7777777777777778,
             "#fb9f3a"
            ],
            [
             0.8888888888888888,
             "#fdca26"
            ],
            [
             1,
             "#f0f921"
            ]
           ]
          },
          "colorway": [
           "#636efa",
           "#EF553B",
           "#00cc96",
           "#ab63fa",
           "#FFA15A",
           "#19d3f3",
           "#FF6692",
           "#B6E880",
           "#FF97FF",
           "#FECB52"
          ],
          "font": {
           "color": "#2a3f5f"
          },
          "geo": {
           "bgcolor": "white",
           "lakecolor": "white",
           "landcolor": "#E5ECF6",
           "showlakes": true,
           "showland": true,
           "subunitcolor": "white"
          },
          "hoverlabel": {
           "align": "left"
          },
          "hovermode": "closest",
          "mapbox": {
           "style": "light"
          },
          "paper_bgcolor": "white",
          "plot_bgcolor": "#E5ECF6",
          "polar": {
           "angularaxis": {
            "gridcolor": "white",
            "linecolor": "white",
            "ticks": ""
           },
           "bgcolor": "#E5ECF6",
           "radialaxis": {
            "gridcolor": "white",
            "linecolor": "white",
            "ticks": ""
           }
          },
          "scene": {
           "xaxis": {
            "backgroundcolor": "#E5ECF6",
            "gridcolor": "white",
            "gridwidth": 2,
            "linecolor": "white",
            "showbackground": true,
            "ticks": "",
            "zerolinecolor": "white"
           },
           "yaxis": {
            "backgroundcolor": "#E5ECF6",
            "gridcolor": "white",
            "gridwidth": 2,
            "linecolor": "white",
            "showbackground": true,
            "ticks": "",
            "zerolinecolor": "white"
           },
           "zaxis": {
            "backgroundcolor": "#E5ECF6",
            "gridcolor": "white",
            "gridwidth": 2,
            "linecolor": "white",
            "showbackground": true,
            "ticks": "",
            "zerolinecolor": "white"
           }
          },
          "shapedefaults": {
           "line": {
            "color": "#2a3f5f"
           }
          },
          "ternary": {
           "aaxis": {
            "gridcolor": "white",
            "linecolor": "white",
            "ticks": ""
           },
           "baxis": {
            "gridcolor": "white",
            "linecolor": "white",
            "ticks": ""
           },
           "bgcolor": "#E5ECF6",
           "caxis": {
            "gridcolor": "white",
            "linecolor": "white",
            "ticks": ""
           }
          },
          "title": {
           "x": 0.05
          },
          "xaxis": {
           "automargin": true,
           "gridcolor": "white",
           "linecolor": "white",
           "ticks": "",
           "title": {
            "standoff": 15
           },
           "zerolinecolor": "white",
           "zerolinewidth": 2
          },
          "yaxis": {
           "automargin": true,
           "gridcolor": "white",
           "linecolor": "white",
           "ticks": "",
           "title": {
            "standoff": 15
           },
           "zerolinecolor": "white",
           "zerolinewidth": 2
          }
         }
        },
        "title": {
         "text": "Probability of rolling a 10 or more (red)"
        },
        "width": 700,
        "xaxis": {
         "title": {
          "text": "Dice Value"
         }
        },
        "yaxis": {
         "title": {
          "text": "Probability (proportion)"
         }
        }
       }
      },
      "text/html": [
       "<div>                        <script type=\"text/javascript\">window.PlotlyConfig = {MathJaxConfig: 'local'};</script>\n",
       "        <script charset=\"utf-8\" src=\"https://cdn.plot.ly/plotly-3.0.1.min.js\"></script>                <div id=\"4f8925dd-6e5f-4c83-9dd3-dc145c63061d\" class=\"plotly-graph-div\" style=\"height:100%; width:700px;\"></div>            <script type=\"text/javascript\">                window.PLOTLYENV=window.PLOTLYENV || {};                                if (document.getElementById(\"4f8925dd-6e5f-4c83-9dd3-dc145c63061d\")) {                    Plotly.newPlot(                        \"4f8925dd-6e5f-4c83-9dd3-dc145c63061d\",                        [{\"marker\":{\"color\":[\"lightslategray\",\"lightslategray\",\"lightslategray\",\"lightslategray\",\"lightslategray\",\"lightslategray\",\"lightslategray\",\"lightslategray\",\"crimson\",\"crimson\",\"crimson\"]},\"x\":{\"dtype\":\"i1\",\"bdata\":\"AgMEBQYHCAkKCww=\"},\"y\":{\"dtype\":\"f8\",\"bdata\":\"HMdxHMdxnD8cx3Ecx3GsP1VVVVVVVbU\\u002fHMdxHMdxvD9yHMdxHMfBP1VVVVVVVcU\\u002fchzHcRzHwT8cx3Ecx3G8P1VVVVVVVbU\\u002fHMdxHMdxrD8cx3Ecx3GcPw==\"},\"type\":\"bar\"}],                        {\"template\":{\"data\":{\"histogram2dcontour\":[{\"type\":\"histogram2dcontour\",\"colorbar\":{\"outlinewidth\":0,\"ticks\":\"\"},\"colorscale\":[[0.0,\"#0d0887\"],[0.1111111111111111,\"#46039f\"],[0.2222222222222222,\"#7201a8\"],[0.3333333333333333,\"#9c179e\"],[0.4444444444444444,\"#bd3786\"],[0.5555555555555556,\"#d8576b\"],[0.6666666666666666,\"#ed7953\"],[0.7777777777777778,\"#fb9f3a\"],[0.8888888888888888,\"#fdca26\"],[1.0,\"#f0f921\"]]}],\"choropleth\":[{\"type\":\"choropleth\",\"colorbar\":{\"outlinewidth\":0,\"ticks\":\"\"}}],\"histogram2d\":[{\"type\":\"histogram2d\",\"colorbar\":{\"outlinewidth\":0,\"ticks\":\"\"},\"colorscale\":[[0.0,\"#0d0887\"],[0.1111111111111111,\"#46039f\"],[0.2222222222222222,\"#7201a8\"],[0.3333333333333333,\"#9c179e\"],[0.4444444444444444,\"#bd3786\"],[0.5555555555555556,\"#d8576b\"],[0.6666666666666666,\"#ed7953\"],[0.7777777777777778,\"#fb9f3a\"],[0.8888888888888888,\"#fdca26\"],[1.0,\"#f0f921\"]]}],\"heatmap\":[{\"type\":\"heatmap\",\"colorbar\":{\"outlinewidth\":0,\"ticks\":\"\"},\"colorscale\":[[0.0,\"#0d0887\"],[0.1111111111111111,\"#46039f\"],[0.2222222222222222,\"#7201a8\"],[0.3333333333333333,\"#9c179e\"],[0.4444444444444444,\"#bd3786\"],[0.5555555555555556,\"#d8576b\"],[0.6666666666666666,\"#ed7953\"],[0.7777777777777778,\"#fb9f3a\"],[0.8888888888888888,\"#fdca26\"],[1.0,\"#f0f921\"]]}],\"contourcarpet\":[{\"type\":\"contourcarpet\",\"colorbar\":{\"outlinewidth\":0,\"ticks\":\"\"}}],\"contour\":[{\"type\":\"contour\",\"colorbar\":{\"outlinewidth\":0,\"ticks\":\"\"},\"colorscale\":[[0.0,\"#0d0887\"],[0.1111111111111111,\"#46039f\"],[0.2222222222222222,\"#7201a8\"],[0.3333333333333333,\"#9c179e\"],[0.4444444444444444,\"#bd3786\"],[0.5555555555555556,\"#d8576b\"],[0.6666666666666666,\"#ed7953\"],[0.7777777777777778,\"#fb9f3a\"],[0.8888888888888888,\"#fdca26\"],[1.0,\"#f0f921\"]]}],\"surface\":[{\"type\":\"surface\",\"colorbar\":{\"outlinewidth\":0,\"ticks\":\"\"},\"colorscale\":[[0.0,\"#0d0887\"],[0.1111111111111111,\"#46039f\"],[0.2222222222222222,\"#7201a8\"],[0.3333333333333333,\"#9c179e\"],[0.4444444444444444,\"#bd3786\"],[0.5555555555555556,\"#d8576b\"],[0.6666666666666666,\"#ed7953\"],[0.7777777777777778,\"#fb9f3a\"],[0.8888888888888888,\"#fdca26\"],[1.0,\"#f0f921\"]]}],\"mesh3d\":[{\"type\":\"mesh3d\",\"colorbar\":{\"outlinewidth\":0,\"ticks\":\"\"}}],\"scatter\":[{\"fillpattern\":{\"fillmode\":\"overlay\",\"size\":10,\"solidity\":0.2},\"type\":\"scatter\"}],\"parcoords\":[{\"type\":\"parcoords\",\"line\":{\"colorbar\":{\"outlinewidth\":0,\"ticks\":\"\"}}}],\"scatterpolargl\":[{\"type\":\"scatterpolargl\",\"marker\":{\"colorbar\":{\"outlinewidth\":0,\"ticks\":\"\"}}}],\"bar\":[{\"error_x\":{\"color\":\"#2a3f5f\"},\"error_y\":{\"color\":\"#2a3f5f\"},\"marker\":{\"line\":{\"color\":\"#E5ECF6\",\"width\":0.5},\"pattern\":{\"fillmode\":\"overlay\",\"size\":10,\"solidity\":0.2}},\"type\":\"bar\"}],\"scattergeo\":[{\"type\":\"scattergeo\",\"marker\":{\"colorbar\":{\"outlinewidth\":0,\"ticks\":\"\"}}}],\"scatterpolar\":[{\"type\":\"scatterpolar\",\"marker\":{\"colorbar\":{\"outlinewidth\":0,\"ticks\":\"\"}}}],\"histogram\":[{\"marker\":{\"pattern\":{\"fillmode\":\"overlay\",\"size\":10,\"solidity\":0.2}},\"type\":\"histogram\"}],\"scattergl\":[{\"type\":\"scattergl\",\"marker\":{\"colorbar\":{\"outlinewidth\":0,\"ticks\":\"\"}}}],\"scatter3d\":[{\"type\":\"scatter3d\",\"line\":{\"colorbar\":{\"outlinewidth\":0,\"ticks\":\"\"}},\"marker\":{\"colorbar\":{\"outlinewidth\":0,\"ticks\":\"\"}}}],\"scattermap\":[{\"type\":\"scattermap\",\"marker\":{\"colorbar\":{\"outlinewidth\":0,\"ticks\":\"\"}}}],\"scattermapbox\":[{\"type\":\"scattermapbox\",\"marker\":{\"colorbar\":{\"outlinewidth\":0,\"ticks\":\"\"}}}],\"scatterternary\":[{\"type\":\"scatterternary\",\"marker\":{\"colorbar\":{\"outlinewidth\":0,\"ticks\":\"\"}}}],\"scattercarpet\":[{\"type\":\"scattercarpet\",\"marker\":{\"colorbar\":{\"outlinewidth\":0,\"ticks\":\"\"}}}],\"carpet\":[{\"aaxis\":{\"endlinecolor\":\"#2a3f5f\",\"gridcolor\":\"white\",\"linecolor\":\"white\",\"minorgridcolor\":\"white\",\"startlinecolor\":\"#2a3f5f\"},\"baxis\":{\"endlinecolor\":\"#2a3f5f\",\"gridcolor\":\"white\",\"linecolor\":\"white\",\"minorgridcolor\":\"white\",\"startlinecolor\":\"#2a3f5f\"},\"type\":\"carpet\"}],\"table\":[{\"cells\":{\"fill\":{\"color\":\"#EBF0F8\"},\"line\":{\"color\":\"white\"}},\"header\":{\"fill\":{\"color\":\"#C8D4E3\"},\"line\":{\"color\":\"white\"}},\"type\":\"table\"}],\"barpolar\":[{\"marker\":{\"line\":{\"color\":\"#E5ECF6\",\"width\":0.5},\"pattern\":{\"fillmode\":\"overlay\",\"size\":10,\"solidity\":0.2}},\"type\":\"barpolar\"}],\"pie\":[{\"automargin\":true,\"type\":\"pie\"}]},\"layout\":{\"autotypenumbers\":\"strict\",\"colorway\":[\"#636efa\",\"#EF553B\",\"#00cc96\",\"#ab63fa\",\"#FFA15A\",\"#19d3f3\",\"#FF6692\",\"#B6E880\",\"#FF97FF\",\"#FECB52\"],\"font\":{\"color\":\"#2a3f5f\"},\"hovermode\":\"closest\",\"hoverlabel\":{\"align\":\"left\"},\"paper_bgcolor\":\"white\",\"plot_bgcolor\":\"#E5ECF6\",\"polar\":{\"bgcolor\":\"#E5ECF6\",\"angularaxis\":{\"gridcolor\":\"white\",\"linecolor\":\"white\",\"ticks\":\"\"},\"radialaxis\":{\"gridcolor\":\"white\",\"linecolor\":\"white\",\"ticks\":\"\"}},\"ternary\":{\"bgcolor\":\"#E5ECF6\",\"aaxis\":{\"gridcolor\":\"white\",\"linecolor\":\"white\",\"ticks\":\"\"},\"baxis\":{\"gridcolor\":\"white\",\"linecolor\":\"white\",\"ticks\":\"\"},\"caxis\":{\"gridcolor\":\"white\",\"linecolor\":\"white\",\"ticks\":\"\"}},\"coloraxis\":{\"colorbar\":{\"outlinewidth\":0,\"ticks\":\"\"}},\"colorscale\":{\"sequential\":[[0.0,\"#0d0887\"],[0.1111111111111111,\"#46039f\"],[0.2222222222222222,\"#7201a8\"],[0.3333333333333333,\"#9c179e\"],[0.4444444444444444,\"#bd3786\"],[0.5555555555555556,\"#d8576b\"],[0.6666666666666666,\"#ed7953\"],[0.7777777777777778,\"#fb9f3a\"],[0.8888888888888888,\"#fdca26\"],[1.0,\"#f0f921\"]],\"sequentialminus\":[[0.0,\"#0d0887\"],[0.1111111111111111,\"#46039f\"],[0.2222222222222222,\"#7201a8\"],[0.3333333333333333,\"#9c179e\"],[0.4444444444444444,\"#bd3786\"],[0.5555555555555556,\"#d8576b\"],[0.6666666666666666,\"#ed7953\"],[0.7777777777777778,\"#fb9f3a\"],[0.8888888888888888,\"#fdca26\"],[1.0,\"#f0f921\"]],\"diverging\":[[0,\"#8e0152\"],[0.1,\"#c51b7d\"],[0.2,\"#de77ae\"],[0.3,\"#f1b6da\"],[0.4,\"#fde0ef\"],[0.5,\"#f7f7f7\"],[0.6,\"#e6f5d0\"],[0.7,\"#b8e186\"],[0.8,\"#7fbc41\"],[0.9,\"#4d9221\"],[1,\"#276419\"]]},\"xaxis\":{\"gridcolor\":\"white\",\"linecolor\":\"white\",\"ticks\":\"\",\"title\":{\"standoff\":15},\"zerolinecolor\":\"white\",\"automargin\":true,\"zerolinewidth\":2},\"yaxis\":{\"gridcolor\":\"white\",\"linecolor\":\"white\",\"ticks\":\"\",\"title\":{\"standoff\":15},\"zerolinecolor\":\"white\",\"automargin\":true,\"zerolinewidth\":2},\"scene\":{\"xaxis\":{\"backgroundcolor\":\"#E5ECF6\",\"gridcolor\":\"white\",\"linecolor\":\"white\",\"showbackground\":true,\"ticks\":\"\",\"zerolinecolor\":\"white\",\"gridwidth\":2},\"yaxis\":{\"backgroundcolor\":\"#E5ECF6\",\"gridcolor\":\"white\",\"linecolor\":\"white\",\"showbackground\":true,\"ticks\":\"\",\"zerolinecolor\":\"white\",\"gridwidth\":2},\"zaxis\":{\"backgroundcolor\":\"#E5ECF6\",\"gridcolor\":\"white\",\"linecolor\":\"white\",\"showbackground\":true,\"ticks\":\"\",\"zerolinecolor\":\"white\",\"gridwidth\":2}},\"shapedefaults\":{\"line\":{\"color\":\"#2a3f5f\"}},\"annotationdefaults\":{\"arrowcolor\":\"#2a3f5f\",\"arrowhead\":0,\"arrowwidth\":1},\"geo\":{\"bgcolor\":\"white\",\"landcolor\":\"#E5ECF6\",\"subunitcolor\":\"white\",\"showland\":true,\"showlakes\":true,\"lakecolor\":\"white\"},\"title\":{\"x\":0.05},\"mapbox\":{\"style\":\"light\"}}},\"title\":{\"text\":\"Probability of rolling a 10 or more (red)\"},\"xaxis\":{\"title\":{\"text\":\"Dice Value\"}},\"yaxis\":{\"title\":{\"text\":\"Probability (proportion)\"}},\"width\":700},                        {\"responsive\": true}                    )                };            </script>        </div>"
      ],
      "text/plain": [
       "Figure({\n",
       "    'data': [{'marker': {'color': [lightslategray, lightslategray, lightslategray,\n",
       "                                   lightslategray, lightslategray, lightslategray,\n",
       "                                   lightslategray, lightslategray, crimson,\n",
       "                                   crimson, crimson]},\n",
       "              'type': 'bar',\n",
       "              'x': {'bdata': 'AgMEBQYHCAkKCww=', 'dtype': 'i1'},\n",
       "              'y': {'bdata': ('HMdxHMdxnD8cx3Ecx3GsP1VVVVVVVb' ... 'VVVbU/HMdxHMdxrD8cx3Ecx3GcPw=='),\n",
       "                    'dtype': 'f8'}}],\n",
       "    'layout': {'template': '...',\n",
       "               'title': {'text': 'Probability of rolling a 10 or more (red)'},\n",
       "               'width': 700,\n",
       "               'xaxis': {'title': {'text': 'Dice Value'}},\n",
       "               'yaxis': {'title': {'text': 'Probability (proportion)'}}}\n",
       "})"
      ]
     },
     "execution_count": 58,
     "metadata": {},
     "output_type": "execute_result"
    }
   ],
   "source": [
    "# Generate bar colors\n",
    "colors = ['lightslategray',] * 11\n",
    "colors[8] = 'crimson'\n",
    "colors[9] = 'crimson'\n",
    "colors[10] = 'crimson'\n",
    "\n",
    "\n",
    "# Create a bar chart of the value counts\n",
    "fig = graph_objects.Figure(\n",
    "    graph_objects.Bar(\n",
    "        x=numpy.arange(2,13),\n",
    "        y=numpy.array([1,2,3,4,5,6,5,4,3,2,1]) / 36,\n",
    "        marker_color=colors\n",
    "    )\n",
    ")\n",
    "\n",
    "# Update the layout to improve readability\n",
    "fig.update_layout(\n",
    "    title='Probability of rolling a 10 or more (red)',\n",
    "    xaxis_title='Dice Value',\n",
    "    yaxis_title='Probability (proportion)',\n",
    "    width=700\n",
    ")"
   ]
  },
  {
   "cell_type": "markdown",
   "metadata": {},
   "source": [
    "# Continuous Variable"
   ]
  },
  {
   "cell_type": "code",
   "execution_count": 59,
   "metadata": {},
   "outputs": [
    {
     "ename": "ValueError",
     "evalue": "Mime type rendering requires nbformat>=4.2.0 but it is not installed",
     "output_type": "error",
     "traceback": [
      "\u001b[0;31m---------------------------------------------------------------------------\u001b[0m",
      "\u001b[0;31mValueError\u001b[0m                                Traceback (most recent call last)",
      "File \u001b[0;32m~/Desktop/Health Data Science /.venv/lib/python3.9/site-packages/IPython/core/formatters.py:922\u001b[0m, in \u001b[0;36mIPythonDisplayFormatter.__call__\u001b[0;34m(self, obj)\u001b[0m\n\u001b[1;32m    920\u001b[0m method \u001b[38;5;241m=\u001b[39m get_real_method(obj, \u001b[38;5;28mself\u001b[39m\u001b[38;5;241m.\u001b[39mprint_method)\n\u001b[1;32m    921\u001b[0m \u001b[38;5;28;01mif\u001b[39;00m method \u001b[38;5;129;01mis\u001b[39;00m \u001b[38;5;129;01mnot\u001b[39;00m \u001b[38;5;28;01mNone\u001b[39;00m:\n\u001b[0;32m--> 922\u001b[0m     \u001b[43mmethod\u001b[49m\u001b[43m(\u001b[49m\u001b[43m)\u001b[49m\n\u001b[1;32m    923\u001b[0m     \u001b[38;5;28;01mreturn\u001b[39;00m \u001b[38;5;28;01mTrue\u001b[39;00m\n",
      "File \u001b[0;32m~/Desktop/Health Data Science /.venv/lib/python3.9/site-packages/plotly/basedatatypes.py:833\u001b[0m, in \u001b[0;36mBaseFigure._ipython_display_\u001b[0;34m(self)\u001b[0m\n\u001b[1;32m    830\u001b[0m \u001b[38;5;28;01mimport\u001b[39;00m\u001b[38;5;250m \u001b[39m\u001b[38;5;21;01mplotly\u001b[39;00m\u001b[38;5;21;01m.\u001b[39;00m\u001b[38;5;21;01mio\u001b[39;00m\u001b[38;5;250m \u001b[39m\u001b[38;5;28;01mas\u001b[39;00m\u001b[38;5;250m \u001b[39m\u001b[38;5;21;01mpio\u001b[39;00m\n\u001b[1;32m    832\u001b[0m \u001b[38;5;28;01mif\u001b[39;00m pio\u001b[38;5;241m.\u001b[39mrenderers\u001b[38;5;241m.\u001b[39mrender_on_display \u001b[38;5;129;01mand\u001b[39;00m pio\u001b[38;5;241m.\u001b[39mrenderers\u001b[38;5;241m.\u001b[39mdefault:\n\u001b[0;32m--> 833\u001b[0m     \u001b[43mpio\u001b[49m\u001b[38;5;241;43m.\u001b[39;49m\u001b[43mshow\u001b[49m\u001b[43m(\u001b[49m\u001b[38;5;28;43mself\u001b[39;49m\u001b[43m)\u001b[49m\n\u001b[1;32m    834\u001b[0m \u001b[38;5;28;01melse\u001b[39;00m:\n\u001b[1;32m    835\u001b[0m     \u001b[38;5;28mprint\u001b[39m(\u001b[38;5;28mrepr\u001b[39m(\u001b[38;5;28mself\u001b[39m))\n",
      "File \u001b[0;32m~/Desktop/Health Data Science /.venv/lib/python3.9/site-packages/plotly/io/_renderers.py:425\u001b[0m, in \u001b[0;36mshow\u001b[0;34m(fig, renderer, validate, **kwargs)\u001b[0m\n\u001b[1;32m    420\u001b[0m     \u001b[38;5;28;01mraise\u001b[39;00m \u001b[38;5;167;01mValueError\u001b[39;00m(\n\u001b[1;32m    421\u001b[0m         \u001b[38;5;124m\"\u001b[39m\u001b[38;5;124mMime type rendering requires ipython but it is not installed\u001b[39m\u001b[38;5;124m\"\u001b[39m\n\u001b[1;32m    422\u001b[0m     )\n\u001b[1;32m    424\u001b[0m \u001b[38;5;28;01mif\u001b[39;00m \u001b[38;5;129;01mnot\u001b[39;00m nbformat \u001b[38;5;129;01mor\u001b[39;00m Version(nbformat\u001b[38;5;241m.\u001b[39m__version__) \u001b[38;5;241m<\u001b[39m Version(\u001b[38;5;124m\"\u001b[39m\u001b[38;5;124m4.2.0\u001b[39m\u001b[38;5;124m\"\u001b[39m):\n\u001b[0;32m--> 425\u001b[0m     \u001b[38;5;28;01mraise\u001b[39;00m \u001b[38;5;167;01mValueError\u001b[39;00m(\n\u001b[1;32m    426\u001b[0m         \u001b[38;5;124m\"\u001b[39m\u001b[38;5;124mMime type rendering requires nbformat>=4.2.0 but it is not installed\u001b[39m\u001b[38;5;124m\"\u001b[39m\n\u001b[1;32m    427\u001b[0m     )\n\u001b[1;32m    429\u001b[0m display_jupyter_version_warnings()\n\u001b[1;32m    431\u001b[0m ipython_display\u001b[38;5;241m.\u001b[39mdisplay(bundle, raw\u001b[38;5;241m=\u001b[39m\u001b[38;5;28;01mTrue\u001b[39;00m)\n",
      "\u001b[0;31mValueError\u001b[0m: Mime type rendering requires nbformat>=4.2.0 but it is not installed"
     ]
    },
    {
     "data": {
      "application/vnd.plotly.v1+json": {
       "config": {
        "plotlyServerURL": "https://plot.ly"
       },
       "data": [
        {
         "legendgroup": "Values",
         "marker": {
          "color": "rgb(31, 119, 180)"
         },
         "mode": "lines",
         "name": "Values",
         "showlegend": true,
         "type": "scatter",
         "x": [
          57.41290622025573,
          57.57801246058677,
          57.743118700917805,
          57.90822494124885,
          58.07333118157989,
          58.23843742191092,
          58.403543662241965,
          58.56864990257301,
          58.73375614290404,
          58.898862383235084,
          59.063968623566126,
          59.22907486389716,
          59.3941811042282,
          59.559287344559245,
          59.72439358489028,
          59.88949982522132,
          60.05460606555236,
          60.2197123058834,
          60.38481854621444,
          60.54992478654548,
          60.71503102687652,
          60.88013726720756,
          61.0452435075386,
          61.210349747869635,
          61.37545598820068,
          61.54056222853172,
          61.705668468862754,
          61.870774709193796,
          62.03588094952484,
          62.20098718985588,
          62.366093430186915,
          62.53119967051796,
          62.69630591084899,
          62.86141215118003,
          63.026518391511075,
          63.19162463184212,
          63.35673087217315,
          63.521837112504194,
          63.68694335283523,
          63.85204959316627,
          64.01715583349731,
          64.18226207382835,
          64.3473683141594,
          64.51247455449042,
          64.67758079482147,
          64.84268703515251,
          65.00779327548355,
          65.17289951581459,
          65.33800575614563,
          65.50311199647666,
          65.6682182368077,
          65.83332447713875,
          65.99843071746979,
          66.16353695780083,
          66.32864319813187,
          66.4937494384629,
          66.65885567879394,
          66.82396191912498,
          66.98906815945602,
          67.15417439978707,
          67.31928064011811,
          67.48438688044914,
          67.64949312078018,
          67.81459936111122,
          67.97970560144226,
          68.1448118417733,
          68.30991808210435,
          68.47502432243539,
          68.64013056276642,
          68.80523680309746,
          68.9703430434285,
          69.13544928375954,
          69.30055552409058,
          69.46566176442163,
          69.63076800475265,
          69.7958742450837,
          69.96098048541474,
          70.12608672574578,
          70.29119296607682,
          70.45629920640786,
          70.62140544673889,
          70.78651168706993,
          70.95161792740097,
          71.11672416773202,
          71.28183040806306,
          71.4469366483941,
          71.61204288872513,
          71.77714912905617,
          71.94225536938721,
          72.10736160971825,
          72.2724678500493,
          72.43757409038034,
          72.60268033071137,
          72.76778657104241,
          72.93289281137345,
          73.09799905170449,
          73.26310529203553,
          73.42821153236656,
          73.59331777269762,
          73.75842401302864,
          73.92353025335969,
          74.08863649369073,
          74.25374273402177,
          74.41884897435281,
          74.58395521468384,
          74.74906145501488,
          74.91416769534592,
          75.07927393567697,
          75.24438017600801,
          75.40948641633904,
          75.57459265667008,
          75.73969889700112,
          75.90480513733216,
          76.0699113776632,
          76.23501761799425,
          76.40012385832529,
          76.56523009865631,
          76.73033633898736,
          76.8954425793184,
          77.06054881964944,
          77.22565505998048,
          77.39076130031152,
          77.55586754064257,
          77.7209737809736,
          77.88608002130464,
          78.05118626163568,
          78.21629250196672,
          78.38139874229776,
          78.54650498262879,
          78.71161122295983,
          78.87671746329087,
          79.04182370362192,
          79.20692994395296,
          79.372036184284,
          79.53714242461504,
          79.70224866494607,
          79.86735490527711,
          80.03246114560815,
          80.1975673859392,
          80.36267362627024,
          80.52777986660126,
          80.69288610693232,
          80.85799234726335,
          81.02309858759439,
          81.18820482792543,
          81.35331106825646,
          81.51841730858752,
          81.68352354891854,
          81.84862978924959,
          82.01373602958063,
          82.17884226991167,
          82.34394851024271,
          82.50905475057374,
          82.6741609909048,
          82.83926723123582,
          83.00437347156686,
          83.1694797118979,
          83.33458595222895,
          83.49969219255999,
          83.66479843289102,
          83.82990467322206,
          83.9950109135531,
          84.16011715388414,
          84.32522339421519,
          84.49032963454621,
          84.65543587487727,
          84.8205421152083,
          84.98564835553934,
          85.15075459587038,
          85.31586083620142,
          85.48096707653247,
          85.6460733168635,
          85.81117955719454,
          85.97628579752558,
          86.14139203785662,
          86.30649827818766,
          86.4716045185187,
          86.63671075884974,
          86.80181699918077,
          86.96692323951181,
          87.13202947984286,
          87.2971357201739,
          87.46224196050494,
          87.62734820083597,
          87.79245444116701,
          87.95756068149805,
          88.1226669218291,
          88.28777316216014,
          88.45287940249116,
          88.61798564282222,
          88.78309188315325,
          88.94819812348429,
          89.11330436381533,
          89.27841060414637,
          89.44351684447741,
          89.60862308480844,
          89.7737293251395,
          89.93883556547053,
          90.10394180580157,
          90.26904804613261,
          90.43415428646364,
          90.5992605267947,
          90.76436676712572,
          90.92947300745676,
          91.0945792477878,
          91.25968548811883,
          91.42479172844989,
          91.58989796878093,
          91.75500420911197,
          91.920110449443,
          92.08521668977404,
          92.25032293010509,
          92.41542917043613,
          92.58053541076717,
          92.7456416510982,
          92.91074789142924,
          93.07585413176028,
          93.24096037209132,
          93.40606661242236,
          93.57117285275339,
          93.73627909308443,
          93.90138533341548,
          94.06649157374653,
          94.23159781407756,
          94.3967040544086,
          94.56181029473964,
          94.72691653507067,
          94.89202277540173,
          95.05712901573276,
          95.2222352560638,
          95.38734149639484,
          95.55244773672587,
          95.71755397705692,
          95.88266021738795,
          96.04776645771899,
          96.21287269805003,
          96.37797893838108,
          96.54308517871212,
          96.70819141904315,
          96.8732976593742,
          97.03840389970523,
          97.20351014003627,
          97.36861638036731,
          97.53372262069834,
          97.6988288610294,
          97.86393510136043,
          98.02904134169147,
          98.19414758202251,
          98.35925382235354,
          98.5243600626846,
          98.68946630301562,
          98.85457254334668,
          99.0196787836777,
          99.18478502400875,
          99.34989126433979,
          99.51499750467082,
          99.68010374500187,
          99.8452099853329,
          100.01031622566394,
          100.17542246599498,
          100.34052870632601,
          100.50563494665707,
          100.6707411869881,
          100.83584742731915,
          101.00095366765018,
          101.16605990798122,
          101.33116614831226,
          101.4962723886433,
          101.66137862897435,
          101.82648486930538,
          101.99159110963642,
          102.15669734996746,
          102.3218035902985,
          102.48690983062954,
          102.65201607096057,
          102.81712231129161,
          102.98222855162265,
          103.14733479195371,
          103.31244103228474,
          103.47754727261578,
          103.64265351294682,
          103.80775975327785,
          103.9728659936089,
          104.13797223393993,
          104.30307847427098,
          104.46818471460202,
          104.63329095493305,
          104.7983971952641,
          104.96350343559513,
          105.12860967592617,
          105.29371591625721,
          105.45882215658824,
          105.6239283969193,
          105.78903463725032,
          105.95414087758138,
          106.11924711791241,
          106.28435335824345,
          106.44945959857449,
          106.61456583890552,
          106.77967207923658,
          106.9447783195676,
          107.10988455989865,
          107.27499080022969,
          107.44009704056072,
          107.60520328089177,
          107.7703095212228,
          107.93541576155386,
          108.10052200188488,
          108.26562824221593,
          108.43073448254697,
          108.595840722878,
          108.76094696320905,
          108.92605320354008,
          109.09115944387112,
          109.25626568420216,
          109.42137192453319,
          109.58647816486425,
          109.75158440519527,
          109.91669064552632,
          110.08179688585736,
          110.2469031261884,
          110.41200936651944,
          110.57711560685048,
          110.74222184718153,
          110.90732808751255,
          111.07243432784361,
          111.23754056817464,
          111.40264680850568,
          111.56775304883672,
          111.73285928916775,
          111.8979655294988,
          112.06307176982983,
          112.22817801016087,
          112.39328425049192,
          112.55839049082296,
          112.723496731154,
          112.88860297148503,
          113.05370921181608,
          113.21881545214711,
          113.38392169247815,
          113.5490279328092,
          113.71413417314022,
          113.87924041347128,
          114.04434665380231,
          114.20945289413335,
          114.37455913446439,
          114.53966537479542,
          114.70477161512648,
          114.8698778554575,
          115.03498409578856,
          115.20009033611959,
          115.36519657645063,
          115.53030281678167,
          115.6954090571127,
          115.86051529744375,
          116.02562153777478,
          116.19072777810582,
          116.35583401843687,
          116.5209402587679,
          116.68604649909895,
          116.85115273942998,
          117.01625897976102,
          117.18136522009206,
          117.3464714604231,
          117.51157770075415,
          117.67668394108519,
          117.84179018141623,
          118.00689642174726,
          118.1720026620783,
          118.33710890240934,
          118.50221514274038,
          118.66732138307142,
          118.83242762340245,
          118.9975338637335,
          119.16264010406454,
          119.32774634439558,
          119.49285258472662,
          119.65795882505766,
          119.8230650653887,
          119.98817130571973,
          120.15327754605079,
          120.31838378638182,
          120.48349002671286,
          120.6485962670439,
          120.81370250737493,
          120.97880874770598,
          121.14391498803701,
          121.30902122836805,
          121.4741274686991,
          121.63923370903012,
          121.80433994936118,
          121.9694461896922,
          122.13455243002326,
          122.29965867035429,
          122.46476491068532,
          122.62987115101637,
          122.7949773913474,
          122.96008363167843,
          123.12518987200949,
          123.29029611234054,
          123.45540235267157,
          123.62050859300263,
          123.78561483333365,
          123.95072107366468,
          124.11582731399574,
          124.28093355432677,
          124.44603979465779,
          124.61114603498885,
          124.77625227531988,
          124.94135851565093,
          125.10646475598196,
          125.27157099631302,
          125.43667723664404,
          125.60178347697507,
          125.76688971730613,
          125.93199595763716,
          126.09710219796821,
          126.26220843829924,
          126.4273146786303,
          126.59242091896132,
          126.75752715929235,
          126.92263339962341,
          127.08773963995444,
          127.25284588028546,
          127.41795212061652,
          127.58305836094755,
          127.7481646012786,
          127.91327084160963,
          128.0783770819407,
          128.24348332227171,
          128.40858956260274,
          128.5736958029338,
          128.73880204326483,
          128.90390828359588,
          129.0690145239269,
          129.23412076425797,
          129.399227004589,
          129.56433324492002,
          129.72943948525108,
          129.8945457255821,
          130.05965196591313,
          130.2247582062442,
          130.38986444657525,
          130.55497068690627,
          130.72007692723733,
          130.88518316756836,
          131.05028940789938,
          131.2153956482304,
          131.38050188856147,
          131.5456081288925,
          131.71071436922355,
          131.87582060955458,
          132.04092684988564,
          132.20603309021666,
          132.37113933054772,
          132.53624557087875,
          132.70135181120978,
          132.86645805154083,
          133.03156429187186,
          133.19667053220292,
          133.36177677253394,
          133.526883012865,
          133.69198925319603,
          133.85709549352705,
          134.0222017338581,
          134.18730797418914,
          134.35241421452017,
          134.51752045485122,
          134.68262669518225,
          134.8477329355133,
          135.01283917584433,
          135.1779454161754,
          135.34305165650642,
          135.50815789683745,
          135.6732641371685,
          135.83837037749953,
          136.0034766178306,
          136.1685828581616,
          136.33368909849267,
          136.4987953388237,
          136.66390157915473,
          136.82900781948578,
          136.9941140598168,
          137.15922030014787,
          137.3243265404789,
          137.48943278080995,
          137.65453902114098,
          137.819645261472,
          137.98475150180306,
          138.1498577421341,
          138.31496398246512,
          138.48007022279617,
          138.6451764631272,
          138.81028270345826,
          138.97538894378928,
          139.14049518412034,
          139.30560142445137,
          139.4707076647824,
          139.63581390511345,
          139.80092014544448
         ],
         "xaxis": "x",
         "y": {
          "bdata": "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",
          "dtype": "f8"
         },
         "yaxis": "y"
        }
       ],
       "layout": {
        "barmode": "overlay",
        "hovermode": "closest",
        "legend": {
         "traceorder": "reversed"
        },
        "template": {
         "data": {
          "bar": [
           {
            "error_x": {
             "color": "#2a3f5f"
            },
            "error_y": {
             "color": "#2a3f5f"
            },
            "marker": {
             "line": {
              "color": "#E5ECF6",
              "width": 0.5
             },
             "pattern": {
              "fillmode": "overlay",
              "size": 10,
              "solidity": 0.2
             }
            },
            "type": "bar"
           }
          ],
          "barpolar": [
           {
            "marker": {
             "line": {
              "color": "#E5ECF6",
              "width": 0.5
             },
             "pattern": {
              "fillmode": "overlay",
              "size": 10,
              "solidity": 0.2
             }
            },
            "type": "barpolar"
           }
          ],
          "carpet": [
           {
            "aaxis": {
             "endlinecolor": "#2a3f5f",
             "gridcolor": "white",
             "linecolor": "white",
             "minorgridcolor": "white",
             "startlinecolor": "#2a3f5f"
            },
            "baxis": {
             "endlinecolor": "#2a3f5f",
             "gridcolor": "white",
             "linecolor": "white",
             "minorgridcolor": "white",
             "startlinecolor": "#2a3f5f"
            },
            "type": "carpet"
           }
          ],
          "choropleth": [
           {
            "colorbar": {
             "outlinewidth": 0,
             "ticks": ""
            },
            "type": "choropleth"
           }
          ],
          "contour": [
           {
            "colorbar": {
             "outlinewidth": 0,
             "ticks": ""
            },
            "colorscale": [
             [
              0,
              "#0d0887"
             ],
             [
              0.1111111111111111,
              "#46039f"
             ],
             [
              0.2222222222222222,
              "#7201a8"
             ],
             [
              0.3333333333333333,
              "#9c179e"
             ],
             [
              0.4444444444444444,
              "#bd3786"
             ],
             [
              0.5555555555555556,
              "#d8576b"
             ],
             [
              0.6666666666666666,
              "#ed7953"
             ],
             [
              0.7777777777777778,
              "#fb9f3a"
             ],
             [
              0.8888888888888888,
              "#fdca26"
             ],
             [
              1,
              "#f0f921"
             ]
            ],
            "type": "contour"
           }
          ],
          "contourcarpet": [
           {
            "colorbar": {
             "outlinewidth": 0,
             "ticks": ""
            },
            "type": "contourcarpet"
           }
          ],
          "heatmap": [
           {
            "colorbar": {
             "outlinewidth": 0,
             "ticks": ""
            },
            "colorscale": [
             [
              0,
              "#0d0887"
             ],
             [
              0.1111111111111111,
              "#46039f"
             ],
             [
              0.2222222222222222,
              "#7201a8"
             ],
             [
              0.3333333333333333,
              "#9c179e"
             ],
             [
              0.4444444444444444,
              "#bd3786"
             ],
             [
              0.5555555555555556,
              "#d8576b"
             ],
             [
              0.6666666666666666,
              "#ed7953"
             ],
             [
              0.7777777777777778,
              "#fb9f3a"
             ],
             [
              0.8888888888888888,
              "#fdca26"
             ],
             [
              1,
              "#f0f921"
             ]
            ],
            "type": "heatmap"
           }
          ],
          "histogram": [
           {
            "marker": {
             "pattern": {
              "fillmode": "overlay",
              "size": 10,
              "solidity": 0.2
             }
            },
            "type": "histogram"
           }
          ],
          "histogram2d": [
           {
            "colorbar": {
             "outlinewidth": 0,
             "ticks": ""
            },
            "colorscale": [
             [
              0,
              "#0d0887"
             ],
             [
              0.1111111111111111,
              "#46039f"
             ],
             [
              0.2222222222222222,
              "#7201a8"
             ],
             [
              0.3333333333333333,
              "#9c179e"
             ],
             [
              0.4444444444444444,
              "#bd3786"
             ],
             [
              0.5555555555555556,
              "#d8576b"
             ],
             [
              0.6666666666666666,
              "#ed7953"
             ],
             [
              0.7777777777777778,
              "#fb9f3a"
             ],
             [
              0.8888888888888888,
              "#fdca26"
             ],
             [
              1,
              "#f0f921"
             ]
            ],
            "type": "histogram2d"
           }
          ],
          "histogram2dcontour": [
           {
            "colorbar": {
             "outlinewidth": 0,
             "ticks": ""
            },
            "colorscale": [
             [
              0,
              "#0d0887"
             ],
             [
              0.1111111111111111,
              "#46039f"
             ],
             [
              0.2222222222222222,
              "#7201a8"
             ],
             [
              0.3333333333333333,
              "#9c179e"
             ],
             [
              0.4444444444444444,
              "#bd3786"
             ],
             [
              0.5555555555555556,
              "#d8576b"
             ],
             [
              0.6666666666666666,
              "#ed7953"
             ],
             [
              0.7777777777777778,
              "#fb9f3a"
             ],
             [
              0.8888888888888888,
              "#fdca26"
             ],
             [
              1,
              "#f0f921"
             ]
            ],
            "type": "histogram2dcontour"
           }
          ],
          "mesh3d": [
           {
            "colorbar": {
             "outlinewidth": 0,
             "ticks": ""
            },
            "type": "mesh3d"
           }
          ],
          "parcoords": [
           {
            "line": {
             "colorbar": {
              "outlinewidth": 0,
              "ticks": ""
             }
            },
            "type": "parcoords"
           }
          ],
          "pie": [
           {
            "automargin": true,
            "type": "pie"
           }
          ],
          "scatter": [
           {
            "fillpattern": {
             "fillmode": "overlay",
             "size": 10,
             "solidity": 0.2
            },
            "type": "scatter"
           }
          ],
          "scatter3d": [
           {
            "line": {
             "colorbar": {
              "outlinewidth": 0,
              "ticks": ""
             }
            },
            "marker": {
             "colorbar": {
              "outlinewidth": 0,
              "ticks": ""
             }
            },
            "type": "scatter3d"
           }
          ],
          "scattercarpet": [
           {
            "marker": {
             "colorbar": {
              "outlinewidth": 0,
              "ticks": ""
             }
            },
            "type": "scattercarpet"
           }
          ],
          "scattergeo": [
           {
            "marker": {
             "colorbar": {
              "outlinewidth": 0,
              "ticks": ""
             }
            },
            "type": "scattergeo"
           }
          ],
          "scattergl": [
           {
            "marker": {
             "colorbar": {
              "outlinewidth": 0,
              "ticks": ""
             }
            },
            "type": "scattergl"
           }
          ],
          "scattermap": [
           {
            "marker": {
             "colorbar": {
              "outlinewidth": 0,
              "ticks": ""
             }
            },
            "type": "scattermap"
           }
          ],
          "scattermapbox": [
           {
            "marker": {
             "colorbar": {
              "outlinewidth": 0,
              "ticks": ""
             }
            },
            "type": "scattermapbox"
           }
          ],
          "scatterpolar": [
           {
            "marker": {
             "colorbar": {
              "outlinewidth": 0,
              "ticks": ""
             }
            },
            "type": "scatterpolar"
           }
          ],
          "scatterpolargl": [
           {
            "marker": {
             "colorbar": {
              "outlinewidth": 0,
              "ticks": ""
             }
            },
            "type": "scatterpolargl"
           }
          ],
          "scatterternary": [
           {
            "marker": {
             "colorbar": {
              "outlinewidth": 0,
              "ticks": ""
             }
            },
            "type": "scatterternary"
           }
          ],
          "surface": [
           {
            "colorbar": {
             "outlinewidth": 0,
             "ticks": ""
            },
            "colorscale": [
             [
              0,
              "#0d0887"
             ],
             [
              0.1111111111111111,
              "#46039f"
             ],
             [
              0.2222222222222222,
              "#7201a8"
             ],
             [
              0.3333333333333333,
              "#9c179e"
             ],
             [
              0.4444444444444444,
              "#bd3786"
             ],
             [
              0.5555555555555556,
              "#d8576b"
             ],
             [
              0.6666666666666666,
              "#ed7953"
             ],
             [
              0.7777777777777778,
              "#fb9f3a"
             ],
             [
              0.8888888888888888,
              "#fdca26"
             ],
             [
              1,
              "#f0f921"
             ]
            ],
            "type": "surface"
           }
          ],
          "table": [
           {
            "cells": {
             "fill": {
              "color": "#EBF0F8"
             },
             "line": {
              "color": "white"
             }
            },
            "header": {
             "fill": {
              "color": "#C8D4E3"
             },
             "line": {
              "color": "white"
             }
            },
            "type": "table"
           }
          ]
         },
         "layout": {
          "annotationdefaults": {
           "arrowcolor": "#2a3f5f",
           "arrowhead": 0,
           "arrowwidth": 1
          },
          "autotypenumbers": "strict",
          "coloraxis": {
           "colorbar": {
            "outlinewidth": 0,
            "ticks": ""
           }
          },
          "colorscale": {
           "diverging": [
            [
             0,
             "#8e0152"
            ],
            [
             0.1,
             "#c51b7d"
            ],
            [
             0.2,
             "#de77ae"
            ],
            [
             0.3,
             "#f1b6da"
            ],
            [
             0.4,
             "#fde0ef"
            ],
            [
             0.5,
             "#f7f7f7"
            ],
            [
             0.6,
             "#e6f5d0"
            ],
            [
             0.7,
             "#b8e186"
            ],
            [
             0.8,
             "#7fbc41"
            ],
            [
             0.9,
             "#4d9221"
            ],
            [
             1,
             "#276419"
            ]
           ],
           "sequential": [
            [
             0,
             "#0d0887"
            ],
            [
             0.1111111111111111,
             "#46039f"
            ],
            [
             0.2222222222222222,
             "#7201a8"
            ],
            [
             0.3333333333333333,
             "#9c179e"
            ],
            [
             0.4444444444444444,
             "#bd3786"
            ],
            [
             0.5555555555555556,
             "#d8576b"
            ],
            [
             0.6666666666666666,
             "#ed7953"
            ],
            [
             0.7777777777777778,
             "#fb9f3a"
            ],
            [
             0.8888888888888888,
             "#fdca26"
            ],
            [
             1,
             "#f0f921"
            ]
           ],
           "sequentialminus": [
            [
             0,
             "#0d0887"
            ],
            [
             0.1111111111111111,
             "#46039f"
            ],
            [
             0.2222222222222222,
             "#7201a8"
            ],
            [
             0.3333333333333333,
             "#9c179e"
            ],
            [
             0.4444444444444444,
             "#bd3786"
            ],
            [
             0.5555555555555556,
             "#d8576b"
            ],
            [
             0.6666666666666666,
             "#ed7953"
            ],
            [
             0.7777777777777778,
             "#fb9f3a"
            ],
            [
             0.8888888888888888,
             "#fdca26"
            ],
            [
             1,
             "#f0f921"
            ]
           ]
          },
          "colorway": [
           "#636efa",
           "#EF553B",
           "#00cc96",
           "#ab63fa",
           "#FFA15A",
           "#19d3f3",
           "#FF6692",
           "#B6E880",
           "#FF97FF",
           "#FECB52"
          ],
          "font": {
           "color": "#2a3f5f"
          },
          "geo": {
           "bgcolor": "white",
           "lakecolor": "white",
           "landcolor": "#E5ECF6",
           "showlakes": true,
           "showland": true,
           "subunitcolor": "white"
          },
          "hoverlabel": {
           "align": "left"
          },
          "hovermode": "closest",
          "mapbox": {
           "style": "light"
          },
          "paper_bgcolor": "white",
          "plot_bgcolor": "#E5ECF6",
          "polar": {
           "angularaxis": {
            "gridcolor": "white",
            "linecolor": "white",
            "ticks": ""
           },
           "bgcolor": "#E5ECF6",
           "radialaxis": {
            "gridcolor": "white",
            "linecolor": "white",
            "ticks": ""
           }
          },
          "scene": {
           "xaxis": {
            "backgroundcolor": "#E5ECF6",
            "gridcolor": "white",
            "gridwidth": 2,
            "linecolor": "white",
            "showbackground": true,
            "ticks": "",
            "zerolinecolor": "white"
           },
           "yaxis": {
            "backgroundcolor": "#E5ECF6",
            "gridcolor": "white",
            "gridwidth": 2,
            "linecolor": "white",
            "showbackground": true,
            "ticks": "",
            "zerolinecolor": "white"
           },
           "zaxis": {
            "backgroundcolor": "#E5ECF6",
            "gridcolor": "white",
            "gridwidth": 2,
            "linecolor": "white",
            "showbackground": true,
            "ticks": "",
            "zerolinecolor": "white"
           }
          },
          "shapedefaults": {
           "line": {
            "color": "#2a3f5f"
           }
          },
          "ternary": {
           "aaxis": {
            "gridcolor": "white",
            "linecolor": "white",
            "ticks": ""
           },
           "baxis": {
            "gridcolor": "white",
            "linecolor": "white",
            "ticks": ""
           },
           "bgcolor": "#E5ECF6",
           "caxis": {
            "gridcolor": "white",
            "linecolor": "white",
            "ticks": ""
           }
          },
          "title": {
           "x": 0.05
          },
          "xaxis": {
           "automargin": true,
           "gridcolor": "white",
           "linecolor": "white",
           "ticks": "",
           "title": {
            "standoff": 15
           },
           "zerolinecolor": "white",
           "zerolinewidth": 2
          },
          "yaxis": {
           "automargin": true,
           "gridcolor": "white",
           "linecolor": "white",
           "ticks": "",
           "title": {
            "standoff": 15
           },
           "zerolinecolor": "white",
           "zerolinewidth": 2
          }
         }
        },
        "title": {
         "text": "Probability density function for normal distribution"
        },
        "width": 700,
        "xaxis": {
         "anchor": "y2",
         "domain": [
          0,
          1
         ],
         "title": {
          "text": "Variable value"
         },
         "zeroline": false
        },
        "yaxis": {
         "anchor": "free",
         "domain": [
          0,
          1
         ],
         "position": 0,
         "title": {
          "text": "Probability density"
         }
        }
       }
      },
      "text/html": [
       "<div>                        <script type=\"text/javascript\">window.PlotlyConfig = {MathJaxConfig: 'local'};</script>\n",
       "        <script charset=\"utf-8\" src=\"https://cdn.plot.ly/plotly-3.0.1.min.js\"></script>                <div id=\"e0740316-10d8-4da6-b820-cba4b3a4506f\" class=\"plotly-graph-div\" style=\"height:100%; width:700px;\"></div>            <script type=\"text/javascript\">                window.PLOTLYENV=window.PLOTLYENV || {};                                if (document.getElementById(\"e0740316-10d8-4da6-b820-cba4b3a4506f\")) {                    Plotly.newPlot(                        \"e0740316-10d8-4da6-b820-cba4b3a4506f\",                        [{\"legendgroup\":\"Values\",\"marker\":{\"color\":\"rgb(31, 119, 180)\"},\"mode\":\"lines\",\"name\":\"Values\",\"showlegend\":true,\"x\":[57.41290622025573,57.57801246058677,57.743118700917805,57.90822494124885,58.07333118157989,58.23843742191092,58.403543662241965,58.56864990257301,58.73375614290404,58.898862383235084,59.063968623566126,59.22907486389716,59.3941811042282,59.559287344559245,59.72439358489028,59.88949982522132,60.05460606555236,60.2197123058834,60.38481854621444,60.54992478654548,60.71503102687652,60.88013726720756,61.0452435075386,61.210349747869635,61.37545598820068,61.54056222853172,61.705668468862754,61.870774709193796,62.03588094952484,62.20098718985588,62.366093430186915,62.53119967051796,62.69630591084899,62.86141215118003,63.026518391511075,63.19162463184212,63.35673087217315,63.521837112504194,63.68694335283523,63.85204959316627,64.01715583349731,64.18226207382835,64.3473683141594,64.51247455449042,64.67758079482147,64.84268703515251,65.00779327548355,65.17289951581459,65.33800575614563,65.50311199647666,65.6682182368077,65.83332447713875,65.99843071746979,66.16353695780083,66.32864319813187,66.4937494384629,66.65885567879394,66.82396191912498,66.98906815945602,67.15417439978707,67.31928064011811,67.48438688044914,67.64949312078018,67.81459936111122,67.97970560144226,68.1448118417733,68.30991808210435,68.47502432243539,68.64013056276642,68.80523680309746,68.9703430434285,69.13544928375954,69.30055552409058,69.46566176442163,69.63076800475265,69.7958742450837,69.96098048541474,70.12608672574578,70.29119296607682,70.45629920640786,70.62140544673889,70.78651168706993,70.95161792740097,71.11672416773202,71.28183040806306,71.4469366483941,71.61204288872513,71.77714912905617,71.94225536938721,72.10736160971825,72.2724678500493,72.43757409038034,72.60268033071137,72.76778657104241,72.93289281137345,73.09799905170449,73.26310529203553,73.42821153236656,73.59331777269762,73.75842401302864,73.92353025335969,74.08863649369073,74.25374273402177,74.41884897435281,74.58395521468384,74.74906145501488,74.91416769534592,75.07927393567697,75.24438017600801,75.40948641633904,75.57459265667008,75.73969889700112,75.90480513733216,76.0699113776632,76.23501761799425,76.40012385832529,76.56523009865631,76.73033633898736,76.8954425793184,77.06054881964944,77.22565505998048,77.39076130031152,77.55586754064257,77.7209737809736,77.88608002130464,78.05118626163568,78.21629250196672,78.38139874229776,78.54650498262879,78.71161122295983,78.87671746329087,79.04182370362192,79.20692994395296,79.372036184284,79.53714242461504,79.70224866494607,79.86735490527711,80.03246114560815,80.1975673859392,80.36267362627024,80.52777986660126,80.69288610693232,80.85799234726335,81.02309858759439,81.18820482792543,81.35331106825646,81.51841730858752,81.68352354891854,81.84862978924959,82.01373602958063,82.17884226991167,82.34394851024271,82.50905475057374,82.6741609909048,82.83926723123582,83.00437347156686,83.1694797118979,83.33458595222895,83.49969219255999,83.66479843289102,83.82990467322206,83.9950109135531,84.16011715388414,84.32522339421519,84.49032963454621,84.65543587487727,84.8205421152083,84.98564835553934,85.15075459587038,85.31586083620142,85.48096707653247,85.6460733168635,85.81117955719454,85.97628579752558,86.14139203785662,86.30649827818766,86.4716045185187,86.63671075884974,86.80181699918077,86.96692323951181,87.13202947984286,87.2971357201739,87.46224196050494,87.62734820083597,87.79245444116701,87.95756068149805,88.1226669218291,88.28777316216014,88.45287940249116,88.61798564282222,88.78309188315325,88.94819812348429,89.11330436381533,89.27841060414637,89.44351684447741,89.60862308480844,89.7737293251395,89.93883556547053,90.10394180580157,90.26904804613261,90.43415428646364,90.5992605267947,90.76436676712572,90.92947300745676,91.0945792477878,91.25968548811883,91.42479172844989,91.58989796878093,91.75500420911197,91.920110449443,92.08521668977404,92.25032293010509,92.41542917043613,92.58053541076717,92.7456416510982,92.91074789142924,93.07585413176028,93.24096037209132,93.40606661242236,93.57117285275339,93.73627909308443,93.90138533341548,94.06649157374653,94.23159781407756,94.3967040544086,94.56181029473964,94.72691653507067,94.89202277540173,95.05712901573276,95.2222352560638,95.38734149639484,95.55244773672587,95.71755397705692,95.88266021738795,96.04776645771899,96.21287269805003,96.37797893838108,96.54308517871212,96.70819141904315,96.8732976593742,97.03840389970523,97.20351014003627,97.36861638036731,97.53372262069834,97.6988288610294,97.86393510136043,98.02904134169147,98.19414758202251,98.35925382235354,98.5243600626846,98.68946630301562,98.85457254334668,99.0196787836777,99.18478502400875,99.34989126433979,99.51499750467082,99.68010374500187,99.8452099853329,100.01031622566394,100.17542246599498,100.34052870632601,100.50563494665707,100.6707411869881,100.83584742731915,101.00095366765018,101.16605990798122,101.33116614831226,101.4962723886433,101.66137862897435,101.82648486930538,101.99159110963642,102.15669734996746,102.3218035902985,102.48690983062954,102.65201607096057,102.81712231129161,102.98222855162265,103.14733479195371,103.31244103228474,103.47754727261578,103.64265351294682,103.80775975327785,103.9728659936089,104.13797223393993,104.30307847427098,104.46818471460202,104.63329095493305,104.7983971952641,104.96350343559513,105.12860967592617,105.29371591625721,105.45882215658824,105.6239283969193,105.78903463725032,105.95414087758138,106.11924711791241,106.28435335824345,106.44945959857449,106.61456583890552,106.77967207923658,106.9447783195676,107.10988455989865,107.27499080022969,107.44009704056072,107.60520328089177,107.7703095212228,107.93541576155386,108.10052200188488,108.26562824221593,108.43073448254697,108.595840722878,108.76094696320905,108.92605320354008,109.09115944387112,109.25626568420216,109.42137192453319,109.58647816486425,109.75158440519527,109.91669064552632,110.08179688585736,110.2469031261884,110.41200936651944,110.57711560685048,110.74222184718153,110.90732808751255,111.07243432784361,111.23754056817464,111.40264680850568,111.56775304883672,111.73285928916775,111.8979655294988,112.06307176982983,112.22817801016087,112.39328425049192,112.55839049082296,112.723496731154,112.88860297148503,113.05370921181608,113.21881545214711,113.38392169247815,113.5490279328092,113.71413417314022,113.87924041347128,114.04434665380231,114.20945289413335,114.37455913446439,114.53966537479542,114.70477161512648,114.8698778554575,115.03498409578856,115.20009033611959,115.36519657645063,115.53030281678167,115.6954090571127,115.86051529744375,116.02562153777478,116.19072777810582,116.35583401843687,116.5209402587679,116.68604649909895,116.85115273942998,117.01625897976102,117.18136522009206,117.3464714604231,117.51157770075415,117.67668394108519,117.84179018141623,118.00689642174726,118.1720026620783,118.33710890240934,118.50221514274038,118.66732138307142,118.83242762340245,118.9975338637335,119.16264010406454,119.32774634439558,119.49285258472662,119.65795882505766,119.8230650653887,119.98817130571973,120.15327754605079,120.31838378638182,120.48349002671286,120.6485962670439,120.81370250737493,120.97880874770598,121.14391498803701,121.30902122836805,121.4741274686991,121.63923370903012,121.80433994936118,121.9694461896922,122.13455243002326,122.29965867035429,122.46476491068532,122.62987115101637,122.7949773913474,122.96008363167843,123.12518987200949,123.29029611234054,123.45540235267157,123.62050859300263,123.78561483333365,123.95072107366468,124.11582731399574,124.28093355432677,124.44603979465779,124.61114603498885,124.77625227531988,124.94135851565093,125.10646475598196,125.27157099631302,125.43667723664404,125.60178347697507,125.76688971730613,125.93199595763716,126.09710219796821,126.26220843829924,126.4273146786303,126.59242091896132,126.75752715929235,126.92263339962341,127.08773963995444,127.25284588028546,127.41795212061652,127.58305836094755,127.7481646012786,127.91327084160963,128.0783770819407,128.24348332227171,128.40858956260274,128.5736958029338,128.73880204326483,128.90390828359588,129.0690145239269,129.23412076425797,129.399227004589,129.56433324492002,129.72943948525108,129.8945457255821,130.05965196591313,130.2247582062442,130.38986444657525,130.55497068690627,130.72007692723733,130.88518316756836,131.05028940789938,131.2153956482304,131.38050188856147,131.5456081288925,131.71071436922355,131.87582060955458,132.04092684988564,132.20603309021666,132.37113933054772,132.53624557087875,132.70135181120978,132.86645805154083,133.03156429187186,133.19667053220292,133.36177677253394,133.526883012865,133.69198925319603,133.85709549352705,134.0222017338581,134.18730797418914,134.35241421452017,134.51752045485122,134.68262669518225,134.8477329355133,135.01283917584433,135.1779454161754,135.34305165650642,135.50815789683745,135.6732641371685,135.83837037749953,136.0034766178306,136.1685828581616,136.33368909849267,136.4987953388237,136.66390157915473,136.82900781948578,136.9941140598168,137.15922030014787,137.3243265404789,137.48943278080995,137.65453902114098,137.819645261472,137.98475150180306,138.1498577421341,138.31496398246512,138.48007022279617,138.6451764631272,138.81028270345826,138.97538894378928,139.14049518412034,139.30560142445137,139.4707076647824,139.63581390511345,139.80092014544448],\"xaxis\":\"x\",\"y\":{\"dtype\":\"f8\",\"bdata\":\"sYP0fdo11D4T9VwokKzVPnj2eMLKPNc+kHIbyCfo2D7NJLKZXLDaPia5gbU3l9w+QopI\\u002fqGe3j6QEtgHUGTgPoYXe9Cpi+E+bskae37G4j6AcFww\\u002fhXkPphRX+dpe+U+dfuLNRT45j5VhYQmYo3oPtUQaRzMPOo+wT+juN4H7D5\\u002ffGrNO\\u002fDtPucCMlib9+8+kziYQuYP8T6BqBdeWzXyPmDGZ1stbfM+LgA30Gm49D7gtugfLBj2Pjt3ZBWejfc+\\u002fczvgfgZ+T5muSPhg776PhJmDQKZfPw+cBmItaFV\\u002fj75Xe7AjCUAP8Oy2C1HLwE\\u002f5rUostBIAj+xIqrWA3MDPzGm04DFrgQ\\u002fi\\u002fv9WQX9BT94wEw5vl4HP2gcR5D21Ag\\u002fR9wc2sBgCj8PF5MNPAMMP2\\u002fIkRGUvQ0\\u002fNBlKNAKRDz8amnXSZr8QP\\u002fnR7PclxBE\\u002fB5mtvnDXEj\\u002fMlFMJAfoTP6xYpKqYLBU\\u002fBVRfqAFwFj8\\u002fCiF\\u002fDsUXP+DgTGeaLBk\\u002fZIrvmomnGj+cwoqcyTYcP2C2uX5R2x0\\u002frgOcLCKWHz\\u002fE6XlZI7QgP1AF8URqqSE\\u002f3QWV73WrIj+eeHLw27ojPz5HRYQ32CQ\\u002ftW4asykEJj\\u002fibQB2WT8nP+MPt9xziig\\u002fi1pOMyzmKT+liaMnPFMrP4sbqu5j0iw\\u002fsA1uaWpkLj+2wd2kDgUwP2aSK5so4jA\\u002fRM5Y9\\u002fDJMT8y2P822bwyPzHDz4ZWuzM\\u002fs2BZ0+HFND\\u002fqGWrZ99w1PwKE5zUZATc\\u002fHisedcoyOD87oXUhlHI5P89we9ECwTo\\u002fcyg2NacePD9JSrEiFow9P7mJsqHoCT8\\u002f3C1E+11MQD+kwvDVmBxBP\\u002fp7zs339UE\\u002f2X5A+8\\u002fYQj9SMGSleMVDP+v9uURLvEQ\\u002fU20nhaO9RT9MaklH38lGP9CwDaFe4Uc\\u002fGhuK3YMEST\\u002fGiQh8szNKP8sRPi5Ub0s\\u002fvRCk1c63TD+nx+l\\u002fjg1OP60cdWIAcU8\\u002f1ZZ06klxUD\\u002ffs1QlXTFRP7H3p6Xz+FE\\u002fLR0HNUjIUj+8bvedlp9TP0Tcd6Ybf1Q\\u002fy+j1CRVnVT88OKZywVdWPyCbPHJgUVc\\u002fX5\\u002f\\u002feTJUWD+9zDPSeGBZP3je2pB1dlo\\u002fpXjDj2uWWz9VBuZhnsBcP\\u002fWkC0hS9V0\\u002fZDe8JMw0Xz+efLi3qD9gP8yVhBOU6mA\\u002fklu\\u002fYUubYT9SdmwT8lFiP2nqrcarDmM\\u002fdGp5PpzRYz9t4OpZ55pkP77mMwuxamU\\u002fthgoTh1BZj+dUWYeUB5nP0olH21tAmg\\u002fMQ95FpntaD8YDJPW9t9pPz+JJj6q2Wo\\u002fx8zJptbaaz8ON9Qmn+NsP5r15YQm9G0\\u002fGAIVK48Mbz8CweCMfRZwPzDvCe3FqnA\\u002fYpUTODFDcT+cWXGmz99xPynnwh+xgHI\\u002fDqh0M+Ulcz9FID0Re89zP3DdeIGBfXQ\\u002fURBn3QYwdT\\u002fIBkkHGed1P\\u002fHeZmLFonY\\u002f8u77yhhjdz89fQ2OHyh4P9GGLmHl8Xg\\u002fTnIzWnXAeT\\u002fUrNjm2ZN6P7FRX8QcbHs\\u002fKRYj90ZJfD9f1yzCYCt9P0BBxZ5xEn4\\u002fbSELNID+fj9YGJFOku9\\u002fP5s2A2zWcoA\\u002fonR352nwgD8d2DYfhXCBP\\u002fCRExsp84E\\u002fDvoeYVZ4gj8NxrfxDACDP90RqkNMioM\\u002ffGBjQBMXhD+JxTxAYKaEP\\u002fFp3QYxOIU\\u002ftqO3v4LMhT8m26L6UWOGP6x4lKia\\u002fIY\\u002fYBh6GFiYhz\\u002fWPTf0hDaIP7HByD0b14g\\u002fpy6QTBR6iT+4PcnKaB+KP5OeK7MQx4o\\u002fCiy7TgNxiz9dqcgyNx2MP2gWJT+iy4w\\u002fK5+JnDl8jT+GHTa78S6OP\\u002fwTyFG+444\\u002fDftLXJKajz\\u002f8UsUNsCmQP5g5SooMh5A\\u002flvNFCFflkD91nViOh0SRP3QoWMWVpJE\\u002fqzSZ+HgFkj9ga1oWKGeSP+brUrCZyZI\\u002fTU9k\\u002fMMskz8euXDVnJCTP9paVbwZ9ZM\\u002frcEJ2S9alD8aNOT707+UPzlVA5\\u002f6JZU\\u002fDTLd55eMlT+CyvOon\\u002fOVPyEYr2MFW5Y\\u002fc35cSrzClj8JglNCtyqXP1ONP+bokpc\\u002fr3iOiEP7lz9OdwM2uWOYPy72bbg7zJg\\u002fE+mDmbw0mT8I6t4lLZ2ZPx6AG3B+BZo\\u002f4csZVKFtmj\\u002fVxF56htWaP5YhlVsePZs\\u002fFe4sRFmkmz9jwxhYJwucPxCAp5Z4cZw\\u002fv0153jzXnD+RsI7xYzydP7ZIcHndoJ0\\u002fROBtC5kEnj\\u002fMTPMshmeePzWe8VeUyZ4\\u002f7wNb\\u002f7Iqnz99w6+T0YqfPx2Omoff6Z8\\u002flDpNKuYjoD8rWdy\\u002fQ1KgPxE2JE8AgKA\\u002fmkpXrROtoD8O\\u002fpe8ddmgP8DLYW4eBaE\\u002fZIrzxQUwoT+K07naI1qhP4iIuNpwg6E\\u002fn27yDOWroT\\u002fv283TeNOhP95sda8k+qE\\u002fG7kzQOEfoj9TAMlIp0SiPyTGubBvaKI\\u002fL1eVhjOLoj97MjMC7KyiP5FU5oaSzaI\\u002fpGWlpSDtoj9bziYfkAujP0+87+XaKKM\\u002fESNVIPtEoz9izG0q61+jP\\u002fGP9JeleaM\\u002fKNEZNiWSoz8OaUMNZamjP9UoumJgv6M\\u002fcipEuhLUoz98LKvXd+ejP4E\\u002fLsCL+aM\\u002fpxTeu0oKpD+aRuNWsRmkP4UArmK8J6Q\\u002f33AO92g0pD\\u002fqgDVztD+kPw9VnX6cSaQ\\u002fbCXZCR9SpD8ICkxPOlmkP+hhxtPsXqQ\\u002fkogJZzVjpD8CmjEkE2akP4MRBXKFZ6Q\\u002fuhwqA4xnpD\\u002fTiEHWJmakP9A85zVWY6Q\\u002fk0CYuBpfpD+CXX5AdVmkPxByIftmUqQ\\u002fpp7+YPFJpD\\u002fafgU1FkCkP4iu+4PXNKQ\\u002f7ObGozcopD\\u002fXC54yORqkP2CNIRbfCqQ\\u002fD45beiz6oz8nSajQJOijP6Y\\u002fh87L1KM\\u002f1L1VbCXAoz9rVfPjNaqjP6DyUK8Bk6M\\u002fVjzrho16oz+g+DBg3mCjPxc41mv5RaM\\u002fbxIVFOQpoz9px9z6owyjP8Ud8Pc+7qI\\u002fdeHzFrvOoj+zaG6VHq6iP7QMueBvjKI\\u002fXInkk7Vpoj+nOpF19kWiP6ozvHU5IaI\\u002fbS6Cq4X7oT9XVtlS4tShP4DyQspWraE\\u002fxvV1kOqEoT\\u002fHfANCpVuhP0VC9paOMaE\\u002fKhJuYK4GoT\\u002fyQziGDNugP8xCZgSxrqA\\u002f2Snj6KOBoD82dwlR7VOgP9jWOWeVJaA\\u002fBAbowEjtnz\\u002fRZuXzRI6fP\\u002fEil+0vLp8\\u002f70MoOxrNnj\\u002fhHxlsFGueP5J+og0vCJ4\\u002foQwopnqknT+50buwB0CdPzhNtJjm2pw\\u002fNdJWtSd1nD9lqZdF2w6cP2Bx8WsRqJs\\u002fzSVVKtpAmz91IjReRdmaP6RppbxicZo\\u002f11+nzkEJmj9FHn\\u002ft8aCZP59rNj+COJk\\u002fzlQ5swHQmD9JUBT\\u002ffmeYPyW\\u002fU5sI\\u002f5c\\u002faY6FwKyWlz\\u002fzpV1keS6XPzy\\u002f\\u002fTZ8xpY\\u002fTSphoMJelj9g8+y9WfeVPyvJJGBOkJU\\u002fAO6ECK0plT8cboHngcOUPx2\\u002fqtrYXZQ\\u002f39v3ar34kz9\\u002f3TXLOpSTP07+nNZbMJM\\u002f2OSKDyvNkj++AGKesmqSP2W0jVD8CJI\\u002fTfWqlxGokT\\u002fK\\u002fNSI+0eRP\\u002fGUFdzC6JA\\u002fHHz462+KkD\\u002fcTkG1Ci2QP8iuhq01oY8\\u002fsCy1Ik\\u002fqjj\\u002f\\u002fmQqQbzWOPySGOgCkgo0\\u002fkfVfw\\u002fjRjD\\u002f08OlveSOMP7J2wuMwd4s\\u002frfitRSnNij8EfOEGbCWKP3dozeQBgIk\\u002fGgAb6\\u002fLciD+Lc9p1RjyIP6N23zMDnoc\\u002fiDNKKS8Chz\\u002fucjqyz2iGP37GqoXp0YU\\u002fv4JxuIA9hT9JTWXAmKuEPwAFo3c0HIQ\\u002fl8jyH1aPgz\\u002fq3Ulm\\u002fwSDP\\u002ftBZ2YxfYI\\u002fLaiIruz3gT8AtjVDMXWBPxFMH6P+9IA\\u002f67MQy1N3gD9VIeFzXvh\\u002fP2LxnukdB38\\u002fflAEFuEafj\\u002fuiYo0ojN9P5Nt0aVaUXw\\u002fB0oB+AJ0ez8AZTTvkpt6P2VD5I0ByHk\\u002fAypXHUX5eD9kXwo2Uy94P9fRFcgganc\\u002fDOSFI6Kpdj\\u002fOQKgAy+11P961SIiONnU\\u002fCTjbW9+DdD+3TpCdr9VzPx5NUfjwK3M\\u002fL9qhp5SGcj9MbmR\\u002fi+VxPzyPf\\u002fPFSHE\\u002f07FhHzSwcD9P0GHNxRtwP1jB9fvUFm8\\u002fHvfA3SL+bT8nS9ZDU+1sP\\u002fuWtcdD5Gs\\u002fL07cpdHiaj9uu5vK2ehpP2uclN449mg\\u002fTUDWUssKaD\\u002fwip9sbSZnP2J+wFD7SGY\\u002fgCObDlFyZT\\u002fc48KqSqJkP9CfOSnE2GM\\u002ftwJKl5kVYz\\u002faxf4Up1hiPzTMNt7IoWE\\u002fUyxWU9vwYD+GbJQBu0VgPyLL0FWJQF8\\u002fPM4km6oAXj\\u002fowopWlMtcP1gG4J8BoVs\\u002fJK5NMK6AWj9VMGFuVmpZP54WbHm3XVg\\u002fnaQtNI9aVz+8iclOnGBWPw\\u002ftDlCeb1U\\u002f5VcTnlWHVD\\u002fXJiWGg6dTPzRdGUTqz1I\\u002fldD4CE0AUj9hzRABcDhRP\\u002fNsa1kYeFA\\u002fQ+BniRh+Tz+yGBf\\u002fJRpOPyhPpqjpw0w\\u002fRCHdPPZ6Sz8Yowua4D5KPwh6kso\\u002fD0k\\u002fVMx5CK3rRz+2XCDAw9NGP184DJIhx0U\\u002fk1PmU2bFRD+baKoQNM5DP1toFAgv4UI\\u002ftq5Urf39QT9WJBSlSCRBPzlS0cK6U0A\\u002f3LE+CwIYPz\\u002f3K58olZk9P9o+HXKRKzw\\u002fxDT6uF3NOj\\u002fDh5kAZX45P\\u002fGv03IWPjg\\u002fOq1xU+ULNz+o6eDySOc1PwGmLqC8zzQ\\u002fT8ZZmr\\u002fEMz+oXQkB1cUyP1nztcSD0jE\\u002fNQVTllbqMD+w4YXW2wwwP0nv7AhLcy4\\u002fA6KMWJLgLD\\u002fD23Kqv2ArPwGXON8L8yk\\u002f88bjhLaWKD8YB+ixBUsnP4HI399FDyY\\u002fmeMQxsniJD+6l84z6sQjPx8RyuoFtSI\\u002fp7xheYGyIT\\u002frxP4Ux7wgP5aNHumMph8\\u002ffttVVunqHT8GsN0FmEUcPxOxObCXtRo\\u002f5MAS6fA5GT9tKsXWtdEXP4C+tOoBfBY\\u002f\\u002ffV4mvk3FT+n1vEZygQUPx\\u002fpVBap4RI\\u002fkkxActTNET9Po+ACksgQP5W1apxeog8\\u002foU\\u002f7lALODT8RxK49yBIMP3q6L8p1bwo\\u002fzo\\u002fL2d7iCD9ZPjQA5GsHPx+c2lByCQY\\u002fJ0np7IK6BD\\u002fd9OaTGn4DP5\\u002ftBDdJUwI\\u002fPG4djyk5AT8OlWO14C4AP1Uzi307Z\\u002f4+mP0AtDKN\\u002fD5misbgKs76Pj4FfZK5KPk+7lD4X4Wb9z7Ti7Q5RSX2Pt1ThcC\\u002fxPQ+\\u002fMpwocp48z4\\u002f2qb2SUDyPpGug60vGvE+XyaL8XoF8D4vU5M4bwLuPg==\"},\"yaxis\":\"y\",\"type\":\"scatter\"}],                        {\"barmode\":\"overlay\",\"hovermode\":\"closest\",\"legend\":{\"traceorder\":\"reversed\"},\"xaxis\":{\"anchor\":\"y2\",\"domain\":[0.0,1.0],\"zeroline\":false,\"title\":{\"text\":\"Variable value\"}},\"yaxis\":{\"anchor\":\"free\",\"domain\":[0.0,1],\"position\":0.0,\"title\":{\"text\":\"Probability density\"}},\"template\":{\"data\":{\"histogram2dcontour\":[{\"type\":\"histogram2dcontour\",\"colorbar\":{\"outlinewidth\":0,\"ticks\":\"\"},\"colorscale\":[[0.0,\"#0d0887\"],[0.1111111111111111,\"#46039f\"],[0.2222222222222222,\"#7201a8\"],[0.3333333333333333,\"#9c179e\"],[0.4444444444444444,\"#bd3786\"],[0.5555555555555556,\"#d8576b\"],[0.6666666666666666,\"#ed7953\"],[0.7777777777777778,\"#fb9f3a\"],[0.8888888888888888,\"#fdca26\"],[1.0,\"#f0f921\"]]}],\"choropleth\":[{\"type\":\"choropleth\",\"colorbar\":{\"outlinewidth\":0,\"ticks\":\"\"}}],\"histogram2d\":[{\"type\":\"histogram2d\",\"colorbar\":{\"outlinewidth\":0,\"ticks\":\"\"},\"colorscale\":[[0.0,\"#0d0887\"],[0.1111111111111111,\"#46039f\"],[0.2222222222222222,\"#7201a8\"],[0.3333333333333333,\"#9c179e\"],[0.4444444444444444,\"#bd3786\"],[0.5555555555555556,\"#d8576b\"],[0.6666666666666666,\"#ed7953\"],[0.7777777777777778,\"#fb9f3a\"],[0.8888888888888888,\"#fdca26\"],[1.0,\"#f0f921\"]]}],\"heatmap\":[{\"type\":\"heatmap\",\"colorbar\":{\"outlinewidth\":0,\"ticks\":\"\"},\"colorscale\":[[0.0,\"#0d0887\"],[0.1111111111111111,\"#46039f\"],[0.2222222222222222,\"#7201a8\"],[0.3333333333333333,\"#9c179e\"],[0.4444444444444444,\"#bd3786\"],[0.5555555555555556,\"#d8576b\"],[0.6666666666666666,\"#ed7953\"],[0.7777777777777778,\"#fb9f3a\"],[0.8888888888888888,\"#fdca26\"],[1.0,\"#f0f921\"]]}],\"contourcarpet\":[{\"type\":\"contourcarpet\",\"colorbar\":{\"outlinewidth\":0,\"ticks\":\"\"}}],\"contour\":[{\"type\":\"contour\",\"colorbar\":{\"outlinewidth\":0,\"ticks\":\"\"},\"colorscale\":[[0.0,\"#0d0887\"],[0.1111111111111111,\"#46039f\"],[0.2222222222222222,\"#7201a8\"],[0.3333333333333333,\"#9c179e\"],[0.4444444444444444,\"#bd3786\"],[0.5555555555555556,\"#d8576b\"],[0.6666666666666666,\"#ed7953\"],[0.7777777777777778,\"#fb9f3a\"],[0.8888888888888888,\"#fdca26\"],[1.0,\"#f0f921\"]]}],\"surface\":[{\"type\":\"surface\",\"colorbar\":{\"outlinewidth\":0,\"ticks\":\"\"},\"colorscale\":[[0.0,\"#0d0887\"],[0.1111111111111111,\"#46039f\"],[0.2222222222222222,\"#7201a8\"],[0.3333333333333333,\"#9c179e\"],[0.4444444444444444,\"#bd3786\"],[0.5555555555555556,\"#d8576b\"],[0.6666666666666666,\"#ed7953\"],[0.7777777777777778,\"#fb9f3a\"],[0.8888888888888888,\"#fdca26\"],[1.0,\"#f0f921\"]]}],\"mesh3d\":[{\"type\":\"mesh3d\",\"colorbar\":{\"outlinewidth\":0,\"ticks\":\"\"}}],\"scatter\":[{\"fillpattern\":{\"fillmode\":\"overlay\",\"size\":10,\"solidity\":0.2},\"type\":\"scatter\"}],\"parcoords\":[{\"type\":\"parcoords\",\"line\":{\"colorbar\":{\"outlinewidth\":0,\"ticks\":\"\"}}}],\"scatterpolargl\":[{\"type\":\"scatterpolargl\",\"marker\":{\"colorbar\":{\"outlinewidth\":0,\"ticks\":\"\"}}}],\"bar\":[{\"error_x\":{\"color\":\"#2a3f5f\"},\"error_y\":{\"color\":\"#2a3f5f\"},\"marker\":{\"line\":{\"color\":\"#E5ECF6\",\"width\":0.5},\"pattern\":{\"fillmode\":\"overlay\",\"size\":10,\"solidity\":0.2}},\"type\":\"bar\"}],\"scattergeo\":[{\"type\":\"scattergeo\",\"marker\":{\"colorbar\":{\"outlinewidth\":0,\"ticks\":\"\"}}}],\"scatterpolar\":[{\"type\":\"scatterpolar\",\"marker\":{\"colorbar\":{\"outlinewidth\":0,\"ticks\":\"\"}}}],\"histogram\":[{\"marker\":{\"pattern\":{\"fillmode\":\"overlay\",\"size\":10,\"solidity\":0.2}},\"type\":\"histogram\"}],\"scattergl\":[{\"type\":\"scattergl\",\"marker\":{\"colorbar\":{\"outlinewidth\":0,\"ticks\":\"\"}}}],\"scatter3d\":[{\"type\":\"scatter3d\",\"line\":{\"colorbar\":{\"outlinewidth\":0,\"ticks\":\"\"}},\"marker\":{\"colorbar\":{\"outlinewidth\":0,\"ticks\":\"\"}}}],\"scattermap\":[{\"type\":\"scattermap\",\"marker\":{\"colorbar\":{\"outlinewidth\":0,\"ticks\":\"\"}}}],\"scattermapbox\":[{\"type\":\"scattermapbox\",\"marker\":{\"colorbar\":{\"outlinewidth\":0,\"ticks\":\"\"}}}],\"scatterternary\":[{\"type\":\"scatterternary\",\"marker\":{\"colorbar\":{\"outlinewidth\":0,\"ticks\":\"\"}}}],\"scattercarpet\":[{\"type\":\"scattercarpet\",\"marker\":{\"colorbar\":{\"outlinewidth\":0,\"ticks\":\"\"}}}],\"carpet\":[{\"aaxis\":{\"endlinecolor\":\"#2a3f5f\",\"gridcolor\":\"white\",\"linecolor\":\"white\",\"minorgridcolor\":\"white\",\"startlinecolor\":\"#2a3f5f\"},\"baxis\":{\"endlinecolor\":\"#2a3f5f\",\"gridcolor\":\"white\",\"linecolor\":\"white\",\"minorgridcolor\":\"white\",\"startlinecolor\":\"#2a3f5f\"},\"type\":\"carpet\"}],\"table\":[{\"cells\":{\"fill\":{\"color\":\"#EBF0F8\"},\"line\":{\"color\":\"white\"}},\"header\":{\"fill\":{\"color\":\"#C8D4E3\"},\"line\":{\"color\":\"white\"}},\"type\":\"table\"}],\"barpolar\":[{\"marker\":{\"line\":{\"color\":\"#E5ECF6\",\"width\":0.5},\"pattern\":{\"fillmode\":\"overlay\",\"size\":10,\"solidity\":0.2}},\"type\":\"barpolar\"}],\"pie\":[{\"automargin\":true,\"type\":\"pie\"}]},\"layout\":{\"autotypenumbers\":\"strict\",\"colorway\":[\"#636efa\",\"#EF553B\",\"#00cc96\",\"#ab63fa\",\"#FFA15A\",\"#19d3f3\",\"#FF6692\",\"#B6E880\",\"#FF97FF\",\"#FECB52\"],\"font\":{\"color\":\"#2a3f5f\"},\"hovermode\":\"closest\",\"hoverlabel\":{\"align\":\"left\"},\"paper_bgcolor\":\"white\",\"plot_bgcolor\":\"#E5ECF6\",\"polar\":{\"bgcolor\":\"#E5ECF6\",\"angularaxis\":{\"gridcolor\":\"white\",\"linecolor\":\"white\",\"ticks\":\"\"},\"radialaxis\":{\"gridcolor\":\"white\",\"linecolor\":\"white\",\"ticks\":\"\"}},\"ternary\":{\"bgcolor\":\"#E5ECF6\",\"aaxis\":{\"gridcolor\":\"white\",\"linecolor\":\"white\",\"ticks\":\"\"},\"baxis\":{\"gridcolor\":\"white\",\"linecolor\":\"white\",\"ticks\":\"\"},\"caxis\":{\"gridcolor\":\"white\",\"linecolor\":\"white\",\"ticks\":\"\"}},\"coloraxis\":{\"colorbar\":{\"outlinewidth\":0,\"ticks\":\"\"}},\"colorscale\":{\"sequential\":[[0.0,\"#0d0887\"],[0.1111111111111111,\"#46039f\"],[0.2222222222222222,\"#7201a8\"],[0.3333333333333333,\"#9c179e\"],[0.4444444444444444,\"#bd3786\"],[0.5555555555555556,\"#d8576b\"],[0.6666666666666666,\"#ed7953\"],[0.7777777777777778,\"#fb9f3a\"],[0.8888888888888888,\"#fdca26\"],[1.0,\"#f0f921\"]],\"sequentialminus\":[[0.0,\"#0d0887\"],[0.1111111111111111,\"#46039f\"],[0.2222222222222222,\"#7201a8\"],[0.3333333333333333,\"#9c179e\"],[0.4444444444444444,\"#bd3786\"],[0.5555555555555556,\"#d8576b\"],[0.6666666666666666,\"#ed7953\"],[0.7777777777777778,\"#fb9f3a\"],[0.8888888888888888,\"#fdca26\"],[1.0,\"#f0f921\"]],\"diverging\":[[0,\"#8e0152\"],[0.1,\"#c51b7d\"],[0.2,\"#de77ae\"],[0.3,\"#f1b6da\"],[0.4,\"#fde0ef\"],[0.5,\"#f7f7f7\"],[0.6,\"#e6f5d0\"],[0.7,\"#b8e186\"],[0.8,\"#7fbc41\"],[0.9,\"#4d9221\"],[1,\"#276419\"]]},\"xaxis\":{\"gridcolor\":\"white\",\"linecolor\":\"white\",\"ticks\":\"\",\"title\":{\"standoff\":15},\"zerolinecolor\":\"white\",\"automargin\":true,\"zerolinewidth\":2},\"yaxis\":{\"gridcolor\":\"white\",\"linecolor\":\"white\",\"ticks\":\"\",\"title\":{\"standoff\":15},\"zerolinecolor\":\"white\",\"automargin\":true,\"zerolinewidth\":2},\"scene\":{\"xaxis\":{\"backgroundcolor\":\"#E5ECF6\",\"gridcolor\":\"white\",\"linecolor\":\"white\",\"showbackground\":true,\"ticks\":\"\",\"zerolinecolor\":\"white\",\"gridwidth\":2},\"yaxis\":{\"backgroundcolor\":\"#E5ECF6\",\"gridcolor\":\"white\",\"linecolor\":\"white\",\"showbackground\":true,\"ticks\":\"\",\"zerolinecolor\":\"white\",\"gridwidth\":2},\"zaxis\":{\"backgroundcolor\":\"#E5ECF6\",\"gridcolor\":\"white\",\"linecolor\":\"white\",\"showbackground\":true,\"ticks\":\"\",\"zerolinecolor\":\"white\",\"gridwidth\":2}},\"shapedefaults\":{\"line\":{\"color\":\"#2a3f5f\"}},\"annotationdefaults\":{\"arrowcolor\":\"#2a3f5f\",\"arrowhead\":0,\"arrowwidth\":1},\"geo\":{\"bgcolor\":\"white\",\"landcolor\":\"#E5ECF6\",\"subunitcolor\":\"white\",\"showland\":true,\"showlakes\":true,\"lakecolor\":\"white\"},\"title\":{\"x\":0.05},\"mapbox\":{\"style\":\"light\"}}},\"title\":{\"text\":\"Probability density function for normal distribution\"},\"width\":700},                        {\"responsive\": true}                    )                };            </script>        </div>"
      ],
      "text/plain": [
       "Figure({\n",
       "    'data': [{'legendgroup': 'Values',\n",
       "              'marker': {'color': 'rgb(31, 119, 180)'},\n",
       "              'mode': 'lines',\n",
       "              'name': 'Values',\n",
       "              'showlegend': True,\n",
       "              'type': 'scatter',\n",
       "              'x': [57.41290622025573, 57.57801246058677, 57.743118700917805, ...,\n",
       "                    139.4707076647824, 139.63581390511345, 139.80092014544448],\n",
       "              'xaxis': 'x',\n",
       "              'y': {'bdata': ('sYP0fdo11D4T9VwokKzVPnj2eMLKPN' ... '0vGvE+XyaL8XoF8D4vU5M4bwLuPg=='),\n",
       "                    'dtype': 'f8'},\n",
       "              'yaxis': 'y'}],\n",
       "    'layout': {'barmode': 'overlay',\n",
       "               'hovermode': 'closest',\n",
       "               'legend': {'traceorder': 'reversed'},\n",
       "               'template': '...',\n",
       "               'title': {'text': 'Probability density function for normal distribution'},\n",
       "               'width': 700,\n",
       "               'xaxis': {'anchor': 'y2', 'domain': [0.0, 1.0], 'title': {'text': 'Variable value'}, 'zeroline': False},\n",
       "               'yaxis': {'anchor': 'free', 'domain': [0.0, 1], 'position': 0.0, 'title': {'text': 'Probability density'}}}\n",
       "})"
      ]
     },
     "execution_count": 59,
     "metadata": {},
     "output_type": "execute_result"
    }
   ],
   "source": [
    "# Set the numpy pseudo-random number generator seed\n",
    "numpy.random.seed(28)\n",
    "\n",
    "# Create an array of 10000 values from a normal distribution with a mean of 100 and a standard deviation of 10 assigned to the variables values\n",
    "values = numpy.random.normal(100, 10, 10000)\n",
    "\n",
    "# Create a plotly create_distplot figure of the data in values\n",
    "fig = figure_factory.create_distplot(\n",
    "    [values], ['Values'],\n",
    "    show_hist=False,\n",
    "    histnorm='probability desnity',\n",
    "    curve_type='normal',\n",
    "    show_rug=False\n",
    ")\n",
    "\n",
    "fig.update_layout(\n",
    "    title='Probability density function for normal distribution',\n",
    "    xaxis_title='Variable value',\n",
    "    yaxis_title='Probability density',\n",
    "    width=700\n",
    ")\n"
   ]
  },
  {
   "cell_type": "code",
   "execution_count": 60,
   "metadata": {},
   "outputs": [
    {
     "name": "stdout",
     "output_type": "stream",
     "text": [
      "Probability of a value less than -1: 0.15865525393145707\n"
     ]
    }
   ],
   "source": [
    "# Calculate the probability of a value less than -1 for the standard normal distribution\n",
    "print('Probability of a value less than -1:', stats.norm.cdf(-1))"
   ]
  },
  {
   "cell_type": "markdown",
   "metadata": {},
   "source": [
    "# Inference \n",
    "\n",
    "### Uncertainty"
   ]
  },
  {
   "cell_type": "code",
   "execution_count": 61,
   "metadata": {},
   "outputs": [
    {
     "ename": "ValueError",
     "evalue": "Mime type rendering requires nbformat>=4.2.0 but it is not installed",
     "output_type": "error",
     "traceback": [
      "\u001b[0;31m---------------------------------------------------------------------------\u001b[0m",
      "\u001b[0;31mValueError\u001b[0m                                Traceback (most recent call last)",
      "File \u001b[0;32m~/Desktop/Health Data Science /.venv/lib/python3.9/site-packages/IPython/core/formatters.py:922\u001b[0m, in \u001b[0;36mIPythonDisplayFormatter.__call__\u001b[0;34m(self, obj)\u001b[0m\n\u001b[1;32m    920\u001b[0m method \u001b[38;5;241m=\u001b[39m get_real_method(obj, \u001b[38;5;28mself\u001b[39m\u001b[38;5;241m.\u001b[39mprint_method)\n\u001b[1;32m    921\u001b[0m \u001b[38;5;28;01mif\u001b[39;00m method \u001b[38;5;129;01mis\u001b[39;00m \u001b[38;5;129;01mnot\u001b[39;00m \u001b[38;5;28;01mNone\u001b[39;00m:\n\u001b[0;32m--> 922\u001b[0m     \u001b[43mmethod\u001b[49m\u001b[43m(\u001b[49m\u001b[43m)\u001b[49m\n\u001b[1;32m    923\u001b[0m     \u001b[38;5;28;01mreturn\u001b[39;00m \u001b[38;5;28;01mTrue\u001b[39;00m\n",
      "File \u001b[0;32m~/Desktop/Health Data Science /.venv/lib/python3.9/site-packages/plotly/basedatatypes.py:833\u001b[0m, in \u001b[0;36mBaseFigure._ipython_display_\u001b[0;34m(self)\u001b[0m\n\u001b[1;32m    830\u001b[0m \u001b[38;5;28;01mimport\u001b[39;00m\u001b[38;5;250m \u001b[39m\u001b[38;5;21;01mplotly\u001b[39;00m\u001b[38;5;21;01m.\u001b[39;00m\u001b[38;5;21;01mio\u001b[39;00m\u001b[38;5;250m \u001b[39m\u001b[38;5;28;01mas\u001b[39;00m\u001b[38;5;250m \u001b[39m\u001b[38;5;21;01mpio\u001b[39;00m\n\u001b[1;32m    832\u001b[0m \u001b[38;5;28;01mif\u001b[39;00m pio\u001b[38;5;241m.\u001b[39mrenderers\u001b[38;5;241m.\u001b[39mrender_on_display \u001b[38;5;129;01mand\u001b[39;00m pio\u001b[38;5;241m.\u001b[39mrenderers\u001b[38;5;241m.\u001b[39mdefault:\n\u001b[0;32m--> 833\u001b[0m     \u001b[43mpio\u001b[49m\u001b[38;5;241;43m.\u001b[39;49m\u001b[43mshow\u001b[49m\u001b[43m(\u001b[49m\u001b[38;5;28;43mself\u001b[39;49m\u001b[43m)\u001b[49m\n\u001b[1;32m    834\u001b[0m \u001b[38;5;28;01melse\u001b[39;00m:\n\u001b[1;32m    835\u001b[0m     \u001b[38;5;28mprint\u001b[39m(\u001b[38;5;28mrepr\u001b[39m(\u001b[38;5;28mself\u001b[39m))\n",
      "File \u001b[0;32m~/Desktop/Health Data Science /.venv/lib/python3.9/site-packages/plotly/io/_renderers.py:425\u001b[0m, in \u001b[0;36mshow\u001b[0;34m(fig, renderer, validate, **kwargs)\u001b[0m\n\u001b[1;32m    420\u001b[0m     \u001b[38;5;28;01mraise\u001b[39;00m \u001b[38;5;167;01mValueError\u001b[39;00m(\n\u001b[1;32m    421\u001b[0m         \u001b[38;5;124m\"\u001b[39m\u001b[38;5;124mMime type rendering requires ipython but it is not installed\u001b[39m\u001b[38;5;124m\"\u001b[39m\n\u001b[1;32m    422\u001b[0m     )\n\u001b[1;32m    424\u001b[0m \u001b[38;5;28;01mif\u001b[39;00m \u001b[38;5;129;01mnot\u001b[39;00m nbformat \u001b[38;5;129;01mor\u001b[39;00m Version(nbformat\u001b[38;5;241m.\u001b[39m__version__) \u001b[38;5;241m<\u001b[39m Version(\u001b[38;5;124m\"\u001b[39m\u001b[38;5;124m4.2.0\u001b[39m\u001b[38;5;124m\"\u001b[39m):\n\u001b[0;32m--> 425\u001b[0m     \u001b[38;5;28;01mraise\u001b[39;00m \u001b[38;5;167;01mValueError\u001b[39;00m(\n\u001b[1;32m    426\u001b[0m         \u001b[38;5;124m\"\u001b[39m\u001b[38;5;124mMime type rendering requires nbformat>=4.2.0 but it is not installed\u001b[39m\u001b[38;5;124m\"\u001b[39m\n\u001b[1;32m    427\u001b[0m     )\n\u001b[1;32m    429\u001b[0m display_jupyter_version_warnings()\n\u001b[1;32m    431\u001b[0m ipython_display\u001b[38;5;241m.\u001b[39mdisplay(bundle, raw\u001b[38;5;241m=\u001b[39m\u001b[38;5;28;01mTrue\u001b[39;00m)\n",
      "\u001b[0;31mValueError\u001b[0m: Mime type rendering requires nbformat>=4.2.0 but it is not installed"
     ]
    },
    {
     "data": {
      "application/vnd.plotly.v1+json": {
       "config": {
        "plotlyServerURL": "https://plot.ly"
       },
       "data": [
        {
         "autobinx": false,
         "histnorm": "probability density",
         "legendgroup": "Population",
         "marker": {
          "color": "rgb(31, 119, 180)"
         },
         "name": "Population",
         "opacity": 0.7,
         "type": "histogram",
         "x": {
          "bdata": "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",
          "dtype": "f8"
         },
         "xaxis": "x",
         "xbins": {
          "end": 99.85927555919643,
          "size": 1,
          "start": 50.02427007211345
         },
         "yaxis": "y"
        }
       ],
       "layout": {
        "barmode": "overlay",
        "hovermode": "closest",
        "legend": {
         "traceorder": "reversed"
        },
        "template": {
         "data": {
          "bar": [
           {
            "error_x": {
             "color": "#2a3f5f"
            },
            "error_y": {
             "color": "#2a3f5f"
            },
            "marker": {
             "line": {
              "color": "#E5ECF6",
              "width": 0.5
             },
             "pattern": {
              "fillmode": "overlay",
              "size": 10,
              "solidity": 0.2
             }
            },
            "type": "bar"
           }
          ],
          "barpolar": [
           {
            "marker": {
             "line": {
              "color": "#E5ECF6",
              "width": 0.5
             },
             "pattern": {
              "fillmode": "overlay",
              "size": 10,
              "solidity": 0.2
             }
            },
            "type": "barpolar"
           }
          ],
          "carpet": [
           {
            "aaxis": {
             "endlinecolor": "#2a3f5f",
             "gridcolor": "white",
             "linecolor": "white",
             "minorgridcolor": "white",
             "startlinecolor": "#2a3f5f"
            },
            "baxis": {
             "endlinecolor": "#2a3f5f",
             "gridcolor": "white",
             "linecolor": "white",
             "minorgridcolor": "white",
             "startlinecolor": "#2a3f5f"
            },
            "type": "carpet"
           }
          ],
          "choropleth": [
           {
            "colorbar": {
             "outlinewidth": 0,
             "ticks": ""
            },
            "type": "choropleth"
           }
          ],
          "contour": [
           {
            "colorbar": {
             "outlinewidth": 0,
             "ticks": ""
            },
            "colorscale": [
             [
              0,
              "#0d0887"
             ],
             [
              0.1111111111111111,
              "#46039f"
             ],
             [
              0.2222222222222222,
              "#7201a8"
             ],
             [
              0.3333333333333333,
              "#9c179e"
             ],
             [
              0.4444444444444444,
              "#bd3786"
             ],
             [
              0.5555555555555556,
              "#d8576b"
             ],
             [
              0.6666666666666666,
              "#ed7953"
             ],
             [
              0.7777777777777778,
              "#fb9f3a"
             ],
             [
              0.8888888888888888,
              "#fdca26"
             ],
             [
              1,
              "#f0f921"
             ]
            ],
            "type": "contour"
           }
          ],
          "contourcarpet": [
           {
            "colorbar": {
             "outlinewidth": 0,
             "ticks": ""
            },
            "type": "contourcarpet"
           }
          ],
          "heatmap": [
           {
            "colorbar": {
             "outlinewidth": 0,
             "ticks": ""
            },
            "colorscale": [
             [
              0,
              "#0d0887"
             ],
             [
              0.1111111111111111,
              "#46039f"
             ],
             [
              0.2222222222222222,
              "#7201a8"
             ],
             [
              0.3333333333333333,
              "#9c179e"
             ],
             [
              0.4444444444444444,
              "#bd3786"
             ],
             [
              0.5555555555555556,
              "#d8576b"
             ],
             [
              0.6666666666666666,
              "#ed7953"
             ],
             [
              0.7777777777777778,
              "#fb9f3a"
             ],
             [
              0.8888888888888888,
              "#fdca26"
             ],
             [
              1,
              "#f0f921"
             ]
            ],
            "type": "heatmap"
           }
          ],
          "histogram": [
           {
            "marker": {
             "pattern": {
              "fillmode": "overlay",
              "size": 10,
              "solidity": 0.2
             }
            },
            "type": "histogram"
           }
          ],
          "histogram2d": [
           {
            "colorbar": {
             "outlinewidth": 0,
             "ticks": ""
            },
            "colorscale": [
             [
              0,
              "#0d0887"
             ],
             [
              0.1111111111111111,
              "#46039f"
             ],
             [
              0.2222222222222222,
              "#7201a8"
             ],
             [
              0.3333333333333333,
              "#9c179e"
             ],
             [
              0.4444444444444444,
              "#bd3786"
             ],
             [
              0.5555555555555556,
              "#d8576b"
             ],
             [
              0.6666666666666666,
              "#ed7953"
             ],
             [
              0.7777777777777778,
              "#fb9f3a"
             ],
             [
              0.8888888888888888,
              "#fdca26"
             ],
             [
              1,
              "#f0f921"
             ]
            ],
            "type": "histogram2d"
           }
          ],
          "histogram2dcontour": [
           {
            "colorbar": {
             "outlinewidth": 0,
             "ticks": ""
            },
            "colorscale": [
             [
              0,
              "#0d0887"
             ],
             [
              0.1111111111111111,
              "#46039f"
             ],
             [
              0.2222222222222222,
              "#7201a8"
             ],
             [
              0.3333333333333333,
              "#9c179e"
             ],
             [
              0.4444444444444444,
              "#bd3786"
             ],
             [
              0.5555555555555556,
              "#d8576b"
             ],
             [
              0.6666666666666666,
              "#ed7953"
             ],
             [
              0.7777777777777778,
              "#fb9f3a"
             ],
             [
              0.8888888888888888,
              "#fdca26"
             ],
             [
              1,
              "#f0f921"
             ]
            ],
            "type": "histogram2dcontour"
           }
          ],
          "mesh3d": [
           {
            "colorbar": {
             "outlinewidth": 0,
             "ticks": ""
            },
            "type": "mesh3d"
           }
          ],
          "parcoords": [
           {
            "line": {
             "colorbar": {
              "outlinewidth": 0,
              "ticks": ""
             }
            },
            "type": "parcoords"
           }
          ],
          "pie": [
           {
            "automargin": true,
            "type": "pie"
           }
          ],
          "scatter": [
           {
            "fillpattern": {
             "fillmode": "overlay",
             "size": 10,
             "solidity": 0.2
            },
            "type": "scatter"
           }
          ],
          "scatter3d": [
           {
            "line": {
             "colorbar": {
              "outlinewidth": 0,
              "ticks": ""
             }
            },
            "marker": {
             "colorbar": {
              "outlinewidth": 0,
              "ticks": ""
             }
            },
            "type": "scatter3d"
           }
          ],
          "scattercarpet": [
           {
            "marker": {
             "colorbar": {
              "outlinewidth": 0,
              "ticks": ""
             }
            },
            "type": "scattercarpet"
           }
          ],
          "scattergeo": [
           {
            "marker": {
             "colorbar": {
              "outlinewidth": 0,
              "ticks": ""
             }
            },
            "type": "scattergeo"
           }
          ],
          "scattergl": [
           {
            "marker": {
             "colorbar": {
              "outlinewidth": 0,
              "ticks": ""
             }
            },
            "type": "scattergl"
           }
          ],
          "scattermap": [
           {
            "marker": {
             "colorbar": {
              "outlinewidth": 0,
              "ticks": ""
             }
            },
            "type": "scattermap"
           }
          ],
          "scattermapbox": [
           {
            "marker": {
             "colorbar": {
              "outlinewidth": 0,
              "ticks": ""
             }
            },
            "type": "scattermapbox"
           }
          ],
          "scatterpolar": [
           {
            "marker": {
             "colorbar": {
              "outlinewidth": 0,
              "ticks": ""
             }
            },
            "type": "scatterpolar"
           }
          ],
          "scatterpolargl": [
           {
            "marker": {
             "colorbar": {
              "outlinewidth": 0,
              "ticks": ""
             }
            },
            "type": "scatterpolargl"
           }
          ],
          "scatterternary": [
           {
            "marker": {
             "colorbar": {
              "outlinewidth": 0,
              "ticks": ""
             }
            },
            "type": "scatterternary"
           }
          ],
          "surface": [
           {
            "colorbar": {
             "outlinewidth": 0,
             "ticks": ""
            },
            "colorscale": [
             [
              0,
              "#0d0887"
             ],
             [
              0.1111111111111111,
              "#46039f"
             ],
             [
              0.2222222222222222,
              "#7201a8"
             ],
             [
              0.3333333333333333,
              "#9c179e"
             ],
             [
              0.4444444444444444,
              "#bd3786"
             ],
             [
              0.5555555555555556,
              "#d8576b"
             ],
             [
              0.6666666666666666,
              "#ed7953"
             ],
             [
              0.7777777777777778,
              "#fb9f3a"
             ],
             [
              0.8888888888888888,
              "#fdca26"
             ],
             [
              1,
              "#f0f921"
             ]
            ],
            "type": "surface"
           }
          ],
          "table": [
           {
            "cells": {
             "fill": {
              "color": "#EBF0F8"
             },
             "line": {
              "color": "white"
             }
            },
            "header": {
             "fill": {
              "color": "#C8D4E3"
             },
             "line": {
              "color": "white"
             }
            },
            "type": "table"
           }
          ]
         },
         "layout": {
          "annotationdefaults": {
           "arrowcolor": "#2a3f5f",
           "arrowhead": 0,
           "arrowwidth": 1
          },
          "autotypenumbers": "strict",
          "coloraxis": {
           "colorbar": {
            "outlinewidth": 0,
            "ticks": ""
           }
          },
          "colorscale": {
           "diverging": [
            [
             0,
             "#8e0152"
            ],
            [
             0.1,
             "#c51b7d"
            ],
            [
             0.2,
             "#de77ae"
            ],
            [
             0.3,
             "#f1b6da"
            ],
            [
             0.4,
             "#fde0ef"
            ],
            [
             0.5,
             "#f7f7f7"
            ],
            [
             0.6,
             "#e6f5d0"
            ],
            [
             0.7,
             "#b8e186"
            ],
            [
             0.8,
             "#7fbc41"
            ],
            [
             0.9,
             "#4d9221"
            ],
            [
             1,
             "#276419"
            ]
           ],
           "sequential": [
            [
             0,
             "#0d0887"
            ],
            [
             0.1111111111111111,
             "#46039f"
            ],
            [
             0.2222222222222222,
             "#7201a8"
            ],
            [
             0.3333333333333333,
             "#9c179e"
            ],
            [
             0.4444444444444444,
             "#bd3786"
            ],
            [
             0.5555555555555556,
             "#d8576b"
            ],
            [
             0.6666666666666666,
             "#ed7953"
            ],
            [
             0.7777777777777778,
             "#fb9f3a"
            ],
            [
             0.8888888888888888,
             "#fdca26"
            ],
            [
             1,
             "#f0f921"
            ]
           ],
           "sequentialminus": [
            [
             0,
             "#0d0887"
            ],
            [
             0.1111111111111111,
             "#46039f"
            ],
            [
             0.2222222222222222,
             "#7201a8"
            ],
            [
             0.3333333333333333,
             "#9c179e"
            ],
            [
             0.4444444444444444,
             "#bd3786"
            ],
            [
             0.5555555555555556,
             "#d8576b"
            ],
            [
             0.6666666666666666,
             "#ed7953"
            ],
            [
             0.7777777777777778,
             "#fb9f3a"
            ],
            [
             0.8888888888888888,
             "#fdca26"
            ],
            [
             1,
             "#f0f921"
            ]
           ]
          },
          "colorway": [
           "#636efa",
           "#EF553B",
           "#00cc96",
           "#ab63fa",
           "#FFA15A",
           "#19d3f3",
           "#FF6692",
           "#B6E880",
           "#FF97FF",
           "#FECB52"
          ],
          "font": {
           "color": "#2a3f5f"
          },
          "geo": {
           "bgcolor": "white",
           "lakecolor": "white",
           "landcolor": "#E5ECF6",
           "showlakes": true,
           "showland": true,
           "subunitcolor": "white"
          },
          "hoverlabel": {
           "align": "left"
          },
          "hovermode": "closest",
          "mapbox": {
           "style": "light"
          },
          "paper_bgcolor": "white",
          "plot_bgcolor": "#E5ECF6",
          "polar": {
           "angularaxis": {
            "gridcolor": "white",
            "linecolor": "white",
            "ticks": ""
           },
           "bgcolor": "#E5ECF6",
           "radialaxis": {
            "gridcolor": "white",
            "linecolor": "white",
            "ticks": ""
           }
          },
          "scene": {
           "xaxis": {
            "backgroundcolor": "#E5ECF6",
            "gridcolor": "white",
            "gridwidth": 2,
            "linecolor": "white",
            "showbackground": true,
            "ticks": "",
            "zerolinecolor": "white"
           },
           "yaxis": {
            "backgroundcolor": "#E5ECF6",
            "gridcolor": "white",
            "gridwidth": 2,
            "linecolor": "white",
            "showbackground": true,
            "ticks": "",
            "zerolinecolor": "white"
           },
           "zaxis": {
            "backgroundcolor": "#E5ECF6",
            "gridcolor": "white",
            "gridwidth": 2,
            "linecolor": "white",
            "showbackground": true,
            "ticks": "",
            "zerolinecolor": "white"
           }
          },
          "shapedefaults": {
           "line": {
            "color": "#2a3f5f"
           }
          },
          "ternary": {
           "aaxis": {
            "gridcolor": "white",
            "linecolor": "white",
            "ticks": ""
           },
           "baxis": {
            "gridcolor": "white",
            "linecolor": "white",
            "ticks": ""
           },
           "bgcolor": "#E5ECF6",
           "caxis": {
            "gridcolor": "white",
            "linecolor": "white",
            "ticks": ""
           }
          },
          "title": {
           "x": 0.05
          },
          "xaxis": {
           "automargin": true,
           "gridcolor": "white",
           "linecolor": "white",
           "ticks": "",
           "title": {
            "standoff": 15
           },
           "zerolinecolor": "white",
           "zerolinewidth": 2
          },
          "yaxis": {
           "automargin": true,
           "gridcolor": "white",
           "linecolor": "white",
           "ticks": "",
           "title": {
            "standoff": 15
           },
           "zerolinecolor": "white",
           "zerolinewidth": 2
          }
         }
        },
        "title": {
         "text": "Histogram of population values"
        },
        "width": 700,
        "xaxis": {
         "anchor": "y2",
         "domain": [
          0,
          1
         ],
         "title": {
          "text": "Variable value"
         },
         "zeroline": false
        },
        "yaxis": {
         "anchor": "free",
         "domain": [
          0,
          1
         ],
         "position": 0,
         "title": {
          "text": "Frequency"
         }
        }
       }
      },
      "text/html": [
       "<div>                        <script type=\"text/javascript\">window.PlotlyConfig = {MathJaxConfig: 'local'};</script>\n",
       "        <script charset=\"utf-8\" src=\"https://cdn.plot.ly/plotly-3.0.1.min.js\"></script>                <div id=\"d67c8967-7218-4dd6-8228-ac66a7fbf809\" class=\"plotly-graph-div\" style=\"height:100%; width:700px;\"></div>            <script type=\"text/javascript\">                window.PLOTLYENV=window.PLOTLYENV || {};                                if (document.getElementById(\"d67c8967-7218-4dd6-8228-ac66a7fbf809\")) {                    Plotly.newPlot(                        \"d67c8967-7218-4dd6-8228-ac66a7fbf809\",                        [{\"autobinx\":false,\"histnorm\":\"probability density\",\"legendgroup\":\"Population\",\"marker\":{\"color\":\"rgb(31, 119, 180)\"},\"name\":\"Population\",\"opacity\":0.7,\"x\":{\"dtype\":\"f8\",\"bdata\":\"08S30WL8UkBZXzwfSrxYQAzpYlbhAFhAPob5OUWqTUCxz3jF+W1RQPWeVB6\\u002fU1NAFTRfaiQPUEA8WW0Bm3pYQLW8hQFrsVJA6cEdio3ZVEAFp\\u002fWZ0m1PQAGW919q3U9AWfSBzhXyVkDlrReBthZRQHYnM8tdvFFAw\\u002fexBOsDTUDALeX4BalMQH877sThSFBAJRppmMZTUEC6k+tnGMRSQDxZbQGbelhArqd82s6dVkBZnzqK1gNQQEKUAfILEFFAwn\\u002f1pVT5TkBYr2+TbfpXQMd3iVSG+lJAR5sWrPidS0ASBiIkj5hTQOZSLj3XWFVAo\\u002f6BTSRyUkDWjDhmNIlKQKmFoSenh1NABxih25PUTkCnYciMX4ZKQICiunk3OVVArx87qUmlS0DNv7p0mfVTQJInyIHpk01AwszrzBNxWECrg2SVLV5KQMB5OfAlH0tAPyupAPGGUkBF7Burt+NOQIQ3l6hppVFAXW1emrX0TUBdutnJnt5RQMAc5h9Ta05Azo2EM7\\u002frU0A29QOZbMBTQDIgRjEc4FhAoAsBQZheUECUFCmgYrhSQO8QTe3dzVBA+LNjL\\u002fXaUkCNMey4M39NQJB3muWk+U5AnkPipqCuUUDlgOmgaJ1OQLNLfKcWy1BAYRq8fhbOWECcwCaisgFRQIFrHVFYK0lA8IYsnrNrUEAvZvG3M8NYQNVowi+2tVVAi3XQx+UTUUDlgOmgaJ1OQA0NTlnkC1BA1ZeeJDFQUUCeXlRplJ9RQK8fO6lJpUtApSUJDezNSUD\\u002fhyLc2stSQMQM6I4M5kpAQDXW5XGOS0DmUi4911hVQFq04Ba16kxAEdbZeZjmUUBm1fKwBoJTQCKV+iZfSVJAxjjOevC5UUBG0f2PNOhMQCnq5F6iL1NA3LL2Z1xuUkANDU5Z5AtQQOFlH3WrzklAibEv5U+HTEAZOYLMSDxRQEixohJBlk9AMJADD94bWEDSKPKCFuRXQOo4CXqu8VZAit9tFqVUWEAzTVase81YQGzouJSARVJAd0PwT3IeV0DWjDhmNIlKQG0JL3RA9E1ABbHLGkazVEDVaMIvtrVVQEQhmp5NTlBAk4WMvXboVUDgeTY\\u002fnU9KQM6NhDO\\u002f61NAqgDLaqynSkBF8LeKphRTQJMKOEViuk1AnoYjWEDwVECG8BiwomlLQO5vfPXjq1dAcpUFpvXZUED+ilanZ6tSQLe\\u002f4K3CjVJAMmpD+URVSUCn6NRR8vRVQB5+tnx2EFdARtxzwwqpVUDF4encj4lJQHE0c0E4i1hAdU3Uha0WSUDqttah4NJVQIH6qhfh9E5AjyvfGpdQU0BB2VzlOMBPQNma562iRVRA4\\u002fE\\u002fPUfuWED3lxwnnq9LQKcGiscfOk1AjAS169i7UEA52M3mox9YQLjN32PTKlNAQe1SrSk3WEC6TinMmLxTQLsdt+IafFBAPLbhfziLWEA9RcvHV\\u002flXQAI+DdzSOldAGF9LH3pfWEDQst\\u002fS8QRJQN3Grh7rHFdAjAS169i7UECV3LV6ENJTQOtc2CKe2UxAldy1ehDSU0BKP9bAebxSQKaKoFBFaEtAm1cFZD9iT0C\\u002fojVJhWtRQDNNVqx7zVhAZtCSpDiGTkCIN7hFtzxSQNwqms63cldAdiczy128UUCK8ZKFIOROQFlfPB9KvFhA4Hk2P51PSkC+ZEXu3\\u002fZSQLW\\u002f9V+QGFFAw\\u002fexBOsDTUDTGSW+F5xXQGeg\\u002fl8z\\u002f1ZAZtXysAaCU0AfVPI1XO9TQLgSpnqgCVFAUkBFAVDwTkBnDfZM0mxRQMRpy6mAJFRASVTEDticVUCc03a9XppKQGQuf\\u002fz\\u002fxldAcuow0nMDWECnQAi9YlJWQLafrWO0t1VAQJqNw3UVTEA3n06g5pxQQLHrwblX9FZAm5Y+wkw7V0AuKQ9HTw5NQOWA6aBonU5AMJADD94bWEAfV3D8qrpJQBFFCU0nY1dAxjjOevC5UUBMrdUnarRXQEo\\u002f1sB5vFJALBqGkmdESUCThYy9duhVQMAt5fgFqUxA6m61nSvJWEBu5KKk6zRXQNxQQPgreVZAK50IOe4gUEBoct6FCWBWQJzAJqKyAVFAFt6inA6fUkAo65rWPuVVQP3ir07EU1FA7IV+MHzoT0CQd5rlpPlOQLhLnoJMEk5ADQ1OWeQLUECiD\\u002fYcuf1SQMUnk1Gg+1FA4yYg8IzlUUCPK98al1BTQNq6mVTNT1NAX79AClkGTUAXciOTeQ5NQMkcaAlKv1FAx214RfQ5UEAZ8t3gdcZYQCJdnNzU7E5AtxWh2EBEVUBygsIqKh1VQAe7E80751ZAZtBjlRoIV0AlHV6xFDJKQAgT9edZalZAdApQe2+HSUD0e8KMDe1MQNk3zfEoAlFA5N2xeHDcVECRFEG8k3RKQAcYoduT1E5APFltAZt6WEDxr718ifZXQNdJtrn3xFdADQ1OWeQLUEDrXNgintlMQMc59cqwflVAbUcidJ8SWEDiltVVHaRYQL63vv2ONE1Ayu\\u002f039\\u002fOVUD3lxwnnq9LQNGjMqu3GFVAhnId2BvuUkB7ruOzKcFUQMwOVnO1\\u002fkxAH4Vr2zjgVkAo65rWPuVVQGJKNIk+SVdAFt6inA6fUkBoTqGMYClRQAe7E80751ZAkUVKmTLyTUA1g72uL0RWQD16iIDFU1ZAqZT1S8kfU0AfRxdvLIhXQJogHg4mGkxAGoc+9KLAVUCNBpAMEQJVQBxJ+\\u002fwskUxA6YW6sPQQVUBxd6XQpnBLQI9SRwMDk1BAhe6t1z10TECPMEN\\u002f1oxTQLkjFTfrWlRABY8whHTAVUCplQar8C1VQBGXEwPy21JAvCunchbtVkDLI8jdKwVVQI+osuPbKlRAGMxMfPIFUUCdNm5doctQQL5kRe7f9lJAXCnjNkSFVEAj0QcXJRBKQEqjU4cs\\u002f1BAkqRElKV4WEAM6WJW4QBYQIUXURW4C0lAxiTvRq1kUEBzRf\\u002fS80xQQBSSWHMt41JAcW0JWj5KUEC6qsO85\\u002fdNQMNWmURZ6lZAZtBjlRoIV0A228s8Yz1YQDTIpjYQIVZAGwq0\\u002f7RQV0CazIDkvQpMQADcVb89K1dAqZT1S8kfU0Azz2XMPJFNQCeQgPV3cFhAF3Ijk3kOTUB6WMBXxOZXQEa+3r1WuVhAVmwItzSCVUC\\u002f4doEzKVXQKcByr5Xqk1A4Hk2P51PSkArnQg57iBQQDWDva4vRFZAkw\\u002fbuBHiV0BtRyJ0nxJYQNdSjWOyqlRAPFltAZt6WEA6HurxYHVSQB\\u002f6+hi4WVBA70F+0b71T0AzXdgClJZOQAFX1k0OvExAx4g7fSSAS0CrZ2582uFYQJmvYw64IFJASWVTuM3CSkAQfrJJq7BNQMd5ocQe\\u002fVFAcXel0KZwS0ANM1epGTZJQDQu2TEgMlhAEIlOdlsrUkB5aap5LPZYQPR7wowN7UxAp2HIjF+GSkAcUq7Q7DZVQGppJ7TX4lZAPGlMldBGUUAEpsCRCD5UQFZsCLc0glVAu\\u002faMAbV6V0DUL2jR90lKQGEXotuUVlVAzA5Wc7X+TEDvjbUiqWpVQHNF\\u002f9LzTFBA1ZeeJDFQUUBCV\\u002fLJ+NpQQOusPRO7hVhAk6K5E4C0SUCwnu05KiZTQFm8RVW91FJAXMAg\\u002fDueWEBA9wQxdKNMQLCQ\\u002fyI1O1JAEgYiJI+YU0DDtbBuPIVPQDWD+xBWf0pAvNU1h36BVUBlDrkcVpdSQC4pD0dPDk1AoyJNjBfqSkDdxq4e6xxXQCzLOnHeEFZAJpKMPFVtTkBs6LiUgEVSQJf6L+n+k1VAIGY6+JZtUECvKsq54n9UQADcVb89K1dAYRq8fhbOWECNBpAMEQJVQEVuUVmWaFNAtp+tY7S3VUAllpiEQJxNQDZ1ZInk91JA2biDeJ7JVUBrOAUMXCZYQCKD6XWyB1NA4RCBSe+XTUCP+IaTwZ9YQNl0iTgWFVdAnB4XEYkRVkBpCshxRsBOQMdB9A3IrVBAVrQMnlejSUCJsS\\u002flT4dMQPq4L0dfDlZAwzXu6Z6bWECX+i\\u002fp\\u002fpNVQEJuGelzU1JAxiTvRq1kUEAYX0sfel9YQKmVBqvwLVVAy6U2\\u002fIBNUUAlGmmYxlNQQL+iNUmFa1FAJ\\u002fm5qKkNT0Du\\u002fDmNkO1XQEsGsJlIEFZAj6iy49sqVEBJ\\u002f1BnRRFTQN7VObmx2FNATOiNiXrqU0A8WW0Bm3pYQAgT9edZalZAj3wz7eOJVEABKzhcCwtRQNXr80lLvlNAjAS169i7UEChgeRMijxXQAI+DdzSOldANVy+uesWUkATCNRiOLdYQEnVygiIMVZAsJ7tOSomU0CWdGe7sqVVQMmiQV8rvFVABKbAkQg+VEBANdblcY5LQMRmRz2IikpAw\\u002fexBOsDTUCGm7zHndlPQMRmRz2IikpArlO5xRh6VUB2\\u002fckaWjtOQAifYl6s4lRA3PcROI2hSkCgHPHyuCxQQMTTHqtLeFFAL04g9ZBFU0AyGF8xmcZXQFBddjiVbk1AYko0iT5JV0CPBnkyszxWQKaKoFBFaEtA3LL2Z1xuUkBYr2+TbfpXQLHrwblX9FZA\\u002f96+YP64UkCpAc4LMohQQO\\u002fnT+0qmFdAKvFFN2TbUkD5JaVQPHhUQCUaaZjGU1BAaTTP6t5YWEC\\u002f4DY1A\\u002fBRQLHrwblX9FZAuYLodCo6V0A\\u002fK6kA8YZSQEEr46q\\u002feVhA5qSREMb9S0BKR4iFPaRYQIakW9+fgVZAw7WwbjyFT0BdbV6atfRNQCuAbhtKMElAzb+6dJn1U0Bg9VpC8aFQQAlCvu82y1dAA10m2cRFVkB+pfBjWnFRQDfNiacwcVhAnB4XEYkRVkAJs2fdIpFVQFpmPTTqJVNAqQHOCzKIUEAvTiD1kEVTQGhy3oUJYFZAsJ7tOSomU0ADO4XjDKJSQPihFCVnDVZAxeHp3I+JSUBd191mAsBUQBbeopwOn1JAhRdRFbgLSUChUpNqNmVKQI8r3xqXUFNAqZUGq\\u002fAtVUAyMliL0E5SQL+iNUmFa1FA9d1Q2lCuTkADXSbZxEVWQPEF1tQifVZAIwn69JoEU0Bg9VpC8aFQQGMDNI4GcFBApxFqHDH2TUD7XDhZuGBRQEQhmp5NTlBAQlfyyfjaUEDshX4wfOhPQEbcc8MKqVVALO5z3XOnV0CbVwVkP2JPQGDLBuvjkkpADKWWB0KeVkD+ilanZ6tSQA0zbGbJYFhAkyli+P1FUUCazIDkvQpMQLPuBJ96YFRANYP7EFZ\\u002fSkA9RcvHV\\u002flXQBTurw7h0klAJR1esRQySkDE5ub90uxWQK5aEX3PyVhAtpyfrYNrUEAbCrT\\u002ftFBXQEPnCQ5zoVdAsabrMQ24VkA1g\\u002fsQVn9KQLGx98DEJlZAhvAYsKJpS0ARRQlNJ2NXQM0Rwx\\u002fJc1dABh1\\u002f4PDzUkDqttah4NJVQIjmjW65dEtAPob5OUWqTUDXSba598RXQAifYl6s4lRAmQFyZ8+UTUCTkIFaOjZYQEbcc8MKqVVANYO9ri9EVkCHNlRU3XxRQNtTeL6TjVZAtDJACrpNWEDiH3RdLeNVQJpVOPI2+FVAD2znx+xJUkCpsEFgUBBSQIPe2NYs\\u002fFRAghCSjl3KSUAEpsCRCD5UQNr\\u002fHkgbA0lAO8pxfF7KUkDcZdvPSL9RQAoNfqtEik1AKerkXqIvU0BkLn\\u002f8\\u002f8ZXQLQyQAq6TVhAq5E8L8SxV0Bx7xf2FelTQDb1A5lswFNAf0rJa6ulVEBROs1IXSVWQFOLxkCViFNAwcWipNrPSUDGFgVrZjBUQLdjDB7Q00pAlwzOoHKVU0AvM3QWr+VNQAuJGbRx30lALYkZhk8DWEDlgOmgaJ1OQJflKQ5HnFNAoV0Y+xBrV0DK7\\u002fTf385VQMd3iVSG+lJAkwo4RWK6TUBinHL2w1ZRQIxriIq1QUtAPUXLx1f5V0DCf\\u002fWlVPlOQBNNytB8B01Al\\u002fov6f6TVUDf4pYRe3lSQBU+WgNJS0lA6cEdio3ZVEADsC24RiVRQAxhehDDO1FA+rgvR18OVkA3n06g5pxQQOI6mJ8ZulhAxjjOevC5UUBN2t6gj3lVQFa0DJ5Xo0lAKI4P\\u002fELiV0ARTVGgP0xWQJMKOEViuk1AyaJBXyu8VUDZuIN4nslVQFT8NTCo+VNAbFUjJlE7TUAUklhzLeNSQFa0DJ5Xo0lAk6K5E4C0SUB6WMBXxOZXQC8zdBav5U1ASf7UbVUTUECj\\u002foFNJHJSQPvi\\u002f1p2LVZAIl2c3NTsTkCOwvXymklSQOnBHYqN2VRAJ8bXOQiYTUBjKsUo0hhXQCdUj1I63VRAKYai1miNT0Di4I6lJOJSQNPEt9Fi\\u002fFJATcGv\\u002f4QFWECPCFzVgXpUQKDQQuDdzktAVrQMnlejSUA4Z9Aymu5LQJMygXHs\\u002flNAYE6OumlYTECRI2tVivtJQLhLnoJMEk5AiDe4Rbc8UkBQTLgPMRJSQO9BftG+9U9AEIlOdlsrUkAIsbVPtIJQQB\\u002f6+hi4WVBA8APaELa+TkCblj7CTDtXQAWn9ZnSbU9A+kAlj+aRT0CkQKdPa7ZQQF\\u002foRvtdX1ZAmsyA5L0KTEBj1B3FzvJTQE9KrUGe4kpASj\\u002fWwHm8UkCguMgiahRQQAp\\u002f+YQfY0xAj3wz7eOJVEDxBdbUIn1WQCURFrdw1VVAdU3Uha0WSUC\\u002fojVJhWtRQMKP2rZzRktAESQVDQC3V0BrOAUMXCZYQN1lE9BCLFZAxObm\\u002fdLsVkAfIzs5G9ZQQP\\u002f51cuXsVJASVTEDticVUBJTSW42jdSQBNNytB8B01ANKoVGjaqV0DrnQSb3kVMQG2UAC4R4lVACh\\u002fgwmzLWEAA3FW\\u002fPStXQCY4MRZguFdAcoLCKiodVUAW3qKcDp9SQBxJ+\\u002fwskUxAgFDlphlXV0A\\u002fK6kA8YZSQGnL1chwx1VAKvFFN2TbUkD7b+15nrFRQMyu01I6dVBAkqRElKV4WEBPSq1BnuJKQDxZbQGbelhA3cauHuscV0DbUHO6dANXQMRpy6mAJFRASEpf7riCUkAaYwcIKIlXQMeIO30kgEtAWK9vk236V0ADO4XjDKJSQDefTqDmnFBADTNsZslgWEAKDX6rRIpNQFn8bmc9C1VA66w9E7uFWEDiltVVHaRYQMtvBMgAuU1AekfkVH2IS0Bfv0AKWQZNQNQdlEttLVRABSwvZTj+V0D6QCWP5pFPQF3X3WYCwFRA6\\u002fYpugGISkBB2VzlOMBPQEFdeYZHqU5AM01WrHvNWECmxKt08G9RQH+38W+NClVAv3kCeCwPUkBCP7co44hJQDhn0DKa7ktAw1aZRFnqVkAKW6lVGiNQQLuVj8TI4ldAF5xTyn8kSkBYcXMpHydJQJf6L+n+k1VASb4REMEyTECU44\\u002f8kCVXQAzpYlbhAFhAU4vGQJWIU0ATCNRiOLdYQB55AIRJzlRAm1cFZD9iT0BWbAi3NIJVQKmFoSenh1NAk6K5E4C0SUCJ44SSfexWQI7C9fKaSVJAnTZuXaHLUEBfv0AKWQZNQLR6aPi29VJAEH6ySauwTUAWMc89dMhJQDxFPIai0UpA1evzSUu+U0CYnYj1j+9WQGbQkqQ4hk5A10m2uffEV0CzyoTapjZJQDOR90zNrVdAOflP8JXNV0BCV\\u002fLJ+NpQQNMxV3Huq0xAOGfQMpruS0DfJTbG1GpXQEbcc8MKqVVADb9oaelJUUDub3z146tXQF1tXpq19E1Axz1s1SYoTUDf4pYRe3lSQKc8V9\\u002fxFlZA6WlQQC+nSkDeEtCzQF9XQHVxHApX3k5AbQNoSZe1TkCc03a9XppKQK0khHZEY1VAeljAV8TmV0CuWhF9z8lYQLqqw7zn901A7+dP7SqYV0CGbnKrcNpLQNwtV7dzHUtAx1DXwj97TUD4s2Mv9dpSQL+dGEAeWlNAZtCSpDiGTkCZr2MOuCBSQIsJPOjBRElAmsyA5L0KTEDMx\\u002fNEtx9QQElNJbjaN1JADlMde8fmS0BfBJS5EkJLQPAD2hC2vk5AQccaObGLVUAU7q8O4dJJQOlpUEAvp0pALMs6cd4QVkCLCTzowURJQCPRBxclEEpAwvUF2do+U0CrkTwvxLFXQOTdsXhw3FRABY8whHTAVUBQrbB5MOtYQNN9TZKgD1RArloRfc\\u002fJWEC3jsnG7AFUQL63vv2ONE1AO2s21yVCUkBFFuMjk\\u002fNQQGnL1chwx1VAtFsAPIV5UEC4zd9j0ypTQDZ1ZInk91JAqQHOCzKIUEAileAWoh9TQN3Grh7rHFdAaPTOnxQZTUCP+IaTwZ9YQI0vKG21b1VApEMyljBcU0AcSfv8LJFMQPAD2hC2vk5AghCSjl3KSUA1yOLKV5NVQF+\\u002fQApZBk1AaTTP6t5YWEBROs1IXSVWQArhsqp+tFZAlBQpoGK4UkDPU3eYiUNTQEUW4yOT81BAha1gpMXWTUBrsHejf3BUQNbiW64ydVRAyk0bAZxCWEDfmOr1ssZRQMeiWUQnKldA84zwnmbpUEAntRX3SItVQLacn62Da1BAweWseIEnTkBQXXY4lW5NQEMHbweO9lFAq2dufNrhWEBMrdUnarRXQEyt1SdqtFdAnNN2vV6aSkCGm7zHndlPQMP2OvrsplJAUF12OJVuTUA8tuF\\u002fOItYQKZbJI78NFJANHUCFxNfUEBinHL2w1ZRQAp\\u002f+YQfY0xArH2BUkvGVkBAmo3DdRVMQPvi\\u002f1p2LVZAlBQpoGK4UkBZ9IHOFfJWQNzumG7k3lNAhDeXqGmlUUDHbXhF9DlQQJQUKaBiuFJAQNc4JaqoSUAUyIuenbtMQKvQ\\u002fymM1lNAx6JZRCcqV0C4EqZ6oAlRQNzumG7k3lNAz1qIYMc8UUB5aap5LPZYQC8zdBav5U1ATS1LtfOiUECm5hw2DUtYQAmzZ90ikVVAdoxW8KbkUkBxNHNBOItYQMXh6dyPiUlAC6UCByZFTUDqnoDk291OQF262cme3lFASwawmUgQVkBMhWAIkiBXQOkt2RnUMVRAx1DXwj97TUB9yB4tnO5UQBjMTHzyBVFAQccaObGLVUBHbdejYeVSQBtHvwnSklRAFMiLnp27TEDvEE3t3c1QQPc3\\u002fmUt\\u002fEtA3GmePHMKVkBzXQt6M+FOQKzrZ8k8skxA71eD2vtPUUDaeaF+\\u002fy5LQO5vfPXjq1dAjGuIirVBS0DZdIk4FhVXQA0NTlnkC1BANtvLPGM9WECrZ2582uFYQDmFR4z\\u002f61NAp0AIvWJSVkAl8PJtwxtMQGpW01S33FVAPyupAPGGUkDcLVe3cx1LQEebFqz4nUtA0aMyq7cYVUDNv7p0mfVTQHDe5kpMw1RAQJqNw3UVTEBPG5wdc8xXQJ6GI1hA8FRA0aMyq7cYVUA52Py30V1YQLpOKcyYvFNAmXJXyg5SWEAUNNtLp9RVQB+Fa9s44FZA9d1Q2lCuTkDpwR2KjdlUQJwVYnfddlhAE03K0HwHTUBF7Burt+NOQFT8NTCo+VNAMhhfMZnGV0DB6WjXOhRUQBMI1GI4t1hAdrxpl+D3VUAMsZf6RFRXQCuyofqfHFJA6wQYAsbeTkAZ96Ui4N5XQDQAwJEaPlZAXU2fVS3NU0AOUx17x+ZLQHuXbUR9mldAzJiopqZLT0CJLDKrXZxUQEyt1SdqtFdAce8X9hXpU0Du\\u002fDmNkO1XQFbjlJp4B1NATMbSCG99V0A8F6r8+OdRQBeFVw9dWFNACAqN3C2\\u002fWECZAXJnz5RNQBtHvwnSklRAUkBFAVDwTkBpNM\\u002fq3lhYQBes1mhy8EtA9zf+ZS38S0BnoP5fM\\u002f9WQIt10MflE1FAtFsAPIV5UECwzrrAlUNSQLe\\u002f4K3CjVJAr2qWLdAjUUAxGcm0GSFTQJrz6Sk1H1NAtivVrsPcTUBhGrx+Fs5YQBn3pSLg3ldAZtBjlRoIV0D381HQqIdTQNj4f9qrBlRAKputusKiVkDUL2jR90lKQKdhyIxfhkpAJ5CA9XdwWEAig+l1sgdTQKoAy2qsp0pABSwvZTj+V0DbcBMY5YNPQEq1h6qwTE9AOHJReJmjV0BKtYeqsExPQDyE\\u002f3UQmVdAxkUvLSshS0BLeU0ydcdRQOXSNwEZ5lBAJjgxFmC4V0BZ9IHOFfJWQKFSk2o2ZUpAH1dw\\u002fKq6SUAA3FW\\u002fPStXQElNJbjaN1JAH\\u002fr6GLhZUEC5cTCWQ2JXQFOLxkCViFNALYkZhk8DWEC5SEvsIpdYQDyE\\u002f3UQmVdAyxRnsufwU0CcHhcRiRFWQCUaaZjGU1BAEZ2i4v2uVkBaOZPm961YQDvw8w11n0lAdrxpl+D3VUDvjbUiqWpVQO+b1JbNP01AEG816dXjTUCyKP94kxtRQJrevo1AD1FA5N2xeHDcVEDCf\\u002fWlVPlOQHVxHApX3k5ADTNsZslgWED6QCWP5pFPQA1A6l7+9lhAfqXwY1pxUUC4S56CTBJOQAs7ZU9IJlNA9d1Q2lCuTkCMa4iKtUFLQK6uypY4IVRAGoc+9KLAVUCnNkhRAK1NQLsXObG7BU5AKjQF6OKTUkCRFEG8k3RKQNtTeL6TjVZAkLxHeSHcUUBBw32qvo1QQIIQko5dyklAeljAV8TmV0BJI+rozb9OQGbV8rAGglNAlNG+kprIUECiD\\u002fYcuf1SQLW\\u002f9V+QGFFAGF9LH3pfWECnPFff8RZWQBxJ+\\u002fwskUxAJRppmMZTUECzyoTapjZJQBny3eB1xlhAcH6RDNy1UkA=\"},\"xaxis\":\"x\",\"xbins\":{\"end\":99.85927555919643,\"size\":1.0,\"start\":50.02427007211345},\"yaxis\":\"y\",\"type\":\"histogram\"}],                        {\"barmode\":\"overlay\",\"hovermode\":\"closest\",\"legend\":{\"traceorder\":\"reversed\"},\"xaxis\":{\"anchor\":\"y2\",\"domain\":[0.0,1.0],\"zeroline\":false,\"title\":{\"text\":\"Variable value\"}},\"yaxis\":{\"anchor\":\"free\",\"domain\":[0.0,1],\"position\":0.0,\"title\":{\"text\":\"Frequency\"}},\"template\":{\"data\":{\"histogram2dcontour\":[{\"type\":\"histogram2dcontour\",\"colorbar\":{\"outlinewidth\":0,\"ticks\":\"\"},\"colorscale\":[[0.0,\"#0d0887\"],[0.1111111111111111,\"#46039f\"],[0.2222222222222222,\"#7201a8\"],[0.3333333333333333,\"#9c179e\"],[0.4444444444444444,\"#bd3786\"],[0.5555555555555556,\"#d8576b\"],[0.6666666666666666,\"#ed7953\"],[0.7777777777777778,\"#fb9f3a\"],[0.8888888888888888,\"#fdca26\"],[1.0,\"#f0f921\"]]}],\"choropleth\":[{\"type\":\"choropleth\",\"colorbar\":{\"outlinewidth\":0,\"ticks\":\"\"}}],\"histogram2d\":[{\"type\":\"histogram2d\",\"colorbar\":{\"outlinewidth\":0,\"ticks\":\"\"},\"colorscale\":[[0.0,\"#0d0887\"],[0.1111111111111111,\"#46039f\"],[0.2222222222222222,\"#7201a8\"],[0.3333333333333333,\"#9c179e\"],[0.4444444444444444,\"#bd3786\"],[0.5555555555555556,\"#d8576b\"],[0.6666666666666666,\"#ed7953\"],[0.7777777777777778,\"#fb9f3a\"],[0.8888888888888888,\"#fdca26\"],[1.0,\"#f0f921\"]]}],\"heatmap\":[{\"type\":\"heatmap\",\"colorbar\":{\"outlinewidth\":0,\"ticks\":\"\"},\"colorscale\":[[0.0,\"#0d0887\"],[0.1111111111111111,\"#46039f\"],[0.2222222222222222,\"#7201a8\"],[0.3333333333333333,\"#9c179e\"],[0.4444444444444444,\"#bd3786\"],[0.5555555555555556,\"#d8576b\"],[0.6666666666666666,\"#ed7953\"],[0.7777777777777778,\"#fb9f3a\"],[0.8888888888888888,\"#fdca26\"],[1.0,\"#f0f921\"]]}],\"contourcarpet\":[{\"type\":\"contourcarpet\",\"colorbar\":{\"outlinewidth\":0,\"ticks\":\"\"}}],\"contour\":[{\"type\":\"contour\",\"colorbar\":{\"outlinewidth\":0,\"ticks\":\"\"},\"colorscale\":[[0.0,\"#0d0887\"],[0.1111111111111111,\"#46039f\"],[0.2222222222222222,\"#7201a8\"],[0.3333333333333333,\"#9c179e\"],[0.4444444444444444,\"#bd3786\"],[0.5555555555555556,\"#d8576b\"],[0.6666666666666666,\"#ed7953\"],[0.7777777777777778,\"#fb9f3a\"],[0.8888888888888888,\"#fdca26\"],[1.0,\"#f0f921\"]]}],\"surface\":[{\"type\":\"surface\",\"colorbar\":{\"outlinewidth\":0,\"ticks\":\"\"},\"colorscale\":[[0.0,\"#0d0887\"],[0.1111111111111111,\"#46039f\"],[0.2222222222222222,\"#7201a8\"],[0.3333333333333333,\"#9c179e\"],[0.4444444444444444,\"#bd3786\"],[0.5555555555555556,\"#d8576b\"],[0.6666666666666666,\"#ed7953\"],[0.7777777777777778,\"#fb9f3a\"],[0.8888888888888888,\"#fdca26\"],[1.0,\"#f0f921\"]]}],\"mesh3d\":[{\"type\":\"mesh3d\",\"colorbar\":{\"outlinewidth\":0,\"ticks\":\"\"}}],\"scatter\":[{\"fillpattern\":{\"fillmode\":\"overlay\",\"size\":10,\"solidity\":0.2},\"type\":\"scatter\"}],\"parcoords\":[{\"type\":\"parcoords\",\"line\":{\"colorbar\":{\"outlinewidth\":0,\"ticks\":\"\"}}}],\"scatterpolargl\":[{\"type\":\"scatterpolargl\",\"marker\":{\"colorbar\":{\"outlinewidth\":0,\"ticks\":\"\"}}}],\"bar\":[{\"error_x\":{\"color\":\"#2a3f5f\"},\"error_y\":{\"color\":\"#2a3f5f\"},\"marker\":{\"line\":{\"color\":\"#E5ECF6\",\"width\":0.5},\"pattern\":{\"fillmode\":\"overlay\",\"size\":10,\"solidity\":0.2}},\"type\":\"bar\"}],\"scattergeo\":[{\"type\":\"scattergeo\",\"marker\":{\"colorbar\":{\"outlinewidth\":0,\"ticks\":\"\"}}}],\"scatterpolar\":[{\"type\":\"scatterpolar\",\"marker\":{\"colorbar\":{\"outlinewidth\":0,\"ticks\":\"\"}}}],\"histogram\":[{\"marker\":{\"pattern\":{\"fillmode\":\"overlay\",\"size\":10,\"solidity\":0.2}},\"type\":\"histogram\"}],\"scattergl\":[{\"type\":\"scattergl\",\"marker\":{\"colorbar\":{\"outlinewidth\":0,\"ticks\":\"\"}}}],\"scatter3d\":[{\"type\":\"scatter3d\",\"line\":{\"colorbar\":{\"outlinewidth\":0,\"ticks\":\"\"}},\"marker\":{\"colorbar\":{\"outlinewidth\":0,\"ticks\":\"\"}}}],\"scattermap\":[{\"type\":\"scattermap\",\"marker\":{\"colorbar\":{\"outlinewidth\":0,\"ticks\":\"\"}}}],\"scattermapbox\":[{\"type\":\"scattermapbox\",\"marker\":{\"colorbar\":{\"outlinewidth\":0,\"ticks\":\"\"}}}],\"scatterternary\":[{\"type\":\"scatterternary\",\"marker\":{\"colorbar\":{\"outlinewidth\":0,\"ticks\":\"\"}}}],\"scattercarpet\":[{\"type\":\"scattercarpet\",\"marker\":{\"colorbar\":{\"outlinewidth\":0,\"ticks\":\"\"}}}],\"carpet\":[{\"aaxis\":{\"endlinecolor\":\"#2a3f5f\",\"gridcolor\":\"white\",\"linecolor\":\"white\",\"minorgridcolor\":\"white\",\"startlinecolor\":\"#2a3f5f\"},\"baxis\":{\"endlinecolor\":\"#2a3f5f\",\"gridcolor\":\"white\",\"linecolor\":\"white\",\"minorgridcolor\":\"white\",\"startlinecolor\":\"#2a3f5f\"},\"type\":\"carpet\"}],\"table\":[{\"cells\":{\"fill\":{\"color\":\"#EBF0F8\"},\"line\":{\"color\":\"white\"}},\"header\":{\"fill\":{\"color\":\"#C8D4E3\"},\"line\":{\"color\":\"white\"}},\"type\":\"table\"}],\"barpolar\":[{\"marker\":{\"line\":{\"color\":\"#E5ECF6\",\"width\":0.5},\"pattern\":{\"fillmode\":\"overlay\",\"size\":10,\"solidity\":0.2}},\"type\":\"barpolar\"}],\"pie\":[{\"automargin\":true,\"type\":\"pie\"}]},\"layout\":{\"autotypenumbers\":\"strict\",\"colorway\":[\"#636efa\",\"#EF553B\",\"#00cc96\",\"#ab63fa\",\"#FFA15A\",\"#19d3f3\",\"#FF6692\",\"#B6E880\",\"#FF97FF\",\"#FECB52\"],\"font\":{\"color\":\"#2a3f5f\"},\"hovermode\":\"closest\",\"hoverlabel\":{\"align\":\"left\"},\"paper_bgcolor\":\"white\",\"plot_bgcolor\":\"#E5ECF6\",\"polar\":{\"bgcolor\":\"#E5ECF6\",\"angularaxis\":{\"gridcolor\":\"white\",\"linecolor\":\"white\",\"ticks\":\"\"},\"radialaxis\":{\"gridcolor\":\"white\",\"linecolor\":\"white\",\"ticks\":\"\"}},\"ternary\":{\"bgcolor\":\"#E5ECF6\",\"aaxis\":{\"gridcolor\":\"white\",\"linecolor\":\"white\",\"ticks\":\"\"},\"baxis\":{\"gridcolor\":\"white\",\"linecolor\":\"white\",\"ticks\":\"\"},\"caxis\":{\"gridcolor\":\"white\",\"linecolor\":\"white\",\"ticks\":\"\"}},\"coloraxis\":{\"colorbar\":{\"outlinewidth\":0,\"ticks\":\"\"}},\"colorscale\":{\"sequential\":[[0.0,\"#0d0887\"],[0.1111111111111111,\"#46039f\"],[0.2222222222222222,\"#7201a8\"],[0.3333333333333333,\"#9c179e\"],[0.4444444444444444,\"#bd3786\"],[0.5555555555555556,\"#d8576b\"],[0.6666666666666666,\"#ed7953\"],[0.7777777777777778,\"#fb9f3a\"],[0.8888888888888888,\"#fdca26\"],[1.0,\"#f0f921\"]],\"sequentialminus\":[[0.0,\"#0d0887\"],[0.1111111111111111,\"#46039f\"],[0.2222222222222222,\"#7201a8\"],[0.3333333333333333,\"#9c179e\"],[0.4444444444444444,\"#bd3786\"],[0.5555555555555556,\"#d8576b\"],[0.6666666666666666,\"#ed7953\"],[0.7777777777777778,\"#fb9f3a\"],[0.8888888888888888,\"#fdca26\"],[1.0,\"#f0f921\"]],\"diverging\":[[0,\"#8e0152\"],[0.1,\"#c51b7d\"],[0.2,\"#de77ae\"],[0.3,\"#f1b6da\"],[0.4,\"#fde0ef\"],[0.5,\"#f7f7f7\"],[0.6,\"#e6f5d0\"],[0.7,\"#b8e186\"],[0.8,\"#7fbc41\"],[0.9,\"#4d9221\"],[1,\"#276419\"]]},\"xaxis\":{\"gridcolor\":\"white\",\"linecolor\":\"white\",\"ticks\":\"\",\"title\":{\"standoff\":15},\"zerolinecolor\":\"white\",\"automargin\":true,\"zerolinewidth\":2},\"yaxis\":{\"gridcolor\":\"white\",\"linecolor\":\"white\",\"ticks\":\"\",\"title\":{\"standoff\":15},\"zerolinecolor\":\"white\",\"automargin\":true,\"zerolinewidth\":2},\"scene\":{\"xaxis\":{\"backgroundcolor\":\"#E5ECF6\",\"gridcolor\":\"white\",\"linecolor\":\"white\",\"showbackground\":true,\"ticks\":\"\",\"zerolinecolor\":\"white\",\"gridwidth\":2},\"yaxis\":{\"backgroundcolor\":\"#E5ECF6\",\"gridcolor\":\"white\",\"linecolor\":\"white\",\"showbackground\":true,\"ticks\":\"\",\"zerolinecolor\":\"white\",\"gridwidth\":2},\"zaxis\":{\"backgroundcolor\":\"#E5ECF6\",\"gridcolor\":\"white\",\"linecolor\":\"white\",\"showbackground\":true,\"ticks\":\"\",\"zerolinecolor\":\"white\",\"gridwidth\":2}},\"shapedefaults\":{\"line\":{\"color\":\"#2a3f5f\"}},\"annotationdefaults\":{\"arrowcolor\":\"#2a3f5f\",\"arrowhead\":0,\"arrowwidth\":1},\"geo\":{\"bgcolor\":\"white\",\"landcolor\":\"#E5ECF6\",\"subunitcolor\":\"white\",\"showland\":true,\"showlakes\":true,\"lakecolor\":\"white\"},\"title\":{\"x\":0.05},\"mapbox\":{\"style\":\"light\"}}},\"title\":{\"text\":\"Histogram of population values\"},\"width\":700},                        {\"responsive\": true}                    )                };            </script>        </div>"
      ],
      "text/plain": [
       "Figure({\n",
       "    'data': [{'autobinx': False,\n",
       "              'histnorm': 'probability density',\n",
       "              'legendgroup': 'Population',\n",
       "              'marker': {'color': 'rgb(31, 119, 180)'},\n",
       "              'name': 'Population',\n",
       "              'opacity': 0.7,\n",
       "              'type': 'histogram',\n",
       "              'x': {'bdata': ('08S30WL8UkBZXzwfSrxYQAzpYlbhAF' ... 'TapjZJQBny3eB1xlhAcH6RDNy1UkA='),\n",
       "                    'dtype': 'f8'},\n",
       "              'xaxis': 'x',\n",
       "              'xbins': {'end': np.float64(99.85927555919643), 'size': 1.0, 'start': np.float64(50.02427007211345)},\n",
       "              'yaxis': 'y'}],\n",
       "    'layout': {'barmode': 'overlay',\n",
       "               'hovermode': 'closest',\n",
       "               'legend': {'traceorder': 'reversed'},\n",
       "               'template': '...',\n",
       "               'title': {'text': 'Histogram of population values'},\n",
       "               'width': 700,\n",
       "               'xaxis': {'anchor': 'y2', 'domain': [0.0, 1.0], 'title': {'text': 'Variable value'}, 'zeroline': False},\n",
       "               'yaxis': {'anchor': 'free', 'domain': [0.0, 1], 'position': 0.0, 'title': {'text': 'Frequency'}}}\n",
       "})"
      ]
     },
     "execution_count": 61,
     "metadata": {},
     "output_type": "execute_result"
    }
   ],
   "source": [
    "# Seed the numpy pseudo-random number generator\n",
    "numpy.random.seed(28)\n",
    "\n",
    "# Create an array of 1000 values using a continuous uniform distribution between 50 and 100 and assign it to the variable population\n",
    "population = numpy.random.uniform(50, 100, 1000)\n",
    "\n",
    "# Create a plotly create_distplot figure of the data in population\n",
    "fig = figure_factory.create_distplot(\n",
    "    [numpy.random.choice(population, 1000)], ['Population'],\n",
    "    show_hist=True,\n",
    "    show_rug=False,\n",
    "    show_curve=False\n",
    ")\n",
    "\n",
    "fig.update_layout(\n",
    "    title='Histogram of population values',\n",
    "    xaxis_title='Variable value',\n",
    "    yaxis_title='Frequency',\n",
    "    width=700\n",
    ")"
   ]
  },
  {
   "cell_type": "code",
   "execution_count": 62,
   "metadata": {},
   "outputs": [
    {
     "data": {
      "text/plain": [
       "np.float64(74.8702856608023)"
      ]
     },
     "execution_count": 62,
     "metadata": {},
     "output_type": "execute_result"
    }
   ],
   "source": [
    "# Calculate the population mean of the population and assign it to the variable mu\n",
    "mu = population.mean()\n",
    "mu"
   ]
  },
  {
   "cell_type": "code",
   "execution_count": 63,
   "metadata": {},
   "outputs": [
    {
     "data": {
      "text/plain": [
       "np.float64(14.807689712963851)"
      ]
     },
     "execution_count": 63,
     "metadata": {},
     "output_type": "execute_result"
    }
   ],
   "source": [
    "# Calculate the population standard deviation of the population and assign it to the variable sigma\n",
    "sigma = population.std()\n",
    "sigma"
   ]
  },
  {
   "cell_type": "code",
   "execution_count": 65,
   "metadata": {},
   "outputs": [
    {
     "ename": "ValueError",
     "evalue": "Mime type rendering requires nbformat>=4.2.0 but it is not installed",
     "output_type": "error",
     "traceback": [
      "\u001b[0;31m---------------------------------------------------------------------------\u001b[0m",
      "\u001b[0;31mValueError\u001b[0m                                Traceback (most recent call last)",
      "File \u001b[0;32m~/Desktop/Health Data Science /.venv/lib/python3.9/site-packages/IPython/core/formatters.py:922\u001b[0m, in \u001b[0;36mIPythonDisplayFormatter.__call__\u001b[0;34m(self, obj)\u001b[0m\n\u001b[1;32m    920\u001b[0m method \u001b[38;5;241m=\u001b[39m get_real_method(obj, \u001b[38;5;28mself\u001b[39m\u001b[38;5;241m.\u001b[39mprint_method)\n\u001b[1;32m    921\u001b[0m \u001b[38;5;28;01mif\u001b[39;00m method \u001b[38;5;129;01mis\u001b[39;00m \u001b[38;5;129;01mnot\u001b[39;00m \u001b[38;5;28;01mNone\u001b[39;00m:\n\u001b[0;32m--> 922\u001b[0m     \u001b[43mmethod\u001b[49m\u001b[43m(\u001b[49m\u001b[43m)\u001b[49m\n\u001b[1;32m    923\u001b[0m     \u001b[38;5;28;01mreturn\u001b[39;00m \u001b[38;5;28;01mTrue\u001b[39;00m\n",
      "File \u001b[0;32m~/Desktop/Health Data Science /.venv/lib/python3.9/site-packages/plotly/basedatatypes.py:833\u001b[0m, in \u001b[0;36mBaseFigure._ipython_display_\u001b[0;34m(self)\u001b[0m\n\u001b[1;32m    830\u001b[0m \u001b[38;5;28;01mimport\u001b[39;00m\u001b[38;5;250m \u001b[39m\u001b[38;5;21;01mplotly\u001b[39;00m\u001b[38;5;21;01m.\u001b[39;00m\u001b[38;5;21;01mio\u001b[39;00m\u001b[38;5;250m \u001b[39m\u001b[38;5;28;01mas\u001b[39;00m\u001b[38;5;250m \u001b[39m\u001b[38;5;21;01mpio\u001b[39;00m\n\u001b[1;32m    832\u001b[0m \u001b[38;5;28;01mif\u001b[39;00m pio\u001b[38;5;241m.\u001b[39mrenderers\u001b[38;5;241m.\u001b[39mrender_on_display \u001b[38;5;129;01mand\u001b[39;00m pio\u001b[38;5;241m.\u001b[39mrenderers\u001b[38;5;241m.\u001b[39mdefault:\n\u001b[0;32m--> 833\u001b[0m     \u001b[43mpio\u001b[49m\u001b[38;5;241;43m.\u001b[39;49m\u001b[43mshow\u001b[49m\u001b[43m(\u001b[49m\u001b[38;5;28;43mself\u001b[39;49m\u001b[43m)\u001b[49m\n\u001b[1;32m    834\u001b[0m \u001b[38;5;28;01melse\u001b[39;00m:\n\u001b[1;32m    835\u001b[0m     \u001b[38;5;28mprint\u001b[39m(\u001b[38;5;28mrepr\u001b[39m(\u001b[38;5;28mself\u001b[39m))\n",
      "File \u001b[0;32m~/Desktop/Health Data Science /.venv/lib/python3.9/site-packages/plotly/io/_renderers.py:425\u001b[0m, in \u001b[0;36mshow\u001b[0;34m(fig, renderer, validate, **kwargs)\u001b[0m\n\u001b[1;32m    420\u001b[0m     \u001b[38;5;28;01mraise\u001b[39;00m \u001b[38;5;167;01mValueError\u001b[39;00m(\n\u001b[1;32m    421\u001b[0m         \u001b[38;5;124m\"\u001b[39m\u001b[38;5;124mMime type rendering requires ipython but it is not installed\u001b[39m\u001b[38;5;124m\"\u001b[39m\n\u001b[1;32m    422\u001b[0m     )\n\u001b[1;32m    424\u001b[0m \u001b[38;5;28;01mif\u001b[39;00m \u001b[38;5;129;01mnot\u001b[39;00m nbformat \u001b[38;5;129;01mor\u001b[39;00m Version(nbformat\u001b[38;5;241m.\u001b[39m__version__) \u001b[38;5;241m<\u001b[39m Version(\u001b[38;5;124m\"\u001b[39m\u001b[38;5;124m4.2.0\u001b[39m\u001b[38;5;124m\"\u001b[39m):\n\u001b[0;32m--> 425\u001b[0m     \u001b[38;5;28;01mraise\u001b[39;00m \u001b[38;5;167;01mValueError\u001b[39;00m(\n\u001b[1;32m    426\u001b[0m         \u001b[38;5;124m\"\u001b[39m\u001b[38;5;124mMime type rendering requires nbformat>=4.2.0 but it is not installed\u001b[39m\u001b[38;5;124m\"\u001b[39m\n\u001b[1;32m    427\u001b[0m     )\n\u001b[1;32m    429\u001b[0m display_jupyter_version_warnings()\n\u001b[1;32m    431\u001b[0m ipython_display\u001b[38;5;241m.\u001b[39mdisplay(bundle, raw\u001b[38;5;241m=\u001b[39m\u001b[38;5;28;01mTrue\u001b[39;00m)\n",
      "\u001b[0;31mValueError\u001b[0m: Mime type rendering requires nbformat>=4.2.0 but it is not installed"
     ]
    },
    {
     "data": {
      "application/vnd.plotly.v1+json": {
       "config": {
        "plotlyServerURL": "https://plot.ly"
       },
       "data": [
        {
         "autobinx": false,
         "histnorm": "probability density",
         "legendgroup": "Population",
         "marker": {
          "color": "rgb(31, 119, 180)"
         },
         "name": "Population",
         "opacity": 0.7,
         "type": "histogram",
         "x": {
          "bdata": "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",
          "dtype": "f8"
         },
         "xaxis": "x",
         "xbins": {
          "end": 99.85927555919643,
          "size": 1,
          "start": 50.02427007211345
         },
         "yaxis": "y"
        }
       ],
       "layout": {
        "barmode": "overlay",
        "hovermode": "closest",
        "legend": {
         "traceorder": "reversed"
        },
        "shapes": [
         {
          "line": {
           "color": "green",
           "width": 2
          },
          "type": "line",
          "x0": 74.8702856608023,
          "x1": 74.8702856608023,
          "xref": "x",
          "y0": 0,
          "y1": 1,
          "yref": "y domain"
         },
         {
          "line": {
           "color": "red",
           "dash": "dash",
           "width": 2
          },
          "type": "line",
          "x0": 60.062595947838446,
          "x1": 60.062595947838446,
          "xref": "x",
          "y0": 0,
          "y1": 1,
          "yref": "y domain"
         },
         {
          "line": {
           "color": "red",
           "dash": "dash",
           "width": 2
          },
          "type": "line",
          "x0": 89.67797537376615,
          "x1": 89.67797537376615,
          "xref": "x",
          "y0": 0,
          "y1": 1,
          "yref": "y domain"
         },
         {
          "line": {
           "color": "green",
           "width": 2
          },
          "type": "line",
          "x0": 74.8702856608023,
          "x1": 74.8702856608023,
          "xref": "x",
          "y0": 0,
          "y1": 1,
          "yref": "y domain"
         },
         {
          "line": {
           "color": "red",
           "dash": "dash",
           "width": 2
          },
          "type": "line",
          "x0": 60.062595947838446,
          "x1": 60.062595947838446,
          "xref": "x",
          "y0": 0,
          "y1": 1,
          "yref": "y domain"
         },
         {
          "line": {
           "color": "red",
           "dash": "dash",
           "width": 2
          },
          "type": "line",
          "x0": 89.67797537376615,
          "x1": 89.67797537376615,
          "xref": "x",
          "y0": 0,
          "y1": 1,
          "yref": "y domain"
         }
        ],
        "template": {
         "data": {
          "bar": [
           {
            "error_x": {
             "color": "#2a3f5f"
            },
            "error_y": {
             "color": "#2a3f5f"
            },
            "marker": {
             "line": {
              "color": "#E5ECF6",
              "width": 0.5
             },
             "pattern": {
              "fillmode": "overlay",
              "size": 10,
              "solidity": 0.2
             }
            },
            "type": "bar"
           }
          ],
          "barpolar": [
           {
            "marker": {
             "line": {
              "color": "#E5ECF6",
              "width": 0.5
             },
             "pattern": {
              "fillmode": "overlay",
              "size": 10,
              "solidity": 0.2
             }
            },
            "type": "barpolar"
           }
          ],
          "carpet": [
           {
            "aaxis": {
             "endlinecolor": "#2a3f5f",
             "gridcolor": "white",
             "linecolor": "white",
             "minorgridcolor": "white",
             "startlinecolor": "#2a3f5f"
            },
            "baxis": {
             "endlinecolor": "#2a3f5f",
             "gridcolor": "white",
             "linecolor": "white",
             "minorgridcolor": "white",
             "startlinecolor": "#2a3f5f"
            },
            "type": "carpet"
           }
          ],
          "choropleth": [
           {
            "colorbar": {
             "outlinewidth": 0,
             "ticks": ""
            },
            "type": "choropleth"
           }
          ],
          "contour": [
           {
            "colorbar": {
             "outlinewidth": 0,
             "ticks": ""
            },
            "colorscale": [
             [
              0,
              "#0d0887"
             ],
             [
              0.1111111111111111,
              "#46039f"
             ],
             [
              0.2222222222222222,
              "#7201a8"
             ],
             [
              0.3333333333333333,
              "#9c179e"
             ],
             [
              0.4444444444444444,
              "#bd3786"
             ],
             [
              0.5555555555555556,
              "#d8576b"
             ],
             [
              0.6666666666666666,
              "#ed7953"
             ],
             [
              0.7777777777777778,
              "#fb9f3a"
             ],
             [
              0.8888888888888888,
              "#fdca26"
             ],
             [
              1,
              "#f0f921"
             ]
            ],
            "type": "contour"
           }
          ],
          "contourcarpet": [
           {
            "colorbar": {
             "outlinewidth": 0,
             "ticks": ""
            },
            "type": "contourcarpet"
           }
          ],
          "heatmap": [
           {
            "colorbar": {
             "outlinewidth": 0,
             "ticks": ""
            },
            "colorscale": [
             [
              0,
              "#0d0887"
             ],
             [
              0.1111111111111111,
              "#46039f"
             ],
             [
              0.2222222222222222,
              "#7201a8"
             ],
             [
              0.3333333333333333,
              "#9c179e"
             ],
             [
              0.4444444444444444,
              "#bd3786"
             ],
             [
              0.5555555555555556,
              "#d8576b"
             ],
             [
              0.6666666666666666,
              "#ed7953"
             ],
             [
              0.7777777777777778,
              "#fb9f3a"
             ],
             [
              0.8888888888888888,
              "#fdca26"
             ],
             [
              1,
              "#f0f921"
             ]
            ],
            "type": "heatmap"
           }
          ],
          "histogram": [
           {
            "marker": {
             "pattern": {
              "fillmode": "overlay",
              "size": 10,
              "solidity": 0.2
             }
            },
            "type": "histogram"
           }
          ],
          "histogram2d": [
           {
            "colorbar": {
             "outlinewidth": 0,
             "ticks": ""
            },
            "colorscale": [
             [
              0,
              "#0d0887"
             ],
             [
              0.1111111111111111,
              "#46039f"
             ],
             [
              0.2222222222222222,
              "#7201a8"
             ],
             [
              0.3333333333333333,
              "#9c179e"
             ],
             [
              0.4444444444444444,
              "#bd3786"
             ],
             [
              0.5555555555555556,
              "#d8576b"
             ],
             [
              0.6666666666666666,
              "#ed7953"
             ],
             [
              0.7777777777777778,
              "#fb9f3a"
             ],
             [
              0.8888888888888888,
              "#fdca26"
             ],
             [
              1,
              "#f0f921"
             ]
            ],
            "type": "histogram2d"
           }
          ],
          "histogram2dcontour": [
           {
            "colorbar": {
             "outlinewidth": 0,
             "ticks": ""
            },
            "colorscale": [
             [
              0,
              "#0d0887"
             ],
             [
              0.1111111111111111,
              "#46039f"
             ],
             [
              0.2222222222222222,
              "#7201a8"
             ],
             [
              0.3333333333333333,
              "#9c179e"
             ],
             [
              0.4444444444444444,
              "#bd3786"
             ],
             [
              0.5555555555555556,
              "#d8576b"
             ],
             [
              0.6666666666666666,
              "#ed7953"
             ],
             [
              0.7777777777777778,
              "#fb9f3a"
             ],
             [
              0.8888888888888888,
              "#fdca26"
             ],
             [
              1,
              "#f0f921"
             ]
            ],
            "type": "histogram2dcontour"
           }
          ],
          "mesh3d": [
           {
            "colorbar": {
             "outlinewidth": 0,
             "ticks": ""
            },
            "type": "mesh3d"
           }
          ],
          "parcoords": [
           {
            "line": {
             "colorbar": {
              "outlinewidth": 0,
              "ticks": ""
             }
            },
            "type": "parcoords"
           }
          ],
          "pie": [
           {
            "automargin": true,
            "type": "pie"
           }
          ],
          "scatter": [
           {
            "fillpattern": {
             "fillmode": "overlay",
             "size": 10,
             "solidity": 0.2
            },
            "type": "scatter"
           }
          ],
          "scatter3d": [
           {
            "line": {
             "colorbar": {
              "outlinewidth": 0,
              "ticks": ""
             }
            },
            "marker": {
             "colorbar": {
              "outlinewidth": 0,
              "ticks": ""
             }
            },
            "type": "scatter3d"
           }
          ],
          "scattercarpet": [
           {
            "marker": {
             "colorbar": {
              "outlinewidth": 0,
              "ticks": ""
             }
            },
            "type": "scattercarpet"
           }
          ],
          "scattergeo": [
           {
            "marker": {
             "colorbar": {
              "outlinewidth": 0,
              "ticks": ""
             }
            },
            "type": "scattergeo"
           }
          ],
          "scattergl": [
           {
            "marker": {
             "colorbar": {
              "outlinewidth": 0,
              "ticks": ""
             }
            },
            "type": "scattergl"
           }
          ],
          "scattermap": [
           {
            "marker": {
             "colorbar": {
              "outlinewidth": 0,
              "ticks": ""
             }
            },
            "type": "scattermap"
           }
          ],
          "scattermapbox": [
           {
            "marker": {
             "colorbar": {
              "outlinewidth": 0,
              "ticks": ""
             }
            },
            "type": "scattermapbox"
           }
          ],
          "scatterpolar": [
           {
            "marker": {
             "colorbar": {
              "outlinewidth": 0,
              "ticks": ""
             }
            },
            "type": "scatterpolar"
           }
          ],
          "scatterpolargl": [
           {
            "marker": {
             "colorbar": {
              "outlinewidth": 0,
              "ticks": ""
             }
            },
            "type": "scatterpolargl"
           }
          ],
          "scatterternary": [
           {
            "marker": {
             "colorbar": {
              "outlinewidth": 0,
              "ticks": ""
             }
            },
            "type": "scatterternary"
           }
          ],
          "surface": [
           {
            "colorbar": {
             "outlinewidth": 0,
             "ticks": ""
            },
            "colorscale": [
             [
              0,
              "#0d0887"
             ],
             [
              0.1111111111111111,
              "#46039f"
             ],
             [
              0.2222222222222222,
              "#7201a8"
             ],
             [
              0.3333333333333333,
              "#9c179e"
             ],
             [
              0.4444444444444444,
              "#bd3786"
             ],
             [
              0.5555555555555556,
              "#d8576b"
             ],
             [
              0.6666666666666666,
              "#ed7953"
             ],
             [
              0.7777777777777778,
              "#fb9f3a"
             ],
             [
              0.8888888888888888,
              "#fdca26"
             ],
             [
              1,
              "#f0f921"
             ]
            ],
            "type": "surface"
           }
          ],
          "table": [
           {
            "cells": {
             "fill": {
              "color": "#EBF0F8"
             },
             "line": {
              "color": "white"
             }
            },
            "header": {
             "fill": {
              "color": "#C8D4E3"
             },
             "line": {
              "color": "white"
             }
            },
            "type": "table"
           }
          ]
         },
         "layout": {
          "annotationdefaults": {
           "arrowcolor": "#2a3f5f",
           "arrowhead": 0,
           "arrowwidth": 1
          },
          "autotypenumbers": "strict",
          "coloraxis": {
           "colorbar": {
            "outlinewidth": 0,
            "ticks": ""
           }
          },
          "colorscale": {
           "diverging": [
            [
             0,
             "#8e0152"
            ],
            [
             0.1,
             "#c51b7d"
            ],
            [
             0.2,
             "#de77ae"
            ],
            [
             0.3,
             "#f1b6da"
            ],
            [
             0.4,
             "#fde0ef"
            ],
            [
             0.5,
             "#f7f7f7"
            ],
            [
             0.6,
             "#e6f5d0"
            ],
            [
             0.7,
             "#b8e186"
            ],
            [
             0.8,
             "#7fbc41"
            ],
            [
             0.9,
             "#4d9221"
            ],
            [
             1,
             "#276419"
            ]
           ],
           "sequential": [
            [
             0,
             "#0d0887"
            ],
            [
             0.1111111111111111,
             "#46039f"
            ],
            [
             0.2222222222222222,
             "#7201a8"
            ],
            [
             0.3333333333333333,
             "#9c179e"
            ],
            [
             0.4444444444444444,
             "#bd3786"
            ],
            [
             0.5555555555555556,
             "#d8576b"
            ],
            [
             0.6666666666666666,
             "#ed7953"
            ],
            [
             0.7777777777777778,
             "#fb9f3a"
            ],
            [
             0.8888888888888888,
             "#fdca26"
            ],
            [
             1,
             "#f0f921"
            ]
           ],
           "sequentialminus": [
            [
             0,
             "#0d0887"
            ],
            [
             0.1111111111111111,
             "#46039f"
            ],
            [
             0.2222222222222222,
             "#7201a8"
            ],
            [
             0.3333333333333333,
             "#9c179e"
            ],
            [
             0.4444444444444444,
             "#bd3786"
            ],
            [
             0.5555555555555556,
             "#d8576b"
            ],
            [
             0.6666666666666666,
             "#ed7953"
            ],
            [
             0.7777777777777778,
             "#fb9f3a"
            ],
            [
             0.8888888888888888,
             "#fdca26"
            ],
            [
             1,
             "#f0f921"
            ]
           ]
          },
          "colorway": [
           "#636efa",
           "#EF553B",
           "#00cc96",
           "#ab63fa",
           "#FFA15A",
           "#19d3f3",
           "#FF6692",
           "#B6E880",
           "#FF97FF",
           "#FECB52"
          ],
          "font": {
           "color": "#2a3f5f"
          },
          "geo": {
           "bgcolor": "white",
           "lakecolor": "white",
           "landcolor": "#E5ECF6",
           "showlakes": true,
           "showland": true,
           "subunitcolor": "white"
          },
          "hoverlabel": {
           "align": "left"
          },
          "hovermode": "closest",
          "mapbox": {
           "style": "light"
          },
          "paper_bgcolor": "white",
          "plot_bgcolor": "#E5ECF6",
          "polar": {
           "angularaxis": {
            "gridcolor": "white",
            "linecolor": "white",
            "ticks": ""
           },
           "bgcolor": "#E5ECF6",
           "radialaxis": {
            "gridcolor": "white",
            "linecolor": "white",
            "ticks": ""
           }
          },
          "scene": {
           "xaxis": {
            "backgroundcolor": "#E5ECF6",
            "gridcolor": "white",
            "gridwidth": 2,
            "linecolor": "white",
            "showbackground": true,
            "ticks": "",
            "zerolinecolor": "white"
           },
           "yaxis": {
            "backgroundcolor": "#E5ECF6",
            "gridcolor": "white",
            "gridwidth": 2,
            "linecolor": "white",
            "showbackground": true,
            "ticks": "",
            "zerolinecolor": "white"
           },
           "zaxis": {
            "backgroundcolor": "#E5ECF6",
            "gridcolor": "white",
            "gridwidth": 2,
            "linecolor": "white",
            "showbackground": true,
            "ticks": "",
            "zerolinecolor": "white"
           }
          },
          "shapedefaults": {
           "line": {
            "color": "#2a3f5f"
           }
          },
          "ternary": {
           "aaxis": {
            "gridcolor": "white",
            "linecolor": "white",
            "ticks": ""
           },
           "baxis": {
            "gridcolor": "white",
            "linecolor": "white",
            "ticks": ""
           },
           "bgcolor": "#E5ECF6",
           "caxis": {
            "gridcolor": "white",
            "linecolor": "white",
            "ticks": ""
           }
          },
          "title": {
           "x": 0.05
          },
          "xaxis": {
           "automargin": true,
           "gridcolor": "white",
           "linecolor": "white",
           "ticks": "",
           "title": {
            "standoff": 15
           },
           "zerolinecolor": "white",
           "zerolinewidth": 2
          },
          "yaxis": {
           "automargin": true,
           "gridcolor": "white",
           "linecolor": "white",
           "ticks": "",
           "title": {
            "standoff": 15
           },
           "zerolinecolor": "white",
           "zerolinewidth": 2
          }
         }
        },
        "title": {
         "text": "Histogram of population values"
        },
        "width": 700,
        "xaxis": {
         "anchor": "y2",
         "domain": [
          0,
          1
         ],
         "title": {
          "text": "Variable value"
         },
         "zeroline": false
        },
        "yaxis": {
         "anchor": "free",
         "domain": [
          0,
          1
         ],
         "position": 0,
         "title": {
          "text": "Frequency"
         }
        }
       }
      },
      "text/html": [
       "<div>                        <script type=\"text/javascript\">window.PlotlyConfig = {MathJaxConfig: 'local'};</script>\n",
       "        <script charset=\"utf-8\" src=\"https://cdn.plot.ly/plotly-3.0.1.min.js\"></script>                <div id=\"26661999-1fa6-41f3-b290-9de82c2147a8\" class=\"plotly-graph-div\" style=\"height:100%; width:700px;\"></div>            <script type=\"text/javascript\">                window.PLOTLYENV=window.PLOTLYENV || {};                                if (document.getElementById(\"26661999-1fa6-41f3-b290-9de82c2147a8\")) {                    Plotly.newPlot(                        \"26661999-1fa6-41f3-b290-9de82c2147a8\",                        [{\"autobinx\":false,\"histnorm\":\"probability density\",\"legendgroup\":\"Population\",\"marker\":{\"color\":\"rgb(31, 119, 180)\"},\"name\":\"Population\",\"opacity\":0.7,\"x\":{\"dtype\":\"f8\",\"bdata\":\"08S30WL8UkBZXzwfSrxYQAzpYlbhAFhAPob5OUWqTUCxz3jF+W1RQPWeVB6\\u002fU1NAFTRfaiQPUEA8WW0Bm3pYQLW8hQFrsVJA6cEdio3ZVEAFp\\u002fWZ0m1PQAGW919q3U9AWfSBzhXyVkDlrReBthZRQHYnM8tdvFFAw\\u002fexBOsDTUDALeX4BalMQH877sThSFBAJRppmMZTUEC6k+tnGMRSQDxZbQGbelhArqd82s6dVkBZnzqK1gNQQEKUAfILEFFAwn\\u002f1pVT5TkBYr2+TbfpXQMd3iVSG+lJAR5sWrPidS0ASBiIkj5hTQOZSLj3XWFVAo\\u002f6BTSRyUkDWjDhmNIlKQKmFoSenh1NABxih25PUTkCnYciMX4ZKQICiunk3OVVArx87qUmlS0DNv7p0mfVTQJInyIHpk01AwszrzBNxWECrg2SVLV5KQMB5OfAlH0tAPyupAPGGUkBF7Burt+NOQIQ3l6hppVFAXW1emrX0TUBdutnJnt5RQMAc5h9Ta05Azo2EM7\\u002frU0A29QOZbMBTQDIgRjEc4FhAoAsBQZheUECUFCmgYrhSQO8QTe3dzVBA+LNjL\\u002fXaUkCNMey4M39NQJB3muWk+U5AnkPipqCuUUDlgOmgaJ1OQLNLfKcWy1BAYRq8fhbOWECcwCaisgFRQIFrHVFYK0lA8IYsnrNrUEAvZvG3M8NYQNVowi+2tVVAi3XQx+UTUUDlgOmgaJ1OQA0NTlnkC1BA1ZeeJDFQUUCeXlRplJ9RQK8fO6lJpUtApSUJDezNSUD\\u002fhyLc2stSQMQM6I4M5kpAQDXW5XGOS0DmUi4911hVQFq04Ba16kxAEdbZeZjmUUBm1fKwBoJTQCKV+iZfSVJAxjjOevC5UUBG0f2PNOhMQCnq5F6iL1NA3LL2Z1xuUkANDU5Z5AtQQOFlH3WrzklAibEv5U+HTEAZOYLMSDxRQEixohJBlk9AMJADD94bWEDSKPKCFuRXQOo4CXqu8VZAit9tFqVUWEAzTVase81YQGzouJSARVJAd0PwT3IeV0DWjDhmNIlKQG0JL3RA9E1ABbHLGkazVEDVaMIvtrVVQEQhmp5NTlBAk4WMvXboVUDgeTY\\u002fnU9KQM6NhDO\\u002f61NAqgDLaqynSkBF8LeKphRTQJMKOEViuk1AnoYjWEDwVECG8BiwomlLQO5vfPXjq1dAcpUFpvXZUED+ilanZ6tSQLe\\u002f4K3CjVJAMmpD+URVSUCn6NRR8vRVQB5+tnx2EFdARtxzwwqpVUDF4encj4lJQHE0c0E4i1hAdU3Uha0WSUDqttah4NJVQIH6qhfh9E5AjyvfGpdQU0BB2VzlOMBPQNma562iRVRA4\\u002fE\\u002fPUfuWED3lxwnnq9LQKcGiscfOk1AjAS169i7UEA52M3mox9YQLjN32PTKlNAQe1SrSk3WEC6TinMmLxTQLsdt+IafFBAPLbhfziLWEA9RcvHV\\u002flXQAI+DdzSOldAGF9LH3pfWEDQst\\u002fS8QRJQN3Grh7rHFdAjAS169i7UECV3LV6ENJTQOtc2CKe2UxAldy1ehDSU0BKP9bAebxSQKaKoFBFaEtAm1cFZD9iT0C\\u002fojVJhWtRQDNNVqx7zVhAZtCSpDiGTkCIN7hFtzxSQNwqms63cldAdiczy128UUCK8ZKFIOROQFlfPB9KvFhA4Hk2P51PSkC+ZEXu3\\u002fZSQLW\\u002f9V+QGFFAw\\u002fexBOsDTUDTGSW+F5xXQGeg\\u002fl8z\\u002f1ZAZtXysAaCU0AfVPI1XO9TQLgSpnqgCVFAUkBFAVDwTkBnDfZM0mxRQMRpy6mAJFRASVTEDticVUCc03a9XppKQGQuf\\u002fz\\u002fxldAcuow0nMDWECnQAi9YlJWQLafrWO0t1VAQJqNw3UVTEA3n06g5pxQQLHrwblX9FZAm5Y+wkw7V0AuKQ9HTw5NQOWA6aBonU5AMJADD94bWEAfV3D8qrpJQBFFCU0nY1dAxjjOevC5UUBMrdUnarRXQEo\\u002f1sB5vFJALBqGkmdESUCThYy9duhVQMAt5fgFqUxA6m61nSvJWEBu5KKk6zRXQNxQQPgreVZAK50IOe4gUEBoct6FCWBWQJzAJqKyAVFAFt6inA6fUkAo65rWPuVVQP3ir07EU1FA7IV+MHzoT0CQd5rlpPlOQLhLnoJMEk5ADQ1OWeQLUECiD\\u002fYcuf1SQMUnk1Gg+1FA4yYg8IzlUUCPK98al1BTQNq6mVTNT1NAX79AClkGTUAXciOTeQ5NQMkcaAlKv1FAx214RfQ5UEAZ8t3gdcZYQCJdnNzU7E5AtxWh2EBEVUBygsIqKh1VQAe7E80751ZAZtBjlRoIV0AlHV6xFDJKQAgT9edZalZAdApQe2+HSUD0e8KMDe1MQNk3zfEoAlFA5N2xeHDcVECRFEG8k3RKQAcYoduT1E5APFltAZt6WEDxr718ifZXQNdJtrn3xFdADQ1OWeQLUEDrXNgintlMQMc59cqwflVAbUcidJ8SWEDiltVVHaRYQL63vv2ONE1Ayu\\u002f039\\u002fOVUD3lxwnnq9LQNGjMqu3GFVAhnId2BvuUkB7ruOzKcFUQMwOVnO1\\u002fkxAH4Vr2zjgVkAo65rWPuVVQGJKNIk+SVdAFt6inA6fUkBoTqGMYClRQAe7E80751ZAkUVKmTLyTUA1g72uL0RWQD16iIDFU1ZAqZT1S8kfU0AfRxdvLIhXQJogHg4mGkxAGoc+9KLAVUCNBpAMEQJVQBxJ+\\u002fwskUxA6YW6sPQQVUBxd6XQpnBLQI9SRwMDk1BAhe6t1z10TECPMEN\\u002f1oxTQLkjFTfrWlRABY8whHTAVUCplQar8C1VQBGXEwPy21JAvCunchbtVkDLI8jdKwVVQI+osuPbKlRAGMxMfPIFUUCdNm5doctQQL5kRe7f9lJAXCnjNkSFVEAj0QcXJRBKQEqjU4cs\\u002f1BAkqRElKV4WEAM6WJW4QBYQIUXURW4C0lAxiTvRq1kUEBzRf\\u002fS80xQQBSSWHMt41JAcW0JWj5KUEC6qsO85\\u002fdNQMNWmURZ6lZAZtBjlRoIV0A228s8Yz1YQDTIpjYQIVZAGwq0\\u002f7RQV0CazIDkvQpMQADcVb89K1dAqZT1S8kfU0Azz2XMPJFNQCeQgPV3cFhAF3Ijk3kOTUB6WMBXxOZXQEa+3r1WuVhAVmwItzSCVUC\\u002f4doEzKVXQKcByr5Xqk1A4Hk2P51PSkArnQg57iBQQDWDva4vRFZAkw\\u002fbuBHiV0BtRyJ0nxJYQNdSjWOyqlRAPFltAZt6WEA6HurxYHVSQB\\u002f6+hi4WVBA70F+0b71T0AzXdgClJZOQAFX1k0OvExAx4g7fSSAS0CrZ2582uFYQJmvYw64IFJASWVTuM3CSkAQfrJJq7BNQMd5ocQe\\u002fVFAcXel0KZwS0ANM1epGTZJQDQu2TEgMlhAEIlOdlsrUkB5aap5LPZYQPR7wowN7UxAp2HIjF+GSkAcUq7Q7DZVQGppJ7TX4lZAPGlMldBGUUAEpsCRCD5UQFZsCLc0glVAu\\u002faMAbV6V0DUL2jR90lKQGEXotuUVlVAzA5Wc7X+TEDvjbUiqWpVQHNF\\u002f9LzTFBA1ZeeJDFQUUBCV\\u002fLJ+NpQQOusPRO7hVhAk6K5E4C0SUCwnu05KiZTQFm8RVW91FJAXMAg\\u002fDueWEBA9wQxdKNMQLCQ\\u002fyI1O1JAEgYiJI+YU0DDtbBuPIVPQDWD+xBWf0pAvNU1h36BVUBlDrkcVpdSQC4pD0dPDk1AoyJNjBfqSkDdxq4e6xxXQCzLOnHeEFZAJpKMPFVtTkBs6LiUgEVSQJf6L+n+k1VAIGY6+JZtUECvKsq54n9UQADcVb89K1dAYRq8fhbOWECNBpAMEQJVQEVuUVmWaFNAtp+tY7S3VUAllpiEQJxNQDZ1ZInk91JA2biDeJ7JVUBrOAUMXCZYQCKD6XWyB1NA4RCBSe+XTUCP+IaTwZ9YQNl0iTgWFVdAnB4XEYkRVkBpCshxRsBOQMdB9A3IrVBAVrQMnlejSUCJsS\\u002flT4dMQPq4L0dfDlZAwzXu6Z6bWECX+i\\u002fp\\u002fpNVQEJuGelzU1JAxiTvRq1kUEAYX0sfel9YQKmVBqvwLVVAy6U2\\u002fIBNUUAlGmmYxlNQQL+iNUmFa1FAJ\\u002fm5qKkNT0Du\\u002fDmNkO1XQEsGsJlIEFZAj6iy49sqVEBJ\\u002f1BnRRFTQN7VObmx2FNATOiNiXrqU0A8WW0Bm3pYQAgT9edZalZAj3wz7eOJVEABKzhcCwtRQNXr80lLvlNAjAS169i7UEChgeRMijxXQAI+DdzSOldANVy+uesWUkATCNRiOLdYQEnVygiIMVZAsJ7tOSomU0CWdGe7sqVVQMmiQV8rvFVABKbAkQg+VEBANdblcY5LQMRmRz2IikpAw\\u002fexBOsDTUCGm7zHndlPQMRmRz2IikpArlO5xRh6VUB2\\u002fckaWjtOQAifYl6s4lRA3PcROI2hSkCgHPHyuCxQQMTTHqtLeFFAL04g9ZBFU0AyGF8xmcZXQFBddjiVbk1AYko0iT5JV0CPBnkyszxWQKaKoFBFaEtA3LL2Z1xuUkBYr2+TbfpXQLHrwblX9FZA\\u002f96+YP64UkCpAc4LMohQQO\\u002fnT+0qmFdAKvFFN2TbUkD5JaVQPHhUQCUaaZjGU1BAaTTP6t5YWEC\\u002f4DY1A\\u002fBRQLHrwblX9FZAuYLodCo6V0A\\u002fK6kA8YZSQEEr46q\\u002feVhA5qSREMb9S0BKR4iFPaRYQIakW9+fgVZAw7WwbjyFT0BdbV6atfRNQCuAbhtKMElAzb+6dJn1U0Bg9VpC8aFQQAlCvu82y1dAA10m2cRFVkB+pfBjWnFRQDfNiacwcVhAnB4XEYkRVkAJs2fdIpFVQFpmPTTqJVNAqQHOCzKIUEAvTiD1kEVTQGhy3oUJYFZAsJ7tOSomU0ADO4XjDKJSQPihFCVnDVZAxeHp3I+JSUBd191mAsBUQBbeopwOn1JAhRdRFbgLSUChUpNqNmVKQI8r3xqXUFNAqZUGq\\u002fAtVUAyMliL0E5SQL+iNUmFa1FA9d1Q2lCuTkADXSbZxEVWQPEF1tQifVZAIwn69JoEU0Bg9VpC8aFQQGMDNI4GcFBApxFqHDH2TUD7XDhZuGBRQEQhmp5NTlBAQlfyyfjaUEDshX4wfOhPQEbcc8MKqVVALO5z3XOnV0CbVwVkP2JPQGDLBuvjkkpADKWWB0KeVkD+ilanZ6tSQA0zbGbJYFhAkyli+P1FUUCazIDkvQpMQLPuBJ96YFRANYP7EFZ\\u002fSkA9RcvHV\\u002flXQBTurw7h0klAJR1esRQySkDE5ub90uxWQK5aEX3PyVhAtpyfrYNrUEAbCrT\\u002ftFBXQEPnCQ5zoVdAsabrMQ24VkA1g\\u002fsQVn9KQLGx98DEJlZAhvAYsKJpS0ARRQlNJ2NXQM0Rwx\\u002fJc1dABh1\\u002f4PDzUkDqttah4NJVQIjmjW65dEtAPob5OUWqTUDXSba598RXQAifYl6s4lRAmQFyZ8+UTUCTkIFaOjZYQEbcc8MKqVVANYO9ri9EVkCHNlRU3XxRQNtTeL6TjVZAtDJACrpNWEDiH3RdLeNVQJpVOPI2+FVAD2znx+xJUkCpsEFgUBBSQIPe2NYs\\u002fFRAghCSjl3KSUAEpsCRCD5UQNr\\u002fHkgbA0lAO8pxfF7KUkDcZdvPSL9RQAoNfqtEik1AKerkXqIvU0BkLn\\u002f8\\u002f8ZXQLQyQAq6TVhAq5E8L8SxV0Bx7xf2FelTQDb1A5lswFNAf0rJa6ulVEBROs1IXSVWQFOLxkCViFNAwcWipNrPSUDGFgVrZjBUQLdjDB7Q00pAlwzOoHKVU0AvM3QWr+VNQAuJGbRx30lALYkZhk8DWEDlgOmgaJ1OQJflKQ5HnFNAoV0Y+xBrV0DK7\\u002fTf385VQMd3iVSG+lJAkwo4RWK6TUBinHL2w1ZRQIxriIq1QUtAPUXLx1f5V0DCf\\u002fWlVPlOQBNNytB8B01Al\\u002fov6f6TVUDf4pYRe3lSQBU+WgNJS0lA6cEdio3ZVEADsC24RiVRQAxhehDDO1FA+rgvR18OVkA3n06g5pxQQOI6mJ8ZulhAxjjOevC5UUBN2t6gj3lVQFa0DJ5Xo0lAKI4P\\u002fELiV0ARTVGgP0xWQJMKOEViuk1AyaJBXyu8VUDZuIN4nslVQFT8NTCo+VNAbFUjJlE7TUAUklhzLeNSQFa0DJ5Xo0lAk6K5E4C0SUB6WMBXxOZXQC8zdBav5U1ASf7UbVUTUECj\\u002foFNJHJSQPvi\\u002f1p2LVZAIl2c3NTsTkCOwvXymklSQOnBHYqN2VRAJ8bXOQiYTUBjKsUo0hhXQCdUj1I63VRAKYai1miNT0Di4I6lJOJSQNPEt9Fi\\u002fFJATcGv\\u002f4QFWECPCFzVgXpUQKDQQuDdzktAVrQMnlejSUA4Z9Aymu5LQJMygXHs\\u002flNAYE6OumlYTECRI2tVivtJQLhLnoJMEk5AiDe4Rbc8UkBQTLgPMRJSQO9BftG+9U9AEIlOdlsrUkAIsbVPtIJQQB\\u002f6+hi4WVBA8APaELa+TkCblj7CTDtXQAWn9ZnSbU9A+kAlj+aRT0CkQKdPa7ZQQF\\u002foRvtdX1ZAmsyA5L0KTEBj1B3FzvJTQE9KrUGe4kpASj\\u002fWwHm8UkCguMgiahRQQAp\\u002f+YQfY0xAj3wz7eOJVEDxBdbUIn1WQCURFrdw1VVAdU3Uha0WSUC\\u002fojVJhWtRQMKP2rZzRktAESQVDQC3V0BrOAUMXCZYQN1lE9BCLFZAxObm\\u002fdLsVkAfIzs5G9ZQQP\\u002f51cuXsVJASVTEDticVUBJTSW42jdSQBNNytB8B01ANKoVGjaqV0DrnQSb3kVMQG2UAC4R4lVACh\\u002fgwmzLWEAA3FW\\u002fPStXQCY4MRZguFdAcoLCKiodVUAW3qKcDp9SQBxJ+\\u002fwskUxAgFDlphlXV0A\\u002fK6kA8YZSQGnL1chwx1VAKvFFN2TbUkD7b+15nrFRQMyu01I6dVBAkqRElKV4WEBPSq1BnuJKQDxZbQGbelhA3cauHuscV0DbUHO6dANXQMRpy6mAJFRASEpf7riCUkAaYwcIKIlXQMeIO30kgEtAWK9vk236V0ADO4XjDKJSQDefTqDmnFBADTNsZslgWEAKDX6rRIpNQFn8bmc9C1VA66w9E7uFWEDiltVVHaRYQMtvBMgAuU1AekfkVH2IS0Bfv0AKWQZNQNQdlEttLVRABSwvZTj+V0D6QCWP5pFPQF3X3WYCwFRA6\\u002fYpugGISkBB2VzlOMBPQEFdeYZHqU5AM01WrHvNWECmxKt08G9RQH+38W+NClVAv3kCeCwPUkBCP7co44hJQDhn0DKa7ktAw1aZRFnqVkAKW6lVGiNQQLuVj8TI4ldAF5xTyn8kSkBYcXMpHydJQJf6L+n+k1VASb4REMEyTECU44\\u002f8kCVXQAzpYlbhAFhAU4vGQJWIU0ATCNRiOLdYQB55AIRJzlRAm1cFZD9iT0BWbAi3NIJVQKmFoSenh1NAk6K5E4C0SUCJ44SSfexWQI7C9fKaSVJAnTZuXaHLUEBfv0AKWQZNQLR6aPi29VJAEH6ySauwTUAWMc89dMhJQDxFPIai0UpA1evzSUu+U0CYnYj1j+9WQGbQkqQ4hk5A10m2uffEV0CzyoTapjZJQDOR90zNrVdAOflP8JXNV0BCV\\u002fLJ+NpQQNMxV3Huq0xAOGfQMpruS0DfJTbG1GpXQEbcc8MKqVVADb9oaelJUUDub3z146tXQF1tXpq19E1Axz1s1SYoTUDf4pYRe3lSQKc8V9\\u002fxFlZA6WlQQC+nSkDeEtCzQF9XQHVxHApX3k5AbQNoSZe1TkCc03a9XppKQK0khHZEY1VAeljAV8TmV0CuWhF9z8lYQLqqw7zn901A7+dP7SqYV0CGbnKrcNpLQNwtV7dzHUtAx1DXwj97TUD4s2Mv9dpSQL+dGEAeWlNAZtCSpDiGTkCZr2MOuCBSQIsJPOjBRElAmsyA5L0KTEDMx\\u002fNEtx9QQElNJbjaN1JADlMde8fmS0BfBJS5EkJLQPAD2hC2vk5AQccaObGLVUAU7q8O4dJJQOlpUEAvp0pALMs6cd4QVkCLCTzowURJQCPRBxclEEpAwvUF2do+U0CrkTwvxLFXQOTdsXhw3FRABY8whHTAVUBQrbB5MOtYQNN9TZKgD1RArloRfc\\u002fJWEC3jsnG7AFUQL63vv2ONE1AO2s21yVCUkBFFuMjk\\u002fNQQGnL1chwx1VAtFsAPIV5UEC4zd9j0ypTQDZ1ZInk91JAqQHOCzKIUEAileAWoh9TQN3Grh7rHFdAaPTOnxQZTUCP+IaTwZ9YQI0vKG21b1VApEMyljBcU0AcSfv8LJFMQPAD2hC2vk5AghCSjl3KSUA1yOLKV5NVQF+\\u002fQApZBk1AaTTP6t5YWEBROs1IXSVWQArhsqp+tFZAlBQpoGK4UkDPU3eYiUNTQEUW4yOT81BAha1gpMXWTUBrsHejf3BUQNbiW64ydVRAyk0bAZxCWEDfmOr1ssZRQMeiWUQnKldA84zwnmbpUEAntRX3SItVQLacn62Da1BAweWseIEnTkBQXXY4lW5NQEMHbweO9lFAq2dufNrhWEBMrdUnarRXQEyt1SdqtFdAnNN2vV6aSkCGm7zHndlPQMP2OvrsplJAUF12OJVuTUA8tuF\\u002fOItYQKZbJI78NFJANHUCFxNfUEBinHL2w1ZRQAp\\u002f+YQfY0xArH2BUkvGVkBAmo3DdRVMQPvi\\u002f1p2LVZAlBQpoGK4UkBZ9IHOFfJWQNzumG7k3lNAhDeXqGmlUUDHbXhF9DlQQJQUKaBiuFJAQNc4JaqoSUAUyIuenbtMQKvQ\\u002fymM1lNAx6JZRCcqV0C4EqZ6oAlRQNzumG7k3lNAz1qIYMc8UUB5aap5LPZYQC8zdBav5U1ATS1LtfOiUECm5hw2DUtYQAmzZ90ikVVAdoxW8KbkUkBxNHNBOItYQMXh6dyPiUlAC6UCByZFTUDqnoDk291OQF262cme3lFASwawmUgQVkBMhWAIkiBXQOkt2RnUMVRAx1DXwj97TUB9yB4tnO5UQBjMTHzyBVFAQccaObGLVUBHbdejYeVSQBtHvwnSklRAFMiLnp27TEDvEE3t3c1QQPc3\\u002fmUt\\u002fEtA3GmePHMKVkBzXQt6M+FOQKzrZ8k8skxA71eD2vtPUUDaeaF+\\u002fy5LQO5vfPXjq1dAjGuIirVBS0DZdIk4FhVXQA0NTlnkC1BANtvLPGM9WECrZ2582uFYQDmFR4z\\u002f61NAp0AIvWJSVkAl8PJtwxtMQGpW01S33FVAPyupAPGGUkDcLVe3cx1LQEebFqz4nUtA0aMyq7cYVUDNv7p0mfVTQHDe5kpMw1RAQJqNw3UVTEBPG5wdc8xXQJ6GI1hA8FRA0aMyq7cYVUA52Py30V1YQLpOKcyYvFNAmXJXyg5SWEAUNNtLp9RVQB+Fa9s44FZA9d1Q2lCuTkDpwR2KjdlUQJwVYnfddlhAE03K0HwHTUBF7Burt+NOQFT8NTCo+VNAMhhfMZnGV0DB6WjXOhRUQBMI1GI4t1hAdrxpl+D3VUAMsZf6RFRXQCuyofqfHFJA6wQYAsbeTkAZ96Ui4N5XQDQAwJEaPlZAXU2fVS3NU0AOUx17x+ZLQHuXbUR9mldAzJiopqZLT0CJLDKrXZxUQEyt1SdqtFdAce8X9hXpU0Du\\u002fDmNkO1XQFbjlJp4B1NATMbSCG99V0A8F6r8+OdRQBeFVw9dWFNACAqN3C2\\u002fWECZAXJnz5RNQBtHvwnSklRAUkBFAVDwTkBpNM\\u002fq3lhYQBes1mhy8EtA9zf+ZS38S0BnoP5fM\\u002f9WQIt10MflE1FAtFsAPIV5UECwzrrAlUNSQLe\\u002f4K3CjVJAr2qWLdAjUUAxGcm0GSFTQJrz6Sk1H1NAtivVrsPcTUBhGrx+Fs5YQBn3pSLg3ldAZtBjlRoIV0D381HQqIdTQNj4f9qrBlRAKputusKiVkDUL2jR90lKQKdhyIxfhkpAJ5CA9XdwWEAig+l1sgdTQKoAy2qsp0pABSwvZTj+V0DbcBMY5YNPQEq1h6qwTE9AOHJReJmjV0BKtYeqsExPQDyE\\u002f3UQmVdAxkUvLSshS0BLeU0ydcdRQOXSNwEZ5lBAJjgxFmC4V0BZ9IHOFfJWQKFSk2o2ZUpAH1dw\\u002fKq6SUAA3FW\\u002fPStXQElNJbjaN1JAH\\u002fr6GLhZUEC5cTCWQ2JXQFOLxkCViFNALYkZhk8DWEC5SEvsIpdYQDyE\\u002f3UQmVdAyxRnsufwU0CcHhcRiRFWQCUaaZjGU1BAEZ2i4v2uVkBaOZPm961YQDvw8w11n0lAdrxpl+D3VUDvjbUiqWpVQO+b1JbNP01AEG816dXjTUCyKP94kxtRQJrevo1AD1FA5N2xeHDcVEDCf\\u002fWlVPlOQHVxHApX3k5ADTNsZslgWED6QCWP5pFPQA1A6l7+9lhAfqXwY1pxUUC4S56CTBJOQAs7ZU9IJlNA9d1Q2lCuTkCMa4iKtUFLQK6uypY4IVRAGoc+9KLAVUCnNkhRAK1NQLsXObG7BU5AKjQF6OKTUkCRFEG8k3RKQNtTeL6TjVZAkLxHeSHcUUBBw32qvo1QQIIQko5dyklAeljAV8TmV0BJI+rozb9OQGbV8rAGglNAlNG+kprIUECiD\\u002fYcuf1SQLW\\u002f9V+QGFFAGF9LH3pfWECnPFff8RZWQBxJ+\\u002fwskUxAJRppmMZTUECzyoTapjZJQBny3eB1xlhAcH6RDNy1UkA=\"},\"xaxis\":\"x\",\"xbins\":{\"end\":99.85927555919643,\"size\":1.0,\"start\":50.02427007211345},\"yaxis\":\"y\",\"type\":\"histogram\"}],                        {\"barmode\":\"overlay\",\"hovermode\":\"closest\",\"legend\":{\"traceorder\":\"reversed\"},\"xaxis\":{\"anchor\":\"y2\",\"domain\":[0.0,1.0],\"zeroline\":false,\"title\":{\"text\":\"Variable value\"}},\"yaxis\":{\"anchor\":\"free\",\"domain\":[0.0,1],\"position\":0.0,\"title\":{\"text\":\"Frequency\"}},\"template\":{\"data\":{\"histogram2dcontour\":[{\"type\":\"histogram2dcontour\",\"colorbar\":{\"outlinewidth\":0,\"ticks\":\"\"},\"colorscale\":[[0.0,\"#0d0887\"],[0.1111111111111111,\"#46039f\"],[0.2222222222222222,\"#7201a8\"],[0.3333333333333333,\"#9c179e\"],[0.4444444444444444,\"#bd3786\"],[0.5555555555555556,\"#d8576b\"],[0.6666666666666666,\"#ed7953\"],[0.7777777777777778,\"#fb9f3a\"],[0.8888888888888888,\"#fdca26\"],[1.0,\"#f0f921\"]]}],\"choropleth\":[{\"type\":\"choropleth\",\"colorbar\":{\"outlinewidth\":0,\"ticks\":\"\"}}],\"histogram2d\":[{\"type\":\"histogram2d\",\"colorbar\":{\"outlinewidth\":0,\"ticks\":\"\"},\"colorscale\":[[0.0,\"#0d0887\"],[0.1111111111111111,\"#46039f\"],[0.2222222222222222,\"#7201a8\"],[0.3333333333333333,\"#9c179e\"],[0.4444444444444444,\"#bd3786\"],[0.5555555555555556,\"#d8576b\"],[0.6666666666666666,\"#ed7953\"],[0.7777777777777778,\"#fb9f3a\"],[0.8888888888888888,\"#fdca26\"],[1.0,\"#f0f921\"]]}],\"heatmap\":[{\"type\":\"heatmap\",\"colorbar\":{\"outlinewidth\":0,\"ticks\":\"\"},\"colorscale\":[[0.0,\"#0d0887\"],[0.1111111111111111,\"#46039f\"],[0.2222222222222222,\"#7201a8\"],[0.3333333333333333,\"#9c179e\"],[0.4444444444444444,\"#bd3786\"],[0.5555555555555556,\"#d8576b\"],[0.6666666666666666,\"#ed7953\"],[0.7777777777777778,\"#fb9f3a\"],[0.8888888888888888,\"#fdca26\"],[1.0,\"#f0f921\"]]}],\"contourcarpet\":[{\"type\":\"contourcarpet\",\"colorbar\":{\"outlinewidth\":0,\"ticks\":\"\"}}],\"contour\":[{\"type\":\"contour\",\"colorbar\":{\"outlinewidth\":0,\"ticks\":\"\"},\"colorscale\":[[0.0,\"#0d0887\"],[0.1111111111111111,\"#46039f\"],[0.2222222222222222,\"#7201a8\"],[0.3333333333333333,\"#9c179e\"],[0.4444444444444444,\"#bd3786\"],[0.5555555555555556,\"#d8576b\"],[0.6666666666666666,\"#ed7953\"],[0.7777777777777778,\"#fb9f3a\"],[0.8888888888888888,\"#fdca26\"],[1.0,\"#f0f921\"]]}],\"surface\":[{\"type\":\"surface\",\"colorbar\":{\"outlinewidth\":0,\"ticks\":\"\"},\"colorscale\":[[0.0,\"#0d0887\"],[0.1111111111111111,\"#46039f\"],[0.2222222222222222,\"#7201a8\"],[0.3333333333333333,\"#9c179e\"],[0.4444444444444444,\"#bd3786\"],[0.5555555555555556,\"#d8576b\"],[0.6666666666666666,\"#ed7953\"],[0.7777777777777778,\"#fb9f3a\"],[0.8888888888888888,\"#fdca26\"],[1.0,\"#f0f921\"]]}],\"mesh3d\":[{\"type\":\"mesh3d\",\"colorbar\":{\"outlinewidth\":0,\"ticks\":\"\"}}],\"scatter\":[{\"fillpattern\":{\"fillmode\":\"overlay\",\"size\":10,\"solidity\":0.2},\"type\":\"scatter\"}],\"parcoords\":[{\"type\":\"parcoords\",\"line\":{\"colorbar\":{\"outlinewidth\":0,\"ticks\":\"\"}}}],\"scatterpolargl\":[{\"type\":\"scatterpolargl\",\"marker\":{\"colorbar\":{\"outlinewidth\":0,\"ticks\":\"\"}}}],\"bar\":[{\"error_x\":{\"color\":\"#2a3f5f\"},\"error_y\":{\"color\":\"#2a3f5f\"},\"marker\":{\"line\":{\"color\":\"#E5ECF6\",\"width\":0.5},\"pattern\":{\"fillmode\":\"overlay\",\"size\":10,\"solidity\":0.2}},\"type\":\"bar\"}],\"scattergeo\":[{\"type\":\"scattergeo\",\"marker\":{\"colorbar\":{\"outlinewidth\":0,\"ticks\":\"\"}}}],\"scatterpolar\":[{\"type\":\"scatterpolar\",\"marker\":{\"colorbar\":{\"outlinewidth\":0,\"ticks\":\"\"}}}],\"histogram\":[{\"marker\":{\"pattern\":{\"fillmode\":\"overlay\",\"size\":10,\"solidity\":0.2}},\"type\":\"histogram\"}],\"scattergl\":[{\"type\":\"scattergl\",\"marker\":{\"colorbar\":{\"outlinewidth\":0,\"ticks\":\"\"}}}],\"scatter3d\":[{\"type\":\"scatter3d\",\"line\":{\"colorbar\":{\"outlinewidth\":0,\"ticks\":\"\"}},\"marker\":{\"colorbar\":{\"outlinewidth\":0,\"ticks\":\"\"}}}],\"scattermap\":[{\"type\":\"scattermap\",\"marker\":{\"colorbar\":{\"outlinewidth\":0,\"ticks\":\"\"}}}],\"scattermapbox\":[{\"type\":\"scattermapbox\",\"marker\":{\"colorbar\":{\"outlinewidth\":0,\"ticks\":\"\"}}}],\"scatterternary\":[{\"type\":\"scatterternary\",\"marker\":{\"colorbar\":{\"outlinewidth\":0,\"ticks\":\"\"}}}],\"scattercarpet\":[{\"type\":\"scattercarpet\",\"marker\":{\"colorbar\":{\"outlinewidth\":0,\"ticks\":\"\"}}}],\"carpet\":[{\"aaxis\":{\"endlinecolor\":\"#2a3f5f\",\"gridcolor\":\"white\",\"linecolor\":\"white\",\"minorgridcolor\":\"white\",\"startlinecolor\":\"#2a3f5f\"},\"baxis\":{\"endlinecolor\":\"#2a3f5f\",\"gridcolor\":\"white\",\"linecolor\":\"white\",\"minorgridcolor\":\"white\",\"startlinecolor\":\"#2a3f5f\"},\"type\":\"carpet\"}],\"table\":[{\"cells\":{\"fill\":{\"color\":\"#EBF0F8\"},\"line\":{\"color\":\"white\"}},\"header\":{\"fill\":{\"color\":\"#C8D4E3\"},\"line\":{\"color\":\"white\"}},\"type\":\"table\"}],\"barpolar\":[{\"marker\":{\"line\":{\"color\":\"#E5ECF6\",\"width\":0.5},\"pattern\":{\"fillmode\":\"overlay\",\"size\":10,\"solidity\":0.2}},\"type\":\"barpolar\"}],\"pie\":[{\"automargin\":true,\"type\":\"pie\"}]},\"layout\":{\"autotypenumbers\":\"strict\",\"colorway\":[\"#636efa\",\"#EF553B\",\"#00cc96\",\"#ab63fa\",\"#FFA15A\",\"#19d3f3\",\"#FF6692\",\"#B6E880\",\"#FF97FF\",\"#FECB52\"],\"font\":{\"color\":\"#2a3f5f\"},\"hovermode\":\"closest\",\"hoverlabel\":{\"align\":\"left\"},\"paper_bgcolor\":\"white\",\"plot_bgcolor\":\"#E5ECF6\",\"polar\":{\"bgcolor\":\"#E5ECF6\",\"angularaxis\":{\"gridcolor\":\"white\",\"linecolor\":\"white\",\"ticks\":\"\"},\"radialaxis\":{\"gridcolor\":\"white\",\"linecolor\":\"white\",\"ticks\":\"\"}},\"ternary\":{\"bgcolor\":\"#E5ECF6\",\"aaxis\":{\"gridcolor\":\"white\",\"linecolor\":\"white\",\"ticks\":\"\"},\"baxis\":{\"gridcolor\":\"white\",\"linecolor\":\"white\",\"ticks\":\"\"},\"caxis\":{\"gridcolor\":\"white\",\"linecolor\":\"white\",\"ticks\":\"\"}},\"coloraxis\":{\"colorbar\":{\"outlinewidth\":0,\"ticks\":\"\"}},\"colorscale\":{\"sequential\":[[0.0,\"#0d0887\"],[0.1111111111111111,\"#46039f\"],[0.2222222222222222,\"#7201a8\"],[0.3333333333333333,\"#9c179e\"],[0.4444444444444444,\"#bd3786\"],[0.5555555555555556,\"#d8576b\"],[0.6666666666666666,\"#ed7953\"],[0.7777777777777778,\"#fb9f3a\"],[0.8888888888888888,\"#fdca26\"],[1.0,\"#f0f921\"]],\"sequentialminus\":[[0.0,\"#0d0887\"],[0.1111111111111111,\"#46039f\"],[0.2222222222222222,\"#7201a8\"],[0.3333333333333333,\"#9c179e\"],[0.4444444444444444,\"#bd3786\"],[0.5555555555555556,\"#d8576b\"],[0.6666666666666666,\"#ed7953\"],[0.7777777777777778,\"#fb9f3a\"],[0.8888888888888888,\"#fdca26\"],[1.0,\"#f0f921\"]],\"diverging\":[[0,\"#8e0152\"],[0.1,\"#c51b7d\"],[0.2,\"#de77ae\"],[0.3,\"#f1b6da\"],[0.4,\"#fde0ef\"],[0.5,\"#f7f7f7\"],[0.6,\"#e6f5d0\"],[0.7,\"#b8e186\"],[0.8,\"#7fbc41\"],[0.9,\"#4d9221\"],[1,\"#276419\"]]},\"xaxis\":{\"gridcolor\":\"white\",\"linecolor\":\"white\",\"ticks\":\"\",\"title\":{\"standoff\":15},\"zerolinecolor\":\"white\",\"automargin\":true,\"zerolinewidth\":2},\"yaxis\":{\"gridcolor\":\"white\",\"linecolor\":\"white\",\"ticks\":\"\",\"title\":{\"standoff\":15},\"zerolinecolor\":\"white\",\"automargin\":true,\"zerolinewidth\":2},\"scene\":{\"xaxis\":{\"backgroundcolor\":\"#E5ECF6\",\"gridcolor\":\"white\",\"linecolor\":\"white\",\"showbackground\":true,\"ticks\":\"\",\"zerolinecolor\":\"white\",\"gridwidth\":2},\"yaxis\":{\"backgroundcolor\":\"#E5ECF6\",\"gridcolor\":\"white\",\"linecolor\":\"white\",\"showbackground\":true,\"ticks\":\"\",\"zerolinecolor\":\"white\",\"gridwidth\":2},\"zaxis\":{\"backgroundcolor\":\"#E5ECF6\",\"gridcolor\":\"white\",\"linecolor\":\"white\",\"showbackground\":true,\"ticks\":\"\",\"zerolinecolor\":\"white\",\"gridwidth\":2}},\"shapedefaults\":{\"line\":{\"color\":\"#2a3f5f\"}},\"annotationdefaults\":{\"arrowcolor\":\"#2a3f5f\",\"arrowhead\":0,\"arrowwidth\":1},\"geo\":{\"bgcolor\":\"white\",\"landcolor\":\"#E5ECF6\",\"subunitcolor\":\"white\",\"showland\":true,\"showlakes\":true,\"lakecolor\":\"white\"},\"title\":{\"x\":0.05},\"mapbox\":{\"style\":\"light\"}}},\"title\":{\"text\":\"Histogram of population values\"},\"width\":700,\"shapes\":[{\"line\":{\"color\":\"green\",\"width\":2},\"type\":\"line\",\"x0\":74.8702856608023,\"x1\":74.8702856608023,\"xref\":\"x\",\"y0\":0,\"y1\":1,\"yref\":\"y domain\"},{\"line\":{\"color\":\"red\",\"dash\":\"dash\",\"width\":2},\"type\":\"line\",\"x0\":60.062595947838446,\"x1\":60.062595947838446,\"xref\":\"x\",\"y0\":0,\"y1\":1,\"yref\":\"y domain\"},{\"line\":{\"color\":\"red\",\"dash\":\"dash\",\"width\":2},\"type\":\"line\",\"x0\":89.67797537376615,\"x1\":89.67797537376615,\"xref\":\"x\",\"y0\":0,\"y1\":1,\"yref\":\"y domain\"},{\"line\":{\"color\":\"green\",\"width\":2},\"type\":\"line\",\"x0\":74.8702856608023,\"x1\":74.8702856608023,\"xref\":\"x\",\"y0\":0,\"y1\":1,\"yref\":\"y domain\"},{\"line\":{\"color\":\"red\",\"dash\":\"dash\",\"width\":2},\"type\":\"line\",\"x0\":60.062595947838446,\"x1\":60.062595947838446,\"xref\":\"x\",\"y0\":0,\"y1\":1,\"yref\":\"y domain\"},{\"line\":{\"color\":\"red\",\"dash\":\"dash\",\"width\":2},\"type\":\"line\",\"x0\":89.67797537376615,\"x1\":89.67797537376615,\"xref\":\"x\",\"y0\":0,\"y1\":1,\"yref\":\"y domain\"}]},                        {\"responsive\": true}                    )                };            </script>        </div>"
      ],
      "text/plain": [
       "Figure({\n",
       "    'data': [{'autobinx': False,\n",
       "              'histnorm': 'probability density',\n",
       "              'legendgroup': 'Population',\n",
       "              'marker': {'color': 'rgb(31, 119, 180)'},\n",
       "              'name': 'Population',\n",
       "              'opacity': 0.7,\n",
       "              'type': 'histogram',\n",
       "              'x': {'bdata': ('08S30WL8UkBZXzwfSrxYQAzpYlbhAF' ... 'TapjZJQBny3eB1xlhAcH6RDNy1UkA='),\n",
       "                    'dtype': 'f8'},\n",
       "              'xaxis': 'x',\n",
       "              'xbins': {'end': np.float64(99.85927555919643), 'size': 1.0, 'start': np.float64(50.02427007211345)},\n",
       "              'yaxis': 'y'}],\n",
       "    'layout': {'barmode': 'overlay',\n",
       "               'hovermode': 'closest',\n",
       "               'legend': {'traceorder': 'reversed'},\n",
       "               'shapes': [{'line': {'color': 'green', 'width': 2},\n",
       "                           'type': 'line',\n",
       "                           'x0': np.float64(74.8702856608023),\n",
       "                           'x1': np.float64(74.8702856608023),\n",
       "                           'xref': 'x',\n",
       "                           'y0': 0,\n",
       "                           'y1': 1,\n",
       "                           'yref': 'y domain'},\n",
       "                          {'line': {'color': 'red', 'dash': 'dash', 'width': 2},\n",
       "                           'type': 'line',\n",
       "                           'x0': np.float64(60.062595947838446),\n",
       "                           'x1': np.float64(60.062595947838446),\n",
       "                           'xref': 'x',\n",
       "                           'y0': 0,\n",
       "                           'y1': 1,\n",
       "                           'yref': 'y domain'},\n",
       "                          {'line': {'color': 'red', 'dash': 'dash', 'width': 2},\n",
       "                           'type': 'line',\n",
       "                           'x0': np.float64(89.67797537376615),\n",
       "                           'x1': np.float64(89.67797537376615),\n",
       "                           'xref': 'x',\n",
       "                           'y0': 0,\n",
       "                           'y1': 1,\n",
       "                           'yref': 'y domain'},\n",
       "                          {'line': {'color': 'green', 'width': 2},\n",
       "                           'type': 'line',\n",
       "                           'x0': np.float64(74.8702856608023),\n",
       "                           'x1': np.float64(74.8702856608023),\n",
       "                           'xref': 'x',\n",
       "                           'y0': 0,\n",
       "                           'y1': 1,\n",
       "                           'yref': 'y domain'},\n",
       "                          {'line': {'color': 'red', 'dash': 'dash', 'width': 2},\n",
       "                           'type': 'line',\n",
       "                           'x0': np.float64(60.062595947838446),\n",
       "                           'x1': np.float64(60.062595947838446),\n",
       "                           'xref': 'x',\n",
       "                           'y0': 0,\n",
       "                           'y1': 1,\n",
       "                           'yref': 'y domain'},\n",
       "                          {'line': {'color': 'red', 'dash': 'dash', 'width': 2},\n",
       "                           'type': 'line',\n",
       "                           'x0': np.float64(89.67797537376615),\n",
       "                           'x1': np.float64(89.67797537376615),\n",
       "                           'xref': 'x',\n",
       "                           'y0': 0,\n",
       "                           'y1': 1,\n",
       "                           'yref': 'y domain'}],\n",
       "               'template': '...',\n",
       "               'title': {'text': 'Histogram of population values'},\n",
       "               'width': 700,\n",
       "               'xaxis': {'anchor': 'y2', 'domain': [0.0, 1.0], 'title': {'text': 'Variable value'}, 'zeroline': False},\n",
       "               'yaxis': {'anchor': 'free', 'domain': [0.0, 1], 'position': 0.0, 'title': {'text': 'Frequency'}}}\n",
       "})"
      ]
     },
     "execution_count": 65,
     "metadata": {},
     "output_type": "execute_result"
    }
   ],
   "source": [
    "# Add a horizontal line to the plot at the mean and dashed lines for the standard deviation\n",
    "fig.add_vline(x=mu, line_width=2, line_color='green')\n",
    "fig.add_vline(x=mu - sigma, line_width=2, line_dash='dash', line_color='red')\n",
    "fig.add_vline(x=mu + sigma, line_width=2, line_dash='dash', line_color='red')\n"
   ]
  },
  {
   "cell_type": "code",
   "execution_count": 66,
   "metadata": {},
   "outputs": [
    {
     "data": {
      "text/plain": [
       "np.float64(75.39338504047777)"
      ]
     },
     "execution_count": 66,
     "metadata": {},
     "output_type": "execute_result"
    }
   ],
   "source": [
    "# Seed the pseudo-random number generator\n",
    "numpy.random.seed(28)\n",
    "\n",
    "# Select a random sample of 30 values from the population and assign it to the variable sample\n",
    "sample = numpy.random.choice(population, 30)\n",
    "\n",
    "# Calculate the sample mean and assign it to the variable x_bar\n",
    "x_bar = sample.mean()\n",
    "x_bar"
   ]
  },
  {
   "cell_type": "code",
   "execution_count": 67,
   "metadata": {},
   "outputs": [],
   "source": [
    "# Use list comprehension to calculate the sample mean of 1000 samples of size 30 and assign it to the variable x_bar_vals\n",
    "x_bar_vals = [numpy.random.choice(population, 30).mean() for _ in range(1000)]"
   ]
  },
  {
   "cell_type": "code",
   "execution_count": 68,
   "metadata": {},
   "outputs": [],
   "source": [
    "# Sort the values in x_bar_vals and assign it to the variable x_bar_vals_sorted\n",
    "x_bar_vals_sorted = numpy.sort(x_bar_vals)"
   ]
  },
  {
   "cell_type": "code",
   "execution_count": 69,
   "metadata": {},
   "outputs": [
    {
     "data": {
      "text/plain": [
       "np.float64(69.54310782732712)"
      ]
     },
     "execution_count": 69,
     "metadata": {},
     "output_type": "execute_result"
    }
   ],
   "source": [
    "x_bar_vals_sorted[24]"
   ]
  },
  {
   "cell_type": "code",
   "execution_count": 70,
   "metadata": {},
   "outputs": [
    {
     "data": {
      "text/plain": [
       "np.float64(80.28681596822955)"
      ]
     },
     "execution_count": 70,
     "metadata": {},
     "output_type": "execute_result"
    }
   ],
   "source": [
    "x_bar_vals_sorted[974]"
   ]
  },
  {
   "cell_type": "code",
   "execution_count": 71,
   "metadata": {},
   "outputs": [
    {
     "ename": "ValueError",
     "evalue": "Mime type rendering requires nbformat>=4.2.0 but it is not installed",
     "output_type": "error",
     "traceback": [
      "\u001b[0;31m---------------------------------------------------------------------------\u001b[0m",
      "\u001b[0;31mValueError\u001b[0m                                Traceback (most recent call last)",
      "File \u001b[0;32m~/Desktop/Health Data Science /.venv/lib/python3.9/site-packages/IPython/core/formatters.py:922\u001b[0m, in \u001b[0;36mIPythonDisplayFormatter.__call__\u001b[0;34m(self, obj)\u001b[0m\n\u001b[1;32m    920\u001b[0m method \u001b[38;5;241m=\u001b[39m get_real_method(obj, \u001b[38;5;28mself\u001b[39m\u001b[38;5;241m.\u001b[39mprint_method)\n\u001b[1;32m    921\u001b[0m \u001b[38;5;28;01mif\u001b[39;00m method \u001b[38;5;129;01mis\u001b[39;00m \u001b[38;5;129;01mnot\u001b[39;00m \u001b[38;5;28;01mNone\u001b[39;00m:\n\u001b[0;32m--> 922\u001b[0m     \u001b[43mmethod\u001b[49m\u001b[43m(\u001b[49m\u001b[43m)\u001b[49m\n\u001b[1;32m    923\u001b[0m     \u001b[38;5;28;01mreturn\u001b[39;00m \u001b[38;5;28;01mTrue\u001b[39;00m\n",
      "File \u001b[0;32m~/Desktop/Health Data Science /.venv/lib/python3.9/site-packages/plotly/basedatatypes.py:833\u001b[0m, in \u001b[0;36mBaseFigure._ipython_display_\u001b[0;34m(self)\u001b[0m\n\u001b[1;32m    830\u001b[0m \u001b[38;5;28;01mimport\u001b[39;00m\u001b[38;5;250m \u001b[39m\u001b[38;5;21;01mplotly\u001b[39;00m\u001b[38;5;21;01m.\u001b[39;00m\u001b[38;5;21;01mio\u001b[39;00m\u001b[38;5;250m \u001b[39m\u001b[38;5;28;01mas\u001b[39;00m\u001b[38;5;250m \u001b[39m\u001b[38;5;21;01mpio\u001b[39;00m\n\u001b[1;32m    832\u001b[0m \u001b[38;5;28;01mif\u001b[39;00m pio\u001b[38;5;241m.\u001b[39mrenderers\u001b[38;5;241m.\u001b[39mrender_on_display \u001b[38;5;129;01mand\u001b[39;00m pio\u001b[38;5;241m.\u001b[39mrenderers\u001b[38;5;241m.\u001b[39mdefault:\n\u001b[0;32m--> 833\u001b[0m     \u001b[43mpio\u001b[49m\u001b[38;5;241;43m.\u001b[39;49m\u001b[43mshow\u001b[49m\u001b[43m(\u001b[49m\u001b[38;5;28;43mself\u001b[39;49m\u001b[43m)\u001b[49m\n\u001b[1;32m    834\u001b[0m \u001b[38;5;28;01melse\u001b[39;00m:\n\u001b[1;32m    835\u001b[0m     \u001b[38;5;28mprint\u001b[39m(\u001b[38;5;28mrepr\u001b[39m(\u001b[38;5;28mself\u001b[39m))\n",
      "File \u001b[0;32m~/Desktop/Health Data Science /.venv/lib/python3.9/site-packages/plotly/io/_renderers.py:425\u001b[0m, in \u001b[0;36mshow\u001b[0;34m(fig, renderer, validate, **kwargs)\u001b[0m\n\u001b[1;32m    420\u001b[0m     \u001b[38;5;28;01mraise\u001b[39;00m \u001b[38;5;167;01mValueError\u001b[39;00m(\n\u001b[1;32m    421\u001b[0m         \u001b[38;5;124m\"\u001b[39m\u001b[38;5;124mMime type rendering requires ipython but it is not installed\u001b[39m\u001b[38;5;124m\"\u001b[39m\n\u001b[1;32m    422\u001b[0m     )\n\u001b[1;32m    424\u001b[0m \u001b[38;5;28;01mif\u001b[39;00m \u001b[38;5;129;01mnot\u001b[39;00m nbformat \u001b[38;5;129;01mor\u001b[39;00m Version(nbformat\u001b[38;5;241m.\u001b[39m__version__) \u001b[38;5;241m<\u001b[39m Version(\u001b[38;5;124m\"\u001b[39m\u001b[38;5;124m4.2.0\u001b[39m\u001b[38;5;124m\"\u001b[39m):\n\u001b[0;32m--> 425\u001b[0m     \u001b[38;5;28;01mraise\u001b[39;00m \u001b[38;5;167;01mValueError\u001b[39;00m(\n\u001b[1;32m    426\u001b[0m         \u001b[38;5;124m\"\u001b[39m\u001b[38;5;124mMime type rendering requires nbformat>=4.2.0 but it is not installed\u001b[39m\u001b[38;5;124m\"\u001b[39m\n\u001b[1;32m    427\u001b[0m     )\n\u001b[1;32m    429\u001b[0m display_jupyter_version_warnings()\n\u001b[1;32m    431\u001b[0m ipython_display\u001b[38;5;241m.\u001b[39mdisplay(bundle, raw\u001b[38;5;241m=\u001b[39m\u001b[38;5;28;01mTrue\u001b[39;00m)\n",
      "\u001b[0;31mValueError\u001b[0m: Mime type rendering requires nbformat>=4.2.0 but it is not installed"
     ]
    },
    {
     "data": {
      "application/vnd.plotly.v1+json": {
       "config": {
        "plotlyServerURL": "https://plot.ly"
       },
       "data": [
        {
         "histnorm": "probability",
         "type": "histogram",
         "x": [
          69.84345662130204,
          72.60187738769199,
          76.59827929734878,
          73.96990321477178,
          74.89791072520772,
          70.00209023364627,
          75.46749756442831,
          73.98692257083778,
          76.60364774543952,
          77.04941540845012,
          70.7944778031303,
          77.53817567829591,
          77.35659224788218,
          77.17232771627268,
          72.58279050806787,
          75.3222920532692,
          72.1847550531239,
          73.33894561670475,
          75.90438324019603,
          71.40538146964633,
          76.63489818791163,
          75.89079971425333,
          71.49069911650137,
          74.01007010113294,
          77.21921670645513,
          80.98175209863912,
          74.8601398783346,
          79.746069860667,
          78.16108310677632,
          77.05409025180536,
          76.9418676436257,
          71.65587205973392,
          77.096470171809,
          73.99967185688027,
          71.5626692185752,
          74.45490499154235,
          75.5416927031429,
          75.40751017507937,
          73.77461418672631,
          76.90801865120703,
          70.23142292087506,
          79.45783136197248,
          70.5868836436783,
          75.51655619101203,
          78.02300221344753,
          76.24412170976122,
          77.61920052115332,
          78.41449979064728,
          73.35469280327861,
          75.01611510061278,
          68.74682268000691,
          78.59855041186309,
          76.41131947776832,
          78.15811437114466,
          75.18130517797569,
          76.37480021230706,
          71.11840879443307,
          73.18429028793877,
          70.55407637560272,
          71.99910252078121,
          73.10684596475784,
          72.81188980349152,
          74.85278332107934,
          77.05704557821802,
          74.11367891444279,
          69.39300045479384,
          68.25964939590261,
          76.13151375845865,
          76.23949755604067,
          77.01705148967412,
          73.81191343889414,
          76.76087417715495,
          77.30329315850182,
          76.92819198377919,
          74.65636829161222,
          75.07784722521895,
          77.85246027538237,
          76.42564297045742,
          78.64744374868269,
          73.73142834394747,
          77.02847924724033,
          78.9800247222008,
          73.7802111967388,
          70.99174309204493,
          72.29690456347659,
          80.28681596822955,
          73.30263913464134,
          75.23477066716757,
          68.23933669709787,
          75.39378779192052,
          76.48577375119929,
          75.12035858543071,
          73.66158167808474,
          81.53336718904492,
          78.12482301825746,
          78.38312537291007,
          70.6819902161066,
          74.44930367121856,
          75.55248221996703,
          76.19071076826371,
          69.07971330534187,
          71.77438885853098,
          72.89938993759831,
          75.82779239168265,
          76.4797275963658,
          68.73719058161257,
          74.49812961866273,
          73.66877372774452,
          76.92957316997182,
          71.64390465488226,
          78.23287081804538,
          75.45839144356833,
          81.07776286727395,
          71.17302421976866,
          73.87472025781172,
          75.12353950451445,
          77.64695511585846,
          73.94505666440902,
          74.73276831277235,
          76.10620309214511,
          69.27905448427856,
          77.84287194595682,
          74.05017732373034,
          74.83134907092813,
          77.2810062580993,
          75.88353027813561,
          80.23329936093862,
          76.17259144431286,
          73.09954501891511,
          72.03744702092035,
          78.64218383628591,
          74.12374073700686,
          77.51859831447157,
          75.72028999295438,
          72.82701172239787,
          73.3152928460262,
          77.85698979852786,
          75.41117741079242,
          75.24353167696862,
          74.20583444886799,
          74.04890222210135,
          75.2314029268179,
          72.09691291856849,
          70.47368900909237,
          74.75008087701177,
          74.8415429467706,
          73.35080384839779,
          73.48628149106662,
          71.70631293165978,
          72.03704600277483,
          72.40557843915342,
          70.53718172823906,
          80.30109111809226,
          71.50354343879457,
          71.28674585381542,
          78.19623830203044,
          77.59846527310125,
          74.15856308414344,
          74.62990365622984,
          70.19630319437094,
          75.86171893365447,
          72.69828638763553,
          76.72115566824014,
          73.14588842174393,
          72.428934550109,
          69.54310782732712,
          74.23622842813997,
          71.6539679424635,
          74.39971569812846,
          79.50651021828729,
          76.98320070511289,
          72.44555825418466,
          75.73625819732204,
          78.77178797092147,
          72.91967340529833,
          75.33289827635527,
          70.81857799364904,
          73.31798384693914,
          68.4744562150175,
          70.6366656406895,
          75.18421750546489,
          76.53218972584833,
          77.88037353403824,
          81.86691982985613,
          76.27149699100988,
          74.69916923730058,
          76.06211937266546,
          73.76829726378847,
          83.11112488972313,
          75.41244397632038,
          73.47803398792351,
          75.47037695532117,
          76.04881402753038,
          71.80921038755585,
          78.21777464638703,
          70.13128572424134,
          75.51948326727916,
          69.60912675792977,
          74.49939494761274,
          71.46248318398632,
          76.10381971970291,
          77.07241697067163,
          78.0121300344392,
          74.56198797648855,
          73.49424371645915,
          70.11217531583772,
          75.84601485237515,
          72.37884974798195,
          73.20325686545428,
          73.53979565891892,
          73.84909170691253,
          77.27977652430803,
          72.95161689097183,
          76.39670694015646,
          70.95545950034646,
          74.12174372292927,
          75.48586411415131,
          75.24606616837679,
          73.65667315602585,
          76.21931200288674,
          75.58849033956746,
          76.07507724385827,
          73.8611168458379,
          74.72359342894427,
          70.37551285952321,
          78.09639450133675,
          75.50849805324063,
          78.09672064295272,
          72.7303524604101,
          80.57306891962025,
          75.78654393769997,
          75.62843211553039,
          73.66839011828772,
          71.47803960802844,
          77.02901960055637,
          74.36463916050083,
          75.27227090677235,
          76.64120960241695,
          76.57390056568364,
          74.6329071515247,
          76.24877161162038,
          73.41246264680129,
          67.80772970790142,
          72.51478154631059,
          75.11098410261174,
          75.46644015170939,
          72.88598840683558,
          77.74040485906865,
          74.73894190528019,
          75.53489507040392,
          74.17594936825346,
          77.52289881590134,
          79.484806432571,
          67.38692657374028,
          73.86330126979037,
          75.44147722896358,
          73.22113555878194,
          78.36424328202956,
          77.24871150204226,
          74.13804871261894,
          74.7618170425231,
          74.85153350179047,
          73.53777475132789,
          78.24450647101324,
          70.68040692408698,
          77.22407025028971,
          73.67738806212672,
          75.35568981572752,
          72.60942743915942,
          74.40444291142575,
          75.52821844575554,
          72.28630516162586,
          79.1855054596909,
          75.19336259160323,
          71.77174156714158,
          71.27558189789967,
          74.59460497312308,
          75.00135172018602,
          76.17062500329712,
          75.2329077869628,
          75.9361385205425,
          77.82638713699512,
          78.70085832115947,
          74.29714520037403,
          72.06426392742789,
          77.3480857823137,
          73.90366486606437,
          75.33639129033979,
          74.6283116340801,
          71.69359951604766,
          70.29778598992468,
          73.64660247823626,
          76.17327657066748,
          72.97282931080481,
          76.41365019616826,
          74.44645733910774,
          75.44602996786837,
          73.93412410991552,
          78.10355403669905,
          72.82739913239917,
          77.57163144612896,
          73.65892692115682,
          74.92347743236677,
          73.78882637765363,
          75.82582665102113,
          72.83802737167304,
          73.98705154519362,
          72.158308335018,
          75.94953529460538,
          77.44005804416761,
          75.33343760421891,
          70.9398928446259,
          76.441684874168,
          73.38315281565175,
          72.1648400755073,
          70.47949348319581,
          76.02075060437402,
          74.15938538654292,
          75.41394531963678,
          74.90036351721251,
          70.40680087636579,
          73.58118588179727,
          79.76554426338389,
          72.37899937961416,
          72.66669525704674,
          73.12476561178367,
          75.12626962538053,
          78.541984045948,
          69.58838167938015,
          75.79371895734336,
          72.64050271153617,
          71.41194455409457,
          72.74682251856413,
          69.86132368546029,
          71.3751928165803,
          72.86933338551171,
          77.24803740534016,
          73.14232296000382,
          78.50724934956513,
          75.287588898777,
          71.7104664141256,
          70.3833432298467,
          74.64349158505209,
          73.89324591225818,
          76.2362943680182,
          76.3787471606083,
          77.05925940362081,
          73.16018671189497,
          74.41672862097566,
          76.82583312381205,
          72.47056892333612,
          73.43565818543087,
          78.79427040757167,
          77.01806674815893,
          71.98581055048072,
          72.4985536480053,
          71.59693812578612,
          70.92910175181272,
          71.70050469282793,
          73.10587878927163,
          72.20199810778108,
          79.50858607930273,
          71.17455568484566,
          76.57286274271277,
          77.92065649831387,
          75.16578827414575,
          74.05684171181178,
          73.48442194356706,
          74.42607453682356,
          81.20706826347197,
          74.94920220696709,
          73.73615234553017,
          78.57238801956737,
          75.69870082084665,
          77.54983440578484,
          77.51763971375969,
          70.57106758434786,
          77.05585164062599,
          80.72613799528162,
          74.56409918743664,
          71.90224421145338,
          74.07655444038458,
          74.4562654807239,
          73.12728140290668,
          76.83812747571032,
          76.65546855353996,
          71.04764512825383,
          68.68217615892891,
          76.29475131329473,
          77.33303377700238,
          76.3400157362896,
          74.20479532582948,
          78.5844517882963,
          79.25641934928268,
          78.10982372894568,
          75.19095622946749,
          74.79580159089811,
          73.80202254648263,
          75.82173334905741,
          80.24670076379098,
          81.00926875588894,
          72.7174056603235,
          73.1600931017046,
          73.00903696508777,
          78.04521278662261,
          73.50853676714988,
          71.19488106381853,
          75.41979751067612,
          78.83156619288165,
          76.6652289946591,
          71.8646379944775,
          77.81083625119382,
          74.63272319971078,
          77.7451625835741,
          77.16532474415199,
          82.71143102361275,
          75.97457910094029,
          75.67532502586214,
          70.78995307048912,
          73.46440882460769,
          79.56604710311852,
          79.08487100737786,
          72.47246279624643,
          76.72144438243468,
          75.18828987605424,
          73.70027111736765,
          72.67189550685569,
          75.36307541038362,
          72.12610175676072,
          73.33123014758317,
          77.33598747258002,
          71.88790717279318,
          71.9217387297994,
          71.5951144778209,
          74.05045983555391,
          74.21126125268422,
          78.79940783672286,
          70.02092106052274,
          73.30338616169396,
          74.51851425252597,
          76.43705855125185,
          73.00925387754282,
          76.87641051702184,
          74.98513585558663,
          75.94816798027223,
          71.98336550014928,
          72.1636579127857,
          77.85462679074945,
          74.66334210634592,
          73.19181606249317,
          74.68707198570544,
          78.83118517329612,
          76.93950532111148,
          74.44892063245236,
          74.12298406161386,
          75.02897181691785,
          78.23200014554683,
          82.19222716901551,
          74.18878921458624,
          72.83870309958817,
          69.63551155718345,
          76.98330460150335,
          79.04753985270146,
          68.69460483617522,
          72.055362196564,
          75.17177195501122,
          74.21491257218143,
          70.93964745493479,
          80.62327806057785,
          71.60341650902178,
          77.297470710328,
          74.73001565206161,
          74.84298642745487,
          77.8422685753405,
          76.44307337496681,
          71.05616110186337,
          74.73662746213964,
          78.63759393966923,
          79.04462361674948,
          74.29861127874422,
          72.7051048478613,
          69.06248786317954,
          74.65452778366779,
          75.41800047923145,
          75.59506684591126,
          81.08011736349106,
          73.2518670800341,
          68.96747168655034,
          78.3801890968118,
          72.3439726946771,
          77.83366397368877,
          75.01596670630832,
          77.25632576460356,
          77.07904290106846,
          76.74402891820407,
          74.15786729153602,
          75.58527373340131,
          74.47685221696226,
          74.90107280569966,
          75.80532270242101,
          80.32350579759277,
          71.53900302558377,
          74.6536280800969,
          80.19277504534419,
          74.27686817539481,
          72.45290836147579,
          75.67050655949734,
          72.7075435863538,
          79.50688614106231,
          78.45149066235042,
          73.88565814889073,
          76.01255909718222,
          76.5778799180766,
          75.33813354672064,
          72.75981893699876,
          75.64295170295009,
          77.45722086692243,
          71.8485792436671,
          71.28281080546964,
          74.56504139774371,
          76.08871358507623,
          75.02186757896142,
          73.18467292816187,
          76.59322012072717,
          70.50313116789566,
          71.7228734281361,
          79.1380233144523,
          71.2782083581047,
          79.59165326479844,
          76.00797329882205,
          69.11411910233821,
          75.18098691713077,
          71.9762194791528,
          76.3133222622032,
          71.01232960468818,
          76.64314844479712,
          75.54828786874619,
          71.70299707498044,
          75.76972266183647,
          68.30139524599801,
          74.88206580963242,
          76.19889438683417,
          76.06067952974362,
          74.84333265715212,
          73.52406094574043,
          75.37250170422301,
          75.38163186241493,
          75.2588835353883,
          72.06681126973021,
          73.85856989112352,
          73.8412314389921,
          78.02481588195334,
          71.19149414374078,
          70.97352345581152,
          74.6294568022363,
          76.5113459725617,
          73.82067324940067,
          72.49651845586772,
          82.21445122707362,
          73.99684379116748,
          74.1811142926465,
          73.3877197743888,
          78.0720235706935,
          72.97975064107206,
          75.50679327504582,
          79.71153190920498,
          76.27365633610835,
          72.33840163558126,
          79.73645785653666,
          74.8818963856781,
          76.69369355437797,
          77.1127810433566,
          73.51529281351682,
          70.4099301849727,
          78.53595550195092,
          75.61298009742174,
          76.9842365891255,
          71.4575931099136,
          75.84159348489779,
          71.77290988176497,
          77.58041418190109,
          70.55144861928096,
          75.02768933835604,
          75.92413965892162,
          77.34779440215762,
          77.48685434047755,
          71.50630641251125,
          74.5549169881799,
          72.81672057615785,
          74.99626401339081,
          77.91130944870719,
          71.74168054132494,
          79.5316069045533,
          73.57777590164811,
          72.89346542173618,
          76.1240029983494,
          74.52849215084923,
          75.56917191829626,
          72.01886253651088,
          70.94503367687827,
          76.17179730757768,
          71.62087879053165,
          76.51763069880238,
          77.73139682814586,
          75.39077258228167,
          78.31880719185249,
          75.84529395963136,
          74.40115350500972,
          77.55054598549368,
          71.44279218739003,
          76.71290016666298,
          74.24019670996842,
          79.29317681393282,
          73.4822310675174,
          79.83956756967004,
          76.01988225413535,
          70.29532178505488,
          73.91471431816802,
          73.5885978894696,
          75.97267927497268,
          80.15599205438114,
          72.6005851941881,
          78.42880955346008,
          73.9092061612437,
          74.94613655978895,
          74.3782549384452,
          74.98156660586334,
          75.99311956682405,
          71.75907423272591,
          74.91104407893766,
          72.56260483583611,
          71.41319514247881,
          72.3703902225251,
          70.63941018245518,
          77.08389071931767,
          77.27530420873109,
          71.63191611146696,
          75.92456853986252,
          70.90674178634355,
          75.29974263086147,
          75.96152338713215,
          72.88739674328578,
          72.95618604633349,
          75.66739361566023,
          78.2768890578431,
          73.82921843235233,
          72.2231083220925,
          74.64304171833919,
          76.67649697912614,
          72.80415325218549,
          77.10134400729436,
          75.68640073377384,
          75.54616134045008,
          82.51180543531032,
          71.81840973705715,
          78.37335847285497,
          80.56427657033001,
          72.81347008618218,
          71.31677089129859,
          74.9474943431817,
          79.49716581150724,
          71.77113886378496,
          77.59156562149059,
          70.54809266804541,
          75.23717812362923,
          75.118228944381,
          70.49264537997696,
          76.11396200959254,
          74.34912775178715,
          74.60187880883787,
          77.97307661999382,
          70.42676682813048,
          77.57814362892847,
          75.61678224714912,
          70.70695448875864,
          81.04236909298126,
          72.09284115818276,
          77.55501609163487,
          77.85342964474103,
          72.67708866238462,
          73.20880671775262,
          75.68374389581889,
          75.78898214455691,
          69.31653105956974,
          74.20615389725893,
          69.8187212637851,
          76.48778236053002,
          70.17390323845783,
          76.38732244201765,
          75.90099101184106,
          71.06510663551857,
          75.27665866213849,
          71.82787540420932,
          76.86306563904053,
          77.04648810710883,
          74.32036811369022,
          76.3250888282241,
          73.68382169358144,
          73.62906492886587,
          78.67379494146026,
          70.59742182334013,
          72.08697082991895,
          69.54165428583036,
          75.48210452627187,
          73.04933799724083,
          73.69141112814913,
          73.88169158465112,
          75.66778402240226,
          71.45937995589166,
          72.92086124075541,
          76.11498177676916,
          79.01974628315618,
          71.65705887656158,
          69.97151920375144,
          77.57907658566862,
          73.93338242817995,
          75.0716428975323,
          74.4886715442226,
          75.7097234426753,
          73.94709487792312,
          74.41453766557079,
          77.80518254815827,
          74.85847556698182,
          75.8590285368021,
          71.1767976306855,
          72.7261826825286,
          77.12599135600217,
          74.64821333728383,
          73.28398921377446,
          76.68692087389078,
          73.70092508545355,
          78.91245465986103,
          73.03302259194366,
          77.65667326434406,
          76.98687178365837,
          79.78222595102325,
          75.55643448207266,
          74.88993528000738,
          73.71244802425734,
          77.85041159638878,
          74.49191950900331,
          72.59868541878956,
          72.37712755060805,
          78.03401258098258,
          77.50565264963744,
          75.43377406706632,
          77.59368420824697,
          74.73359389716524,
          72.36677900059406,
          70.71732693494927,
          73.99740391509589,
          75.62832528938368,
          77.26366641903027,
          76.20709296800653,
          72.21471824173743,
          71.75119406758573,
          72.5477875809035,
          72.41241685313977,
          74.41105848839675,
          76.75070026198044,
          75.27139176505686,
          70.60888850713796,
          71.04991627476734,
          69.82357113452107,
          73.22619216076572,
          79.11950782609077,
          78.07736064745231,
          73.33183665555867,
          76.36207385506353,
          73.80348157384181,
          76.23506504523958,
          73.6394873053848,
          75.36340668162946,
          73.26173295824105,
          73.99213891241526,
          69.22461572458778,
          79.01574580514574,
          76.94770142220186,
          75.44865435112314,
          74.01437655032649,
          78.39024933387046,
          72.30932837785848,
          78.01805523281703,
          76.73566539676895,
          75.65887246910138,
          76.67656310103203,
          78.88835130215031,
          69.97539216053369,
          76.25650628197845,
          74.030492580791,
          74.19087313445569,
          78.1421201953041,
          73.70543007040366,
          72.47834763837326,
          79.39512635195776,
          73.82560955073859,
          72.34783722654298,
          73.82522937894075,
          74.24835909414016,
          73.59975371640299,
          73.31610695684068,
          76.34892852542144,
          76.1712876757262,
          76.69831351196717,
          75.20824019990087,
          72.67438420781887,
          71.55022938931145,
          75.80241319236994,
          77.58229240936014,
          74.2171959581247,
          74.51698779774641,
          68.07679820448574,
          68.82961217371789,
          80.29617402327499,
          74.20430732855029,
          71.78285041073313,
          69.99323065494485,
          77.94753325144866,
          76.34771553807435,
          76.58457196238174,
          73.40081544583359,
          74.82129185560127,
          73.83606224902591,
          76.07994261392523,
          71.45814659965052,
          71.41783261095043,
          71.43534707898691,
          75.67298459884245,
          74.23860456459622,
          74.20256668993824,
          74.97801071413124,
          70.96914853546794,
          72.12553917287273,
          74.21425431212755,
          72.62124933266817,
          73.12167388769541,
          74.16023863298233,
          71.06934107373858,
          76.35671049442313,
          76.72850821862997,
          75.54811873918707,
          78.56570527122673,
          74.71048758761613,
          75.37391055428277,
          72.07563271480656,
          74.98647153458629,
          73.20570433208778,
          70.00601950362739,
          74.28873471038197,
          73.33441796444009,
          75.34253002216037,
          76.32919214935394,
          73.17675868215018,
          74.10982127637708,
          77.54617994057,
          72.57123447090625,
          74.42571350476696,
          72.49227698969459,
          72.84569595802641,
          72.90470900155911,
          74.12242116860803,
          73.98184878056561,
          72.68705102446589,
          75.04011501239508,
          76.86998193639995,
          76.4870647178798,
          78.94446475846357,
          75.97553995918555,
          76.49723931304665,
          75.97350943392715,
          77.9987310055296,
          74.87819248078269,
          80.38266954174588,
          73.52418485754085,
          74.6994752670715,
          72.93436676529458,
          73.71748315243464,
          77.10232337188177,
          73.50133722315242,
          77.30288451799781,
          68.5190107483143,
          73.07950883472253,
          73.23016148615712,
          77.74309603447384,
          78.39742413936276,
          75.46610372178301,
          71.22369054536672,
          68.8218639846388,
          76.08430098169634,
          73.38227445877621,
          71.01861741685985,
          70.39581734454978,
          72.35833038740887,
          76.31427051774898,
          74.13323639906658,
          76.99729804244835,
          76.7928548394012,
          76.10855294848184,
          74.56641262729366,
          73.88212279840718,
          70.05130207705699,
          77.76280710351097,
          79.02056501389458,
          69.67164893014078,
          71.35937774500626,
          77.12642573895732,
          70.64233854175964,
          71.05360336828706,
          80.19544752769417,
          76.82894680590537,
          77.83854985444168,
          73.25523469014915,
          80.19922088305643,
          73.32631837272424,
          74.44311734137737,
          73.10625837218544,
          75.52016385852512,
          77.32328029093779,
          77.18598354749724,
          74.05343838391994,
          81.1427748677776,
          74.61813582787043,
          74.9335520693995,
          71.52157125698614,
          78.41931214436289,
          79.48308385979544,
          80.84340173853711,
          73.55891194877537,
          73.51977830493624,
          72.5588300011853,
          69.68581722037803,
          73.1092102056616,
          73.07682413364766,
          73.59438786700625,
          77.49172050186844,
          78.05999652140659,
          78.4257243644473,
          72.8283999618712,
          73.69967384141286,
          77.45941267218365,
          77.7441309324657,
          81.97088080851846,
          75.05171662683671,
          74.61259947914141,
          78.27123239524218,
          76.7648324798484,
          75.46389960408088,
          78.06129906610175,
          71.0578342037717,
          73.37232351276484,
          73.7188857762461,
          72.52246101670389,
          73.13934520470659,
          72.47452254562987,
          75.56339852821101,
          76.09424494156534,
          70.25337806275448,
          80.6444431773905,
          71.3314169600762,
          76.93939413822119,
          66.61007153780568,
          73.28716498578225,
          71.1643896757562,
          79.8945484728696,
          72.84550025460157,
          70.92347957512087,
          76.36532565040122,
          76.75908858626778,
          73.2751595724024,
          75.51713828548753,
          72.11898193434354,
          75.59863479435052,
          74.73363179868922,
          78.0349501353502,
          75.30106406550094,
          71.29872200963624,
          75.57848762389595,
          75.48533878058416,
          72.80903570522779,
          75.61601503309768,
          74.38751668394228,
          74.7839759104356,
          74.30672100819321,
          74.73377891599678,
          78.54546974287474,
          72.62469400753803,
          74.1327547739761,
          74.21661357300881,
          76.96004124115011,
          71.49058183925185,
          74.50770163907667,
          74.28913818122064,
          72.88791288875551,
          79.27225756598303,
          75.13296055224868,
          72.3737957269433,
          73.9396490240843,
          74.39880184018456,
          78.17042017358722,
          77.76426016760466
         ]
        }
       ],
       "layout": {
        "template": {
         "data": {
          "bar": [
           {
            "error_x": {
             "color": "#2a3f5f"
            },
            "error_y": {
             "color": "#2a3f5f"
            },
            "marker": {
             "line": {
              "color": "#E5ECF6",
              "width": 0.5
             },
             "pattern": {
              "fillmode": "overlay",
              "size": 10,
              "solidity": 0.2
             }
            },
            "type": "bar"
           }
          ],
          "barpolar": [
           {
            "marker": {
             "line": {
              "color": "#E5ECF6",
              "width": 0.5
             },
             "pattern": {
              "fillmode": "overlay",
              "size": 10,
              "solidity": 0.2
             }
            },
            "type": "barpolar"
           }
          ],
          "carpet": [
           {
            "aaxis": {
             "endlinecolor": "#2a3f5f",
             "gridcolor": "white",
             "linecolor": "white",
             "minorgridcolor": "white",
             "startlinecolor": "#2a3f5f"
            },
            "baxis": {
             "endlinecolor": "#2a3f5f",
             "gridcolor": "white",
             "linecolor": "white",
             "minorgridcolor": "white",
             "startlinecolor": "#2a3f5f"
            },
            "type": "carpet"
           }
          ],
          "choropleth": [
           {
            "colorbar": {
             "outlinewidth": 0,
             "ticks": ""
            },
            "type": "choropleth"
           }
          ],
          "contour": [
           {
            "colorbar": {
             "outlinewidth": 0,
             "ticks": ""
            },
            "colorscale": [
             [
              0,
              "#0d0887"
             ],
             [
              0.1111111111111111,
              "#46039f"
             ],
             [
              0.2222222222222222,
              "#7201a8"
             ],
             [
              0.3333333333333333,
              "#9c179e"
             ],
             [
              0.4444444444444444,
              "#bd3786"
             ],
             [
              0.5555555555555556,
              "#d8576b"
             ],
             [
              0.6666666666666666,
              "#ed7953"
             ],
             [
              0.7777777777777778,
              "#fb9f3a"
             ],
             [
              0.8888888888888888,
              "#fdca26"
             ],
             [
              1,
              "#f0f921"
             ]
            ],
            "type": "contour"
           }
          ],
          "contourcarpet": [
           {
            "colorbar": {
             "outlinewidth": 0,
             "ticks": ""
            },
            "type": "contourcarpet"
           }
          ],
          "heatmap": [
           {
            "colorbar": {
             "outlinewidth": 0,
             "ticks": ""
            },
            "colorscale": [
             [
              0,
              "#0d0887"
             ],
             [
              0.1111111111111111,
              "#46039f"
             ],
             [
              0.2222222222222222,
              "#7201a8"
             ],
             [
              0.3333333333333333,
              "#9c179e"
             ],
             [
              0.4444444444444444,
              "#bd3786"
             ],
             [
              0.5555555555555556,
              "#d8576b"
             ],
             [
              0.6666666666666666,
              "#ed7953"
             ],
             [
              0.7777777777777778,
              "#fb9f3a"
             ],
             [
              0.8888888888888888,
              "#fdca26"
             ],
             [
              1,
              "#f0f921"
             ]
            ],
            "type": "heatmap"
           }
          ],
          "histogram": [
           {
            "marker": {
             "pattern": {
              "fillmode": "overlay",
              "size": 10,
              "solidity": 0.2
             }
            },
            "type": "histogram"
           }
          ],
          "histogram2d": [
           {
            "colorbar": {
             "outlinewidth": 0,
             "ticks": ""
            },
            "colorscale": [
             [
              0,
              "#0d0887"
             ],
             [
              0.1111111111111111,
              "#46039f"
             ],
             [
              0.2222222222222222,
              "#7201a8"
             ],
             [
              0.3333333333333333,
              "#9c179e"
             ],
             [
              0.4444444444444444,
              "#bd3786"
             ],
             [
              0.5555555555555556,
              "#d8576b"
             ],
             [
              0.6666666666666666,
              "#ed7953"
             ],
             [
              0.7777777777777778,
              "#fb9f3a"
             ],
             [
              0.8888888888888888,
              "#fdca26"
             ],
             [
              1,
              "#f0f921"
             ]
            ],
            "type": "histogram2d"
           }
          ],
          "histogram2dcontour": [
           {
            "colorbar": {
             "outlinewidth": 0,
             "ticks": ""
            },
            "colorscale": [
             [
              0,
              "#0d0887"
             ],
             [
              0.1111111111111111,
              "#46039f"
             ],
             [
              0.2222222222222222,
              "#7201a8"
             ],
             [
              0.3333333333333333,
              "#9c179e"
             ],
             [
              0.4444444444444444,
              "#bd3786"
             ],
             [
              0.5555555555555556,
              "#d8576b"
             ],
             [
              0.6666666666666666,
              "#ed7953"
             ],
             [
              0.7777777777777778,
              "#fb9f3a"
             ],
             [
              0.8888888888888888,
              "#fdca26"
             ],
             [
              1,
              "#f0f921"
             ]
            ],
            "type": "histogram2dcontour"
           }
          ],
          "mesh3d": [
           {
            "colorbar": {
             "outlinewidth": 0,
             "ticks": ""
            },
            "type": "mesh3d"
           }
          ],
          "parcoords": [
           {
            "line": {
             "colorbar": {
              "outlinewidth": 0,
              "ticks": ""
             }
            },
            "type": "parcoords"
           }
          ],
          "pie": [
           {
            "automargin": true,
            "type": "pie"
           }
          ],
          "scatter": [
           {
            "fillpattern": {
             "fillmode": "overlay",
             "size": 10,
             "solidity": 0.2
            },
            "type": "scatter"
           }
          ],
          "scatter3d": [
           {
            "line": {
             "colorbar": {
              "outlinewidth": 0,
              "ticks": ""
             }
            },
            "marker": {
             "colorbar": {
              "outlinewidth": 0,
              "ticks": ""
             }
            },
            "type": "scatter3d"
           }
          ],
          "scattercarpet": [
           {
            "marker": {
             "colorbar": {
              "outlinewidth": 0,
              "ticks": ""
             }
            },
            "type": "scattercarpet"
           }
          ],
          "scattergeo": [
           {
            "marker": {
             "colorbar": {
              "outlinewidth": 0,
              "ticks": ""
             }
            },
            "type": "scattergeo"
           }
          ],
          "scattergl": [
           {
            "marker": {
             "colorbar": {
              "outlinewidth": 0,
              "ticks": ""
             }
            },
            "type": "scattergl"
           }
          ],
          "scattermap": [
           {
            "marker": {
             "colorbar": {
              "outlinewidth": 0,
              "ticks": ""
             }
            },
            "type": "scattermap"
           }
          ],
          "scattermapbox": [
           {
            "marker": {
             "colorbar": {
              "outlinewidth": 0,
              "ticks": ""
             }
            },
            "type": "scattermapbox"
           }
          ],
          "scatterpolar": [
           {
            "marker": {
             "colorbar": {
              "outlinewidth": 0,
              "ticks": ""
             }
            },
            "type": "scatterpolar"
           }
          ],
          "scatterpolargl": [
           {
            "marker": {
             "colorbar": {
              "outlinewidth": 0,
              "ticks": ""
             }
            },
            "type": "scatterpolargl"
           }
          ],
          "scatterternary": [
           {
            "marker": {
             "colorbar": {
              "outlinewidth": 0,
              "ticks": ""
             }
            },
            "type": "scatterternary"
           }
          ],
          "surface": [
           {
            "colorbar": {
             "outlinewidth": 0,
             "ticks": ""
            },
            "colorscale": [
             [
              0,
              "#0d0887"
             ],
             [
              0.1111111111111111,
              "#46039f"
             ],
             [
              0.2222222222222222,
              "#7201a8"
             ],
             [
              0.3333333333333333,
              "#9c179e"
             ],
             [
              0.4444444444444444,
              "#bd3786"
             ],
             [
              0.5555555555555556,
              "#d8576b"
             ],
             [
              0.6666666666666666,
              "#ed7953"
             ],
             [
              0.7777777777777778,
              "#fb9f3a"
             ],
             [
              0.8888888888888888,
              "#fdca26"
             ],
             [
              1,
              "#f0f921"
             ]
            ],
            "type": "surface"
           }
          ],
          "table": [
           {
            "cells": {
             "fill": {
              "color": "#EBF0F8"
             },
             "line": {
              "color": "white"
             }
            },
            "header": {
             "fill": {
              "color": "#C8D4E3"
             },
             "line": {
              "color": "white"
             }
            },
            "type": "table"
           }
          ]
         },
         "layout": {
          "annotationdefaults": {
           "arrowcolor": "#2a3f5f",
           "arrowhead": 0,
           "arrowwidth": 1
          },
          "autotypenumbers": "strict",
          "coloraxis": {
           "colorbar": {
            "outlinewidth": 0,
            "ticks": ""
           }
          },
          "colorscale": {
           "diverging": [
            [
             0,
             "#8e0152"
            ],
            [
             0.1,
             "#c51b7d"
            ],
            [
             0.2,
             "#de77ae"
            ],
            [
             0.3,
             "#f1b6da"
            ],
            [
             0.4,
             "#fde0ef"
            ],
            [
             0.5,
             "#f7f7f7"
            ],
            [
             0.6,
             "#e6f5d0"
            ],
            [
             0.7,
             "#b8e186"
            ],
            [
             0.8,
             "#7fbc41"
            ],
            [
             0.9,
             "#4d9221"
            ],
            [
             1,
             "#276419"
            ]
           ],
           "sequential": [
            [
             0,
             "#0d0887"
            ],
            [
             0.1111111111111111,
             "#46039f"
            ],
            [
             0.2222222222222222,
             "#7201a8"
            ],
            [
             0.3333333333333333,
             "#9c179e"
            ],
            [
             0.4444444444444444,
             "#bd3786"
            ],
            [
             0.5555555555555556,
             "#d8576b"
            ],
            [
             0.6666666666666666,
             "#ed7953"
            ],
            [
             0.7777777777777778,
             "#fb9f3a"
            ],
            [
             0.8888888888888888,
             "#fdca26"
            ],
            [
             1,
             "#f0f921"
            ]
           ],
           "sequentialminus": [
            [
             0,
             "#0d0887"
            ],
            [
             0.1111111111111111,
             "#46039f"
            ],
            [
             0.2222222222222222,
             "#7201a8"
            ],
            [
             0.3333333333333333,
             "#9c179e"
            ],
            [
             0.4444444444444444,
             "#bd3786"
            ],
            [
             0.5555555555555556,
             "#d8576b"
            ],
            [
             0.6666666666666666,
             "#ed7953"
            ],
            [
             0.7777777777777778,
             "#fb9f3a"
            ],
            [
             0.8888888888888888,
             "#fdca26"
            ],
            [
             1,
             "#f0f921"
            ]
           ]
          },
          "colorway": [
           "#636efa",
           "#EF553B",
           "#00cc96",
           "#ab63fa",
           "#FFA15A",
           "#19d3f3",
           "#FF6692",
           "#B6E880",
           "#FF97FF",
           "#FECB52"
          ],
          "font": {
           "color": "#2a3f5f"
          },
          "geo": {
           "bgcolor": "white",
           "lakecolor": "white",
           "landcolor": "#E5ECF6",
           "showlakes": true,
           "showland": true,
           "subunitcolor": "white"
          },
          "hoverlabel": {
           "align": "left"
          },
          "hovermode": "closest",
          "mapbox": {
           "style": "light"
          },
          "paper_bgcolor": "white",
          "plot_bgcolor": "#E5ECF6",
          "polar": {
           "angularaxis": {
            "gridcolor": "white",
            "linecolor": "white",
            "ticks": ""
           },
           "bgcolor": "#E5ECF6",
           "radialaxis": {
            "gridcolor": "white",
            "linecolor": "white",
            "ticks": ""
           }
          },
          "scene": {
           "xaxis": {
            "backgroundcolor": "#E5ECF6",
            "gridcolor": "white",
            "gridwidth": 2,
            "linecolor": "white",
            "showbackground": true,
            "ticks": "",
            "zerolinecolor": "white"
           },
           "yaxis": {
            "backgroundcolor": "#E5ECF6",
            "gridcolor": "white",
            "gridwidth": 2,
            "linecolor": "white",
            "showbackground": true,
            "ticks": "",
            "zerolinecolor": "white"
           },
           "zaxis": {
            "backgroundcolor": "#E5ECF6",
            "gridcolor": "white",
            "gridwidth": 2,
            "linecolor": "white",
            "showbackground": true,
            "ticks": "",
            "zerolinecolor": "white"
           }
          },
          "shapedefaults": {
           "line": {
            "color": "#2a3f5f"
           }
          },
          "ternary": {
           "aaxis": {
            "gridcolor": "white",
            "linecolor": "white",
            "ticks": ""
           },
           "baxis": {
            "gridcolor": "white",
            "linecolor": "white",
            "ticks": ""
           },
           "bgcolor": "#E5ECF6",
           "caxis": {
            "gridcolor": "white",
            "linecolor": "white",
            "ticks": ""
           }
          },
          "title": {
           "x": 0.05
          },
          "xaxis": {
           "automargin": true,
           "gridcolor": "white",
           "linecolor": "white",
           "ticks": "",
           "title": {
            "standoff": 15
           },
           "zerolinecolor": "white",
           "zerolinewidth": 2
          },
          "yaxis": {
           "automargin": true,
           "gridcolor": "white",
           "linecolor": "white",
           "ticks": "",
           "title": {
            "standoff": 15
           },
           "zerolinecolor": "white",
           "zerolinewidth": 2
          }
         }
        },
        "title": {
         "text": "Histogram of sample means"
        },
        "width": 700,
        "xaxis": {
         "title": {
          "text": "Sample means"
         }
        },
        "yaxis": {
         "title": {
          "text": "Probability"
         }
        }
       }
      },
      "text/html": [
       "<div>                        <script type=\"text/javascript\">window.PlotlyConfig = {MathJaxConfig: 'local'};</script>\n",
       "        <script charset=\"utf-8\" src=\"https://cdn.plot.ly/plotly-3.0.1.min.js\"></script>                <div id=\"f375eab6-8852-4ba1-ab64-c8e840080ce0\" class=\"plotly-graph-div\" style=\"height:100%; width:700px;\"></div>            <script type=\"text/javascript\">                window.PLOTLYENV=window.PLOTLYENV || {};                                if (document.getElementById(\"f375eab6-8852-4ba1-ab64-c8e840080ce0\")) {                    Plotly.newPlot(                        \"f375eab6-8852-4ba1-ab64-c8e840080ce0\",                        [{\"histnorm\":\"probability\",\"x\":[69.84345662130204,72.60187738769199,76.59827929734878,73.96990321477178,74.89791072520772,70.00209023364627,75.46749756442831,73.98692257083778,76.60364774543952,77.04941540845012,70.7944778031303,77.53817567829591,77.35659224788218,77.17232771627268,72.58279050806787,75.3222920532692,72.1847550531239,73.33894561670475,75.90438324019603,71.40538146964633,76.63489818791163,75.89079971425333,71.49069911650137,74.01007010113294,77.21921670645513,80.98175209863912,74.8601398783346,79.746069860667,78.16108310677632,77.05409025180536,76.9418676436257,71.65587205973392,77.096470171809,73.99967185688027,71.5626692185752,74.45490499154235,75.5416927031429,75.40751017507937,73.77461418672631,76.90801865120703,70.23142292087506,79.45783136197248,70.5868836436783,75.51655619101203,78.02300221344753,76.24412170976122,77.61920052115332,78.41449979064728,73.35469280327861,75.01611510061278,68.74682268000691,78.59855041186309,76.41131947776832,78.15811437114466,75.18130517797569,76.37480021230706,71.11840879443307,73.18429028793877,70.55407637560272,71.99910252078121,73.10684596475784,72.81188980349152,74.85278332107934,77.05704557821802,74.11367891444279,69.39300045479384,68.25964939590261,76.13151375845865,76.23949755604067,77.01705148967412,73.81191343889414,76.76087417715495,77.30329315850182,76.92819198377919,74.65636829161222,75.07784722521895,77.85246027538237,76.42564297045742,78.64744374868269,73.73142834394747,77.02847924724033,78.9800247222008,73.7802111967388,70.99174309204493,72.29690456347659,80.28681596822955,73.30263913464134,75.23477066716757,68.23933669709787,75.39378779192052,76.48577375119929,75.12035858543071,73.66158167808474,81.53336718904492,78.12482301825746,78.38312537291007,70.6819902161066,74.44930367121856,75.55248221996703,76.19071076826371,69.07971330534187,71.77438885853098,72.89938993759831,75.82779239168265,76.4797275963658,68.73719058161257,74.49812961866273,73.66877372774452,76.92957316997182,71.64390465488226,78.23287081804538,75.45839144356833,81.07776286727395,71.17302421976866,73.87472025781172,75.12353950451445,77.64695511585846,73.94505666440902,74.73276831277235,76.10620309214511,69.27905448427856,77.84287194595682,74.05017732373034,74.83134907092813,77.2810062580993,75.88353027813561,80.23329936093862,76.17259144431286,73.09954501891511,72.03744702092035,78.64218383628591,74.12374073700686,77.51859831447157,75.72028999295438,72.82701172239787,73.3152928460262,77.85698979852786,75.41117741079242,75.24353167696862,74.20583444886799,74.04890222210135,75.2314029268179,72.09691291856849,70.47368900909237,74.75008087701177,74.8415429467706,73.35080384839779,73.48628149106662,71.70631293165978,72.03704600277483,72.40557843915342,70.53718172823906,80.30109111809226,71.50354343879457,71.28674585381542,78.19623830203044,77.59846527310125,74.15856308414344,74.62990365622984,70.19630319437094,75.86171893365447,72.69828638763553,76.72115566824014,73.14588842174393,72.428934550109,69.54310782732712,74.23622842813997,71.6539679424635,74.39971569812846,79.50651021828729,76.98320070511289,72.44555825418466,75.73625819732204,78.77178797092147,72.91967340529833,75.33289827635527,70.81857799364904,73.31798384693914,68.4744562150175,70.6366656406895,75.18421750546489,76.53218972584833,77.88037353403824,81.86691982985613,76.27149699100988,74.69916923730058,76.06211937266546,73.76829726378847,83.11112488972313,75.41244397632038,73.47803398792351,75.47037695532117,76.04881402753038,71.80921038755585,78.21777464638703,70.13128572424134,75.51948326727916,69.60912675792977,74.49939494761274,71.46248318398632,76.10381971970291,77.07241697067163,78.0121300344392,74.56198797648855,73.49424371645915,70.11217531583772,75.84601485237515,72.37884974798195,73.20325686545428,73.53979565891892,73.84909170691253,77.27977652430803,72.95161689097183,76.39670694015646,70.95545950034646,74.12174372292927,75.48586411415131,75.24606616837679,73.65667315602585,76.21931200288674,75.58849033956746,76.07507724385827,73.8611168458379,74.72359342894427,70.37551285952321,78.09639450133675,75.50849805324063,78.09672064295272,72.7303524604101,80.57306891962025,75.78654393769997,75.62843211553039,73.66839011828772,71.47803960802844,77.02901960055637,74.36463916050083,75.27227090677235,76.64120960241695,76.57390056568364,74.6329071515247,76.24877161162038,73.41246264680129,67.80772970790142,72.51478154631059,75.11098410261174,75.46644015170939,72.88598840683558,77.74040485906865,74.73894190528019,75.53489507040392,74.17594936825346,77.52289881590134,79.484806432571,67.38692657374028,73.86330126979037,75.44147722896358,73.22113555878194,78.36424328202956,77.24871150204226,74.13804871261894,74.7618170425231,74.85153350179047,73.53777475132789,78.24450647101324,70.68040692408698,77.22407025028971,73.67738806212672,75.35568981572752,72.60942743915942,74.40444291142575,75.52821844575554,72.28630516162586,79.1855054596909,75.19336259160323,71.77174156714158,71.27558189789967,74.59460497312308,75.00135172018602,76.17062500329712,75.2329077869628,75.9361385205425,77.82638713699512,78.70085832115947,74.29714520037403,72.06426392742789,77.3480857823137,73.90366486606437,75.33639129033979,74.6283116340801,71.69359951604766,70.29778598992468,73.64660247823626,76.17327657066748,72.97282931080481,76.41365019616826,74.44645733910774,75.44602996786837,73.93412410991552,78.10355403669905,72.82739913239917,77.57163144612896,73.65892692115682,74.92347743236677,73.78882637765363,75.82582665102113,72.83802737167304,73.98705154519362,72.158308335018,75.94953529460538,77.44005804416761,75.33343760421891,70.9398928446259,76.441684874168,73.38315281565175,72.1648400755073,70.47949348319581,76.02075060437402,74.15938538654292,75.41394531963678,74.90036351721251,70.40680087636579,73.58118588179727,79.76554426338389,72.37899937961416,72.66669525704674,73.12476561178367,75.12626962538053,78.541984045948,69.58838167938015,75.79371895734336,72.64050271153617,71.41194455409457,72.74682251856413,69.86132368546029,71.3751928165803,72.86933338551171,77.24803740534016,73.14232296000382,78.50724934956513,75.287588898777,71.7104664141256,70.3833432298467,74.64349158505209,73.89324591225818,76.2362943680182,76.3787471606083,77.05925940362081,73.16018671189497,74.41672862097566,76.82583312381205,72.47056892333612,73.43565818543087,78.79427040757167,77.01806674815893,71.98581055048072,72.4985536480053,71.59693812578612,70.92910175181272,71.70050469282793,73.10587878927163,72.20199810778108,79.50858607930273,71.17455568484566,76.57286274271277,77.92065649831387,75.16578827414575,74.05684171181178,73.48442194356706,74.42607453682356,81.20706826347197,74.94920220696709,73.73615234553017,78.57238801956737,75.69870082084665,77.54983440578484,77.51763971375969,70.57106758434786,77.05585164062599,80.72613799528162,74.56409918743664,71.90224421145338,74.07655444038458,74.4562654807239,73.12728140290668,76.83812747571032,76.65546855353996,71.04764512825383,68.68217615892891,76.29475131329473,77.33303377700238,76.3400157362896,74.20479532582948,78.5844517882963,79.25641934928268,78.10982372894568,75.19095622946749,74.79580159089811,73.80202254648263,75.82173334905741,80.24670076379098,81.00926875588894,72.7174056603235,73.1600931017046,73.00903696508777,78.04521278662261,73.50853676714988,71.19488106381853,75.41979751067612,78.83156619288165,76.6652289946591,71.8646379944775,77.81083625119382,74.63272319971078,77.7451625835741,77.16532474415199,82.71143102361275,75.97457910094029,75.67532502586214,70.78995307048912,73.46440882460769,79.56604710311852,79.08487100737786,72.47246279624643,76.72144438243468,75.18828987605424,73.70027111736765,72.67189550685569,75.36307541038362,72.12610175676072,73.33123014758317,77.33598747258002,71.88790717279318,71.9217387297994,71.5951144778209,74.05045983555391,74.21126125268422,78.79940783672286,70.02092106052274,73.30338616169396,74.51851425252597,76.43705855125185,73.00925387754282,76.87641051702184,74.98513585558663,75.94816798027223,71.98336550014928,72.1636579127857,77.85462679074945,74.66334210634592,73.19181606249317,74.68707198570544,78.83118517329612,76.93950532111148,74.44892063245236,74.12298406161386,75.02897181691785,78.23200014554683,82.19222716901551,74.18878921458624,72.83870309958817,69.63551155718345,76.98330460150335,79.04753985270146,68.69460483617522,72.055362196564,75.17177195501122,74.21491257218143,70.93964745493479,80.62327806057785,71.60341650902178,77.297470710328,74.73001565206161,74.84298642745487,77.8422685753405,76.44307337496681,71.05616110186337,74.73662746213964,78.63759393966923,79.04462361674948,74.29861127874422,72.7051048478613,69.06248786317954,74.65452778366779,75.41800047923145,75.59506684591126,81.08011736349106,73.2518670800341,68.96747168655034,78.3801890968118,72.3439726946771,77.83366397368877,75.01596670630832,77.25632576460356,77.07904290106846,76.74402891820407,74.15786729153602,75.58527373340131,74.47685221696226,74.90107280569966,75.80532270242101,80.32350579759277,71.53900302558377,74.6536280800969,80.19277504534419,74.27686817539481,72.45290836147579,75.67050655949734,72.7075435863538,79.50688614106231,78.45149066235042,73.88565814889073,76.01255909718222,76.5778799180766,75.33813354672064,72.75981893699876,75.64295170295009,77.45722086692243,71.8485792436671,71.28281080546964,74.56504139774371,76.08871358507623,75.02186757896142,73.18467292816187,76.59322012072717,70.50313116789566,71.7228734281361,79.1380233144523,71.2782083581047,79.59165326479844,76.00797329882205,69.11411910233821,75.18098691713077,71.9762194791528,76.3133222622032,71.01232960468818,76.64314844479712,75.54828786874619,71.70299707498044,75.76972266183647,68.30139524599801,74.88206580963242,76.19889438683417,76.06067952974362,74.84333265715212,73.52406094574043,75.37250170422301,75.38163186241493,75.2588835353883,72.06681126973021,73.85856989112352,73.8412314389921,78.02481588195334,71.19149414374078,70.97352345581152,74.6294568022363,76.5113459725617,73.82067324940067,72.49651845586772,82.21445122707362,73.99684379116748,74.1811142926465,73.3877197743888,78.0720235706935,72.97975064107206,75.50679327504582,79.71153190920498,76.27365633610835,72.33840163558126,79.73645785653666,74.8818963856781,76.69369355437797,77.1127810433566,73.51529281351682,70.4099301849727,78.53595550195092,75.61298009742174,76.9842365891255,71.4575931099136,75.84159348489779,71.77290988176497,77.58041418190109,70.55144861928096,75.02768933835604,75.92413965892162,77.34779440215762,77.48685434047755,71.50630641251125,74.5549169881799,72.81672057615785,74.99626401339081,77.91130944870719,71.74168054132494,79.5316069045533,73.57777590164811,72.89346542173618,76.1240029983494,74.52849215084923,75.56917191829626,72.01886253651088,70.94503367687827,76.17179730757768,71.62087879053165,76.51763069880238,77.73139682814586,75.39077258228167,78.31880719185249,75.84529395963136,74.40115350500972,77.55054598549368,71.44279218739003,76.71290016666298,74.24019670996842,79.29317681393282,73.4822310675174,79.83956756967004,76.01988225413535,70.29532178505488,73.91471431816802,73.5885978894696,75.97267927497268,80.15599205438114,72.6005851941881,78.42880955346008,73.9092061612437,74.94613655978895,74.3782549384452,74.98156660586334,75.99311956682405,71.75907423272591,74.91104407893766,72.56260483583611,71.41319514247881,72.3703902225251,70.63941018245518,77.08389071931767,77.27530420873109,71.63191611146696,75.92456853986252,70.90674178634355,75.29974263086147,75.96152338713215,72.88739674328578,72.95618604633349,75.66739361566023,78.2768890578431,73.82921843235233,72.2231083220925,74.64304171833919,76.67649697912614,72.80415325218549,77.10134400729436,75.68640073377384,75.54616134045008,82.51180543531032,71.81840973705715,78.37335847285497,80.56427657033001,72.81347008618218,71.31677089129859,74.9474943431817,79.49716581150724,71.77113886378496,77.59156562149059,70.54809266804541,75.23717812362923,75.118228944381,70.49264537997696,76.11396200959254,74.34912775178715,74.60187880883787,77.97307661999382,70.42676682813048,77.57814362892847,75.61678224714912,70.70695448875864,81.04236909298126,72.09284115818276,77.55501609163487,77.85342964474103,72.67708866238462,73.20880671775262,75.68374389581889,75.78898214455691,69.31653105956974,74.20615389725893,69.8187212637851,76.48778236053002,70.17390323845783,76.38732244201765,75.90099101184106,71.06510663551857,75.27665866213849,71.82787540420932,76.86306563904053,77.04648810710883,74.32036811369022,76.3250888282241,73.68382169358144,73.62906492886587,78.67379494146026,70.59742182334013,72.08697082991895,69.54165428583036,75.48210452627187,73.04933799724083,73.69141112814913,73.88169158465112,75.66778402240226,71.45937995589166,72.92086124075541,76.11498177676916,79.01974628315618,71.65705887656158,69.97151920375144,77.57907658566862,73.93338242817995,75.0716428975323,74.4886715442226,75.7097234426753,73.94709487792312,74.41453766557079,77.80518254815827,74.85847556698182,75.8590285368021,71.1767976306855,72.7261826825286,77.12599135600217,74.64821333728383,73.28398921377446,76.68692087389078,73.70092508545355,78.91245465986103,73.03302259194366,77.65667326434406,76.98687178365837,79.78222595102325,75.55643448207266,74.88993528000738,73.71244802425734,77.85041159638878,74.49191950900331,72.59868541878956,72.37712755060805,78.03401258098258,77.50565264963744,75.43377406706632,77.59368420824697,74.73359389716524,72.36677900059406,70.71732693494927,73.99740391509589,75.62832528938368,77.26366641903027,76.20709296800653,72.21471824173743,71.75119406758573,72.5477875809035,72.41241685313977,74.41105848839675,76.75070026198044,75.27139176505686,70.60888850713796,71.04991627476734,69.82357113452107,73.22619216076572,79.11950782609077,78.07736064745231,73.33183665555867,76.36207385506353,73.80348157384181,76.23506504523958,73.6394873053848,75.36340668162946,73.26173295824105,73.99213891241526,69.22461572458778,79.01574580514574,76.94770142220186,75.44865435112314,74.01437655032649,78.39024933387046,72.30932837785848,78.01805523281703,76.73566539676895,75.65887246910138,76.67656310103203,78.88835130215031,69.97539216053369,76.25650628197845,74.030492580791,74.19087313445569,78.1421201953041,73.70543007040366,72.47834763837326,79.39512635195776,73.82560955073859,72.34783722654298,73.82522937894075,74.24835909414016,73.59975371640299,73.31610695684068,76.34892852542144,76.1712876757262,76.69831351196717,75.20824019990087,72.67438420781887,71.55022938931145,75.80241319236994,77.58229240936014,74.2171959581247,74.51698779774641,68.07679820448574,68.82961217371789,80.29617402327499,74.20430732855029,71.78285041073313,69.99323065494485,77.94753325144866,76.34771553807435,76.58457196238174,73.40081544583359,74.82129185560127,73.83606224902591,76.07994261392523,71.45814659965052,71.41783261095043,71.43534707898691,75.67298459884245,74.23860456459622,74.20256668993824,74.97801071413124,70.96914853546794,72.12553917287273,74.21425431212755,72.62124933266817,73.12167388769541,74.16023863298233,71.06934107373858,76.35671049442313,76.72850821862997,75.54811873918707,78.56570527122673,74.71048758761613,75.37391055428277,72.07563271480656,74.98647153458629,73.20570433208778,70.00601950362739,74.28873471038197,73.33441796444009,75.34253002216037,76.32919214935394,73.17675868215018,74.10982127637708,77.54617994057,72.57123447090625,74.42571350476696,72.49227698969459,72.84569595802641,72.90470900155911,74.12242116860803,73.98184878056561,72.68705102446589,75.04011501239508,76.86998193639995,76.4870647178798,78.94446475846357,75.97553995918555,76.49723931304665,75.97350943392715,77.9987310055296,74.87819248078269,80.38266954174588,73.52418485754085,74.6994752670715,72.93436676529458,73.71748315243464,77.10232337188177,73.50133722315242,77.30288451799781,68.5190107483143,73.07950883472253,73.23016148615712,77.74309603447384,78.39742413936276,75.46610372178301,71.22369054536672,68.8218639846388,76.08430098169634,73.38227445877621,71.01861741685985,70.39581734454978,72.35833038740887,76.31427051774898,74.13323639906658,76.99729804244835,76.7928548394012,76.10855294848184,74.56641262729366,73.88212279840718,70.05130207705699,77.76280710351097,79.02056501389458,69.67164893014078,71.35937774500626,77.12642573895732,70.64233854175964,71.05360336828706,80.19544752769417,76.82894680590537,77.83854985444168,73.25523469014915,80.19922088305643,73.32631837272424,74.44311734137737,73.10625837218544,75.52016385852512,77.32328029093779,77.18598354749724,74.05343838391994,81.1427748677776,74.61813582787043,74.9335520693995,71.52157125698614,78.41931214436289,79.48308385979544,80.84340173853711,73.55891194877537,73.51977830493624,72.5588300011853,69.68581722037803,73.1092102056616,73.07682413364766,73.59438786700625,77.49172050186844,78.05999652140659,78.4257243644473,72.8283999618712,73.69967384141286,77.45941267218365,77.7441309324657,81.97088080851846,75.05171662683671,74.61259947914141,78.27123239524218,76.7648324798484,75.46389960408088,78.06129906610175,71.0578342037717,73.37232351276484,73.7188857762461,72.52246101670389,73.13934520470659,72.47452254562987,75.56339852821101,76.09424494156534,70.25337806275448,80.6444431773905,71.3314169600762,76.93939413822119,66.61007153780568,73.28716498578225,71.1643896757562,79.8945484728696,72.84550025460157,70.92347957512087,76.36532565040122,76.75908858626778,73.2751595724024,75.51713828548753,72.11898193434354,75.59863479435052,74.73363179868922,78.0349501353502,75.30106406550094,71.29872200963624,75.57848762389595,75.48533878058416,72.80903570522779,75.61601503309768,74.38751668394228,74.7839759104356,74.30672100819321,74.73377891599678,78.54546974287474,72.62469400753803,74.1327547739761,74.21661357300881,76.96004124115011,71.49058183925185,74.50770163907667,74.28913818122064,72.88791288875551,79.27225756598303,75.13296055224868,72.3737957269433,73.9396490240843,74.39880184018456,78.17042017358722,77.76426016760466],\"type\":\"histogram\"}],                        {\"template\":{\"data\":{\"histogram2dcontour\":[{\"type\":\"histogram2dcontour\",\"colorbar\":{\"outlinewidth\":0,\"ticks\":\"\"},\"colorscale\":[[0.0,\"#0d0887\"],[0.1111111111111111,\"#46039f\"],[0.2222222222222222,\"#7201a8\"],[0.3333333333333333,\"#9c179e\"],[0.4444444444444444,\"#bd3786\"],[0.5555555555555556,\"#d8576b\"],[0.6666666666666666,\"#ed7953\"],[0.7777777777777778,\"#fb9f3a\"],[0.8888888888888888,\"#fdca26\"],[1.0,\"#f0f921\"]]}],\"choropleth\":[{\"type\":\"choropleth\",\"colorbar\":{\"outlinewidth\":0,\"ticks\":\"\"}}],\"histogram2d\":[{\"type\":\"histogram2d\",\"colorbar\":{\"outlinewidth\":0,\"ticks\":\"\"},\"colorscale\":[[0.0,\"#0d0887\"],[0.1111111111111111,\"#46039f\"],[0.2222222222222222,\"#7201a8\"],[0.3333333333333333,\"#9c179e\"],[0.4444444444444444,\"#bd3786\"],[0.5555555555555556,\"#d8576b\"],[0.6666666666666666,\"#ed7953\"],[0.7777777777777778,\"#fb9f3a\"],[0.8888888888888888,\"#fdca26\"],[1.0,\"#f0f921\"]]}],\"heatmap\":[{\"type\":\"heatmap\",\"colorbar\":{\"outlinewidth\":0,\"ticks\":\"\"},\"colorscale\":[[0.0,\"#0d0887\"],[0.1111111111111111,\"#46039f\"],[0.2222222222222222,\"#7201a8\"],[0.3333333333333333,\"#9c179e\"],[0.4444444444444444,\"#bd3786\"],[0.5555555555555556,\"#d8576b\"],[0.6666666666666666,\"#ed7953\"],[0.7777777777777778,\"#fb9f3a\"],[0.8888888888888888,\"#fdca26\"],[1.0,\"#f0f921\"]]}],\"contourcarpet\":[{\"type\":\"contourcarpet\",\"colorbar\":{\"outlinewidth\":0,\"ticks\":\"\"}}],\"contour\":[{\"type\":\"contour\",\"colorbar\":{\"outlinewidth\":0,\"ticks\":\"\"},\"colorscale\":[[0.0,\"#0d0887\"],[0.1111111111111111,\"#46039f\"],[0.2222222222222222,\"#7201a8\"],[0.3333333333333333,\"#9c179e\"],[0.4444444444444444,\"#bd3786\"],[0.5555555555555556,\"#d8576b\"],[0.6666666666666666,\"#ed7953\"],[0.7777777777777778,\"#fb9f3a\"],[0.8888888888888888,\"#fdca26\"],[1.0,\"#f0f921\"]]}],\"surface\":[{\"type\":\"surface\",\"colorbar\":{\"outlinewidth\":0,\"ticks\":\"\"},\"colorscale\":[[0.0,\"#0d0887\"],[0.1111111111111111,\"#46039f\"],[0.2222222222222222,\"#7201a8\"],[0.3333333333333333,\"#9c179e\"],[0.4444444444444444,\"#bd3786\"],[0.5555555555555556,\"#d8576b\"],[0.6666666666666666,\"#ed7953\"],[0.7777777777777778,\"#fb9f3a\"],[0.8888888888888888,\"#fdca26\"],[1.0,\"#f0f921\"]]}],\"mesh3d\":[{\"type\":\"mesh3d\",\"colorbar\":{\"outlinewidth\":0,\"ticks\":\"\"}}],\"scatter\":[{\"fillpattern\":{\"fillmode\":\"overlay\",\"size\":10,\"solidity\":0.2},\"type\":\"scatter\"}],\"parcoords\":[{\"type\":\"parcoords\",\"line\":{\"colorbar\":{\"outlinewidth\":0,\"ticks\":\"\"}}}],\"scatterpolargl\":[{\"type\":\"scatterpolargl\",\"marker\":{\"colorbar\":{\"outlinewidth\":0,\"ticks\":\"\"}}}],\"bar\":[{\"error_x\":{\"color\":\"#2a3f5f\"},\"error_y\":{\"color\":\"#2a3f5f\"},\"marker\":{\"line\":{\"color\":\"#E5ECF6\",\"width\":0.5},\"pattern\":{\"fillmode\":\"overlay\",\"size\":10,\"solidity\":0.2}},\"type\":\"bar\"}],\"scattergeo\":[{\"type\":\"scattergeo\",\"marker\":{\"colorbar\":{\"outlinewidth\":0,\"ticks\":\"\"}}}],\"scatterpolar\":[{\"type\":\"scatterpolar\",\"marker\":{\"colorbar\":{\"outlinewidth\":0,\"ticks\":\"\"}}}],\"histogram\":[{\"marker\":{\"pattern\":{\"fillmode\":\"overlay\",\"size\":10,\"solidity\":0.2}},\"type\":\"histogram\"}],\"scattergl\":[{\"type\":\"scattergl\",\"marker\":{\"colorbar\":{\"outlinewidth\":0,\"ticks\":\"\"}}}],\"scatter3d\":[{\"type\":\"scatter3d\",\"line\":{\"colorbar\":{\"outlinewidth\":0,\"ticks\":\"\"}},\"marker\":{\"colorbar\":{\"outlinewidth\":0,\"ticks\":\"\"}}}],\"scattermap\":[{\"type\":\"scattermap\",\"marker\":{\"colorbar\":{\"outlinewidth\":0,\"ticks\":\"\"}}}],\"scattermapbox\":[{\"type\":\"scattermapbox\",\"marker\":{\"colorbar\":{\"outlinewidth\":0,\"ticks\":\"\"}}}],\"scatterternary\":[{\"type\":\"scatterternary\",\"marker\":{\"colorbar\":{\"outlinewidth\":0,\"ticks\":\"\"}}}],\"scattercarpet\":[{\"type\":\"scattercarpet\",\"marker\":{\"colorbar\":{\"outlinewidth\":0,\"ticks\":\"\"}}}],\"carpet\":[{\"aaxis\":{\"endlinecolor\":\"#2a3f5f\",\"gridcolor\":\"white\",\"linecolor\":\"white\",\"minorgridcolor\":\"white\",\"startlinecolor\":\"#2a3f5f\"},\"baxis\":{\"endlinecolor\":\"#2a3f5f\",\"gridcolor\":\"white\",\"linecolor\":\"white\",\"minorgridcolor\":\"white\",\"startlinecolor\":\"#2a3f5f\"},\"type\":\"carpet\"}],\"table\":[{\"cells\":{\"fill\":{\"color\":\"#EBF0F8\"},\"line\":{\"color\":\"white\"}},\"header\":{\"fill\":{\"color\":\"#C8D4E3\"},\"line\":{\"color\":\"white\"}},\"type\":\"table\"}],\"barpolar\":[{\"marker\":{\"line\":{\"color\":\"#E5ECF6\",\"width\":0.5},\"pattern\":{\"fillmode\":\"overlay\",\"size\":10,\"solidity\":0.2}},\"type\":\"barpolar\"}],\"pie\":[{\"automargin\":true,\"type\":\"pie\"}]},\"layout\":{\"autotypenumbers\":\"strict\",\"colorway\":[\"#636efa\",\"#EF553B\",\"#00cc96\",\"#ab63fa\",\"#FFA15A\",\"#19d3f3\",\"#FF6692\",\"#B6E880\",\"#FF97FF\",\"#FECB52\"],\"font\":{\"color\":\"#2a3f5f\"},\"hovermode\":\"closest\",\"hoverlabel\":{\"align\":\"left\"},\"paper_bgcolor\":\"white\",\"plot_bgcolor\":\"#E5ECF6\",\"polar\":{\"bgcolor\":\"#E5ECF6\",\"angularaxis\":{\"gridcolor\":\"white\",\"linecolor\":\"white\",\"ticks\":\"\"},\"radialaxis\":{\"gridcolor\":\"white\",\"linecolor\":\"white\",\"ticks\":\"\"}},\"ternary\":{\"bgcolor\":\"#E5ECF6\",\"aaxis\":{\"gridcolor\":\"white\",\"linecolor\":\"white\",\"ticks\":\"\"},\"baxis\":{\"gridcolor\":\"white\",\"linecolor\":\"white\",\"ticks\":\"\"},\"caxis\":{\"gridcolor\":\"white\",\"linecolor\":\"white\",\"ticks\":\"\"}},\"coloraxis\":{\"colorbar\":{\"outlinewidth\":0,\"ticks\":\"\"}},\"colorscale\":{\"sequential\":[[0.0,\"#0d0887\"],[0.1111111111111111,\"#46039f\"],[0.2222222222222222,\"#7201a8\"],[0.3333333333333333,\"#9c179e\"],[0.4444444444444444,\"#bd3786\"],[0.5555555555555556,\"#d8576b\"],[0.6666666666666666,\"#ed7953\"],[0.7777777777777778,\"#fb9f3a\"],[0.8888888888888888,\"#fdca26\"],[1.0,\"#f0f921\"]],\"sequentialminus\":[[0.0,\"#0d0887\"],[0.1111111111111111,\"#46039f\"],[0.2222222222222222,\"#7201a8\"],[0.3333333333333333,\"#9c179e\"],[0.4444444444444444,\"#bd3786\"],[0.5555555555555556,\"#d8576b\"],[0.6666666666666666,\"#ed7953\"],[0.7777777777777778,\"#fb9f3a\"],[0.8888888888888888,\"#fdca26\"],[1.0,\"#f0f921\"]],\"diverging\":[[0,\"#8e0152\"],[0.1,\"#c51b7d\"],[0.2,\"#de77ae\"],[0.3,\"#f1b6da\"],[0.4,\"#fde0ef\"],[0.5,\"#f7f7f7\"],[0.6,\"#e6f5d0\"],[0.7,\"#b8e186\"],[0.8,\"#7fbc41\"],[0.9,\"#4d9221\"],[1,\"#276419\"]]},\"xaxis\":{\"gridcolor\":\"white\",\"linecolor\":\"white\",\"ticks\":\"\",\"title\":{\"standoff\":15},\"zerolinecolor\":\"white\",\"automargin\":true,\"zerolinewidth\":2},\"yaxis\":{\"gridcolor\":\"white\",\"linecolor\":\"white\",\"ticks\":\"\",\"title\":{\"standoff\":15},\"zerolinecolor\":\"white\",\"automargin\":true,\"zerolinewidth\":2},\"scene\":{\"xaxis\":{\"backgroundcolor\":\"#E5ECF6\",\"gridcolor\":\"white\",\"linecolor\":\"white\",\"showbackground\":true,\"ticks\":\"\",\"zerolinecolor\":\"white\",\"gridwidth\":2},\"yaxis\":{\"backgroundcolor\":\"#E5ECF6\",\"gridcolor\":\"white\",\"linecolor\":\"white\",\"showbackground\":true,\"ticks\":\"\",\"zerolinecolor\":\"white\",\"gridwidth\":2},\"zaxis\":{\"backgroundcolor\":\"#E5ECF6\",\"gridcolor\":\"white\",\"linecolor\":\"white\",\"showbackground\":true,\"ticks\":\"\",\"zerolinecolor\":\"white\",\"gridwidth\":2}},\"shapedefaults\":{\"line\":{\"color\":\"#2a3f5f\"}},\"annotationdefaults\":{\"arrowcolor\":\"#2a3f5f\",\"arrowhead\":0,\"arrowwidth\":1},\"geo\":{\"bgcolor\":\"white\",\"landcolor\":\"#E5ECF6\",\"subunitcolor\":\"white\",\"showland\":true,\"showlakes\":true,\"lakecolor\":\"white\"},\"title\":{\"x\":0.05},\"mapbox\":{\"style\":\"light\"}}},\"title\":{\"text\":\"Histogram of sample means\"},\"xaxis\":{\"title\":{\"text\":\"Sample means\"}},\"yaxis\":{\"title\":{\"text\":\"Probability\"}},\"width\":700},                        {\"responsive\": true}                    )                };            </script>        </div>"
      ],
      "text/plain": [
       "Figure({\n",
       "    'data': [{'histnorm': 'probability',\n",
       "              'type': 'histogram',\n",
       "              'x': [69.84345662130204, 72.60187738769199, 76.59827929734878, ...,\n",
       "                    74.39880184018456, 78.17042017358722, 77.76426016760466]}],\n",
       "    'layout': {'template': '...',\n",
       "               'title': {'text': 'Histogram of sample means'},\n",
       "               'width': 700,\n",
       "               'xaxis': {'title': {'text': 'Sample means'}},\n",
       "               'yaxis': {'title': {'text': 'Probability'}}}\n",
       "})"
      ]
     },
     "execution_count": 71,
     "metadata": {},
     "output_type": "execute_result"
    }
   ],
   "source": [
    "# Create a histogram of the sample means\n",
    "fig = graph_objects.Figure(\n",
    "    graph_objects.Histogram(\n",
    "        x=x_bar_vals,\n",
    "        histnorm='probability'\n",
    "    )\n",
    ")\n",
    "\n",
    "fig.update_layout(\n",
    "    title='Histogram of sample means',\n",
    "    xaxis_title='Sample means',\n",
    "    yaxis_title='Probability',\n",
    "    width=700\n",
    ")"
   ]
  },
  {
   "cell_type": "code",
   "execution_count": 73,
   "metadata": {},
   "outputs": [
    {
     "data": {
      "text/plain": [
       "np.float64(75.39338504047777)"
      ]
     },
     "execution_count": 73,
     "metadata": {},
     "output_type": "execute_result"
    }
   ],
   "source": [
    "# Seed the pseudo-random number generator\n",
    "numpy.random.seed(28)\n",
    "\n",
    "# Selected a random sample of 30 values from the population and assign it to the variable sample\n",
    "sample = numpy.random.choice(population, 30)\n",
    "\n",
    "# Calculate the sample mean and assign it to the variable x_bar\n",
    "x_bar = sample.mean()\n",
    "x_bar"
   ]
  },
  {
   "cell_type": "code",
   "execution_count": 74,
   "metadata": {},
   "outputs": [],
   "source": [
    "# Seed the pseudo-random number generator\n",
    "numpy.random.seed(28)\n",
    "\n",
    "# Randomly selected 30 values from sample with replacement 1000 times and calculate the mean of each sample and assign it to the variable x_bar_bootstrap_vals\n",
    "x_bar_bootstrap_vals = [numpy.random.choice(sample, 30, replace=True).mean() for _ in range(1000)]"
   ]
  },
  {
   "cell_type": "code",
   "execution_count": 75,
   "metadata": {},
   "outputs": [
    {
     "ename": "ValueError",
     "evalue": "Mime type rendering requires nbformat>=4.2.0 but it is not installed",
     "output_type": "error",
     "traceback": [
      "\u001b[0;31m---------------------------------------------------------------------------\u001b[0m",
      "\u001b[0;31mValueError\u001b[0m                                Traceback (most recent call last)",
      "File \u001b[0;32m~/Desktop/Health Data Science /.venv/lib/python3.9/site-packages/IPython/core/formatters.py:922\u001b[0m, in \u001b[0;36mIPythonDisplayFormatter.__call__\u001b[0;34m(self, obj)\u001b[0m\n\u001b[1;32m    920\u001b[0m method \u001b[38;5;241m=\u001b[39m get_real_method(obj, \u001b[38;5;28mself\u001b[39m\u001b[38;5;241m.\u001b[39mprint_method)\n\u001b[1;32m    921\u001b[0m \u001b[38;5;28;01mif\u001b[39;00m method \u001b[38;5;129;01mis\u001b[39;00m \u001b[38;5;129;01mnot\u001b[39;00m \u001b[38;5;28;01mNone\u001b[39;00m:\n\u001b[0;32m--> 922\u001b[0m     \u001b[43mmethod\u001b[49m\u001b[43m(\u001b[49m\u001b[43m)\u001b[49m\n\u001b[1;32m    923\u001b[0m     \u001b[38;5;28;01mreturn\u001b[39;00m \u001b[38;5;28;01mTrue\u001b[39;00m\n",
      "File \u001b[0;32m~/Desktop/Health Data Science /.venv/lib/python3.9/site-packages/plotly/basedatatypes.py:833\u001b[0m, in \u001b[0;36mBaseFigure._ipython_display_\u001b[0;34m(self)\u001b[0m\n\u001b[1;32m    830\u001b[0m \u001b[38;5;28;01mimport\u001b[39;00m\u001b[38;5;250m \u001b[39m\u001b[38;5;21;01mplotly\u001b[39;00m\u001b[38;5;21;01m.\u001b[39;00m\u001b[38;5;21;01mio\u001b[39;00m\u001b[38;5;250m \u001b[39m\u001b[38;5;28;01mas\u001b[39;00m\u001b[38;5;250m \u001b[39m\u001b[38;5;21;01mpio\u001b[39;00m\n\u001b[1;32m    832\u001b[0m \u001b[38;5;28;01mif\u001b[39;00m pio\u001b[38;5;241m.\u001b[39mrenderers\u001b[38;5;241m.\u001b[39mrender_on_display \u001b[38;5;129;01mand\u001b[39;00m pio\u001b[38;5;241m.\u001b[39mrenderers\u001b[38;5;241m.\u001b[39mdefault:\n\u001b[0;32m--> 833\u001b[0m     \u001b[43mpio\u001b[49m\u001b[38;5;241;43m.\u001b[39;49m\u001b[43mshow\u001b[49m\u001b[43m(\u001b[49m\u001b[38;5;28;43mself\u001b[39;49m\u001b[43m)\u001b[49m\n\u001b[1;32m    834\u001b[0m \u001b[38;5;28;01melse\u001b[39;00m:\n\u001b[1;32m    835\u001b[0m     \u001b[38;5;28mprint\u001b[39m(\u001b[38;5;28mrepr\u001b[39m(\u001b[38;5;28mself\u001b[39m))\n",
      "File \u001b[0;32m~/Desktop/Health Data Science /.venv/lib/python3.9/site-packages/plotly/io/_renderers.py:425\u001b[0m, in \u001b[0;36mshow\u001b[0;34m(fig, renderer, validate, **kwargs)\u001b[0m\n\u001b[1;32m    420\u001b[0m     \u001b[38;5;28;01mraise\u001b[39;00m \u001b[38;5;167;01mValueError\u001b[39;00m(\n\u001b[1;32m    421\u001b[0m         \u001b[38;5;124m\"\u001b[39m\u001b[38;5;124mMime type rendering requires ipython but it is not installed\u001b[39m\u001b[38;5;124m\"\u001b[39m\n\u001b[1;32m    422\u001b[0m     )\n\u001b[1;32m    424\u001b[0m \u001b[38;5;28;01mif\u001b[39;00m \u001b[38;5;129;01mnot\u001b[39;00m nbformat \u001b[38;5;129;01mor\u001b[39;00m Version(nbformat\u001b[38;5;241m.\u001b[39m__version__) \u001b[38;5;241m<\u001b[39m Version(\u001b[38;5;124m\"\u001b[39m\u001b[38;5;124m4.2.0\u001b[39m\u001b[38;5;124m\"\u001b[39m):\n\u001b[0;32m--> 425\u001b[0m     \u001b[38;5;28;01mraise\u001b[39;00m \u001b[38;5;167;01mValueError\u001b[39;00m(\n\u001b[1;32m    426\u001b[0m         \u001b[38;5;124m\"\u001b[39m\u001b[38;5;124mMime type rendering requires nbformat>=4.2.0 but it is not installed\u001b[39m\u001b[38;5;124m\"\u001b[39m\n\u001b[1;32m    427\u001b[0m     )\n\u001b[1;32m    429\u001b[0m display_jupyter_version_warnings()\n\u001b[1;32m    431\u001b[0m ipython_display\u001b[38;5;241m.\u001b[39mdisplay(bundle, raw\u001b[38;5;241m=\u001b[39m\u001b[38;5;28;01mTrue\u001b[39;00m)\n",
      "\u001b[0;31mValueError\u001b[0m: Mime type rendering requires nbformat>=4.2.0 but it is not installed"
     ]
    },
    {
     "data": {
      "application/vnd.plotly.v1+json": {
       "config": {
        "plotlyServerURL": "https://plot.ly"
       },
       "data": [
        {
         "histnorm": "probability",
         "type": "histogram",
         "x": [
          77.5861881883197,
          77.83153363410538,
          79.08478275356897,
          79.67406311321193,
          77.86986822354831,
          79.97969629411705,
          74.35095133304392,
          77.74571791171742,
          80.1344974946358,
          77.18067556961199,
          76.70679765276203,
          74.24692376716466,
          75.98008499006976,
          72.81256736469231,
          77.64791058547945,
          80.36720055257076,
          73.68022574713714,
          77.4878347626918,
          78.55715459607669,
          75.12027175070641,
          77.62096008602087,
          77.85011694342302,
          74.43861253841445,
          73.79387906299475,
          73.35510610061367,
          77.95096171991885,
          72.61183028525923,
          73.18658754865444,
          75.39433725946166,
          72.80383646394512,
          75.4811410636699,
          76.81970165317934,
          74.56860336441038,
          74.07812454229578,
          74.00899157015397,
          72.8052923067643,
          71.2350038826191,
          79.41698124158098,
          79.47021078677153,
          76.39295246451208,
          76.72022876883824,
          72.89739759750942,
          71.05594585693702,
          72.00804358340811,
          74.64950933124216,
          71.75597004073593,
          75.92032167336896,
          75.85847797048491,
          75.41137703897544,
          75.78522394561232,
          77.69672283202891,
          77.28989856809311,
          75.4481367777642,
          75.02114378154232,
          75.17787534648049,
          77.66071619381881,
          77.48784371734219,
          76.19111749695374,
          72.03027320773418,
          70.90301806845582,
          77.92094590286582,
          78.47525391495184,
          75.62690851506008,
          73.5060881510075,
          78.92374170264681,
          76.84978764157611,
          71.21219866185066,
          75.6704164316546,
          70.00982989190963,
          76.16882172906534,
          74.34508297887517,
          78.55131723115964,
          76.21509608749531,
          74.3431838053281,
          76.58955663390415,
          79.5817730655714,
          75.59269835719215,
          73.31385946144668,
          78.37457263954396,
          74.45509414108717,
          73.39773707350307,
          77.15450644942123,
          74.53296736431068,
          73.58729376701564,
          75.4367595077543,
          77.06112807000144,
          78.18279552715093,
          74.36437446984023,
          75.74851869567998,
          75.62330094195607,
          75.33378543673439,
          80.67502984054934,
          75.00269932964834,
          76.08176853223038,
          75.0362797980456,
          79.2242570517984,
          72.36568499081486,
          73.41619035722138,
          80.15993813310918,
          77.76253669897946,
          77.67142456019891,
          74.49649448087612,
          72.58813931902178,
          76.0054088434875,
          72.05642979832945,
          72.91679157451951,
          76.07796828734179,
          75.84513286304653,
          76.7559997362666,
          73.8527805402221,
          75.59979105499691,
          77.72542557577631,
          76.25242782588461,
          82.03995351791873,
          69.08161214186545,
          69.91051670875689,
          77.82780278255089,
          75.43644657574144,
          75.73107646860784,
          76.5810522609117,
          69.44958735246018,
          78.12533923698548,
          76.74792584967902,
          77.25625062731272,
          77.45867245885925,
          74.03513919272557,
          80.89801482621156,
          75.91805542035976,
          78.08491771188581,
          76.09155151246827,
          71.72387762500878,
          74.03825539992427,
          77.82349800809898,
          75.20194873374983,
          75.85388790708375,
          78.36453381915086,
          79.09268767851879,
          70.69505612833909,
          72.99781783050047,
          75.97859090387146,
          76.9354760638474,
          77.84459730578735,
          76.04095481223209,
          79.21780200049639,
          73.44579487407951,
          76.10167154522199,
          78.36341201898146,
          79.54098900422309,
          75.3541917523931,
          75.53607003657271,
          75.48421529547777,
          77.81104484327615,
          72.90769683976525,
          72.343968194298,
          77.10044054115748,
          77.26880266861279,
          77.56962820220787,
          79.41256287356983,
          77.35122613086178,
          74.44601613788623,
          74.71260521510946,
          77.6903236780036,
          70.5582174160339,
          73.95013484629474,
          74.46741045874198,
          75.65777243752613,
          71.83747942625273,
          77.62565033755575,
          72.8104701758914,
          74.83239085060478,
          75.3881307683704,
          77.17284322465244,
          74.98853564372062,
          73.10116848432808,
          75.52501914666495,
          72.23672853643033,
          75.98230592358485,
          71.47834726795645,
          76.66055312917155,
          76.42156329991627,
          74.90732847022501,
          71.79794814012878,
          73.66707136349946,
          74.08613833888218,
          75.62619381660242,
          78.10243300245205,
          74.7718402093623,
          77.50924028535482,
          67.85134718064475,
          73.67766110223425,
          73.79261910057696,
          73.39277848725338,
          70.25862973671474,
          78.81174359468976,
          74.19294906668787,
          74.81510729272709,
          73.92943599553581,
          79.63052454868453,
          78.7404218458052,
          76.47800491211738,
          74.23323214577444,
          69.97787959899979,
          77.52795247958356,
          79.98168111773974,
          76.26538038193252,
          74.96179319824584,
          69.72820862041024,
          72.08031904333106,
          74.62318256424986,
          72.89273481571617,
          79.71412228994289,
          82.50802979716028,
          77.79772259225828,
          75.00857993562853,
          72.32587426488912,
          77.64614361785075,
          72.56318249469996,
          75.16542269676675,
          76.59720677710665,
          74.3168896417215,
          77.4029487970513,
          80.72620810333021,
          76.49477515338066,
          79.972961566482,
          73.97545655992909,
          75.1238121506977,
          72.32802759770145,
          76.062895398494,
          80.26180596376905,
          79.77327782649644,
          75.62448083318365,
          77.20167773947924,
          74.07093574117536,
          71.92892337352082,
          74.11486540038527,
          78.21380400327389,
          75.67440818121159,
          74.62780633903147,
          71.08052779825702,
          78.03019539706287,
          76.03661460144855,
          75.34904572232502,
          74.99359311005217,
          75.64999552605131,
          74.10945528222969,
          77.20824018839554,
          70.59498228757448,
          72.9490985249863,
          74.25434117660475,
          75.783176470919,
          71.47838071974712,
          75.65169525102175,
          73.23291701068636,
          80.22821097799552,
          74.63399373376599,
          78.54773453956099,
          73.9036446927567,
          74.70923855163478,
          73.05354228816131,
          75.44785467588771,
          73.05085276902052,
          80.3671188638209,
          75.48689541417916,
          73.83102909038513,
          78.63532666828625,
          72.09947707258304,
          78.11631457889682,
          77.23545871102696,
          78.86459599888494,
          77.45487305452161,
          73.2967401656597,
          72.0075301118192,
          75.47438864650056,
          69.28653898026555,
          76.59912993844326,
          73.92136974587598,
          74.55026212764574,
          74.91749816938632,
          75.44092980119281,
          80.3384884768035,
          74.60905309760366,
          73.50011971917216,
          71.80857067595937,
          74.95286235315477,
          76.65991078006078,
          75.37054891750807,
          78.37964211303145,
          78.4611954704783,
          74.04450194128906,
          73.81046998183692,
          76.96892064165544,
          75.4822059039136,
          67.758077176622,
          76.11066854634969,
          73.14228105975327,
          73.12511631031157,
          77.14654831539238,
          79.81772152219224,
          71.2253382857008,
          75.33700428693875,
          74.0683860569276,
          79.90221775765654,
          71.68381943732632,
          73.73628943801471,
          71.88434125686037,
          74.32769247503259,
          77.63218670770294,
          72.87259358491133,
          75.58024320477406,
          75.45593998529543,
          78.88338673851698,
          80.85994951614934,
          80.52956737389455,
          70.7943717813862,
          76.09573418618466,
          74.23821346689448,
          71.24062555407161,
          79.73361286300113,
          73.12673022170473,
          75.56702610637505,
          73.42547339405628,
          78.63004615231507,
          74.60615345725233,
          71.32808697208465,
          73.67692351708448,
          74.1090796160783,
          66.83249903571044,
          74.4965610112358,
          76.84963552915511,
          79.32782231614584,
          77.1461555447294,
          81.06483926370676,
          75.69936721355398,
          77.04702648114389,
          78.73468477627245,
          74.31661229283569,
          78.51676974622323,
          78.2687181896325,
          76.52002176972812,
          78.0906036158032,
          73.98265001066234,
          69.93798324035919,
          79.78165721663562,
          75.43897354773704,
          78.21224092636838,
          74.74926988962768,
          74.47180333757201,
          75.96962095974378,
          75.23841919822836,
          73.4542773990623,
          80.09131818263153,
          69.79313046104683,
          75.65731537947231,
          73.9996362888508,
          73.85377011935476,
          74.09244629254073,
          77.85353832560845,
          76.8107735082579,
          75.34547263765451,
          74.54077189221242,
          76.86586807046903,
          75.44364662461157,
          71.94951993048082,
          75.5862119120936,
          74.9589030432856,
          72.60697804256704,
          73.02581409731711,
          73.7200424164051,
          78.87365739838104,
          73.00978724573744,
          77.0450004048302,
          77.82766209075426,
          80.869656693903,
          77.32897227927269,
          77.12856577397388,
          74.19544136753312,
          75.44970170116147,
          77.20091104096147,
          70.58351895180085,
          79.12251428098698,
          74.32171660632761,
          74.63011687604471,
          73.95077408442545,
          69.80456287928334,
          79.29859691792942,
          75.95936961345038,
          73.32298773524306,
          77.3223052445055,
          75.28904177580236,
          78.6353549350198,
          73.45925744908922,
          74.59722333176263,
          74.11673678221489,
          74.45431398550161,
          71.50598631268043,
          77.608063496665,
          76.22170228438476,
          75.14707098026885,
          76.44527023435535,
          77.79328437652903,
          73.82822027027537,
          75.1603088386237,
          76.11609290347467,
          75.82916130188791,
          72.50145042159605,
          75.39330504035452,
          78.08093669673836,
          77.76823685933972,
          72.50176164043144,
          70.6020031307893,
          77.6546934790273,
          73.73632044304682,
          75.60782454563763,
          72.03734457648326,
          73.37117648768903,
          75.42123818741453,
          77.20309776526504,
          73.66795784053662,
          76.42826621568283,
          77.23892812568592,
          73.58281962386202,
          75.89216660833897,
          77.32113446440798,
          78.06085496519736,
          75.07902539760815,
          75.0459823997473,
          79.16844365211091,
          74.90848239751303,
          71.82925506348865,
          73.04399219826388,
          75.09665833332348,
          76.2666885718999,
          75.62456040654777,
          79.15844199768019,
          79.57315174864512,
          78.01734021365223,
          77.87449846672838,
          73.61996752627041,
          75.56339951902989,
          70.27021706414786,
          73.13016958797535,
          76.73287496750982,
          76.49083726617864,
          76.67177228121841,
          73.779042969995,
          78.46086459848783,
          79.42711187309214,
          76.15014103287893,
          73.80661132612774,
          70.70753412059648,
          75.42214035584357,
          75.63154280812344,
          75.63936433149685,
          73.8926732255155,
          76.97369109579914,
          74.3087351758498,
          75.07949429953368,
          75.27876279894514,
          75.35794863417374,
          71.85881153538914,
          79.54117609193577,
          77.71042971147371,
          73.17068698430803,
          77.1902619050726,
          74.1289739102971,
          70.59002330007773,
          79.46923539535452,
          70.33917465102128,
          73.8216641904943,
          74.88279192642285,
          72.71688754355198,
          69.15778614490567,
          74.44430286061775,
          74.94829301409708,
          69.78106476782483,
          77.90717645680719,
          76.9330044577088,
          75.78982799445939,
          74.04019148931235,
          77.81430625108152,
          77.39656490509293,
          79.05556328154961,
          77.84210014460767,
          71.51683037980496,
          76.74753591501822,
          75.44620498267005,
          74.50109912227099,
          74.23577306731481,
          79.73981340661301,
          74.72185672586106,
          75.68222296202437,
          70.68466090943856,
          73.41984314868074,
          73.76653540564679,
          73.67328067159227,
          75.63720287907637,
          80.10319918372198,
          76.51841626052392,
          80.49229551182898,
          74.03319468907844,
          74.7435948438735,
          74.15090645820452,
          79.17482956324186,
          77.40416683030108,
          81.40509100963912,
          74.55118182421394,
          77.82729550786753,
          74.30842340559232,
          73.58980458620327,
          76.10627954813718,
          77.13621893851177,
          70.97813091144879,
          71.44531932486488,
          74.77363167412535,
          75.47488091913192,
          75.63534506188101,
          78.66620742060094,
          74.32338844654376,
          70.6693761716706,
          76.4267206616327,
          72.55660443008006,
          75.4512628808577,
          74.73488733174351,
          73.7045462863611,
          70.25967448381608,
          74.73069048794173,
          72.63186193879908,
          76.68545905743092,
          72.67817160628219,
          72.25279459880296,
          73.62651859969758,
          76.01591010604058,
          74.5109453314585,
          70.13542084620181,
          81.21011666186047,
          76.75125386669902,
          75.0147713616906,
          73.19932236139987,
          76.35105050245933,
          73.57410329582689,
          73.86139007581372,
          75.53445497919715,
          67.64529211324445,
          75.88824146694536,
          74.35161789358128,
          77.0522588707368,
          74.99679368158873,
          72.95111055077442,
          75.39211927263017,
          72.52343345752767,
          78.54413626260137,
          71.7522453496177,
          77.37440679264824,
          73.48381592339918,
          74.78608795579825,
          73.98706248746801,
          77.52114997657162,
          68.22650228306544,
          73.70802800148029,
          72.75125878056323,
          72.04022823966872,
          76.5029889729057,
          73.18776025271289,
          76.34876943677278,
          74.99190078814476,
          74.44970892969204,
          74.32224151455782,
          74.74778263389271,
          75.52982617115501,
          79.31588140784744,
          76.95813050060138,
          74.3706972024563,
          74.98003904270053,
          76.52113221468416,
          77.08162134125425,
          71.7427784225345,
          75.7516923388442,
          74.10019089644996,
          73.8920991453795,
          79.11719100858915,
          76.66213968079938,
          76.13916539208773,
          78.2733865885548,
          81.0347133421587,
          76.71673989084317,
          77.09150776053613,
          76.92586386471227,
          77.18872355788811,
          75.35935323782851,
          76.65688503357919,
          74.0067592092289,
          75.70065670713183,
          72.83352674104039,
          76.7805970591804,
          73.88397607494896,
          74.0622188921843,
          74.95339350718162,
          77.94773364370711,
          76.85985489884327,
          78.503021822483,
          72.7093862372893,
          74.37095476197264,
          76.00080544501434,
          75.33878219495155,
          72.61139979592328,
          75.55099295300951,
          75.488009929027,
          79.86128740614272,
          79.52592102063346,
          76.75803789216654,
          67.75030420997876,
          77.99256625829817,
          77.77352222228127,
          74.36921792244082,
          75.21416406999968,
          73.16908262763376,
          80.7476463183016,
          78.15755155814186,
          80.34662812824452,
          74.24094549649683,
          79.51959102641224,
          73.67033209936115,
          78.63001038392024,
          71.77664874649982,
          73.5191990762833,
          75.24982680963512,
          78.59122673237526,
          73.80853346778123,
          77.80114204970866,
          77.53986238239212,
          73.43593253088177,
          76.55817104282292,
          73.41803965014255,
          70.6058052202624,
          78.38506614472446,
          74.68040172362541,
          79.302774703157,
          72.77940523641662,
          71.69864495827359,
          76.81488253802958,
          77.07603052254481,
          75.93254887709864,
          76.01902605693923,
          73.43233364730457,
          73.40259322714556,
          74.31722279132472,
          72.66512478034747,
          74.23574862779768,
          77.65151974486535,
          77.53054782324942,
          72.14969465745088,
          73.27963509243502,
          72.34279145727764,
          74.1271118242354,
          72.9507159136359,
          70.4715056766001,
          74.24173166505093,
          73.82115466330761,
          69.0633614064927,
          71.19401359928946,
          75.97939682710765,
          76.94940041741408,
          76.22645797156288,
          79.86008661655848,
          71.15373197876973,
          77.83500002652232,
          74.68802119871768,
          77.98230542228686,
          75.54364847294622,
          72.975189031594,
          72.60506582171567,
          74.73532680118339,
          77.64977366419325,
          75.80415262750797,
          75.26048330011714,
          74.91595017836882,
          77.15289417375949,
          78.33909589179532,
          73.16678663885337,
          71.04535876981309,
          76.04140181432534,
          69.76433359699135,
          70.84419170571879,
          68.38929902022359,
          73.7836027248241,
          75.53276176226112,
          75.63370890849879,
          73.74755822101852,
          76.18357463285975,
          72.35500792871886,
          75.14815816666949,
          77.28114049157688,
          74.61510204589877,
          74.52621324739808,
          81.05174594863048,
          77.08294084193095,
          75.71792136806101,
          73.20424278909634,
          75.49964115300364,
          68.46088158155541,
          72.49258743927034,
          71.5741725753773,
          77.92947908133705,
          75.07575268522695,
          73.76826322230137,
          73.15543769207845,
          78.09800609740162,
          73.89175215975521,
          75.84633311564643,
          73.73340339970197,
          75.89073206268588,
          77.70340105853262,
          79.15583549249023,
          75.52160078883576,
          73.59857607070866,
          75.09617644804659,
          78.8860184963926,
          77.49726392956545,
          76.09308032388996,
          79.97458920166262,
          75.55311199640087,
          79.56499734056734,
          74.57988554903136,
          71.70633443385037,
          74.01607625629755,
          70.50368943057234,
          75.85270673606436,
          74.55628146553572,
          77.38573085847635,
          73.77721616705477,
          73.2351541973008,
          72.23999937775802,
          76.4862919823415,
          74.43130603496797,
          73.5496957970726,
          71.48928342293702,
          75.22817037284484,
          76.16176533817925,
          74.1504577077238,
          76.04557826358773,
          75.24912768690565,
          76.34797611399173,
          74.24537666301556,
          71.79191817831688,
          73.72608907678475,
          77.12110341065024,
          72.8162217961873,
          72.75274628483794,
          76.19297923355226,
          79.52491648407974,
          71.94186338309642,
          73.7394592365269,
          73.299661995181,
          75.77261123952636,
          76.93011227654367,
          75.14443608084144,
          80.58688129916638,
          74.38302638889834,
          73.3254222681417,
          73.47182844818302,
          78.48661643032405,
          73.58928568886758,
          78.24706841999516,
          76.5629006917154,
          76.67387653309804,
          76.94103155606739,
          71.50871234305345,
          78.65803959237324,
          78.14477912820642,
          74.69604179684488,
          74.79190145983539,
          73.4080504185743,
          74.77982778877838,
          79.8185218888446,
          74.03885186153992,
          81.46870079481964,
          79.43151562311692,
          73.84943549331064,
          81.73906616176262,
          73.23784462961883,
          72.02957473939799,
          76.47198525390962,
          75.2142358210245,
          77.41822220187227,
          76.52460983760534,
          77.1289888153999,
          79.09945475111324,
          77.54374264010886,
          74.19337232674835,
          75.53124716248593,
          76.19632698585964,
          71.56267715107302,
          78.64361788523937,
          75.11518843255885,
          78.76791359702649,
          75.50160529878015,
          75.95699677952652,
          73.33600457149078,
          76.86656793289337,
          77.81851901256371,
          73.66708620382131,
          75.68791901143274,
          80.92386274240981,
          78.96659839862983,
          72.9835472535739,
          74.65592284446095,
          75.0305863382785,
          76.52980622372476,
          76.73596452808071,
          82.99568672228834,
          78.19150891141446,
          78.10436118368092,
          79.76899288887788,
          77.08824196070405,
          77.47818262100876,
          77.54741250032298,
          77.30775859402092,
          74.56245379286922,
          75.60963396542589,
          82.25856920336051,
          74.71201906682626,
          74.80912616672946,
          75.52772645378123,
          72.65722357587259,
          79.3682410505572,
          76.60948819096515,
          72.25841515326597,
          72.40726749850674,
          79.62455358193705,
          76.05652575918415,
          74.25888032120416,
          76.70671410899482,
          76.50250014529557,
          75.4970788478112,
          72.84523988135956,
          81.23730075641352,
          76.27488682693551,
          74.5048828571009,
          77.14996053424265,
          72.00250896567624,
          78.16284681669278,
          74.40244862622028,
          79.23581372571682,
          74.77439332581108,
          78.88865857493475,
          77.96517777701966,
          75.7453929702734,
          74.83986563765966,
          78.39385921677793,
          74.80934672366784,
          72.82836628783225,
          75.78535830747632,
          74.02037462794353,
          72.71722211508492,
          73.58786222161957,
          77.37494134411983,
          74.36016067213056,
          78.09943326168943,
          67.67693669332142,
          79.15942682370111,
          77.57757848788131,
          75.90162019315711,
          72.67535653262593,
          75.57206609815859,
          77.38676651071594,
          77.7720889661669,
          80.97747398888983,
          74.45536952913999,
          79.07100431445492,
          78.74487653272023,
          74.67473895234095,
          78.42248501936575,
          75.32793544136636,
          77.4761177220061,
          75.67834345474327,
          70.76452857029349,
          73.63214640001242,
          72.31760684522197,
          75.8137261515456,
          73.7604983191196,
          77.89773578493288,
          79.26788217112382,
          73.49911189688238,
          72.60330268480523,
          78.34717767567994,
          76.2104825238614,
          75.87084032060905,
          73.08495751715995,
          77.28136680193938,
          77.56073791944559,
          72.40934368508054,
          76.69016772637707,
          79.20494858404142,
          79.05322673374884,
          73.51110778400742,
          74.8954938297977,
          75.6775544339009,
          77.72513595001016,
          77.39544710012542,
          72.29961925457272,
          74.57691601889813,
          75.18483838460521,
          75.8541809235761,
          73.90786886134747,
          79.93413739825256,
          75.8700916748916,
          72.89823668472897,
          74.52719036957959,
          74.2868684367425,
          77.88978758619437,
          79.13866639910468,
          75.07164986058874,
          75.50079371576771,
          76.28850951773502,
          74.7172194033844,
          72.8074799845521,
          73.03534186048664,
          76.92741806164626,
          79.75237453892005,
          70.57531831540008,
          75.49081014987885,
          76.41924241460045,
          73.23801172571166,
          77.93408631182689,
          77.52428473840847,
          73.75638532720767,
          75.77510725667841,
          76.94506719791192,
          79.05044101595503,
          75.14191366007293,
          78.00124190394236,
          76.16797264041324,
          74.91473953603548,
          74.95877314944731,
          73.52307730612918,
          76.44578273782547,
          76.81623359593989,
          73.8072461581426,
          68.736347858382,
          76.73267128366135,
          77.0801380114609,
          74.83075380981633,
          72.04794431501335,
          78.78052476748809,
          74.85434423732218,
          74.6265107801431,
          77.71504834915991,
          73.33747726619244,
          80.62177276288834,
          71.89457713755328,
          78.01000142472552,
          74.11702417817179,
          74.32041261741638,
          76.98050325830339,
          78.92269533925143,
          72.38541559698098,
          73.35679551371213,
          75.26240037689874,
          77.4112388110955,
          74.92421665808284,
          76.14171217386368,
          74.86872342828669,
          76.2056726645953,
          68.96376315613803,
          75.14235132487153,
          76.7534506527009,
          73.80800794649188,
          72.27366909215992,
          73.7187211476483,
          77.11324485055964,
          78.37432735094914,
          72.47720168706901,
          75.67480470382237,
          75.55750775271532,
          78.86804787678108,
          69.6489139578419,
          80.35123954052347,
          74.39193764398458,
          79.68499648206279,
          80.38153467025676,
          76.6364814689475,
          69.12208491482207,
          72.87915191545184,
          75.75413818365317,
          75.32620942751932,
          71.1502131296823,
          73.91549786641303,
          73.59089753507958,
          74.7876886561456,
          74.52849971159502,
          75.29684843794408,
          77.2278243761581,
          75.05504542675506,
          73.96676136884307,
          70.18138771549698,
          72.85457655376426,
          77.4648463657718,
          69.54484748670484,
          74.90374464513927,
          70.89653745671544
         ]
        }
       ],
       "layout": {
        "template": {
         "data": {
          "bar": [
           {
            "error_x": {
             "color": "#2a3f5f"
            },
            "error_y": {
             "color": "#2a3f5f"
            },
            "marker": {
             "line": {
              "color": "#E5ECF6",
              "width": 0.5
             },
             "pattern": {
              "fillmode": "overlay",
              "size": 10,
              "solidity": 0.2
             }
            },
            "type": "bar"
           }
          ],
          "barpolar": [
           {
            "marker": {
             "line": {
              "color": "#E5ECF6",
              "width": 0.5
             },
             "pattern": {
              "fillmode": "overlay",
              "size": 10,
              "solidity": 0.2
             }
            },
            "type": "barpolar"
           }
          ],
          "carpet": [
           {
            "aaxis": {
             "endlinecolor": "#2a3f5f",
             "gridcolor": "white",
             "linecolor": "white",
             "minorgridcolor": "white",
             "startlinecolor": "#2a3f5f"
            },
            "baxis": {
             "endlinecolor": "#2a3f5f",
             "gridcolor": "white",
             "linecolor": "white",
             "minorgridcolor": "white",
             "startlinecolor": "#2a3f5f"
            },
            "type": "carpet"
           }
          ],
          "choropleth": [
           {
            "colorbar": {
             "outlinewidth": 0,
             "ticks": ""
            },
            "type": "choropleth"
           }
          ],
          "contour": [
           {
            "colorbar": {
             "outlinewidth": 0,
             "ticks": ""
            },
            "colorscale": [
             [
              0,
              "#0d0887"
             ],
             [
              0.1111111111111111,
              "#46039f"
             ],
             [
              0.2222222222222222,
              "#7201a8"
             ],
             [
              0.3333333333333333,
              "#9c179e"
             ],
             [
              0.4444444444444444,
              "#bd3786"
             ],
             [
              0.5555555555555556,
              "#d8576b"
             ],
             [
              0.6666666666666666,
              "#ed7953"
             ],
             [
              0.7777777777777778,
              "#fb9f3a"
             ],
             [
              0.8888888888888888,
              "#fdca26"
             ],
             [
              1,
              "#f0f921"
             ]
            ],
            "type": "contour"
           }
          ],
          "contourcarpet": [
           {
            "colorbar": {
             "outlinewidth": 0,
             "ticks": ""
            },
            "type": "contourcarpet"
           }
          ],
          "heatmap": [
           {
            "colorbar": {
             "outlinewidth": 0,
             "ticks": ""
            },
            "colorscale": [
             [
              0,
              "#0d0887"
             ],
             [
              0.1111111111111111,
              "#46039f"
             ],
             [
              0.2222222222222222,
              "#7201a8"
             ],
             [
              0.3333333333333333,
              "#9c179e"
             ],
             [
              0.4444444444444444,
              "#bd3786"
             ],
             [
              0.5555555555555556,
              "#d8576b"
             ],
             [
              0.6666666666666666,
              "#ed7953"
             ],
             [
              0.7777777777777778,
              "#fb9f3a"
             ],
             [
              0.8888888888888888,
              "#fdca26"
             ],
             [
              1,
              "#f0f921"
             ]
            ],
            "type": "heatmap"
           }
          ],
          "histogram": [
           {
            "marker": {
             "pattern": {
              "fillmode": "overlay",
              "size": 10,
              "solidity": 0.2
             }
            },
            "type": "histogram"
           }
          ],
          "histogram2d": [
           {
            "colorbar": {
             "outlinewidth": 0,
             "ticks": ""
            },
            "colorscale": [
             [
              0,
              "#0d0887"
             ],
             [
              0.1111111111111111,
              "#46039f"
             ],
             [
              0.2222222222222222,
              "#7201a8"
             ],
             [
              0.3333333333333333,
              "#9c179e"
             ],
             [
              0.4444444444444444,
              "#bd3786"
             ],
             [
              0.5555555555555556,
              "#d8576b"
             ],
             [
              0.6666666666666666,
              "#ed7953"
             ],
             [
              0.7777777777777778,
              "#fb9f3a"
             ],
             [
              0.8888888888888888,
              "#fdca26"
             ],
             [
              1,
              "#f0f921"
             ]
            ],
            "type": "histogram2d"
           }
          ],
          "histogram2dcontour": [
           {
            "colorbar": {
             "outlinewidth": 0,
             "ticks": ""
            },
            "colorscale": [
             [
              0,
              "#0d0887"
             ],
             [
              0.1111111111111111,
              "#46039f"
             ],
             [
              0.2222222222222222,
              "#7201a8"
             ],
             [
              0.3333333333333333,
              "#9c179e"
             ],
             [
              0.4444444444444444,
              "#bd3786"
             ],
             [
              0.5555555555555556,
              "#d8576b"
             ],
             [
              0.6666666666666666,
              "#ed7953"
             ],
             [
              0.7777777777777778,
              "#fb9f3a"
             ],
             [
              0.8888888888888888,
              "#fdca26"
             ],
             [
              1,
              "#f0f921"
             ]
            ],
            "type": "histogram2dcontour"
           }
          ],
          "mesh3d": [
           {
            "colorbar": {
             "outlinewidth": 0,
             "ticks": ""
            },
            "type": "mesh3d"
           }
          ],
          "parcoords": [
           {
            "line": {
             "colorbar": {
              "outlinewidth": 0,
              "ticks": ""
             }
            },
            "type": "parcoords"
           }
          ],
          "pie": [
           {
            "automargin": true,
            "type": "pie"
           }
          ],
          "scatter": [
           {
            "fillpattern": {
             "fillmode": "overlay",
             "size": 10,
             "solidity": 0.2
            },
            "type": "scatter"
           }
          ],
          "scatter3d": [
           {
            "line": {
             "colorbar": {
              "outlinewidth": 0,
              "ticks": ""
             }
            },
            "marker": {
             "colorbar": {
              "outlinewidth": 0,
              "ticks": ""
             }
            },
            "type": "scatter3d"
           }
          ],
          "scattercarpet": [
           {
            "marker": {
             "colorbar": {
              "outlinewidth": 0,
              "ticks": ""
             }
            },
            "type": "scattercarpet"
           }
          ],
          "scattergeo": [
           {
            "marker": {
             "colorbar": {
              "outlinewidth": 0,
              "ticks": ""
             }
            },
            "type": "scattergeo"
           }
          ],
          "scattergl": [
           {
            "marker": {
             "colorbar": {
              "outlinewidth": 0,
              "ticks": ""
             }
            },
            "type": "scattergl"
           }
          ],
          "scattermap": [
           {
            "marker": {
             "colorbar": {
              "outlinewidth": 0,
              "ticks": ""
             }
            },
            "type": "scattermap"
           }
          ],
          "scattermapbox": [
           {
            "marker": {
             "colorbar": {
              "outlinewidth": 0,
              "ticks": ""
             }
            },
            "type": "scattermapbox"
           }
          ],
          "scatterpolar": [
           {
            "marker": {
             "colorbar": {
              "outlinewidth": 0,
              "ticks": ""
             }
            },
            "type": "scatterpolar"
           }
          ],
          "scatterpolargl": [
           {
            "marker": {
             "colorbar": {
              "outlinewidth": 0,
              "ticks": ""
             }
            },
            "type": "scatterpolargl"
           }
          ],
          "scatterternary": [
           {
            "marker": {
             "colorbar": {
              "outlinewidth": 0,
              "ticks": ""
             }
            },
            "type": "scatterternary"
           }
          ],
          "surface": [
           {
            "colorbar": {
             "outlinewidth": 0,
             "ticks": ""
            },
            "colorscale": [
             [
              0,
              "#0d0887"
             ],
             [
              0.1111111111111111,
              "#46039f"
             ],
             [
              0.2222222222222222,
              "#7201a8"
             ],
             [
              0.3333333333333333,
              "#9c179e"
             ],
             [
              0.4444444444444444,
              "#bd3786"
             ],
             [
              0.5555555555555556,
              "#d8576b"
             ],
             [
              0.6666666666666666,
              "#ed7953"
             ],
             [
              0.7777777777777778,
              "#fb9f3a"
             ],
             [
              0.8888888888888888,
              "#fdca26"
             ],
             [
              1,
              "#f0f921"
             ]
            ],
            "type": "surface"
           }
          ],
          "table": [
           {
            "cells": {
             "fill": {
              "color": "#EBF0F8"
             },
             "line": {
              "color": "white"
             }
            },
            "header": {
             "fill": {
              "color": "#C8D4E3"
             },
             "line": {
              "color": "white"
             }
            },
            "type": "table"
           }
          ]
         },
         "layout": {
          "annotationdefaults": {
           "arrowcolor": "#2a3f5f",
           "arrowhead": 0,
           "arrowwidth": 1
          },
          "autotypenumbers": "strict",
          "coloraxis": {
           "colorbar": {
            "outlinewidth": 0,
            "ticks": ""
           }
          },
          "colorscale": {
           "diverging": [
            [
             0,
             "#8e0152"
            ],
            [
             0.1,
             "#c51b7d"
            ],
            [
             0.2,
             "#de77ae"
            ],
            [
             0.3,
             "#f1b6da"
            ],
            [
             0.4,
             "#fde0ef"
            ],
            [
             0.5,
             "#f7f7f7"
            ],
            [
             0.6,
             "#e6f5d0"
            ],
            [
             0.7,
             "#b8e186"
            ],
            [
             0.8,
             "#7fbc41"
            ],
            [
             0.9,
             "#4d9221"
            ],
            [
             1,
             "#276419"
            ]
           ],
           "sequential": [
            [
             0,
             "#0d0887"
            ],
            [
             0.1111111111111111,
             "#46039f"
            ],
            [
             0.2222222222222222,
             "#7201a8"
            ],
            [
             0.3333333333333333,
             "#9c179e"
            ],
            [
             0.4444444444444444,
             "#bd3786"
            ],
            [
             0.5555555555555556,
             "#d8576b"
            ],
            [
             0.6666666666666666,
             "#ed7953"
            ],
            [
             0.7777777777777778,
             "#fb9f3a"
            ],
            [
             0.8888888888888888,
             "#fdca26"
            ],
            [
             1,
             "#f0f921"
            ]
           ],
           "sequentialminus": [
            [
             0,
             "#0d0887"
            ],
            [
             0.1111111111111111,
             "#46039f"
            ],
            [
             0.2222222222222222,
             "#7201a8"
            ],
            [
             0.3333333333333333,
             "#9c179e"
            ],
            [
             0.4444444444444444,
             "#bd3786"
            ],
            [
             0.5555555555555556,
             "#d8576b"
            ],
            [
             0.6666666666666666,
             "#ed7953"
            ],
            [
             0.7777777777777778,
             "#fb9f3a"
            ],
            [
             0.8888888888888888,
             "#fdca26"
            ],
            [
             1,
             "#f0f921"
            ]
           ]
          },
          "colorway": [
           "#636efa",
           "#EF553B",
           "#00cc96",
           "#ab63fa",
           "#FFA15A",
           "#19d3f3",
           "#FF6692",
           "#B6E880",
           "#FF97FF",
           "#FECB52"
          ],
          "font": {
           "color": "#2a3f5f"
          },
          "geo": {
           "bgcolor": "white",
           "lakecolor": "white",
           "landcolor": "#E5ECF6",
           "showlakes": true,
           "showland": true,
           "subunitcolor": "white"
          },
          "hoverlabel": {
           "align": "left"
          },
          "hovermode": "closest",
          "mapbox": {
           "style": "light"
          },
          "paper_bgcolor": "white",
          "plot_bgcolor": "#E5ECF6",
          "polar": {
           "angularaxis": {
            "gridcolor": "white",
            "linecolor": "white",
            "ticks": ""
           },
           "bgcolor": "#E5ECF6",
           "radialaxis": {
            "gridcolor": "white",
            "linecolor": "white",
            "ticks": ""
           }
          },
          "scene": {
           "xaxis": {
            "backgroundcolor": "#E5ECF6",
            "gridcolor": "white",
            "gridwidth": 2,
            "linecolor": "white",
            "showbackground": true,
            "ticks": "",
            "zerolinecolor": "white"
           },
           "yaxis": {
            "backgroundcolor": "#E5ECF6",
            "gridcolor": "white",
            "gridwidth": 2,
            "linecolor": "white",
            "showbackground": true,
            "ticks": "",
            "zerolinecolor": "white"
           },
           "zaxis": {
            "backgroundcolor": "#E5ECF6",
            "gridcolor": "white",
            "gridwidth": 2,
            "linecolor": "white",
            "showbackground": true,
            "ticks": "",
            "zerolinecolor": "white"
           }
          },
          "shapedefaults": {
           "line": {
            "color": "#2a3f5f"
           }
          },
          "ternary": {
           "aaxis": {
            "gridcolor": "white",
            "linecolor": "white",
            "ticks": ""
           },
           "baxis": {
            "gridcolor": "white",
            "linecolor": "white",
            "ticks": ""
           },
           "bgcolor": "#E5ECF6",
           "caxis": {
            "gridcolor": "white",
            "linecolor": "white",
            "ticks": ""
           }
          },
          "title": {
           "x": 0.05
          },
          "xaxis": {
           "automargin": true,
           "gridcolor": "white",
           "linecolor": "white",
           "ticks": "",
           "title": {
            "standoff": 15
           },
           "zerolinecolor": "white",
           "zerolinewidth": 2
          },
          "yaxis": {
           "automargin": true,
           "gridcolor": "white",
           "linecolor": "white",
           "ticks": "",
           "title": {
            "standoff": 15
           },
           "zerolinecolor": "white",
           "zerolinewidth": 2
          }
         }
        },
        "title": {
         "text": "Histogram of bootstrap sample means"
        },
        "width": 700,
        "xaxis": {
         "title": {
          "text": "Bootstrap sample means"
         }
        },
        "yaxis": {
         "title": {
          "text": "Probability"
         }
        }
       }
      },
      "text/html": [
       "<div>                        <script type=\"text/javascript\">window.PlotlyConfig = {MathJaxConfig: 'local'};</script>\n",
       "        <script charset=\"utf-8\" src=\"https://cdn.plot.ly/plotly-3.0.1.min.js\"></script>                <div id=\"31d52bf3-3300-484e-b790-328652a5dc07\" class=\"plotly-graph-div\" style=\"height:100%; width:700px;\"></div>            <script type=\"text/javascript\">                window.PLOTLYENV=window.PLOTLYENV || {};                                if (document.getElementById(\"31d52bf3-3300-484e-b790-328652a5dc07\")) {                    Plotly.newPlot(                        \"31d52bf3-3300-484e-b790-328652a5dc07\",                        [{\"histnorm\":\"probability\",\"x\":[77.5861881883197,77.83153363410538,79.08478275356897,79.67406311321193,77.86986822354831,79.97969629411705,74.35095133304392,77.74571791171742,80.1344974946358,77.18067556961199,76.70679765276203,74.24692376716466,75.98008499006976,72.81256736469231,77.64791058547945,80.36720055257076,73.68022574713714,77.4878347626918,78.55715459607669,75.12027175070641,77.62096008602087,77.85011694342302,74.43861253841445,73.79387906299475,73.35510610061367,77.95096171991885,72.61183028525923,73.18658754865444,75.39433725946166,72.80383646394512,75.4811410636699,76.81970165317934,74.56860336441038,74.07812454229578,74.00899157015397,72.8052923067643,71.2350038826191,79.41698124158098,79.47021078677153,76.39295246451208,76.72022876883824,72.89739759750942,71.05594585693702,72.00804358340811,74.64950933124216,71.75597004073593,75.92032167336896,75.85847797048491,75.41137703897544,75.78522394561232,77.69672283202891,77.28989856809311,75.4481367777642,75.02114378154232,75.17787534648049,77.66071619381881,77.48784371734219,76.19111749695374,72.03027320773418,70.90301806845582,77.92094590286582,78.47525391495184,75.62690851506008,73.5060881510075,78.92374170264681,76.84978764157611,71.21219866185066,75.6704164316546,70.00982989190963,76.16882172906534,74.34508297887517,78.55131723115964,76.21509608749531,74.3431838053281,76.58955663390415,79.5817730655714,75.59269835719215,73.31385946144668,78.37457263954396,74.45509414108717,73.39773707350307,77.15450644942123,74.53296736431068,73.58729376701564,75.4367595077543,77.06112807000144,78.18279552715093,74.36437446984023,75.74851869567998,75.62330094195607,75.33378543673439,80.67502984054934,75.00269932964834,76.08176853223038,75.0362797980456,79.2242570517984,72.36568499081486,73.41619035722138,80.15993813310918,77.76253669897946,77.67142456019891,74.49649448087612,72.58813931902178,76.0054088434875,72.05642979832945,72.91679157451951,76.07796828734179,75.84513286304653,76.7559997362666,73.8527805402221,75.59979105499691,77.72542557577631,76.25242782588461,82.03995351791873,69.08161214186545,69.91051670875689,77.82780278255089,75.43644657574144,75.73107646860784,76.5810522609117,69.44958735246018,78.12533923698548,76.74792584967902,77.25625062731272,77.45867245885925,74.03513919272557,80.89801482621156,75.91805542035976,78.08491771188581,76.09155151246827,71.72387762500878,74.03825539992427,77.82349800809898,75.20194873374983,75.85388790708375,78.36453381915086,79.09268767851879,70.69505612833909,72.99781783050047,75.97859090387146,76.9354760638474,77.84459730578735,76.04095481223209,79.21780200049639,73.44579487407951,76.10167154522199,78.36341201898146,79.54098900422309,75.3541917523931,75.53607003657271,75.48421529547777,77.81104484327615,72.90769683976525,72.343968194298,77.10044054115748,77.26880266861279,77.56962820220787,79.41256287356983,77.35122613086178,74.44601613788623,74.71260521510946,77.6903236780036,70.5582174160339,73.95013484629474,74.46741045874198,75.65777243752613,71.83747942625273,77.62565033755575,72.8104701758914,74.83239085060478,75.3881307683704,77.17284322465244,74.98853564372062,73.10116848432808,75.52501914666495,72.23672853643033,75.98230592358485,71.47834726795645,76.66055312917155,76.42156329991627,74.90732847022501,71.79794814012878,73.66707136349946,74.08613833888218,75.62619381660242,78.10243300245205,74.7718402093623,77.50924028535482,67.85134718064475,73.67766110223425,73.79261910057696,73.39277848725338,70.25862973671474,78.81174359468976,74.19294906668787,74.81510729272709,73.92943599553581,79.63052454868453,78.7404218458052,76.47800491211738,74.23323214577444,69.97787959899979,77.52795247958356,79.98168111773974,76.26538038193252,74.96179319824584,69.72820862041024,72.08031904333106,74.62318256424986,72.89273481571617,79.71412228994289,82.50802979716028,77.79772259225828,75.00857993562853,72.32587426488912,77.64614361785075,72.56318249469996,75.16542269676675,76.59720677710665,74.3168896417215,77.4029487970513,80.72620810333021,76.49477515338066,79.972961566482,73.97545655992909,75.1238121506977,72.32802759770145,76.062895398494,80.26180596376905,79.77327782649644,75.62448083318365,77.20167773947924,74.07093574117536,71.92892337352082,74.11486540038527,78.21380400327389,75.67440818121159,74.62780633903147,71.08052779825702,78.03019539706287,76.03661460144855,75.34904572232502,74.99359311005217,75.64999552605131,74.10945528222969,77.20824018839554,70.59498228757448,72.9490985249863,74.25434117660475,75.783176470919,71.47838071974712,75.65169525102175,73.23291701068636,80.22821097799552,74.63399373376599,78.54773453956099,73.9036446927567,74.70923855163478,73.05354228816131,75.44785467588771,73.05085276902052,80.3671188638209,75.48689541417916,73.83102909038513,78.63532666828625,72.09947707258304,78.11631457889682,77.23545871102696,78.86459599888494,77.45487305452161,73.2967401656597,72.0075301118192,75.47438864650056,69.28653898026555,76.59912993844326,73.92136974587598,74.55026212764574,74.91749816938632,75.44092980119281,80.3384884768035,74.60905309760366,73.50011971917216,71.80857067595937,74.95286235315477,76.65991078006078,75.37054891750807,78.37964211303145,78.4611954704783,74.04450194128906,73.81046998183692,76.96892064165544,75.4822059039136,67.758077176622,76.11066854634969,73.14228105975327,73.12511631031157,77.14654831539238,79.81772152219224,71.2253382857008,75.33700428693875,74.0683860569276,79.90221775765654,71.68381943732632,73.73628943801471,71.88434125686037,74.32769247503259,77.63218670770294,72.87259358491133,75.58024320477406,75.45593998529543,78.88338673851698,80.85994951614934,80.52956737389455,70.7943717813862,76.09573418618466,74.23821346689448,71.24062555407161,79.73361286300113,73.12673022170473,75.56702610637505,73.42547339405628,78.63004615231507,74.60615345725233,71.32808697208465,73.67692351708448,74.1090796160783,66.83249903571044,74.4965610112358,76.84963552915511,79.32782231614584,77.1461555447294,81.06483926370676,75.69936721355398,77.04702648114389,78.73468477627245,74.31661229283569,78.51676974622323,78.2687181896325,76.52002176972812,78.0906036158032,73.98265001066234,69.93798324035919,79.78165721663562,75.43897354773704,78.21224092636838,74.74926988962768,74.47180333757201,75.96962095974378,75.23841919822836,73.4542773990623,80.09131818263153,69.79313046104683,75.65731537947231,73.9996362888508,73.85377011935476,74.09244629254073,77.85353832560845,76.8107735082579,75.34547263765451,74.54077189221242,76.86586807046903,75.44364662461157,71.94951993048082,75.5862119120936,74.9589030432856,72.60697804256704,73.02581409731711,73.7200424164051,78.87365739838104,73.00978724573744,77.0450004048302,77.82766209075426,80.869656693903,77.32897227927269,77.12856577397388,74.19544136753312,75.44970170116147,77.20091104096147,70.58351895180085,79.12251428098698,74.32171660632761,74.63011687604471,73.95077408442545,69.80456287928334,79.29859691792942,75.95936961345038,73.32298773524306,77.3223052445055,75.28904177580236,78.6353549350198,73.45925744908922,74.59722333176263,74.11673678221489,74.45431398550161,71.50598631268043,77.608063496665,76.22170228438476,75.14707098026885,76.44527023435535,77.79328437652903,73.82822027027537,75.1603088386237,76.11609290347467,75.82916130188791,72.50145042159605,75.39330504035452,78.08093669673836,77.76823685933972,72.50176164043144,70.6020031307893,77.6546934790273,73.73632044304682,75.60782454563763,72.03734457648326,73.37117648768903,75.42123818741453,77.20309776526504,73.66795784053662,76.42826621568283,77.23892812568592,73.58281962386202,75.89216660833897,77.32113446440798,78.06085496519736,75.07902539760815,75.0459823997473,79.16844365211091,74.90848239751303,71.82925506348865,73.04399219826388,75.09665833332348,76.2666885718999,75.62456040654777,79.15844199768019,79.57315174864512,78.01734021365223,77.87449846672838,73.61996752627041,75.56339951902989,70.27021706414786,73.13016958797535,76.73287496750982,76.49083726617864,76.67177228121841,73.779042969995,78.46086459848783,79.42711187309214,76.15014103287893,73.80661132612774,70.70753412059648,75.42214035584357,75.63154280812344,75.63936433149685,73.8926732255155,76.97369109579914,74.3087351758498,75.07949429953368,75.27876279894514,75.35794863417374,71.85881153538914,79.54117609193577,77.71042971147371,73.17068698430803,77.1902619050726,74.1289739102971,70.59002330007773,79.46923539535452,70.33917465102128,73.8216641904943,74.88279192642285,72.71688754355198,69.15778614490567,74.44430286061775,74.94829301409708,69.78106476782483,77.90717645680719,76.9330044577088,75.78982799445939,74.04019148931235,77.81430625108152,77.39656490509293,79.05556328154961,77.84210014460767,71.51683037980496,76.74753591501822,75.44620498267005,74.50109912227099,74.23577306731481,79.73981340661301,74.72185672586106,75.68222296202437,70.68466090943856,73.41984314868074,73.76653540564679,73.67328067159227,75.63720287907637,80.10319918372198,76.51841626052392,80.49229551182898,74.03319468907844,74.7435948438735,74.15090645820452,79.17482956324186,77.40416683030108,81.40509100963912,74.55118182421394,77.82729550786753,74.30842340559232,73.58980458620327,76.10627954813718,77.13621893851177,70.97813091144879,71.44531932486488,74.77363167412535,75.47488091913192,75.63534506188101,78.66620742060094,74.32338844654376,70.6693761716706,76.4267206616327,72.55660443008006,75.4512628808577,74.73488733174351,73.7045462863611,70.25967448381608,74.73069048794173,72.63186193879908,76.68545905743092,72.67817160628219,72.25279459880296,73.62651859969758,76.01591010604058,74.5109453314585,70.13542084620181,81.21011666186047,76.75125386669902,75.0147713616906,73.19932236139987,76.35105050245933,73.57410329582689,73.86139007581372,75.53445497919715,67.64529211324445,75.88824146694536,74.35161789358128,77.0522588707368,74.99679368158873,72.95111055077442,75.39211927263017,72.52343345752767,78.54413626260137,71.7522453496177,77.37440679264824,73.48381592339918,74.78608795579825,73.98706248746801,77.52114997657162,68.22650228306544,73.70802800148029,72.75125878056323,72.04022823966872,76.5029889729057,73.18776025271289,76.34876943677278,74.99190078814476,74.44970892969204,74.32224151455782,74.74778263389271,75.52982617115501,79.31588140784744,76.95813050060138,74.3706972024563,74.98003904270053,76.52113221468416,77.08162134125425,71.7427784225345,75.7516923388442,74.10019089644996,73.8920991453795,79.11719100858915,76.66213968079938,76.13916539208773,78.2733865885548,81.0347133421587,76.71673989084317,77.09150776053613,76.92586386471227,77.18872355788811,75.35935323782851,76.65688503357919,74.0067592092289,75.70065670713183,72.83352674104039,76.7805970591804,73.88397607494896,74.0622188921843,74.95339350718162,77.94773364370711,76.85985489884327,78.503021822483,72.7093862372893,74.37095476197264,76.00080544501434,75.33878219495155,72.61139979592328,75.55099295300951,75.488009929027,79.86128740614272,79.52592102063346,76.75803789216654,67.75030420997876,77.99256625829817,77.77352222228127,74.36921792244082,75.21416406999968,73.16908262763376,80.7476463183016,78.15755155814186,80.34662812824452,74.24094549649683,79.51959102641224,73.67033209936115,78.63001038392024,71.77664874649982,73.5191990762833,75.24982680963512,78.59122673237526,73.80853346778123,77.80114204970866,77.53986238239212,73.43593253088177,76.55817104282292,73.41803965014255,70.6058052202624,78.38506614472446,74.68040172362541,79.302774703157,72.77940523641662,71.69864495827359,76.81488253802958,77.07603052254481,75.93254887709864,76.01902605693923,73.43233364730457,73.40259322714556,74.31722279132472,72.66512478034747,74.23574862779768,77.65151974486535,77.53054782324942,72.14969465745088,73.27963509243502,72.34279145727764,74.1271118242354,72.9507159136359,70.4715056766001,74.24173166505093,73.82115466330761,69.0633614064927,71.19401359928946,75.97939682710765,76.94940041741408,76.22645797156288,79.86008661655848,71.15373197876973,77.83500002652232,74.68802119871768,77.98230542228686,75.54364847294622,72.975189031594,72.60506582171567,74.73532680118339,77.64977366419325,75.80415262750797,75.26048330011714,74.91595017836882,77.15289417375949,78.33909589179532,73.16678663885337,71.04535876981309,76.04140181432534,69.76433359699135,70.84419170571879,68.38929902022359,73.7836027248241,75.53276176226112,75.63370890849879,73.74755822101852,76.18357463285975,72.35500792871886,75.14815816666949,77.28114049157688,74.61510204589877,74.52621324739808,81.05174594863048,77.08294084193095,75.71792136806101,73.20424278909634,75.49964115300364,68.46088158155541,72.49258743927034,71.5741725753773,77.92947908133705,75.07575268522695,73.76826322230137,73.15543769207845,78.09800609740162,73.89175215975521,75.84633311564643,73.73340339970197,75.89073206268588,77.70340105853262,79.15583549249023,75.52160078883576,73.59857607070866,75.09617644804659,78.8860184963926,77.49726392956545,76.09308032388996,79.97458920166262,75.55311199640087,79.56499734056734,74.57988554903136,71.70633443385037,74.01607625629755,70.50368943057234,75.85270673606436,74.55628146553572,77.38573085847635,73.77721616705477,73.2351541973008,72.23999937775802,76.4862919823415,74.43130603496797,73.5496957970726,71.48928342293702,75.22817037284484,76.16176533817925,74.1504577077238,76.04557826358773,75.24912768690565,76.34797611399173,74.24537666301556,71.79191817831688,73.72608907678475,77.12110341065024,72.8162217961873,72.75274628483794,76.19297923355226,79.52491648407974,71.94186338309642,73.7394592365269,73.299661995181,75.77261123952636,76.93011227654367,75.14443608084144,80.58688129916638,74.38302638889834,73.3254222681417,73.47182844818302,78.48661643032405,73.58928568886758,78.24706841999516,76.5629006917154,76.67387653309804,76.94103155606739,71.50871234305345,78.65803959237324,78.14477912820642,74.69604179684488,74.79190145983539,73.4080504185743,74.77982778877838,79.8185218888446,74.03885186153992,81.46870079481964,79.43151562311692,73.84943549331064,81.73906616176262,73.23784462961883,72.02957473939799,76.47198525390962,75.2142358210245,77.41822220187227,76.52460983760534,77.1289888153999,79.09945475111324,77.54374264010886,74.19337232674835,75.53124716248593,76.19632698585964,71.56267715107302,78.64361788523937,75.11518843255885,78.76791359702649,75.50160529878015,75.95699677952652,73.33600457149078,76.86656793289337,77.81851901256371,73.66708620382131,75.68791901143274,80.92386274240981,78.96659839862983,72.9835472535739,74.65592284446095,75.0305863382785,76.52980622372476,76.73596452808071,82.99568672228834,78.19150891141446,78.10436118368092,79.76899288887788,77.08824196070405,77.47818262100876,77.54741250032298,77.30775859402092,74.56245379286922,75.60963396542589,82.25856920336051,74.71201906682626,74.80912616672946,75.52772645378123,72.65722357587259,79.3682410505572,76.60948819096515,72.25841515326597,72.40726749850674,79.62455358193705,76.05652575918415,74.25888032120416,76.70671410899482,76.50250014529557,75.4970788478112,72.84523988135956,81.23730075641352,76.27488682693551,74.5048828571009,77.14996053424265,72.00250896567624,78.16284681669278,74.40244862622028,79.23581372571682,74.77439332581108,78.88865857493475,77.96517777701966,75.7453929702734,74.83986563765966,78.39385921677793,74.80934672366784,72.82836628783225,75.78535830747632,74.02037462794353,72.71722211508492,73.58786222161957,77.37494134411983,74.36016067213056,78.09943326168943,67.67693669332142,79.15942682370111,77.57757848788131,75.90162019315711,72.67535653262593,75.57206609815859,77.38676651071594,77.7720889661669,80.97747398888983,74.45536952913999,79.07100431445492,78.74487653272023,74.67473895234095,78.42248501936575,75.32793544136636,77.4761177220061,75.67834345474327,70.76452857029349,73.63214640001242,72.31760684522197,75.8137261515456,73.7604983191196,77.89773578493288,79.26788217112382,73.49911189688238,72.60330268480523,78.34717767567994,76.2104825238614,75.87084032060905,73.08495751715995,77.28136680193938,77.56073791944559,72.40934368508054,76.69016772637707,79.20494858404142,79.05322673374884,73.51110778400742,74.8954938297977,75.6775544339009,77.72513595001016,77.39544710012542,72.29961925457272,74.57691601889813,75.18483838460521,75.8541809235761,73.90786886134747,79.93413739825256,75.8700916748916,72.89823668472897,74.52719036957959,74.2868684367425,77.88978758619437,79.13866639910468,75.07164986058874,75.50079371576771,76.28850951773502,74.7172194033844,72.8074799845521,73.03534186048664,76.92741806164626,79.75237453892005,70.57531831540008,75.49081014987885,76.41924241460045,73.23801172571166,77.93408631182689,77.52428473840847,73.75638532720767,75.77510725667841,76.94506719791192,79.05044101595503,75.14191366007293,78.00124190394236,76.16797264041324,74.91473953603548,74.95877314944731,73.52307730612918,76.44578273782547,76.81623359593989,73.8072461581426,68.736347858382,76.73267128366135,77.0801380114609,74.83075380981633,72.04794431501335,78.78052476748809,74.85434423732218,74.6265107801431,77.71504834915991,73.33747726619244,80.62177276288834,71.89457713755328,78.01000142472552,74.11702417817179,74.32041261741638,76.98050325830339,78.92269533925143,72.38541559698098,73.35679551371213,75.26240037689874,77.4112388110955,74.92421665808284,76.14171217386368,74.86872342828669,76.2056726645953,68.96376315613803,75.14235132487153,76.7534506527009,73.80800794649188,72.27366909215992,73.7187211476483,77.11324485055964,78.37432735094914,72.47720168706901,75.67480470382237,75.55750775271532,78.86804787678108,69.6489139578419,80.35123954052347,74.39193764398458,79.68499648206279,80.38153467025676,76.6364814689475,69.12208491482207,72.87915191545184,75.75413818365317,75.32620942751932,71.1502131296823,73.91549786641303,73.59089753507958,74.7876886561456,74.52849971159502,75.29684843794408,77.2278243761581,75.05504542675506,73.96676136884307,70.18138771549698,72.85457655376426,77.4648463657718,69.54484748670484,74.90374464513927,70.89653745671544],\"type\":\"histogram\"}],                        {\"template\":{\"data\":{\"histogram2dcontour\":[{\"type\":\"histogram2dcontour\",\"colorbar\":{\"outlinewidth\":0,\"ticks\":\"\"},\"colorscale\":[[0.0,\"#0d0887\"],[0.1111111111111111,\"#46039f\"],[0.2222222222222222,\"#7201a8\"],[0.3333333333333333,\"#9c179e\"],[0.4444444444444444,\"#bd3786\"],[0.5555555555555556,\"#d8576b\"],[0.6666666666666666,\"#ed7953\"],[0.7777777777777778,\"#fb9f3a\"],[0.8888888888888888,\"#fdca26\"],[1.0,\"#f0f921\"]]}],\"choropleth\":[{\"type\":\"choropleth\",\"colorbar\":{\"outlinewidth\":0,\"ticks\":\"\"}}],\"histogram2d\":[{\"type\":\"histogram2d\",\"colorbar\":{\"outlinewidth\":0,\"ticks\":\"\"},\"colorscale\":[[0.0,\"#0d0887\"],[0.1111111111111111,\"#46039f\"],[0.2222222222222222,\"#7201a8\"],[0.3333333333333333,\"#9c179e\"],[0.4444444444444444,\"#bd3786\"],[0.5555555555555556,\"#d8576b\"],[0.6666666666666666,\"#ed7953\"],[0.7777777777777778,\"#fb9f3a\"],[0.8888888888888888,\"#fdca26\"],[1.0,\"#f0f921\"]]}],\"heatmap\":[{\"type\":\"heatmap\",\"colorbar\":{\"outlinewidth\":0,\"ticks\":\"\"},\"colorscale\":[[0.0,\"#0d0887\"],[0.1111111111111111,\"#46039f\"],[0.2222222222222222,\"#7201a8\"],[0.3333333333333333,\"#9c179e\"],[0.4444444444444444,\"#bd3786\"],[0.5555555555555556,\"#d8576b\"],[0.6666666666666666,\"#ed7953\"],[0.7777777777777778,\"#fb9f3a\"],[0.8888888888888888,\"#fdca26\"],[1.0,\"#f0f921\"]]}],\"contourcarpet\":[{\"type\":\"contourcarpet\",\"colorbar\":{\"outlinewidth\":0,\"ticks\":\"\"}}],\"contour\":[{\"type\":\"contour\",\"colorbar\":{\"outlinewidth\":0,\"ticks\":\"\"},\"colorscale\":[[0.0,\"#0d0887\"],[0.1111111111111111,\"#46039f\"],[0.2222222222222222,\"#7201a8\"],[0.3333333333333333,\"#9c179e\"],[0.4444444444444444,\"#bd3786\"],[0.5555555555555556,\"#d8576b\"],[0.6666666666666666,\"#ed7953\"],[0.7777777777777778,\"#fb9f3a\"],[0.8888888888888888,\"#fdca26\"],[1.0,\"#f0f921\"]]}],\"surface\":[{\"type\":\"surface\",\"colorbar\":{\"outlinewidth\":0,\"ticks\":\"\"},\"colorscale\":[[0.0,\"#0d0887\"],[0.1111111111111111,\"#46039f\"],[0.2222222222222222,\"#7201a8\"],[0.3333333333333333,\"#9c179e\"],[0.4444444444444444,\"#bd3786\"],[0.5555555555555556,\"#d8576b\"],[0.6666666666666666,\"#ed7953\"],[0.7777777777777778,\"#fb9f3a\"],[0.8888888888888888,\"#fdca26\"],[1.0,\"#f0f921\"]]}],\"mesh3d\":[{\"type\":\"mesh3d\",\"colorbar\":{\"outlinewidth\":0,\"ticks\":\"\"}}],\"scatter\":[{\"fillpattern\":{\"fillmode\":\"overlay\",\"size\":10,\"solidity\":0.2},\"type\":\"scatter\"}],\"parcoords\":[{\"type\":\"parcoords\",\"line\":{\"colorbar\":{\"outlinewidth\":0,\"ticks\":\"\"}}}],\"scatterpolargl\":[{\"type\":\"scatterpolargl\",\"marker\":{\"colorbar\":{\"outlinewidth\":0,\"ticks\":\"\"}}}],\"bar\":[{\"error_x\":{\"color\":\"#2a3f5f\"},\"error_y\":{\"color\":\"#2a3f5f\"},\"marker\":{\"line\":{\"color\":\"#E5ECF6\",\"width\":0.5},\"pattern\":{\"fillmode\":\"overlay\",\"size\":10,\"solidity\":0.2}},\"type\":\"bar\"}],\"scattergeo\":[{\"type\":\"scattergeo\",\"marker\":{\"colorbar\":{\"outlinewidth\":0,\"ticks\":\"\"}}}],\"scatterpolar\":[{\"type\":\"scatterpolar\",\"marker\":{\"colorbar\":{\"outlinewidth\":0,\"ticks\":\"\"}}}],\"histogram\":[{\"marker\":{\"pattern\":{\"fillmode\":\"overlay\",\"size\":10,\"solidity\":0.2}},\"type\":\"histogram\"}],\"scattergl\":[{\"type\":\"scattergl\",\"marker\":{\"colorbar\":{\"outlinewidth\":0,\"ticks\":\"\"}}}],\"scatter3d\":[{\"type\":\"scatter3d\",\"line\":{\"colorbar\":{\"outlinewidth\":0,\"ticks\":\"\"}},\"marker\":{\"colorbar\":{\"outlinewidth\":0,\"ticks\":\"\"}}}],\"scattermap\":[{\"type\":\"scattermap\",\"marker\":{\"colorbar\":{\"outlinewidth\":0,\"ticks\":\"\"}}}],\"scattermapbox\":[{\"type\":\"scattermapbox\",\"marker\":{\"colorbar\":{\"outlinewidth\":0,\"ticks\":\"\"}}}],\"scatterternary\":[{\"type\":\"scatterternary\",\"marker\":{\"colorbar\":{\"outlinewidth\":0,\"ticks\":\"\"}}}],\"scattercarpet\":[{\"type\":\"scattercarpet\",\"marker\":{\"colorbar\":{\"outlinewidth\":0,\"ticks\":\"\"}}}],\"carpet\":[{\"aaxis\":{\"endlinecolor\":\"#2a3f5f\",\"gridcolor\":\"white\",\"linecolor\":\"white\",\"minorgridcolor\":\"white\",\"startlinecolor\":\"#2a3f5f\"},\"baxis\":{\"endlinecolor\":\"#2a3f5f\",\"gridcolor\":\"white\",\"linecolor\":\"white\",\"minorgridcolor\":\"white\",\"startlinecolor\":\"#2a3f5f\"},\"type\":\"carpet\"}],\"table\":[{\"cells\":{\"fill\":{\"color\":\"#EBF0F8\"},\"line\":{\"color\":\"white\"}},\"header\":{\"fill\":{\"color\":\"#C8D4E3\"},\"line\":{\"color\":\"white\"}},\"type\":\"table\"}],\"barpolar\":[{\"marker\":{\"line\":{\"color\":\"#E5ECF6\",\"width\":0.5},\"pattern\":{\"fillmode\":\"overlay\",\"size\":10,\"solidity\":0.2}},\"type\":\"barpolar\"}],\"pie\":[{\"automargin\":true,\"type\":\"pie\"}]},\"layout\":{\"autotypenumbers\":\"strict\",\"colorway\":[\"#636efa\",\"#EF553B\",\"#00cc96\",\"#ab63fa\",\"#FFA15A\",\"#19d3f3\",\"#FF6692\",\"#B6E880\",\"#FF97FF\",\"#FECB52\"],\"font\":{\"color\":\"#2a3f5f\"},\"hovermode\":\"closest\",\"hoverlabel\":{\"align\":\"left\"},\"paper_bgcolor\":\"white\",\"plot_bgcolor\":\"#E5ECF6\",\"polar\":{\"bgcolor\":\"#E5ECF6\",\"angularaxis\":{\"gridcolor\":\"white\",\"linecolor\":\"white\",\"ticks\":\"\"},\"radialaxis\":{\"gridcolor\":\"white\",\"linecolor\":\"white\",\"ticks\":\"\"}},\"ternary\":{\"bgcolor\":\"#E5ECF6\",\"aaxis\":{\"gridcolor\":\"white\",\"linecolor\":\"white\",\"ticks\":\"\"},\"baxis\":{\"gridcolor\":\"white\",\"linecolor\":\"white\",\"ticks\":\"\"},\"caxis\":{\"gridcolor\":\"white\",\"linecolor\":\"white\",\"ticks\":\"\"}},\"coloraxis\":{\"colorbar\":{\"outlinewidth\":0,\"ticks\":\"\"}},\"colorscale\":{\"sequential\":[[0.0,\"#0d0887\"],[0.1111111111111111,\"#46039f\"],[0.2222222222222222,\"#7201a8\"],[0.3333333333333333,\"#9c179e\"],[0.4444444444444444,\"#bd3786\"],[0.5555555555555556,\"#d8576b\"],[0.6666666666666666,\"#ed7953\"],[0.7777777777777778,\"#fb9f3a\"],[0.8888888888888888,\"#fdca26\"],[1.0,\"#f0f921\"]],\"sequentialminus\":[[0.0,\"#0d0887\"],[0.1111111111111111,\"#46039f\"],[0.2222222222222222,\"#7201a8\"],[0.3333333333333333,\"#9c179e\"],[0.4444444444444444,\"#bd3786\"],[0.5555555555555556,\"#d8576b\"],[0.6666666666666666,\"#ed7953\"],[0.7777777777777778,\"#fb9f3a\"],[0.8888888888888888,\"#fdca26\"],[1.0,\"#f0f921\"]],\"diverging\":[[0,\"#8e0152\"],[0.1,\"#c51b7d\"],[0.2,\"#de77ae\"],[0.3,\"#f1b6da\"],[0.4,\"#fde0ef\"],[0.5,\"#f7f7f7\"],[0.6,\"#e6f5d0\"],[0.7,\"#b8e186\"],[0.8,\"#7fbc41\"],[0.9,\"#4d9221\"],[1,\"#276419\"]]},\"xaxis\":{\"gridcolor\":\"white\",\"linecolor\":\"white\",\"ticks\":\"\",\"title\":{\"standoff\":15},\"zerolinecolor\":\"white\",\"automargin\":true,\"zerolinewidth\":2},\"yaxis\":{\"gridcolor\":\"white\",\"linecolor\":\"white\",\"ticks\":\"\",\"title\":{\"standoff\":15},\"zerolinecolor\":\"white\",\"automargin\":true,\"zerolinewidth\":2},\"scene\":{\"xaxis\":{\"backgroundcolor\":\"#E5ECF6\",\"gridcolor\":\"white\",\"linecolor\":\"white\",\"showbackground\":true,\"ticks\":\"\",\"zerolinecolor\":\"white\",\"gridwidth\":2},\"yaxis\":{\"backgroundcolor\":\"#E5ECF6\",\"gridcolor\":\"white\",\"linecolor\":\"white\",\"showbackground\":true,\"ticks\":\"\",\"zerolinecolor\":\"white\",\"gridwidth\":2},\"zaxis\":{\"backgroundcolor\":\"#E5ECF6\",\"gridcolor\":\"white\",\"linecolor\":\"white\",\"showbackground\":true,\"ticks\":\"\",\"zerolinecolor\":\"white\",\"gridwidth\":2}},\"shapedefaults\":{\"line\":{\"color\":\"#2a3f5f\"}},\"annotationdefaults\":{\"arrowcolor\":\"#2a3f5f\",\"arrowhead\":0,\"arrowwidth\":1},\"geo\":{\"bgcolor\":\"white\",\"landcolor\":\"#E5ECF6\",\"subunitcolor\":\"white\",\"showland\":true,\"showlakes\":true,\"lakecolor\":\"white\"},\"title\":{\"x\":0.05},\"mapbox\":{\"style\":\"light\"}}},\"title\":{\"text\":\"Histogram of bootstrap sample means\"},\"xaxis\":{\"title\":{\"text\":\"Bootstrap sample means\"}},\"yaxis\":{\"title\":{\"text\":\"Probability\"}},\"width\":700},                        {\"responsive\": true}                    )                };            </script>        </div>"
      ],
      "text/plain": [
       "Figure({\n",
       "    'data': [{'histnorm': 'probability',\n",
       "              'type': 'histogram',\n",
       "              'x': [77.5861881883197, 77.83153363410538, 79.08478275356897, ...,\n",
       "                    69.54484748670484, 74.90374464513927, 70.89653745671544]}],\n",
       "    'layout': {'template': '...',\n",
       "               'title': {'text': 'Histogram of bootstrap sample means'},\n",
       "               'width': 700,\n",
       "               'xaxis': {'title': {'text': 'Bootstrap sample means'}},\n",
       "               'yaxis': {'title': {'text': 'Probability'}}}\n",
       "})"
      ]
     },
     "execution_count": 75,
     "metadata": {},
     "output_type": "execute_result"
    }
   ],
   "source": [
    "# Create a histogram of the bootstrap sample means\n",
    "fig = graph_objects.Figure(\n",
    "    graph_objects.Histogram(\n",
    "        x=x_bar_bootstrap_vals,\n",
    "        histnorm='probability'\n",
    "    )\n",
    ")\n",
    "\n",
    "fig.update_layout(\n",
    "    title='Histogram of bootstrap sample means',\n",
    "    xaxis_title='Bootstrap sample means',\n",
    "    yaxis_title='Probability',\n",
    "    width=700\n",
    ")\n"
   ]
  },
  {
   "cell_type": "code",
   "execution_count": 76,
   "metadata": {},
   "outputs": [
    {
     "data": {
      "text/plain": [
       "np.float64(75.41865764207148)"
      ]
     },
     "execution_count": 76,
     "metadata": {},
     "output_type": "execute_result"
    }
   ],
   "source": [
    "# Calculate the mean of the bootstrap sample means and assign it to the variable x_bar_bootstrap\n",
    "x_bar_bootstrap = numpy.mean(x_bar_bootstrap_vals)\n",
    "x_bar_bootstrap"
   ]
  },
  {
   "cell_type": "code",
   "execution_count": 77,
   "metadata": {},
   "outputs": [],
   "source": [
    "# Sort the values in x_bar_bootstrap_vals and show the 25th value\n",
    "x_bar_bootstrap_vals.sort()"
   ]
  },
  {
   "cell_type": "code",
   "execution_count": 78,
   "metadata": {},
   "outputs": [
    {
     "data": {
      "text/plain": [
       "np.float64(69.91051670875689)"
      ]
     },
     "execution_count": 78,
     "metadata": {},
     "output_type": "execute_result"
    }
   ],
   "source": [
    "# Dispaly the 25th value\n",
    "x_bar_bootstrap_vals[24]"
   ]
  },
  {
   "cell_type": "code",
   "execution_count": 79,
   "metadata": {},
   "outputs": [
    {
     "data": {
      "text/plain": [
       "np.float64(80.36720055257076)"
      ]
     },
     "execution_count": 79,
     "metadata": {},
     "output_type": "execute_result"
    }
   ],
   "source": [
    "# Display the 975th value\n",
    "x_bar_bootstrap_vals[974]"
   ]
  },
  {
   "cell_type": "code",
   "execution_count": 80,
   "metadata": {},
   "outputs": [
    {
     "data": {
      "text/plain": [
       "np.float64(2.0452296421327034)"
      ]
     },
     "execution_count": 80,
     "metadata": {},
     "output_type": "execute_result"
    }
   ],
   "source": [
    "# Calculate the confidence coeffient for a confidence level of 95% using the percentile method for the t distribution given a sample size of 30 and assign and assign it to the variable c\n",
    "c = stats.t.ppf(0.975, 29)\n",
    "c"
   ]
  },
  {
   "cell_type": "code",
   "execution_count": 81,
   "metadata": {},
   "outputs": [
    {
     "data": {
      "text/plain": [
       "np.float64(15.102331011505678)"
      ]
     },
     "execution_count": 81,
     "metadata": {},
     "output_type": "execute_result"
    }
   ],
   "source": [
    "# Calculate the standard deviation of the sample below and assign it to the variable sample_std\n",
    "sample_std = sample.std(ddof=1)\n",
    "sample_std"
   ]
  },
  {
   "cell_type": "code",
   "execution_count": 82,
   "metadata": {},
   "outputs": [
    {
     "data": {
      "text/plain": [
       "np.float64(2.7572957886371574)"
      ]
     },
     "execution_count": 82,
     "metadata": {},
     "output_type": "execute_result"
    }
   ],
   "source": [
    "# Calculate the standard error of the sample mean and assign it to the variable standard_error\n",
    "standard_error = sample_std / numpy.sqrt(30)\n",
    "standard_error"
   ]
  },
  {
   "cell_type": "code",
   "execution_count": 83,
   "metadata": {},
   "outputs": [
    {
     "data": {
      "text/plain": [
       "np.float64(69.75408196142938)"
      ]
     },
     "execution_count": 83,
     "metadata": {},
     "output_type": "execute_result"
    }
   ],
   "source": [
    "# Calculate the lower bound of the confidence interval and assign it to the variable lower_bound\n",
    "lower_bound = x_bar - c * standard_error\n",
    "lower_bound"
   ]
  },
  {
   "cell_type": "code",
   "execution_count": 84,
   "metadata": {},
   "outputs": [
    {
     "data": {
      "text/plain": [
       "np.float64(81.03268811952616)"
      ]
     },
     "execution_count": 84,
     "metadata": {},
     "output_type": "execute_result"
    }
   ],
   "source": [
    "# Caluculate the upper bound of the confidence interval and assign it to the variable upper_bound\n",
    "upper_bound = x_bar + c * standard_error\n",
    "upper_bound"
   ]
  },
  {
   "cell_type": "markdown",
   "metadata": {},
   "source": [
    "### Hypothesis Testing "
   ]
  },
  {
   "cell_type": "code",
   "execution_count": 85,
   "metadata": {},
   "outputs": [],
   "source": [
    "# Seed the pseudo-random number generator\n",
    "numpy.random.seed(28)\n",
    "\n",
    "# Create two numpy arrays, selecting from a continuous uniform distribution with a range of 50 to 100, both with 3000 values and assign them to the variables townA and townB\n",
    "townA = numpy.random.uniform(50, 100, 3000)\n",
    "townB = numpy.random.uniform(50, 100, 3000)"
   ]
  },
  {
   "cell_type": "code",
   "execution_count": 86,
   "metadata": {},
   "outputs": [
    {
     "data": {
      "text/plain": [
       "np.float64(0.6250351191522583)"
      ]
     },
     "execution_count": 86,
     "metadata": {},
     "output_type": "execute_result"
    }
   ],
   "source": [
    "# Calculate the difference in means between the two towns (town A - town B)\n",
    "diffAB = townA.mean() - townB.mean()\n",
    "diffAB"
   ]
  },
  {
   "cell_type": "code",
   "execution_count": 87,
   "metadata": {},
   "outputs": [
    {
     "data": {
      "text/plain": [
       "np.float64(-0.6250351191522583)"
      ]
     },
     "execution_count": 87,
     "metadata": {},
     "output_type": "execute_result"
    }
   ],
   "source": [
    "# Calculate the difference in means between the two towns (town B - town A)\n",
    "diffBA = townB.mean() - townA.mean()\n",
    "diffBA"
   ]
  },
  {
   "cell_type": "code",
   "execution_count": 88,
   "metadata": {},
   "outputs": [],
   "source": [
    "# Seed the pseudo-random number generator\n",
    "numpy.random.seed(28)\n",
    "\n",
    "# Create a numpy array of 30 random values from townA and assign it to the variable sampleA\n",
    "sampleA = numpy.random.choice(townA, 30)\n",
    "\n",
    "# Create a numpy array of 30 random values from townB and assign it to the variable sampleB\n",
    "sampleB = numpy.random.choice(townB, 30)"
   ]
  },
  {
   "cell_type": "code",
   "execution_count": 89,
   "metadata": {},
   "outputs": [
    {
     "data": {
      "text/plain": [
       "np.float64(1.7692322524601138)"
      ]
     },
     "execution_count": 89,
     "metadata": {},
     "output_type": "execute_result"
    }
   ],
   "source": [
    "# Calculate the difference in sample means between the two samples (sampleA - sampleB) and assign the difference to the variable sample_diffAB\n",
    "sample_diffAB = sampleA.mean() - sampleB.mean()\n",
    "sample_diffAB"
   ]
  },
  {
   "cell_type": "code",
   "execution_count": 90,
   "metadata": {},
   "outputs": [
    {
     "data": {
      "text/plain": [
       "np.float64(-1.7692322524601138)"
      ]
     },
     "execution_count": 90,
     "metadata": {},
     "output_type": "execute_result"
    }
   ],
   "source": [
    "# Calculate the difference in sample means between the two samples (sampleB - sampleA) and assign the difference to the variable sample_diffBA\n",
    "sample_diffBA = sampleB.mean() - sampleA.mean()\n",
    "sample_diffBA"
   ]
  },
  {
   "cell_type": "code",
   "execution_count": 91,
   "metadata": {},
   "outputs": [
    {
     "data": {
      "text/plain": [
       "np.float64(-5.606524366536519)"
      ]
     },
     "execution_count": 91,
     "metadata": {},
     "output_type": "execute_result"
    }
   ],
   "source": [
    "# Seed the pseudo-random number generator\n",
    "numpy.random.seed(28)\n",
    "\n",
    "# Generate 10000 differences in means using resampling with replacement and list comprehension and assign it to the variable bootstrap_diffAB\n",
    "bootstrap_diffAB = [numpy.random.choice(sampleA, 30, replace=True).mean() - numpy.random.choice(sampleB, 30, replace=True).mean() for _ in range(1000)]\n",
    "\n",
    "# Sort the values in bootstrap_diffAB\n",
    "bootstrap_diffAB.sort()\n",
    "\n",
    "# Display the 25th value\n",
    "bootstrap_diffAB[24]"
   ]
  },
  {
   "cell_type": "code",
   "execution_count": 92,
   "metadata": {},
   "outputs": [
    {
     "data": {
      "text/plain": [
       "np.float64(9.043483736816839)"
      ]
     },
     "execution_count": 92,
     "metadata": {},
     "output_type": "execute_result"
    }
   ],
   "source": [
    "# Dispaly the 975th value\n",
    "bootstrap_diffAB[974]"
   ]
  },
  {
   "cell_type": "code",
   "execution_count": 93,
   "metadata": {},
   "outputs": [],
   "source": [
    "# Merge the two samples into a single numpy array and assign it to the variable samples\n",
    "samples = numpy.concatenate((sampleA, sampleB))"
   ]
  },
  {
   "cell_type": "code",
   "execution_count": 94,
   "metadata": {},
   "outputs": [],
   "source": [
    "# Seed the pseudo-random number generator\n",
    "numpy.random.seed(28)\n",
    "\n",
    "# Randomly reorder the 60 values in the samples array\n",
    "numpy.random.shuffle(samples)\n"
   ]
  },
  {
   "cell_type": "code",
   "execution_count": 95,
   "metadata": {},
   "outputs": [],
   "source": [
    "# Seed the pseudo-random number generator\n",
    "numpy.random.seed(28)\n",
    "\n",
    "# Create an empty numpy array to hold the differences in means and assign it to the variable shuffle_diffAB\n",
    "shuffle_diffAB = numpy.empty(1000)\n",
    "\n",
    "# Reshuffle the values in samples 1000 times and calculate the difference in the means of the first 30 values and the last 30 values each time, and assign it to the variable shuffle_diffAB\n",
    "for i in range(1000):\n",
    "    numpy.random.shuffle(samples)\n",
    "    shuffle_diffAB[i] = samples[:30].mean() - samples[30:].mean()\n"
   ]
  },
  {
   "cell_type": "code",
   "execution_count": 96,
   "metadata": {},
   "outputs": [
    {
     "ename": "ValueError",
     "evalue": "Mime type rendering requires nbformat>=4.2.0 but it is not installed",
     "output_type": "error",
     "traceback": [
      "\u001b[0;31m---------------------------------------------------------------------------\u001b[0m",
      "\u001b[0;31mValueError\u001b[0m                                Traceback (most recent call last)",
      "File \u001b[0;32m~/Desktop/Health Data Science /.venv/lib/python3.9/site-packages/IPython/core/formatters.py:922\u001b[0m, in \u001b[0;36mIPythonDisplayFormatter.__call__\u001b[0;34m(self, obj)\u001b[0m\n\u001b[1;32m    920\u001b[0m method \u001b[38;5;241m=\u001b[39m get_real_method(obj, \u001b[38;5;28mself\u001b[39m\u001b[38;5;241m.\u001b[39mprint_method)\n\u001b[1;32m    921\u001b[0m \u001b[38;5;28;01mif\u001b[39;00m method \u001b[38;5;129;01mis\u001b[39;00m \u001b[38;5;129;01mnot\u001b[39;00m \u001b[38;5;28;01mNone\u001b[39;00m:\n\u001b[0;32m--> 922\u001b[0m     \u001b[43mmethod\u001b[49m\u001b[43m(\u001b[49m\u001b[43m)\u001b[49m\n\u001b[1;32m    923\u001b[0m     \u001b[38;5;28;01mreturn\u001b[39;00m \u001b[38;5;28;01mTrue\u001b[39;00m\n",
      "File \u001b[0;32m~/Desktop/Health Data Science /.venv/lib/python3.9/site-packages/plotly/basedatatypes.py:833\u001b[0m, in \u001b[0;36mBaseFigure._ipython_display_\u001b[0;34m(self)\u001b[0m\n\u001b[1;32m    830\u001b[0m \u001b[38;5;28;01mimport\u001b[39;00m\u001b[38;5;250m \u001b[39m\u001b[38;5;21;01mplotly\u001b[39;00m\u001b[38;5;21;01m.\u001b[39;00m\u001b[38;5;21;01mio\u001b[39;00m\u001b[38;5;250m \u001b[39m\u001b[38;5;28;01mas\u001b[39;00m\u001b[38;5;250m \u001b[39m\u001b[38;5;21;01mpio\u001b[39;00m\n\u001b[1;32m    832\u001b[0m \u001b[38;5;28;01mif\u001b[39;00m pio\u001b[38;5;241m.\u001b[39mrenderers\u001b[38;5;241m.\u001b[39mrender_on_display \u001b[38;5;129;01mand\u001b[39;00m pio\u001b[38;5;241m.\u001b[39mrenderers\u001b[38;5;241m.\u001b[39mdefault:\n\u001b[0;32m--> 833\u001b[0m     \u001b[43mpio\u001b[49m\u001b[38;5;241;43m.\u001b[39;49m\u001b[43mshow\u001b[49m\u001b[43m(\u001b[49m\u001b[38;5;28;43mself\u001b[39;49m\u001b[43m)\u001b[49m\n\u001b[1;32m    834\u001b[0m \u001b[38;5;28;01melse\u001b[39;00m:\n\u001b[1;32m    835\u001b[0m     \u001b[38;5;28mprint\u001b[39m(\u001b[38;5;28mrepr\u001b[39m(\u001b[38;5;28mself\u001b[39m))\n",
      "File \u001b[0;32m~/Desktop/Health Data Science /.venv/lib/python3.9/site-packages/plotly/io/_renderers.py:425\u001b[0m, in \u001b[0;36mshow\u001b[0;34m(fig, renderer, validate, **kwargs)\u001b[0m\n\u001b[1;32m    420\u001b[0m     \u001b[38;5;28;01mraise\u001b[39;00m \u001b[38;5;167;01mValueError\u001b[39;00m(\n\u001b[1;32m    421\u001b[0m         \u001b[38;5;124m\"\u001b[39m\u001b[38;5;124mMime type rendering requires ipython but it is not installed\u001b[39m\u001b[38;5;124m\"\u001b[39m\n\u001b[1;32m    422\u001b[0m     )\n\u001b[1;32m    424\u001b[0m \u001b[38;5;28;01mif\u001b[39;00m \u001b[38;5;129;01mnot\u001b[39;00m nbformat \u001b[38;5;129;01mor\u001b[39;00m Version(nbformat\u001b[38;5;241m.\u001b[39m__version__) \u001b[38;5;241m<\u001b[39m Version(\u001b[38;5;124m\"\u001b[39m\u001b[38;5;124m4.2.0\u001b[39m\u001b[38;5;124m\"\u001b[39m):\n\u001b[0;32m--> 425\u001b[0m     \u001b[38;5;28;01mraise\u001b[39;00m \u001b[38;5;167;01mValueError\u001b[39;00m(\n\u001b[1;32m    426\u001b[0m         \u001b[38;5;124m\"\u001b[39m\u001b[38;5;124mMime type rendering requires nbformat>=4.2.0 but it is not installed\u001b[39m\u001b[38;5;124m\"\u001b[39m\n\u001b[1;32m    427\u001b[0m     )\n\u001b[1;32m    429\u001b[0m display_jupyter_version_warnings()\n\u001b[1;32m    431\u001b[0m ipython_display\u001b[38;5;241m.\u001b[39mdisplay(bundle, raw\u001b[38;5;241m=\u001b[39m\u001b[38;5;28;01mTrue\u001b[39;00m)\n",
      "\u001b[0;31mValueError\u001b[0m: Mime type rendering requires nbformat>=4.2.0 but it is not installed"
     ]
    },
    {
     "data": {
      "application/vnd.plotly.v1+json": {
       "config": {
        "plotlyServerURL": "https://plot.ly"
       },
       "data": [
        {
         "histnorm": "probability",
         "type": "histogram",
         "x": {
          "bdata": "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",
          "dtype": "f8"
         }
        }
       ],
       "layout": {
        "template": {
         "data": {
          "bar": [
           {
            "error_x": {
             "color": "#2a3f5f"
            },
            "error_y": {
             "color": "#2a3f5f"
            },
            "marker": {
             "line": {
              "color": "#E5ECF6",
              "width": 0.5
             },
             "pattern": {
              "fillmode": "overlay",
              "size": 10,
              "solidity": 0.2
             }
            },
            "type": "bar"
           }
          ],
          "barpolar": [
           {
            "marker": {
             "line": {
              "color": "#E5ECF6",
              "width": 0.5
             },
             "pattern": {
              "fillmode": "overlay",
              "size": 10,
              "solidity": 0.2
             }
            },
            "type": "barpolar"
           }
          ],
          "carpet": [
           {
            "aaxis": {
             "endlinecolor": "#2a3f5f",
             "gridcolor": "white",
             "linecolor": "white",
             "minorgridcolor": "white",
             "startlinecolor": "#2a3f5f"
            },
            "baxis": {
             "endlinecolor": "#2a3f5f",
             "gridcolor": "white",
             "linecolor": "white",
             "minorgridcolor": "white",
             "startlinecolor": "#2a3f5f"
            },
            "type": "carpet"
           }
          ],
          "choropleth": [
           {
            "colorbar": {
             "outlinewidth": 0,
             "ticks": ""
            },
            "type": "choropleth"
           }
          ],
          "contour": [
           {
            "colorbar": {
             "outlinewidth": 0,
             "ticks": ""
            },
            "colorscale": [
             [
              0,
              "#0d0887"
             ],
             [
              0.1111111111111111,
              "#46039f"
             ],
             [
              0.2222222222222222,
              "#7201a8"
             ],
             [
              0.3333333333333333,
              "#9c179e"
             ],
             [
              0.4444444444444444,
              "#bd3786"
             ],
             [
              0.5555555555555556,
              "#d8576b"
             ],
             [
              0.6666666666666666,
              "#ed7953"
             ],
             [
              0.7777777777777778,
              "#fb9f3a"
             ],
             [
              0.8888888888888888,
              "#fdca26"
             ],
             [
              1,
              "#f0f921"
             ]
            ],
            "type": "contour"
           }
          ],
          "contourcarpet": [
           {
            "colorbar": {
             "outlinewidth": 0,
             "ticks": ""
            },
            "type": "contourcarpet"
           }
          ],
          "heatmap": [
           {
            "colorbar": {
             "outlinewidth": 0,
             "ticks": ""
            },
            "colorscale": [
             [
              0,
              "#0d0887"
             ],
             [
              0.1111111111111111,
              "#46039f"
             ],
             [
              0.2222222222222222,
              "#7201a8"
             ],
             [
              0.3333333333333333,
              "#9c179e"
             ],
             [
              0.4444444444444444,
              "#bd3786"
             ],
             [
              0.5555555555555556,
              "#d8576b"
             ],
             [
              0.6666666666666666,
              "#ed7953"
             ],
             [
              0.7777777777777778,
              "#fb9f3a"
             ],
             [
              0.8888888888888888,
              "#fdca26"
             ],
             [
              1,
              "#f0f921"
             ]
            ],
            "type": "heatmap"
           }
          ],
          "histogram": [
           {
            "marker": {
             "pattern": {
              "fillmode": "overlay",
              "size": 10,
              "solidity": 0.2
             }
            },
            "type": "histogram"
           }
          ],
          "histogram2d": [
           {
            "colorbar": {
             "outlinewidth": 0,
             "ticks": ""
            },
            "colorscale": [
             [
              0,
              "#0d0887"
             ],
             [
              0.1111111111111111,
              "#46039f"
             ],
             [
              0.2222222222222222,
              "#7201a8"
             ],
             [
              0.3333333333333333,
              "#9c179e"
             ],
             [
              0.4444444444444444,
              "#bd3786"
             ],
             [
              0.5555555555555556,
              "#d8576b"
             ],
             [
              0.6666666666666666,
              "#ed7953"
             ],
             [
              0.7777777777777778,
              "#fb9f3a"
             ],
             [
              0.8888888888888888,
              "#fdca26"
             ],
             [
              1,
              "#f0f921"
             ]
            ],
            "type": "histogram2d"
           }
          ],
          "histogram2dcontour": [
           {
            "colorbar": {
             "outlinewidth": 0,
             "ticks": ""
            },
            "colorscale": [
             [
              0,
              "#0d0887"
             ],
             [
              0.1111111111111111,
              "#46039f"
             ],
             [
              0.2222222222222222,
              "#7201a8"
             ],
             [
              0.3333333333333333,
              "#9c179e"
             ],
             [
              0.4444444444444444,
              "#bd3786"
             ],
             [
              0.5555555555555556,
              "#d8576b"
             ],
             [
              0.6666666666666666,
              "#ed7953"
             ],
             [
              0.7777777777777778,
              "#fb9f3a"
             ],
             [
              0.8888888888888888,
              "#fdca26"
             ],
             [
              1,
              "#f0f921"
             ]
            ],
            "type": "histogram2dcontour"
           }
          ],
          "mesh3d": [
           {
            "colorbar": {
             "outlinewidth": 0,
             "ticks": ""
            },
            "type": "mesh3d"
           }
          ],
          "parcoords": [
           {
            "line": {
             "colorbar": {
              "outlinewidth": 0,
              "ticks": ""
             }
            },
            "type": "parcoords"
           }
          ],
          "pie": [
           {
            "automargin": true,
            "type": "pie"
           }
          ],
          "scatter": [
           {
            "fillpattern": {
             "fillmode": "overlay",
             "size": 10,
             "solidity": 0.2
            },
            "type": "scatter"
           }
          ],
          "scatter3d": [
           {
            "line": {
             "colorbar": {
              "outlinewidth": 0,
              "ticks": ""
             }
            },
            "marker": {
             "colorbar": {
              "outlinewidth": 0,
              "ticks": ""
             }
            },
            "type": "scatter3d"
           }
          ],
          "scattercarpet": [
           {
            "marker": {
             "colorbar": {
              "outlinewidth": 0,
              "ticks": ""
             }
            },
            "type": "scattercarpet"
           }
          ],
          "scattergeo": [
           {
            "marker": {
             "colorbar": {
              "outlinewidth": 0,
              "ticks": ""
             }
            },
            "type": "scattergeo"
           }
          ],
          "scattergl": [
           {
            "marker": {
             "colorbar": {
              "outlinewidth": 0,
              "ticks": ""
             }
            },
            "type": "scattergl"
           }
          ],
          "scattermap": [
           {
            "marker": {
             "colorbar": {
              "outlinewidth": 0,
              "ticks": ""
             }
            },
            "type": "scattermap"
           }
          ],
          "scattermapbox": [
           {
            "marker": {
             "colorbar": {
              "outlinewidth": 0,
              "ticks": ""
             }
            },
            "type": "scattermapbox"
           }
          ],
          "scatterpolar": [
           {
            "marker": {
             "colorbar": {
              "outlinewidth": 0,
              "ticks": ""
             }
            },
            "type": "scatterpolar"
           }
          ],
          "scatterpolargl": [
           {
            "marker": {
             "colorbar": {
              "outlinewidth": 0,
              "ticks": ""
             }
            },
            "type": "scatterpolargl"
           }
          ],
          "scatterternary": [
           {
            "marker": {
             "colorbar": {
              "outlinewidth": 0,
              "ticks": ""
             }
            },
            "type": "scatterternary"
           }
          ],
          "surface": [
           {
            "colorbar": {
             "outlinewidth": 0,
             "ticks": ""
            },
            "colorscale": [
             [
              0,
              "#0d0887"
             ],
             [
              0.1111111111111111,
              "#46039f"
             ],
             [
              0.2222222222222222,
              "#7201a8"
             ],
             [
              0.3333333333333333,
              "#9c179e"
             ],
             [
              0.4444444444444444,
              "#bd3786"
             ],
             [
              0.5555555555555556,
              "#d8576b"
             ],
             [
              0.6666666666666666,
              "#ed7953"
             ],
             [
              0.7777777777777778,
              "#fb9f3a"
             ],
             [
              0.8888888888888888,
              "#fdca26"
             ],
             [
              1,
              "#f0f921"
             ]
            ],
            "type": "surface"
           }
          ],
          "table": [
           {
            "cells": {
             "fill": {
              "color": "#EBF0F8"
             },
             "line": {
              "color": "white"
             }
            },
            "header": {
             "fill": {
              "color": "#C8D4E3"
             },
             "line": {
              "color": "white"
             }
            },
            "type": "table"
           }
          ]
         },
         "layout": {
          "annotationdefaults": {
           "arrowcolor": "#2a3f5f",
           "arrowhead": 0,
           "arrowwidth": 1
          },
          "autotypenumbers": "strict",
          "coloraxis": {
           "colorbar": {
            "outlinewidth": 0,
            "ticks": ""
           }
          },
          "colorscale": {
           "diverging": [
            [
             0,
             "#8e0152"
            ],
            [
             0.1,
             "#c51b7d"
            ],
            [
             0.2,
             "#de77ae"
            ],
            [
             0.3,
             "#f1b6da"
            ],
            [
             0.4,
             "#fde0ef"
            ],
            [
             0.5,
             "#f7f7f7"
            ],
            [
             0.6,
             "#e6f5d0"
            ],
            [
             0.7,
             "#b8e186"
            ],
            [
             0.8,
             "#7fbc41"
            ],
            [
             0.9,
             "#4d9221"
            ],
            [
             1,
             "#276419"
            ]
           ],
           "sequential": [
            [
             0,
             "#0d0887"
            ],
            [
             0.1111111111111111,
             "#46039f"
            ],
            [
             0.2222222222222222,
             "#7201a8"
            ],
            [
             0.3333333333333333,
             "#9c179e"
            ],
            [
             0.4444444444444444,
             "#bd3786"
            ],
            [
             0.5555555555555556,
             "#d8576b"
            ],
            [
             0.6666666666666666,
             "#ed7953"
            ],
            [
             0.7777777777777778,
             "#fb9f3a"
            ],
            [
             0.8888888888888888,
             "#fdca26"
            ],
            [
             1,
             "#f0f921"
            ]
           ],
           "sequentialminus": [
            [
             0,
             "#0d0887"
            ],
            [
             0.1111111111111111,
             "#46039f"
            ],
            [
             0.2222222222222222,
             "#7201a8"
            ],
            [
             0.3333333333333333,
             "#9c179e"
            ],
            [
             0.4444444444444444,
             "#bd3786"
            ],
            [
             0.5555555555555556,
             "#d8576b"
            ],
            [
             0.6666666666666666,
             "#ed7953"
            ],
            [
             0.7777777777777778,
             "#fb9f3a"
            ],
            [
             0.8888888888888888,
             "#fdca26"
            ],
            [
             1,
             "#f0f921"
            ]
           ]
          },
          "colorway": [
           "#636efa",
           "#EF553B",
           "#00cc96",
           "#ab63fa",
           "#FFA15A",
           "#19d3f3",
           "#FF6692",
           "#B6E880",
           "#FF97FF",
           "#FECB52"
          ],
          "font": {
           "color": "#2a3f5f"
          },
          "geo": {
           "bgcolor": "white",
           "lakecolor": "white",
           "landcolor": "#E5ECF6",
           "showlakes": true,
           "showland": true,
           "subunitcolor": "white"
          },
          "hoverlabel": {
           "align": "left"
          },
          "hovermode": "closest",
          "mapbox": {
           "style": "light"
          },
          "paper_bgcolor": "white",
          "plot_bgcolor": "#E5ECF6",
          "polar": {
           "angularaxis": {
            "gridcolor": "white",
            "linecolor": "white",
            "ticks": ""
           },
           "bgcolor": "#E5ECF6",
           "radialaxis": {
            "gridcolor": "white",
            "linecolor": "white",
            "ticks": ""
           }
          },
          "scene": {
           "xaxis": {
            "backgroundcolor": "#E5ECF6",
            "gridcolor": "white",
            "gridwidth": 2,
            "linecolor": "white",
            "showbackground": true,
            "ticks": "",
            "zerolinecolor": "white"
           },
           "yaxis": {
            "backgroundcolor": "#E5ECF6",
            "gridcolor": "white",
            "gridwidth": 2,
            "linecolor": "white",
            "showbackground": true,
            "ticks": "",
            "zerolinecolor": "white"
           },
           "zaxis": {
            "backgroundcolor": "#E5ECF6",
            "gridcolor": "white",
            "gridwidth": 2,
            "linecolor": "white",
            "showbackground": true,
            "ticks": "",
            "zerolinecolor": "white"
           }
          },
          "shapedefaults": {
           "line": {
            "color": "#2a3f5f"
           }
          },
          "ternary": {
           "aaxis": {
            "gridcolor": "white",
            "linecolor": "white",
            "ticks": ""
           },
           "baxis": {
            "gridcolor": "white",
            "linecolor": "white",
            "ticks": ""
           },
           "bgcolor": "#E5ECF6",
           "caxis": {
            "gridcolor": "white",
            "linecolor": "white",
            "ticks": ""
           }
          },
          "title": {
           "x": 0.05
          },
          "xaxis": {
           "automargin": true,
           "gridcolor": "white",
           "linecolor": "white",
           "ticks": "",
           "title": {
            "standoff": 15
           },
           "zerolinecolor": "white",
           "zerolinewidth": 2
          },
          "yaxis": {
           "automargin": true,
           "gridcolor": "white",
           "linecolor": "white",
           "ticks": "",
           "title": {
            "standoff": 15
           },
           "zerolinecolor": "white",
           "zerolinewidth": 2
          }
         }
        },
        "title": {
         "text": "Histogram of shuffle differences in means"
        },
        "width": 700,
        "xaxis": {
         "title": {
          "text": "Shuffle differences in means"
         }
        },
        "yaxis": {
         "title": {
          "text": "Probability"
         }
        }
       }
      },
      "text/html": [
       "<div>                        <script type=\"text/javascript\">window.PlotlyConfig = {MathJaxConfig: 'local'};</script>\n",
       "        <script charset=\"utf-8\" src=\"https://cdn.plot.ly/plotly-3.0.1.min.js\"></script>                <div id=\"f7cf10e0-c693-4942-a6f9-845fbb975e51\" class=\"plotly-graph-div\" style=\"height:100%; width:700px;\"></div>            <script type=\"text/javascript\">                window.PLOTLYENV=window.PLOTLYENV || {};                                if (document.getElementById(\"f7cf10e0-c693-4942-a6f9-845fbb975e51\")) {                    Plotly.newPlot(                        \"f7cf10e0-c693-4942-a6f9-845fbb975e51\",                        [{\"histnorm\":\"probability\",\"x\":{\"dtype\":\"f8\",\"bdata\":\"wI3Vrxc2FUAAcDlFEWasv8CyTcEyH\\u002fI\\u002fwK+7sGPH9b8AHD32qsr6v7CUgzCMJB7AAF49JzLq679Ao7jSvJ76vwDHjE32lPy\\u002foJfLoII2HkAAFWMw+rnpPwDgePpuNO8\\u002fYN42nfeCAsAAWGGM9SH3PwCSuFE0DsG\\u002fAI\\u002fjncEK6z8AXb9ySBLWPzBq9G1byBRAkPtJEJNTJMDA6OLhhVwIwMBuiSZnePo\\u002f4FVxIL7nD0CAh0lADHkWQAAX\\u002frBJVNG\\u002fgM2OI4fW6L+ATSdW56XvPwDjTZRHpgLAgBSY6yKO+D9gug4T4ykQQAD0bqigVgTAQBmeLQphAsAgdcQUYNAcwOCm6ha7BBdAwNP\\u002f1OlJ878AYVJt0vXpPyCcH83HOAPAwCybrTs5BcDAzQZSBsnxvwAwgFVkTNW\\u002fgHgp8zI8\\u002fL+QCDalgUYSwLAm1x+kkxFA8HhPR0haE0CwQrEvvRAYQAAZjE7mY9I\\u002f4DFUkejKFkDAan7q37j3P2AB3HCmVQrAYC4nwzlLBkDAuZmeA5oJwMCVtkVqtwdAoHtoLF4LDUAw3cghavIZwIDVW94Q\\u002fAVAgAZ63gzG6r\\u002fAUBifSrr\\u002fv0BMVLHQDPE\\u002fgB2TVEPr7L+wfz\\u002fmmRYdwMBCDbWJiwnAIJ0+wrj6DECAO02\\u002figTjv4Aqpy6Qk\\u002fk\\u002fQAmEGcGO\\u002fj+AeTdozl34v8Ak57G0AgbAYALR50kTAEAgvUZR1AMAQKCCnrOalwhAgFkSvpe2CsCAMX6+GgcDwEBT7vO31BlAwHDPrHo68D8Az3emlGnWP0BBeh1Zr\\u002fc\\u002fgL0ylqbf6T\\u002fQFparWAASwCCCQVkhtwRAACdb3yaGEUAAw7fDeUchwADV6crHPOc\\u002fQDd5z8ymFcAgn5QUu74DQODZq1jFixxAIAC2eTEGEEAAxnNo7R7uv+DsCFq2DgxAQC07ekc1+7\\u002fgy4AFMb8MwKD2x4ip9AjAAMWw2S559D9AookN\\u002fGIEwAByoxwTIRhAAGgwQkY6uD+AQd8ke5P8v4A0WYqIxOy\\u002foCtlNDgkCsBADJPDvmzxP1CfMNMw1BfAcNrLS5EWEECgcULcJOwKwLDtA2s5Kx9AAFeZ88R+8z+QnmXAZN4TQACsP\\u002faMWdY\\u002fcLtwnUUmEcAAznD3mg3avwA4eiv\\u002fn6i\\u002fAA7vq2wKB8AABANw4sXAP8CFyx\\u002fV\\u002ffI\\u002fACh3CSiD+79A9icpZKX8v5AE8edn3RZA8OCT4bBAEsBA8Cm0PQgLQABKxCx1qQHAgKXM7S0X6D+glsqp8PYKwECQeLJFM\\u002fC\\u002fgOQ4InmoA8AArrjEcsXtP\\u002fAGar8uPRlAwEX1Vaw69r+ARgjk8aXqv0A+S47DY\\u002fK\\u002fMFJtLzECEMBA6LUSI9YRwAAFIflXRxNAQKdKBR34HUCAmLRVbvwHQJDDQ5UAshZAAIS7Vlv8t78AbEWg3AnKv0BNwywrzwJA0IiCqwqSEEDAuWAUki\\u002f\\u002fP0CMk6uQxfk\\u002fAAC\\u002fbWCpgL9g5RnNmFsRwIApgW2Effo\\u002fwKVYe3MKHcCAEpyE\\u002fpH0PyBNYzoW1hJAwI+mz9U8B0AACs0e\\u002fxjGP\\u002fCGSgXAXBdAQE1otHDG8T9wLa\\u002fDN7MXQNDvukplbBPA0Mb55QGdGECAf6s3gU79P4DEYpDRmgZAwPI47S8q87\\u002fAkaK7brsYwMCTwL6lXAnAAKoY3Vsp778AvdunswPaPyCvCXDr8wPAwPKO8jQMBcCQK5KwpLsfwEBxTDWtPhrA8J8X3htNHMBALZs0flQDwADTulQCkvc\\u002fwKA2RB+f9T+AkPW3vAf0v4AiHrbGUuk\\u002fAM2X4cqz1T+AI0aZlEQEQLiV0BpHZyFAADWfk55T6D9gUN+GmR0UwJDDg41TFxDAAJQKS7p0yr9A17uBr6z3vyDhYrkZEhBAsB6uLXClFcBg4iy9ahQXQACxsByPdPa\\u002f8PRcOCx0G0BAnJsFZvf8v0D7ngvu5v2\\u002fIOuTJ8sQEkAw\\u002fFvmyL4awACcd7KUWPK\\u002fwI2ZIpRm\\u002fr\\u002fgAqc0igMTQICD254KIPy\\u002fwN2cyW+u879A313k+moLwAC\\u002f9a4P\\u002fPu\\u002fYPD26N76CcBADb2gGosQwACLq+bWfvs\\u002fkCgNoBZCEcBg4p1CBKACQIB230tu6AhAwNc0TdlOBkAAp7jQc\\u002f7TP8C0VzfEaRNAMP2wHXtoFsCQ2DWyiJISQLAAPTkIuRBAAJQw2uhjE8AA8IaUrYTpvwAg3gEIgJ0\\u002fIHFfSGoBDsDAu8bBINXxP0A6DLGUVf6\\u002fwPxOsn3TBUBACORAW7T7v3Bl2rvO0RJAoOvyRg\\u002fwD0CAvCSrUU0KQAB7qEpA+Oe\\u002f4LC+jHOJFEAg0Ta8Z\\u002f4RwPAAeWx8ahhAAKWMBbIJEcAA09vapeDZP+DSFQ6Qrg\\u002fAsO8Jn+KFGMCg\\u002fAq0Z68DwNBsIVqLxRfA4OV9rPs9DED4B0wg5D8lwAACk25eP9Y\\u002f4NtgDNGZBkAAOZNjAmb9vyCsCbiEnBRAAOoWZJSBAkAAqjlkrpbjP6DoMiWbBQDAoHbKa6xqEMDAFfmnRMP4P4C8j2Cy5\\u002fK\\u002fgDtEFdZA47\\u002fgC82Pl0wLQBCJzuN0ARHAgECsokqA8D8g9KiYPL4IwAByVpnEQx5AAFGt4Nw01j9w2elPPYUSQIA23XmT5Pq\\u002fQI\\u002f2H4sw9j9AUEctOlf4vwAC5lbXJBbAoOUW1lBRFUAgMyPffGAUwID0STQQcPC\\u002fYDkU1CHJC0CAVV47B6ryPzA4VV4oLhTAIGED5fGyCkAgBL1TNcIJQACAXad\\u002fWnM\\u002fsPgbI13bFcDQDfvATnEWwAA0kf\\u002fosLo\\u002fwBtXsmkDCcDgGujtyGQJQEDtOE9IPPY\\u002fQMFgikq09z9AMeDX02ALwIB3T1ESqvk\\u002fAFvtvY\\u002f6+b+An59rbR7oP0BlYM+iLvM\\u002fAMFGD+yc2r8AnZiNXO4UwECPl7bxuwZA+Jh+UxXQIEBAjSJFrYMQwMjm5UPWuSPAcBCj\\u002fQUpEEAAO+fFePX9vwD\\u002f0H23cOE\\u002fsHAJN7F1FsAA9qWL0l0HQBAi5hTfvCXAYL\\u002fHc0CvD0DgCxwQeUwPQMAyRCIbtvE\\u002foKVRPNiMA0Cgz0nNV28EwAAsD4q94b8\\u002foPMxBdt1AkAgWD1W3o0LQAAfaW2059E\\u002fEGumzc0NHkAAheEW7hEJQKBw7hg8DwlAQNa0QD4XBMAQ\\u002fC\\u002fyfzcRQMDagHOmGxZAIHiNwZgkAMDg6GpBLNQIQBCYj0AkyhdAgHm11Msx7r+Aeov3QBABwIDV5HccwOy\\u002fgBaZBCjI57+AQaEW9O3gP+DzTcmIdwlAoEZjgfJqDsDAIoACmRMAwEAR07s9g\\u002fo\\u002fAKjEkDDp4T+gemeqy3kOQMBTPkSDNfC\\u002fADZULuIg379Af8FIpHPxPwCNKipmVPK\\u002fwDCPbGUyCUDgWxJY3ecBQACKAeAQeNQ\\u002fAIDx9cp22L\\u002fAziYi\\u002fnj9vwBdia+JFv8\\u002fAD4upYBP7L8AIfcWpeXxvwC8Tztn5Nw\\u002fQLKLVQ\\u002fJ8D\\u002fAAFrGbHEWQAAKFWlmldM\\u002foLFcNDyIEsAAm73js\\u002fX1P5DrcJyaLhxAALNrJMz3\\u002fr9gbHD1Zk0AwBhAYFBdJiFAAKU6JKZt6D9Aq\\u002fmFYZv+P0CTy\\u002f8wqv6\\u002fgP64fh0e4T\\u002fAjXbUO6QHQMA4FaWJmBbA4NQ+cG1LCEDgazduxQMDwGCtp2ju9wtAYNq6O\\u002fWMDcAApyqOM43QPwDrEJwRLhVAYF71oDliFMCIYv0opLEgQACvKn0pVvk\\u002fIAgj4+6GDMBgo\\u002fwk8XsJwICfptGe7vY\\u002fgFrpw70n5z8APGfFIXa4v8B0UUzGtf+\\u002f0A\\u002fuqDy7FkBAyGH\\u002f9vz5PwBBxmgjE9G\\u002fkF9nDOptIUCA5X9xGvoDwIAXCEHpA+C\\u002fwEIOqunp9z\\u002fAUt\\u002ftssECwADyEk+MAuw\\u002fgC0gAwvF478AFtAk68TFPwAQZjk\\u002fwbA\\u002foIBeCB1NFUCAPnDEm93\\u002fv4BhVY5MoPI\\u002f0MUuQEE7HcDgln3wJRgKwADnCBi+Bx7AAIBWiOldw78g0lH+Pd8UwADdAUodK9G\\u002f0FrP1+5qGMAwfEYGo98gQID43xxzpBBAABw+Yl4g0D8A\\u002fu718MHYP+BdJhfRWgVAgHagIqs98r9gLwy\\u002f9bgQwABa\\u002fdFGJO4\\u002fMFuNs1HWHsAQLqOo7OcXQAAroOGcZ9Q\\u002fgAcqv83x5D8A0IdFeDHPP+CZYUZlLCDAABNGZvxQ578AVWWIYEfVPwAE\\u002fnzYddy\\u002fAJDzxMdF6z\\u002fg5JNYdeUPQCArBzdA6QnAAD+PFhE+3b9QD9467vwgQEBG0OSv5BHAsHEGQRQjFUCggiyA8\\u002fQKwAC1KmaOneI\\u002fgP9dWSdnAkDgrH0FjNsbQMDvn3UM3\\u002fU\\u002fADD8Ose0HMCgbFq1hcEHwFBfORPuDxpAwII591dmBMAgsMlK2KUUwAABjITiB96\\u002fMATs8kCOFUBwqYw+AjwUwABEhTdtMRfAQGPBiOOm+r8A5ET2GyrZv0Ceh5rMjhTAAF+HvRzM6j8Aa9xppFDrP8B+uK7PdfM\\u002fkJYtIPbbGMAA\\u002fxnJePkHQICTC1XVCQRA4PhkvnxbA8BgOCFLjOcCQECSUoVKjAxAwK6PDdJc+T9AyZfC69v4vyDjdeV04AlAEPoLo7R\\u002fFcAgLXvin48UQABqFbrD5OE\\u002fAE0PWXTY3r8AJO1Eq7y0P8AdeADqbf+\\u002fAMMCEN\\u002f2279ATbdcNVkIwEA5DiqIGALAYKSyUBwTBUAg9CTUoR0CwICjjPb3CPE\\u002fgOKENi8J\\u002fb8Ad\\u002fgECYXoP4BBA8peE\\u002f4\\u002fAKDz+yfmsL\\u002fArCPgFnLxv6AZYRbIXABAYIoUJM3iA0AAtH6Hqta4P4Cc7nbvePi\\u002fAHBSP4IV9r9AfZFfIbcFQCD+a\\u002fh00xBAgCLyRlI9BMCAetAkK3H3PwAF9vuiCuy\\u002fQJp3V2XFDkBAhVEeGMb0P2CK2+xz4Q3AYK9TWKC1A8CA2KAiTIL1v3Ce2ktBfxxAAE7beEQVzL9gqyEIO9sRwMDTVs8bMw7AAPMDZInv9L9gcpOHG8YWQBDj490CcRDAYAMqBYtkHECwCQI9G7MUwEDaugOwbgFAQJ6Ih1QA9T+AlVbmDenmv4D+oPuajfa\\u002fYPsTzWQ7AUBAHSydpboCwHhVoY68UCLAQGgh\\u002fOF2+D\\u002fASvIR2ugQwBjehaSz1CDAoIrkSElZAsCgyvh8NtYNQCBb9vWx\\u002fhDAAM\\u002f6sUgmDMAAQlaqV\\u002fHlP4Dx\\u002fIUmGeQ\\u002fQKtfVvVb9b\\u002fgHzb6w5gAwPCGUGQM7hdAoP4Sz6H+IcDQMjcStf8QQMDOfOdZognAoDl4rbz5BECAgi0GpOXwv4AjKLPH3+i\\u002fIKA1PNlGB0BAQLdeMDn4vyBwSkdmFBbAwLKcFWkt+r8QoTYHWqsVwMANyXP08g1AoE8W2k0PFMCACX0gGU39v6BpDMT2bhHAQKLCFaBh979gD+LlVEoDwICushQ9PAxAIMs7aEJBEsCQ4dqw6zgfQEDPQrLbWf+\\u002fYAiar2VjE8DQuL7Py4MWwADSYOH4QgBAALsD2ITT1b\\u002fAdUV4kYnxPyB9W0cDXg5AAGS9KbHQzr+AOYrmsogJQGDdCo61rAFAAKKwxskb2D8AHHRIttm0v2CgM4hshhFAALbd7iVt479AeoQM\\u002fnQOwGASAaV6mwpAQN34j8jMEMBg0IekHmYIQID5cEtVmApAQCY3OEDUEEBAxlNAOssNQACA2uMa+Q\\u002fAgJrdk5dc8D+wQOKyItMSQKBnDE\\u002fbuhDAiFcqUh6fIMDA0zsNJkIOwKD0NSg7tQNAYP2D1pZsAkBgRqYdM9ACQICHl8q4a+Q\\u002fkLwfL5u7HMDgu\\u002f\\u002fiLtsVQADIdoh2CwtAwFR4e+Je9D8AXpV0h1DRP\\u002fCLdBJzXxBAUPv49Kx7EsCwjxP3pu0TQEAKiIoftP8\\u002fgIMbsfA05L9AGcoQ9WDyvwBAO75X+PS\\u002fgOs1iP2y778A1s+gi\\u002fTAPwBClbIrPwHAQM+EtOHL\\u002f7\\u002fAun9fyOr+v4BzZ5yXWOI\\u002fgCVuBm7J6L+Af\\u002fd\\u002fQAjxPwB7IGqMANu\\u002fgHjtFgMEAUDgSdaX3GcSwIB+O3GciOG\\u002fwEmA02gP8D9AmdvMvtsYQAAVMtqy3N0\\u002fgFBwmug9AsDgeY2XR\\u002f4UwEDymkPatAhA4IMkQJ7hBUBgIUJduVEGwIDK8x2XGQXA4CZwkHnAAcBQFJsn2ywgQOBX5J6yVRJAgP7JjO+ZC8BAhJA0oVz3v4BcvIj\\u002fCeg\\u002fQH5rCY+Y\\u002fz+AJ6YsVlrovwDg9Gw\\u002fscG\\u002fwJV2pYx49L8AZEuifxfTP0A+7PSVV\\u002f6\\u002fQLmmDPAh\\u002fj\\u002fAyCI47Dr5P+BGLLkGFghAQNtgERkd8L9Af55xJ+0DQKCJjpG2WAbAAJXsDPrC2T9gHLCLVu0TQAA4k5GKGbA\\u002fYHmcXfWbEMCAr2ZPxK3iPwAq38wl6OY\\u002fQERoUPf3D0DgJukGcOoLQMD7RVBFvA5AgBiBaGQvDUAAbbLpYVIBQACUID8HC92\\u002fgJHNXyFW8z+AdAiD8QPlv6A4DhOW8wTAAGu4H2a9+b+g+yC8eSIHQCDb6YQx4ABA4Mll16mFFEBAEHI0jVQCQGDMP4xC0QzAAA7pcjWM7j+gTbpdH9oOQEAcrLNe7A7AAL3WPHzV5L+A\\u002fUnQ7obwP7AYrvs0yyBA0EKQTRstEcAAttg27wbMv8DQVIUnFQbA8HQNIrEdEcBAm\\u002fQIbL7\\u002fP9CfrJvHmRBAgKs6DLok5L9g1dSvKE4fwFD8dgeuqhVAAMCGYcNij78AFf1ctcvjP3AS0JBTlhTAwGeOyaSj+r8g39BGzCgXQCCrgXTObgJAICQXvHDVBkDAfd2ckOUVQPA83pZD8BFA4EgrWSHpDUCA6t3V3PsCQKAnDFLgEyBAAKz5NYTlv7+gIGG++LwDQOAL\\u002fkqBhA3AwLFj9EAuCkAA51Gu6InzvwBTsyy7XSBAYLZqOWGsAsCgcOq3nnoPQOAZyr2l+xFA4IB2I6cMAEAAPR3ve1ofwABbTraxHxFAIONNgc\\u002fKB8BA8qkdyQ\\u002f1P8AknEE\\u002fJBjAILDbGNirFMCgZbavSNYBwIAgdkxM6Pq\\u002fgC7xgLW5CkDQt4UpGAYawADksCiqT7Q\\u002fQCeedGZ1A8CAGbzvxmAHQABMvUN2d7k\\u002fALDtjkja0L9AYLkf5NAEwGBdXLOeIQRAwBi+++iW9L9gFn8CPusOQAAOIscRwRRAoMhn5XqpEkAAG6e+30z2PyAzLr6PWhbA8N8PS2TwEkCAyyrjj3PtvwB2ivgC6uG\\u002fANSiqlKesz8AiFoZqxGlv4ACAt9UjA\\u002fAQL825UWp\\u002fL8AgCa6UqXVv+BcFYVbrw3AAN+w53SG3j+AClhPEa39v0DIvSzUqfK\\u002fADiPqsqXvD+At2aQAonqv+DgqaE\\u002fOxBAsJvFEyP3EUAAERP+K2H2vyAKrYABfgRAgP+B0IhkAECAcnTx9tLoP4Bux2rZ+OU\\u002fwDFhQwa8+7+gyJiAR6cSwOClEMdaKxFAAHJSYKQYFEDgLnWx1zcFwIjuMg0axyPAIBq90U9mAUAA1rKu6Nr0P0CpW2AalhrAQBKuhqNE9z\\u002fgLYSrM4MRwECyA6MaS\\u002fC\\u002fQO7gIFpeAkAAtzaPR4XaP4AXDvnm0ArAQAH3e1KmDcCAVrokbj\\u002fuv4C7zlrKPeK\\u002fgGGGA7sz\\u002fb8AHFsDxHSwv4Cd2K6ZMfc\\u002fINk9t2ZpE0CAuHBemkv5P4AEU8duLPQ\\u002fQJ2uVwt9EEBA1HH2cNnzvwCGe7QG1NA\\u002fwD6nPm+eFEDATx1ueoL0v0Ci\\u002fNKFFfw\\u002fQJEbai4DC0CA8NCUbCXiv5AAc6ecGhRAAODNffcHhL\\u002fg2mJQc0kFwNBlu241eRdAAHwiK6Ub+L8ALx+TELb4PwCxxu0co\\u002fg\\u002fwCBOH9Zt+T\\u002fAHlSHNiAPwICwzjg\\u002fRvU\\u002fIK2pofAWFMBAW4PnEMP8v6At789\\u002fwAPAAIYGLtrH+L8gAoVs6kcSwAAKPm\\u002fBgOi\\u002fAPh22pxQ7D\\u002fglvcPxzIFwCDOpulsQAZAoIa08yJQDcAAfq\\u002fspmfMP2Bk7zonQQzAQEhFhTatGMBwoNUym6YSwACkdvllT98\\u002fAHpXrGS+yT+grGY22\\u002f0HwGD5sq646wtAUGeqgd4xEMAQixUxMBwSwGACuTr\\u002fRgvAoKGSi0gtBUAAF\\u002f0gtIbZvwCyZL7m8\\u002fk\\u002f4HfYXsj+I8BAxxWja08NQPArd\\u002foyPxDAYL6WpwrLAEDgqhwho9cMwICY\\u002f48Xt\\u002fe\\u002f0JyBceZNEUDA0BS+sCQJwKBeL2KsFwzAwMClWH0yBEDAI1gH5H\\u002f2P+BriNbUqQTAwI05LKfjDMAgOt+deV0QwACUaICDSgLAgGtzjEWF5j\\u002fA6ZpKpZbyv4CLClLqbvK\\u002fQJfj7JDDEEAAN6Mc3eUfwOAJxaCpBQLAACD6GuxK4D+AkOMU67nyP7Cs\\u002f+duvBlAsMq9N6XvF8BA5WnpQY0CQACYMasWEPa\\u002foHrHzKNqB8CgdQBR96QIQOBD1Boe8QjAAB7GkGMEFMDAbGg5dUYLwICkVZPqdxlAAEAf4yF2wr9Aq4ke7j0XwEDGXl1slAXAgKPl\\u002fvmF7z\\u002fA2VGWqz0AQOAdUF4+Lx3AgEwrVMnt8T+Ad6MsGVACwIDBhCEJBva\\u002fACYt\\u002foFvxb\\u002fA4NAzptrzvzCsf0t93BTAAKF2BZDv0L8Amqb00f7iv4CUGgmccg7AADLsrfiUCUCASnmazpngP0gbh9oExCHAQNWqa2is+z\\u002fAGiPqbPf6vzBbB0PrQRTAsNc\\u002fj4usE0BAVd3QdPb3v9ArV2HIwRHAUA6iJqSEE0AALJpZ3FDQPwAj0GhKP\\u002fy\\u002f0Os8Np25G8CQIIevcdYRwAAXQHyqgP2\\u002fQL2NzJmj\\u002fb9AE49RZR\\u002f\\u002fP9B2ZcwpJxHAEEUn9DHZF8DgWZ1WVnIPwMDQ\\u002f+iHexPAAGpbFtpN6r\\u002fAYBWIAAYYwAAFdDsMltS\\u002fgKbauqb\\u002fCcDAzJhDtQP+vyC1leGv1x1AAPcx5ajdAcDAaPE74e\\u002f0vwAoAeb2+bC\\u002fAHxLQzwrwL9QQfqbay0VQIBed\\u002fygsui\\u002fwJyZaGJh8T9AAed+YDX7P8DTP8HwaQLAABfzU50c8j8Auqpt8TrUv4BFpM0MBwBAgJy1H6V5DMAwppa2rBwVwMB7aFRh2\\u002f4\\u002fUOrZxvOyF8AQWCll4lUTQOCghJGcrBvAAMGocAUa1T+ACIO\\u002fpTb7PwA2OJZkZug\\u002fAEDVVslIfD9AiIExa54EwAA0F3uCWvu\\u002fYLjcHX\\u002fJEMBAhKCpvsMBQEDJXSzYNP0\\u002fAAovDVMVBsBAfg6qWmrxP8AZgD3N+\\u002f+\\u002fwGRsz9taC8DweLjqMb4RwPB4Z1\\u002fPhhbAYJblqCZGBMAApKlD7hLxP5Ado6wpEhHAsLTVWKBdGEAABZfy6tzpv8BdS1b3dfs\\u002fAPDnBO1dCUCAfPOsqzAKQACR1iD9Z+0\\u002fQG+lGjIx9L+A3UsZrc\\u002f+PwA4dpCxr8M\\u002fUAa7DXXjEMDQiF+xM+8ZQACSYW79McU\\u002fILf8m9ZgBEAggpc\\u002fePcBwADqMC3m1AZAgDCI9b4q+L8AmYaWaDv2P8De0+833RtAAC3TevnM0D+AeW9BjZDrvyA2JjMTdwBAAJb9+HTwEMAAkcdzCRsaQOAGO1pI8RHAQBnchAueC8AAG6r4Rh39vwCVX1V4wda\\u002fQEEWJrW68b9gKD6XXq4DwAC0CN0aPbY\\u002fAICIL9wH4r8gg\\u002f9YLIUbwJDYgZQfYxHAgIaTjFHN9b8A\\u002fPqZlPMPQOB8rw0DFiBAYJvayEwLCUBgaAawQLIDwKBewwXXHQJAIDb1cEhPEUCA4AQEy2Djv4BEgxsJpvE\\u002fYNB4zpMiBsAA\\u002ft\\u002fZrlDFvyDvsALEcwDAoHo28pKeBcAgHcelEt0WQAAQ1oZbfZg\\u002fgFyPIRuz\\u002fL9A4IBQtsP7v4BEdce+2vy\\u002fwB+r8u8UFsAAMk6NLDP8PwA4KofxM+u\\u002fgFbt+7Dk8L8ASAXRKICxv2CZO5eltyTAAIJSH6TUzr9gmLdhxRIPwEAuuYeCJAjAYA6SuUcuBECggpCZ82cCwEDRr7uZifO\\u002fsGPJjEAoGcBwwYI4IIwYQECDTT2DDgtAAAz25gGtvj\\u002fA0rQzZp4UQFAceTk6qhnAEMErCQOxEkAAWKJUsv\\u002fPP0BD\\u002fZiSIRJAAItGc6yo2b\\u002fAQDQPQcn\\u002fP8CyoYghhBRAgO5DUdZI7b8AXeyKOEfrP1D7mDbyiBDAQN6gbKryAkAAYE5uAcvKPwDqkvmC6\\u002fs\\u002fQKJuEM0mCECAgu2IEST5vwD31d1wofq\\u002fEG\\u002fYpkvnHUAAVnUlOU31P8B5JsffuPc\\u002fAEKEcc9k2r+Ag4w3W3\\u002f7vwC1eERnf\\u002fa\\u002fANVeZL8xFMDAd1qDKEr8v5gWPXI8PiBAKClYa18WJECw8TtJ0XkXQACSCRyq+gPAwPIS8HAWBsBAeP3zMoYFwKAT4lYAkRfAYI6AttrvEUDACw+TrBDxP4DndLt2Ofw\\u002fAFOH3RAG1r+wZr4b4QEZQEAiojkJjfC\\u002fkFaMQAjSFcCwJVLvhGcfQMAEMFmhSgDA4IqA1X\\u002ffCMAAIVNdt8PfP4B859SkgfO\\u002f0DgAZO1wE0BwW5poU6MWQOA\\u002fqC2wqgrAQFyHzn458b\\u002fAm2pFT5AAQAAHn2yjkdI\\u002f0BIvGh1TEMAALkwtA+cRQIARe\\u002fV2\\u002f+G\\u002f4AgHu\\u002fjoEcBAMSxejIv1v1COAOXU\\u002fhZAQDFyoA7DGUBATxj3mIkIQNAb8dkLShDAALbKa\\u002fxs4j\\u002fAxamz9vHyP2DW0ZGGLQjAYFyR\\u002fDfcAMA=\"},\"type\":\"histogram\"}],                        {\"template\":{\"data\":{\"histogram2dcontour\":[{\"type\":\"histogram2dcontour\",\"colorbar\":{\"outlinewidth\":0,\"ticks\":\"\"},\"colorscale\":[[0.0,\"#0d0887\"],[0.1111111111111111,\"#46039f\"],[0.2222222222222222,\"#7201a8\"],[0.3333333333333333,\"#9c179e\"],[0.4444444444444444,\"#bd3786\"],[0.5555555555555556,\"#d8576b\"],[0.6666666666666666,\"#ed7953\"],[0.7777777777777778,\"#fb9f3a\"],[0.8888888888888888,\"#fdca26\"],[1.0,\"#f0f921\"]]}],\"choropleth\":[{\"type\":\"choropleth\",\"colorbar\":{\"outlinewidth\":0,\"ticks\":\"\"}}],\"histogram2d\":[{\"type\":\"histogram2d\",\"colorbar\":{\"outlinewidth\":0,\"ticks\":\"\"},\"colorscale\":[[0.0,\"#0d0887\"],[0.1111111111111111,\"#46039f\"],[0.2222222222222222,\"#7201a8\"],[0.3333333333333333,\"#9c179e\"],[0.4444444444444444,\"#bd3786\"],[0.5555555555555556,\"#d8576b\"],[0.6666666666666666,\"#ed7953\"],[0.7777777777777778,\"#fb9f3a\"],[0.8888888888888888,\"#fdca26\"],[1.0,\"#f0f921\"]]}],\"heatmap\":[{\"type\":\"heatmap\",\"colorbar\":{\"outlinewidth\":0,\"ticks\":\"\"},\"colorscale\":[[0.0,\"#0d0887\"],[0.1111111111111111,\"#46039f\"],[0.2222222222222222,\"#7201a8\"],[0.3333333333333333,\"#9c179e\"],[0.4444444444444444,\"#bd3786\"],[0.5555555555555556,\"#d8576b\"],[0.6666666666666666,\"#ed7953\"],[0.7777777777777778,\"#fb9f3a\"],[0.8888888888888888,\"#fdca26\"],[1.0,\"#f0f921\"]]}],\"contourcarpet\":[{\"type\":\"contourcarpet\",\"colorbar\":{\"outlinewidth\":0,\"ticks\":\"\"}}],\"contour\":[{\"type\":\"contour\",\"colorbar\":{\"outlinewidth\":0,\"ticks\":\"\"},\"colorscale\":[[0.0,\"#0d0887\"],[0.1111111111111111,\"#46039f\"],[0.2222222222222222,\"#7201a8\"],[0.3333333333333333,\"#9c179e\"],[0.4444444444444444,\"#bd3786\"],[0.5555555555555556,\"#d8576b\"],[0.6666666666666666,\"#ed7953\"],[0.7777777777777778,\"#fb9f3a\"],[0.8888888888888888,\"#fdca26\"],[1.0,\"#f0f921\"]]}],\"surface\":[{\"type\":\"surface\",\"colorbar\":{\"outlinewidth\":0,\"ticks\":\"\"},\"colorscale\":[[0.0,\"#0d0887\"],[0.1111111111111111,\"#46039f\"],[0.2222222222222222,\"#7201a8\"],[0.3333333333333333,\"#9c179e\"],[0.4444444444444444,\"#bd3786\"],[0.5555555555555556,\"#d8576b\"],[0.6666666666666666,\"#ed7953\"],[0.7777777777777778,\"#fb9f3a\"],[0.8888888888888888,\"#fdca26\"],[1.0,\"#f0f921\"]]}],\"mesh3d\":[{\"type\":\"mesh3d\",\"colorbar\":{\"outlinewidth\":0,\"ticks\":\"\"}}],\"scatter\":[{\"fillpattern\":{\"fillmode\":\"overlay\",\"size\":10,\"solidity\":0.2},\"type\":\"scatter\"}],\"parcoords\":[{\"type\":\"parcoords\",\"line\":{\"colorbar\":{\"outlinewidth\":0,\"ticks\":\"\"}}}],\"scatterpolargl\":[{\"type\":\"scatterpolargl\",\"marker\":{\"colorbar\":{\"outlinewidth\":0,\"ticks\":\"\"}}}],\"bar\":[{\"error_x\":{\"color\":\"#2a3f5f\"},\"error_y\":{\"color\":\"#2a3f5f\"},\"marker\":{\"line\":{\"color\":\"#E5ECF6\",\"width\":0.5},\"pattern\":{\"fillmode\":\"overlay\",\"size\":10,\"solidity\":0.2}},\"type\":\"bar\"}],\"scattergeo\":[{\"type\":\"scattergeo\",\"marker\":{\"colorbar\":{\"outlinewidth\":0,\"ticks\":\"\"}}}],\"scatterpolar\":[{\"type\":\"scatterpolar\",\"marker\":{\"colorbar\":{\"outlinewidth\":0,\"ticks\":\"\"}}}],\"histogram\":[{\"marker\":{\"pattern\":{\"fillmode\":\"overlay\",\"size\":10,\"solidity\":0.2}},\"type\":\"histogram\"}],\"scattergl\":[{\"type\":\"scattergl\",\"marker\":{\"colorbar\":{\"outlinewidth\":0,\"ticks\":\"\"}}}],\"scatter3d\":[{\"type\":\"scatter3d\",\"line\":{\"colorbar\":{\"outlinewidth\":0,\"ticks\":\"\"}},\"marker\":{\"colorbar\":{\"outlinewidth\":0,\"ticks\":\"\"}}}],\"scattermap\":[{\"type\":\"scattermap\",\"marker\":{\"colorbar\":{\"outlinewidth\":0,\"ticks\":\"\"}}}],\"scattermapbox\":[{\"type\":\"scattermapbox\",\"marker\":{\"colorbar\":{\"outlinewidth\":0,\"ticks\":\"\"}}}],\"scatterternary\":[{\"type\":\"scatterternary\",\"marker\":{\"colorbar\":{\"outlinewidth\":0,\"ticks\":\"\"}}}],\"scattercarpet\":[{\"type\":\"scattercarpet\",\"marker\":{\"colorbar\":{\"outlinewidth\":0,\"ticks\":\"\"}}}],\"carpet\":[{\"aaxis\":{\"endlinecolor\":\"#2a3f5f\",\"gridcolor\":\"white\",\"linecolor\":\"white\",\"minorgridcolor\":\"white\",\"startlinecolor\":\"#2a3f5f\"},\"baxis\":{\"endlinecolor\":\"#2a3f5f\",\"gridcolor\":\"white\",\"linecolor\":\"white\",\"minorgridcolor\":\"white\",\"startlinecolor\":\"#2a3f5f\"},\"type\":\"carpet\"}],\"table\":[{\"cells\":{\"fill\":{\"color\":\"#EBF0F8\"},\"line\":{\"color\":\"white\"}},\"header\":{\"fill\":{\"color\":\"#C8D4E3\"},\"line\":{\"color\":\"white\"}},\"type\":\"table\"}],\"barpolar\":[{\"marker\":{\"line\":{\"color\":\"#E5ECF6\",\"width\":0.5},\"pattern\":{\"fillmode\":\"overlay\",\"size\":10,\"solidity\":0.2}},\"type\":\"barpolar\"}],\"pie\":[{\"automargin\":true,\"type\":\"pie\"}]},\"layout\":{\"autotypenumbers\":\"strict\",\"colorway\":[\"#636efa\",\"#EF553B\",\"#00cc96\",\"#ab63fa\",\"#FFA15A\",\"#19d3f3\",\"#FF6692\",\"#B6E880\",\"#FF97FF\",\"#FECB52\"],\"font\":{\"color\":\"#2a3f5f\"},\"hovermode\":\"closest\",\"hoverlabel\":{\"align\":\"left\"},\"paper_bgcolor\":\"white\",\"plot_bgcolor\":\"#E5ECF6\",\"polar\":{\"bgcolor\":\"#E5ECF6\",\"angularaxis\":{\"gridcolor\":\"white\",\"linecolor\":\"white\",\"ticks\":\"\"},\"radialaxis\":{\"gridcolor\":\"white\",\"linecolor\":\"white\",\"ticks\":\"\"}},\"ternary\":{\"bgcolor\":\"#E5ECF6\",\"aaxis\":{\"gridcolor\":\"white\",\"linecolor\":\"white\",\"ticks\":\"\"},\"baxis\":{\"gridcolor\":\"white\",\"linecolor\":\"white\",\"ticks\":\"\"},\"caxis\":{\"gridcolor\":\"white\",\"linecolor\":\"white\",\"ticks\":\"\"}},\"coloraxis\":{\"colorbar\":{\"outlinewidth\":0,\"ticks\":\"\"}},\"colorscale\":{\"sequential\":[[0.0,\"#0d0887\"],[0.1111111111111111,\"#46039f\"],[0.2222222222222222,\"#7201a8\"],[0.3333333333333333,\"#9c179e\"],[0.4444444444444444,\"#bd3786\"],[0.5555555555555556,\"#d8576b\"],[0.6666666666666666,\"#ed7953\"],[0.7777777777777778,\"#fb9f3a\"],[0.8888888888888888,\"#fdca26\"],[1.0,\"#f0f921\"]],\"sequentialminus\":[[0.0,\"#0d0887\"],[0.1111111111111111,\"#46039f\"],[0.2222222222222222,\"#7201a8\"],[0.3333333333333333,\"#9c179e\"],[0.4444444444444444,\"#bd3786\"],[0.5555555555555556,\"#d8576b\"],[0.6666666666666666,\"#ed7953\"],[0.7777777777777778,\"#fb9f3a\"],[0.8888888888888888,\"#fdca26\"],[1.0,\"#f0f921\"]],\"diverging\":[[0,\"#8e0152\"],[0.1,\"#c51b7d\"],[0.2,\"#de77ae\"],[0.3,\"#f1b6da\"],[0.4,\"#fde0ef\"],[0.5,\"#f7f7f7\"],[0.6,\"#e6f5d0\"],[0.7,\"#b8e186\"],[0.8,\"#7fbc41\"],[0.9,\"#4d9221\"],[1,\"#276419\"]]},\"xaxis\":{\"gridcolor\":\"white\",\"linecolor\":\"white\",\"ticks\":\"\",\"title\":{\"standoff\":15},\"zerolinecolor\":\"white\",\"automargin\":true,\"zerolinewidth\":2},\"yaxis\":{\"gridcolor\":\"white\",\"linecolor\":\"white\",\"ticks\":\"\",\"title\":{\"standoff\":15},\"zerolinecolor\":\"white\",\"automargin\":true,\"zerolinewidth\":2},\"scene\":{\"xaxis\":{\"backgroundcolor\":\"#E5ECF6\",\"gridcolor\":\"white\",\"linecolor\":\"white\",\"showbackground\":true,\"ticks\":\"\",\"zerolinecolor\":\"white\",\"gridwidth\":2},\"yaxis\":{\"backgroundcolor\":\"#E5ECF6\",\"gridcolor\":\"white\",\"linecolor\":\"white\",\"showbackground\":true,\"ticks\":\"\",\"zerolinecolor\":\"white\",\"gridwidth\":2},\"zaxis\":{\"backgroundcolor\":\"#E5ECF6\",\"gridcolor\":\"white\",\"linecolor\":\"white\",\"showbackground\":true,\"ticks\":\"\",\"zerolinecolor\":\"white\",\"gridwidth\":2}},\"shapedefaults\":{\"line\":{\"color\":\"#2a3f5f\"}},\"annotationdefaults\":{\"arrowcolor\":\"#2a3f5f\",\"arrowhead\":0,\"arrowwidth\":1},\"geo\":{\"bgcolor\":\"white\",\"landcolor\":\"#E5ECF6\",\"subunitcolor\":\"white\",\"showland\":true,\"showlakes\":true,\"lakecolor\":\"white\"},\"title\":{\"x\":0.05},\"mapbox\":{\"style\":\"light\"}}},\"title\":{\"text\":\"Histogram of shuffle differences in means\"},\"xaxis\":{\"title\":{\"text\":\"Shuffle differences in means\"}},\"yaxis\":{\"title\":{\"text\":\"Probability\"}},\"width\":700},                        {\"responsive\": true}                    )                };            </script>        </div>"
      ],
      "text/plain": [
       "Figure({\n",
       "    'data': [{'histnorm': 'probability',\n",
       "              'type': 'histogram',\n",
       "              'x': {'bdata': ('wI3Vrxc2FUAAcDlFEWasv8CyTcEyH/' ... 'mz9vHyP2DW0ZGGLQjAYFyR/DfcAMA='),\n",
       "                    'dtype': 'f8'}}],\n",
       "    'layout': {'template': '...',\n",
       "               'title': {'text': 'Histogram of shuffle differences in means'},\n",
       "               'width': 700,\n",
       "               'xaxis': {'title': {'text': 'Shuffle differences in means'}},\n",
       "               'yaxis': {'title': {'text': 'Probability'}}}\n",
       "})"
      ]
     },
     "execution_count": 96,
     "metadata": {},
     "output_type": "execute_result"
    }
   ],
   "source": [
    "# Create a histogram of the shuffle_diffAB values\n",
    "fig = graph_objects.Figure(\n",
    "    graph_objects.Histogram(\n",
    "        x=shuffle_diffAB,\n",
    "        histnorm='probability'\n",
    "    )\n",
    ")\n",
    "\n",
    "fig.update_layout(\n",
    "    title='Histogram of shuffle differences in means',\n",
    "    xaxis_title='Shuffle differences in means',\n",
    "    yaxis_title='Probability',\n",
    "    width=700\n",
    ")"
   ]
  },
  {
   "cell_type": "code",
   "execution_count": 97,
   "metadata": {},
   "outputs": [
    {
     "data": {
      "text/plain": [
       "np.float64(0.613)"
      ]
     },
     "execution_count": 97,
     "metadata": {},
     "output_type": "execute_result"
    }
   ],
   "source": [
    "# Calculate the proportion of values in shuffle_diffAB that are less than -1.7692322524601138 and more than 1.7692322524601138\n",
    "(shuffle_diffAB < -1.7692322524601138).sum() / 1000 + (shuffle_diffAB > 1.7692322524601138).sum() / 1000"
   ]
  },
  {
   "cell_type": "code",
   "execution_count": 98,
   "metadata": {},
   "outputs": [
    {
     "data": {
      "text/plain": [
       "TtestResult(statistic=np.float64(0.46467545416265077), pvalue=np.float64(0.6439036104859195), df=np.float64(58.0))"
      ]
     },
     "execution_count": 98,
     "metadata": {},
     "output_type": "execute_result"
    }
   ],
   "source": [
    "# Use the ttest.ind function to calculate the t statistic and p-value for the two samples\n",
    "stats.ttest_ind(sampleA, sampleB)"
   ]
  },
  {
   "cell_type": "markdown",
   "metadata": {},
   "source": [
    "# Quiz Questions"
   ]
  },
  {
   "cell_type": "code",
   "execution_count": 99,
   "metadata": {},
   "outputs": [],
   "source": [
    "# Seed the pseudo-random number generator\n",
    "numpy.random.seed(28)\n",
    "\n",
    "# Create an array of random values from a normal distribution with a mean of 85 and a standard deviation of 10 and assign it to the variable dBP\n",
    "dBP = numpy.random.normal(85, 10, 100000)"
   ]
  },
  {
   "cell_type": "code",
   "execution_count": 100,
   "metadata": {},
   "outputs": [
    {
     "data": {
      "text/plain": [
       "np.float64(84.95549142317857)"
      ]
     },
     "execution_count": 100,
     "metadata": {},
     "output_type": "execute_result"
    }
   ],
   "source": [
    "# Calculate the population mean\n",
    "dBP.mean()"
   ]
  },
  {
   "cell_type": "markdown",
   "metadata": {},
   "source": [
    "### Using Notebook to give the code for the answers to the quiz questions"
   ]
  },
  {
   "cell_type": "markdown",
   "metadata": {},
   "source": [
    "1. Select a random sample of 40 individuals from the population and assign the created numpy array to the variable sample."
   ]
  },
  {
   "cell_type": "code",
   "execution_count": 108,
   "metadata": {},
   "outputs": [],
   "source": [
    "# Use the random seed value of 12 through to answer the following questions or perform the indicated tasks.\n",
    "numpy.random.seed(12)\n",
    "\n",
    "# Select a random sample of 40 individuals from the population and assign the created numpy array to the variable sample.\n",
    "sample = numpy.random.choice(dBP, 40)"
   ]
  },
  {
   "cell_type": "markdown",
   "metadata": {},
   "source": [
    "2. Calculate the sample mean and assign the value to the variable sample_mean.\n"
   ]
  },
  {
   "cell_type": "code",
   "execution_count": 109,
   "metadata": {},
   "outputs": [
    {
     "data": {
      "text/plain": [
       "np.float64(84.20409664941648)"
      ]
     },
     "execution_count": 109,
     "metadata": {},
     "output_type": "execute_result"
    }
   ],
   "source": [
    "\n",
    "#Calculate the sample mean and assign the value to the variable sample_mean.\n",
    "sample_mean = sample.mean()\n",
    "sample_mean"
   ]
  },
  {
   "cell_type": "markdown",
   "metadata": {},
   "source": [
    "3. Calculate the standard deviation of the sample and assign the value to the variable sample_std.\n",
    "\n"
   ]
  },
  {
   "cell_type": "code",
   "execution_count": 110,
   "metadata": {},
   "outputs": [
    {
     "data": {
      "text/plain": [
       "np.float64(9.343691253800298)"
      ]
     },
     "execution_count": 110,
     "metadata": {},
     "output_type": "execute_result"
    }
   ],
   "source": [
    "#Calculate the standard deviation of the sample and assign the value to the variable sample_std.\n",
    "sample_std = sample.std(ddof=1)\n",
    "sample_std"
   ]
  },
  {
   "cell_type": "markdown",
   "metadata": {},
   "source": [
    "4. Calculate the standard error of the sample and assign the value to the variable standard_error."
   ]
  },
  {
   "cell_type": "code",
   "execution_count": 111,
   "metadata": {},
   "outputs": [
    {
     "data": {
      "text/plain": [
       "np.float64(1.4773673057701677)"
      ]
     },
     "execution_count": 111,
     "metadata": {},
     "output_type": "execute_result"
    }
   ],
   "source": [
    "#Calculate the standard error of the sample and assign the value to the variable standard_error\n",
    "standard_error = sample_std / numpy.sqrt(40)\n",
    "standard_error"
   ]
  },
  {
   "cell_type": "markdown",
   "metadata": {},
   "source": [
    "5. Calculate the confidence coefficient for a 95% confidence level, given the sample size and degrees of freedom, and assign the value to the variable c.\n",
    "\n"
   ]
  },
  {
   "cell_type": "code",
   "execution_count": 112,
   "metadata": {},
   "outputs": [
    {
     "data": {
      "text/plain": [
       "np.float64(2.0226909200367604)"
      ]
     },
     "execution_count": 112,
     "metadata": {},
     "output_type": "execute_result"
    }
   ],
   "source": [
    "# Calculate the confidence coefficient for a 95% confidence level, given the sample size and degrees of freedom, and assign the value to the variable c.\n",
    "c = stats.t.ppf(0.975, 39)\n",
    "c"
   ]
  },
  {
   "cell_type": "markdown",
   "metadata": {},
   "source": [
    "6. Calculate the lower bound of the confidence interval for the sample mean and assign the result to the variable lower_bound."
   ]
  },
  {
   "cell_type": "code",
   "execution_count": 113,
   "metadata": {},
   "outputs": [
    {
     "data": {
      "text/plain": [
       "np.float64(81.21583921447599)"
      ]
     },
     "execution_count": 113,
     "metadata": {},
     "output_type": "execute_result"
    }
   ],
   "source": [
    "# Calculate the lower bound of the confidence interval for the sample mean and assign the result to the variable lower_bound.\n",
    "lower_bound = sample_mean - c * standard_error\n",
    "lower_bound"
   ]
  },
  {
   "cell_type": "markdown",
   "metadata": {},
   "source": [
    "7. Calculate the upper bound of the confidence interval for the sample mean and assign the result to the variable upper_bound"
   ]
  },
  {
   "cell_type": "code",
   "execution_count": 114,
   "metadata": {},
   "outputs": [
    {
     "data": {
      "text/plain": [
       "np.float64(87.19235408435698)"
      ]
     },
     "execution_count": 114,
     "metadata": {},
     "output_type": "execute_result"
    }
   ],
   "source": [
    "# Calculate the upper bound of the confidence interval for the sample mean and assign the result to the variable upper_bound\n",
    "upper_bound = sample_mean + c * standard_error\n",
    "upper_bound"
   ]
  },
  {
   "cell_type": "markdown",
   "metadata": {},
   "source": [
    "8. Create an array of 1000 bootstrapped sample means (using the sample size of 40) and assign the array to the variable bootstrapped_means and sort the values in the array in ascending order.\n"
   ]
  },
  {
   "cell_type": "code",
   "execution_count": 115,
   "metadata": {},
   "outputs": [],
   "source": [
    "# Create an array of 1000 bootstrapped sample means (using the sample size of 40) and assign the array to the variable bootstrapped_means and sort the values in the array in ascending order\n",
    "bootstrapped_means = numpy.sort([numpy.random.choice(sample, 40, replace=True).mean() for _ in range(1000)])"
   ]
  },
  {
   "cell_type": "markdown",
   "metadata": {},
   "source": [
    "9. Show the bootstrapped value representing the 2.5th percentile."
   ]
  },
  {
   "cell_type": "code",
   "execution_count": 116,
   "metadata": {},
   "outputs": [
    {
     "data": {
      "text/plain": [
       "np.float64(81.30958951511873)"
      ]
     },
     "execution_count": 116,
     "metadata": {},
     "output_type": "execute_result"
    }
   ],
   "source": [
    "# Show the bootstrapped value representing the 2.5th percentile\n",
    "bootstrapped_means[24]"
   ]
  },
  {
   "cell_type": "markdown",
   "metadata": {},
   "source": [
    "10. Show the value bootstrapped representing the 97.5th percentile.\n",
    "\n"
   ]
  },
  {
   "cell_type": "code",
   "execution_count": 117,
   "metadata": {},
   "outputs": [
    {
     "data": {
      "text/plain": [
       "np.float64(86.84375326075755)"
      ]
     },
     "execution_count": 117,
     "metadata": {},
     "output_type": "execute_result"
    }
   ],
   "source": [
    "# Show the bootstrapped value representing the 97.5th percentile\n",
    "bootstrapped_means[974]\n"
   ]
  }
 ],
 "metadata": {
  "kernelspec": {
   "display_name": ".venv",
   "language": "python",
   "name": "python3"
  },
  "language_info": {
   "codemirror_mode": {
    "name": "ipython",
    "version": 3
   },
   "file_extension": ".py",
   "mimetype": "text/x-python",
   "name": "python",
   "nbconvert_exporter": "python",
   "pygments_lexer": "ipython3",
   "version": "3.9.6"
  }
 },
 "nbformat": 4,
 "nbformat_minor": 2
}
