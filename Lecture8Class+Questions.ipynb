{
 "cells": [
  {
   "cell_type": "markdown",
   "metadata": {},
   "source": [
    "# <span style=\"color: mediumvioletred;\"><u>**Lecture 8 Data Wrangling (Lecture and Quiz Questions):**</u></span>\n",
    "#### <span style=\"color: MediumPurple;\">Sophia Dalal </span>\n",
    "#### <span style=\"color: MediumPurple;\">March 14 2025  </span>"
   ]
  },
  {
   "cell_type": "markdown",
   "metadata": {},
   "source": [
    "### <span style=\"color: lightblue;\"><u>Working with Data</u></span>"
   ]
  },
  {
   "cell_type": "markdown",
   "metadata": {},
   "source": [
    "### <span style=\"color: lightgreen;\">Import Packages </span>"
   ]
  },
  {
   "cell_type": "code",
   "execution_count": 1,
   "metadata": {},
   "outputs": [],
   "source": [
    "import pandas as pd  # Package to work with data\n",
    "\n",
    "import numpy as np  # Numerical analysis package"
   ]
  },
  {
   "cell_type": "code",
   "execution_count": 6,
   "metadata": {},
   "outputs": [],
   "source": [
    "# Import the data.csv file as assign it to the variable df\n",
    "df = pd.read_csv('/Users/sophiadalal/Desktop/Health Data Science /(Edited csv) Pregnancy During the COVID-19 Pandemic.csv')"
   ]
  },
  {
   "cell_type": "code",
   "execution_count": 3,
   "metadata": {},
   "outputs": [
    {
     "data": {
      "text/plain": [
       "pandas.core.frame.DataFrame"
      ]
     },
     "execution_count": 3,
     "metadata": {},
     "output_type": "execute_result"
    }
   ],
   "source": [
    "type(df)"
   ]
  },
  {
   "cell_type": "code",
   "execution_count": 4,
   "metadata": {},
   "outputs": [
    {
     "data": {
      "text/plain": [
       "['Birth_Length',\n",
       " 'Birth_Weight',\n",
       " 'Delivery_Mode',\n",
       " 'Edinburgh_Postnatal_Depression_Scale',\n",
       " 'Gestational_Age_At_Birth',\n",
       " 'Language',\n",
       " 'Maternal_Age',\n",
       " 'Maternal_Education',\n",
       " 'NICU_Stay',\n",
       " 'OSF_ID',\n",
       " 'PROMIS_Anxiety',\n",
       " 'T',\n",
       " 'Threaten_Baby_Danger',\n",
       " 'Threaten_Baby_Harm',\n",
       " 'Threaten_Life',\n",
       " '_AXIS_LEN',\n",
       " '_AXIS_ORDERS',\n",
       " '_AXIS_TO_AXIS_NUMBER',\n",
       " '_HANDLED_TYPES',\n",
       " '__abs__']"
      ]
     },
     "execution_count": 4,
     "metadata": {},
     "output_type": "execute_result"
    }
   ],
   "source": [
    "# Print the first 20 methods and attributes of df suing the dir function\n",
    "dir(df)[:20]"
   ]
  },
  {
   "cell_type": "code",
   "execution_count": 7,
   "metadata": {},
   "outputs": [
    {
     "data": {
      "text/html": [
       "<div>\n",
       "<style scoped>\n",
       "    .dataframe tbody tr th:only-of-type {\n",
       "        vertical-align: middle;\n",
       "    }\n",
       "\n",
       "    .dataframe tbody tr th {\n",
       "        vertical-align: top;\n",
       "    }\n",
       "\n",
       "    .dataframe thead th {\n",
       "        text-align: right;\n",
       "    }\n",
       "</style>\n",
       "<table border=\"1\" class=\"dataframe\">\n",
       "  <thead>\n",
       "    <tr style=\"text-align: right;\">\n",
       "      <th></th>\n",
       "      <th>OSF_ID</th>\n",
       "      <th>Maternal_Age</th>\n",
       "      <th>Maternal_Education</th>\n",
       "      <th>Edinburgh_Postnatal_Depression_Scale</th>\n",
       "      <th>PROMIS_Anxiety</th>\n",
       "      <th>Gestational_Age_At_Birth</th>\n",
       "      <th>Delivery_Date(converted to month and year)</th>\n",
       "      <th>Birth_Length</th>\n",
       "      <th>Birth_Weight</th>\n",
       "      <th>Delivery_Mode</th>\n",
       "      <th>NICU_Stay</th>\n",
       "      <th>Language</th>\n",
       "      <th>Threaten_Life</th>\n",
       "      <th>Threaten_Baby_Danger</th>\n",
       "      <th>Threaten_Baby_Harm</th>\n",
       "      <th>NICU_Stay.1</th>\n",
       "    </tr>\n",
       "  </thead>\n",
       "  <tbody>\n",
       "    <tr>\n",
       "      <th>0</th>\n",
       "      <td>1</td>\n",
       "      <td>38.3</td>\n",
       "      <td>3.0</td>\n",
       "      <td>9.0</td>\n",
       "      <td>13.0</td>\n",
       "      <td>39.71</td>\n",
       "      <td>Dec-20</td>\n",
       "      <td>49.20</td>\n",
       "      <td>3431.0</td>\n",
       "      <td>0.0</td>\n",
       "      <td>0.0</td>\n",
       "      <td>0</td>\n",
       "      <td>2</td>\n",
       "      <td>3</td>\n",
       "      <td>27</td>\n",
       "      <td>NaN</td>\n",
       "    </tr>\n",
       "    <tr>\n",
       "      <th>1</th>\n",
       "      <td>2</td>\n",
       "      <td>34.6</td>\n",
       "      <td>1.0</td>\n",
       "      <td>4.0</td>\n",
       "      <td>17.0</td>\n",
       "      <td>NaN</td>\n",
       "      <td>NaN</td>\n",
       "      <td>NaN</td>\n",
       "      <td>NaN</td>\n",
       "      <td>NaN</td>\n",
       "      <td>NaN</td>\n",
       "      <td>0</td>\n",
       "      <td>2</td>\n",
       "      <td>33</td>\n",
       "      <td>92</td>\n",
       "      <td>NaN</td>\n",
       "    </tr>\n",
       "    <tr>\n",
       "      <th>2</th>\n",
       "      <td>3</td>\n",
       "      <td>34.3</td>\n",
       "      <td>1.0</td>\n",
       "      <td>NaN</td>\n",
       "      <td>NaN</td>\n",
       "      <td>NaN</td>\n",
       "      <td>NaN</td>\n",
       "      <td>NaN</td>\n",
       "      <td>NaN</td>\n",
       "      <td>NaN</td>\n",
       "      <td>NaN</td>\n",
       "      <td>1</td>\n",
       "      <td></td>\n",
       "      <td></td>\n",
       "      <td></td>\n",
       "      <td>NaN</td>\n",
       "    </tr>\n",
       "    <tr>\n",
       "      <th>3</th>\n",
       "      <td>4</td>\n",
       "      <td>28.8</td>\n",
       "      <td>3.0</td>\n",
       "      <td>9.0</td>\n",
       "      <td>20.0</td>\n",
       "      <td>38.57</td>\n",
       "      <td>Dec-20</td>\n",
       "      <td>41.00</td>\n",
       "      <td>2534.0</td>\n",
       "      <td>0.0</td>\n",
       "      <td>0.0</td>\n",
       "      <td>1</td>\n",
       "      <td>53</td>\n",
       "      <td>67</td>\n",
       "      <td>54</td>\n",
       "      <td>0.0</td>\n",
       "    </tr>\n",
       "    <tr>\n",
       "      <th>4</th>\n",
       "      <td>5</td>\n",
       "      <td>36.5</td>\n",
       "      <td>1.0</td>\n",
       "      <td>14.0</td>\n",
       "      <td>20.0</td>\n",
       "      <td>39.86</td>\n",
       "      <td>Oct-20</td>\n",
       "      <td>53.34</td>\n",
       "      <td>3714.0</td>\n",
       "      <td>1.0</td>\n",
       "      <td>0.0</td>\n",
       "      <td>0</td>\n",
       "      <td>23</td>\n",
       "      <td>32</td>\n",
       "      <td>71</td>\n",
       "      <td>0.0</td>\n",
       "    </tr>\n",
       "  </tbody>\n",
       "</table>\n",
       "</div>"
      ],
      "text/plain": [
       "   OSF_ID  Maternal_Age  Maternal_Education  \\\n",
       "0       1          38.3                 3.0   \n",
       "1       2          34.6                 1.0   \n",
       "2       3          34.3                 1.0   \n",
       "3       4          28.8                 3.0   \n",
       "4       5          36.5                 1.0   \n",
       "\n",
       "   Edinburgh_Postnatal_Depression_Scale  PROMIS_Anxiety  \\\n",
       "0                                   9.0            13.0   \n",
       "1                                   4.0            17.0   \n",
       "2                                   NaN             NaN   \n",
       "3                                   9.0            20.0   \n",
       "4                                  14.0            20.0   \n",
       "\n",
       "   Gestational_Age_At_Birth Delivery_Date(converted to month and year)  \\\n",
       "0                     39.71                                     Dec-20   \n",
       "1                       NaN                                        NaN   \n",
       "2                       NaN                                        NaN   \n",
       "3                     38.57                                     Dec-20   \n",
       "4                     39.86                                     Oct-20   \n",
       "\n",
       "   Birth_Length  Birth_Weight  Delivery_Mode  NICU_Stay  Language  \\\n",
       "0         49.20        3431.0            0.0        0.0         0   \n",
       "1           NaN           NaN            NaN        NaN         0   \n",
       "2           NaN           NaN            NaN        NaN         1   \n",
       "3         41.00        2534.0            0.0        0.0         1   \n",
       "4         53.34        3714.0            1.0        0.0         0   \n",
       "\n",
       "  Threaten_Life Threaten_Baby_Danger Threaten_Baby_Harm  NICU_Stay.1  \n",
       "0             2                    3                 27          NaN  \n",
       "1             2                   33                 92          NaN  \n",
       "2                                                                NaN  \n",
       "3            53                   67                 54          0.0  \n",
       "4            23                   32                 71          0.0  "
      ]
     },
     "execution_count": 7,
     "metadata": {},
     "output_type": "execute_result"
    }
   ],
   "source": [
    "# Use the head method to print the first 5 rows of df\n",
    "df.head()"
   ]
  },
  {
   "cell_type": "code",
   "execution_count": 8,
   "metadata": {},
   "outputs": [
    {
     "data": {
      "text/plain": [
       "(10772, 16)"
      ]
     },
     "execution_count": 8,
     "metadata": {},
     "output_type": "execute_result"
    }
   ],
   "source": [
    "# Print the shape of df\n",
    "df.shape"
   ]
  },
  {
   "cell_type": "code",
   "execution_count": 9,
   "metadata": {},
   "outputs": [
    {
     "data": {
      "text/plain": [
       "Index(['OSF_ID', 'Maternal_Age', 'Maternal_Education',\n",
       "       'Edinburgh_Postnatal_Depression_Scale', 'PROMIS_Anxiety',\n",
       "       'Gestational_Age_At_Birth',\n",
       "       'Delivery_Date(converted to month and year)', 'Birth_Length',\n",
       "       'Birth_Weight', 'Delivery_Mode', 'NICU_Stay', 'Language',\n",
       "       'Threaten_Life', 'Threaten_Baby_Danger', 'Threaten_Baby_Harm',\n",
       "       'NICU_Stay.1'],\n",
       "      dtype='object')"
      ]
     },
     "execution_count": 9,
     "metadata": {},
     "output_type": "execute_result"
    }
   ],
   "source": [
    "# Print the columns of df\n",
    "df.columns"
   ]
  },
  {
   "cell_type": "code",
   "execution_count": 10,
   "metadata": {},
   "outputs": [
    {
     "data": {
      "text/plain": [
       "2"
      ]
     },
     "execution_count": 10,
     "metadata": {},
     "output_type": "execute_result"
    }
   ],
   "source": [
    "# Print the dimensions of df\n",
    "df.ndim"
   ]
  },
  {
   "cell_type": "code",
   "execution_count": 11,
   "metadata": {},
   "outputs": [
    {
     "data": {
      "text/plain": [
       "172352"
      ]
     },
     "execution_count": 11,
     "metadata": {},
     "output_type": "execute_result"
    }
   ],
   "source": [
    "# Print the size of df\n",
    "df.size"
   ]
  },
  {
   "cell_type": "code",
   "execution_count": 12,
   "metadata": {},
   "outputs": [
    {
     "data": {
      "text/plain": [
       "OSF_ID                                          int64\n",
       "Maternal_Age                                  float64\n",
       "Maternal_Education                            float64\n",
       "Edinburgh_Postnatal_Depression_Scale          float64\n",
       "PROMIS_Anxiety                                float64\n",
       "Gestational_Age_At_Birth                      float64\n",
       "Delivery_Date(converted to month and year)     object\n",
       "Birth_Length                                  float64\n",
       "Birth_Weight                                  float64\n",
       "Delivery_Mode                                 float64\n",
       "NICU_Stay                                     float64\n",
       "Language                                        int64\n",
       "Threaten_Life                                  object\n",
       "Threaten_Baby_Danger                           object\n",
       "Threaten_Baby_Harm                             object\n",
       "NICU_Stay.1                                   float64\n",
       "dtype: object"
      ]
     },
     "execution_count": 12,
     "metadata": {},
     "output_type": "execute_result"
    }
   ],
   "source": [
    "# Print the type of df\n",
    "df.dtypes"
   ]
  },
  {
   "cell_type": "markdown",
   "metadata": {},
   "source": [
    "### <span style=\"color: lightgreen;\"> Selecting Rows and Columns </span>"
   ]
  },
  {
   "cell_type": "code",
   "execution_count": 14,
   "metadata": {},
   "outputs": [],
   "source": [
    "# Assign the Age column in df to the variable age_column\n",
    "age_column = df['Maternal_Age']"
   ]
  },
  {
   "cell_type": "code",
   "execution_count": 15,
   "metadata": {},
   "outputs": [
    {
     "data": {
      "text/plain": [
       "pandas.core.series.Series"
      ]
     },
     "execution_count": 15,
     "metadata": {},
     "output_type": "execute_result"
    }
   ],
   "source": [
    "# Print the type of age_column\n",
    "type(age_column)"
   ]
  },
  {
   "cell_type": "code",
   "execution_count": 17,
   "metadata": {},
   "outputs": [],
   "source": [
    "# Assign the Age column in df to the variable age_column and use dot notation\n",
    "age_column = df.Maternal_Age"
   ]
  },
  {
   "cell_type": "code",
   "execution_count": 18,
   "metadata": {},
   "outputs": [
    {
     "data": {
      "text/plain": [
       "0    38.3\n",
       "1    34.6\n",
       "2    34.3\n",
       "3    28.8\n",
       "4    36.5\n",
       "Name: Maternal_Age, dtype: float64"
      ]
     },
     "execution_count": 18,
     "metadata": {},
     "output_type": "execute_result"
    }
   ],
   "source": [
    "# Print the first 5 rows of age_column\n",
    "age_column.head()"
   ]
  },
  {
   "cell_type": "code",
   "execution_count": 20,
   "metadata": {},
   "outputs": [
    {
     "data": {
      "text/plain": [
       "pandas.core.series.Series"
      ]
     },
     "execution_count": 20,
     "metadata": {},
     "output_type": "execute_result"
    }
   ],
   "source": [
    "Maternal_Education = df.Maternal_Education\n",
    "type(Maternal_Education)"
   ]
  },
  {
   "cell_type": "code",
   "execution_count": 21,
   "metadata": {},
   "outputs": [
    {
     "data": {
      "text/plain": [
       "10767    1.0\n",
       "10768    1.0\n",
       "10769    2.0\n",
       "10770    2.0\n",
       "10771    3.0\n",
       "Name: Maternal_Education, dtype: float64"
      ]
     },
     "execution_count": 21,
     "metadata": {},
     "output_type": "execute_result"
    }
   ],
   "source": [
    "Maternal_Education.tail()"
   ]
  },
  {
   "cell_type": "code",
   "execution_count": 23,
   "metadata": {},
   "outputs": [],
   "source": [
    "# Convert the age_column to a numpy array and assign it to the variable age\n",
    "age = age_column.to_numpy()"
   ]
  },
  {
   "cell_type": "code",
   "execution_count": 24,
   "metadata": {},
   "outputs": [
    {
     "data": {
      "text/plain": [
       "numpy.ndarray"
      ]
     },
     "execution_count": 24,
     "metadata": {},
     "output_type": "execute_result"
    }
   ],
   "source": [
    "# Print the type of age\n",
    "type(age)"
   ]
  },
  {
   "cell_type": "code",
   "execution_count": 33,
   "metadata": {},
   "outputs": [
    {
     "name": "stdout",
     "output_type": "stream",
     "text": [
      "31.844601819716722\n"
     ]
    }
   ],
   "source": [
    "# Calculate the average age in age_column\n",
    "age_column.mean()\n",
    "print(age_column.mean())"
   ]
  },
  {
   "cell_type": "code",
   "execution_count": 32,
   "metadata": {},
   "outputs": [
    {
     "name": "stdout",
     "output_type": "stream",
     "text": [
      "17.0\n"
     ]
    }
   ],
   "source": [
    "# Calculate the minimum age in age_column\n",
    "age_column.min()\n",
    "print(age_column.min())"
   ]
  },
  {
   "cell_type": "code",
   "execution_count": 31,
   "metadata": {},
   "outputs": [
    {
     "name": "stdout",
     "output_type": "stream",
     "text": [
      "49.7\n"
     ]
    }
   ],
   "source": [
    "# Calculate the maximum age in age_column\n",
    "age_column.max()\n",
    "# Just print the max age \n",
    "print(age_column.max())"
   ]
  },
  {
   "cell_type": "code",
   "execution_count": 34,
   "metadata": {},
   "outputs": [
    {
     "data": {
      "text/plain": [
       "OSF_ID                                             1\n",
       "Maternal_Age                                    38.3\n",
       "Maternal_Education                               3.0\n",
       "Edinburgh_Postnatal_Depression_Scale             9.0\n",
       "PROMIS_Anxiety                                  13.0\n",
       "Gestational_Age_At_Birth                       39.71\n",
       "Delivery_Date(converted to month and year)    Dec-20\n",
       "Birth_Length                                    49.2\n",
       "Birth_Weight                                  3431.0\n",
       "Delivery_Mode                                    0.0\n",
       "NICU_Stay                                        0.0\n",
       "Language                                           0\n",
       "Threaten_Life                                      2\n",
       "Threaten_Baby_Danger                               3\n",
       "Threaten_Baby_Harm                                27\n",
       "NICU_Stay.1                                      NaN\n",
       "Name: 0, dtype: object"
      ]
     },
     "execution_count": 34,
     "metadata": {},
     "output_type": "execute_result"
    }
   ],
   "source": [
    "# Display the first row of data in df using the iloc method\n",
    "df.iloc[0] # Note the use of square brackets"
   ]
  },
  {
   "cell_type": "code",
   "execution_count": 35,
   "metadata": {},
   "outputs": [
    {
     "data": {
      "text/html": [
       "<div>\n",
       "<style scoped>\n",
       "    .dataframe tbody tr th:only-of-type {\n",
       "        vertical-align: middle;\n",
       "    }\n",
       "\n",
       "    .dataframe tbody tr th {\n",
       "        vertical-align: top;\n",
       "    }\n",
       "\n",
       "    .dataframe thead th {\n",
       "        text-align: right;\n",
       "    }\n",
       "</style>\n",
       "<table border=\"1\" class=\"dataframe\">\n",
       "  <thead>\n",
       "    <tr style=\"text-align: right;\">\n",
       "      <th></th>\n",
       "      <th>OSF_ID</th>\n",
       "      <th>Maternal_Age</th>\n",
       "      <th>Maternal_Education</th>\n",
       "      <th>Edinburgh_Postnatal_Depression_Scale</th>\n",
       "      <th>PROMIS_Anxiety</th>\n",
       "      <th>Gestational_Age_At_Birth</th>\n",
       "      <th>Delivery_Date(converted to month and year)</th>\n",
       "      <th>Birth_Length</th>\n",
       "      <th>Birth_Weight</th>\n",
       "      <th>Delivery_Mode</th>\n",
       "      <th>NICU_Stay</th>\n",
       "      <th>Language</th>\n",
       "      <th>Threaten_Life</th>\n",
       "      <th>Threaten_Baby_Danger</th>\n",
       "      <th>Threaten_Baby_Harm</th>\n",
       "      <th>NICU_Stay.1</th>\n",
       "    </tr>\n",
       "  </thead>\n",
       "  <tbody>\n",
       "    <tr>\n",
       "      <th>1</th>\n",
       "      <td>2</td>\n",
       "      <td>34.6</td>\n",
       "      <td>1.0</td>\n",
       "      <td>4.0</td>\n",
       "      <td>17.0</td>\n",
       "      <td>NaN</td>\n",
       "      <td>NaN</td>\n",
       "      <td>NaN</td>\n",
       "      <td>NaN</td>\n",
       "      <td>NaN</td>\n",
       "      <td>NaN</td>\n",
       "      <td>0</td>\n",
       "      <td>2</td>\n",
       "      <td>33</td>\n",
       "      <td>92</td>\n",
       "      <td>NaN</td>\n",
       "    </tr>\n",
       "    <tr>\n",
       "      <th>4</th>\n",
       "      <td>5</td>\n",
       "      <td>36.5</td>\n",
       "      <td>1.0</td>\n",
       "      <td>14.0</td>\n",
       "      <td>20.0</td>\n",
       "      <td>39.86</td>\n",
       "      <td>Oct-20</td>\n",
       "      <td>53.34</td>\n",
       "      <td>3714.0</td>\n",
       "      <td>1.0</td>\n",
       "      <td>0.0</td>\n",
       "      <td>0</td>\n",
       "      <td>23</td>\n",
       "      <td>32</td>\n",
       "      <td>71</td>\n",
       "      <td>0.0</td>\n",
       "    </tr>\n",
       "    <tr>\n",
       "      <th>6</th>\n",
       "      <td>7</td>\n",
       "      <td>34.5</td>\n",
       "      <td>0.0</td>\n",
       "      <td>8.0</td>\n",
       "      <td>15.0</td>\n",
       "      <td>NaN</td>\n",
       "      <td>NaN</td>\n",
       "      <td>NaN</td>\n",
       "      <td>NaN</td>\n",
       "      <td>NaN</td>\n",
       "      <td>NaN</td>\n",
       "      <td>0</td>\n",
       "      <td>24</td>\n",
       "      <td>30</td>\n",
       "      <td>32</td>\n",
       "      <td>NaN</td>\n",
       "    </tr>\n",
       "  </tbody>\n",
       "</table>\n",
       "</div>"
      ],
      "text/plain": [
       "   OSF_ID  Maternal_Age  Maternal_Education  \\\n",
       "1       2          34.6                 1.0   \n",
       "4       5          36.5                 1.0   \n",
       "6       7          34.5                 0.0   \n",
       "\n",
       "   Edinburgh_Postnatal_Depression_Scale  PROMIS_Anxiety  \\\n",
       "1                                   4.0            17.0   \n",
       "4                                  14.0            20.0   \n",
       "6                                   8.0            15.0   \n",
       "\n",
       "   Gestational_Age_At_Birth Delivery_Date(converted to month and year)  \\\n",
       "1                       NaN                                        NaN   \n",
       "4                     39.86                                     Oct-20   \n",
       "6                       NaN                                        NaN   \n",
       "\n",
       "   Birth_Length  Birth_Weight  Delivery_Mode  NICU_Stay  Language  \\\n",
       "1           NaN           NaN            NaN        NaN         0   \n",
       "4         53.34        3714.0            1.0        0.0         0   \n",
       "6           NaN           NaN            NaN        NaN         0   \n",
       "\n",
       "  Threaten_Life Threaten_Baby_Danger Threaten_Baby_Harm  NICU_Stay.1  \n",
       "1             2                   33                 92          NaN  \n",
       "4            23                   32                 71          0.0  \n",
       "6            24                   30                 32          NaN  "
      ]
     },
     "execution_count": 35,
     "metadata": {},
     "output_type": "execute_result"
    }
   ],
   "source": [
    "# Select rows 2, 5, and 7 using the iloc method\n",
    "df.iloc[[1, 4, 6]]"
   ]
  },
  {
   "cell_type": "code",
   "execution_count": 36,
   "metadata": {},
   "outputs": [
    {
     "data": {
      "text/html": [
       "<div>\n",
       "<style scoped>\n",
       "    .dataframe tbody tr th:only-of-type {\n",
       "        vertical-align: middle;\n",
       "    }\n",
       "\n",
       "    .dataframe tbody tr th {\n",
       "        vertical-align: top;\n",
       "    }\n",
       "\n",
       "    .dataframe thead th {\n",
       "        text-align: right;\n",
       "    }\n",
       "</style>\n",
       "<table border=\"1\" class=\"dataframe\">\n",
       "  <thead>\n",
       "    <tr style=\"text-align: right;\">\n",
       "      <th></th>\n",
       "      <th>OSF_ID</th>\n",
       "      <th>Maternal_Age</th>\n",
       "      <th>Maternal_Education</th>\n",
       "      <th>Edinburgh_Postnatal_Depression_Scale</th>\n",
       "      <th>PROMIS_Anxiety</th>\n",
       "      <th>Gestational_Age_At_Birth</th>\n",
       "      <th>Delivery_Date(converted to month and year)</th>\n",
       "      <th>Birth_Length</th>\n",
       "      <th>Birth_Weight</th>\n",
       "      <th>Delivery_Mode</th>\n",
       "      <th>NICU_Stay</th>\n",
       "      <th>Language</th>\n",
       "      <th>Threaten_Life</th>\n",
       "      <th>Threaten_Baby_Danger</th>\n",
       "      <th>Threaten_Baby_Harm</th>\n",
       "      <th>NICU_Stay.1</th>\n",
       "    </tr>\n",
       "  </thead>\n",
       "  <tbody>\n",
       "    <tr>\n",
       "      <th>0</th>\n",
       "      <td>1</td>\n",
       "      <td>38.3</td>\n",
       "      <td>3.0</td>\n",
       "      <td>9.0</td>\n",
       "      <td>13.0</td>\n",
       "      <td>39.71</td>\n",
       "      <td>Dec-20</td>\n",
       "      <td>49.2</td>\n",
       "      <td>3431.0</td>\n",
       "      <td>0.0</td>\n",
       "      <td>0.0</td>\n",
       "      <td>0</td>\n",
       "      <td>2</td>\n",
       "      <td>3</td>\n",
       "      <td>27</td>\n",
       "      <td>NaN</td>\n",
       "    </tr>\n",
       "    <tr>\n",
       "      <th>1</th>\n",
       "      <td>2</td>\n",
       "      <td>34.6</td>\n",
       "      <td>1.0</td>\n",
       "      <td>4.0</td>\n",
       "      <td>17.0</td>\n",
       "      <td>NaN</td>\n",
       "      <td>NaN</td>\n",
       "      <td>NaN</td>\n",
       "      <td>NaN</td>\n",
       "      <td>NaN</td>\n",
       "      <td>NaN</td>\n",
       "      <td>0</td>\n",
       "      <td>2</td>\n",
       "      <td>33</td>\n",
       "      <td>92</td>\n",
       "      <td>NaN</td>\n",
       "    </tr>\n",
       "  </tbody>\n",
       "</table>\n",
       "</div>"
      ],
      "text/plain": [
       "   OSF_ID  Maternal_Age  Maternal_Education  \\\n",
       "0       1          38.3                 3.0   \n",
       "1       2          34.6                 1.0   \n",
       "\n",
       "   Edinburgh_Postnatal_Depression_Scale  PROMIS_Anxiety  \\\n",
       "0                                   9.0            13.0   \n",
       "1                                   4.0            17.0   \n",
       "\n",
       "   Gestational_Age_At_Birth Delivery_Date(converted to month and year)  \\\n",
       "0                     39.71                                     Dec-20   \n",
       "1                       NaN                                        NaN   \n",
       "\n",
       "   Birth_Length  Birth_Weight  Delivery_Mode  NICU_Stay  Language  \\\n",
       "0          49.2        3431.0            0.0        0.0         0   \n",
       "1           NaN           NaN            NaN        NaN         0   \n",
       "\n",
       "  Threaten_Life Threaten_Baby_Danger Threaten_Baby_Harm  NICU_Stay.1  \n",
       "0             2                    3                 27          NaN  \n",
       "1             2                   33                 92          NaN  "
      ]
     },
     "execution_count": 36,
     "metadata": {},
     "output_type": "execute_result"
    }
   ],
   "source": [
    "# Select the first two rows using the iloc method\n",
    "df.iloc[0:2]"
   ]
  },
  {
   "cell_type": "code",
   "execution_count": 37,
   "metadata": {},
   "outputs": [
    {
     "data": {
      "text/html": [
       "<div>\n",
       "<style scoped>\n",
       "    .dataframe tbody tr th:only-of-type {\n",
       "        vertical-align: middle;\n",
       "    }\n",
       "\n",
       "    .dataframe tbody tr th {\n",
       "        vertical-align: top;\n",
       "    }\n",
       "\n",
       "    .dataframe thead th {\n",
       "        text-align: right;\n",
       "    }\n",
       "</style>\n",
       "<table border=\"1\" class=\"dataframe\">\n",
       "  <thead>\n",
       "    <tr style=\"text-align: right;\">\n",
       "      <th></th>\n",
       "      <th>OSF_ID</th>\n",
       "      <th>Maternal_Age</th>\n",
       "      <th>Maternal_Education</th>\n",
       "      <th>Edinburgh_Postnatal_Depression_Scale</th>\n",
       "      <th>PROMIS_Anxiety</th>\n",
       "      <th>Gestational_Age_At_Birth</th>\n",
       "      <th>Delivery_Date(converted to month and year)</th>\n",
       "      <th>Birth_Length</th>\n",
       "      <th>Birth_Weight</th>\n",
       "      <th>Delivery_Mode</th>\n",
       "      <th>NICU_Stay</th>\n",
       "      <th>Language</th>\n",
       "      <th>Threaten_Life</th>\n",
       "      <th>Threaten_Baby_Danger</th>\n",
       "      <th>Threaten_Baby_Harm</th>\n",
       "      <th>NICU_Stay.1</th>\n",
       "    </tr>\n",
       "  </thead>\n",
       "  <tbody>\n",
       "    <tr>\n",
       "      <th>0</th>\n",
       "      <td>1</td>\n",
       "      <td>38.3</td>\n",
       "      <td>3.0</td>\n",
       "      <td>9.0</td>\n",
       "      <td>13.0</td>\n",
       "      <td>39.71</td>\n",
       "      <td>Dec-20</td>\n",
       "      <td>49.2</td>\n",
       "      <td>3431.0</td>\n",
       "      <td>0.0</td>\n",
       "      <td>0.0</td>\n",
       "      <td>0</td>\n",
       "      <td>2</td>\n",
       "      <td>3</td>\n",
       "      <td>27</td>\n",
       "      <td>NaN</td>\n",
       "    </tr>\n",
       "    <tr>\n",
       "      <th>1</th>\n",
       "      <td>2</td>\n",
       "      <td>34.6</td>\n",
       "      <td>1.0</td>\n",
       "      <td>4.0</td>\n",
       "      <td>17.0</td>\n",
       "      <td>NaN</td>\n",
       "      <td>NaN</td>\n",
       "      <td>NaN</td>\n",
       "      <td>NaN</td>\n",
       "      <td>NaN</td>\n",
       "      <td>NaN</td>\n",
       "      <td>0</td>\n",
       "      <td>2</td>\n",
       "      <td>33</td>\n",
       "      <td>92</td>\n",
       "      <td>NaN</td>\n",
       "    </tr>\n",
       "  </tbody>\n",
       "</table>\n",
       "</div>"
      ],
      "text/plain": [
       "   OSF_ID  Maternal_Age  Maternal_Education  \\\n",
       "0       1          38.3                 3.0   \n",
       "1       2          34.6                 1.0   \n",
       "\n",
       "   Edinburgh_Postnatal_Depression_Scale  PROMIS_Anxiety  \\\n",
       "0                                   9.0            13.0   \n",
       "1                                   4.0            17.0   \n",
       "\n",
       "   Gestational_Age_At_Birth Delivery_Date(converted to month and year)  \\\n",
       "0                     39.71                                     Dec-20   \n",
       "1                       NaN                                        NaN   \n",
       "\n",
       "   Birth_Length  Birth_Weight  Delivery_Mode  NICU_Stay  Language  \\\n",
       "0          49.2        3431.0            0.0        0.0         0   \n",
       "1           NaN           NaN            NaN        NaN         0   \n",
       "\n",
       "  Threaten_Life Threaten_Baby_Danger Threaten_Baby_Harm  NICU_Stay.1  \n",
       "0             2                    3                 27          NaN  \n",
       "1             2                   33                 92          NaN  "
      ]
     },
     "execution_count": 37,
     "metadata": {},
     "output_type": "execute_result"
    }
   ],
   "source": [
    "# Select the first two rows using the iloc method\n",
    "df.iloc[:2]"
   ]
  },
  {
   "cell_type": "code",
   "execution_count": 38,
   "metadata": {},
   "outputs": [
    {
     "data": {
      "text/html": [
       "<div>\n",
       "<style scoped>\n",
       "    .dataframe tbody tr th:only-of-type {\n",
       "        vertical-align: middle;\n",
       "    }\n",
       "\n",
       "    .dataframe tbody tr th {\n",
       "        vertical-align: top;\n",
       "    }\n",
       "\n",
       "    .dataframe thead th {\n",
       "        text-align: right;\n",
       "    }\n",
       "</style>\n",
       "<table border=\"1\" class=\"dataframe\">\n",
       "  <thead>\n",
       "    <tr style=\"text-align: right;\">\n",
       "      <th></th>\n",
       "      <th>OSF_ID</th>\n",
       "      <th>Maternal_Age</th>\n",
       "      <th>Maternal_Education</th>\n",
       "      <th>Edinburgh_Postnatal_Depression_Scale</th>\n",
       "      <th>PROMIS_Anxiety</th>\n",
       "      <th>Gestational_Age_At_Birth</th>\n",
       "      <th>Delivery_Date(converted to month and year)</th>\n",
       "      <th>Birth_Length</th>\n",
       "      <th>Birth_Weight</th>\n",
       "      <th>Delivery_Mode</th>\n",
       "      <th>NICU_Stay</th>\n",
       "      <th>Language</th>\n",
       "      <th>Threaten_Life</th>\n",
       "      <th>Threaten_Baby_Danger</th>\n",
       "      <th>Threaten_Baby_Harm</th>\n",
       "      <th>NICU_Stay.1</th>\n",
       "    </tr>\n",
       "  </thead>\n",
       "  <tbody>\n",
       "    <tr>\n",
       "      <th>10769</th>\n",
       "      <td>10770</td>\n",
       "      <td>27.7</td>\n",
       "      <td>2.0</td>\n",
       "      <td>4.0</td>\n",
       "      <td>15.0</td>\n",
       "      <td>NaN</td>\n",
       "      <td>NaN</td>\n",
       "      <td>NaN</td>\n",
       "      <td>NaN</td>\n",
       "      <td>NaN</td>\n",
       "      <td>NaN</td>\n",
       "      <td>1</td>\n",
       "      <td>21</td>\n",
       "      <td>93</td>\n",
       "      <td>76</td>\n",
       "      <td>NaN</td>\n",
       "    </tr>\n",
       "    <tr>\n",
       "      <th>10770</th>\n",
       "      <td>10771</td>\n",
       "      <td>23.0</td>\n",
       "      <td>2.0</td>\n",
       "      <td>12.0</td>\n",
       "      <td>19.0</td>\n",
       "      <td>NaN</td>\n",
       "      <td>NaN</td>\n",
       "      <td>NaN</td>\n",
       "      <td>NaN</td>\n",
       "      <td>NaN</td>\n",
       "      <td>NaN</td>\n",
       "      <td>0</td>\n",
       "      <td>65</td>\n",
       "      <td>94</td>\n",
       "      <td>94</td>\n",
       "      <td>NaN</td>\n",
       "    </tr>\n",
       "    <tr>\n",
       "      <th>10771</th>\n",
       "      <td>10772</td>\n",
       "      <td>34.6</td>\n",
       "      <td>3.0</td>\n",
       "      <td>18.0</td>\n",
       "      <td>30.0</td>\n",
       "      <td>38.29</td>\n",
       "      <td>Mar-21</td>\n",
       "      <td>NaN</td>\n",
       "      <td>4196.0</td>\n",
       "      <td>NaN</td>\n",
       "      <td>NaN</td>\n",
       "      <td>0</td>\n",
       "      <td>84</td>\n",
       "      <td>73</td>\n",
       "      <td>94</td>\n",
       "      <td>NaN</td>\n",
       "    </tr>\n",
       "  </tbody>\n",
       "</table>\n",
       "</div>"
      ],
      "text/plain": [
       "       OSF_ID  Maternal_Age  Maternal_Education  \\\n",
       "10769   10770          27.7                 2.0   \n",
       "10770   10771          23.0                 2.0   \n",
       "10771   10772          34.6                 3.0   \n",
       "\n",
       "       Edinburgh_Postnatal_Depression_Scale  PROMIS_Anxiety  \\\n",
       "10769                                   4.0            15.0   \n",
       "10770                                  12.0            19.0   \n",
       "10771                                  18.0            30.0   \n",
       "\n",
       "       Gestational_Age_At_Birth Delivery_Date(converted to month and year)  \\\n",
       "10769                       NaN                                        NaN   \n",
       "10770                       NaN                                        NaN   \n",
       "10771                     38.29                                     Mar-21   \n",
       "\n",
       "       Birth_Length  Birth_Weight  Delivery_Mode  NICU_Stay  Language  \\\n",
       "10769           NaN           NaN            NaN        NaN         1   \n",
       "10770           NaN           NaN            NaN        NaN         0   \n",
       "10771           NaN        4196.0            NaN        NaN         0   \n",
       "\n",
       "      Threaten_Life Threaten_Baby_Danger Threaten_Baby_Harm  NICU_Stay.1  \n",
       "10769            21                   93                 76          NaN  \n",
       "10770            65                   94                 94          NaN  \n",
       "10771            84                   73                 94          NaN  "
      ]
     },
     "execution_count": 38,
     "metadata": {},
     "output_type": "execute_result"
    }
   ],
   "source": [
    "# Select the last three rows\n",
    "df.iloc[-3:]"
   ]
  },
  {
   "cell_type": "code",
   "execution_count": 39,
   "metadata": {},
   "outputs": [
    {
     "data": {
      "text/html": [
       "<div>\n",
       "<style scoped>\n",
       "    .dataframe tbody tr th:only-of-type {\n",
       "        vertical-align: middle;\n",
       "    }\n",
       "\n",
       "    .dataframe tbody tr th {\n",
       "        vertical-align: top;\n",
       "    }\n",
       "\n",
       "    .dataframe thead th {\n",
       "        text-align: right;\n",
       "    }\n",
       "</style>\n",
       "<table border=\"1\" class=\"dataframe\">\n",
       "  <thead>\n",
       "    <tr style=\"text-align: right;\">\n",
       "      <th></th>\n",
       "      <th>OSF_ID</th>\n",
       "      <th>Maternal_Education</th>\n",
       "    </tr>\n",
       "  </thead>\n",
       "  <tbody>\n",
       "    <tr>\n",
       "      <th>0</th>\n",
       "      <td>1</td>\n",
       "      <td>3.0</td>\n",
       "    </tr>\n",
       "    <tr>\n",
       "      <th>1</th>\n",
       "      <td>2</td>\n",
       "      <td>1.0</td>\n",
       "    </tr>\n",
       "    <tr>\n",
       "      <th>2</th>\n",
       "      <td>3</td>\n",
       "      <td>1.0</td>\n",
       "    </tr>\n",
       "    <tr>\n",
       "      <th>3</th>\n",
       "      <td>4</td>\n",
       "      <td>3.0</td>\n",
       "    </tr>\n",
       "    <tr>\n",
       "      <th>4</th>\n",
       "      <td>5</td>\n",
       "      <td>1.0</td>\n",
       "    </tr>\n",
       "  </tbody>\n",
       "</table>\n",
       "</div>"
      ],
      "text/plain": [
       "   OSF_ID  Maternal_Education\n",
       "0       1                 3.0\n",
       "1       2                 1.0\n",
       "2       3                 1.0\n",
       "3       4                 3.0\n",
       "4       5                 1.0"
      ]
     },
     "execution_count": 39,
     "metadata": {},
     "output_type": "execute_result"
    }
   ],
   "source": [
    "# Extract the first 5 rows for the first and third columns using the iloc method\n",
    "df.iloc[:5, [0, 2]]"
   ]
  },
  {
   "cell_type": "code",
   "execution_count": 41,
   "metadata": {},
   "outputs": [
    {
     "data": {
      "text/html": [
       "<div>\n",
       "<style scoped>\n",
       "    .dataframe tbody tr th:only-of-type {\n",
       "        vertical-align: middle;\n",
       "    }\n",
       "\n",
       "    .dataframe tbody tr th {\n",
       "        vertical-align: top;\n",
       "    }\n",
       "\n",
       "    .dataframe thead th {\n",
       "        text-align: right;\n",
       "    }\n",
       "</style>\n",
       "<table border=\"1\" class=\"dataframe\">\n",
       "  <thead>\n",
       "    <tr style=\"text-align: right;\">\n",
       "      <th></th>\n",
       "      <th>Maternal_Education</th>\n",
       "      <th>Maternal_Age</th>\n",
       "    </tr>\n",
       "  </thead>\n",
       "  <tbody>\n",
       "    <tr>\n",
       "      <th>0</th>\n",
       "      <td>3.0</td>\n",
       "      <td>38.3</td>\n",
       "    </tr>\n",
       "    <tr>\n",
       "      <th>1</th>\n",
       "      <td>1.0</td>\n",
       "      <td>34.6</td>\n",
       "    </tr>\n",
       "    <tr>\n",
       "      <th>2</th>\n",
       "      <td>1.0</td>\n",
       "      <td>34.3</td>\n",
       "    </tr>\n",
       "    <tr>\n",
       "      <th>3</th>\n",
       "      <td>3.0</td>\n",
       "      <td>28.8</td>\n",
       "    </tr>\n",
       "    <tr>\n",
       "      <th>4</th>\n",
       "      <td>1.0</td>\n",
       "      <td>36.5</td>\n",
       "    </tr>\n",
       "  </tbody>\n",
       "</table>\n",
       "</div>"
      ],
      "text/plain": [
       "   Maternal_Education  Maternal_Age\n",
       "0                 3.0          38.3\n",
       "1                 1.0          34.6\n",
       "2                 1.0          34.3\n",
       "3                 3.0          28.8\n",
       "4                 1.0          36.5"
      ]
     },
     "execution_count": 41,
     "metadata": {},
     "output_type": "execute_result"
    }
   ],
   "source": [
    "# Extract the first five rows for the Education and Age colunms using the loc method\n",
    "df.loc[:4, ['Maternal_Education', 'Maternal_Age']] # Note the difference in row index compared to the iloc"
   ]
  },
  {
   "cell_type": "code",
   "execution_count": 43,
   "metadata": {},
   "outputs": [
    {
     "data": {
      "text/html": [
       "<div>\n",
       "<style scoped>\n",
       "    .dataframe tbody tr th:only-of-type {\n",
       "        vertical-align: middle;\n",
       "    }\n",
       "\n",
       "    .dataframe tbody tr th {\n",
       "        vertical-align: top;\n",
       "    }\n",
       "\n",
       "    .dataframe thead th {\n",
       "        text-align: right;\n",
       "    }\n",
       "</style>\n",
       "<table border=\"1\" class=\"dataframe\">\n",
       "  <thead>\n",
       "    <tr style=\"text-align: right;\">\n",
       "      <th></th>\n",
       "      <th>Maternal_Education</th>\n",
       "      <th>Maternal_Age</th>\n",
       "    </tr>\n",
       "  </thead>\n",
       "  <tbody>\n",
       "    <tr>\n",
       "      <th>10</th>\n",
       "      <td>0.0</td>\n",
       "      <td>28.6</td>\n",
       "    </tr>\n",
       "    <tr>\n",
       "      <th>11</th>\n",
       "      <td>1.0</td>\n",
       "      <td>29.5</td>\n",
       "    </tr>\n",
       "    <tr>\n",
       "      <th>12</th>\n",
       "      <td>1.0</td>\n",
       "      <td>29.7</td>\n",
       "    </tr>\n",
       "    <tr>\n",
       "      <th>13</th>\n",
       "      <td>3.0</td>\n",
       "      <td>29.2</td>\n",
       "    </tr>\n",
       "    <tr>\n",
       "      <th>14</th>\n",
       "      <td>4.0</td>\n",
       "      <td>31.8</td>\n",
       "    </tr>\n",
       "    <tr>\n",
       "      <th>15</th>\n",
       "      <td>2.0</td>\n",
       "      <td>30.1</td>\n",
       "    </tr>\n",
       "  </tbody>\n",
       "</table>\n",
       "</div>"
      ],
      "text/plain": [
       "    Maternal_Education  Maternal_Age\n",
       "10                 0.0          28.6\n",
       "11                 1.0          29.5\n",
       "12                 1.0          29.7\n",
       "13                 3.0          29.2\n",
       "14                 4.0          31.8\n",
       "15                 2.0          30.1"
      ]
     },
     "execution_count": 43,
     "metadata": {},
     "output_type": "execute_result"
    }
   ],
   "source": [
    "df.loc[10:15, ['Maternal_Education', 'Maternal_Age']]"
   ]
  },
  {
   "cell_type": "code",
   "execution_count": 45,
   "metadata": {},
   "outputs": [
    {
     "name": "stdout",
     "output_type": "stream",
     "text": [
      "2\n"
     ]
    }
   ],
   "source": [
    "# Extract the value in row 2, column 1 using the iat method\n",
    "df.iat[1, 0]\n",
    "# print the value in row 2, column 1\n",
    "print(df.iat[1, 0])"
   ]
  },
  {
   "cell_type": "markdown",
   "metadata": {},
   "source": [
    "### <span style=\"color: lightgreen;\"> Filtering Data </span>"
   ]
  },
  {
   "cell_type": "markdown",
   "metadata": {},
   "source": [
    "#### <span style=\"color: lightpink;\"> Finding unique values in a column </span>"
   ]
  },
  {
   "cell_type": "code",
   "execution_count": 47,
   "metadata": {},
   "outputs": [
    {
     "data": {
      "text/plain": [
       "array([ 3.,  1.,  0., nan,  2.,  4.])"
      ]
     },
     "execution_count": 47,
     "metadata": {},
     "output_type": "execute_result"
    }
   ],
   "source": [
    "# Print the unique values in the Education column\n",
    "df.Maternal_Education.unique()"
   ]
  },
  {
   "cell_type": "markdown",
   "metadata": {},
   "source": [
    "#### <span style=\"color: lightpink;\"> Ages of all Education with level 4 (Doctoral Degrees) </span>"
   ]
  },
  {
   "cell_type": "code",
   "execution_count": 51,
   "metadata": {},
   "outputs": [
    {
     "data": {
      "text/plain": [
       "array([31.8, 36.4, 32.7, 35.3, 34.7, 34.3, 35.1, 32.9, 35.8, 31.3, 39.3,\n",
       "       36.6, 30.8, 37.4, 25.5, 30.6, 33.1, 33.5, 36.1, 41.8, 31.8, 30.5,\n",
       "       39.8, 35.8, 40.2, 39.1, 33.7, 37. , 33.9, 34.1, 32.7, 39.3, 27.9,\n",
       "       33.6, 31.2, 35.8, 33.3, 31.2, 38. , 33.3, 38.5, 27.1, 31.7, 27.5,\n",
       "       32.3, 36.8, 33.5, 32.7, 36.5, 35.3, 30.6, 33.5, 35. , 28.3, 34.5,\n",
       "       34.9, 29.9, 38.4, 35.3, 28.3, 36.7, 32.2, 34.3, 38.5, 34.8, 34.7,\n",
       "       35. , 35.8, 40.4, 35.4, 32.3, 34.2, 33.2, 31.8, 39.2, 42.1, 33.9,\n",
       "       30.2, 31.7, 31.3, 40.5, 35.9, 35.7, 25.7, 31. , 27.3, 32.8, 36.2,\n",
       "       30. , 38.8, 33.5, 29.7, 32.1, 26.8, 32. , 29.7, 35.4, 31.8, 37.9,\n",
       "       39.1, 41.3, 28.9, 39.7, 32.7, 31.8, 29.4, 36.3, 35.2, 31.6, 32.3,\n",
       "       31.7, 32.8, 35. , 34.1, 34.6, 32. , 38.5, 31.9, 31.2, 31.4, 29.4,\n",
       "       36. , 31.3, 32.5, 32.1, 30. , 32.3, 36.2, 36.3, 30.8, 34.8, 28.6,\n",
       "       31.1, 34.8, 31.3, 31. , 49. , 34.7, 31.6, 40.4, 31.8, 32.4, 28.6,\n",
       "       32.8, 39.3, 34.3, 31.3, 32.1, 34.3, 32.8, 43. , 38.3, 30.6, 31.8,\n",
       "       32.2, 28.9, 32.5, 32.5, 33.8, 35.5, 41.7, 32.8, 35.4, 40. , 37.8,\n",
       "       30.2, 34.8, 38. , 36.7, 39. , 36.8, 34.8, 34.5, 28.5, 38.3, 32.4,\n",
       "       27.7, 35. , 30.3, 40.1, 30.2, 33.1, 34.1, 35.3, 31.4, 31.4, 32.8,\n",
       "       34.3, 35.2, 31.8, 36.8, 32.8, 41.8, 32.6, 30.4, 38.8, 37.9, 34.7,\n",
       "       37.1, 35.3, 34.1, 31.8, 33.9, 37.2, 35.5, 36.3, 35.8, 36.5, 34.9,\n",
       "       32.8, 37.5, 35.3, 32.9, 39.7, 30.6, 37.4, 25.4, 42. , 29. , 30.8,\n",
       "       29. , 32.6, 29.2, 31.3, 33. , 40. , 40.3, 34.2, 30. , 38.5, 33.2,\n",
       "       31.1, 35.3, 34.1, 34.3, 34.6, 37. , 29.4, 35.3, 30.8, 28.1, 37.9,\n",
       "       33.6, 36.8, 31.6, 32.6, 36.1, 38.3, 32.7, 34.5, 33.9, 39. , 36.3,\n",
       "       30.7, 34.7, 31. , 33.9, 40.8, 38.1, 28.9, 34.2, 28.7, 35.4, 33.6,\n",
       "       33.6, 32.5, 27.2, 33.6, 32. , 32.1, 30.2, 30.1, 38.7, 30.9, 33.1,\n",
       "       33.6, 30.9, 33.7, 35.1, 33.8, 32.9, 34.1, 36.4, 40.2, 37.8, 34.5,\n",
       "       33.8, 36.1, 37.3, 37. , 32.8, 35.3, 33.5, 39.7, 38.3, 39.6, 30.8,\n",
       "       34.8, 27.6, 33.8, 36.9, 35.8, 40.1, 33.6, 37.9, 35.8, 36.8, 33. ,\n",
       "       34.6, 35.9, 35.3, 36.1, 44.8, 35.5, 33.5, 36.8, 32.9, 32.8, 29.7,\n",
       "       39.6, 37.1, 33.2, 31.9, 32.1, 32.8, 36.4, 36.8, 37.2, 32.9, 38. ,\n",
       "       35.3, 35.9, 32.6, 43.3, 34.8, 31.8, 33. , 31.7, 41.5, 31.4, 32.1,\n",
       "       31.6, 29.9, 35.8, 33.5, 32.3, 32. , 32.7, 29.9, 31.7, 36.6, 30.2,\n",
       "       40.2, 32.3, 36.8, 41.1, 32.8, 35.3, 37.6, 35.3, 37.8, 31.7, 28.3,\n",
       "       33.1, 29.3, 32.3, 38.9, 32.2, 26.8, 30.2, 33.9, 36.5, 35.9, 29.2,\n",
       "       37.3, 35.8, 31.2, 32.5, 30.9, 32.2, 41. , 35. , 36.2, 33.7, 33.1,\n",
       "       32.9, 27. , 40. , 26.2, 34.4, 34.8, 31.8, 34.4, 34.3, 34.1, 29.1,\n",
       "       31.2, 42.8, 29. , 30.5, 40.3, 33. , 27.9, 35.7, 32.3, 42.6, 30.5,\n",
       "       34.8, 34.8, 34.1, 29.2, 36. , 29.6, 38.3, 30.5, 29.9, 33.4, 35.8,\n",
       "       32. , 37.5, 34. , 35.3, 31.8, 30.7, 38.7, 36.8, 27.7, 30.3, 39.1,\n",
       "       31.6, 30.7, 30.8, 34.8, 30.8, 32.5, 36.8, 31.4, 32.6, 29.6, 32.8,\n",
       "       35.3, 30.8, 34.8, 37.7, 33. , 38.3, 34.8, 37.8, 36.6, 31.3, 33.9,\n",
       "       36.6, 38.3, 41. , 29.3, 40.6, 32.1, 31.2, 37.1, 33.6, 35.7, 32.3,\n",
       "       38.7, 34.8, 38.3, 29.1, 38.8, 35.8, 33.4, 33.3, 24.8, 30.5, 33.3,\n",
       "       32.7, 36.7, 35.2, 38.3, 35.1, 30.7, 35.7, 34.4, 27.2, 36.9, 28.9,\n",
       "       32.1, 34.5, 34.2, 34.6, 34.1, 31.3, 34.5, 33.3, 37.1, 34.7, 31.8,\n",
       "       34.8, 34.8, 35.6, 35.4, 40.7, 38.6, 31.4, 34.8, 36.2, 35.7, 30.5,\n",
       "       31.8, 38.8, 39.9, 36.6, 29.1, 28. , 34.9, 30.5, 36.1, 38.8, 33.8,\n",
       "       31.9, 38.2, 36.6, 32. , 32.9, 39.3, 35.3, 30.5, 38.2, 34.8, 34.8,\n",
       "       33.3, 34.7, 36.2, 34.7, 27.8, 42.9, 31.6, 34.4, 32.9, 41.8, 30.6,\n",
       "       32.8, 33.5, 35. , 37.3, 40.8, 25.8, 28.8, 32.3, 35.2, 33. , 34.1,\n",
       "       32.1, 36.6, 36.8, 38.7, 35.6, 29.9, 38.4, 31.1, 32.3, 28.6, 33.8,\n",
       "       31.9, 34.2, 32.6, 33.8, 37. , 35.5, 28.3, 40.8, 33.9, 40. , 34.5,\n",
       "       33.7, 30.3, 34.5, 43.8, 35.2, 35.3, 39.5, 35. , 31.8, 43.8, 32.2,\n",
       "       38.9, 31.9, 36.8, 30.2, 33.8, 26.1, 34.4, 34.2, 36.8, 36.2, 34.8,\n",
       "       35.4, 32.9, 36.5, 31.3, 34.1, 30.9, 34.8, 38.2, 31. , 33.2, 33.3,\n",
       "       36. , 34. , 37.6, 32.3, 28.3, 29.3, 33. , 33.6, 29.7, 32.8, 34.6,\n",
       "       29.8, 31.6, 43.7, 34.4, 33.3, 35.3, 29.1, 31.1, 27. , 39.8, 28.3,\n",
       "       38.3, 31.9, 32.4, 39.8, 34.4, 30.3, 32. , 36.3, 33.5, 30.8, 34.2,\n",
       "       40. , 34.1, 31.7, 32.6, 34.8, 32. , 30.7, 31.9, 37.7, 34.5, 35.3,\n",
       "       30.2, 30. , 36.8, 37. , 33.3, 29.8, 35.3, 42.2, 29.4, 37.6, 32.5,\n",
       "       39.2, 37.7, 38.2, 36.7, 34.8, 31.6, 31.3, 42.5, 43.1, 32.8, 29.4,\n",
       "       36. , 37.8, 37.8, 37.8, 35.9, 32.4, 39.6, 39.8, 33.4, 31.1, 31.1,\n",
       "       36.8, 33.8, 33.8, 34.8, 36.5, 33.7, 34.5, 35.5, 36.3, 37.3, 27.8,\n",
       "       26.3, 37.1, 44.3, 30.3, 34.3, 35.2, 36.6, 39.1, 36.9, 29.7, 31.6,\n",
       "       39.8, 40.8, 26.1, 38.8, 33.7, 34.9, 42.7, 29.1, 31.2, 41.3, 33.7,\n",
       "       25.3, 36. , 26.7, 32.5, 31.6, 32.5, 43.7, 38.1, 29.1, 31.9, 32.7,\n",
       "       38. , 37.2, 33.8, 30.5, 30.3, 31.3, 36.3, 35.2, 39.2, 37.1, 33.2,\n",
       "       30.5, 34.1, 29.4, 37.2, 33.6, 31.5, 39.3, 33.9, 37.6, 33.5, 34.9,\n",
       "       31.9, 33. , 36.2, 30.2, 31.5, 31. , 35.2, 33.5, 38.3, 35.3, 34.8,\n",
       "       36.9, 34.8, 36.8, 37.5, 32.2, 33.5, 33. , 36.6, 36.3, 36.3, 32.7,\n",
       "       35.2, 37.8, 36.8, 31.3, 34. , 33.1, 30.5, 37.1, 29.6, 35.3, 33.1,\n",
       "       34.6, 34.8, 33.8, 43.8, 32. ])"
      ]
     },
     "execution_count": 51,
     "metadata": {},
     "output_type": "execute_result"
    }
   ],
   "source": [
    "# Select the ages of those who have a maternal education of 4 and assign it to the variable age_doctoraldegrees\n",
    "age_doctoraldegrees = df.loc[df.Maternal_Education == 4]['Maternal_Age'].to_numpy()\n",
    "age_doctoraldegrees"
   ]
  },
  {
   "cell_type": "code",
   "execution_count": 53,
   "metadata": {},
   "outputs": [
    {
     "data": {
      "text/plain": [
       "array([31.8, 36.4, 32.7, 35.3, 34.7, 34.3, 35.1, 32.9, 35.8, 31.3, 39.3,\n",
       "       36.6, 30.8, 37.4, 25.5, 30.6, 33.1, 33.5, 36.1, 41.8, 31.8, 30.5,\n",
       "       39.8, 35.8, 40.2, 39.1, 33.7, 37. , 33.9, 34.1, 32.7, 39.3, 27.9,\n",
       "       33.6, 31.2, 35.8, 33.3, 31.2, 38. , 33.3, 38.5, 27.1, 31.7, 27.5,\n",
       "       32.3, 36.8, 33.5, 32.7, 36.5, 35.3, 30.6, 33.5, 35. , 28.3, 34.5,\n",
       "       34.9, 29.9, 38.4, 35.3, 28.3, 36.7, 32.2, 34.3, 38.5, 34.8, 34.7,\n",
       "       35. , 35.8, 40.4, 35.4, 32.3, 34.2, 33.2, 31.8, 39.2, 42.1, 33.9,\n",
       "       30.2, 31.7, 31.3, 40.5, 35.9, 35.7, 25.7, 31. , 27.3, 32.8, 36.2,\n",
       "       30. , 38.8, 33.5, 29.7, 32.1, 26.8, 32. , 29.7, 35.4, 31.8, 37.9,\n",
       "       39.1, 41.3, 28.9, 39.7, 32.7, 31.8, 29.4, 36.3, 35.2, 31.6, 32.3,\n",
       "       31.7, 32.8, 35. , 34.1, 34.6, 32. , 38.5, 31.9, 31.2, 31.4, 29.4,\n",
       "       36. , 31.3, 32.5, 32.1, 30. , 32.3, 36.2, 36.3, 30.8, 34.8, 28.6,\n",
       "       31.1, 34.8, 31.3, 31. , 49. , 34.7, 31.6, 40.4, 31.8, 32.4, 28.6,\n",
       "       32.8, 39.3, 34.3, 31.3, 32.1, 34.3, 32.8, 43. , 38.3, 30.6, 31.8,\n",
       "       32.2, 28.9, 32.5, 32.5, 33.8, 35.5, 41.7, 32.8, 35.4, 40. , 37.8,\n",
       "       30.2, 34.8, 38. , 36.7, 39. , 36.8, 34.8, 34.5, 28.5, 38.3, 32.4,\n",
       "       27.7, 35. , 30.3, 40.1, 30.2, 33.1, 34.1, 35.3, 31.4, 31.4, 32.8,\n",
       "       34.3, 35.2, 31.8, 36.8, 32.8, 41.8, 32.6, 30.4, 38.8, 37.9, 34.7,\n",
       "       37.1, 35.3, 34.1, 31.8, 33.9, 37.2, 35.5, 36.3, 35.8, 36.5, 34.9,\n",
       "       32.8, 37.5, 35.3, 32.9, 39.7, 30.6, 37.4, 25.4, 42. , 29. , 30.8,\n",
       "       29. , 32.6, 29.2, 31.3, 33. , 40. , 40.3, 34.2, 30. , 38.5, 33.2,\n",
       "       31.1, 35.3, 34.1, 34.3, 34.6, 37. , 29.4, 35.3, 30.8, 28.1, 37.9,\n",
       "       33.6, 36.8, 31.6, 32.6, 36.1, 38.3, 32.7, 34.5, 33.9, 39. , 36.3,\n",
       "       30.7, 34.7, 31. , 33.9, 40.8, 38.1, 28.9, 34.2, 28.7, 35.4, 33.6,\n",
       "       33.6, 32.5, 27.2, 33.6, 32. , 32.1, 30.2, 30.1, 38.7, 30.9, 33.1,\n",
       "       33.6, 30.9, 33.7, 35.1, 33.8, 32.9, 34.1, 36.4, 40.2, 37.8, 34.5,\n",
       "       33.8, 36.1, 37.3, 37. , 32.8, 35.3, 33.5, 39.7, 38.3, 39.6, 30.8,\n",
       "       34.8, 27.6, 33.8, 36.9, 35.8, 40.1, 33.6, 37.9, 35.8, 36.8, 33. ,\n",
       "       34.6, 35.9, 35.3, 36.1, 44.8, 35.5, 33.5, 36.8, 32.9, 32.8, 29.7,\n",
       "       39.6, 37.1, 33.2, 31.9, 32.1, 32.8, 36.4, 36.8, 37.2, 32.9, 38. ,\n",
       "       35.3, 35.9, 32.6, 43.3, 34.8, 31.8, 33. , 31.7, 41.5, 31.4, 32.1,\n",
       "       31.6, 29.9, 35.8, 33.5, 32.3, 32. , 32.7, 29.9, 31.7, 36.6, 30.2,\n",
       "       40.2, 32.3, 36.8, 41.1, 32.8, 35.3, 37.6, 35.3, 37.8, 31.7, 28.3,\n",
       "       33.1, 29.3, 32.3, 38.9, 32.2, 26.8, 30.2, 33.9, 36.5, 35.9, 29.2,\n",
       "       37.3, 35.8, 31.2, 32.5, 30.9, 32.2, 41. , 35. , 36.2, 33.7, 33.1,\n",
       "       32.9, 27. , 40. , 26.2, 34.4, 34.8, 31.8, 34.4, 34.3, 34.1, 29.1,\n",
       "       31.2, 42.8, 29. , 30.5, 40.3, 33. , 27.9, 35.7, 32.3, 42.6, 30.5,\n",
       "       34.8, 34.8, 34.1, 29.2, 36. , 29.6, 38.3, 30.5, 29.9, 33.4, 35.8,\n",
       "       32. , 37.5, 34. , 35.3, 31.8, 30.7, 38.7, 36.8, 27.7, 30.3, 39.1,\n",
       "       31.6, 30.7, 30.8, 34.8, 30.8, 32.5, 36.8, 31.4, 32.6, 29.6, 32.8,\n",
       "       35.3, 30.8, 34.8, 37.7, 33. , 38.3, 34.8, 37.8, 36.6, 31.3, 33.9,\n",
       "       36.6, 38.3, 41. , 29.3, 40.6, 32.1, 31.2, 37.1, 33.6, 35.7, 32.3,\n",
       "       38.7, 34.8, 38.3, 29.1, 38.8, 35.8, 33.4, 33.3, 24.8, 30.5, 33.3,\n",
       "       32.7, 36.7, 35.2, 38.3, 35.1, 30.7, 35.7, 34.4, 27.2, 36.9, 28.9,\n",
       "       32.1, 34.5, 34.2, 34.6, 34.1, 31.3, 34.5, 33.3, 37.1, 34.7, 31.8,\n",
       "       34.8, 34.8, 35.6, 35.4, 40.7, 38.6, 31.4, 34.8, 36.2, 35.7, 30.5,\n",
       "       31.8, 38.8, 39.9, 36.6, 29.1, 28. , 34.9, 30.5, 36.1, 38.8, 33.8,\n",
       "       31.9, 38.2, 36.6, 32. , 32.9, 39.3, 35.3, 30.5, 38.2, 34.8, 34.8,\n",
       "       33.3, 34.7, 36.2, 34.7, 27.8, 42.9, 31.6, 34.4, 32.9, 41.8, 30.6,\n",
       "       32.8, 33.5, 35. , 37.3, 40.8, 25.8, 28.8, 32.3, 35.2, 33. , 34.1,\n",
       "       32.1, 36.6, 36.8, 38.7, 35.6, 29.9, 38.4, 31.1, 32.3, 28.6, 33.8,\n",
       "       31.9, 34.2, 32.6, 33.8, 37. , 35.5, 28.3, 40.8, 33.9, 40. , 34.5,\n",
       "       33.7, 30.3, 34.5, 43.8, 35.2, 35.3, 39.5, 35. , 31.8, 43.8, 32.2,\n",
       "       38.9, 31.9, 36.8, 30.2, 33.8, 26.1, 34.4, 34.2, 36.8, 36.2, 34.8,\n",
       "       35.4, 32.9, 36.5, 31.3, 34.1, 30.9, 34.8, 38.2, 31. , 33.2, 33.3,\n",
       "       36. , 34. , 37.6, 32.3, 28.3, 29.3, 33. , 33.6, 29.7, 32.8, 34.6,\n",
       "       29.8, 31.6, 43.7, 34.4, 33.3, 35.3, 29.1, 31.1, 27. , 39.8, 28.3,\n",
       "       38.3, 31.9, 32.4, 39.8, 34.4, 30.3, 32. , 36.3, 33.5, 30.8, 34.2,\n",
       "       40. , 34.1, 31.7, 32.6, 34.8, 32. , 30.7, 31.9, 37.7, 34.5, 35.3,\n",
       "       30.2, 30. , 36.8, 37. , 33.3, 29.8, 35.3, 42.2, 29.4, 37.6, 32.5,\n",
       "       39.2, 37.7, 38.2, 36.7, 34.8, 31.6, 31.3, 42.5, 43.1, 32.8, 29.4,\n",
       "       36. , 37.8, 37.8, 37.8, 35.9, 32.4, 39.6, 39.8, 33.4, 31.1, 31.1,\n",
       "       36.8, 33.8, 33.8, 34.8, 36.5, 33.7, 34.5, 35.5, 36.3, 37.3, 27.8,\n",
       "       26.3, 37.1, 44.3, 30.3, 34.3, 35.2, 36.6, 39.1, 36.9, 29.7, 31.6,\n",
       "       39.8, 40.8, 26.1, 38.8, 33.7, 34.9, 42.7, 29.1, 31.2, 41.3, 33.7,\n",
       "       25.3, 36. , 26.7, 32.5, 31.6, 32.5, 43.7, 38.1, 29.1, 31.9, 32.7,\n",
       "       38. , 37.2, 33.8, 30.5, 30.3, 31.3, 36.3, 35.2, 39.2, 37.1, 33.2,\n",
       "       30.5, 34.1, 29.4, 37.2, 33.6, 31.5, 39.3, 33.9, 37.6, 33.5, 34.9,\n",
       "       31.9, 33. , 36.2, 30.2, 31.5, 31. , 35.2, 33.5, 38.3, 35.3, 34.8,\n",
       "       36.9, 34.8, 36.8, 37.5, 32.2, 33.5, 33. , 36.6, 36.3, 36.3, 32.7,\n",
       "       35.2, 37.8, 36.8, 31.3, 34. , 33.1, 30.5, 37.1, 29.6, 35.3, 33.1,\n",
       "       34.6, 34.8, 33.8, 43.8, 32. ])"
      ]
     },
     "execution_count": 53,
     "metadata": {},
     "output_type": "execute_result"
    }
   ],
   "source": [
    "# Use the loc method to select the ages of those who have doctoral degrees and assign it to the variable age_doctoraldegrees\n",
    "age_doctoraldegrees = df.loc[df.Maternal_Education == 4]['Maternal_Age'].to_numpy()\n",
    "age_doctoraldegrees"
   ]
  },
  {
   "cell_type": "code",
   "execution_count": 55,
   "metadata": {},
   "outputs": [
    {
     "data": {
      "text/plain": [
       "14       31.8\n",
       "48       36.4\n",
       "49       32.7\n",
       "54       35.3\n",
       "71       34.7\n",
       "         ... \n",
       "10667    34.6\n",
       "10682    34.8\n",
       "10711    33.8\n",
       "10754    43.8\n",
       "10764    32.0\n",
       "Name: Maternal_Age, Length: 786, dtype: float64"
      ]
     },
     "execution_count": 55,
     "metadata": {},
     "output_type": "execute_result"
    }
   ],
   "source": [
    "# Use the loc method to select the ages of those who have doctoral degrees and assign it to the variable age_doctoraldegrees\n",
    "age_doctoraldegrees = df.loc[df.Maternal_Education == 4]['Maternal_Age']\n",
    "age_doctoraldegrees"
   ]
  },
  {
   "cell_type": "code",
   "execution_count": 57,
   "metadata": {},
   "outputs": [
    {
     "name": "stdout",
     "output_type": "stream",
     "text": [
      "34.202544529262084\n"
     ]
    }
   ],
   "source": [
    "age_doctoraldegrees.mean()\n",
    "print(age_doctoraldegrees.mean())"
   ]
  },
  {
   "cell_type": "code",
   "execution_count": 58,
   "metadata": {},
   "outputs": [
    {
     "data": {
      "text/plain": [
       "[3.0, 1.0, 1.0, 3.0, 1.0, 1.0, 0.0, 2.0, 2.0, 0.0]"
      ]
     },
     "execution_count": 58,
     "metadata": {},
     "output_type": "execute_result"
    }
   ],
   "source": [
    "# The to_list method creates a Python list object. Use the to_list method to create a Python list object of the Age values for those that have a value in the Education column that is more than 25. Print only the first 10 values.\n",
    "df.loc[df.Maternal_Age > 25, 'Maternal_Education'].to_list()[:10]"
   ]
  },
  {
   "cell_type": "markdown",
   "metadata": {},
   "source": [
    "#### <span style=\"color: lightpink;\"> Ages of all Education with level 4 (Doctoral Degrees) who have an EPDS Score of 8 </span>"
   ]
  },
  {
   "cell_type": "code",
   "execution_count": 59,
   "metadata": {},
   "outputs": [
    {
     "data": {
      "text/plain": [
       "84       34.3\n",
       "268      31.8\n",
       "415      32.7\n",
       "465      31.2\n",
       "939      33.2\n",
       "1145     30.0\n",
       "2213     32.8\n",
       "2249     38.0\n",
       "2544     32.8\n",
       "2718     35.3\n",
       "2764     36.3\n",
       "2803     35.8\n",
       "2871     25.4\n",
       "3300     32.6\n",
       "3349     30.7\n",
       "3419     28.9\n",
       "3595     30.2\n",
       "3644     30.9\n",
       "3675     33.8\n",
       "3686     32.9\n",
       "3704     37.8\n",
       "3752     37.0\n",
       "3967     40.1\n",
       "4341     35.3\n",
       "4545     35.8\n",
       "4939     28.3\n",
       "5053     36.5\n",
       "5140     30.9\n",
       "5893     30.7\n",
       "5979     32.6\n",
       "6284     38.8\n",
       "6385     36.7\n",
       "6606     34.7\n",
       "6672     35.6\n",
       "6714     31.4\n",
       "6818     30.5\n",
       "7282     42.9\n",
       "7651     32.6\n",
       "8362     34.4\n",
       "8468     30.3\n",
       "8561     33.5\n",
       "8864     35.3\n",
       "8876     42.2\n",
       "8914     32.5\n",
       "8947     37.7\n",
       "8989     36.7\n",
       "9138     37.8\n",
       "9253     36.8\n",
       "9479     39.1\n",
       "10287    34.8\n",
       "10481    35.2\n",
       "Name: Maternal_Age, dtype: float64"
      ]
     },
     "execution_count": 59,
     "metadata": {},
     "output_type": "execute_result"
    }
   ],
   "source": [
    "doctoral_degrees_EPDS_8 = df.loc[(df.Maternal_Education == 4) & (df.Edinburgh_Postnatal_Depression_Scale ==8), 'Maternal_Age']\n",
    "doctoral_degrees_EPDS_8 "
   ]
  },
  {
   "cell_type": "markdown",
   "metadata": {},
   "source": [
    "#### <span style=\"color: lightpink;\"> Education with level 4 (Doctoral Degrees) OR have an EPDS Score of 8 </span>"
   ]
  },
  {
   "cell_type": "code",
   "execution_count": 60,
   "metadata": {},
   "outputs": [],
   "source": [
    "# Filter by Education Level == 4 or EPDS > 8 and assign the filter to the variable crit\n",
    "crit = (df.Maternal_Education == 4) | (df.Edinburgh_Postnatal_Depression_Scale > 8)"
   ]
  },
  {
   "cell_type": "code",
   "execution_count": 61,
   "metadata": {},
   "outputs": [
    {
     "data": {
      "text/plain": [
       "0     38.3\n",
       "3     28.8\n",
       "4     36.5\n",
       "10    28.6\n",
       "13    29.2\n",
       "Name: Maternal_Age, dtype: float64"
      ]
     },
     "execution_count": 61,
     "metadata": {},
     "output_type": "execute_result"
    }
   ],
   "source": [
    "# Use the crit criterium and assign to the variable education_4_or_EPDS_8\n",
    "education_4_or_EPDS_8 = df.loc[crit, 'Maternal_Age']\n",
    "education_4_or_EPDS_8 [:5] # Print the first 5 rows"
   ]
  },
  {
   "cell_type": "markdown",
   "metadata": {},
   "source": [
    "#Create a variable named selection that will select for all the observations who have an education level of 4, has an age higher then 25 , and EPDS less then 20"
   ]
  },
  {
   "cell_type": "code",
   "execution_count": 68,
   "metadata": {},
   "outputs": [
    {
     "data": {
      "text/plain": [
       "array([31.8, 36.4, 32.7, 35.3, 34.7, 34.3, 35.1, 32.9, 35.8, 31.3, 39.3,\n",
       "       36.6, 30.8, 37.4, 25.5, 30.6, 33.1, 33.5, 36.1, 41.8, 31.8, 30.5,\n",
       "       39.8, 35.8, 40.2, 39.1, 33.7, 32.7, 39.3, 27.9, 33.6, 31.2, 33.3,\n",
       "       31.2, 38. , 33.3, 38.5, 27.1, 31.7, 27.5, 32.3, 36.8, 33.5, 32.7,\n",
       "       36.5, 35.3, 30.6, 33.5, 35. , 28.3, 34.5, 34.9, 29.9, 38.4, 35.3,\n",
       "       28.3, 36.7, 32.2, 34.3, 38.5, 34.8, 34.7, 35. , 35.8, 40.4, 35.4,\n",
       "       32.3, 34.2, 33.2, 31.8, 39.2, 42.1, 33.9, 30.2, 31.7, 31.3, 40.5,\n",
       "       35.9, 35.7, 25.7, 31. , 27.3, 32.8, 36.2, 30. , 38.8, 33.5, 32.1,\n",
       "       26.8, 32. , 29.7, 35.4, 31.8, 37.9, 41.3, 28.9, 39.7, 32.7, 31.8,\n",
       "       29.4, 36.3, 35.2, 31.6, 32.3, 31.7, 32.8, 35. , 34.1, 34.6, 32. ,\n",
       "       38.5, 31.9, 31.2, 31.4, 29.4, 36. , 31.3, 32.5, 32.1, 30. , 36.2,\n",
       "       36.3, 30.8, 28.6, 31.1, 34.8, 31.3, 31. , 49. , 34.7, 31.6, 40.4,\n",
       "       31.8, 32.4, 28.6, 32.8, 39.3, 34.3, 31.3, 34.3, 32.8, 43. , 38.3,\n",
       "       30.6, 31.8, 32.2, 28.9, 32.5, 32.5, 33.8, 35.5, 41.7, 32.8, 35.4,\n",
       "       40. , 30.2, 34.8, 38. , 36.7, 39. , 36.8, 34.8, 34.5, 28.5, 38.3,\n",
       "       32.4, 35. , 30.3, 40.1, 30.2, 34.1, 35.3, 31.4, 31.4, 32.8, 34.3,\n",
       "       35.2, 31.8, 36.8, 32.8, 41.8, 32.6, 30.4, 38.8, 37.9, 34.7, 37.1,\n",
       "       35.3, 34.1, 33.9, 35.5, 36.3, 35.8, 36.5, 34.9, 32.8, 37.5, 35.3,\n",
       "       32.9, 39.7, 30.6, 37.4, 25.4, 42. , 29. , 30.8, 29. , 32.6, 29.2,\n",
       "       31.3, 33. , 40.3, 34.2, 30. , 33.2, 31.1, 35.3, 34.1, 34.3, 34.6,\n",
       "       37. , 35.3, 30.8, 28.1, 37.9, 33.6, 36.8, 31.6, 32.6, 36.1, 38.3,\n",
       "       33.9, 39. , 36.3, 30.7, 34.7, 31. , 33.9, 40.8, 38.1, 28.9, 34.2,\n",
       "       35.4, 33.6, 33.6, 32.5, 27.2, 33.6, 32. , 32.1, 30.2, 30.1, 38.7,\n",
       "       30.9, 33.1, 33.6, 30.9, 33.7, 35.1, 33.8, 32.9, 34.1, 36.4, 40.2,\n",
       "       37.8, 34.5, 33.8, 36.1, 37.3, 37. , 32.8, 35.3, 33.5, 39.7, 38.3,\n",
       "       30.8, 34.8, 27.6, 33.8, 36.9, 35.8, 40.1, 33.6, 37.9, 35.8, 36.8,\n",
       "       33. , 34.6, 35.9, 35.3, 36.1, 44.8, 35.5, 33.5, 36.8, 32.9, 32.8,\n",
       "       29.7, 37.1, 33.2, 31.9, 32.1, 32.8, 36.4, 36.8, 37.2, 32.9, 38. ,\n",
       "       35.3, 35.9, 32.6, 43.3, 31.8, 33. , 31.7, 41.5, 31.4, 32.1, 31.6,\n",
       "       29.9, 35.8, 33.5, 32.3, 32. , 32.7, 29.9, 36.6, 30.2, 40.2, 32.3,\n",
       "       36.8, 41.1, 32.8, 35.3, 37.6, 37.8, 31.7, 28.3, 33.1, 29.3, 32.3,\n",
       "       38.9, 32.2, 30.2, 33.9, 36.5, 35.9, 29.2, 37.3, 31.2, 32.5, 30.9,\n",
       "       32.2, 41. , 35. , 36.2, 33.7, 33.1, 32.9, 27. , 40. , 26.2, 34.4,\n",
       "       34.8, 31.8, 34.4, 34.3, 34.1, 29.1, 31.2, 42.8, 29. , 30.5, 40.3,\n",
       "       33. , 32.3, 42.6, 30.5, 34.8, 34.1, 29.2, 36. , 29.6, 38.3, 30.5,\n",
       "       29.9, 33.4, 35.8, 32. , 37.5, 34. , 35.3, 31.8, 38.7, 36.8, 27.7,\n",
       "       30.3, 39.1, 31.6, 30.7, 30.8, 34.8, 30.8, 32.5, 36.8, 31.4, 32.6,\n",
       "       32.8, 35.3, 30.8, 34.8, 37.7, 33. , 38.3, 34.8, 37.8, 36.6, 31.3,\n",
       "       33.9, 36.6, 38.3, 41. , 29.3, 40.6, 32.1, 31.2, 37.1, 35.7, 32.3,\n",
       "       38.7, 34.8, 38.3, 38.8, 35.8, 33.4, 33.3, 30.5, 33.3, 32.7, 36.7,\n",
       "       35.2, 38.3, 35.1, 30.7, 35.7, 34.4, 27.2, 36.9, 28.9, 32.1, 34.5,\n",
       "       34.2, 34.6, 34.1, 31.3, 34.5, 33.3, 37.1, 34.7, 31.8, 34.8, 34.8,\n",
       "       35.6, 35.4, 40.7, 31.4, 34.8, 36.2, 35.7, 30.5, 31.8, 38.8, 39.9,\n",
       "       36.6, 29.1, 28. , 34.9, 30.5, 36.1, 38.8, 31.9, 38.2, 36.6, 32. ,\n",
       "       32.9, 35.3, 30.5, 38.2, 34.8, 34.8, 33.3, 34.7, 36.2, 27.8, 42.9,\n",
       "       31.6, 34.4, 32.9, 41.8, 30.6, 32.8, 33.5, 35. , 37.3, 40.8, 25.8,\n",
       "       28.8, 32.3, 33. , 34.1, 32.1, 36.8, 38.7, 35.6, 29.9, 38.4, 31.1,\n",
       "       32.3, 33.8, 31.9, 34.2, 32.6, 33.8, 37. , 35.5, 28.3, 40.8, 33.9,\n",
       "       40. , 34.5, 30.3, 43.8, 35.2, 35.3, 39.5, 35. , 31.8, 43.8, 32.2,\n",
       "       38.9, 31.9, 36.8, 30.2, 33.8, 26.1, 34.4, 34.2, 36.8, 36.2, 34.8,\n",
       "       35.4, 36.5, 31.3, 30.9, 34.8, 38.2, 31. , 33.2, 33.3, 36. , 34. ,\n",
       "       37.6, 28.3, 29.3, 33. , 33.6, 29.7, 32.8, 34.6, 29.8, 31.6, 43.7,\n",
       "       34.4, 33.3, 35.3, 31.1, 27. , 39.8, 28.3, 38.3, 31.9, 32.4, 39.8,\n",
       "       34.4, 30.3, 36.3, 33.5, 30.8, 34.1, 32.6, 34.8, 30.7, 31.9, 34.5,\n",
       "       35.3, 30.2, 30. , 36.8, 37. , 33.3, 29.8, 35.3, 42.2, 29.4, 37.6,\n",
       "       32.5, 39.2, 37.7, 38.2, 36.7, 34.8, 31.6, 31.3, 42.5, 43.1, 32.8,\n",
       "       29.4, 36. , 37.8, 37.8, 35.9, 39.6, 33.4, 31.1, 31.1, 36.8, 33.8,\n",
       "       33.8, 34.8, 36.5, 33.7, 34.5, 35.5, 36.3, 37.3, 27.8, 26.3, 37.1,\n",
       "       44.3, 30.3, 34.3, 35.2, 36.6, 39.1, 36.9, 29.7, 31.6, 39.8, 40.8,\n",
       "       26.1, 38.8, 33.7, 34.9, 42.7, 29.1, 31.2, 41.3, 33.7, 25.3, 26.7,\n",
       "       32.5, 31.6, 32.5, 43.7, 38.1, 29.1, 31.9, 38. , 37.2, 33.8, 30.5,\n",
       "       30.3, 31.3, 36.3, 39.2, 37.1, 33.2, 30.5, 34.1, 29.4, 37.2, 33.6,\n",
       "       39.3, 37.6, 33.5, 34.9, 31.9, 33. , 36.2, 30.2, 31.5, 35.2, 33.5,\n",
       "       38.3, 35.3, 34.8, 36.9, 34.8, 36.8, 37.5, 33.5, 33. , 36.6, 36.3,\n",
       "       36.3, 32.7, 35.2, 37.8, 36.8, 31.3, 34. , 33.1, 30.5, 37.1, 29.6,\n",
       "       35.3, 33.1, 34.6, 34.8, 33.8, 43.8, 32. ])"
      ]
     },
     "execution_count": 68,
     "metadata": {},
     "output_type": "execute_result"
    }
   ],
   "source": [
    "#Create a variable named selection that will select for all the observations who have an education level of 4, has an age higher then 25 , and EPDS less then 20\n",
    "selection = df.loc[(df.Maternal_Education == 4) & (df.Maternal_Age > 25) & (df.Edinburgh_Postnatal_Depression_Scale < 20)]\n",
    "# Use this selection to create a numpy n-dimensional array of the Maternal_age\n",
    "selection.Maternal_Age.to_numpy()"
   ]
  },
  {
   "cell_type": "markdown",
   "metadata": {},
   "source": [
    "#### <span style=\"color: lightpink;\"> Create a new dataframe object that only contains participants younger than 50 </span>"
   ]
  },
  {
   "cell_type": "code",
   "execution_count": 70,
   "metadata": {},
   "outputs": [
    {
     "data": {
      "text/html": [
       "<div>\n",
       "<style scoped>\n",
       "    .dataframe tbody tr th:only-of-type {\n",
       "        vertical-align: middle;\n",
       "    }\n",
       "\n",
       "    .dataframe tbody tr th {\n",
       "        vertical-align: top;\n",
       "    }\n",
       "\n",
       "    .dataframe thead th {\n",
       "        text-align: right;\n",
       "    }\n",
       "</style>\n",
       "<table border=\"1\" class=\"dataframe\">\n",
       "  <thead>\n",
       "    <tr style=\"text-align: right;\">\n",
       "      <th></th>\n",
       "      <th>OSF_ID</th>\n",
       "      <th>Maternal_Age</th>\n",
       "      <th>Maternal_Education</th>\n",
       "      <th>Edinburgh_Postnatal_Depression_Scale</th>\n",
       "      <th>PROMIS_Anxiety</th>\n",
       "      <th>Gestational_Age_At_Birth</th>\n",
       "      <th>Delivery_Date(converted to month and year)</th>\n",
       "      <th>Birth_Length</th>\n",
       "      <th>Birth_Weight</th>\n",
       "      <th>Delivery_Mode</th>\n",
       "      <th>NICU_Stay</th>\n",
       "      <th>Language</th>\n",
       "      <th>Threaten_Life</th>\n",
       "      <th>Threaten_Baby_Danger</th>\n",
       "      <th>Threaten_Baby_Harm</th>\n",
       "      <th>NICU_Stay.1</th>\n",
       "    </tr>\n",
       "  </thead>\n",
       "  <tbody>\n",
       "    <tr>\n",
       "      <th>0</th>\n",
       "      <td>1</td>\n",
       "      <td>38.3</td>\n",
       "      <td>3.0</td>\n",
       "      <td>9.0</td>\n",
       "      <td>13.0</td>\n",
       "      <td>39.71</td>\n",
       "      <td>Dec-20</td>\n",
       "      <td>49.20</td>\n",
       "      <td>3431.0</td>\n",
       "      <td>0.0</td>\n",
       "      <td>0.0</td>\n",
       "      <td>0</td>\n",
       "      <td>2</td>\n",
       "      <td>3</td>\n",
       "      <td>27</td>\n",
       "      <td>NaN</td>\n",
       "    </tr>\n",
       "    <tr>\n",
       "      <th>1</th>\n",
       "      <td>2</td>\n",
       "      <td>34.6</td>\n",
       "      <td>1.0</td>\n",
       "      <td>4.0</td>\n",
       "      <td>17.0</td>\n",
       "      <td>NaN</td>\n",
       "      <td>NaN</td>\n",
       "      <td>NaN</td>\n",
       "      <td>NaN</td>\n",
       "      <td>NaN</td>\n",
       "      <td>NaN</td>\n",
       "      <td>0</td>\n",
       "      <td>2</td>\n",
       "      <td>33</td>\n",
       "      <td>92</td>\n",
       "      <td>NaN</td>\n",
       "    </tr>\n",
       "    <tr>\n",
       "      <th>2</th>\n",
       "      <td>3</td>\n",
       "      <td>34.3</td>\n",
       "      <td>1.0</td>\n",
       "      <td>NaN</td>\n",
       "      <td>NaN</td>\n",
       "      <td>NaN</td>\n",
       "      <td>NaN</td>\n",
       "      <td>NaN</td>\n",
       "      <td>NaN</td>\n",
       "      <td>NaN</td>\n",
       "      <td>NaN</td>\n",
       "      <td>1</td>\n",
       "      <td></td>\n",
       "      <td></td>\n",
       "      <td></td>\n",
       "      <td>NaN</td>\n",
       "    </tr>\n",
       "    <tr>\n",
       "      <th>3</th>\n",
       "      <td>4</td>\n",
       "      <td>28.8</td>\n",
       "      <td>3.0</td>\n",
       "      <td>9.0</td>\n",
       "      <td>20.0</td>\n",
       "      <td>38.57</td>\n",
       "      <td>Dec-20</td>\n",
       "      <td>41.00</td>\n",
       "      <td>2534.0</td>\n",
       "      <td>0.0</td>\n",
       "      <td>0.0</td>\n",
       "      <td>1</td>\n",
       "      <td>53</td>\n",
       "      <td>67</td>\n",
       "      <td>54</td>\n",
       "      <td>0.0</td>\n",
       "    </tr>\n",
       "    <tr>\n",
       "      <th>4</th>\n",
       "      <td>5</td>\n",
       "      <td>36.5</td>\n",
       "      <td>1.0</td>\n",
       "      <td>14.0</td>\n",
       "      <td>20.0</td>\n",
       "      <td>39.86</td>\n",
       "      <td>Oct-20</td>\n",
       "      <td>53.34</td>\n",
       "      <td>3714.0</td>\n",
       "      <td>1.0</td>\n",
       "      <td>0.0</td>\n",
       "      <td>0</td>\n",
       "      <td>23</td>\n",
       "      <td>32</td>\n",
       "      <td>71</td>\n",
       "      <td>0.0</td>\n",
       "    </tr>\n",
       "  </tbody>\n",
       "</table>\n",
       "</div>"
      ],
      "text/plain": [
       "   OSF_ID  Maternal_Age  Maternal_Education  \\\n",
       "0       1          38.3                 3.0   \n",
       "1       2          34.6                 1.0   \n",
       "2       3          34.3                 1.0   \n",
       "3       4          28.8                 3.0   \n",
       "4       5          36.5                 1.0   \n",
       "\n",
       "   Edinburgh_Postnatal_Depression_Scale  PROMIS_Anxiety  \\\n",
       "0                                   9.0            13.0   \n",
       "1                                   4.0            17.0   \n",
       "2                                   NaN             NaN   \n",
       "3                                   9.0            20.0   \n",
       "4                                  14.0            20.0   \n",
       "\n",
       "   Gestational_Age_At_Birth Delivery_Date(converted to month and year)  \\\n",
       "0                     39.71                                     Dec-20   \n",
       "1                       NaN                                        NaN   \n",
       "2                       NaN                                        NaN   \n",
       "3                     38.57                                     Dec-20   \n",
       "4                     39.86                                     Oct-20   \n",
       "\n",
       "   Birth_Length  Birth_Weight  Delivery_Mode  NICU_Stay  Language  \\\n",
       "0         49.20        3431.0            0.0        0.0         0   \n",
       "1           NaN           NaN            NaN        NaN         0   \n",
       "2           NaN           NaN            NaN        NaN         1   \n",
       "3         41.00        2534.0            0.0        0.0         1   \n",
       "4         53.34        3714.0            1.0        0.0         0   \n",
       "\n",
       "  Threaten_Life Threaten_Baby_Danger Threaten_Baby_Harm  NICU_Stay.1  \n",
       "0             2                    3                 27          NaN  \n",
       "1             2                   33                 92          NaN  \n",
       "2                                                                NaN  \n",
       "3            53                   67                 54          0.0  \n",
       "4            23                   32                 71          0.0  "
      ]
     },
     "execution_count": 70,
     "metadata": {},
     "output_type": "execute_result"
    }
   ],
   "source": [
    "#Create a new dataframe object that only contains participants younger than 50\n",
    "df_younger_than_50 = df.loc[df.Maternal_Age < 50]\n",
    "df_younger_than_50\n",
    "df_younger_than_50[:5] # Display the first five rows"
   ]
  },
  {
   "cell_type": "code",
   "execution_count": 72,
   "metadata": {},
   "outputs": [
    {
     "name": "stdout",
     "output_type": "stream",
     "text": [
      "10.191785117056856\n"
     ]
    }
   ],
   "source": [
    "# Mean HR\n",
    "df_younger_than_50.Edinburgh_Postnatal_Depression_Scale.mean()\n",
    "print(df_younger_than_50.Edinburgh_Postnatal_Depression_Scale.mean())\n"
   ]
  },
  {
   "cell_type": "markdown",
   "metadata": {},
   "source": [
    "#### <span style=\"color: lightpink;\"> Create a new dataframe for participants with a restricted list of job titles</span>"
   ]
  },
  {
   "cell_type": "code",
   "execution_count": 73,
   "metadata": {},
   "outputs": [],
   "source": [
    "# Create a Python list object with the string element \n",
    "months = ['Dec-20', 'Jun-21', 'Aug-20']\n"
   ]
  },
  {
   "cell_type": "code",
   "execution_count": 74,
   "metadata": {},
   "outputs": [],
   "source": [
    "# Create a criterium\n",
    "crit = df['Delivery_Date(converted to month and year)'].isin(months)"
   ]
  },
  {
   "cell_type": "code",
   "execution_count": 76,
   "metadata": {},
   "outputs": [
    {
     "data": {
      "text/html": [
       "<div>\n",
       "<style scoped>\n",
       "    .dataframe tbody tr th:only-of-type {\n",
       "        vertical-align: middle;\n",
       "    }\n",
       "\n",
       "    .dataframe tbody tr th {\n",
       "        vertical-align: top;\n",
       "    }\n",
       "\n",
       "    .dataframe thead th {\n",
       "        text-align: right;\n",
       "    }\n",
       "</style>\n",
       "<table border=\"1\" class=\"dataframe\">\n",
       "  <thead>\n",
       "    <tr style=\"text-align: right;\">\n",
       "      <th></th>\n",
       "      <th>OSF_ID</th>\n",
       "      <th>Maternal_Age</th>\n",
       "      <th>Maternal_Education</th>\n",
       "      <th>Edinburgh_Postnatal_Depression_Scale</th>\n",
       "      <th>PROMIS_Anxiety</th>\n",
       "      <th>Gestational_Age_At_Birth</th>\n",
       "      <th>Delivery_Date(converted to month and year)</th>\n",
       "      <th>Birth_Length</th>\n",
       "      <th>Birth_Weight</th>\n",
       "      <th>Delivery_Mode</th>\n",
       "      <th>NICU_Stay</th>\n",
       "      <th>Language</th>\n",
       "      <th>Threaten_Life</th>\n",
       "      <th>Threaten_Baby_Danger</th>\n",
       "      <th>Threaten_Baby_Harm</th>\n",
       "      <th>NICU_Stay.1</th>\n",
       "    </tr>\n",
       "  </thead>\n",
       "  <tbody>\n",
       "    <tr>\n",
       "      <th>0</th>\n",
       "      <td>1</td>\n",
       "      <td>38.3</td>\n",
       "      <td>3.0</td>\n",
       "      <td>9.0</td>\n",
       "      <td>13.0</td>\n",
       "      <td>39.71</td>\n",
       "      <td>Dec-20</td>\n",
       "      <td>49.20</td>\n",
       "      <td>3431.0</td>\n",
       "      <td>0.0</td>\n",
       "      <td>0.0</td>\n",
       "      <td>0</td>\n",
       "      <td>2</td>\n",
       "      <td>3</td>\n",
       "      <td>27</td>\n",
       "      <td>NaN</td>\n",
       "    </tr>\n",
       "    <tr>\n",
       "      <th>3</th>\n",
       "      <td>4</td>\n",
       "      <td>28.8</td>\n",
       "      <td>3.0</td>\n",
       "      <td>9.0</td>\n",
       "      <td>20.0</td>\n",
       "      <td>38.57</td>\n",
       "      <td>Dec-20</td>\n",
       "      <td>41.00</td>\n",
       "      <td>2534.0</td>\n",
       "      <td>0.0</td>\n",
       "      <td>0.0</td>\n",
       "      <td>1</td>\n",
       "      <td>53</td>\n",
       "      <td>67</td>\n",
       "      <td>54</td>\n",
       "      <td>0.0</td>\n",
       "    </tr>\n",
       "    <tr>\n",
       "      <th>15</th>\n",
       "      <td>16</td>\n",
       "      <td>30.1</td>\n",
       "      <td>2.0</td>\n",
       "      <td>14.0</td>\n",
       "      <td>17.0</td>\n",
       "      <td>39.43</td>\n",
       "      <td>Jun-21</td>\n",
       "      <td>47.63</td>\n",
       "      <td>3289.0</td>\n",
       "      <td>0.0</td>\n",
       "      <td>0.0</td>\n",
       "      <td>0</td>\n",
       "      <td>79</td>\n",
       "      <td>76</td>\n",
       "      <td>97</td>\n",
       "      <td>0.0</td>\n",
       "    </tr>\n",
       "    <tr>\n",
       "      <th>17</th>\n",
       "      <td>18</td>\n",
       "      <td>27.1</td>\n",
       "      <td>1.0</td>\n",
       "      <td>0.0</td>\n",
       "      <td>8.0</td>\n",
       "      <td>40.43</td>\n",
       "      <td>Jun-21</td>\n",
       "      <td>48.00</td>\n",
       "      <td>2694.0</td>\n",
       "      <td>0.0</td>\n",
       "      <td>0.0</td>\n",
       "      <td>0</td>\n",
       "      <td>50</td>\n",
       "      <td>76</td>\n",
       "      <td>64</td>\n",
       "      <td>0.0</td>\n",
       "    </tr>\n",
       "    <tr>\n",
       "      <th>21</th>\n",
       "      <td>22</td>\n",
       "      <td>34.3</td>\n",
       "      <td>1.0</td>\n",
       "      <td>NaN</td>\n",
       "      <td>NaN</td>\n",
       "      <td>37.86</td>\n",
       "      <td>Jun-21</td>\n",
       "      <td>46.99</td>\n",
       "      <td>2694.0</td>\n",
       "      <td>0.0</td>\n",
       "      <td>0.0</td>\n",
       "      <td>0</td>\n",
       "      <td></td>\n",
       "      <td></td>\n",
       "      <td></td>\n",
       "      <td>0.0</td>\n",
       "    </tr>\n",
       "    <tr>\n",
       "      <th>...</th>\n",
       "      <td>...</td>\n",
       "      <td>...</td>\n",
       "      <td>...</td>\n",
       "      <td>...</td>\n",
       "      <td>...</td>\n",
       "      <td>...</td>\n",
       "      <td>...</td>\n",
       "      <td>...</td>\n",
       "      <td>...</td>\n",
       "      <td>...</td>\n",
       "      <td>...</td>\n",
       "      <td>...</td>\n",
       "      <td>...</td>\n",
       "      <td>...</td>\n",
       "      <td>...</td>\n",
       "      <td>...</td>\n",
       "    </tr>\n",
       "    <tr>\n",
       "      <th>10740</th>\n",
       "      <td>10741</td>\n",
       "      <td>33.1</td>\n",
       "      <td>2.0</td>\n",
       "      <td>16.0</td>\n",
       "      <td>25.0</td>\n",
       "      <td>40.00</td>\n",
       "      <td>Jun-21</td>\n",
       "      <td>50.80</td>\n",
       "      <td>3425.0</td>\n",
       "      <td>0.0</td>\n",
       "      <td>0.0</td>\n",
       "      <td>0</td>\n",
       "      <td>61</td>\n",
       "      <td>70</td>\n",
       "      <td>95</td>\n",
       "      <td>0.0</td>\n",
       "    </tr>\n",
       "    <tr>\n",
       "      <th>10754</th>\n",
       "      <td>10755</td>\n",
       "      <td>43.8</td>\n",
       "      <td>4.0</td>\n",
       "      <td>2.0</td>\n",
       "      <td>7.0</td>\n",
       "      <td>38.00</td>\n",
       "      <td>Dec-20</td>\n",
       "      <td>52.00</td>\n",
       "      <td>3799.0</td>\n",
       "      <td>0.0</td>\n",
       "      <td>0.0</td>\n",
       "      <td>0</td>\n",
       "      <td>25</td>\n",
       "      <td>33</td>\n",
       "      <td>48</td>\n",
       "      <td>0.0</td>\n",
       "    </tr>\n",
       "    <tr>\n",
       "      <th>10755</th>\n",
       "      <td>10756</td>\n",
       "      <td>41.7</td>\n",
       "      <td>1.0</td>\n",
       "      <td>19.0</td>\n",
       "      <td>21.0</td>\n",
       "      <td>38.43</td>\n",
       "      <td>Aug-20</td>\n",
       "      <td>48.26</td>\n",
       "      <td>3700.0</td>\n",
       "      <td>1.0</td>\n",
       "      <td>0.0</td>\n",
       "      <td>0</td>\n",
       "      <td>94</td>\n",
       "      <td>94</td>\n",
       "      <td>91</td>\n",
       "      <td>0.0</td>\n",
       "    </tr>\n",
       "    <tr>\n",
       "      <th>10756</th>\n",
       "      <td>10757</td>\n",
       "      <td>27.8</td>\n",
       "      <td>3.0</td>\n",
       "      <td>8.0</td>\n",
       "      <td>19.0</td>\n",
       "      <td>38.86</td>\n",
       "      <td>Aug-20</td>\n",
       "      <td>50.80</td>\n",
       "      <td>3573.0</td>\n",
       "      <td>1.0</td>\n",
       "      <td>0.0</td>\n",
       "      <td>0</td>\n",
       "      <td>45</td>\n",
       "      <td>82</td>\n",
       "      <td>86</td>\n",
       "      <td>0.0</td>\n",
       "    </tr>\n",
       "    <tr>\n",
       "      <th>10763</th>\n",
       "      <td>10764</td>\n",
       "      <td>24.0</td>\n",
       "      <td>0.0</td>\n",
       "      <td>2.0</td>\n",
       "      <td>13.0</td>\n",
       "      <td>41.43</td>\n",
       "      <td>Dec-20</td>\n",
       "      <td>53.34</td>\n",
       "      <td>4055.0</td>\n",
       "      <td>0.0</td>\n",
       "      <td>0.0</td>\n",
       "      <td>0</td>\n",
       "      <td>29</td>\n",
       "      <td>50</td>\n",
       "      <td>78</td>\n",
       "      <td>0.0</td>\n",
       "    </tr>\n",
       "  </tbody>\n",
       "</table>\n",
       "<p>1369 rows × 16 columns</p>\n",
       "</div>"
      ],
      "text/plain": [
       "       OSF_ID  Maternal_Age  Maternal_Education  \\\n",
       "0           1          38.3                 3.0   \n",
       "3           4          28.8                 3.0   \n",
       "15         16          30.1                 2.0   \n",
       "17         18          27.1                 1.0   \n",
       "21         22          34.3                 1.0   \n",
       "...       ...           ...                 ...   \n",
       "10740   10741          33.1                 2.0   \n",
       "10754   10755          43.8                 4.0   \n",
       "10755   10756          41.7                 1.0   \n",
       "10756   10757          27.8                 3.0   \n",
       "10763   10764          24.0                 0.0   \n",
       "\n",
       "       Edinburgh_Postnatal_Depression_Scale  PROMIS_Anxiety  \\\n",
       "0                                       9.0            13.0   \n",
       "3                                       9.0            20.0   \n",
       "15                                     14.0            17.0   \n",
       "17                                      0.0             8.0   \n",
       "21                                      NaN             NaN   \n",
       "...                                     ...             ...   \n",
       "10740                                  16.0            25.0   \n",
       "10754                                   2.0             7.0   \n",
       "10755                                  19.0            21.0   \n",
       "10756                                   8.0            19.0   \n",
       "10763                                   2.0            13.0   \n",
       "\n",
       "       Gestational_Age_At_Birth Delivery_Date(converted to month and year)  \\\n",
       "0                         39.71                                     Dec-20   \n",
       "3                         38.57                                     Dec-20   \n",
       "15                        39.43                                     Jun-21   \n",
       "17                        40.43                                     Jun-21   \n",
       "21                        37.86                                     Jun-21   \n",
       "...                         ...                                        ...   \n",
       "10740                     40.00                                     Jun-21   \n",
       "10754                     38.00                                     Dec-20   \n",
       "10755                     38.43                                     Aug-20   \n",
       "10756                     38.86                                     Aug-20   \n",
       "10763                     41.43                                     Dec-20   \n",
       "\n",
       "       Birth_Length  Birth_Weight  Delivery_Mode  NICU_Stay  Language  \\\n",
       "0             49.20        3431.0            0.0        0.0         0   \n",
       "3             41.00        2534.0            0.0        0.0         1   \n",
       "15            47.63        3289.0            0.0        0.0         0   \n",
       "17            48.00        2694.0            0.0        0.0         0   \n",
       "21            46.99        2694.0            0.0        0.0         0   \n",
       "...             ...           ...            ...        ...       ...   \n",
       "10740         50.80        3425.0            0.0        0.0         0   \n",
       "10754         52.00        3799.0            0.0        0.0         0   \n",
       "10755         48.26        3700.0            1.0        0.0         0   \n",
       "10756         50.80        3573.0            1.0        0.0         0   \n",
       "10763         53.34        4055.0            0.0        0.0         0   \n",
       "\n",
       "      Threaten_Life Threaten_Baby_Danger Threaten_Baby_Harm  NICU_Stay.1  \n",
       "0                 2                    3                 27          NaN  \n",
       "3                53                   67                 54          0.0  \n",
       "15               79                   76                 97          0.0  \n",
       "17               50                   76                 64          0.0  \n",
       "21                                                                   0.0  \n",
       "...             ...                  ...                ...          ...  \n",
       "10740            61                   70                 95          0.0  \n",
       "10754            25                   33                 48          0.0  \n",
       "10755            94                   94                 91          0.0  \n",
       "10756            45                   82                 86          0.0  \n",
       "10763            29                   50                 78          0.0  \n",
       "\n",
       "[1369 rows x 16 columns]"
      ]
     },
     "execution_count": 76,
     "metadata": {},
     "output_type": "execute_result"
    }
   ],
   "source": [
    "# Filter for month in the Delivery column and assign it to the variable df_months\n",
    "df_months = df.loc[crit]\n",
    "df_months"
   ]
  },
  {
   "cell_type": "code",
   "execution_count": 84,
   "metadata": {},
   "outputs": [],
   "source": [
    "# Build a criterium with the str.contains method for the word Dec\n",
    "crit = df['Delivery_Date(converted to month and year)'].str.contains('Dec', na=False) #Flag for missing values\n",
    "                                                                  "
   ]
  },
  {
   "cell_type": "code",
   "execution_count": 85,
   "metadata": {},
   "outputs": [
    {
     "data": {
      "text/html": [
       "<div>\n",
       "<style scoped>\n",
       "    .dataframe tbody tr th:only-of-type {\n",
       "        vertical-align: middle;\n",
       "    }\n",
       "\n",
       "    .dataframe tbody tr th {\n",
       "        vertical-align: top;\n",
       "    }\n",
       "\n",
       "    .dataframe thead th {\n",
       "        text-align: right;\n",
       "    }\n",
       "</style>\n",
       "<table border=\"1\" class=\"dataframe\">\n",
       "  <thead>\n",
       "    <tr style=\"text-align: right;\">\n",
       "      <th></th>\n",
       "      <th>OSF_ID</th>\n",
       "      <th>Maternal_Age</th>\n",
       "      <th>Maternal_Education</th>\n",
       "      <th>Edinburgh_Postnatal_Depression_Scale</th>\n",
       "      <th>PROMIS_Anxiety</th>\n",
       "      <th>Gestational_Age_At_Birth</th>\n",
       "      <th>Delivery_Date(converted to month and year)</th>\n",
       "      <th>Birth_Length</th>\n",
       "      <th>Birth_Weight</th>\n",
       "      <th>Delivery_Mode</th>\n",
       "      <th>NICU_Stay</th>\n",
       "      <th>Language</th>\n",
       "      <th>Threaten_Life</th>\n",
       "      <th>Threaten_Baby_Danger</th>\n",
       "      <th>Threaten_Baby_Harm</th>\n",
       "      <th>NICU_Stay.1</th>\n",
       "    </tr>\n",
       "  </thead>\n",
       "  <tbody>\n",
       "    <tr>\n",
       "      <th>0</th>\n",
       "      <td>1</td>\n",
       "      <td>38.3</td>\n",
       "      <td>3.0</td>\n",
       "      <td>9.0</td>\n",
       "      <td>13.0</td>\n",
       "      <td>39.71</td>\n",
       "      <td>Dec-20</td>\n",
       "      <td>49.20</td>\n",
       "      <td>3431.0</td>\n",
       "      <td>0.0</td>\n",
       "      <td>0.0</td>\n",
       "      <td>0</td>\n",
       "      <td>2</td>\n",
       "      <td>3</td>\n",
       "      <td>27</td>\n",
       "      <td>NaN</td>\n",
       "    </tr>\n",
       "    <tr>\n",
       "      <th>3</th>\n",
       "      <td>4</td>\n",
       "      <td>28.8</td>\n",
       "      <td>3.0</td>\n",
       "      <td>9.0</td>\n",
       "      <td>20.0</td>\n",
       "      <td>38.57</td>\n",
       "      <td>Dec-20</td>\n",
       "      <td>41.00</td>\n",
       "      <td>2534.0</td>\n",
       "      <td>0.0</td>\n",
       "      <td>0.0</td>\n",
       "      <td>1</td>\n",
       "      <td>53</td>\n",
       "      <td>67</td>\n",
       "      <td>54</td>\n",
       "      <td>0.0</td>\n",
       "    </tr>\n",
       "    <tr>\n",
       "      <th>37</th>\n",
       "      <td>38</td>\n",
       "      <td>31.7</td>\n",
       "      <td>1.0</td>\n",
       "      <td>8.0</td>\n",
       "      <td>21.0</td>\n",
       "      <td>39.00</td>\n",
       "      <td>Dec-20</td>\n",
       "      <td>54.61</td>\n",
       "      <td>3771.0</td>\n",
       "      <td>1.0</td>\n",
       "      <td>0.0</td>\n",
       "      <td>0</td>\n",
       "      <td>30</td>\n",
       "      <td>70</td>\n",
       "      <td>75</td>\n",
       "      <td>0.0</td>\n",
       "    </tr>\n",
       "    <tr>\n",
       "      <th>52</th>\n",
       "      <td>53</td>\n",
       "      <td>35.8</td>\n",
       "      <td>1.0</td>\n",
       "      <td>5.0</td>\n",
       "      <td>14.0</td>\n",
       "      <td>39.71</td>\n",
       "      <td>Dec-20</td>\n",
       "      <td>55.88</td>\n",
       "      <td>3799.0</td>\n",
       "      <td>0.0</td>\n",
       "      <td>0.0</td>\n",
       "      <td>0</td>\n",
       "      <td>4</td>\n",
       "      <td>3</td>\n",
       "      <td>5</td>\n",
       "      <td>0.0</td>\n",
       "    </tr>\n",
       "    <tr>\n",
       "      <th>91</th>\n",
       "      <td>92</td>\n",
       "      <td>35.1</td>\n",
       "      <td>4.0</td>\n",
       "      <td>10.0</td>\n",
       "      <td>19.0</td>\n",
       "      <td>40.00</td>\n",
       "      <td>Dec-20</td>\n",
       "      <td>51.00</td>\n",
       "      <td>3220.0</td>\n",
       "      <td>0.0</td>\n",
       "      <td>0.0</td>\n",
       "      <td>0</td>\n",
       "      <td>23</td>\n",
       "      <td>60</td>\n",
       "      <td>66</td>\n",
       "      <td>0.0</td>\n",
       "    </tr>\n",
       "    <tr>\n",
       "      <th>...</th>\n",
       "      <td>...</td>\n",
       "      <td>...</td>\n",
       "      <td>...</td>\n",
       "      <td>...</td>\n",
       "      <td>...</td>\n",
       "      <td>...</td>\n",
       "      <td>...</td>\n",
       "      <td>...</td>\n",
       "      <td>...</td>\n",
       "      <td>...</td>\n",
       "      <td>...</td>\n",
       "      <td>...</td>\n",
       "      <td>...</td>\n",
       "      <td>...</td>\n",
       "      <td>...</td>\n",
       "      <td>...</td>\n",
       "    </tr>\n",
       "    <tr>\n",
       "      <th>10689</th>\n",
       "      <td>10690</td>\n",
       "      <td>30.0</td>\n",
       "      <td>1.0</td>\n",
       "      <td>5.0</td>\n",
       "      <td>20.0</td>\n",
       "      <td>39.00</td>\n",
       "      <td>Dec-20</td>\n",
       "      <td>53.00</td>\n",
       "      <td>3657.0</td>\n",
       "      <td>1.0</td>\n",
       "      <td>0.0</td>\n",
       "      <td>0</td>\n",
       "      <td>64</td>\n",
       "      <td>68</td>\n",
       "      <td>74</td>\n",
       "      <td>0.0</td>\n",
       "    </tr>\n",
       "    <tr>\n",
       "      <th>10725</th>\n",
       "      <td>10726</td>\n",
       "      <td>35.0</td>\n",
       "      <td>2.0</td>\n",
       "      <td>7.0</td>\n",
       "      <td>14.0</td>\n",
       "      <td>38.57</td>\n",
       "      <td>Dec-20</td>\n",
       "      <td>49.53</td>\n",
       "      <td>2268.0</td>\n",
       "      <td>0.0</td>\n",
       "      <td>0.0</td>\n",
       "      <td>0</td>\n",
       "      <td>51</td>\n",
       "      <td>59</td>\n",
       "      <td>83</td>\n",
       "      <td>0.0</td>\n",
       "    </tr>\n",
       "    <tr>\n",
       "      <th>10728</th>\n",
       "      <td>10729</td>\n",
       "      <td>37.6</td>\n",
       "      <td>2.0</td>\n",
       "      <td>11.0</td>\n",
       "      <td>16.0</td>\n",
       "      <td>38.86</td>\n",
       "      <td>Dec-20</td>\n",
       "      <td>45.72</td>\n",
       "      <td>2977.0</td>\n",
       "      <td>1.0</td>\n",
       "      <td>0.0</td>\n",
       "      <td>1</td>\n",
       "      <td>45</td>\n",
       "      <td>72</td>\n",
       "      <td>72</td>\n",
       "      <td>0.0</td>\n",
       "    </tr>\n",
       "    <tr>\n",
       "      <th>10754</th>\n",
       "      <td>10755</td>\n",
       "      <td>43.8</td>\n",
       "      <td>4.0</td>\n",
       "      <td>2.0</td>\n",
       "      <td>7.0</td>\n",
       "      <td>38.00</td>\n",
       "      <td>Dec-20</td>\n",
       "      <td>52.00</td>\n",
       "      <td>3799.0</td>\n",
       "      <td>0.0</td>\n",
       "      <td>0.0</td>\n",
       "      <td>0</td>\n",
       "      <td>25</td>\n",
       "      <td>33</td>\n",
       "      <td>48</td>\n",
       "      <td>0.0</td>\n",
       "    </tr>\n",
       "    <tr>\n",
       "      <th>10763</th>\n",
       "      <td>10764</td>\n",
       "      <td>24.0</td>\n",
       "      <td>0.0</td>\n",
       "      <td>2.0</td>\n",
       "      <td>13.0</td>\n",
       "      <td>41.43</td>\n",
       "      <td>Dec-20</td>\n",
       "      <td>53.34</td>\n",
       "      <td>4055.0</td>\n",
       "      <td>0.0</td>\n",
       "      <td>0.0</td>\n",
       "      <td>0</td>\n",
       "      <td>29</td>\n",
       "      <td>50</td>\n",
       "      <td>78</td>\n",
       "      <td>0.0</td>\n",
       "    </tr>\n",
       "  </tbody>\n",
       "</table>\n",
       "<p>408 rows × 16 columns</p>\n",
       "</div>"
      ],
      "text/plain": [
       "       OSF_ID  Maternal_Age  Maternal_Education  \\\n",
       "0           1          38.3                 3.0   \n",
       "3           4          28.8                 3.0   \n",
       "37         38          31.7                 1.0   \n",
       "52         53          35.8                 1.0   \n",
       "91         92          35.1                 4.0   \n",
       "...       ...           ...                 ...   \n",
       "10689   10690          30.0                 1.0   \n",
       "10725   10726          35.0                 2.0   \n",
       "10728   10729          37.6                 2.0   \n",
       "10754   10755          43.8                 4.0   \n",
       "10763   10764          24.0                 0.0   \n",
       "\n",
       "       Edinburgh_Postnatal_Depression_Scale  PROMIS_Anxiety  \\\n",
       "0                                       9.0            13.0   \n",
       "3                                       9.0            20.0   \n",
       "37                                      8.0            21.0   \n",
       "52                                      5.0            14.0   \n",
       "91                                     10.0            19.0   \n",
       "...                                     ...             ...   \n",
       "10689                                   5.0            20.0   \n",
       "10725                                   7.0            14.0   \n",
       "10728                                  11.0            16.0   \n",
       "10754                                   2.0             7.0   \n",
       "10763                                   2.0            13.0   \n",
       "\n",
       "       Gestational_Age_At_Birth Delivery_Date(converted to month and year)  \\\n",
       "0                         39.71                                     Dec-20   \n",
       "3                         38.57                                     Dec-20   \n",
       "37                        39.00                                     Dec-20   \n",
       "52                        39.71                                     Dec-20   \n",
       "91                        40.00                                     Dec-20   \n",
       "...                         ...                                        ...   \n",
       "10689                     39.00                                     Dec-20   \n",
       "10725                     38.57                                     Dec-20   \n",
       "10728                     38.86                                     Dec-20   \n",
       "10754                     38.00                                     Dec-20   \n",
       "10763                     41.43                                     Dec-20   \n",
       "\n",
       "       Birth_Length  Birth_Weight  Delivery_Mode  NICU_Stay  Language  \\\n",
       "0             49.20        3431.0            0.0        0.0         0   \n",
       "3             41.00        2534.0            0.0        0.0         1   \n",
       "37            54.61        3771.0            1.0        0.0         0   \n",
       "52            55.88        3799.0            0.0        0.0         0   \n",
       "91            51.00        3220.0            0.0        0.0         0   \n",
       "...             ...           ...            ...        ...       ...   \n",
       "10689         53.00        3657.0            1.0        0.0         0   \n",
       "10725         49.53        2268.0            0.0        0.0         0   \n",
       "10728         45.72        2977.0            1.0        0.0         1   \n",
       "10754         52.00        3799.0            0.0        0.0         0   \n",
       "10763         53.34        4055.0            0.0        0.0         0   \n",
       "\n",
       "      Threaten_Life Threaten_Baby_Danger Threaten_Baby_Harm  NICU_Stay.1  \n",
       "0                 2                    3                 27          NaN  \n",
       "3                53                   67                 54          0.0  \n",
       "37               30                   70                 75          0.0  \n",
       "52                4                    3                  5          0.0  \n",
       "91               23                   60                 66          0.0  \n",
       "...             ...                  ...                ...          ...  \n",
       "10689            64                   68                 74          0.0  \n",
       "10725            51                   59                 83          0.0  \n",
       "10728            45                   72                 72          0.0  \n",
       "10754            25                   33                 48          0.0  \n",
       "10763            29                   50                 78          0.0  \n",
       "\n",
       "[408 rows x 16 columns]"
      ]
     },
     "execution_count": 85,
     "metadata": {},
     "output_type": "execute_result"
    }
   ],
   "source": [
    "# Create a new dataframe object with the criterium and assign it to the variable df_dec\n",
    "df_dec = df.loc[crit]\n",
    "df_dec\n"
   ]
  },
  {
   "cell_type": "markdown",
   "metadata": {},
   "source": [
    "### <span style=\"color: lightgreen;\"> Updating or changing the values in a dataframe </span>"
   ]
  },
  {
   "cell_type": "markdown",
   "metadata": {},
   "source": [
    "### <span style=\"color: lightpink;\"> Renaming Columns</span>"
   ]
  },
  {
   "cell_type": "code",
   "execution_count": 87,
   "metadata": {},
   "outputs": [
    {
     "data": {
      "text/plain": [
       "Index(['Identifier', 'Maternal_Age', 'Maternal_Education',\n",
       "       'Edinburgh_Postnatal_Depression_Scale', 'PROMIS_Anxiety',\n",
       "       'Gestational_Age_At_Birth',\n",
       "       'Delivery_Date(converted to month and year)', 'Birth_Length',\n",
       "       'Birth_Weight', 'Delivery_Mode', 'NICU_Stay', 'Language',\n",
       "       'Threaten_Life', 'Threaten_Baby_Danger', 'Threaten_Baby_Harm',\n",
       "       'NICU_Stay.1'],\n",
       "      dtype='object')"
      ]
     },
     "execution_count": 87,
     "metadata": {},
     "output_type": "execute_result"
    }
   ],
   "source": [
    "# Replace the OSF_ID column with the Identifier\n",
    "df.rename(columns={'OSF_ID': 'Identifier'}, inplace=True)\n",
    "df.columns #Call the columns attribute to verify the change"
   ]
  },
  {
   "cell_type": "markdown",
   "metadata": {},
   "source": [
    "### <span style=\"color: lightpink;\"> Deleting Columns </span>"
   ]
  },
  {
   "cell_type": "code",
   "execution_count": 89,
   "metadata": {},
   "outputs": [
    {
     "data": {
      "text/plain": [
       "Index(['Identifier', 'Maternal_Age', 'Maternal_Education',\n",
       "       'Edinburgh_Postnatal_Depression_Scale', 'PROMIS_Anxiety',\n",
       "       'Gestational_Age_At_Birth',\n",
       "       'Delivery_Date(converted to month and year)', 'Birth_Length',\n",
       "       'Birth_Weight', 'Delivery_Mode', 'NICU_Stay', 'Language',\n",
       "       'Threaten_Life', 'Threaten_Baby_Harm', 'NICU_Stay.1'],\n",
       "      dtype='object')"
      ]
     },
     "execution_count": 89,
     "metadata": {},
     "output_type": "execute_result"
    }
   ],
   "source": [
    "# Delete the Threaten Baby Danger column\n",
    "df.drop(columns='Threaten_Baby_Danger', inplace=True)\n",
    "df.columns #Call the columns attribute to verify the change\n"
   ]
  },
  {
   "cell_type": "markdown",
   "metadata": {},
   "source": [
    "### <span style=\"color: lightpink;\"> Add a Value of 2 to the threaten baby harm column </span>"
   ]
  },
  {
   "cell_type": "code",
   "execution_count": 92,
   "metadata": {},
   "outputs": [
    {
     "data": {
      "text/plain": [
       "0    40.3\n",
       "1    36.6\n",
       "2    36.3\n",
       "3    30.8\n",
       "4    38.5\n",
       "Name: Maternal_Age, dtype: float64"
      ]
     },
     "execution_count": 92,
     "metadata": {},
     "output_type": "execute_result"
    }
   ],
   "source": [
    "# Add 2 to each value of maternal age\n",
    "df['Maternal_Age'] = df['Maternal_Age'] + 2\n",
    "df['Maternal_Age'].head()\n",
    "\n"
   ]
  },
  {
   "cell_type": "code",
   "execution_count": 93,
   "metadata": {},
   "outputs": [],
   "source": [
    "# Create a user-defined function named add2 that adds 2 to a value\n",
    "def add2(x):\n",
    "    return x + 2\n"
   ]
  },
  {
   "cell_type": "code",
   "execution_count": 94,
   "metadata": {},
   "outputs": [
    {
     "data": {
      "text/plain": [
       "0    42.3\n",
       "1    38.6\n",
       "2    38.3\n",
       "3    32.8\n",
       "4    40.5\n",
       "Name: Maternal_Age, dtype: float64"
      ]
     },
     "execution_count": 94,
     "metadata": {},
     "output_type": "execute_result"
    }
   ],
   "source": [
    "df.Maternal_Age = df.Maternal_Age.apply(add2)\n",
    "df.Maternal_Age[:5]"
   ]
  },
  {
   "cell_type": "code",
   "execution_count": 95,
   "metadata": {},
   "outputs": [],
   "source": [
    "# Create a new variable named Age*Education level\n",
    "df['Age*Education_level'] = df.Maternal_Age * df.Maternal_Education"
   ]
  },
  {
   "cell_type": "markdown",
   "metadata": {},
   "source": [
    "### <span style=\"color: lightpink;\"> Changing the Values in a Column </span>"
   ]
  },
  {
   "cell_type": "code",
   "execution_count": 109,
   "metadata": {},
   "outputs": [
    {
     "data": {
      "text/plain": [
       "array([ 0., nan,  1.])"
      ]
     },
     "execution_count": 109,
     "metadata": {},
     "output_type": "execute_result"
    }
   ],
   "source": [
    "# Return the unique values in the NICU column\n",
    "df.NICU_Stay.unique()\n"
   ]
  },
  {
   "cell_type": "code",
   "execution_count": 110,
   "metadata": {},
   "outputs": [
    {
     "name": "stderr",
     "output_type": "stream",
     "text": [
      "/var/folders/xt/6x12kt7x5c35p3_2tm5_5_f00000gn/T/ipykernel_9247/2654174799.py:2: FutureWarning: A value is trying to be set on a copy of a DataFrame or Series through chained assignment using an inplace method.\n",
      "The behavior will change in pandas 3.0. This inplace method will never work because the intermediate object on which we are setting values always behaves as a copy.\n",
      "\n",
      "For example, when doing 'df[col].method(value, inplace=True)', try using 'df.method({col: value}, inplace=True)' or df[col] = df[col].method(value) instead, to perform the operation inplace on the original object.\n",
      "\n",
      "\n",
      "  df.NICU_Stay.replace({0: 1, 1: 2}, inplace=True)\n"
     ]
    }
   ],
   "source": [
    "# NICU stay values 0 with 1 and 1 with 2\n",
    "df.NICU_Stay.replace({0: 1, 1: 2}, inplace=True)\n",
    "\n"
   ]
  },
  {
   "cell_type": "markdown",
   "metadata": {},
   "source": [
    "### <span style=\"color: lightpink;\"> Spliting the values in a column into two columns  </span>"
   ]
  },
  {
   "cell_type": "markdown",
   "metadata": {},
   "source": [
    "** Error is happening because my data is not in a string form it is only in number form. So therefore I need to convert it to a string before spliting it. "
   ]
  },
  {
   "cell_type": "code",
   "execution_count": 151,
   "metadata": {},
   "outputs": [],
   "source": [
    "# Convert the Deleivery Date column to a string\n",
    "df['Delivery_Date(converted to month and year)'] = df['Delivery_Date(converted to month and year)'].astype(str)\n",
    "\n"
   ]
  },
  {
   "cell_type": "code",
   "execution_count": 153,
   "metadata": {},
   "outputs": [],
   "source": [
    "# Split the values in the Delivery Date column on the hyphen and assign it to the variable split_Delivery_Date\n",
    "split_Delivery_Date = df['Delivery_Date(converted to month and year)'].str.split('-', expand=True)\n",
    "split_Delivery_Date\n",
    "# Assign the first column to the variable Month and the second column to the variable Year\n",
    "df['Month'] = split_Delivery_Date[0]\n",
    "df['Year'] = split_Delivery_Date[1]\n"
   ]
  },
  {
   "cell_type": "code",
   "execution_count": 154,
   "metadata": {},
   "outputs": [
    {
     "data": {
      "text/html": [
       "<div>\n",
       "<style scoped>\n",
       "    .dataframe tbody tr th:only-of-type {\n",
       "        vertical-align: middle;\n",
       "    }\n",
       "\n",
       "    .dataframe tbody tr th {\n",
       "        vertical-align: top;\n",
       "    }\n",
       "\n",
       "    .dataframe thead th {\n",
       "        text-align: right;\n",
       "    }\n",
       "</style>\n",
       "<table border=\"1\" class=\"dataframe\">\n",
       "  <thead>\n",
       "    <tr style=\"text-align: right;\">\n",
       "      <th></th>\n",
       "      <th>Month</th>\n",
       "      <th>Year</th>\n",
       "    </tr>\n",
       "  </thead>\n",
       "  <tbody>\n",
       "    <tr>\n",
       "      <th>0</th>\n",
       "      <td>Dec</td>\n",
       "      <td>20</td>\n",
       "    </tr>\n",
       "    <tr>\n",
       "      <th>1</th>\n",
       "      <td>nan</td>\n",
       "      <td>None</td>\n",
       "    </tr>\n",
       "    <tr>\n",
       "      <th>2</th>\n",
       "      <td>nan</td>\n",
       "      <td>None</td>\n",
       "    </tr>\n",
       "    <tr>\n",
       "      <th>3</th>\n",
       "      <td>Dec</td>\n",
       "      <td>20</td>\n",
       "    </tr>\n",
       "    <tr>\n",
       "      <th>4</th>\n",
       "      <td>Oct</td>\n",
       "      <td>20</td>\n",
       "    </tr>\n",
       "  </tbody>\n",
       "</table>\n",
       "</div>"
      ],
      "text/plain": [
       "  Month  Year\n",
       "0   Dec    20\n",
       "1   nan  None\n",
       "2   nan  None\n",
       "3   Dec    20\n",
       "4   Oct    20"
      ]
     },
     "execution_count": 154,
     "metadata": {},
     "output_type": "execute_result"
    }
   ],
   "source": [
    "#Print the first 5 rows of the Month and Year columns\n",
    "df[['Month', 'Year']].head()\n"
   ]
  },
  {
   "cell_type": "markdown",
   "metadata": {},
   "source": [
    "### <span style=\"color: lightpink;\"> Categorize a numerical variable  </span>"
   ]
  },
  {
   "cell_type": "code",
   "execution_count": 160,
   "metadata": {},
   "outputs": [
    {
     "name": "stdout",
     "output_type": "stream",
     "text": [
      "20.0\n"
     ]
    }
   ],
   "source": [
    "# minimum birth length\n",
    "df.Birth_Length.min()\n",
    "print(df.Birth_Length.min())"
   ]
  },
  {
   "cell_type": "code",
   "execution_count": 161,
   "metadata": {},
   "outputs": [
    {
     "name": "stdout",
     "output_type": "stream",
     "text": [
      "70.0\n"
     ]
    }
   ],
   "source": [
    "# maximum birth length\n",
    "df.Birth_Length.max()\n",
    "print(df.Birth_Length.max())\n"
   ]
  },
  {
   "cell_type": "markdown",
   "metadata": {},
   "source": [
    "df['Edinburgh_Postnatal_Depression_Scale'] = pd.cut(df.Birth_Length, bins = [0, 10, 20, 30], right=True, labels=['low', 'normal', 'high'])"
   ]
  },
  {
   "cell_type": "code",
   "execution_count": 172,
   "metadata": {},
   "outputs": [
    {
     "name": "stdout",
     "output_type": "stream",
     "text": [
      "high\n",
      "low\n"
     ]
    }
   ],
   "source": [
    "# maximum EPDS score\n",
    "df.Edinburgh_Postnatal_Depression_Scale.max()\n",
    "print(df.Edinburgh_Postnatal_Depression_Scale.max())\n",
    "# minimum EPDS Score\n",
    "df.Edinburgh_Postnatal_Depression_Scale.min()\n",
    "print(df.Edinburgh_Postnatal_Depression_Scale.min())"
   ]
  },
  {
   "cell_type": "code",
   "execution_count": 173,
   "metadata": {},
   "outputs": [
    {
     "data": {
      "text/plain": [
       "0       low\n",
       "1       low\n",
       "2       NaN\n",
       "3       low\n",
       "4    medium\n",
       "Name: Edinburgh_Postnatal_Depression_Scale, dtype: category\n",
       "Categories (3, object): ['low' < 'medium' < 'high']"
      ]
     },
     "execution_count": 173,
     "metadata": {},
     "output_type": "execute_result"
    }
   ],
   "source": [
    "df.Edinburgh_Postnatal_Depression_Scale[:5]"
   ]
  },
  {
   "cell_type": "markdown",
   "metadata": {},
   "source": [
    "df['Birth_Lengthlevel'] = pd.cut(df.Birth_Length, bins = [20, 30, 40, 70], right=True, labels=['low', 'normal', 'high'])"
   ]
  },
  {
   "cell_type": "code",
   "execution_count": 180,
   "metadata": {},
   "outputs": [
    {
     "data": {
      "text/plain": [
       "0    high\n",
       "1     NaN\n",
       "2     NaN\n",
       "3    high\n",
       "4    high\n",
       "Name: Birth_Length, dtype: category\n",
       "Categories (3, object): ['low' < 'normal' < 'high']"
      ]
     },
     "execution_count": 180,
     "metadata": {},
     "output_type": "execute_result"
    }
   ],
   "source": [
    "\n",
    "df.Birth_Length[:5]"
   ]
  },
  {
   "cell_type": "markdown",
   "metadata": {},
   "source": [
    "### <span style=\"color: lightgreen;\"> Missing data </span>"
   ]
  },
  {
   "cell_type": "markdown",
   "metadata": {},
   "source": [
    "### <span style=\"color: lightpink;\"> The numpy nan value </span>"
   ]
  },
  {
   "cell_type": "code",
   "execution_count": 181,
   "metadata": {},
   "outputs": [
    {
     "data": {
      "text/plain": [
       "nan"
      ]
     },
     "execution_count": 181,
     "metadata": {},
     "output_type": "execute_result"
    }
   ],
   "source": [
    "# Print the numpy nan value\n",
    "np.nan"
   ]
  },
  {
   "cell_type": "code",
   "execution_count": 182,
   "metadata": {},
   "outputs": [
    {
     "data": {
      "text/plain": [
       "[1, 2, 3, nan]"
      ]
     },
     "execution_count": 182,
     "metadata": {},
     "output_type": "execute_result"
    }
   ],
   "source": [
    "# Create a list with three integers and a nan value and assign it to the variable my_list\n",
    "my_list = [1, 2, 3, np.nan]\n",
    "my_list"
   ]
  },
  {
   "cell_type": "code",
   "execution_count": 183,
   "metadata": {},
   "outputs": [
    {
     "data": {
      "text/plain": [
       "np.float64(nan)"
      ]
     },
     "execution_count": 183,
     "metadata": {},
     "output_type": "execute_result"
    }
   ],
   "source": [
    "# Calculate the mean of my_list\n",
    "np.mean(my_list)"
   ]
  },
  {
   "cell_type": "markdown",
   "metadata": {},
   "source": [
    "### <span style=\"color: lightpink;\"> A dataframe object with missing data </span>"
   ]
  },
  {
   "cell_type": "code",
   "execution_count": 188,
   "metadata": {},
   "outputs": [
    {
     "data": {
      "text/html": [
       "<div>\n",
       "<style scoped>\n",
       "    .dataframe tbody tr th:only-of-type {\n",
       "        vertical-align: middle;\n",
       "    }\n",
       "\n",
       "    .dataframe tbody tr th {\n",
       "        vertical-align: top;\n",
       "    }\n",
       "\n",
       "    .dataframe thead th {\n",
       "        text-align: right;\n",
       "    }\n",
       "</style>\n",
       "<table border=\"1\" class=\"dataframe\">\n",
       "  <thead>\n",
       "    <tr style=\"text-align: right;\">\n",
       "      <th></th>\n",
       "      <th>OSF_ID</th>\n",
       "      <th>Maternal_Age</th>\n",
       "      <th>Maternal_Education</th>\n",
       "      <th>Edinburgh_Postnatal_Depression_Scale</th>\n",
       "      <th>PROMIS_Anxiety</th>\n",
       "      <th>Gestational_Age_At_Birth</th>\n",
       "      <th>Delivery_Date(converted to month and year)</th>\n",
       "      <th>Birth_Length</th>\n",
       "      <th>Birth_Weight</th>\n",
       "      <th>Delivery_Mode</th>\n",
       "      <th>NICU_Stay</th>\n",
       "      <th>Language</th>\n",
       "      <th>Threaten_Life</th>\n",
       "      <th>Threaten_Baby_Danger</th>\n",
       "      <th>Threaten_Baby_Harm</th>\n",
       "      <th>NICU_Stay.1</th>\n",
       "    </tr>\n",
       "  </thead>\n",
       "  <tbody>\n",
       "    <tr>\n",
       "      <th>0</th>\n",
       "      <td>1</td>\n",
       "      <td>38.3</td>\n",
       "      <td>3.0</td>\n",
       "      <td>9.0</td>\n",
       "      <td>13.0</td>\n",
       "      <td>39.71</td>\n",
       "      <td>Dec-20</td>\n",
       "      <td>49.20</td>\n",
       "      <td>3431.0</td>\n",
       "      <td>0.0</td>\n",
       "      <td>0.0</td>\n",
       "      <td>0</td>\n",
       "      <td>2</td>\n",
       "      <td>3</td>\n",
       "      <td>27</td>\n",
       "      <td>NaN</td>\n",
       "    </tr>\n",
       "    <tr>\n",
       "      <th>1</th>\n",
       "      <td>2</td>\n",
       "      <td>34.6</td>\n",
       "      <td>1.0</td>\n",
       "      <td>4.0</td>\n",
       "      <td>17.0</td>\n",
       "      <td>NaN</td>\n",
       "      <td>NaN</td>\n",
       "      <td>NaN</td>\n",
       "      <td>NaN</td>\n",
       "      <td>NaN</td>\n",
       "      <td>NaN</td>\n",
       "      <td>0</td>\n",
       "      <td>2</td>\n",
       "      <td>33</td>\n",
       "      <td>92</td>\n",
       "      <td>NaN</td>\n",
       "    </tr>\n",
       "    <tr>\n",
       "      <th>2</th>\n",
       "      <td>3</td>\n",
       "      <td>34.3</td>\n",
       "      <td>1.0</td>\n",
       "      <td>NaN</td>\n",
       "      <td>NaN</td>\n",
       "      <td>NaN</td>\n",
       "      <td>NaN</td>\n",
       "      <td>NaN</td>\n",
       "      <td>NaN</td>\n",
       "      <td>NaN</td>\n",
       "      <td>NaN</td>\n",
       "      <td>1</td>\n",
       "      <td></td>\n",
       "      <td></td>\n",
       "      <td></td>\n",
       "      <td>NaN</td>\n",
       "    </tr>\n",
       "    <tr>\n",
       "      <th>3</th>\n",
       "      <td>4</td>\n",
       "      <td>28.8</td>\n",
       "      <td>3.0</td>\n",
       "      <td>9.0</td>\n",
       "      <td>20.0</td>\n",
       "      <td>38.57</td>\n",
       "      <td>Dec-20</td>\n",
       "      <td>41.00</td>\n",
       "      <td>2534.0</td>\n",
       "      <td>0.0</td>\n",
       "      <td>0.0</td>\n",
       "      <td>1</td>\n",
       "      <td>53</td>\n",
       "      <td>67</td>\n",
       "      <td>54</td>\n",
       "      <td>0.0</td>\n",
       "    </tr>\n",
       "    <tr>\n",
       "      <th>4</th>\n",
       "      <td>5</td>\n",
       "      <td>36.5</td>\n",
       "      <td>1.0</td>\n",
       "      <td>14.0</td>\n",
       "      <td>20.0</td>\n",
       "      <td>39.86</td>\n",
       "      <td>Oct-20</td>\n",
       "      <td>53.34</td>\n",
       "      <td>3714.0</td>\n",
       "      <td>1.0</td>\n",
       "      <td>0.0</td>\n",
       "      <td>0</td>\n",
       "      <td>23</td>\n",
       "      <td>32</td>\n",
       "      <td>71</td>\n",
       "      <td>0.0</td>\n",
       "    </tr>\n",
       "    <tr>\n",
       "      <th>5</th>\n",
       "      <td>6</td>\n",
       "      <td>38.3</td>\n",
       "      <td>1.0</td>\n",
       "      <td>3.0</td>\n",
       "      <td>8.0</td>\n",
       "      <td>38.57</td>\n",
       "      <td>Jun-20</td>\n",
       "      <td>NaN</td>\n",
       "      <td>NaN</td>\n",
       "      <td>NaN</td>\n",
       "      <td>NaN</td>\n",
       "      <td>0</td>\n",
       "      <td>29</td>\n",
       "      <td>36</td>\n",
       "      <td>33</td>\n",
       "      <td>NaN</td>\n",
       "    </tr>\n",
       "    <tr>\n",
       "      <th>6</th>\n",
       "      <td>7</td>\n",
       "      <td>34.5</td>\n",
       "      <td>0.0</td>\n",
       "      <td>8.0</td>\n",
       "      <td>15.0</td>\n",
       "      <td>NaN</td>\n",
       "      <td>NaN</td>\n",
       "      <td>NaN</td>\n",
       "      <td>NaN</td>\n",
       "      <td>NaN</td>\n",
       "      <td>NaN</td>\n",
       "      <td>0</td>\n",
       "      <td>24</td>\n",
       "      <td>30</td>\n",
       "      <td>32</td>\n",
       "      <td>NaN</td>\n",
       "    </tr>\n",
       "    <tr>\n",
       "      <th>7</th>\n",
       "      <td>8</td>\n",
       "      <td>NaN</td>\n",
       "      <td>NaN</td>\n",
       "      <td>NaN</td>\n",
       "      <td>NaN</td>\n",
       "      <td>38.00</td>\n",
       "      <td>May-21</td>\n",
       "      <td>50.17</td>\n",
       "      <td>2892.0</td>\n",
       "      <td>1.0</td>\n",
       "      <td>1.0</td>\n",
       "      <td>0</td>\n",
       "      <td></td>\n",
       "      <td></td>\n",
       "      <td></td>\n",
       "      <td>1.0</td>\n",
       "    </tr>\n",
       "    <tr>\n",
       "      <th>8</th>\n",
       "      <td>9</td>\n",
       "      <td>33.1</td>\n",
       "      <td>2.0</td>\n",
       "      <td>1.0</td>\n",
       "      <td>7.0</td>\n",
       "      <td>40.86</td>\n",
       "      <td>Nov-20</td>\n",
       "      <td>55.88</td>\n",
       "      <td>4480.0</td>\n",
       "      <td>0.0</td>\n",
       "      <td>0.0</td>\n",
       "      <td>0</td>\n",
       "      <td>27</td>\n",
       "      <td>76</td>\n",
       "      <td>72</td>\n",
       "      <td>0.0</td>\n",
       "    </tr>\n",
       "    <tr>\n",
       "      <th>9</th>\n",
       "      <td>10</td>\n",
       "      <td>25.8</td>\n",
       "      <td>2.0</td>\n",
       "      <td>NaN</td>\n",
       "      <td>NaN</td>\n",
       "      <td>NaN</td>\n",
       "      <td>NaN</td>\n",
       "      <td>NaN</td>\n",
       "      <td>NaN</td>\n",
       "      <td>NaN</td>\n",
       "      <td>NaN</td>\n",
       "      <td>0</td>\n",
       "      <td>50</td>\n",
       "      <td>88</td>\n",
       "      <td>84</td>\n",
       "      <td>NaN</td>\n",
       "    </tr>\n",
       "  </tbody>\n",
       "</table>\n",
       "</div>"
      ],
      "text/plain": [
       "   OSF_ID  Maternal_Age  Maternal_Education  \\\n",
       "0       1          38.3                 3.0   \n",
       "1       2          34.6                 1.0   \n",
       "2       3          34.3                 1.0   \n",
       "3       4          28.8                 3.0   \n",
       "4       5          36.5                 1.0   \n",
       "5       6          38.3                 1.0   \n",
       "6       7          34.5                 0.0   \n",
       "7       8           NaN                 NaN   \n",
       "8       9          33.1                 2.0   \n",
       "9      10          25.8                 2.0   \n",
       "\n",
       "   Edinburgh_Postnatal_Depression_Scale  PROMIS_Anxiety  \\\n",
       "0                                   9.0            13.0   \n",
       "1                                   4.0            17.0   \n",
       "2                                   NaN             NaN   \n",
       "3                                   9.0            20.0   \n",
       "4                                  14.0            20.0   \n",
       "5                                   3.0             8.0   \n",
       "6                                   8.0            15.0   \n",
       "7                                   NaN             NaN   \n",
       "8                                   1.0             7.0   \n",
       "9                                   NaN             NaN   \n",
       "\n",
       "   Gestational_Age_At_Birth Delivery_Date(converted to month and year)  \\\n",
       "0                     39.71                                     Dec-20   \n",
       "1                       NaN                                        NaN   \n",
       "2                       NaN                                        NaN   \n",
       "3                     38.57                                     Dec-20   \n",
       "4                     39.86                                     Oct-20   \n",
       "5                     38.57                                     Jun-20   \n",
       "6                       NaN                                        NaN   \n",
       "7                     38.00                                     May-21   \n",
       "8                     40.86                                     Nov-20   \n",
       "9                       NaN                                        NaN   \n",
       "\n",
       "   Birth_Length  Birth_Weight  Delivery_Mode  NICU_Stay  Language  \\\n",
       "0         49.20        3431.0            0.0        0.0         0   \n",
       "1           NaN           NaN            NaN        NaN         0   \n",
       "2           NaN           NaN            NaN        NaN         1   \n",
       "3         41.00        2534.0            0.0        0.0         1   \n",
       "4         53.34        3714.0            1.0        0.0         0   \n",
       "5           NaN           NaN            NaN        NaN         0   \n",
       "6           NaN           NaN            NaN        NaN         0   \n",
       "7         50.17        2892.0            1.0        1.0         0   \n",
       "8         55.88        4480.0            0.0        0.0         0   \n",
       "9           NaN           NaN            NaN        NaN         0   \n",
       "\n",
       "  Threaten_Life Threaten_Baby_Danger Threaten_Baby_Harm  NICU_Stay.1  \n",
       "0             2                    3                 27          NaN  \n",
       "1             2                   33                 92          NaN  \n",
       "2                                                                NaN  \n",
       "3            53                   67                 54          0.0  \n",
       "4            23                   32                 71          0.0  \n",
       "5            29                   36                 33          NaN  \n",
       "6            24                   30                 32          NaN  \n",
       "7                                                                1.0  \n",
       "8            27                   76                 72          0.0  \n",
       "9            50                   88                 84          NaN  "
      ]
     },
     "execution_count": 188,
     "metadata": {},
     "output_type": "execute_result"
    }
   ],
   "source": [
    "# Read the MissingData.csv file and assign it to the variable df_missing\n",
    "df_missing = pd.read_csv('/Users/sophiadalal/Desktop/Health Data Science /(Edited csv) Pregnancy During the COVID-19 Pandemic.csv')\n",
    "# Print the first 10 rows of df_missing\n",
    "df_missing[:10]"
   ]
  },
  {
   "cell_type": "markdown",
   "metadata": {},
   "source": [
    "### <span style=\"color: lightpink;\"> Delete Missing Data </span>"
   ]
  },
  {
   "cell_type": "code",
   "execution_count": 189,
   "metadata": {},
   "outputs": [],
   "source": [
    "# Delete rows with missing values and assign to a new variable complete_data_df\n",
    "complete_data_df = df_missing.dropna()"
   ]
  },
  {
   "cell_type": "code",
   "execution_count": 190,
   "metadata": {},
   "outputs": [
    {
     "data": {
      "text/plain": [
       "0        False\n",
       "1        False\n",
       "2        False\n",
       "3        False\n",
       "4        False\n",
       "         ...  \n",
       "10767    False\n",
       "10768    False\n",
       "10769    False\n",
       "10770    False\n",
       "10771    False\n",
       "Name: Maternal_Age, Length: 10772, dtype: bool"
      ]
     },
     "execution_count": 190,
     "metadata": {},
     "output_type": "execute_result"
    }
   ],
   "source": [
    "# Use .isna() for the maternal age column\n",
    "df_missing.Maternal_Age.isna()"
   ]
  },
  {
   "cell_type": "code",
   "execution_count": 191,
   "metadata": {},
   "outputs": [
    {
     "data": {
      "text/plain": [
       "np.int64(111)"
      ]
     },
     "execution_count": 191,
     "metadata": {},
     "output_type": "execute_result"
    }
   ],
   "source": [
    "# Sum over all the missing data in the maternal age column\n",
    "df_missing.Maternal_Age.isna().sum()"
   ]
  },
  {
   "cell_type": "code",
   "execution_count": 192,
   "metadata": {},
   "outputs": [
    {
     "name": "stderr",
     "output_type": "stream",
     "text": [
      "/var/folders/xt/6x12kt7x5c35p3_2tm5_5_f00000gn/T/ipykernel_9247/3037175642.py:2: FutureWarning: A value is trying to be set on a copy of a DataFrame or Series through chained assignment using an inplace method.\n",
      "The behavior will change in pandas 3.0. This inplace method will never work because the intermediate object on which we are setting values always behaves as a copy.\n",
      "\n",
      "For example, when doing 'df[col].method(value, inplace=True)', try using 'df.method({col: value}, inplace=True)' or df[col] = df[col].method(value) instead, to perform the operation inplace on the original object.\n",
      "\n",
      "\n",
      "  df_missing.Maternal_Age.fillna(method='ffill', inplace=True)\n",
      "/var/folders/xt/6x12kt7x5c35p3_2tm5_5_f00000gn/T/ipykernel_9247/3037175642.py:2: FutureWarning: Series.fillna with 'method' is deprecated and will raise in a future version. Use obj.ffill() or obj.bfill() instead.\n",
      "  df_missing.Maternal_Age.fillna(method='ffill', inplace=True)\n"
     ]
    }
   ],
   "source": [
    "# Use forward fill to impute the missing values in the maternal age column\n",
    "df_missing.Maternal_Age.fillna(method='ffill', inplace=True)\n",
    "\n"
   ]
  },
  {
   "cell_type": "code",
   "execution_count": 194,
   "metadata": {},
   "outputs": [
    {
     "data": {
      "text/plain": [
       "0    38.3\n",
       "1    34.6\n",
       "2    34.3\n",
       "3    28.8\n",
       "4    36.5\n",
       "5    38.3\n",
       "6    34.5\n",
       "7    34.5\n",
       "8    33.1\n",
       "9    25.8\n",
       "Name: Maternal_Age, dtype: float64"
      ]
     },
     "execution_count": 194,
     "metadata": {},
     "output_type": "execute_result"
    }
   ],
   "source": [
    "df_missing.Maternal_Age[:10]"
   ]
  },
  {
   "cell_type": "markdown",
   "metadata": {},
   "source": [
    "### <span style=\"color: lightpink;\"> Default Missing Values </span>"
   ]
  },
  {
   "cell_type": "code",
   "execution_count": 195,
   "metadata": {},
   "outputs": [],
   "source": [
    "# Import the DefaultMissingData.scv file and assign ot to the variable default_missing_df\n",
    "default_missing_df = pd.read_csv('/Users/sophiadalal/Desktop/Health Data Science /(Edited csv) Pregnancy During the COVID-19 Pandemic.csv')\n"
   ]
  },
  {
   "cell_type": "code",
   "execution_count": 196,
   "metadata": {},
   "outputs": [
    {
     "data": {
      "text/html": [
       "<div>\n",
       "<style scoped>\n",
       "    .dataframe tbody tr th:only-of-type {\n",
       "        vertical-align: middle;\n",
       "    }\n",
       "\n",
       "    .dataframe tbody tr th {\n",
       "        vertical-align: top;\n",
       "    }\n",
       "\n",
       "    .dataframe thead th {\n",
       "        text-align: right;\n",
       "    }\n",
       "</style>\n",
       "<table border=\"1\" class=\"dataframe\">\n",
       "  <thead>\n",
       "    <tr style=\"text-align: right;\">\n",
       "      <th></th>\n",
       "      <th>OSF_ID</th>\n",
       "      <th>Maternal_Age</th>\n",
       "      <th>Maternal_Education</th>\n",
       "      <th>Edinburgh_Postnatal_Depression_Scale</th>\n",
       "      <th>PROMIS_Anxiety</th>\n",
       "      <th>Gestational_Age_At_Birth</th>\n",
       "      <th>Delivery_Date(converted to month and year)</th>\n",
       "      <th>Birth_Length</th>\n",
       "      <th>Birth_Weight</th>\n",
       "      <th>Delivery_Mode</th>\n",
       "      <th>NICU_Stay</th>\n",
       "      <th>Language</th>\n",
       "      <th>Threaten_Life</th>\n",
       "      <th>Threaten_Baby_Danger</th>\n",
       "      <th>Threaten_Baby_Harm</th>\n",
       "      <th>NICU_Stay.1</th>\n",
       "    </tr>\n",
       "  </thead>\n",
       "  <tbody>\n",
       "    <tr>\n",
       "      <th>0</th>\n",
       "      <td>1</td>\n",
       "      <td>38.3</td>\n",
       "      <td>3.0</td>\n",
       "      <td>9.0</td>\n",
       "      <td>13.0</td>\n",
       "      <td>39.71</td>\n",
       "      <td>Dec-20</td>\n",
       "      <td>49.20</td>\n",
       "      <td>3431.0</td>\n",
       "      <td>0.0</td>\n",
       "      <td>0.0</td>\n",
       "      <td>0</td>\n",
       "      <td>2</td>\n",
       "      <td>3</td>\n",
       "      <td>27</td>\n",
       "      <td>NaN</td>\n",
       "    </tr>\n",
       "    <tr>\n",
       "      <th>1</th>\n",
       "      <td>2</td>\n",
       "      <td>34.6</td>\n",
       "      <td>1.0</td>\n",
       "      <td>4.0</td>\n",
       "      <td>17.0</td>\n",
       "      <td>NaN</td>\n",
       "      <td>NaN</td>\n",
       "      <td>NaN</td>\n",
       "      <td>NaN</td>\n",
       "      <td>NaN</td>\n",
       "      <td>NaN</td>\n",
       "      <td>0</td>\n",
       "      <td>2</td>\n",
       "      <td>33</td>\n",
       "      <td>92</td>\n",
       "      <td>NaN</td>\n",
       "    </tr>\n",
       "    <tr>\n",
       "      <th>2</th>\n",
       "      <td>3</td>\n",
       "      <td>34.3</td>\n",
       "      <td>1.0</td>\n",
       "      <td>NaN</td>\n",
       "      <td>NaN</td>\n",
       "      <td>NaN</td>\n",
       "      <td>NaN</td>\n",
       "      <td>NaN</td>\n",
       "      <td>NaN</td>\n",
       "      <td>NaN</td>\n",
       "      <td>NaN</td>\n",
       "      <td>1</td>\n",
       "      <td></td>\n",
       "      <td></td>\n",
       "      <td></td>\n",
       "      <td>NaN</td>\n",
       "    </tr>\n",
       "    <tr>\n",
       "      <th>3</th>\n",
       "      <td>4</td>\n",
       "      <td>28.8</td>\n",
       "      <td>3.0</td>\n",
       "      <td>9.0</td>\n",
       "      <td>20.0</td>\n",
       "      <td>38.57</td>\n",
       "      <td>Dec-20</td>\n",
       "      <td>41.00</td>\n",
       "      <td>2534.0</td>\n",
       "      <td>0.0</td>\n",
       "      <td>0.0</td>\n",
       "      <td>1</td>\n",
       "      <td>53</td>\n",
       "      <td>67</td>\n",
       "      <td>54</td>\n",
       "      <td>0.0</td>\n",
       "    </tr>\n",
       "    <tr>\n",
       "      <th>4</th>\n",
       "      <td>5</td>\n",
       "      <td>36.5</td>\n",
       "      <td>1.0</td>\n",
       "      <td>14.0</td>\n",
       "      <td>20.0</td>\n",
       "      <td>39.86</td>\n",
       "      <td>Oct-20</td>\n",
       "      <td>53.34</td>\n",
       "      <td>3714.0</td>\n",
       "      <td>1.0</td>\n",
       "      <td>0.0</td>\n",
       "      <td>0</td>\n",
       "      <td>23</td>\n",
       "      <td>32</td>\n",
       "      <td>71</td>\n",
       "      <td>0.0</td>\n",
       "    </tr>\n",
       "  </tbody>\n",
       "</table>\n",
       "</div>"
      ],
      "text/plain": [
       "   OSF_ID  Maternal_Age  Maternal_Education  \\\n",
       "0       1          38.3                 3.0   \n",
       "1       2          34.6                 1.0   \n",
       "2       3          34.3                 1.0   \n",
       "3       4          28.8                 3.0   \n",
       "4       5          36.5                 1.0   \n",
       "\n",
       "   Edinburgh_Postnatal_Depression_Scale  PROMIS_Anxiety  \\\n",
       "0                                   9.0            13.0   \n",
       "1                                   4.0            17.0   \n",
       "2                                   NaN             NaN   \n",
       "3                                   9.0            20.0   \n",
       "4                                  14.0            20.0   \n",
       "\n",
       "   Gestational_Age_At_Birth Delivery_Date(converted to month and year)  \\\n",
       "0                     39.71                                     Dec-20   \n",
       "1                       NaN                                        NaN   \n",
       "2                       NaN                                        NaN   \n",
       "3                     38.57                                     Dec-20   \n",
       "4                     39.86                                     Oct-20   \n",
       "\n",
       "   Birth_Length  Birth_Weight  Delivery_Mode  NICU_Stay  Language  \\\n",
       "0         49.20        3431.0            0.0        0.0         0   \n",
       "1           NaN           NaN            NaN        NaN         0   \n",
       "2           NaN           NaN            NaN        NaN         1   \n",
       "3         41.00        2534.0            0.0        0.0         1   \n",
       "4         53.34        3714.0            1.0        0.0         0   \n",
       "\n",
       "  Threaten_Life Threaten_Baby_Danger Threaten_Baby_Harm  NICU_Stay.1  \n",
       "0             2                    3                 27          NaN  \n",
       "1             2                   33                 92          NaN  \n",
       "2                                                                NaN  \n",
       "3            53                   67                 54          0.0  \n",
       "4            23                   32                 71          0.0  "
      ]
     },
     "execution_count": 196,
     "metadata": {},
     "output_type": "execute_result"
    }
   ],
   "source": [
    "default_missing_df[:5]"
   ]
  },
  {
   "cell_type": "code",
   "execution_count": 198,
   "metadata": {},
   "outputs": [
    {
     "data": {
      "text/html": [
       "<div>\n",
       "<style scoped>\n",
       "    .dataframe tbody tr th:only-of-type {\n",
       "        vertical-align: middle;\n",
       "    }\n",
       "\n",
       "    .dataframe tbody tr th {\n",
       "        vertical-align: top;\n",
       "    }\n",
       "\n",
       "    .dataframe thead th {\n",
       "        text-align: right;\n",
       "    }\n",
       "</style>\n",
       "<table border=\"1\" class=\"dataframe\">\n",
       "  <thead>\n",
       "    <tr style=\"text-align: right;\">\n",
       "      <th></th>\n",
       "      <th>OSF_ID</th>\n",
       "      <th>Maternal_Age</th>\n",
       "      <th>Maternal_Education</th>\n",
       "      <th>Edinburgh_Postnatal_Depression_Scale</th>\n",
       "      <th>PROMIS_Anxiety</th>\n",
       "      <th>Gestational_Age_At_Birth</th>\n",
       "      <th>Delivery_Date(converted to month and year)</th>\n",
       "      <th>Birth_Length</th>\n",
       "      <th>Birth_Weight</th>\n",
       "      <th>Delivery_Mode</th>\n",
       "      <th>NICU_Stay</th>\n",
       "      <th>Language</th>\n",
       "      <th>Threaten_Life</th>\n",
       "      <th>Threaten_Baby_Danger</th>\n",
       "      <th>Threaten_Baby_Harm</th>\n",
       "      <th>NICU_Stay.1</th>\n",
       "    </tr>\n",
       "  </thead>\n",
       "  <tbody>\n",
       "    <tr>\n",
       "      <th>0</th>\n",
       "      <td>1.0</td>\n",
       "      <td>38.3</td>\n",
       "      <td>3.0</td>\n",
       "      <td>9.0</td>\n",
       "      <td>13.0</td>\n",
       "      <td>39.71</td>\n",
       "      <td>Dec-20</td>\n",
       "      <td>49.20</td>\n",
       "      <td>3431.0</td>\n",
       "      <td>0.0</td>\n",
       "      <td>0.0</td>\n",
       "      <td>0</td>\n",
       "      <td>2</td>\n",
       "      <td>3</td>\n",
       "      <td>27</td>\n",
       "      <td>NaN</td>\n",
       "    </tr>\n",
       "    <tr>\n",
       "      <th>1</th>\n",
       "      <td>2.0</td>\n",
       "      <td>34.6</td>\n",
       "      <td>1.0</td>\n",
       "      <td>4.0</td>\n",
       "      <td>17.0</td>\n",
       "      <td>NaN</td>\n",
       "      <td>NaN</td>\n",
       "      <td>NaN</td>\n",
       "      <td>NaN</td>\n",
       "      <td>NaN</td>\n",
       "      <td>NaN</td>\n",
       "      <td>0</td>\n",
       "      <td>2</td>\n",
       "      <td>33</td>\n",
       "      <td>92</td>\n",
       "      <td>NaN</td>\n",
       "    </tr>\n",
       "    <tr>\n",
       "      <th>2</th>\n",
       "      <td>3.0</td>\n",
       "      <td>34.3</td>\n",
       "      <td>1.0</td>\n",
       "      <td>NaN</td>\n",
       "      <td>NaN</td>\n",
       "      <td>NaN</td>\n",
       "      <td>NaN</td>\n",
       "      <td>NaN</td>\n",
       "      <td>NaN</td>\n",
       "      <td>NaN</td>\n",
       "      <td>NaN</td>\n",
       "      <td>1</td>\n",
       "      <td></td>\n",
       "      <td></td>\n",
       "      <td></td>\n",
       "      <td>NaN</td>\n",
       "    </tr>\n",
       "    <tr>\n",
       "      <th>3</th>\n",
       "      <td>4.0</td>\n",
       "      <td>28.8</td>\n",
       "      <td>3.0</td>\n",
       "      <td>9.0</td>\n",
       "      <td>20.0</td>\n",
       "      <td>38.57</td>\n",
       "      <td>Dec-20</td>\n",
       "      <td>41.00</td>\n",
       "      <td>2534.0</td>\n",
       "      <td>0.0</td>\n",
       "      <td>0.0</td>\n",
       "      <td>1</td>\n",
       "      <td>53</td>\n",
       "      <td>67</td>\n",
       "      <td>54</td>\n",
       "      <td>0.0</td>\n",
       "    </tr>\n",
       "    <tr>\n",
       "      <th>4</th>\n",
       "      <td>5.0</td>\n",
       "      <td>36.5</td>\n",
       "      <td>1.0</td>\n",
       "      <td>14.0</td>\n",
       "      <td>20.0</td>\n",
       "      <td>39.86</td>\n",
       "      <td>Oct-20</td>\n",
       "      <td>53.34</td>\n",
       "      <td>3714.0</td>\n",
       "      <td>1.0</td>\n",
       "      <td>0.0</td>\n",
       "      <td>0</td>\n",
       "      <td>23</td>\n",
       "      <td>32</td>\n",
       "      <td>71</td>\n",
       "      <td>0.0</td>\n",
       "    </tr>\n",
       "  </tbody>\n",
       "</table>\n",
       "</div>"
      ],
      "text/plain": [
       "   OSF_ID  Maternal_Age  Maternal_Education  \\\n",
       "0     1.0          38.3                 3.0   \n",
       "1     2.0          34.6                 1.0   \n",
       "2     3.0          34.3                 1.0   \n",
       "3     4.0          28.8                 3.0   \n",
       "4     5.0          36.5                 1.0   \n",
       "\n",
       "   Edinburgh_Postnatal_Depression_Scale  PROMIS_Anxiety  \\\n",
       "0                                   9.0            13.0   \n",
       "1                                   4.0            17.0   \n",
       "2                                   NaN             NaN   \n",
       "3                                   9.0            20.0   \n",
       "4                                  14.0            20.0   \n",
       "\n",
       "   Gestational_Age_At_Birth Delivery_Date(converted to month and year)  \\\n",
       "0                     39.71                                     Dec-20   \n",
       "1                       NaN                                        NaN   \n",
       "2                       NaN                                        NaN   \n",
       "3                     38.57                                     Dec-20   \n",
       "4                     39.86                                     Oct-20   \n",
       "\n",
       "   Birth_Length  Birth_Weight  Delivery_Mode  NICU_Stay  Language  \\\n",
       "0         49.20        3431.0            0.0        0.0         0   \n",
       "1           NaN           NaN            NaN        NaN         0   \n",
       "2           NaN           NaN            NaN        NaN         1   \n",
       "3         41.00        2534.0            0.0        0.0         1   \n",
       "4         53.34        3714.0            1.0        0.0         0   \n",
       "\n",
       "  Threaten_Life Threaten_Baby_Danger Threaten_Baby_Harm  NICU_Stay.1  \n",
       "0             2                    3                 27          NaN  \n",
       "1             2                   33                 92          NaN  \n",
       "2                                                                NaN  \n",
       "3            53                   67                 54          0.0  \n",
       "4            23                   32                 71          0.0  "
      ]
     },
     "execution_count": 198,
     "metadata": {},
     "output_type": "execute_result"
    }
   ],
   "source": [
    "# Reimport the csv file and use the na_values argument to specify the missing values 999, Nil, and Missing\n",
    "default_missing_df = pd.read_csv('/Users/sophiadalal/Desktop/Health Data Science /(Edited csv) Pregnancy During the COVID-19 Pandemic.csv', na_values=[999, 'Nil', 'Missing'])\n",
    "default_missing_df[:5]\n"
   ]
  },
  {
   "cell_type": "markdown",
   "metadata": {},
   "source": [
    "# <span style=\"color: mediumvioletred;\"><u>**Quiz Questions :):**</u></span>"
   ]
  },
  {
   "cell_type": "markdown",
   "metadata": {},
   "source": [
    "<span style=\"color:MediumPurple;\"><strong> 1. How do you import the pandas library in Python?</strong></span>\n"
   ]
  },
  {
   "cell_type": "markdown",
   "metadata": {},
   "source": [
    "import pandas as pd"
   ]
  },
  {
   "cell_type": "markdown",
   "metadata": {},
   "source": [
    "<span style=\"color:Teal;\"><strong> 2. How do you read a CSV file named <code>data.csv</code> into a pandas DataFrame?</strong></span>"
   ]
  },
  {
   "cell_type": "markdown",
   "metadata": {},
   "source": [
    "df = pd.read_csv('data.csv')"
   ]
  },
  {
   "cell_type": "markdown",
   "metadata": {},
   "source": [
    "<span style=\"color:SlateBlue;\"><strong>3. How do you display the first 5 rows of a DataFrame named <code>df</code>?</strong></span>"
   ]
  },
  {
   "cell_type": "markdown",
   "metadata": {},
   "source": [
    "df.head()"
   ]
  },
  {
   "cell_type": "markdown",
   "metadata": {},
   "source": [
    "<span style=\"color:GoldenRod;\"><strong> 4. How do you find the number of rows and columns in a DataFrame <code>df</code>?</strong></span>"
   ]
  },
  {
   "cell_type": "markdown",
   "metadata": {},
   "source": [
    "df.shape"
   ]
  },
  {
   "cell_type": "markdown",
   "metadata": {},
   "source": [
    "<span style=\"color:DarkCyan;\"><strong> 5. How do you print the names of all columns in a DataFrame <code>df</code>?</strong></span>"
   ]
  },
  {
   "cell_type": "markdown",
   "metadata": {},
   "source": [
    "df.columns.tolist()"
   ]
  },
  {
   "cell_type": "markdown",
   "metadata": {},
   "source": [
    "<span style=\"color:DeepPink;\"><strong>6. How do you get summary information of DataFrame <code>df</code> including data types and non-null values?</strong></span>"
   ]
  },
  {
   "cell_type": "markdown",
   "metadata": {},
   "source": [
    "df.info()"
   ]
  },
  {
   "cell_type": "markdown",
   "metadata": {},
   "source": [
    "<span style=\"color:Crimson;\"><strong> 7. How do you select rows in <code>df</code> where column <code>A</code> is greater than 5?</strong></span>"
   ]
  },
  {
   "cell_type": "markdown",
   "metadata": {},
   "source": [
    "df[df['A'] > 5]"
   ]
  },
  {
   "cell_type": "markdown",
   "metadata": {},
   "source": [
    "<span style=\"color:DarkOrchid;\"><strong> 8. How do you select columns <code>A</code> and <code>B</code> from DataFrame <code>df</code>?</strong></span>"
   ]
  },
  {
   "cell_type": "markdown",
   "metadata": {},
   "source": [
    "df[['A', 'B']]"
   ]
  },
  {
   "cell_type": "markdown",
   "metadata": {},
   "source": [
    "<span style=\"color:ForestGreen;\"><strong> 9. How do you rename column <code>A</code> to <code>Alpha</code> in DataFrame <code>df</code>?</strong></span>"
   ]
  },
  {
   "cell_type": "markdown",
   "metadata": {},
   "source": [
    "df.rename(columns={'A': 'Alpha'}, inplace=True)"
   ]
  },
  {
   "cell_type": "markdown",
   "metadata": {},
   "source": [
    "<span style=\"color:Tomato;\"><strong> 10. How do you replace all occurrences of <code>999</code> in DataFrame <code>df</code> with <code>NaN</code>?</strong></span>"
   ]
  },
  {
   "cell_type": "markdown",
   "metadata": {},
   "source": [
    "import numpy as np\n",
    "df.replace(999, np.nan, inplace=True)"
   ]
  },
  {
   "cell_type": "markdown",
   "metadata": {},
   "source": [
    "<span style=\"color:Sienna;\"><strong> 11. How do you drop all rows in DataFrame <code>df</code> containing missing values?</strong></span>"
   ]
  },
  {
   "cell_type": "markdown",
   "metadata": {},
   "source": [
    "df.dropna(inplace=True)"
   ]
  },
  {
   "cell_type": "markdown",
   "metadata": {},
   "source": [
    "<span style=\"color:purple;\"><strong> 12. How do you fill all missing values in DataFrame <code>df</code> with <code>0</code>?</strong></span>"
   ]
  },
  {
   "cell_type": "markdown",
   "metadata": {},
   "source": [
    "df.fillna(0, inplace=True)\n",
    "\n",
    "or\n",
    "\n",
    "df.fillna(df['column'].mean(), inplace=True)"
   ]
  },
  {
   "cell_type": "markdown",
   "metadata": {},
   "source": [
    "<span style=\"color:HotPink;\"><strong>13. How do you calculate the mean of column <code>A</code> in DataFrame <code>df</code>?</strong></span>"
   ]
  },
  {
   "cell_type": "markdown",
   "metadata": {},
   "source": [
    "df['A'].mean()"
   ]
  },
  {
   "cell_type": "markdown",
   "metadata": {},
   "source": [
    "<span style=\"color:DarkOliveGreen;\"><strong> 14. How do you create a new column <code>C</code> as the sum of columns <code>A</code> and <code>B</code>?</strong></span>"
   ]
  },
  {
   "cell_type": "markdown",
   "metadata": {},
   "source": [
    "df['C'] = df['A'] + df['B']"
   ]
  },
  {
   "cell_type": "markdown",
   "metadata": {},
   "source": [
    "<span style=\"color:DarkOrange;\"><strong>15. How do you save the DataFrame <code>df</code> to a CSV file named <code>output.csv</code>?</strong></span>"
   ]
  },
  {
   "cell_type": "markdown",
   "metadata": {},
   "source": [
    "df.to_csv('output.csv', index=False)"
   ]
  }
 ],
 "metadata": {
  "kernelspec": {
   "display_name": ".venv",
   "language": "python",
   "name": "python3"
  },
  "language_info": {
   "codemirror_mode": {
    "name": "ipython",
    "version": 3
   },
   "file_extension": ".py",
   "mimetype": "text/x-python",
   "name": "python",
   "nbconvert_exporter": "python",
   "pygments_lexer": "ipython3",
   "version": "3.9.6"
  }
 },
 "nbformat": 4,
 "nbformat_minor": 2
}
