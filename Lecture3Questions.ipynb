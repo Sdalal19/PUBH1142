{
 "cells": [
  {
   "cell_type": "markdown",
   "metadata": {},
   "source": [
    "# <span style=\"color: mediumvioletred;\"><u>**Lecture 3 Questions on Privacy:**</u></span>\n",
    "#### <span style=\"color: MediumPurple;\">Sophia Dalal </span>\n",
    "#### <span style=\"color: MediumPurple;\">January 28 2025  </span>"
   ]
  },
  {
   "cell_type": "markdown",
   "metadata": {},
   "source": [
    "<span style=\"color: violet;\">1. What is the primary goal of data anonymization?</span>\n",
    " * The primary goal of data anonymization is to protect private or sensitive information by removing or encrypting identifiers that connect individuals to stored data while still allowing the data to be useful for analysis or research.\n"
   ]
  },
  {
   "cell_type": "markdown",
   "metadata": {},
   "source": [
    "<span style=\"color: violet;\">2. What is the Havasupai Tribe case about?</span>\n",
    "* The Havasupai Tribe case involved researchers from Arizona State University collecting blood samples from the tribe for a Type 2 diabetes study but later using the samples for unrelated genetic research without obtaining further consent. This led to a lawsuit, highlighting the importance of informed consent in health research."
   ]
  },
  {
   "cell_type": "markdown",
   "metadata": {},
   "source": [
    "<span style=\"color: violet;\">3. What was the largest health data breach in history?</span>\n",
    "* The largest health data breach in history was the Anthem Inc. data breach in 2015, where hackers accessed the personal information of approximately 78.8 million individuals through a cyberattack."
   ]
  },
  {
   "cell_type": "markdown",
   "metadata": {},
   "source": [
    "<span style=\"color: violet;\">4. What is the pulse oximeter controversy about?</span>\n",
    "* The pulse oximeter controversy refers to racial bias in the device's readings, where studies found that pulse oximeters were nearly three times more likely to miss hypoxemia (low blood oxygen levels) in Black patients compared to White patients due to the device being primarily calibrated on light-skinned individuals."
   ]
  },
  {
   "cell_type": "markdown",
   "metadata": {},
   "source": [
    "<span style=\"color: violet;\">5. What is the role of an Institutional Review Board (IRB) in research?</span>\n",
    "* An IRB is responsible for reviewing and monitoring research involving human subjects to ensure that it is conducted ethically and that the rights, privacy, and welfare of participants are protected."
   ]
  },
  {
   "cell_type": "markdown",
   "metadata": {},
   "source": [
    "<span style=\"color: violet;\">6. What is the difference between spreadsheet software and database software for health data management?</span>\n",
    "* Spreadsheet software (e.g., Excel) is best for small-scale data analysis and simple organization, whereas database software (e.g., SQL, Oracle) is designed for managing large datasets, ensuring data integrity, security, and efficient querying. "
   ]
  },
  {
   "cell_type": "markdown",
   "metadata": {},
   "source": [
    "<span style=\"color: violet;\">7. What is a conflict of interest in public health research?</span>\n",
    "* A conflict of interest occurs when a researcher has a secondary interest (such as financial, personal, or academic) that could unduly influence their professional judgment, research design, findings, or reporting"
   ]
  },
  {
   "cell_type": "markdown",
   "metadata": {},
   "source": [
    "<span style=\"color: violet;\">8. What is informed consent in the context of health data collection?</span>\n",
    "* Informed consent ensures that individuals are fully aware of how their data will be collected, used, stored, and accessed. It includes information about potential risks, benefits, and the right to withdraw consent at any time."
   ]
  },
  {
   "cell_type": "markdown",
   "metadata": {},
   "source": [
    "<span style=\"color: violet;\">9. What is data masking in the context of de-identification of health data?</span>\n",
    "* Data masking involves replacing identifiable information with random characters or removing it completely to protect privacy while still allowing data analysis. "
   ]
  },
  {
   "cell_type": "markdown",
   "metadata": {},
   "source": [
    "<span style=\"color: violet;\">10. What is the principle of k-anonymity in the context of de-identification of health data?</span>\n",
    "* K-anonymity ensures that each data point in a dataset is indistinguishable from at least k-1 other records, preventing individual identification while preserving data utility. "
   ]
  },
  {
   "cell_type": "markdown",
   "metadata": {},
   "source": [
    "<span style=\"color: violet;\">11. What is the main concern about conflicts of interest in public health research?</span>\n",
    "* The main concern is that conflicts of interest can introduce bias into research, compromise its integrity, and erode public trust in health information."
   ]
  },
  {
   "cell_type": "markdown",
   "metadata": {},
   "source": [
    "<span style=\"color: violet;\">12. What is the first step in managing conflicts of interest in public health research?</span>\n",
    "* The first step is transparency, meaning that researchers must disclose any potential conflicts of interest at the outset and throughout the research process.\n"
   ]
  },
  {
   "cell_type": "markdown",
   "metadata": {},
   "source": [
    "<span style=\"color: violet;\">13. What is the role of independent oversight in managing conflicts of interest in public health research?</span>\n",
    "* Independent oversight involves reviewing research proposals, monitoring ongoing research, and assessing findings to ensure conflicts of interest do not compromise integrity.\n",
    "\n"
   ]
  },
  {
   "cell_type": "markdown",
   "metadata": {},
   "source": [
    "<span style=\"color: violet;\">14. What is one strategy for mitigating conflicts of interest in public health research?</span>\n",
    "* One strategy is public disclosure, where researchers openly declare their conflicts of interest in publications, presentations, and funding reports to allow for external scrutiny.\n"
   ]
  },
  {
   "cell_type": "markdown",
   "metadata": {},
   "source": [
    "<span style=\"color: violet;\">15. What is the potential impact of not properly managing conflicts of interest in public health research?</span>\n",
    "* Poorly managed conflicts of interest can bias research results, reduce credibility, mislead policy decisions, and damage public trust in scientific findings."
   ]
  }
 ],
 "metadata": {
  "language_info": {
   "name": "python"
  }
 },
 "nbformat": 4,
 "nbformat_minor": 2
}
