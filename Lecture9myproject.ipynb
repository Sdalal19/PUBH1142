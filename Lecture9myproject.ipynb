{
 "cells": [
  {
   "cell_type": "markdown",
   "metadata": {},
   "source": [
    "# <span style=\"color: MediumPurple;\">Maternal Mental Health during pregnancy in covid </span>"
   ]
  },
  {
   "cell_type": "markdown",
   "metadata": {},
   "source": [
    "### <span style=\"color: LightPink;\">Sophia Dalal </span>"
   ]
  },
  {
   "cell_type": "markdown",
   "metadata": {},
   "source": [
    "### <span style=\"color: Lightblue;\">Health Data Science Project </span>"
   ]
  },
  {
   "cell_type": "markdown",
   "metadata": {},
   "source": [
    "#### <span style=\"color: MediumPurple;\">(Below are ways for me to double check my data and verify that I am looking at the correct set!) </span>"
   ]
  },
  {
   "cell_type": "markdown",
   "metadata": {},
   "source": [
    "##### Importing Packages"
   ]
  },
  {
   "cell_type": "code",
   "execution_count": 1,
   "metadata": {},
   "outputs": [],
   "source": [
    "import pandas as pd \n",
    "from scipy import stats"
   ]
  },
  {
   "cell_type": "markdown",
   "metadata": {},
   "source": [
    "#### Data Import"
   ]
  },
  {
   "cell_type": "code",
   "execution_count": 11,
   "metadata": {},
   "outputs": [],
   "source": [
    "# Read the CSV file\n",
    "df = pd.read_csv('Original Pregnancy During the COVID-19 Pandemic 2.csv')"
   ]
  },
  {
   "cell_type": "code",
   "execution_count": 12,
   "metadata": {},
   "outputs": [
    {
     "data": {
      "text/plain": [
       "(10772, 16)"
      ]
     },
     "execution_count": 12,
     "metadata": {},
     "output_type": "execute_result"
    }
   ],
   "source": [
    "# Verify the size of 'df'\n",
    "df.shape"
   ]
  },
  {
   "cell_type": "code",
   "execution_count": 13,
   "metadata": {},
   "outputs": [
    {
     "data": {
      "text/plain": [
       "Index(['OSF_ID', 'Maternal_Age', 'Household_Income', 'Maternal_Education',\n",
       "       'Edinburgh_Postnatal_Depression_Scale', 'PROMIS_Anxiety',\n",
       "       'Gestational_Age_At_Birth',\n",
       "       'Delivery_Date(converted to month and year)', 'Birth_Length',\n",
       "       'Birth_Weight', 'Delivery_Mode', 'NICU_Stay', 'Language',\n",
       "       'Threaten_Life', 'Threaten_Baby_Danger', 'Threaten_Baby_Harm'],\n",
       "      dtype='object')"
      ]
     },
     "execution_count": 13,
     "metadata": {},
     "output_type": "execute_result"
    }
   ],
   "source": [
    "# Show the column headers\n",
    "df.columns"
   ]
  },
  {
   "cell_type": "code",
   "execution_count": 14,
   "metadata": {},
   "outputs": [
    {
     "data": {
      "application/vnd.microsoft.datawrangler.viewer.v0+json": {
       "columns": [
        {
         "name": "index",
         "rawType": "int64",
         "type": "integer"
        },
        {
         "name": "OSF_ID",
         "rawType": "int64",
         "type": "integer"
        },
        {
         "name": "Maternal_Age",
         "rawType": "float64",
         "type": "float"
        },
        {
         "name": "Household_Income",
         "rawType": "object",
         "type": "string"
        },
        {
         "name": "Maternal_Education",
         "rawType": "object",
         "type": "string"
        },
        {
         "name": "Edinburgh_Postnatal_Depression_Scale",
         "rawType": "float64",
         "type": "float"
        },
        {
         "name": "PROMIS_Anxiety",
         "rawType": "float64",
         "type": "float"
        },
        {
         "name": "Gestational_Age_At_Birth",
         "rawType": "float64",
         "type": "float"
        },
        {
         "name": "Delivery_Date(converted to month and year)",
         "rawType": "object",
         "type": "unknown"
        },
        {
         "name": "Birth_Length",
         "rawType": "float64",
         "type": "float"
        },
        {
         "name": "Birth_Weight",
         "rawType": "float64",
         "type": "float"
        },
        {
         "name": "Delivery_Mode",
         "rawType": "object",
         "type": "unknown"
        },
        {
         "name": "NICU_Stay",
         "rawType": "object",
         "type": "unknown"
        },
        {
         "name": "Language",
         "rawType": "object",
         "type": "string"
        },
        {
         "name": "Threaten_Life",
         "rawType": "object",
         "type": "string"
        },
        {
         "name": "Threaten_Baby_Danger",
         "rawType": "object",
         "type": "string"
        },
        {
         "name": "Threaten_Baby_Harm",
         "rawType": "object",
         "type": "string"
        }
       ],
       "conversionMethod": "pd.DataFrame",
       "ref": "91c893e9-a058-4e24-8592-c45b42bbdabc",
       "rows": [
        [
         "0",
         "1",
         "38.3",
         "$200,000+",
         "Masters degree",
         "9.0",
         "13.0",
         "39.71",
         "Dec2020",
         "49.2",
         "3431.0",
         "Vaginally",
         "No",
         "English",
         "2",
         "3",
         "27"
        ],
        [
         "1",
         "2",
         "34.6",
         "$200,000+",
         "Undergraduate degree",
         "4.0",
         "17.0",
         null,
         null,
         null,
         null,
         null,
         null,
         "English",
         "2",
         "33",
         "92"
        ],
        [
         "2",
         "3",
         "34.3",
         "$100,000 -$124,999",
         "Undergraduate degree",
         null,
         null,
         null,
         null,
         null,
         null,
         null,
         null,
         "French",
         " ",
         " ",
         " "
        ],
        [
         "3",
         "4",
         "28.8",
         "$100,000 -$124,999",
         "Masters degree",
         "9.0",
         "20.0",
         "38.57",
         "Dec2020",
         "41.0",
         "2534.0",
         "Vaginally",
         "No",
         "French",
         "53",
         "67",
         "54"
        ],
        [
         "4",
         "5",
         "36.5",
         "$40,000-$69,999",
         "Undergraduate degree",
         "14.0",
         "20.0",
         "39.86",
         "Oct2020",
         "53.34",
         "3714.0",
         "Caesarean-section (c-section)",
         "No",
         "English",
         "23",
         "32",
         "71"
        ]
       ],
       "shape": {
        "columns": 16,
        "rows": 5
       }
      },
      "text/html": [
       "<div>\n",
       "<style scoped>\n",
       "    .dataframe tbody tr th:only-of-type {\n",
       "        vertical-align: middle;\n",
       "    }\n",
       "\n",
       "    .dataframe tbody tr th {\n",
       "        vertical-align: top;\n",
       "    }\n",
       "\n",
       "    .dataframe thead th {\n",
       "        text-align: right;\n",
       "    }\n",
       "</style>\n",
       "<table border=\"1\" class=\"dataframe\">\n",
       "  <thead>\n",
       "    <tr style=\"text-align: right;\">\n",
       "      <th></th>\n",
       "      <th>OSF_ID</th>\n",
       "      <th>Maternal_Age</th>\n",
       "      <th>Household_Income</th>\n",
       "      <th>Maternal_Education</th>\n",
       "      <th>Edinburgh_Postnatal_Depression_Scale</th>\n",
       "      <th>PROMIS_Anxiety</th>\n",
       "      <th>Gestational_Age_At_Birth</th>\n",
       "      <th>Delivery_Date(converted to month and year)</th>\n",
       "      <th>Birth_Length</th>\n",
       "      <th>Birth_Weight</th>\n",
       "      <th>Delivery_Mode</th>\n",
       "      <th>NICU_Stay</th>\n",
       "      <th>Language</th>\n",
       "      <th>Threaten_Life</th>\n",
       "      <th>Threaten_Baby_Danger</th>\n",
       "      <th>Threaten_Baby_Harm</th>\n",
       "    </tr>\n",
       "  </thead>\n",
       "  <tbody>\n",
       "    <tr>\n",
       "      <th>0</th>\n",
       "      <td>1</td>\n",
       "      <td>38.3</td>\n",
       "      <td>$200,000+</td>\n",
       "      <td>Masters degree</td>\n",
       "      <td>9.0</td>\n",
       "      <td>13.0</td>\n",
       "      <td>39.71</td>\n",
       "      <td>Dec2020</td>\n",
       "      <td>49.20</td>\n",
       "      <td>3431.0</td>\n",
       "      <td>Vaginally</td>\n",
       "      <td>No</td>\n",
       "      <td>English</td>\n",
       "      <td>2</td>\n",
       "      <td>3</td>\n",
       "      <td>27</td>\n",
       "    </tr>\n",
       "    <tr>\n",
       "      <th>1</th>\n",
       "      <td>2</td>\n",
       "      <td>34.6</td>\n",
       "      <td>$200,000+</td>\n",
       "      <td>Undergraduate degree</td>\n",
       "      <td>4.0</td>\n",
       "      <td>17.0</td>\n",
       "      <td>NaN</td>\n",
       "      <td>NaN</td>\n",
       "      <td>NaN</td>\n",
       "      <td>NaN</td>\n",
       "      <td>NaN</td>\n",
       "      <td>NaN</td>\n",
       "      <td>English</td>\n",
       "      <td>2</td>\n",
       "      <td>33</td>\n",
       "      <td>92</td>\n",
       "    </tr>\n",
       "    <tr>\n",
       "      <th>2</th>\n",
       "      <td>3</td>\n",
       "      <td>34.3</td>\n",
       "      <td>$100,000 -$124,999</td>\n",
       "      <td>Undergraduate degree</td>\n",
       "      <td>NaN</td>\n",
       "      <td>NaN</td>\n",
       "      <td>NaN</td>\n",
       "      <td>NaN</td>\n",
       "      <td>NaN</td>\n",
       "      <td>NaN</td>\n",
       "      <td>NaN</td>\n",
       "      <td>NaN</td>\n",
       "      <td>French</td>\n",
       "      <td></td>\n",
       "      <td></td>\n",
       "      <td></td>\n",
       "    </tr>\n",
       "    <tr>\n",
       "      <th>3</th>\n",
       "      <td>4</td>\n",
       "      <td>28.8</td>\n",
       "      <td>$100,000 -$124,999</td>\n",
       "      <td>Masters degree</td>\n",
       "      <td>9.0</td>\n",
       "      <td>20.0</td>\n",
       "      <td>38.57</td>\n",
       "      <td>Dec2020</td>\n",
       "      <td>41.00</td>\n",
       "      <td>2534.0</td>\n",
       "      <td>Vaginally</td>\n",
       "      <td>No</td>\n",
       "      <td>French</td>\n",
       "      <td>53</td>\n",
       "      <td>67</td>\n",
       "      <td>54</td>\n",
       "    </tr>\n",
       "    <tr>\n",
       "      <th>4</th>\n",
       "      <td>5</td>\n",
       "      <td>36.5</td>\n",
       "      <td>$40,000-$69,999</td>\n",
       "      <td>Undergraduate degree</td>\n",
       "      <td>14.0</td>\n",
       "      <td>20.0</td>\n",
       "      <td>39.86</td>\n",
       "      <td>Oct2020</td>\n",
       "      <td>53.34</td>\n",
       "      <td>3714.0</td>\n",
       "      <td>Caesarean-section (c-section)</td>\n",
       "      <td>No</td>\n",
       "      <td>English</td>\n",
       "      <td>23</td>\n",
       "      <td>32</td>\n",
       "      <td>71</td>\n",
       "    </tr>\n",
       "  </tbody>\n",
       "</table>\n",
       "</div>"
      ],
      "text/plain": [
       "   OSF_ID  Maternal_Age    Household_Income    Maternal_Education  \\\n",
       "0       1          38.3           $200,000+        Masters degree   \n",
       "1       2          34.6           $200,000+  Undergraduate degree   \n",
       "2       3          34.3  $100,000 -$124,999  Undergraduate degree   \n",
       "3       4          28.8  $100,000 -$124,999        Masters degree   \n",
       "4       5          36.5     $40,000-$69,999  Undergraduate degree   \n",
       "\n",
       "   Edinburgh_Postnatal_Depression_Scale  PROMIS_Anxiety  \\\n",
       "0                                   9.0            13.0   \n",
       "1                                   4.0            17.0   \n",
       "2                                   NaN             NaN   \n",
       "3                                   9.0            20.0   \n",
       "4                                  14.0            20.0   \n",
       "\n",
       "   Gestational_Age_At_Birth Delivery_Date(converted to month and year)  \\\n",
       "0                     39.71                                    Dec2020   \n",
       "1                       NaN                                        NaN   \n",
       "2                       NaN                                        NaN   \n",
       "3                     38.57                                    Dec2020   \n",
       "4                     39.86                                    Oct2020   \n",
       "\n",
       "   Birth_Length  Birth_Weight                  Delivery_Mode NICU_Stay  \\\n",
       "0         49.20        3431.0                      Vaginally        No   \n",
       "1           NaN           NaN                            NaN       NaN   \n",
       "2           NaN           NaN                            NaN       NaN   \n",
       "3         41.00        2534.0                      Vaginally        No   \n",
       "4         53.34        3714.0  Caesarean-section (c-section)        No   \n",
       "\n",
       "  Language Threaten_Life Threaten_Baby_Danger Threaten_Baby_Harm  \n",
       "0  English             2                    3                 27  \n",
       "1  English             2                   33                 92  \n",
       "2   French                                                        \n",
       "3   French            53                   67                 54  \n",
       "4  English            23                   32                 71  "
      ]
     },
     "execution_count": 14,
     "metadata": {},
     "output_type": "execute_result"
    }
   ],
   "source": [
    "# Show the first 5 rows of the DataFrame\n",
    "df.head()\n"
   ]
  },
  {
   "cell_type": "code",
   "execution_count": 15,
   "metadata": {},
   "outputs": [
    {
     "name": "stdout",
     "output_type": "stream",
     "text": [
      "<class 'pandas.core.frame.DataFrame'>\n",
      "RangeIndex: 10772 entries, 0 to 10771\n",
      "Data columns (total 16 columns):\n",
      " #   Column                                      Non-Null Count  Dtype  \n",
      "---  ------                                      --------------  -----  \n",
      " 0   OSF_ID                                      10772 non-null  int64  \n",
      " 1   Maternal_Age                                10661 non-null  float64\n",
      " 2   Household_Income                            10521 non-null  object \n",
      " 3   Maternal_Education                          10595 non-null  object \n",
      " 4   Edinburgh_Postnatal_Depression_Scale        9598 non-null   float64\n",
      " 5   PROMIS_Anxiety                              9566 non-null   float64\n",
      " 6   Gestational_Age_At_Birth                    6734 non-null   float64\n",
      " 7   Delivery_Date(converted to month and year)  6733 non-null   object \n",
      " 8   Birth_Length                                5480 non-null   float64\n",
      " 9   Birth_Weight                                6078 non-null   float64\n",
      " 10  Delivery_Mode                               5537 non-null   object \n",
      " 11  NICU_Stay                                   5534 non-null   object \n",
      " 12  Language                                    10772 non-null  object \n",
      " 13  Threaten_Life                               10772 non-null  object \n",
      " 14  Threaten_Baby_Danger                        10772 non-null  object \n",
      " 15  Threaten_Baby_Harm                          10772 non-null  object \n",
      "dtypes: float64(6), int64(1), object(9)\n",
      "memory usage: 1.3+ MB\n"
     ]
    }
   ],
   "source": [
    "# Show info about 'df'\n",
    "df.info()"
   ]
  },
  {
   "cell_type": "markdown",
   "metadata": {},
   "source": [
    "#### <span style=\"color: MediumPurple;\">Categorical Data </span>"
   ]
  },
  {
   "cell_type": "markdown",
   "metadata": {},
   "source": [
    "#### <span style=\"color: LightBlue;\">Below are ways to play with categorical variables such as Maternal Education </span>"
   ]
  },
  {
   "cell_type": "code",
   "execution_count": 20,
   "metadata": {},
   "outputs": [
    {
     "data": {
      "text/plain": [
       "0          Masters degree\n",
       "1    Undergraduate degree\n",
       "2    Undergraduate degree\n",
       "3          Masters degree\n",
       "4    Undergraduate degree\n",
       "5    Undergraduate degree\n",
       "6     High school diploma\n",
       "7                     NaN\n",
       "8    College/trade school\n",
       "9    College/trade school\n",
       "Name: Maternal_Education, dtype: object"
      ]
     },
     "execution_count": 20,
     "metadata": {},
     "output_type": "execute_result"
    }
   ],
   "source": [
    "# Show the first 10 rows of the \"Maternal_Education\" column\n",
    "df['Maternal_Education'].head(10)\n"
   ]
  },
  {
   "cell_type": "code",
   "execution_count": 21,
   "metadata": {},
   "outputs": [
    {
     "data": {
      "text/plain": [
       "array(['Masters degree', 'Undergraduate degree', 'High school diploma',\n",
       "       nan, 'College/trade school', 'Less than high school diploma',\n",
       "       'Doctoral Degree'], dtype=object)"
      ]
     },
     "execution_count": 21,
     "metadata": {},
     "output_type": "execute_result"
    }
   ],
   "source": [
    "# Show the unique values of the Maternal education column\n",
    "df['Maternal_Education'].unique()"
   ]
  },
  {
   "cell_type": "code",
   "execution_count": 22,
   "metadata": {},
   "outputs": [
    {
     "data": {
      "text/plain": [
       "Maternal_Education\n",
       "Undergraduate degree             4117\n",
       "College/trade school             2760\n",
       "Masters degree                   1889\n",
       "High school diploma               901\n",
       "Doctoral Degree                   786\n",
       "Less than high school diploma     142\n",
       "Name: count, dtype: int64"
      ]
     },
     "execution_count": 22,
     "metadata": {},
     "output_type": "execute_result"
    }
   ],
   "source": [
    "# Calculate the frequency of each category in the Maternal education column\n",
    "df['Maternal_Education'].value_counts()\n"
   ]
  },
  {
   "cell_type": "code",
   "execution_count": 23,
   "metadata": {},
   "outputs": [
    {
     "data": {
      "text/plain": [
       "Maternal_Education\n",
       "Undergraduate degree             0.388580\n",
       "College/trade school             0.260500\n",
       "Masters degree                   0.178292\n",
       "High school diploma              0.085040\n",
       "Doctoral Degree                  0.074186\n",
       "Less than high school diploma    0.013403\n",
       "Name: proportion, dtype: float64"
      ]
     },
     "execution_count": 23,
     "metadata": {},
     "output_type": "execute_result"
    }
   ],
   "source": [
    "# Calculate the proportion of each category in the Maternal education column\n",
    "df['Maternal_Education'].value_counts(normalize=True)"
   ]
  },
  {
   "cell_type": "code",
   "execution_count": 24,
   "metadata": {},
   "outputs": [
    {
     "data": {
      "text/plain": [
       "Maternal_Education\n",
       "Undergraduate degree             38.857952\n",
       "College/trade school             26.050024\n",
       "Masters degree                   17.829165\n",
       "High school diploma               8.504011\n",
       "Doctoral Degree                   7.418594\n",
       "Less than high school diploma     1.340255\n",
       "Name: proportion, dtype: float64"
      ]
     },
     "execution_count": 24,
     "metadata": {},
     "output_type": "execute_result"
    }
   ],
   "source": [
    "#Calculate the percetage of each category in the percentage in the Maternal education column\n",
    "df['Maternal_Education'].value_counts(normalize=True) * 100\n"
   ]
  },
  {
   "cell_type": "code",
   "execution_count": 25,
   "metadata": {},
   "outputs": [
    {
     "data": {
      "text/plain": [
       "array(['English', 'French'], dtype=object)"
      ]
     },
     "execution_count": 25,
     "metadata": {},
     "output_type": "execute_result"
    }
   ],
   "source": [
    "# Show the unique values for the \"language\" column\n",
    "df['Language'].unique()"
   ]
  },
  {
   "cell_type": "code",
   "execution_count": 26,
   "metadata": {},
   "outputs": [
    {
     "data": {
      "text/plain": [
       "Language\n",
       "English    8155\n",
       "French     2617\n",
       "Name: count, dtype: int64"
      ]
     },
     "execution_count": 26,
     "metadata": {},
     "output_type": "execute_result"
    }
   ],
   "source": [
    "# Calculate the frequency of each category in the \"language\" column\n",
    "df['Language'].value_counts()\n"
   ]
  },
  {
   "cell_type": "code",
   "execution_count": 27,
   "metadata": {},
   "outputs": [
    {
     "data": {
      "application/vnd.microsoft.datawrangler.viewer.v0+json": {
       "columns": [
        {
         "name": "Language",
         "rawType": "object",
         "type": "string"
        },
        {
         "name": "College/trade school",
         "rawType": "int64",
         "type": "integer"
        },
        {
         "name": "Doctoral Degree",
         "rawType": "int64",
         "type": "integer"
        },
        {
         "name": "High school diploma",
         "rawType": "int64",
         "type": "integer"
        },
        {
         "name": "Less than high school diploma",
         "rawType": "int64",
         "type": "integer"
        },
        {
         "name": "Masters degree",
         "rawType": "int64",
         "type": "integer"
        },
        {
         "name": "Undergraduate degree",
         "rawType": "int64",
         "type": "integer"
        }
       ],
       "conversionMethod": "pd.DataFrame",
       "ref": "9e8c9806-d149-4c8c-a6bb-c671efe9efea",
       "rows": [
        [
         "English",
         "1869",
         "636",
         "680",
         "66",
         "1464",
         "3290"
        ],
        [
         "French",
         "891",
         "150",
         "221",
         "76",
         "425",
         "827"
        ]
       ],
       "shape": {
        "columns": 6,
        "rows": 2
       }
      },
      "text/html": [
       "<div>\n",
       "<style scoped>\n",
       "    .dataframe tbody tr th:only-of-type {\n",
       "        vertical-align: middle;\n",
       "    }\n",
       "\n",
       "    .dataframe tbody tr th {\n",
       "        vertical-align: top;\n",
       "    }\n",
       "\n",
       "    .dataframe thead th {\n",
       "        text-align: right;\n",
       "    }\n",
       "</style>\n",
       "<table border=\"1\" class=\"dataframe\">\n",
       "  <thead>\n",
       "    <tr style=\"text-align: right;\">\n",
       "      <th>Maternal_Education</th>\n",
       "      <th>College/trade school</th>\n",
       "      <th>Doctoral Degree</th>\n",
       "      <th>High school diploma</th>\n",
       "      <th>Less than high school diploma</th>\n",
       "      <th>Masters degree</th>\n",
       "      <th>Undergraduate degree</th>\n",
       "    </tr>\n",
       "    <tr>\n",
       "      <th>Language</th>\n",
       "      <th></th>\n",
       "      <th></th>\n",
       "      <th></th>\n",
       "      <th></th>\n",
       "      <th></th>\n",
       "      <th></th>\n",
       "    </tr>\n",
       "  </thead>\n",
       "  <tbody>\n",
       "    <tr>\n",
       "      <th>English</th>\n",
       "      <td>1869</td>\n",
       "      <td>636</td>\n",
       "      <td>680</td>\n",
       "      <td>66</td>\n",
       "      <td>1464</td>\n",
       "      <td>3290</td>\n",
       "    </tr>\n",
       "    <tr>\n",
       "      <th>French</th>\n",
       "      <td>891</td>\n",
       "      <td>150</td>\n",
       "      <td>221</td>\n",
       "      <td>76</td>\n",
       "      <td>425</td>\n",
       "      <td>827</td>\n",
       "    </tr>\n",
       "  </tbody>\n",
       "</table>\n",
       "</div>"
      ],
      "text/plain": [
       "Maternal_Education  College/trade school  Doctoral Degree  \\\n",
       "Language                                                    \n",
       "English                             1869              636   \n",
       "French                               891              150   \n",
       "\n",
       "Maternal_Education  High school diploma  Less than high school diploma  \\\n",
       "Language                                                                 \n",
       "English                             680                             66   \n",
       "French                              221                             76   \n",
       "\n",
       "Maternal_Education  Masters degree  Undergraduate degree  \n",
       "Language                                                  \n",
       "English                       1464                  3290  \n",
       "French                         425                   827  "
      ]
     },
     "execution_count": 27,
     "metadata": {},
     "output_type": "execute_result"
    }
   ],
   "source": [
    "# Create me a table that can show me the association between the language and the maternal education\n",
    "pd.crosstab(df['Language'], df['Maternal_Education'])"
   ]
  },
  {
   "cell_type": "markdown",
   "metadata": {},
   "source": [
    "#### <span style=\"color: MediumPurple;\">Comparative Numerical Analysis </span>"
   ]
  },
  {
   "cell_type": "markdown",
   "metadata": {},
   "source": [
    "#### <span style=\"color: LightBlue;\">Below are ways to play with numerical variables such as Maternal age. It inlcudes me comparing numerical to catgeorical. Age versus Education. </span>"
   ]
  },
  {
   "cell_type": "code",
   "execution_count": 28,
   "metadata": {},
   "outputs": [
    {
     "data": {
      "text/plain": [
       "Maternal_Education\n",
       "College/trade school             30.984065\n",
       "Doctoral Degree                  34.202545\n",
       "High school diploma              29.086459\n",
       "Less than high school diploma    27.012676\n",
       "Masters degree                   33.246186\n",
       "Undergraduate degree             32.081657\n",
       "Name: Maternal_Age, dtype: float64"
      ]
     },
     "execution_count": 28,
     "metadata": {},
     "output_type": "execute_result"
    }
   ],
   "source": [
    "# Calculate the mean of the \"Maternal_age\" Column for each of the \"Maternal_Education\" categories (Categorical and then Numerical )\n",
    "df.groupby('Maternal_Education')['Maternal_Age'].mean()"
   ]
  },
  {
   "cell_type": "markdown",
   "metadata": {},
   "source": [
    "#### <span style=\"color: MediumPurple;\">Numerical Data Analysis</span>\n",
    "#### <span style=\"color: LightBlue;\">Below are ways to play with numerical variable such as maternal age </span>"
   ]
  },
  {
   "cell_type": "code",
   "execution_count": 29,
   "metadata": {},
   "outputs": [
    {
     "data": {
      "text/plain": [
       "np.float64(31.844601819716722)"
      ]
     },
     "execution_count": 29,
     "metadata": {},
     "output_type": "execute_result"
    }
   ],
   "source": [
    "# Calculate the mean of the \"age\" column \n",
    "df['Maternal_Age'].mean()\n"
   ]
  },
  {
   "cell_type": "code",
   "execution_count": 30,
   "metadata": {},
   "outputs": [
    {
     "data": {
      "text/plain": [
       "np.float64(4.422367904548697)"
      ]
     },
     "execution_count": 30,
     "metadata": {},
     "output_type": "execute_result"
    }
   ],
   "source": [
    "# Calculate the sample standard deviation of the \"Age\" colum (you want to make sure it defaults to sample (n-1 denominator and not n)!)\n",
    "df['Maternal_Age'].std()"
   ]
  },
  {
   "cell_type": "code",
   "execution_count": 31,
   "metadata": {},
   "outputs": [
    {
     "data": {
      "text/plain": [
       "np.float64(4.422367904548697)"
      ]
     },
     "execution_count": 31,
     "metadata": {},
     "output_type": "execute_result"
    }
   ],
   "source": [
    "df.Maternal_Age.std(ddof=1)"
   ]
  },
  {
   "cell_type": "code",
   "execution_count": 32,
   "metadata": {},
   "outputs": [
    {
     "data": {
      "text/plain": [
       "count    10661.000000\n",
       "mean        31.844602\n",
       "std          4.422368\n",
       "min         17.000000\n",
       "25%         28.900000\n",
       "50%         31.800000\n",
       "75%         34.800000\n",
       "max         49.700000\n",
       "Name: Maternal_Age, dtype: float64"
      ]
     },
     "execution_count": 32,
     "metadata": {},
     "output_type": "execute_result"
    }
   ],
   "source": [
    "# Describe the summary statistics of the \"Maternal age Column\"\n",
    "df['Maternal_Age'].describe()\n"
   ]
  },
  {
   "cell_type": "code",
   "execution_count": 33,
   "metadata": {},
   "outputs": [
    {
     "data": {
      "application/vnd.microsoft.datawrangler.viewer.v0+json": {
       "columns": [
        {
         "name": "Maternal_Education",
         "rawType": "object",
         "type": "string"
        },
        {
         "name": "count",
         "rawType": "float64",
         "type": "float"
        },
        {
         "name": "mean",
         "rawType": "float64",
         "type": "float"
        },
        {
         "name": "std",
         "rawType": "float64",
         "type": "float"
        },
        {
         "name": "min",
         "rawType": "float64",
         "type": "float"
        },
        {
         "name": "25%",
         "rawType": "float64",
         "type": "float"
        },
        {
         "name": "50%",
         "rawType": "float64",
         "type": "float"
        },
        {
         "name": "75%",
         "rawType": "float64",
         "type": "float"
        },
        {
         "name": "max",
         "rawType": "float64",
         "type": "float"
        }
       ],
       "conversionMethod": "pd.DataFrame",
       "ref": "19358237-7a09-4842-a383-73e4c3a2d0ff",
       "rows": [
        [
         "College/trade school",
         "2755.0",
         "30.98406533575318",
         "4.602244032394502",
         "19.4",
         "27.7",
         "30.8",
         "34.1",
         "45.8"
        ],
        [
         "Doctoral Degree",
         "786.0",
         "34.202544529262084",
         "3.5707614686740814",
         "24.8",
         "31.8",
         "34.1",
         "36.5",
         "49.0"
        ],
        [
         "High school diploma",
         "901.0",
         "29.086459489456157",
         "5.29650354330009",
         "17.5",
         "25.1",
         "28.8",
         "32.8",
         "47.2"
        ],
        [
         "Less than high school diploma",
         "142.0",
         "27.01267605633803",
         "6.027747414019939",
         "17.0",
         "22.0",
         "26.8",
         "31.55",
         "41.3"
        ],
        [
         "Masters degree",
         "1888.0",
         "33.24618644067797",
         "3.597121894793915",
         "23.8",
         "30.7",
         "33.0",
         "35.425",
         "47.1"
        ],
        [
         "Undergraduate degree",
         "4116.0",
         "32.08165694849369",
         "3.9281377424731874",
         "20.9",
         "29.3",
         "31.8",
         "34.7",
         "49.7"
        ]
       ],
       "shape": {
        "columns": 8,
        "rows": 6
       }
      },
      "text/html": [
       "<div>\n",
       "<style scoped>\n",
       "    .dataframe tbody tr th:only-of-type {\n",
       "        vertical-align: middle;\n",
       "    }\n",
       "\n",
       "    .dataframe tbody tr th {\n",
       "        vertical-align: top;\n",
       "    }\n",
       "\n",
       "    .dataframe thead th {\n",
       "        text-align: right;\n",
       "    }\n",
       "</style>\n",
       "<table border=\"1\" class=\"dataframe\">\n",
       "  <thead>\n",
       "    <tr style=\"text-align: right;\">\n",
       "      <th></th>\n",
       "      <th>count</th>\n",
       "      <th>mean</th>\n",
       "      <th>std</th>\n",
       "      <th>min</th>\n",
       "      <th>25%</th>\n",
       "      <th>50%</th>\n",
       "      <th>75%</th>\n",
       "      <th>max</th>\n",
       "    </tr>\n",
       "    <tr>\n",
       "      <th>Maternal_Education</th>\n",
       "      <th></th>\n",
       "      <th></th>\n",
       "      <th></th>\n",
       "      <th></th>\n",
       "      <th></th>\n",
       "      <th></th>\n",
       "      <th></th>\n",
       "      <th></th>\n",
       "    </tr>\n",
       "  </thead>\n",
       "  <tbody>\n",
       "    <tr>\n",
       "      <th>College/trade school</th>\n",
       "      <td>2755.0</td>\n",
       "      <td>30.984065</td>\n",
       "      <td>4.602244</td>\n",
       "      <td>19.4</td>\n",
       "      <td>27.7</td>\n",
       "      <td>30.8</td>\n",
       "      <td>34.100</td>\n",
       "      <td>45.8</td>\n",
       "    </tr>\n",
       "    <tr>\n",
       "      <th>Doctoral Degree</th>\n",
       "      <td>786.0</td>\n",
       "      <td>34.202545</td>\n",
       "      <td>3.570761</td>\n",
       "      <td>24.8</td>\n",
       "      <td>31.8</td>\n",
       "      <td>34.1</td>\n",
       "      <td>36.500</td>\n",
       "      <td>49.0</td>\n",
       "    </tr>\n",
       "    <tr>\n",
       "      <th>High school diploma</th>\n",
       "      <td>901.0</td>\n",
       "      <td>29.086459</td>\n",
       "      <td>5.296504</td>\n",
       "      <td>17.5</td>\n",
       "      <td>25.1</td>\n",
       "      <td>28.8</td>\n",
       "      <td>32.800</td>\n",
       "      <td>47.2</td>\n",
       "    </tr>\n",
       "    <tr>\n",
       "      <th>Less than high school diploma</th>\n",
       "      <td>142.0</td>\n",
       "      <td>27.012676</td>\n",
       "      <td>6.027747</td>\n",
       "      <td>17.0</td>\n",
       "      <td>22.0</td>\n",
       "      <td>26.8</td>\n",
       "      <td>31.550</td>\n",
       "      <td>41.3</td>\n",
       "    </tr>\n",
       "    <tr>\n",
       "      <th>Masters degree</th>\n",
       "      <td>1888.0</td>\n",
       "      <td>33.246186</td>\n",
       "      <td>3.597122</td>\n",
       "      <td>23.8</td>\n",
       "      <td>30.7</td>\n",
       "      <td>33.0</td>\n",
       "      <td>35.425</td>\n",
       "      <td>47.1</td>\n",
       "    </tr>\n",
       "    <tr>\n",
       "      <th>Undergraduate degree</th>\n",
       "      <td>4116.0</td>\n",
       "      <td>32.081657</td>\n",
       "      <td>3.928138</td>\n",
       "      <td>20.9</td>\n",
       "      <td>29.3</td>\n",
       "      <td>31.8</td>\n",
       "      <td>34.700</td>\n",
       "      <td>49.7</td>\n",
       "    </tr>\n",
       "  </tbody>\n",
       "</table>\n",
       "</div>"
      ],
      "text/plain": [
       "                                count       mean       std   min   25%   50%  \\\n",
       "Maternal_Education                                                             \n",
       "College/trade school           2755.0  30.984065  4.602244  19.4  27.7  30.8   \n",
       "Doctoral Degree                 786.0  34.202545  3.570761  24.8  31.8  34.1   \n",
       "High school diploma             901.0  29.086459  5.296504  17.5  25.1  28.8   \n",
       "Less than high school diploma   142.0  27.012676  6.027747  17.0  22.0  26.8   \n",
       "Masters degree                 1888.0  33.246186  3.597122  23.8  30.7  33.0   \n",
       "Undergraduate degree           4116.0  32.081657  3.928138  20.9  29.3  31.8   \n",
       "\n",
       "                                  75%   max  \n",
       "Maternal_Education                           \n",
       "College/trade school           34.100  45.8  \n",
       "Doctoral Degree                36.500  49.0  \n",
       "High school diploma            32.800  47.2  \n",
       "Less than high school diploma  31.550  41.3  \n",
       "Masters degree                 35.425  47.1  \n",
       "Undergraduate degree           34.700  49.7  "
      ]
     },
     "execution_count": 33,
     "metadata": {},
     "output_type": "execute_result"
    }
   ],
   "source": [
    "# Describe the summary stats for the age column for each category in the Maternal Education column \n",
    "df.groupby('Maternal_Education')['Maternal_Age'].describe()"
   ]
  },
  {
   "cell_type": "markdown",
   "metadata": {},
   "source": [
    "#### <span style=\"color: LightBlue;\">Below is a numerical variable verusus numerical variable</span>"
   ]
  },
  {
   "cell_type": "code",
   "execution_count": 34,
   "metadata": {},
   "outputs": [
    {
     "data": {
      "text/plain": [
       "np.float64(-0.09331094682635495)"
      ]
     },
     "execution_count": 34,
     "metadata": {},
     "output_type": "execute_result"
    }
   ],
   "source": [
    "# Now do this for a numerical X numerical relationship. Calculate the correlation between \"Age\" and \"Edinburgh_Postnatal_Depression_Scale\" columns\n",
    "df.Maternal_Age.corr(df.Edinburgh_Postnatal_Depression_Scale)"
   ]
  }
 ],
 "metadata": {
  "kernelspec": {
   "display_name": ".venv",
   "language": "python",
   "name": "python3"
  },
  "language_info": {
   "codemirror_mode": {
    "name": "ipython",
    "version": 3
   },
   "file_extension": ".py",
   "mimetype": "text/x-python",
   "name": "python",
   "nbconvert_exporter": "python",
   "pygments_lexer": "ipython3",
   "version": "3.9.6"
  }
 },
 "nbformat": 4,
 "nbformat_minor": 2
}
