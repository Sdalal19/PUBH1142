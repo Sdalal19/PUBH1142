{
 "cells": [
  {
   "cell_type": "markdown",
   "metadata": {},
   "source": [
    "# <span style=\"color: mediumvioletred;\"><u>**Lecture 6 Questions on Introduction to Python Lecture:**</u></span>\n",
    "#### <span style=\"color: MediumPurple;\">Sophia Dalal </span>\n",
    "#### <span style=\"color: MediumPurple;\">February 20 2025  </span>"
   ]
  },
  {
   "cell_type": "markdown",
   "metadata": {},
   "source": [
    "![image.png](https://www.mooc.org/hubfs/python-programming-image-jpg.jpeg)"
   ]
  },
  {
   "cell_type": "markdown",
   "metadata": {},
   "source": [
    "<span style=\"color: violet;\">**1. Use Python to calculate solutions to the following expressions?**</span>\n",
    "\n",
    "$\\frac{(33+7)}{5}$ and $3 \\times 8$"
   ]
  },
  {
   "cell_type": "code",
   "execution_count": 1,
   "metadata": {},
   "outputs": [
    {
     "data": {
      "text/plain": [
       "7.4"
      ]
     },
     "execution_count": 1,
     "metadata": {},
     "output_type": "execute_result"
    }
   ],
   "source": [
    "(33+4)/5"
   ]
  },
  {
   "cell_type": "code",
   "execution_count": 2,
   "metadata": {},
   "outputs": [
    {
     "data": {
      "text/plain": [
       "24"
      ]
     },
     "execution_count": 2,
     "metadata": {},
     "output_type": "execute_result"
    }
   ],
   "source": [
    "3*8"
   ]
  },
  {
   "cell_type": "markdown",
   "metadata": {},
   "source": [
    "The value of the first expression is 7.4. The value of the second experession is 24. "
   ]
  },
  {
   "cell_type": "markdown",
   "metadata": {},
   "source": [
    "<span style=\"color: violet;\"> **2. Determine the data type of the output of the code 1+2. and 1+2. Explain why the data types are different.** </span>"
   ]
  },
  {
   "cell_type": "code",
   "execution_count": 5,
   "metadata": {},
   "outputs": [
    {
     "data": {
      "text/plain": [
       "float"
      ]
     },
     "execution_count": 5,
     "metadata": {},
     "output_type": "execute_result"
    }
   ],
   "source": [
    "(type(1 + 2.))"
   ]
  },
  {
   "cell_type": "code",
   "execution_count": 6,
   "metadata": {},
   "outputs": [
    {
     "data": {
      "text/plain": [
       "int"
      ]
     },
     "execution_count": 6,
     "metadata": {},
     "output_type": "execute_result"
    }
   ],
   "source": [
    "(type(1 + 2))"
   ]
  },
  {
   "cell_type": "markdown",
   "metadata": {},
   "source": [
    "The data type of the first expression is float. The data type of the second expression is integer. They are different because an integer added to a float creates a float and a integer added to an integer creates a integer. "
   ]
  },
  {
   "cell_type": "markdown",
   "metadata": {},
   "source": [
    "<span style=\"color: violet;\"> **3. Generate a loop that prints n^2 for each of the numbers n={1,2,3,4,5}** </span>"
   ]
  },
  {
   "cell_type": "code",
   "execution_count": 7,
   "metadata": {},
   "outputs": [
    {
     "name": "stdout",
     "output_type": "stream",
     "text": [
      "1\n",
      "4\n",
      "9\n",
      "16\n",
      "25\n"
     ]
    }
   ],
   "source": [
    "for i in {1, 2, 3, 4, 5}:\n",
    "    print(i**2)"
   ]
  },
  {
   "cell_type": "markdown",
   "metadata": {},
   "source": [
    "<span style=\"color: violet;\"> **4. Create the variable i by assigning the value 1 to it. Create a loop that prints the value of i2 to the screen. Increment the value of i by 1 until the value of i2 exceeds 1000. Print the value assigned to i after the loop has completed. Explain why the solution is i=32, where 322 is larger than 1000** </span>"
   ]
  },
  {
   "cell_type": "code",
   "execution_count": 9,
   "metadata": {},
   "outputs": [
    {
     "name": "stdout",
     "output_type": "stream",
     "text": [
      "1\n",
      "4\n",
      "9\n",
      "16\n",
      "25\n",
      "36\n",
      "49\n",
      "64\n",
      "81\n",
      "100\n",
      "121\n",
      "144\n",
      "169\n",
      "196\n",
      "225\n",
      "256\n",
      "289\n",
      "324\n",
      "361\n",
      "400\n",
      "441\n",
      "484\n",
      "529\n",
      "576\n",
      "625\n",
      "676\n",
      "729\n",
      "784\n",
      "841\n",
      "900\n",
      "961\n",
      "Final value of i: 32\n"
     ]
    }
   ],
   "source": [
    "# Create variable i and set it to 1\n",
    "i = 1\n",
    "\n",
    "# Loop until i^2 exceeds 1000\n",
    "while i**2 <= 1000:\n",
    "    print(i**2)  # Print i squared\n",
    "    i += 1  # Increment i by 1\n",
    "\n",
    "# Print the final value of i after the loop terminates\n",
    "print(\"Final value of i:\", i)"
   ]
  },
  {
   "cell_type": "markdown",
   "metadata": {},
   "source": [
    "The loop stops once i^2 > 1000, meaning the last value assigned to i after the loop is 32.\n",
    "The loop does not print 1024 because it checks the condition before printing.\n",
    "The last valid i^2 printed was 31^2 = 961, but when i = 32, the loop stops before printing 32^2 = 1024.\n",
    "This is why the final assigned value of i is 32, even though 32^2 is greater than 1000."
   ]
  }
 ],
 "metadata": {
  "kernelspec": {
   "display_name": ".venv",
   "language": "python",
   "name": "python3"
  },
  "language_info": {
   "codemirror_mode": {
    "name": "ipython",
    "version": 3
   },
   "file_extension": ".py",
   "mimetype": "text/x-python",
   "name": "python",
   "nbconvert_exporter": "python",
   "pygments_lexer": "ipython3",
   "version": "3.9.6"
  }
 },
 "nbformat": 4,
 "nbformat_minor": 2
}
