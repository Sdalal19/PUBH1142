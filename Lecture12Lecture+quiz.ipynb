{
 "cells": [
  {
   "cell_type": "markdown",
   "metadata": {},
   "source": [
    "# <span style=\"color: MediumPurple;\"> Lecture 12   </span>\n",
    "\n",
    "## <span style=\"color: MediumPurple;\"> Sophia Dalal, April 22 2025 <span>"
   ]
  },
  {
   "cell_type": "markdown",
   "metadata": {},
   "source": [
    "### <span style=\"color: Purple;\"> Import and add everything you need for today (no need todo extra stuff)! <span>"
   ]
  },
  {
   "cell_type": "code",
   "execution_count": 3,
   "metadata": {},
   "outputs": [
    {
     "name": "stdout",
     "output_type": "stream",
     "text": [
      "Requirement already satisfied: plotly in ./.venv/lib/python3.9/site-packages (6.0.1)\n",
      "Requirement already satisfied: narwhals>=1.15.1 in ./.venv/lib/python3.9/site-packages (from plotly) (1.33.0)\n",
      "Requirement already satisfied: packaging in ./.venv/lib/python3.9/site-packages (from plotly) (24.2)\n",
      "Note: you may need to restart the kernel to use updated packages.\n"
     ]
    }
   ],
   "source": [
    "pip install plotly\n"
   ]
  },
  {
   "cell_type": "code",
   "execution_count": 4,
   "metadata": {},
   "outputs": [
    {
     "name": "stdout",
     "output_type": "stream",
     "text": [
      "Requirement already satisfied: statsmodels in ./.venv/lib/python3.9/site-packages (0.14.4)\n",
      "Requirement already satisfied: numpy<3,>=1.22.3 in ./.venv/lib/python3.9/site-packages (from statsmodels) (2.0.2)\n",
      "Requirement already satisfied: scipy!=1.9.2,>=1.8 in ./.venv/lib/python3.9/site-packages (from statsmodels) (1.13.1)\n",
      "Requirement already satisfied: pandas!=2.1.0,>=1.4 in ./.venv/lib/python3.9/site-packages (from statsmodels) (2.2.3)\n",
      "Requirement already satisfied: patsy>=0.5.6 in ./.venv/lib/python3.9/site-packages (from statsmodels) (1.0.1)\n",
      "Requirement already satisfied: packaging>=21.3 in ./.venv/lib/python3.9/site-packages (from statsmodels) (24.2)\n",
      "Requirement already satisfied: python-dateutil>=2.8.2 in ./.venv/lib/python3.9/site-packages (from pandas!=2.1.0,>=1.4->statsmodels) (2.9.0.post0)\n",
      "Requirement already satisfied: pytz>=2020.1 in ./.venv/lib/python3.9/site-packages (from pandas!=2.1.0,>=1.4->statsmodels) (2024.2)\n",
      "Requirement already satisfied: tzdata>=2022.7 in ./.venv/lib/python3.9/site-packages (from pandas!=2.1.0,>=1.4->statsmodels) (2025.1)\n",
      "Requirement already satisfied: six>=1.5 in ./.venv/lib/python3.9/site-packages (from python-dateutil>=2.8.2->pandas!=2.1.0,>=1.4->statsmodels) (1.17.0)\n",
      "Note: you may need to restart the kernel to use updated packages.\n"
     ]
    }
   ],
   "source": [
    "pip install statsmodels"
   ]
  },
  {
   "cell_type": "code",
   "execution_count": 5,
   "metadata": {},
   "outputs": [],
   "source": [
    "import pandas \n",
    "import numpy \n",
    "import statsmodels.api"
   ]
  },
  {
   "cell_type": "code",
   "execution_count": 6,
   "metadata": {},
   "outputs": [
    {
     "name": "stdout",
     "output_type": "stream",
     "text": [
      "Requirement already satisfied: patsy in ./.venv/lib/python3.9/site-packages (1.0.1)\n",
      "Requirement already satisfied: numpy>=1.4 in ./.venv/lib/python3.9/site-packages (from patsy) (2.0.2)\n",
      "Note: you may need to restart the kernel to use updated packages.\n"
     ]
    }
   ],
   "source": [
    "pip install patsy"
   ]
  },
  {
   "cell_type": "code",
   "execution_count": 5,
   "metadata": {},
   "outputs": [],
   "source": [
    "import numpy as np \n",
    "import pandas as pd \n",
    "from scipy import stats \n",
    "from pandas import DataFrame\n"
   ]
  },
  {
   "cell_type": "code",
   "execution_count": 6,
   "metadata": {},
   "outputs": [],
   "source": [
    "import plotly.graph_objects as go\n",
    "import plotly.express as px \n",
    "import plotly.figure_factory as ff\n",
    "import plotly.io as pio\n",
    "pio.templates.default = \"plotly_white\""
   ]
  },
  {
   "cell_type": "code",
   "execution_count": 7,
   "metadata": {},
   "outputs": [],
   "source": [
    "import statsmodels.api as sm \n",
    "from patsy import dmatrices"
   ]
  },
  {
   "cell_type": "markdown",
   "metadata": {},
   "source": [
    "### <span style=\"color: MediumPurple;\"> Correlation - Numerical <span>\n",
    "\n",
    "### <span style=\"color: MediumPurple;\"> Associated - Categorical <span>"
   ]
  },
  {
   "cell_type": "code",
   "execution_count": 12,
   "metadata": {},
   "outputs": [],
   "source": [
    "# Seed the numpy pseudo-random number generator with the integer 7\n",
    "np.random.seed(7) # For reproducible results\n",
    "\n",
    "# Generate two numpy arrays\n",
    "independent = np.round(np.random.uniform(low=80, high=100, size=50), 1)\n",
    "dependent = np.round(independent + np.random.normal(0, 5, 50), 1)"
   ]
  },
  {
   "cell_type": "code",
   "execution_count": 15,
   "metadata": {},
   "outputs": [
    {
     "data": {
      "application/vnd.plotly.v1+json": {
       "config": {
        "plotlyServerURL": "https://plot.ly"
       },
       "data": [
        {
         "marker": {
          "size": 12
         },
         "mode": "markers",
         "type": "scatter",
         "x": {
          "bdata": "AAAAAABgVEBmZmZmZuZXQDMzMzMzM1ZAAAAAAACgV0BmZmZmZuZYQDMzMzMzs1ZAAAAAAACAVkCamZmZmVlUQJqZmZmZWVVAAAAAAACAVkBmZmZmZmZXQGZmZmZmBlhAZmZmZmbmVUAzMzMzM1NUQDMzMzMzc1VAzczMzMyMWEAzMzMzMxNVQAAAAAAAQFZAZmZmZmamWEAAAAAAACBUQAAAAAAAAFdAAAAAAADAWEBmZmZmZiZVQAAAAAAAwFZAzczMzMyMWEDNzMzMzKxUQAAAAAAAoFZAAAAAAADAV0CamZmZmVlXQJqZmZmZWVZAZmZmZmYGVUAzMzMzM3NWQJqZmZmZ2VVAAAAAAABgVkAzMzMzM9NVQDMzMzMzM1hAmpmZmZnZV0AzMzMzM5NVQAAAAAAA4FZAAAAAAABgVUBmZmZmZkZWQGZmZmZmxlVAZmZmZmZGV0CamZmZmdlVQM3MzMzMTFZAmpmZmZmZV0AzMzMzMxNWQGZmZmZmhlhAZmZmZmbmVEAzMzMzM7NXQA==",
          "dtype": "f8"
         },
         "y": {
          "bdata": "AAAAAABAUkBmZmZmZqZVQM3MzMzMrFZAzczMzMxsWkCamZmZmTlZQM3MzMzMDFZAZmZmZmbmWEBmZmZmZqZUQJqZmZmZeVVAMzMzMzPTVkCamZmZmTlXQGZmZmZmpldAmpmZmZkZVEAzMzMzM/NUQDMzMzMzU1VAzczMzMwMWkAAAAAAAKBUQAAAAAAA4FNAZmZmZmaGWEAAAAAAAEBWQGZmZmZmhlZAZmZmZmamV0BmZmZmZqZTQM3MzMzMbFVAzczMzMwsWEAzMzMzMzNTQAAAAAAAgFhAZmZmZmZmV0CamZmZmXlXQGZmZmZmJlhAZmZmZmbmVkDNzMzMzCxWQGZmZmZmRlZAzczMzMxMV0AzMzMzM5NVQJqZmZmZ+VVAzczMzMysWEAzMzMzM7NWQGZmZmZmZldAmpmZmZk5VEBmZmZmZgZWQGZmZmZmBlVAZmZmZmbmVkCamZmZmXlXQDMzMzMzM1hAzczMzMxsWEAAAAAAAMBWQAAAAAAAYFlAAAAAAADgVECamZmZmZlXQA==",
          "dtype": "f8"
         }
        }
       ],
       "layout": {
        "template": {
         "data": {
          "bar": [
           {
            "error_x": {
             "color": "#2a3f5f"
            },
            "error_y": {
             "color": "#2a3f5f"
            },
            "marker": {
             "line": {
              "color": "white",
              "width": 0.5
             },
             "pattern": {
              "fillmode": "overlay",
              "size": 10,
              "solidity": 0.2
             }
            },
            "type": "bar"
           }
          ],
          "barpolar": [
           {
            "marker": {
             "line": {
              "color": "white",
              "width": 0.5
             },
             "pattern": {
              "fillmode": "overlay",
              "size": 10,
              "solidity": 0.2
             }
            },
            "type": "barpolar"
           }
          ],
          "carpet": [
           {
            "aaxis": {
             "endlinecolor": "#2a3f5f",
             "gridcolor": "#C8D4E3",
             "linecolor": "#C8D4E3",
             "minorgridcolor": "#C8D4E3",
             "startlinecolor": "#2a3f5f"
            },
            "baxis": {
             "endlinecolor": "#2a3f5f",
             "gridcolor": "#C8D4E3",
             "linecolor": "#C8D4E3",
             "minorgridcolor": "#C8D4E3",
             "startlinecolor": "#2a3f5f"
            },
            "type": "carpet"
           }
          ],
          "choropleth": [
           {
            "colorbar": {
             "outlinewidth": 0,
             "ticks": ""
            },
            "type": "choropleth"
           }
          ],
          "contour": [
           {
            "colorbar": {
             "outlinewidth": 0,
             "ticks": ""
            },
            "colorscale": [
             [
              0,
              "#0d0887"
             ],
             [
              0.1111111111111111,
              "#46039f"
             ],
             [
              0.2222222222222222,
              "#7201a8"
             ],
             [
              0.3333333333333333,
              "#9c179e"
             ],
             [
              0.4444444444444444,
              "#bd3786"
             ],
             [
              0.5555555555555556,
              "#d8576b"
             ],
             [
              0.6666666666666666,
              "#ed7953"
             ],
             [
              0.7777777777777778,
              "#fb9f3a"
             ],
             [
              0.8888888888888888,
              "#fdca26"
             ],
             [
              1,
              "#f0f921"
             ]
            ],
            "type": "contour"
           }
          ],
          "contourcarpet": [
           {
            "colorbar": {
             "outlinewidth": 0,
             "ticks": ""
            },
            "type": "contourcarpet"
           }
          ],
          "heatmap": [
           {
            "colorbar": {
             "outlinewidth": 0,
             "ticks": ""
            },
            "colorscale": [
             [
              0,
              "#0d0887"
             ],
             [
              0.1111111111111111,
              "#46039f"
             ],
             [
              0.2222222222222222,
              "#7201a8"
             ],
             [
              0.3333333333333333,
              "#9c179e"
             ],
             [
              0.4444444444444444,
              "#bd3786"
             ],
             [
              0.5555555555555556,
              "#d8576b"
             ],
             [
              0.6666666666666666,
              "#ed7953"
             ],
             [
              0.7777777777777778,
              "#fb9f3a"
             ],
             [
              0.8888888888888888,
              "#fdca26"
             ],
             [
              1,
              "#f0f921"
             ]
            ],
            "type": "heatmap"
           }
          ],
          "histogram": [
           {
            "marker": {
             "pattern": {
              "fillmode": "overlay",
              "size": 10,
              "solidity": 0.2
             }
            },
            "type": "histogram"
           }
          ],
          "histogram2d": [
           {
            "colorbar": {
             "outlinewidth": 0,
             "ticks": ""
            },
            "colorscale": [
             [
              0,
              "#0d0887"
             ],
             [
              0.1111111111111111,
              "#46039f"
             ],
             [
              0.2222222222222222,
              "#7201a8"
             ],
             [
              0.3333333333333333,
              "#9c179e"
             ],
             [
              0.4444444444444444,
              "#bd3786"
             ],
             [
              0.5555555555555556,
              "#d8576b"
             ],
             [
              0.6666666666666666,
              "#ed7953"
             ],
             [
              0.7777777777777778,
              "#fb9f3a"
             ],
             [
              0.8888888888888888,
              "#fdca26"
             ],
             [
              1,
              "#f0f921"
             ]
            ],
            "type": "histogram2d"
           }
          ],
          "histogram2dcontour": [
           {
            "colorbar": {
             "outlinewidth": 0,
             "ticks": ""
            },
            "colorscale": [
             [
              0,
              "#0d0887"
             ],
             [
              0.1111111111111111,
              "#46039f"
             ],
             [
              0.2222222222222222,
              "#7201a8"
             ],
             [
              0.3333333333333333,
              "#9c179e"
             ],
             [
              0.4444444444444444,
              "#bd3786"
             ],
             [
              0.5555555555555556,
              "#d8576b"
             ],
             [
              0.6666666666666666,
              "#ed7953"
             ],
             [
              0.7777777777777778,
              "#fb9f3a"
             ],
             [
              0.8888888888888888,
              "#fdca26"
             ],
             [
              1,
              "#f0f921"
             ]
            ],
            "type": "histogram2dcontour"
           }
          ],
          "mesh3d": [
           {
            "colorbar": {
             "outlinewidth": 0,
             "ticks": ""
            },
            "type": "mesh3d"
           }
          ],
          "parcoords": [
           {
            "line": {
             "colorbar": {
              "outlinewidth": 0,
              "ticks": ""
             }
            },
            "type": "parcoords"
           }
          ],
          "pie": [
           {
            "automargin": true,
            "type": "pie"
           }
          ],
          "scatter": [
           {
            "fillpattern": {
             "fillmode": "overlay",
             "size": 10,
             "solidity": 0.2
            },
            "type": "scatter"
           }
          ],
          "scatter3d": [
           {
            "line": {
             "colorbar": {
              "outlinewidth": 0,
              "ticks": ""
             }
            },
            "marker": {
             "colorbar": {
              "outlinewidth": 0,
              "ticks": ""
             }
            },
            "type": "scatter3d"
           }
          ],
          "scattercarpet": [
           {
            "marker": {
             "colorbar": {
              "outlinewidth": 0,
              "ticks": ""
             }
            },
            "type": "scattercarpet"
           }
          ],
          "scattergeo": [
           {
            "marker": {
             "colorbar": {
              "outlinewidth": 0,
              "ticks": ""
             }
            },
            "type": "scattergeo"
           }
          ],
          "scattergl": [
           {
            "marker": {
             "colorbar": {
              "outlinewidth": 0,
              "ticks": ""
             }
            },
            "type": "scattergl"
           }
          ],
          "scattermap": [
           {
            "marker": {
             "colorbar": {
              "outlinewidth": 0,
              "ticks": ""
             }
            },
            "type": "scattermap"
           }
          ],
          "scattermapbox": [
           {
            "marker": {
             "colorbar": {
              "outlinewidth": 0,
              "ticks": ""
             }
            },
            "type": "scattermapbox"
           }
          ],
          "scatterpolar": [
           {
            "marker": {
             "colorbar": {
              "outlinewidth": 0,
              "ticks": ""
             }
            },
            "type": "scatterpolar"
           }
          ],
          "scatterpolargl": [
           {
            "marker": {
             "colorbar": {
              "outlinewidth": 0,
              "ticks": ""
             }
            },
            "type": "scatterpolargl"
           }
          ],
          "scatterternary": [
           {
            "marker": {
             "colorbar": {
              "outlinewidth": 0,
              "ticks": ""
             }
            },
            "type": "scatterternary"
           }
          ],
          "surface": [
           {
            "colorbar": {
             "outlinewidth": 0,
             "ticks": ""
            },
            "colorscale": [
             [
              0,
              "#0d0887"
             ],
             [
              0.1111111111111111,
              "#46039f"
             ],
             [
              0.2222222222222222,
              "#7201a8"
             ],
             [
              0.3333333333333333,
              "#9c179e"
             ],
             [
              0.4444444444444444,
              "#bd3786"
             ],
             [
              0.5555555555555556,
              "#d8576b"
             ],
             [
              0.6666666666666666,
              "#ed7953"
             ],
             [
              0.7777777777777778,
              "#fb9f3a"
             ],
             [
              0.8888888888888888,
              "#fdca26"
             ],
             [
              1,
              "#f0f921"
             ]
            ],
            "type": "surface"
           }
          ],
          "table": [
           {
            "cells": {
             "fill": {
              "color": "#EBF0F8"
             },
             "line": {
              "color": "white"
             }
            },
            "header": {
             "fill": {
              "color": "#C8D4E3"
             },
             "line": {
              "color": "white"
             }
            },
            "type": "table"
           }
          ]
         },
         "layout": {
          "annotationdefaults": {
           "arrowcolor": "#2a3f5f",
           "arrowhead": 0,
           "arrowwidth": 1
          },
          "autotypenumbers": "strict",
          "coloraxis": {
           "colorbar": {
            "outlinewidth": 0,
            "ticks": ""
           }
          },
          "colorscale": {
           "diverging": [
            [
             0,
             "#8e0152"
            ],
            [
             0.1,
             "#c51b7d"
            ],
            [
             0.2,
             "#de77ae"
            ],
            [
             0.3,
             "#f1b6da"
            ],
            [
             0.4,
             "#fde0ef"
            ],
            [
             0.5,
             "#f7f7f7"
            ],
            [
             0.6,
             "#e6f5d0"
            ],
            [
             0.7,
             "#b8e186"
            ],
            [
             0.8,
             "#7fbc41"
            ],
            [
             0.9,
             "#4d9221"
            ],
            [
             1,
             "#276419"
            ]
           ],
           "sequential": [
            [
             0,
             "#0d0887"
            ],
            [
             0.1111111111111111,
             "#46039f"
            ],
            [
             0.2222222222222222,
             "#7201a8"
            ],
            [
             0.3333333333333333,
             "#9c179e"
            ],
            [
             0.4444444444444444,
             "#bd3786"
            ],
            [
             0.5555555555555556,
             "#d8576b"
            ],
            [
             0.6666666666666666,
             "#ed7953"
            ],
            [
             0.7777777777777778,
             "#fb9f3a"
            ],
            [
             0.8888888888888888,
             "#fdca26"
            ],
            [
             1,
             "#f0f921"
            ]
           ],
           "sequentialminus": [
            [
             0,
             "#0d0887"
            ],
            [
             0.1111111111111111,
             "#46039f"
            ],
            [
             0.2222222222222222,
             "#7201a8"
            ],
            [
             0.3333333333333333,
             "#9c179e"
            ],
            [
             0.4444444444444444,
             "#bd3786"
            ],
            [
             0.5555555555555556,
             "#d8576b"
            ],
            [
             0.6666666666666666,
             "#ed7953"
            ],
            [
             0.7777777777777778,
             "#fb9f3a"
            ],
            [
             0.8888888888888888,
             "#fdca26"
            ],
            [
             1,
             "#f0f921"
            ]
           ]
          },
          "colorway": [
           "#636efa",
           "#EF553B",
           "#00cc96",
           "#ab63fa",
           "#FFA15A",
           "#19d3f3",
           "#FF6692",
           "#B6E880",
           "#FF97FF",
           "#FECB52"
          ],
          "font": {
           "color": "#2a3f5f"
          },
          "geo": {
           "bgcolor": "white",
           "lakecolor": "white",
           "landcolor": "white",
           "showlakes": true,
           "showland": true,
           "subunitcolor": "#C8D4E3"
          },
          "hoverlabel": {
           "align": "left"
          },
          "hovermode": "closest",
          "mapbox": {
           "style": "light"
          },
          "paper_bgcolor": "white",
          "plot_bgcolor": "white",
          "polar": {
           "angularaxis": {
            "gridcolor": "#EBF0F8",
            "linecolor": "#EBF0F8",
            "ticks": ""
           },
           "bgcolor": "white",
           "radialaxis": {
            "gridcolor": "#EBF0F8",
            "linecolor": "#EBF0F8",
            "ticks": ""
           }
          },
          "scene": {
           "xaxis": {
            "backgroundcolor": "white",
            "gridcolor": "#DFE8F3",
            "gridwidth": 2,
            "linecolor": "#EBF0F8",
            "showbackground": true,
            "ticks": "",
            "zerolinecolor": "#EBF0F8"
           },
           "yaxis": {
            "backgroundcolor": "white",
            "gridcolor": "#DFE8F3",
            "gridwidth": 2,
            "linecolor": "#EBF0F8",
            "showbackground": true,
            "ticks": "",
            "zerolinecolor": "#EBF0F8"
           },
           "zaxis": {
            "backgroundcolor": "white",
            "gridcolor": "#DFE8F3",
            "gridwidth": 2,
            "linecolor": "#EBF0F8",
            "showbackground": true,
            "ticks": "",
            "zerolinecolor": "#EBF0F8"
           }
          },
          "shapedefaults": {
           "line": {
            "color": "#2a3f5f"
           }
          },
          "ternary": {
           "aaxis": {
            "gridcolor": "#DFE8F3",
            "linecolor": "#A2B1C6",
            "ticks": ""
           },
           "baxis": {
            "gridcolor": "#DFE8F3",
            "linecolor": "#A2B1C6",
            "ticks": ""
           },
           "bgcolor": "white",
           "caxis": {
            "gridcolor": "#DFE8F3",
            "linecolor": "#A2B1C6",
            "ticks": ""
           }
          },
          "title": {
           "x": 0.05
          },
          "xaxis": {
           "automargin": true,
           "gridcolor": "#EBF0F8",
           "linecolor": "#EBF0F8",
           "ticks": "",
           "title": {
            "standoff": 15
           },
           "zerolinecolor": "#EBF0F8",
           "zerolinewidth": 2
          },
          "yaxis": {
           "automargin": true,
           "gridcolor": "#EBF0F8",
           "linecolor": "#EBF0F8",
           "ticks": "",
           "title": {
            "standoff": 15
           },
           "zerolinecolor": "#EBF0F8",
           "zerolinewidth": 2
          }
         }
        },
        "title": {
         "text": "Scatter plot of data"
        },
        "width": 700,
        "xaxis": {
         "title": {
          "text": "Independent variable"
         }
        },
        "yaxis": {
         "title": {
          "text": "Dependent variable"
         }
        }
       }
      }
     },
     "metadata": {},
     "output_type": "display_data"
    }
   ],
   "source": [
    "# Generate a scatter plot of the data\n",
    "fig = go.Figure(\n",
    "    go.Scatter(\n",
    "        x=independent,\n",
    "        y=dependent,\n",
    "        mode='markers',\n",
    "        marker=dict(size=12)\n",
    "    )\n",
    ")\n",
    "\n",
    "fig.update_layout(\n",
    "    title='Scatter plot of data',\n",
    "    xaxis_title='Independent variable',\n",
    "    yaxis_title='Dependent variable',\n",
    "    width=700\n",
    ")\n",
    "\n",
    "fig.show()\n"
   ]
  },
  {
   "cell_type": "markdown",
   "metadata": {},
   "source": [
    "### <span style=\"color: pink;\"> Calculate Variance <span>"
   ]
  },
  {
   "cell_type": "code",
   "execution_count": 16,
   "metadata": {},
   "outputs": [
    {
     "data": {
      "text/plain": [
       "np.float64(27.3082)"
      ]
     },
     "execution_count": 16,
     "metadata": {},
     "output_type": "execute_result"
    }
   ],
   "source": [
    "# Use numpy to calculate the variance using the equation for sample variance\n",
    "np.sum((independent - np.mean(independent))**2) / (len(independent) - 1)"
   ]
  },
  {
   "cell_type": "code",
   "execution_count": 17,
   "metadata": {},
   "outputs": [
    {
     "data": {
      "text/plain": [
       "np.float64(27.3082)"
      ]
     },
     "execution_count": 17,
     "metadata": {},
     "output_type": "execute_result"
    }
   ],
   "source": [
    "# Calculate the sample variance of the independent variable\n",
    "np.var(independent, ddof=1)"
   ]
  },
  {
   "cell_type": "code",
   "execution_count": 18,
   "metadata": {},
   "outputs": [
    {
     "data": {
      "text/plain": [
       "np.float64(51.59557551020409)"
      ]
     },
     "execution_count": 18,
     "metadata": {},
     "output_type": "execute_result"
    }
   ],
   "source": [
    "# Determine the variance in the dependent variable\n",
    "np.var(dependent, ddof=1)"
   ]
  },
  {
   "cell_type": "code",
   "execution_count": 19,
   "metadata": {},
   "outputs": [
    {
     "data": {
      "text/plain": [
       "array([[27.3082    , 26.88066122],\n",
       "       [26.88066122, 51.59557551]])"
      ]
     },
     "execution_count": 19,
     "metadata": {},
     "output_type": "execute_result"
    }
   ],
   "source": [
    "# Determine the covariance matrix\n",
    "np.cov(independent, dependent)"
   ]
  },
  {
   "cell_type": "code",
   "execution_count": 20,
   "metadata": {},
   "outputs": [
    {
     "data": {
      "text/plain": [
       "np.float64(0.7161222698456383)"
      ]
     },
     "execution_count": 20,
     "metadata": {},
     "output_type": "execute_result"
    }
   ],
   "source": [
    "# Calculate the correlation coefficient\n",
    "np.cov(independent, dependent)[0, 1] / (np.std(independent, ddof=1) * np.std(dependent, ddof=1))"
   ]
  },
  {
   "cell_type": "code",
   "execution_count": 21,
   "metadata": {},
   "outputs": [
    {
     "data": {
      "text/plain": [
       "np.float64(0.7161222698456389)"
      ]
     },
     "execution_count": 21,
     "metadata": {},
     "output_type": "execute_result"
    }
   ],
   "source": [
    "r, p = stats.pearsonr(\n",
    "    independent,\n",
    "    dependent\n",
    ")\n",
    "\n",
    "r # Pearson correlation coefficient"
   ]
  },
  {
   "cell_type": "code",
   "execution_count": 22,
   "metadata": {},
   "outputs": [
    {
     "data": {
      "text/plain": [
       "np.float64(5.0173395434123214e-09)"
      ]
     },
     "execution_count": 22,
     "metadata": {},
     "output_type": "execute_result"
    }
   ],
   "source": [
    "p # p value"
   ]
  },
  {
   "cell_type": "markdown",
   "metadata": {},
   "source": [
    "### <span style=\"color: pink ;\">Simple Linear Regression <span>"
   ]
  },
  {
   "cell_type": "code",
   "execution_count": 24,
   "metadata": {},
   "outputs": [
    {
     "data": {
      "application/vnd.plotly.v1+json": {
       "config": {
        "plotlyServerURL": "https://plot.ly"
       },
       "data": [
        {
         "marker": {
          "size": 12
         },
         "mode": "markers",
         "type": "scatter",
         "x": {
          "bdata": "AAAAAABgVEBmZmZmZuZXQDMzMzMzM1ZAAAAAAACgV0BmZmZmZuZYQDMzMzMzs1ZAAAAAAACAVkCamZmZmVlUQJqZmZmZWVVAAAAAAACAVkBmZmZmZmZXQGZmZmZmBlhAZmZmZmbmVUAzMzMzM1NUQDMzMzMzc1VAzczMzMyMWEAzMzMzMxNVQAAAAAAAQFZAZmZmZmamWEAAAAAAACBUQAAAAAAAAFdAAAAAAADAWEBmZmZmZiZVQAAAAAAAwFZAzczMzMyMWEDNzMzMzKxUQAAAAAAAoFZAAAAAAADAV0CamZmZmVlXQJqZmZmZWVZAZmZmZmYGVUAzMzMzM3NWQJqZmZmZ2VVAAAAAAABgVkAzMzMzM9NVQDMzMzMzM1hAmpmZmZnZV0AzMzMzM5NVQAAAAAAA4FZAAAAAAABgVUBmZmZmZkZWQGZmZmZmxlVAZmZmZmZGV0CamZmZmdlVQM3MzMzMTFZAmpmZmZmZV0AzMzMzMxNWQGZmZmZmhlhAZmZmZmbmVEAzMzMzM7NXQA==",
          "dtype": "f8"
         },
         "y": {
          "bdata": "AAAAAABAUkBmZmZmZqZVQM3MzMzMrFZAzczMzMxsWkCamZmZmTlZQM3MzMzMDFZAZmZmZmbmWEBmZmZmZqZUQJqZmZmZeVVAMzMzMzPTVkCamZmZmTlXQGZmZmZmpldAmpmZmZkZVEAzMzMzM/NUQDMzMzMzU1VAzczMzMwMWkAAAAAAAKBUQAAAAAAA4FNAZmZmZmaGWEAAAAAAAEBWQGZmZmZmhlZAZmZmZmamV0BmZmZmZqZTQM3MzMzMbFVAzczMzMwsWEAzMzMzMzNTQAAAAAAAgFhAZmZmZmZmV0CamZmZmXlXQGZmZmZmJlhAZmZmZmbmVkDNzMzMzCxWQGZmZmZmRlZAzczMzMxMV0AzMzMzM5NVQJqZmZmZ+VVAzczMzMysWEAzMzMzM7NWQGZmZmZmZldAmpmZmZk5VEBmZmZmZgZWQGZmZmZmBlVAZmZmZmbmVkCamZmZmXlXQDMzMzMzM1hAzczMzMxsWEAAAAAAAMBWQAAAAAAAYFlAAAAAAADgVECamZmZmZlXQA==",
          "dtype": "f8"
         }
        }
       ],
       "layout": {
        "template": {
         "data": {
          "bar": [
           {
            "error_x": {
             "color": "#2a3f5f"
            },
            "error_y": {
             "color": "#2a3f5f"
            },
            "marker": {
             "line": {
              "color": "white",
              "width": 0.5
             },
             "pattern": {
              "fillmode": "overlay",
              "size": 10,
              "solidity": 0.2
             }
            },
            "type": "bar"
           }
          ],
          "barpolar": [
           {
            "marker": {
             "line": {
              "color": "white",
              "width": 0.5
             },
             "pattern": {
              "fillmode": "overlay",
              "size": 10,
              "solidity": 0.2
             }
            },
            "type": "barpolar"
           }
          ],
          "carpet": [
           {
            "aaxis": {
             "endlinecolor": "#2a3f5f",
             "gridcolor": "#C8D4E3",
             "linecolor": "#C8D4E3",
             "minorgridcolor": "#C8D4E3",
             "startlinecolor": "#2a3f5f"
            },
            "baxis": {
             "endlinecolor": "#2a3f5f",
             "gridcolor": "#C8D4E3",
             "linecolor": "#C8D4E3",
             "minorgridcolor": "#C8D4E3",
             "startlinecolor": "#2a3f5f"
            },
            "type": "carpet"
           }
          ],
          "choropleth": [
           {
            "colorbar": {
             "outlinewidth": 0,
             "ticks": ""
            },
            "type": "choropleth"
           }
          ],
          "contour": [
           {
            "colorbar": {
             "outlinewidth": 0,
             "ticks": ""
            },
            "colorscale": [
             [
              0,
              "#0d0887"
             ],
             [
              0.1111111111111111,
              "#46039f"
             ],
             [
              0.2222222222222222,
              "#7201a8"
             ],
             [
              0.3333333333333333,
              "#9c179e"
             ],
             [
              0.4444444444444444,
              "#bd3786"
             ],
             [
              0.5555555555555556,
              "#d8576b"
             ],
             [
              0.6666666666666666,
              "#ed7953"
             ],
             [
              0.7777777777777778,
              "#fb9f3a"
             ],
             [
              0.8888888888888888,
              "#fdca26"
             ],
             [
              1,
              "#f0f921"
             ]
            ],
            "type": "contour"
           }
          ],
          "contourcarpet": [
           {
            "colorbar": {
             "outlinewidth": 0,
             "ticks": ""
            },
            "type": "contourcarpet"
           }
          ],
          "heatmap": [
           {
            "colorbar": {
             "outlinewidth": 0,
             "ticks": ""
            },
            "colorscale": [
             [
              0,
              "#0d0887"
             ],
             [
              0.1111111111111111,
              "#46039f"
             ],
             [
              0.2222222222222222,
              "#7201a8"
             ],
             [
              0.3333333333333333,
              "#9c179e"
             ],
             [
              0.4444444444444444,
              "#bd3786"
             ],
             [
              0.5555555555555556,
              "#d8576b"
             ],
             [
              0.6666666666666666,
              "#ed7953"
             ],
             [
              0.7777777777777778,
              "#fb9f3a"
             ],
             [
              0.8888888888888888,
              "#fdca26"
             ],
             [
              1,
              "#f0f921"
             ]
            ],
            "type": "heatmap"
           }
          ],
          "histogram": [
           {
            "marker": {
             "pattern": {
              "fillmode": "overlay",
              "size": 10,
              "solidity": 0.2
             }
            },
            "type": "histogram"
           }
          ],
          "histogram2d": [
           {
            "colorbar": {
             "outlinewidth": 0,
             "ticks": ""
            },
            "colorscale": [
             [
              0,
              "#0d0887"
             ],
             [
              0.1111111111111111,
              "#46039f"
             ],
             [
              0.2222222222222222,
              "#7201a8"
             ],
             [
              0.3333333333333333,
              "#9c179e"
             ],
             [
              0.4444444444444444,
              "#bd3786"
             ],
             [
              0.5555555555555556,
              "#d8576b"
             ],
             [
              0.6666666666666666,
              "#ed7953"
             ],
             [
              0.7777777777777778,
              "#fb9f3a"
             ],
             [
              0.8888888888888888,
              "#fdca26"
             ],
             [
              1,
              "#f0f921"
             ]
            ],
            "type": "histogram2d"
           }
          ],
          "histogram2dcontour": [
           {
            "colorbar": {
             "outlinewidth": 0,
             "ticks": ""
            },
            "colorscale": [
             [
              0,
              "#0d0887"
             ],
             [
              0.1111111111111111,
              "#46039f"
             ],
             [
              0.2222222222222222,
              "#7201a8"
             ],
             [
              0.3333333333333333,
              "#9c179e"
             ],
             [
              0.4444444444444444,
              "#bd3786"
             ],
             [
              0.5555555555555556,
              "#d8576b"
             ],
             [
              0.6666666666666666,
              "#ed7953"
             ],
             [
              0.7777777777777778,
              "#fb9f3a"
             ],
             [
              0.8888888888888888,
              "#fdca26"
             ],
             [
              1,
              "#f0f921"
             ]
            ],
            "type": "histogram2dcontour"
           }
          ],
          "mesh3d": [
           {
            "colorbar": {
             "outlinewidth": 0,
             "ticks": ""
            },
            "type": "mesh3d"
           }
          ],
          "parcoords": [
           {
            "line": {
             "colorbar": {
              "outlinewidth": 0,
              "ticks": ""
             }
            },
            "type": "parcoords"
           }
          ],
          "pie": [
           {
            "automargin": true,
            "type": "pie"
           }
          ],
          "scatter": [
           {
            "fillpattern": {
             "fillmode": "overlay",
             "size": 10,
             "solidity": 0.2
            },
            "type": "scatter"
           }
          ],
          "scatter3d": [
           {
            "line": {
             "colorbar": {
              "outlinewidth": 0,
              "ticks": ""
             }
            },
            "marker": {
             "colorbar": {
              "outlinewidth": 0,
              "ticks": ""
             }
            },
            "type": "scatter3d"
           }
          ],
          "scattercarpet": [
           {
            "marker": {
             "colorbar": {
              "outlinewidth": 0,
              "ticks": ""
             }
            },
            "type": "scattercarpet"
           }
          ],
          "scattergeo": [
           {
            "marker": {
             "colorbar": {
              "outlinewidth": 0,
              "ticks": ""
             }
            },
            "type": "scattergeo"
           }
          ],
          "scattergl": [
           {
            "marker": {
             "colorbar": {
              "outlinewidth": 0,
              "ticks": ""
             }
            },
            "type": "scattergl"
           }
          ],
          "scattermap": [
           {
            "marker": {
             "colorbar": {
              "outlinewidth": 0,
              "ticks": ""
             }
            },
            "type": "scattermap"
           }
          ],
          "scattermapbox": [
           {
            "marker": {
             "colorbar": {
              "outlinewidth": 0,
              "ticks": ""
             }
            },
            "type": "scattermapbox"
           }
          ],
          "scatterpolar": [
           {
            "marker": {
             "colorbar": {
              "outlinewidth": 0,
              "ticks": ""
             }
            },
            "type": "scatterpolar"
           }
          ],
          "scatterpolargl": [
           {
            "marker": {
             "colorbar": {
              "outlinewidth": 0,
              "ticks": ""
             }
            },
            "type": "scatterpolargl"
           }
          ],
          "scatterternary": [
           {
            "marker": {
             "colorbar": {
              "outlinewidth": 0,
              "ticks": ""
             }
            },
            "type": "scatterternary"
           }
          ],
          "surface": [
           {
            "colorbar": {
             "outlinewidth": 0,
             "ticks": ""
            },
            "colorscale": [
             [
              0,
              "#0d0887"
             ],
             [
              0.1111111111111111,
              "#46039f"
             ],
             [
              0.2222222222222222,
              "#7201a8"
             ],
             [
              0.3333333333333333,
              "#9c179e"
             ],
             [
              0.4444444444444444,
              "#bd3786"
             ],
             [
              0.5555555555555556,
              "#d8576b"
             ],
             [
              0.6666666666666666,
              "#ed7953"
             ],
             [
              0.7777777777777778,
              "#fb9f3a"
             ],
             [
              0.8888888888888888,
              "#fdca26"
             ],
             [
              1,
              "#f0f921"
             ]
            ],
            "type": "surface"
           }
          ],
          "table": [
           {
            "cells": {
             "fill": {
              "color": "#EBF0F8"
             },
             "line": {
              "color": "white"
             }
            },
            "header": {
             "fill": {
              "color": "#C8D4E3"
             },
             "line": {
              "color": "white"
             }
            },
            "type": "table"
           }
          ]
         },
         "layout": {
          "annotationdefaults": {
           "arrowcolor": "#2a3f5f",
           "arrowhead": 0,
           "arrowwidth": 1
          },
          "autotypenumbers": "strict",
          "coloraxis": {
           "colorbar": {
            "outlinewidth": 0,
            "ticks": ""
           }
          },
          "colorscale": {
           "diverging": [
            [
             0,
             "#8e0152"
            ],
            [
             0.1,
             "#c51b7d"
            ],
            [
             0.2,
             "#de77ae"
            ],
            [
             0.3,
             "#f1b6da"
            ],
            [
             0.4,
             "#fde0ef"
            ],
            [
             0.5,
             "#f7f7f7"
            ],
            [
             0.6,
             "#e6f5d0"
            ],
            [
             0.7,
             "#b8e186"
            ],
            [
             0.8,
             "#7fbc41"
            ],
            [
             0.9,
             "#4d9221"
            ],
            [
             1,
             "#276419"
            ]
           ],
           "sequential": [
            [
             0,
             "#0d0887"
            ],
            [
             0.1111111111111111,
             "#46039f"
            ],
            [
             0.2222222222222222,
             "#7201a8"
            ],
            [
             0.3333333333333333,
             "#9c179e"
            ],
            [
             0.4444444444444444,
             "#bd3786"
            ],
            [
             0.5555555555555556,
             "#d8576b"
            ],
            [
             0.6666666666666666,
             "#ed7953"
            ],
            [
             0.7777777777777778,
             "#fb9f3a"
            ],
            [
             0.8888888888888888,
             "#fdca26"
            ],
            [
             1,
             "#f0f921"
            ]
           ],
           "sequentialminus": [
            [
             0,
             "#0d0887"
            ],
            [
             0.1111111111111111,
             "#46039f"
            ],
            [
             0.2222222222222222,
             "#7201a8"
            ],
            [
             0.3333333333333333,
             "#9c179e"
            ],
            [
             0.4444444444444444,
             "#bd3786"
            ],
            [
             0.5555555555555556,
             "#d8576b"
            ],
            [
             0.6666666666666666,
             "#ed7953"
            ],
            [
             0.7777777777777778,
             "#fb9f3a"
            ],
            [
             0.8888888888888888,
             "#fdca26"
            ],
            [
             1,
             "#f0f921"
            ]
           ]
          },
          "colorway": [
           "#636efa",
           "#EF553B",
           "#00cc96",
           "#ab63fa",
           "#FFA15A",
           "#19d3f3",
           "#FF6692",
           "#B6E880",
           "#FF97FF",
           "#FECB52"
          ],
          "font": {
           "color": "#2a3f5f"
          },
          "geo": {
           "bgcolor": "white",
           "lakecolor": "white",
           "landcolor": "white",
           "showlakes": true,
           "showland": true,
           "subunitcolor": "#C8D4E3"
          },
          "hoverlabel": {
           "align": "left"
          },
          "hovermode": "closest",
          "mapbox": {
           "style": "light"
          },
          "paper_bgcolor": "white",
          "plot_bgcolor": "white",
          "polar": {
           "angularaxis": {
            "gridcolor": "#EBF0F8",
            "linecolor": "#EBF0F8",
            "ticks": ""
           },
           "bgcolor": "white",
           "radialaxis": {
            "gridcolor": "#EBF0F8",
            "linecolor": "#EBF0F8",
            "ticks": ""
           }
          },
          "scene": {
           "xaxis": {
            "backgroundcolor": "white",
            "gridcolor": "#DFE8F3",
            "gridwidth": 2,
            "linecolor": "#EBF0F8",
            "showbackground": true,
            "ticks": "",
            "zerolinecolor": "#EBF0F8"
           },
           "yaxis": {
            "backgroundcolor": "white",
            "gridcolor": "#DFE8F3",
            "gridwidth": 2,
            "linecolor": "#EBF0F8",
            "showbackground": true,
            "ticks": "",
            "zerolinecolor": "#EBF0F8"
           },
           "zaxis": {
            "backgroundcolor": "white",
            "gridcolor": "#DFE8F3",
            "gridwidth": 2,
            "linecolor": "#EBF0F8",
            "showbackground": true,
            "ticks": "",
            "zerolinecolor": "#EBF0F8"
           }
          },
          "shapedefaults": {
           "line": {
            "color": "#2a3f5f"
           }
          },
          "ternary": {
           "aaxis": {
            "gridcolor": "#DFE8F3",
            "linecolor": "#A2B1C6",
            "ticks": ""
           },
           "baxis": {
            "gridcolor": "#DFE8F3",
            "linecolor": "#A2B1C6",
            "ticks": ""
           },
           "bgcolor": "white",
           "caxis": {
            "gridcolor": "#DFE8F3",
            "linecolor": "#A2B1C6",
            "ticks": ""
           }
          },
          "title": {
           "x": 0.05
          },
          "xaxis": {
           "automargin": true,
           "gridcolor": "#EBF0F8",
           "linecolor": "#EBF0F8",
           "ticks": "",
           "title": {
            "standoff": 15
           },
           "zerolinecolor": "#EBF0F8",
           "zerolinewidth": 2
          },
          "yaxis": {
           "automargin": true,
           "gridcolor": "#EBF0F8",
           "linecolor": "#EBF0F8",
           "ticks": "",
           "title": {
            "standoff": 15
           },
           "zerolinecolor": "#EBF0F8",
           "zerolinewidth": 2
          }
         }
        },
        "title": {
         "text": "Data"
        },
        "width": 700,
        "xaxis": {
         "title": {
          "text": "Independent variable"
         }
        },
        "yaxis": {
         "title": {
          "text": "Dependent variable"
         }
        }
       }
      }
     },
     "metadata": {},
     "output_type": "display_data"
    }
   ],
   "source": [
    "go.Figure(data=go.Scatter(x=independent, y=dependent,\n",
    "    mode='markers',\n",
    "    marker=dict(size=12))).update_layout(title='Data',\n",
    "        yaxis=dict(title='Dependent variable'),\n",
    "        xaxis=dict(title='Independent variable')).update_layout(\n",
    "            width=700\n",
    "        )"
   ]
  },
  {
   "cell_type": "code",
   "execution_count": 25,
   "metadata": {},
   "outputs": [
    {
     "data": {
      "application/vnd.microsoft.datawrangler.viewer.v0+json": {
       "columns": [
        {
         "name": "index",
         "rawType": "int64",
         "type": "integer"
        },
        {
         "name": "Independent",
         "rawType": "float64",
         "type": "float"
        },
        {
         "name": "Dependent",
         "rawType": "float64",
         "type": "float"
        },
        {
         "name": "Group",
         "rawType": "object",
         "type": "string"
        }
       ],
       "conversionMethod": "pd.DataFrame",
       "ref": "7f90b2e2-f2eb-4448-8e4b-29ea5bf0cd6f",
       "rows": [
        [
         "0",
         "81.5",
         "73.0",
         "C"
        ],
        [
         "1",
         "95.6",
         "86.6",
         "C"
        ],
        [
         "2",
         "88.8",
         "90.7",
         "C"
        ],
        [
         "3",
         "94.5",
         "105.7",
         "C"
        ],
        [
         "4",
         "99.6",
         "100.9",
         "C"
        ]
       ],
       "shape": {
        "columns": 3,
        "rows": 5
       }
      },
      "text/html": [
       "<div>\n",
       "<style scoped>\n",
       "    .dataframe tbody tr th:only-of-type {\n",
       "        vertical-align: middle;\n",
       "    }\n",
       "\n",
       "    .dataframe tbody tr th {\n",
       "        vertical-align: top;\n",
       "    }\n",
       "\n",
       "    .dataframe thead th {\n",
       "        text-align: right;\n",
       "    }\n",
       "</style>\n",
       "<table border=\"1\" class=\"dataframe\">\n",
       "  <thead>\n",
       "    <tr style=\"text-align: right;\">\n",
       "      <th></th>\n",
       "      <th>Independent</th>\n",
       "      <th>Dependent</th>\n",
       "      <th>Group</th>\n",
       "    </tr>\n",
       "  </thead>\n",
       "  <tbody>\n",
       "    <tr>\n",
       "      <th>0</th>\n",
       "      <td>81.5</td>\n",
       "      <td>73.0</td>\n",
       "      <td>C</td>\n",
       "    </tr>\n",
       "    <tr>\n",
       "      <th>1</th>\n",
       "      <td>95.6</td>\n",
       "      <td>86.6</td>\n",
       "      <td>C</td>\n",
       "    </tr>\n",
       "    <tr>\n",
       "      <th>2</th>\n",
       "      <td>88.8</td>\n",
       "      <td>90.7</td>\n",
       "      <td>C</td>\n",
       "    </tr>\n",
       "    <tr>\n",
       "      <th>3</th>\n",
       "      <td>94.5</td>\n",
       "      <td>105.7</td>\n",
       "      <td>C</td>\n",
       "    </tr>\n",
       "    <tr>\n",
       "      <th>4</th>\n",
       "      <td>99.6</td>\n",
       "      <td>100.9</td>\n",
       "      <td>C</td>\n",
       "    </tr>\n",
       "  </tbody>\n",
       "</table>\n",
       "</div>"
      ],
      "text/plain": [
       "   Independent  Dependent Group\n",
       "0         81.5       73.0     C\n",
       "1         95.6       86.6     C\n",
       "2         88.8       90.7     C\n",
       "3         94.5      105.7     C\n",
       "4         99.6      100.9     C"
      ]
     },
     "execution_count": 25,
     "metadata": {},
     "output_type": "execute_result"
    }
   ],
   "source": [
    "# Create a pandas dataframe object to hold the data and add a new variable\n",
    "df = DataFrame({'Independent':independent, 'Dependent':dependent, 'Group':np.repeat(['C', 'E'], 25)})\n",
    "df[:5]"
   ]
  },
  {
   "cell_type": "code",
   "execution_count": 26,
   "metadata": {},
   "outputs": [],
   "source": [
    "# Formula for dependent variable given the independent variable\n",
    "y, X = dmatrices('Dependent ~ Independent', data = df)"
   ]
  },
  {
   "cell_type": "code",
   "execution_count": 27,
   "metadata": {},
   "outputs": [
    {
     "data": {
      "text/plain": [
       "DesignMatrix with shape (50, 1)\n",
       "  Dependent\n",
       "       73.0\n",
       "       86.6\n",
       "       90.7\n",
       "      105.7\n",
       "      100.9\n",
       "       88.2\n",
       "       99.6\n",
       "       82.6\n",
       "       85.9\n",
       "       91.3\n",
       "       92.9\n",
       "       94.6\n",
       "       80.4\n",
       "       83.8\n",
       "       85.3\n",
       "      104.2\n",
       "       82.5\n",
       "       79.5\n",
       "       98.1\n",
       "       89.0\n",
       "       90.1\n",
       "       94.6\n",
       "       78.6\n",
       "       85.7\n",
       "       96.7\n",
       "       76.8\n",
       "       98.0\n",
       "       93.6\n",
       "       93.9\n",
       "       96.6\n",
       "  [20 rows omitted]\n",
       "  Terms:\n",
       "    'Dependent' (column 0)\n",
       "  (to view full data, use np.asarray(this_obj))"
      ]
     },
     "execution_count": 27,
     "metadata": {},
     "output_type": "execute_result"
    }
   ],
   "source": [
    "# The target vector\n",
    "y"
   ]
  },
  {
   "cell_type": "code",
   "execution_count": 28,
   "metadata": {},
   "outputs": [
    {
     "data": {
      "text/plain": [
       "DesignMatrix with shape (50, 2)\n",
       "  Intercept  Independent\n",
       "          1         81.5\n",
       "          1         95.6\n",
       "          1         88.8\n",
       "          1         94.5\n",
       "          1         99.6\n",
       "          1         90.8\n",
       "          1         90.0\n",
       "          1         81.4\n",
       "          1         85.4\n",
       "          1         90.0\n",
       "          1         93.6\n",
       "          1         96.1\n",
       "          1         87.6\n",
       "          1         81.3\n",
       "          1         85.8\n",
       "          1         98.2\n",
       "          1         84.3\n",
       "          1         89.0\n",
       "          1         98.6\n",
       "          1         80.5\n",
       "          1         92.0\n",
       "          1         99.0\n",
       "          1         84.6\n",
       "          1         91.0\n",
       "          1         98.2\n",
       "          1         82.7\n",
       "          1         90.5\n",
       "          1         95.0\n",
       "          1         93.4\n",
       "          1         89.4\n",
       "  [20 rows omitted]\n",
       "  Terms:\n",
       "    'Intercept' (column 0)\n",
       "    'Independent' (column 1)\n",
       "  (to view full data, use np.asarray(this_obj))"
      ]
     },
     "execution_count": 28,
     "metadata": {},
     "output_type": "execute_result"
    }
   ],
   "source": [
    "# The design matrix\n",
    "X"
   ]
  },
  {
   "cell_type": "code",
   "execution_count": 32,
   "metadata": {},
   "outputs": [
    {
     "data": {
      "text/html": [
       "<table class=\"simpletable\">\n",
       "<caption>OLS Regression Results</caption>\n",
       "<tr>\n",
       "  <th>Dep. Variable:</th>        <td>Dependent</td>    <th>  R-squared:         </th> <td>   0.513</td>\n",
       "</tr>\n",
       "<tr>\n",
       "  <th>Model:</th>                   <td>OLS</td>       <th>  Adj. R-squared:    </th> <td>   0.503</td>\n",
       "</tr>\n",
       "<tr>\n",
       "  <th>Method:</th>             <td>Least Squares</td>  <th>  F-statistic:       </th> <td>   50.53</td>\n",
       "</tr>\n",
       "<tr>\n",
       "  <th>Date:</th>             <td>Tue, 22 Apr 2025</td> <th>  Prob (F-statistic):</th> <td>5.02e-09</td>\n",
       "</tr>\n",
       "<tr>\n",
       "  <th>Time:</th>                 <td>10:04:14</td>     <th>  Log-Likelihood:    </th> <td> -151.05</td>\n",
       "</tr>\n",
       "<tr>\n",
       "  <th>No. Observations:</th>      <td>    50</td>      <th>  AIC:               </th> <td>   306.1</td>\n",
       "</tr>\n",
       "<tr>\n",
       "  <th>Df Residuals:</th>          <td>    48</td>      <th>  BIC:               </th> <td>   309.9</td>\n",
       "</tr>\n",
       "<tr>\n",
       "  <th>Df Model:</th>              <td>     1</td>      <th>                     </th>     <td> </td>   \n",
       "</tr>\n",
       "<tr>\n",
       "  <th>Covariance Type:</th>      <td>nonrobust</td>    <th>                     </th>     <td> </td>   \n",
       "</tr>\n",
       "</table>\n",
       "<table class=\"simpletable\">\n",
       "<tr>\n",
       "       <td></td>          <th>coef</th>     <th>std err</th>      <th>t</th>      <th>P>|t|</th>  <th>[0.025</th>    <th>0.975]</th>  \n",
       "</tr>\n",
       "<tr>\n",
       "  <th>Intercept</th>   <td>    1.7253</td> <td>   12.503</td> <td>    0.138</td> <td> 0.891</td> <td>  -23.414</td> <td>   26.865</td>\n",
       "</tr>\n",
       "<tr>\n",
       "  <th>Independent</th> <td>    0.9843</td> <td>    0.138</td> <td>    7.108</td> <td> 0.000</td> <td>    0.706</td> <td>    1.263</td>\n",
       "</tr>\n",
       "</table>\n",
       "<table class=\"simpletable\">\n",
       "<tr>\n",
       "  <th>Omnibus:</th>       <td> 0.158</td> <th>  Durbin-Watson:     </th> <td>   1.583</td>\n",
       "</tr>\n",
       "<tr>\n",
       "  <th>Prob(Omnibus):</th> <td> 0.924</td> <th>  Jarque-Bera (JB):  </th> <td>   0.365</td>\n",
       "</tr>\n",
       "<tr>\n",
       "  <th>Skew:</th>          <td> 0.011</td> <th>  Prob(JB):          </th> <td>   0.833</td>\n",
       "</tr>\n",
       "<tr>\n",
       "  <th>Kurtosis:</th>      <td> 2.582</td> <th>  Cond. No.          </th> <td>1.58e+03</td>\n",
       "</tr>\n",
       "</table><br/><br/>Notes:<br/>[1] Standard Errors assume that the covariance matrix of the errors is correctly specified.<br/>[2] The condition number is large, 1.58e+03. This might indicate that there are<br/>strong multicollinearity or other numerical problems."
      ],
      "text/latex": [
       "\\begin{center}\n",
       "\\begin{tabular}{lclc}\n",
       "\\toprule\n",
       "\\textbf{Dep. Variable:}    &    Dependent     & \\textbf{  R-squared:         } &     0.513   \\\\\n",
       "\\textbf{Model:}            &       OLS        & \\textbf{  Adj. R-squared:    } &     0.503   \\\\\n",
       "\\textbf{Method:}           &  Least Squares   & \\textbf{  F-statistic:       } &     50.53   \\\\\n",
       "\\textbf{Date:}             & Tue, 22 Apr 2025 & \\textbf{  Prob (F-statistic):} &  5.02e-09   \\\\\n",
       "\\textbf{Time:}             &     10:04:14     & \\textbf{  Log-Likelihood:    } &   -151.05   \\\\\n",
       "\\textbf{No. Observations:} &          50      & \\textbf{  AIC:               } &     306.1   \\\\\n",
       "\\textbf{Df Residuals:}     &          48      & \\textbf{  BIC:               } &     309.9   \\\\\n",
       "\\textbf{Df Model:}         &           1      & \\textbf{                     } &             \\\\\n",
       "\\textbf{Covariance Type:}  &    nonrobust     & \\textbf{                     } &             \\\\\n",
       "\\bottomrule\n",
       "\\end{tabular}\n",
       "\\begin{tabular}{lcccccc}\n",
       "                     & \\textbf{coef} & \\textbf{std err} & \\textbf{t} & \\textbf{P$> |$t$|$} & \\textbf{[0.025} & \\textbf{0.975]}  \\\\\n",
       "\\midrule\n",
       "\\textbf{Intercept}   &       1.7253  &       12.503     &     0.138  &         0.891        &      -23.414    &       26.865     \\\\\n",
       "\\textbf{Independent} &       0.9843  &        0.138     &     7.108  &         0.000        &        0.706    &        1.263     \\\\\n",
       "\\bottomrule\n",
       "\\end{tabular}\n",
       "\\begin{tabular}{lclc}\n",
       "\\textbf{Omnibus:}       &  0.158 & \\textbf{  Durbin-Watson:     } &    1.583  \\\\\n",
       "\\textbf{Prob(Omnibus):} &  0.924 & \\textbf{  Jarque-Bera (JB):  } &    0.365  \\\\\n",
       "\\textbf{Skew:}          &  0.011 & \\textbf{  Prob(JB):          } &    0.833  \\\\\n",
       "\\textbf{Kurtosis:}      &  2.582 & \\textbf{  Cond. No.          } & 1.58e+03  \\\\\n",
       "\\bottomrule\n",
       "\\end{tabular}\n",
       "%\\caption{OLS Regression Results}\n",
       "\\end{center}\n",
       "\n",
       "Notes: \\newline\n",
       " [1] Standard Errors assume that the covariance matrix of the errors is correctly specified. \\newline\n",
       " [2] The condition number is large, 1.58e+03. This might indicate that there are \\newline\n",
       " strong multicollinearity or other numerical problems."
      ],
      "text/plain": [
       "<class 'statsmodels.iolib.summary.Summary'>\n",
       "\"\"\"\n",
       "                            OLS Regression Results                            \n",
       "==============================================================================\n",
       "Dep. Variable:              Dependent   R-squared:                       0.513\n",
       "Model:                            OLS   Adj. R-squared:                  0.503\n",
       "Method:                 Least Squares   F-statistic:                     50.53\n",
       "Date:                Tue, 22 Apr 2025   Prob (F-statistic):           5.02e-09\n",
       "Time:                        10:04:14   Log-Likelihood:                -151.05\n",
       "No. Observations:                  50   AIC:                             306.1\n",
       "Df Residuals:                      48   BIC:                             309.9\n",
       "Df Model:                           1                                         \n",
       "Covariance Type:            nonrobust                                         \n",
       "===============================================================================\n",
       "                  coef    std err          t      P>|t|      [0.025      0.975]\n",
       "-------------------------------------------------------------------------------\n",
       "Intercept       1.7253     12.503      0.138      0.891     -23.414      26.865\n",
       "Independent     0.9843      0.138      7.108      0.000       0.706       1.263\n",
       "==============================================================================\n",
       "Omnibus:                        0.158   Durbin-Watson:                   1.583\n",
       "Prob(Omnibus):                  0.924   Jarque-Bera (JB):                0.365\n",
       "Skew:                           0.011   Prob(JB):                        0.833\n",
       "Kurtosis:                       2.582   Cond. No.                     1.58e+03\n",
       "==============================================================================\n",
       "\n",
       "Notes:\n",
       "[1] Standard Errors assume that the covariance matrix of the errors is correctly specified.\n",
       "[2] The condition number is large, 1.58e+03. This might indicate that there are\n",
       "strong multicollinearity or other numerical problems.\n",
       "\"\"\""
      ]
     },
     "execution_count": 32,
     "metadata": {},
     "output_type": "execute_result"
    }
   ],
   "source": [
    "# Make a linear regression model\n",
    "model = sm.OLS(y, X).fit()\n",
    "# Print the summary of the model\n",
    "model.summary()\n"
   ]
  },
  {
   "cell_type": "code",
   "execution_count": 33,
   "metadata": {},
   "outputs": [
    {
     "data": {
      "application/vnd.plotly.v1+json": {
       "config": {
        "plotlyServerURL": "https://plot.ly"
       },
       "data": [
        {
         "marker": {
          "size": 12
         },
         "mode": "markers",
         "name": "Data",
         "type": "scatter",
         "x": {
          "bdata": "AAAAAABgVEBmZmZmZuZXQDMzMzMzM1ZAAAAAAACgV0BmZmZmZuZYQDMzMzMzs1ZAAAAAAACAVkCamZmZmVlUQJqZmZmZWVVAAAAAAACAVkBmZmZmZmZXQGZmZmZmBlhAZmZmZmbmVUAzMzMzM1NUQDMzMzMzc1VAzczMzMyMWEAzMzMzMxNVQAAAAAAAQFZAZmZmZmamWEAAAAAAACBUQAAAAAAAAFdAAAAAAADAWEBmZmZmZiZVQAAAAAAAwFZAzczMzMyMWEDNzMzMzKxUQAAAAAAAoFZAAAAAAADAV0CamZmZmVlXQJqZmZmZWVZAZmZmZmYGVUAzMzMzM3NWQJqZmZmZ2VVAAAAAAABgVkAzMzMzM9NVQDMzMzMzM1hAmpmZmZnZV0AzMzMzM5NVQAAAAAAA4FZAAAAAAABgVUBmZmZmZkZWQGZmZmZmxlVAZmZmZmZGV0CamZmZmdlVQM3MzMzMTFZAmpmZmZmZV0AzMzMzMxNWQGZmZmZmhlhAZmZmZmbmVEAzMzMzM7NXQA==",
          "dtype": "f8"
         },
         "y": {
          "bdata": "AAAAAABAUkBmZmZmZqZVQM3MzMzMrFZAzczMzMxsWkCamZmZmTlZQM3MzMzMDFZAZmZmZmbmWEBmZmZmZqZUQJqZmZmZeVVAMzMzMzPTVkCamZmZmTlXQGZmZmZmpldAmpmZmZkZVEAzMzMzM/NUQDMzMzMzU1VAzczMzMwMWkAAAAAAAKBUQAAAAAAA4FNAZmZmZmaGWEAAAAAAAEBWQGZmZmZmhlZAZmZmZmamV0BmZmZmZqZTQM3MzMzMbFVAzczMzMwsWEAzMzMzMzNTQAAAAAAAgFhAZmZmZmZmV0CamZmZmXlXQGZmZmZmJlhAZmZmZmbmVkDNzMzMzCxWQGZmZmZmRlZAzczMzMxMV0AzMzMzM5NVQJqZmZmZ+VVAzczMzMysWEAzMzMzM7NWQGZmZmZmZldAmpmZmZk5VEBmZmZmZgZWQGZmZmZmBlVAZmZmZmbmVkCamZmZmXlXQDMzMzMzM1hAzczMzMxsWEAAAAAAAMBWQAAAAAAAYFlAAAAAAADgVECamZmZmZlXQA==",
          "dtype": "f8"
         }
        },
        {
         "line": {
          "color": "red",
          "width": 2
         },
         "mode": "lines",
         "name": "Fitted line",
         "type": "scatter",
         "x": {
          "bdata": "AAAAAABgVEBmZmZmZuZXQDMzMzMzM1ZAAAAAAACgV0BmZmZmZuZYQDMzMzMzs1ZAAAAAAACAVkCamZmZmVlUQJqZmZmZWVVAAAAAAACAVkBmZmZmZmZXQGZmZmZmBlhAZmZmZmbmVUAzMzMzM1NUQDMzMzMzc1VAzczMzMyMWEAzMzMzMxNVQAAAAAAAQFZAZmZmZmamWEAAAAAAACBUQAAAAAAAAFdAAAAAAADAWEBmZmZmZiZVQAAAAAAAwFZAzczMzMyMWEDNzMzMzKxUQAAAAAAAoFZAAAAAAADAV0CamZmZmVlXQJqZmZmZWVZAZmZmZmYGVUAzMzMzM3NWQJqZmZmZ2VVAAAAAAABgVkAzMzMzM9NVQDMzMzMzM1hAmpmZmZnZV0AzMzMzM5NVQAAAAAAA4FZAAAAAAABgVUBmZmZmZkZWQGZmZmZmxlVAZmZmZmZGV0CamZmZmdlVQM3MzMzMTFZAmpmZmZmZV0AzMzMzMxNWQGZmZmZmhlhAZmZmZmbmVEAzMzMzM7NXQA==",
          "dtype": "f8"
         },
         "y": {
          "bdata": "02lZU8F8VECKqVzzBvVXQOLYyQKkSFZAQoDbtbqvV0DAnEnqBPFYQH1SQP6ixlZApe4QAD2UVkBYfZOTdHZUQI5wgIpyclVApe4QAD2UVkDvL+b3B3dXQPFHOrKGFFhAHsOCBQv9VUDdkM3TJ3BUQHkimImli1VAB652bdKYWEBFR/9MJi1VQNixVYI9VVZA8l+ObAWyWEAFLZ7VwT1UQEBoh/s7EldA3hGmazjLWEC2DFGMDEBVQHMrzH0801ZAB652bdKYWECWf6BQWshUQAyN7r68s1ZAqR65dDrPV0D6Vlp4bmpXQMRjbYFwblZAT25zzYwgVUCvFYWAo4dWQCnq9oVx8FVAP1AzQb10VkCt/TDGJOpVQE2/o/CfQFhAldDQc23oV0DgwHVIJatVQNnJqTy88lZACV1GSr94VUBSnhtCiltWQLckpUaL3VVAiJEIOYhXV0Ap6vaFcfBVQM6K4QHXYVZAx5MV9m2pV0B7OuxDJClWQIvBsK2FklhA6M+VDg0BVUCyRS31oMJXQA==",
          "dtype": "f8"
         }
        }
       ],
       "layout": {
        "template": {
         "data": {
          "bar": [
           {
            "error_x": {
             "color": "#2a3f5f"
            },
            "error_y": {
             "color": "#2a3f5f"
            },
            "marker": {
             "line": {
              "color": "white",
              "width": 0.5
             },
             "pattern": {
              "fillmode": "overlay",
              "size": 10,
              "solidity": 0.2
             }
            },
            "type": "bar"
           }
          ],
          "barpolar": [
           {
            "marker": {
             "line": {
              "color": "white",
              "width": 0.5
             },
             "pattern": {
              "fillmode": "overlay",
              "size": 10,
              "solidity": 0.2
             }
            },
            "type": "barpolar"
           }
          ],
          "carpet": [
           {
            "aaxis": {
             "endlinecolor": "#2a3f5f",
             "gridcolor": "#C8D4E3",
             "linecolor": "#C8D4E3",
             "minorgridcolor": "#C8D4E3",
             "startlinecolor": "#2a3f5f"
            },
            "baxis": {
             "endlinecolor": "#2a3f5f",
             "gridcolor": "#C8D4E3",
             "linecolor": "#C8D4E3",
             "minorgridcolor": "#C8D4E3",
             "startlinecolor": "#2a3f5f"
            },
            "type": "carpet"
           }
          ],
          "choropleth": [
           {
            "colorbar": {
             "outlinewidth": 0,
             "ticks": ""
            },
            "type": "choropleth"
           }
          ],
          "contour": [
           {
            "colorbar": {
             "outlinewidth": 0,
             "ticks": ""
            },
            "colorscale": [
             [
              0,
              "#0d0887"
             ],
             [
              0.1111111111111111,
              "#46039f"
             ],
             [
              0.2222222222222222,
              "#7201a8"
             ],
             [
              0.3333333333333333,
              "#9c179e"
             ],
             [
              0.4444444444444444,
              "#bd3786"
             ],
             [
              0.5555555555555556,
              "#d8576b"
             ],
             [
              0.6666666666666666,
              "#ed7953"
             ],
             [
              0.7777777777777778,
              "#fb9f3a"
             ],
             [
              0.8888888888888888,
              "#fdca26"
             ],
             [
              1,
              "#f0f921"
             ]
            ],
            "type": "contour"
           }
          ],
          "contourcarpet": [
           {
            "colorbar": {
             "outlinewidth": 0,
             "ticks": ""
            },
            "type": "contourcarpet"
           }
          ],
          "heatmap": [
           {
            "colorbar": {
             "outlinewidth": 0,
             "ticks": ""
            },
            "colorscale": [
             [
              0,
              "#0d0887"
             ],
             [
              0.1111111111111111,
              "#46039f"
             ],
             [
              0.2222222222222222,
              "#7201a8"
             ],
             [
              0.3333333333333333,
              "#9c179e"
             ],
             [
              0.4444444444444444,
              "#bd3786"
             ],
             [
              0.5555555555555556,
              "#d8576b"
             ],
             [
              0.6666666666666666,
              "#ed7953"
             ],
             [
              0.7777777777777778,
              "#fb9f3a"
             ],
             [
              0.8888888888888888,
              "#fdca26"
             ],
             [
              1,
              "#f0f921"
             ]
            ],
            "type": "heatmap"
           }
          ],
          "histogram": [
           {
            "marker": {
             "pattern": {
              "fillmode": "overlay",
              "size": 10,
              "solidity": 0.2
             }
            },
            "type": "histogram"
           }
          ],
          "histogram2d": [
           {
            "colorbar": {
             "outlinewidth": 0,
             "ticks": ""
            },
            "colorscale": [
             [
              0,
              "#0d0887"
             ],
             [
              0.1111111111111111,
              "#46039f"
             ],
             [
              0.2222222222222222,
              "#7201a8"
             ],
             [
              0.3333333333333333,
              "#9c179e"
             ],
             [
              0.4444444444444444,
              "#bd3786"
             ],
             [
              0.5555555555555556,
              "#d8576b"
             ],
             [
              0.6666666666666666,
              "#ed7953"
             ],
             [
              0.7777777777777778,
              "#fb9f3a"
             ],
             [
              0.8888888888888888,
              "#fdca26"
             ],
             [
              1,
              "#f0f921"
             ]
            ],
            "type": "histogram2d"
           }
          ],
          "histogram2dcontour": [
           {
            "colorbar": {
             "outlinewidth": 0,
             "ticks": ""
            },
            "colorscale": [
             [
              0,
              "#0d0887"
             ],
             [
              0.1111111111111111,
              "#46039f"
             ],
             [
              0.2222222222222222,
              "#7201a8"
             ],
             [
              0.3333333333333333,
              "#9c179e"
             ],
             [
              0.4444444444444444,
              "#bd3786"
             ],
             [
              0.5555555555555556,
              "#d8576b"
             ],
             [
              0.6666666666666666,
              "#ed7953"
             ],
             [
              0.7777777777777778,
              "#fb9f3a"
             ],
             [
              0.8888888888888888,
              "#fdca26"
             ],
             [
              1,
              "#f0f921"
             ]
            ],
            "type": "histogram2dcontour"
           }
          ],
          "mesh3d": [
           {
            "colorbar": {
             "outlinewidth": 0,
             "ticks": ""
            },
            "type": "mesh3d"
           }
          ],
          "parcoords": [
           {
            "line": {
             "colorbar": {
              "outlinewidth": 0,
              "ticks": ""
             }
            },
            "type": "parcoords"
           }
          ],
          "pie": [
           {
            "automargin": true,
            "type": "pie"
           }
          ],
          "scatter": [
           {
            "fillpattern": {
             "fillmode": "overlay",
             "size": 10,
             "solidity": 0.2
            },
            "type": "scatter"
           }
          ],
          "scatter3d": [
           {
            "line": {
             "colorbar": {
              "outlinewidth": 0,
              "ticks": ""
             }
            },
            "marker": {
             "colorbar": {
              "outlinewidth": 0,
              "ticks": ""
             }
            },
            "type": "scatter3d"
           }
          ],
          "scattercarpet": [
           {
            "marker": {
             "colorbar": {
              "outlinewidth": 0,
              "ticks": ""
             }
            },
            "type": "scattercarpet"
           }
          ],
          "scattergeo": [
           {
            "marker": {
             "colorbar": {
              "outlinewidth": 0,
              "ticks": ""
             }
            },
            "type": "scattergeo"
           }
          ],
          "scattergl": [
           {
            "marker": {
             "colorbar": {
              "outlinewidth": 0,
              "ticks": ""
             }
            },
            "type": "scattergl"
           }
          ],
          "scattermap": [
           {
            "marker": {
             "colorbar": {
              "outlinewidth": 0,
              "ticks": ""
             }
            },
            "type": "scattermap"
           }
          ],
          "scattermapbox": [
           {
            "marker": {
             "colorbar": {
              "outlinewidth": 0,
              "ticks": ""
             }
            },
            "type": "scattermapbox"
           }
          ],
          "scatterpolar": [
           {
            "marker": {
             "colorbar": {
              "outlinewidth": 0,
              "ticks": ""
             }
            },
            "type": "scatterpolar"
           }
          ],
          "scatterpolargl": [
           {
            "marker": {
             "colorbar": {
              "outlinewidth": 0,
              "ticks": ""
             }
            },
            "type": "scatterpolargl"
           }
          ],
          "scatterternary": [
           {
            "marker": {
             "colorbar": {
              "outlinewidth": 0,
              "ticks": ""
             }
            },
            "type": "scatterternary"
           }
          ],
          "surface": [
           {
            "colorbar": {
             "outlinewidth": 0,
             "ticks": ""
            },
            "colorscale": [
             [
              0,
              "#0d0887"
             ],
             [
              0.1111111111111111,
              "#46039f"
             ],
             [
              0.2222222222222222,
              "#7201a8"
             ],
             [
              0.3333333333333333,
              "#9c179e"
             ],
             [
              0.4444444444444444,
              "#bd3786"
             ],
             [
              0.5555555555555556,
              "#d8576b"
             ],
             [
              0.6666666666666666,
              "#ed7953"
             ],
             [
              0.7777777777777778,
              "#fb9f3a"
             ],
             [
              0.8888888888888888,
              "#fdca26"
             ],
             [
              1,
              "#f0f921"
             ]
            ],
            "type": "surface"
           }
          ],
          "table": [
           {
            "cells": {
             "fill": {
              "color": "#EBF0F8"
             },
             "line": {
              "color": "white"
             }
            },
            "header": {
             "fill": {
              "color": "#C8D4E3"
             },
             "line": {
              "color": "white"
             }
            },
            "type": "table"
           }
          ]
         },
         "layout": {
          "annotationdefaults": {
           "arrowcolor": "#2a3f5f",
           "arrowhead": 0,
           "arrowwidth": 1
          },
          "autotypenumbers": "strict",
          "coloraxis": {
           "colorbar": {
            "outlinewidth": 0,
            "ticks": ""
           }
          },
          "colorscale": {
           "diverging": [
            [
             0,
             "#8e0152"
            ],
            [
             0.1,
             "#c51b7d"
            ],
            [
             0.2,
             "#de77ae"
            ],
            [
             0.3,
             "#f1b6da"
            ],
            [
             0.4,
             "#fde0ef"
            ],
            [
             0.5,
             "#f7f7f7"
            ],
            [
             0.6,
             "#e6f5d0"
            ],
            [
             0.7,
             "#b8e186"
            ],
            [
             0.8,
             "#7fbc41"
            ],
            [
             0.9,
             "#4d9221"
            ],
            [
             1,
             "#276419"
            ]
           ],
           "sequential": [
            [
             0,
             "#0d0887"
            ],
            [
             0.1111111111111111,
             "#46039f"
            ],
            [
             0.2222222222222222,
             "#7201a8"
            ],
            [
             0.3333333333333333,
             "#9c179e"
            ],
            [
             0.4444444444444444,
             "#bd3786"
            ],
            [
             0.5555555555555556,
             "#d8576b"
            ],
            [
             0.6666666666666666,
             "#ed7953"
            ],
            [
             0.7777777777777778,
             "#fb9f3a"
            ],
            [
             0.8888888888888888,
             "#fdca26"
            ],
            [
             1,
             "#f0f921"
            ]
           ],
           "sequentialminus": [
            [
             0,
             "#0d0887"
            ],
            [
             0.1111111111111111,
             "#46039f"
            ],
            [
             0.2222222222222222,
             "#7201a8"
            ],
            [
             0.3333333333333333,
             "#9c179e"
            ],
            [
             0.4444444444444444,
             "#bd3786"
            ],
            [
             0.5555555555555556,
             "#d8576b"
            ],
            [
             0.6666666666666666,
             "#ed7953"
            ],
            [
             0.7777777777777778,
             "#fb9f3a"
            ],
            [
             0.8888888888888888,
             "#fdca26"
            ],
            [
             1,
             "#f0f921"
            ]
           ]
          },
          "colorway": [
           "#636efa",
           "#EF553B",
           "#00cc96",
           "#ab63fa",
           "#FFA15A",
           "#19d3f3",
           "#FF6692",
           "#B6E880",
           "#FF97FF",
           "#FECB52"
          ],
          "font": {
           "color": "#2a3f5f"
          },
          "geo": {
           "bgcolor": "white",
           "lakecolor": "white",
           "landcolor": "white",
           "showlakes": true,
           "showland": true,
           "subunitcolor": "#C8D4E3"
          },
          "hoverlabel": {
           "align": "left"
          },
          "hovermode": "closest",
          "mapbox": {
           "style": "light"
          },
          "paper_bgcolor": "white",
          "plot_bgcolor": "white",
          "polar": {
           "angularaxis": {
            "gridcolor": "#EBF0F8",
            "linecolor": "#EBF0F8",
            "ticks": ""
           },
           "bgcolor": "white",
           "radialaxis": {
            "gridcolor": "#EBF0F8",
            "linecolor": "#EBF0F8",
            "ticks": ""
           }
          },
          "scene": {
           "xaxis": {
            "backgroundcolor": "white",
            "gridcolor": "#DFE8F3",
            "gridwidth": 2,
            "linecolor": "#EBF0F8",
            "showbackground": true,
            "ticks": "",
            "zerolinecolor": "#EBF0F8"
           },
           "yaxis": {
            "backgroundcolor": "white",
            "gridcolor": "#DFE8F3",
            "gridwidth": 2,
            "linecolor": "#EBF0F8",
            "showbackground": true,
            "ticks": "",
            "zerolinecolor": "#EBF0F8"
           },
           "zaxis": {
            "backgroundcolor": "white",
            "gridcolor": "#DFE8F3",
            "gridwidth": 2,
            "linecolor": "#EBF0F8",
            "showbackground": true,
            "ticks": "",
            "zerolinecolor": "#EBF0F8"
           }
          },
          "shapedefaults": {
           "line": {
            "color": "#2a3f5f"
           }
          },
          "ternary": {
           "aaxis": {
            "gridcolor": "#DFE8F3",
            "linecolor": "#A2B1C6",
            "ticks": ""
           },
           "baxis": {
            "gridcolor": "#DFE8F3",
            "linecolor": "#A2B1C6",
            "ticks": ""
           },
           "bgcolor": "white",
           "caxis": {
            "gridcolor": "#DFE8F3",
            "linecolor": "#A2B1C6",
            "ticks": ""
           }
          },
          "title": {
           "x": 0.05
          },
          "xaxis": {
           "automargin": true,
           "gridcolor": "#EBF0F8",
           "linecolor": "#EBF0F8",
           "ticks": "",
           "title": {
            "standoff": 15
           },
           "zerolinecolor": "#EBF0F8",
           "zerolinewidth": 2
          },
          "yaxis": {
           "automargin": true,
           "gridcolor": "#EBF0F8",
           "linecolor": "#EBF0F8",
           "ticks": "",
           "title": {
            "standoff": 15
           },
           "zerolinecolor": "#EBF0F8",
           "zerolinewidth": 2
          }
         }
        },
        "title": {
         "text": "Linear regression model"
        },
        "width": 700,
        "xaxis": {
         "title": {
          "text": "Independent variable"
         }
        },
        "yaxis": {
         "title": {
          "text": "Dependent variable"
         }
        }
       }
      }
     },
     "metadata": {},
     "output_type": "display_data"
    }
   ],
   "source": [
    "# Make a linear regression model on a plot. Make the fitted line red and the dots blue. \n",
    "fig = go.Figure()\n",
    "fig.add_trace(go.Scatter(x=independent, y=dependent,\n",
    "                         mode='markers',\n",
    "                         marker=dict(size=12),\n",
    "                         name='Data'))\n",
    "fig.add_trace(go.Scatter(x=independent, y=model.predict(X),\n",
    "                            mode='lines',\n",
    "                            line=dict(color='red', width=2),\n",
    "                            name='Fitted line'))\n",
    "fig.update_layout(title='Linear regression model',\n",
    "                    yaxis=dict(title='Dependent variable'),\n",
    "                    xaxis=dict(title='Independent variable')).update_layout(\n",
    "                        width=700\n",
    "                    )"
   ]
  },
  {
   "cell_type": "markdown",
   "metadata": {},
   "source": [
    "### <span style=\"color: MediumPurple;\"> Ordinary Least Squares <span>"
   ]
  },
  {
   "cell_type": "code",
   "execution_count": 42,
   "metadata": {},
   "outputs": [],
   "source": [
    "linear_model = sm.OLS(y, X).fit()"
   ]
  },
  {
   "cell_type": "code",
   "execution_count": 43,
   "metadata": {},
   "outputs": [
    {
     "data": {
      "text/html": [
       "<table class=\"simpletable\">\n",
       "<tr>\n",
       "        <td>Model:</td>               <td>OLS</td>         <td>Adj. R-squared:</td>     <td>0.503</td> \n",
       "</tr>\n",
       "<tr>\n",
       "  <td>Dependent Variable:</td>     <td>Dependent</td>           <td>AIC:</td>         <td>306.0983</td>\n",
       "</tr>\n",
       "<tr>\n",
       "         <td>Date:</td>        <td>2025-04-22 10:11</td>        <td>BIC:</td>         <td>309.9223</td>\n",
       "</tr>\n",
       "<tr>\n",
       "   <td>No. Observations:</td>         <td>50</td>          <td>Log-Likelihood:</td>    <td>-151.05</td>\n",
       "</tr>\n",
       "<tr>\n",
       "       <td>Df Model:</td>              <td>1</td>           <td>F-statistic:</td>       <td>50.53</td> \n",
       "</tr>\n",
       "<tr>\n",
       "     <td>Df Residuals:</td>           <td>48</td>        <td>Prob (F-statistic):</td> <td>5.02e-09</td>\n",
       "</tr>\n",
       "<tr>\n",
       "      <td>R-squared:</td>            <td>0.513</td>            <td>Scale:</td>         <td>25.659</td> \n",
       "</tr>\n",
       "</table>\n",
       "<table class=\"simpletable\">\n",
       "<tr>\n",
       "       <td></td>        <th>Coef.</th> <th>Std.Err.</th>    <th>t</th>    <th>P>|t|</th>  <th>[0.025</th>  <th>0.975]</th> \n",
       "</tr>\n",
       "<tr>\n",
       "  <th>Intercept</th>   <td>1.7253</td>  <td>12.5032</td> <td>0.1380</td> <td>0.8908</td> <td>-23.4140</td> <td>26.8646</td>\n",
       "</tr>\n",
       "<tr>\n",
       "  <th>Independent</th> <td>0.9843</td>  <td>0.1385</td>  <td>7.1083</td> <td>0.0000</td>  <td>0.7059</td>  <td>1.2628</td> \n",
       "</tr>\n",
       "</table>\n",
       "<table class=\"simpletable\">\n",
       "<tr>\n",
       "     <td>Omnibus:</td>    <td>0.158</td>  <td>Durbin-Watson:</td>   <td>1.583</td>\n",
       "</tr>\n",
       "<tr>\n",
       "  <td>Prob(Omnibus):</td> <td>0.924</td> <td>Jarque-Bera (JB):</td> <td>0.365</td>\n",
       "</tr>\n",
       "<tr>\n",
       "       <td>Skew:</td>     <td>0.011</td>     <td>Prob(JB):</td>     <td>0.833</td>\n",
       "</tr>\n",
       "<tr>\n",
       "     <td>Kurtosis:</td>   <td>2.582</td>  <td>Condition No.:</td>   <td>1576</td> \n",
       "</tr>\n",
       "</table><br/>\n",
       "Notes:<br/>\n",
       "[1] Standard Errors assume that the covariance matrix of the errors is correctly specified.<br/>\n",
       "[2] The condition number is large, 1.58e+03. This might indicate                that there are strong multicollinearity or other numerical                problems."
      ],
      "text/latex": [
       "\\begin{table}\n",
       "\\caption{Results: Ordinary least squares}\n",
       "\\label{}\n",
       "\\begin{center}\n",
       "\\begin{tabular}{llll}\n",
       "\\hline\n",
       "Model:              & OLS              & Adj. R-squared:     & 0.503     \\\\\n",
       "Dependent Variable: & Dependent        & AIC:                & 306.0983  \\\\\n",
       "Date:               & 2025-04-22 10:11 & BIC:                & 309.9223  \\\\\n",
       "No. Observations:   & 50               & Log-Likelihood:     & -151.05   \\\\\n",
       "Df Model:           & 1                & F-statistic:        & 50.53     \\\\\n",
       "Df Residuals:       & 48               & Prob (F-statistic): & 5.02e-09  \\\\\n",
       "R-squared:          & 0.513            & Scale:              & 25.659    \\\\\n",
       "\\hline\n",
       "\\end{tabular}\n",
       "\\end{center}\n",
       "\n",
       "\\begin{center}\n",
       "\\begin{tabular}{lrrrrrr}\n",
       "\\hline\n",
       "            &  Coef. & Std.Err. &      t & P$> |$t$|$ &   [0.025 &  0.975]  \\\\\n",
       "\\hline\n",
       "Intercept   & 1.7253 &  12.5032 & 0.1380 &      0.8908 & -23.4140 & 26.8646  \\\\\n",
       "Independent & 0.9843 &   0.1385 & 7.1083 &      0.0000 &   0.7059 &  1.2628  \\\\\n",
       "\\hline\n",
       "\\end{tabular}\n",
       "\\end{center}\n",
       "\n",
       "\\begin{center}\n",
       "\\begin{tabular}{llll}\n",
       "\\hline\n",
       "Omnibus:       & 0.158 & Durbin-Watson:    & 1.583  \\\\\n",
       "Prob(Omnibus): & 0.924 & Jarque-Bera (JB): & 0.365  \\\\\n",
       "Skew:          & 0.011 & Prob(JB):         & 0.833  \\\\\n",
       "Kurtosis:      & 2.582 & Condition No.:    & 1576   \\\\\n",
       "\\hline\n",
       "\\end{tabular}\n",
       "\\end{center}\n",
       "\\end{table}\n",
       "\\bigskip\n",
       "Notes: \\newline \n",
       "[1] Standard Errors assume that the covariance matrix of the errors is correctly specified. \\newline \n",
       "[2] The condition number is large, 1.58e+03. This might indicate                that there are strong multicollinearity or other numerical                problems."
      ],
      "text/plain": [
       "<class 'statsmodels.iolib.summary2.Summary'>\n",
       "\"\"\"\n",
       "                 Results: Ordinary least squares\n",
       "=================================================================\n",
       "Model:              OLS              Adj. R-squared:     0.503   \n",
       "Dependent Variable: Dependent        AIC:                306.0983\n",
       "Date:               2025-04-22 10:11 BIC:                309.9223\n",
       "No. Observations:   50               Log-Likelihood:     -151.05 \n",
       "Df Model:           1                F-statistic:        50.53   \n",
       "Df Residuals:       48               Prob (F-statistic): 5.02e-09\n",
       "R-squared:          0.513            Scale:              25.659  \n",
       "------------------------------------------------------------------\n",
       "               Coef.   Std.Err.    t     P>|t|    [0.025    0.975]\n",
       "------------------------------------------------------------------\n",
       "Intercept      1.7253   12.5032  0.1380  0.8908  -23.4140  26.8646\n",
       "Independent    0.9843    0.1385  7.1083  0.0000    0.7059   1.2628\n",
       "-----------------------------------------------------------------\n",
       "Omnibus:              0.158        Durbin-Watson:           1.583\n",
       "Prob(Omnibus):        0.924        Jarque-Bera (JB):        0.365\n",
       "Skew:                 0.011        Prob(JB):                0.833\n",
       "Kurtosis:             2.582        Condition No.:           1576 \n",
       "=================================================================\n",
       "Notes:\n",
       "[1] Standard Errors assume that the covariance matrix of the\n",
       "errors is correctly specified.\n",
       "[2] The condition number is large, 1.58e+03. This might indicate\n",
       "that there are strong multicollinearity or other numerical\n",
       "problems.\n",
       "\"\"\""
      ]
     },
     "execution_count": 43,
     "metadata": {},
     "output_type": "execute_result"
    }
   ],
   "source": [
    "linear_model.summary2()"
   ]
  },
  {
   "cell_type": "code",
   "execution_count": 44,
   "metadata": {},
   "outputs": [
    {
     "data": {
      "application/vnd.plotly.v1+json": {
       "config": {
        "plotlyServerURL": "https://plot.ly"
       },
       "data": [
        {
         "marker": {
          "size": 12
         },
         "mode": "markers",
         "name": "Data",
         "type": "scatter",
         "x": {
          "bdata": "AAAAAABgVEBmZmZmZuZXQDMzMzMzM1ZAAAAAAACgV0BmZmZmZuZYQDMzMzMzs1ZAAAAAAACAVkCamZmZmVlUQJqZmZmZWVVAAAAAAACAVkBmZmZmZmZXQGZmZmZmBlhAZmZmZmbmVUAzMzMzM1NUQDMzMzMzc1VAzczMzMyMWEAzMzMzMxNVQAAAAAAAQFZAZmZmZmamWEAAAAAAACBUQAAAAAAAAFdAAAAAAADAWEBmZmZmZiZVQAAAAAAAwFZAzczMzMyMWEDNzMzMzKxUQAAAAAAAoFZAAAAAAADAV0CamZmZmVlXQJqZmZmZWVZAZmZmZmYGVUAzMzMzM3NWQJqZmZmZ2VVAAAAAAABgVkAzMzMzM9NVQDMzMzMzM1hAmpmZmZnZV0AzMzMzM5NVQAAAAAAA4FZAAAAAAABgVUBmZmZmZkZWQGZmZmZmxlVAZmZmZmZGV0CamZmZmdlVQM3MzMzMTFZAmpmZmZmZV0AzMzMzMxNWQGZmZmZmhlhAZmZmZmbmVEAzMzMzM7NXQA==",
          "dtype": "f8"
         },
         "y": {
          "bdata": "AAAAAABAUkBmZmZmZqZVQM3MzMzMrFZAzczMzMxsWkCamZmZmTlZQM3MzMzMDFZAZmZmZmbmWEBmZmZmZqZUQJqZmZmZeVVAMzMzMzPTVkCamZmZmTlXQGZmZmZmpldAmpmZmZkZVEAzMzMzM/NUQDMzMzMzU1VAzczMzMwMWkAAAAAAAKBUQAAAAAAA4FNAZmZmZmaGWEAAAAAAAEBWQGZmZmZmhlZAZmZmZmamV0BmZmZmZqZTQM3MzMzMbFVAzczMzMwsWEAzMzMzMzNTQAAAAAAAgFhAZmZmZmZmV0CamZmZmXlXQGZmZmZmJlhAZmZmZmbmVkDNzMzMzCxWQGZmZmZmRlZAzczMzMxMV0AzMzMzM5NVQJqZmZmZ+VVAzczMzMysWEAzMzMzM7NWQGZmZmZmZldAmpmZmZk5VEBmZmZmZgZWQGZmZmZmBlVAZmZmZmbmVkCamZmZmXlXQDMzMzMzM1hAzczMzMxsWEAAAAAAAMBWQAAAAAAAYFlAAAAAAADgVECamZmZmZlXQA==",
          "dtype": "f8"
         }
        },
        {
         "mode": "lines",
         "name": "Best model",
         "type": "scatter",
         "x": {
          "bdata": "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",
          "dtype": "f8"
         },
         "y": {
          "bdata": "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",
          "dtype": "f8"
         }
        }
       ],
       "layout": {
        "template": {
         "data": {
          "bar": [
           {
            "error_x": {
             "color": "#2a3f5f"
            },
            "error_y": {
             "color": "#2a3f5f"
            },
            "marker": {
             "line": {
              "color": "white",
              "width": 0.5
             },
             "pattern": {
              "fillmode": "overlay",
              "size": 10,
              "solidity": 0.2
             }
            },
            "type": "bar"
           }
          ],
          "barpolar": [
           {
            "marker": {
             "line": {
              "color": "white",
              "width": 0.5
             },
             "pattern": {
              "fillmode": "overlay",
              "size": 10,
              "solidity": 0.2
             }
            },
            "type": "barpolar"
           }
          ],
          "carpet": [
           {
            "aaxis": {
             "endlinecolor": "#2a3f5f",
             "gridcolor": "#C8D4E3",
             "linecolor": "#C8D4E3",
             "minorgridcolor": "#C8D4E3",
             "startlinecolor": "#2a3f5f"
            },
            "baxis": {
             "endlinecolor": "#2a3f5f",
             "gridcolor": "#C8D4E3",
             "linecolor": "#C8D4E3",
             "minorgridcolor": "#C8D4E3",
             "startlinecolor": "#2a3f5f"
            },
            "type": "carpet"
           }
          ],
          "choropleth": [
           {
            "colorbar": {
             "outlinewidth": 0,
             "ticks": ""
            },
            "type": "choropleth"
           }
          ],
          "contour": [
           {
            "colorbar": {
             "outlinewidth": 0,
             "ticks": ""
            },
            "colorscale": [
             [
              0,
              "#0d0887"
             ],
             [
              0.1111111111111111,
              "#46039f"
             ],
             [
              0.2222222222222222,
              "#7201a8"
             ],
             [
              0.3333333333333333,
              "#9c179e"
             ],
             [
              0.4444444444444444,
              "#bd3786"
             ],
             [
              0.5555555555555556,
              "#d8576b"
             ],
             [
              0.6666666666666666,
              "#ed7953"
             ],
             [
              0.7777777777777778,
              "#fb9f3a"
             ],
             [
              0.8888888888888888,
              "#fdca26"
             ],
             [
              1,
              "#f0f921"
             ]
            ],
            "type": "contour"
           }
          ],
          "contourcarpet": [
           {
            "colorbar": {
             "outlinewidth": 0,
             "ticks": ""
            },
            "type": "contourcarpet"
           }
          ],
          "heatmap": [
           {
            "colorbar": {
             "outlinewidth": 0,
             "ticks": ""
            },
            "colorscale": [
             [
              0,
              "#0d0887"
             ],
             [
              0.1111111111111111,
              "#46039f"
             ],
             [
              0.2222222222222222,
              "#7201a8"
             ],
             [
              0.3333333333333333,
              "#9c179e"
             ],
             [
              0.4444444444444444,
              "#bd3786"
             ],
             [
              0.5555555555555556,
              "#d8576b"
             ],
             [
              0.6666666666666666,
              "#ed7953"
             ],
             [
              0.7777777777777778,
              "#fb9f3a"
             ],
             [
              0.8888888888888888,
              "#fdca26"
             ],
             [
              1,
              "#f0f921"
             ]
            ],
            "type": "heatmap"
           }
          ],
          "histogram": [
           {
            "marker": {
             "pattern": {
              "fillmode": "overlay",
              "size": 10,
              "solidity": 0.2
             }
            },
            "type": "histogram"
           }
          ],
          "histogram2d": [
           {
            "colorbar": {
             "outlinewidth": 0,
             "ticks": ""
            },
            "colorscale": [
             [
              0,
              "#0d0887"
             ],
             [
              0.1111111111111111,
              "#46039f"
             ],
             [
              0.2222222222222222,
              "#7201a8"
             ],
             [
              0.3333333333333333,
              "#9c179e"
             ],
             [
              0.4444444444444444,
              "#bd3786"
             ],
             [
              0.5555555555555556,
              "#d8576b"
             ],
             [
              0.6666666666666666,
              "#ed7953"
             ],
             [
              0.7777777777777778,
              "#fb9f3a"
             ],
             [
              0.8888888888888888,
              "#fdca26"
             ],
             [
              1,
              "#f0f921"
             ]
            ],
            "type": "histogram2d"
           }
          ],
          "histogram2dcontour": [
           {
            "colorbar": {
             "outlinewidth": 0,
             "ticks": ""
            },
            "colorscale": [
             [
              0,
              "#0d0887"
             ],
             [
              0.1111111111111111,
              "#46039f"
             ],
             [
              0.2222222222222222,
              "#7201a8"
             ],
             [
              0.3333333333333333,
              "#9c179e"
             ],
             [
              0.4444444444444444,
              "#bd3786"
             ],
             [
              0.5555555555555556,
              "#d8576b"
             ],
             [
              0.6666666666666666,
              "#ed7953"
             ],
             [
              0.7777777777777778,
              "#fb9f3a"
             ],
             [
              0.8888888888888888,
              "#fdca26"
             ],
             [
              1,
              "#f0f921"
             ]
            ],
            "type": "histogram2dcontour"
           }
          ],
          "mesh3d": [
           {
            "colorbar": {
             "outlinewidth": 0,
             "ticks": ""
            },
            "type": "mesh3d"
           }
          ],
          "parcoords": [
           {
            "line": {
             "colorbar": {
              "outlinewidth": 0,
              "ticks": ""
             }
            },
            "type": "parcoords"
           }
          ],
          "pie": [
           {
            "automargin": true,
            "type": "pie"
           }
          ],
          "scatter": [
           {
            "fillpattern": {
             "fillmode": "overlay",
             "size": 10,
             "solidity": 0.2
            },
            "type": "scatter"
           }
          ],
          "scatter3d": [
           {
            "line": {
             "colorbar": {
              "outlinewidth": 0,
              "ticks": ""
             }
            },
            "marker": {
             "colorbar": {
              "outlinewidth": 0,
              "ticks": ""
             }
            },
            "type": "scatter3d"
           }
          ],
          "scattercarpet": [
           {
            "marker": {
             "colorbar": {
              "outlinewidth": 0,
              "ticks": ""
             }
            },
            "type": "scattercarpet"
           }
          ],
          "scattergeo": [
           {
            "marker": {
             "colorbar": {
              "outlinewidth": 0,
              "ticks": ""
             }
            },
            "type": "scattergeo"
           }
          ],
          "scattergl": [
           {
            "marker": {
             "colorbar": {
              "outlinewidth": 0,
              "ticks": ""
             }
            },
            "type": "scattergl"
           }
          ],
          "scattermap": [
           {
            "marker": {
             "colorbar": {
              "outlinewidth": 0,
              "ticks": ""
             }
            },
            "type": "scattermap"
           }
          ],
          "scattermapbox": [
           {
            "marker": {
             "colorbar": {
              "outlinewidth": 0,
              "ticks": ""
             }
            },
            "type": "scattermapbox"
           }
          ],
          "scatterpolar": [
           {
            "marker": {
             "colorbar": {
              "outlinewidth": 0,
              "ticks": ""
             }
            },
            "type": "scatterpolar"
           }
          ],
          "scatterpolargl": [
           {
            "marker": {
             "colorbar": {
              "outlinewidth": 0,
              "ticks": ""
             }
            },
            "type": "scatterpolargl"
           }
          ],
          "scatterternary": [
           {
            "marker": {
             "colorbar": {
              "outlinewidth": 0,
              "ticks": ""
             }
            },
            "type": "scatterternary"
           }
          ],
          "surface": [
           {
            "colorbar": {
             "outlinewidth": 0,
             "ticks": ""
            },
            "colorscale": [
             [
              0,
              "#0d0887"
             ],
             [
              0.1111111111111111,
              "#46039f"
             ],
             [
              0.2222222222222222,
              "#7201a8"
             ],
             [
              0.3333333333333333,
              "#9c179e"
             ],
             [
              0.4444444444444444,
              "#bd3786"
             ],
             [
              0.5555555555555556,
              "#d8576b"
             ],
             [
              0.6666666666666666,
              "#ed7953"
             ],
             [
              0.7777777777777778,
              "#fb9f3a"
             ],
             [
              0.8888888888888888,
              "#fdca26"
             ],
             [
              1,
              "#f0f921"
             ]
            ],
            "type": "surface"
           }
          ],
          "table": [
           {
            "cells": {
             "fill": {
              "color": "#EBF0F8"
             },
             "line": {
              "color": "white"
             }
            },
            "header": {
             "fill": {
              "color": "#C8D4E3"
             },
             "line": {
              "color": "white"
             }
            },
            "type": "table"
           }
          ]
         },
         "layout": {
          "annotationdefaults": {
           "arrowcolor": "#2a3f5f",
           "arrowhead": 0,
           "arrowwidth": 1
          },
          "autotypenumbers": "strict",
          "coloraxis": {
           "colorbar": {
            "outlinewidth": 0,
            "ticks": ""
           }
          },
          "colorscale": {
           "diverging": [
            [
             0,
             "#8e0152"
            ],
            [
             0.1,
             "#c51b7d"
            ],
            [
             0.2,
             "#de77ae"
            ],
            [
             0.3,
             "#f1b6da"
            ],
            [
             0.4,
             "#fde0ef"
            ],
            [
             0.5,
             "#f7f7f7"
            ],
            [
             0.6,
             "#e6f5d0"
            ],
            [
             0.7,
             "#b8e186"
            ],
            [
             0.8,
             "#7fbc41"
            ],
            [
             0.9,
             "#4d9221"
            ],
            [
             1,
             "#276419"
            ]
           ],
           "sequential": [
            [
             0,
             "#0d0887"
            ],
            [
             0.1111111111111111,
             "#46039f"
            ],
            [
             0.2222222222222222,
             "#7201a8"
            ],
            [
             0.3333333333333333,
             "#9c179e"
            ],
            [
             0.4444444444444444,
             "#bd3786"
            ],
            [
             0.5555555555555556,
             "#d8576b"
            ],
            [
             0.6666666666666666,
             "#ed7953"
            ],
            [
             0.7777777777777778,
             "#fb9f3a"
            ],
            [
             0.8888888888888888,
             "#fdca26"
            ],
            [
             1,
             "#f0f921"
            ]
           ],
           "sequentialminus": [
            [
             0,
             "#0d0887"
            ],
            [
             0.1111111111111111,
             "#46039f"
            ],
            [
             0.2222222222222222,
             "#7201a8"
            ],
            [
             0.3333333333333333,
             "#9c179e"
            ],
            [
             0.4444444444444444,
             "#bd3786"
            ],
            [
             0.5555555555555556,
             "#d8576b"
            ],
            [
             0.6666666666666666,
             "#ed7953"
            ],
            [
             0.7777777777777778,
             "#fb9f3a"
            ],
            [
             0.8888888888888888,
             "#fdca26"
            ],
            [
             1,
             "#f0f921"
            ]
           ]
          },
          "colorway": [
           "#636efa",
           "#EF553B",
           "#00cc96",
           "#ab63fa",
           "#FFA15A",
           "#19d3f3",
           "#FF6692",
           "#B6E880",
           "#FF97FF",
           "#FECB52"
          ],
          "font": {
           "color": "#2a3f5f"
          },
          "geo": {
           "bgcolor": "white",
           "lakecolor": "white",
           "landcolor": "white",
           "showlakes": true,
           "showland": true,
           "subunitcolor": "#C8D4E3"
          },
          "hoverlabel": {
           "align": "left"
          },
          "hovermode": "closest",
          "mapbox": {
           "style": "light"
          },
          "paper_bgcolor": "white",
          "plot_bgcolor": "white",
          "polar": {
           "angularaxis": {
            "gridcolor": "#EBF0F8",
            "linecolor": "#EBF0F8",
            "ticks": ""
           },
           "bgcolor": "white",
           "radialaxis": {
            "gridcolor": "#EBF0F8",
            "linecolor": "#EBF0F8",
            "ticks": ""
           }
          },
          "scene": {
           "xaxis": {
            "backgroundcolor": "white",
            "gridcolor": "#DFE8F3",
            "gridwidth": 2,
            "linecolor": "#EBF0F8",
            "showbackground": true,
            "ticks": "",
            "zerolinecolor": "#EBF0F8"
           },
           "yaxis": {
            "backgroundcolor": "white",
            "gridcolor": "#DFE8F3",
            "gridwidth": 2,
            "linecolor": "#EBF0F8",
            "showbackground": true,
            "ticks": "",
            "zerolinecolor": "#EBF0F8"
           },
           "zaxis": {
            "backgroundcolor": "white",
            "gridcolor": "#DFE8F3",
            "gridwidth": 2,
            "linecolor": "#EBF0F8",
            "showbackground": true,
            "ticks": "",
            "zerolinecolor": "#EBF0F8"
           }
          },
          "shapedefaults": {
           "line": {
            "color": "#2a3f5f"
           }
          },
          "ternary": {
           "aaxis": {
            "gridcolor": "#DFE8F3",
            "linecolor": "#A2B1C6",
            "ticks": ""
           },
           "baxis": {
            "gridcolor": "#DFE8F3",
            "linecolor": "#A2B1C6",
            "ticks": ""
           },
           "bgcolor": "white",
           "caxis": {
            "gridcolor": "#DFE8F3",
            "linecolor": "#A2B1C6",
            "ticks": ""
           }
          },
          "title": {
           "x": 0.05
          },
          "xaxis": {
           "automargin": true,
           "gridcolor": "#EBF0F8",
           "linecolor": "#EBF0F8",
           "ticks": "",
           "title": {
            "standoff": 15
           },
           "zerolinecolor": "#EBF0F8",
           "zerolinewidth": 2
          },
          "yaxis": {
           "automargin": true,
           "gridcolor": "#EBF0F8",
           "linecolor": "#EBF0F8",
           "ticks": "",
           "title": {
            "standoff": 15
           },
           "zerolinecolor": "#EBF0F8",
           "zerolinewidth": 2
          }
         }
        },
        "title": {
         "text": "Best fit model"
        },
        "width": 700,
        "xaxis": {
         "title": {
          "text": "Independent variable"
         }
        },
        "yaxis": {
         "title": {
          "text": "Dependent variable"
         }
        }
       }
      }
     },
     "metadata": {},
     "output_type": "display_data"
    }
   ],
   "source": [
    "# Gerating x and y values for the line\n",
    "x_vals = np.arange(80, 100, 0.1)\n",
    "y_vals = 1.7253 + 0.9843 * x_vals\n",
    "\n",
    "go.Figure(data=go.Scatter(x=independent, y=dependent,\n",
    "    mode='markers',\n",
    "    name='Data',\n",
    "    marker=dict(size=12))).update_layout(title='Best fit model',\n",
    "        yaxis=dict(title='Dependent variable'),\n",
    "        xaxis=dict(title='Independent variable')).add_trace(go.Scatter(\n",
    "            x=x_vals, y=y_vals,\n",
    "            name='Best model',\n",
    "            mode='lines'\n",
    "        )).update_layout(\n",
    "            width=700\n",
    "        )"
   ]
  },
  {
   "cell_type": "code",
   "execution_count": 45,
   "metadata": {},
   "outputs": [
    {
     "data": {
      "text/plain": [
       "array([-8.94929966, -9.22854923,  1.56498957, 10.9542291 ,  1.134075  ,\n",
       "       -2.90369831,  9.28377684,  0.74913474,  0.11175897,  0.98377684,\n",
       "       -0.95986135, -1.7207212 , -7.5537977 ,  2.04756913, -0.88197861,\n",
       "        5.81215652, -2.20546269, -9.83187922, -0.68158106,  8.03504428,\n",
       "       -2.18491104, -4.57531863, -6.40076588, -5.6005671 , -1.68784348,\n",
       "       -6.33051239,  7.19160487, -1.63794287,  0.23700744,  6.8743832 ,\n",
       "        7.09140609, -1.41935437,  1.34307109,  3.37594881, -1.35849452,\n",
       "       -9.10976196,  3.06831956,  4.12584942,  1.80726093, -4.98667542,\n",
       "       -1.33031361, -3.36162573, -1.76768938,  6.14307109,  7.27125199,\n",
       "        3.0526635 ,  2.35716154,  3.21059091, -0.51642193, -0.64107408])"
      ]
     },
     "execution_count": 45,
     "metadata": {},
     "output_type": "execute_result"
    }
   ],
   "source": [
    "# Residuals of best model\n",
    "linear_model.resid"
   ]
  },
  {
   "cell_type": "code",
   "execution_count": 46,
   "metadata": {},
   "outputs": [
    {
     "data": {
      "text/plain": [
       "array([81.94929966, 95.82854923, 89.13501043, 94.7457709 , 99.765925  ,\n",
       "       91.10369831, 90.31622316, 81.85086526, 85.78824103, 90.31622316,\n",
       "       93.85986135, 96.3207212 , 87.9537977 , 81.75243087, 86.18197861,\n",
       "       98.38784348, 84.70546269, 89.33187922, 98.78158106, 80.96495572,\n",
       "       92.28491104, 99.17531863, 85.00076588, 91.3005671 , 98.38784348,\n",
       "       83.13051239, 90.80839513, 95.23794287, 93.66299256, 89.7256168 ,\n",
       "       84.50859391, 90.11935437, 87.75692891, 89.82405119, 87.65849452,\n",
       "       97.00976196, 95.63168044, 86.67415058, 91.79273907, 85.88667542,\n",
       "       89.43031361, 87.46162573, 93.36768938, 87.75692891, 89.52874801,\n",
       "       94.6473365 , 88.64283846, 98.28940909, 84.01642193, 95.04107408])"
      ]
     },
     "execution_count": 46,
     "metadata": {},
     "output_type": "execute_result"
    }
   ],
   "source": [
    "# Model predictions given the data\n",
    "linear_model.predict(X)"
   ]
  },
  {
   "cell_type": "code",
   "execution_count": 47,
   "metadata": {},
   "outputs": [
    {
     "data": {
      "text/plain": [
       "np.float64(24.633044299379904)"
      ]
     },
     "execution_count": 47,
     "metadata": {},
     "output_type": "execute_result"
    }
   ],
   "source": [
    "# Sum of squared errors for the model\n",
    "var_best_model = np.var(linear_model.resid)\n",
    "var_best_model"
   ]
  },
  {
   "cell_type": "code",
   "execution_count": 50,
   "metadata": {},
   "outputs": [
    {
     "data": {
      "text/plain": [
       "np.float64(50.56366400000001)"
      ]
     },
     "execution_count": 50,
     "metadata": {},
     "output_type": "execute_result"
    }
   ],
   "source": [
    "var_mean_model = np.var(dependent)\n",
    "var_mean_model"
   ]
  },
  {
   "cell_type": "code",
   "execution_count": 51,
   "metadata": {},
   "outputs": [
    {
     "data": {
      "text/plain": [
       "np.float64(0.5128311053688692)"
      ]
     },
     "execution_count": 51,
     "metadata": {},
     "output_type": "execute_result"
    }
   ],
   "source": [
    "# R squared\n",
    "(var_mean_model - var_best_model) / var_mean_model\n"
   ]
  },
  {
   "cell_type": "markdown",
   "metadata": {},
   "source": [
    "### <span style=\"color: MediumPurple;\"> Diagnostics <span>"
   ]
  },
  {
   "cell_type": "code",
   "execution_count": 52,
   "metadata": {},
   "outputs": [],
   "source": [
    "# Assign the residuals to a variable\n",
    "residuals = linear_model.resid # The residuals"
   ]
  },
  {
   "cell_type": "code",
   "execution_count": 53,
   "metadata": {},
   "outputs": [
    {
     "data": {
      "application/vnd.plotly.v1+json": {
       "config": {
        "plotlyServerURL": "https://plot.ly"
       },
       "data": [
        {
         "marker": {
          "size": 12
         },
         "mode": "markers",
         "name": "Residuals",
         "type": "scatter",
         "x": {
          "bdata": "AAAAAABgVEBmZmZmZuZXQDMzMzMzM1ZAAAAAAACgV0BmZmZmZuZYQDMzMzMzs1ZAAAAAAACAVkCamZmZmVlUQJqZmZmZWVVAAAAAAACAVkBmZmZmZmZXQGZmZmZmBlhAZmZmZmbmVUAzMzMzM1NUQDMzMzMzc1VAzczMzMyMWEAzMzMzMxNVQAAAAAAAQFZAZmZmZmamWEAAAAAAACBUQAAAAAAAAFdAAAAAAADAWEBmZmZmZiZVQAAAAAAAwFZAzczMzMyMWEDNzMzMzKxUQAAAAAAAoFZAAAAAAADAV0CamZmZmVlXQJqZmZmZWVZAZmZmZmYGVUAzMzMzM3NWQJqZmZmZ2VVAAAAAAABgVkAzMzMzM9NVQDMzMzMzM1hAmpmZmZnZV0AzMzMzM5NVQAAAAAAA4FZAAAAAAABgVUBmZmZmZkZWQGZmZmZmxlVAZmZmZmZGV0CamZmZmdlVQM3MzMzMTFZAmpmZmZmZV0AzMzMzMxNWQGZmZmZmhlhAZmZmZmbmVEAzMzMzM7NXQA==",
          "dtype": "f8"
         },
         "y": {
          "bdata": "mE7LmgrmIcAgGbJnBHUiwMD6vIAyCvk/WGSKt5DoJUCANv/TKyXyPwC2cC7GOgfACL6rMkuRIkAAh3Rp6fjnPwAwpGQ8nLw/AEcikRl77z+AKksmL7fuv8Bi+PQSiPu/QJiSvhY3HsDASrTsa2EAQACjdzIrOey/YOxh9aU/F0Cg6OifyaQBwMCOrRLsqSPAAMb8E4PP5b/Ylw5T8REgQEA7IKSyegHAgLf6UyBNEsAAZapeYpoZwGDq9Q/7ZhbAgE54KmgB+78wxtTWcVIZwEAvFxE0xBxAwBCulAM1+r8AQIV+QlbOPyAqkE9efxtAcIEvj5ldHECAOBLurLX2v0AP3xs4ffU/wJEvc/EBC0CAnnK/ZLz1v5gtUbgyOCLAAId/H+uLCEAwJder3oAQQEAjJ2+K6vw/8DbMClvyE8AA+03t9kj1vyDK1wec5ArAgMiKqHRI/L8Q9yo6gZIYQFCGGhXDFR1AwCDn1tprCECgsHiCd9sCQKDO50lKrwlAAPTnSoeG4L8ADNbJrYPkvw==",
          "dtype": "f8"
         }
        },
        {
         "mode": "lines",
         "name": "Zero line",
         "type": "scatter",
         "x": [
          80.5,
          99.6
         ],
         "y": [
          0,
          0
         ]
        }
       ],
       "layout": {
        "template": {
         "data": {
          "bar": [
           {
            "error_x": {
             "color": "#2a3f5f"
            },
            "error_y": {
             "color": "#2a3f5f"
            },
            "marker": {
             "line": {
              "color": "white",
              "width": 0.5
             },
             "pattern": {
              "fillmode": "overlay",
              "size": 10,
              "solidity": 0.2
             }
            },
            "type": "bar"
           }
          ],
          "barpolar": [
           {
            "marker": {
             "line": {
              "color": "white",
              "width": 0.5
             },
             "pattern": {
              "fillmode": "overlay",
              "size": 10,
              "solidity": 0.2
             }
            },
            "type": "barpolar"
           }
          ],
          "carpet": [
           {
            "aaxis": {
             "endlinecolor": "#2a3f5f",
             "gridcolor": "#C8D4E3",
             "linecolor": "#C8D4E3",
             "minorgridcolor": "#C8D4E3",
             "startlinecolor": "#2a3f5f"
            },
            "baxis": {
             "endlinecolor": "#2a3f5f",
             "gridcolor": "#C8D4E3",
             "linecolor": "#C8D4E3",
             "minorgridcolor": "#C8D4E3",
             "startlinecolor": "#2a3f5f"
            },
            "type": "carpet"
           }
          ],
          "choropleth": [
           {
            "colorbar": {
             "outlinewidth": 0,
             "ticks": ""
            },
            "type": "choropleth"
           }
          ],
          "contour": [
           {
            "colorbar": {
             "outlinewidth": 0,
             "ticks": ""
            },
            "colorscale": [
             [
              0,
              "#0d0887"
             ],
             [
              0.1111111111111111,
              "#46039f"
             ],
             [
              0.2222222222222222,
              "#7201a8"
             ],
             [
              0.3333333333333333,
              "#9c179e"
             ],
             [
              0.4444444444444444,
              "#bd3786"
             ],
             [
              0.5555555555555556,
              "#d8576b"
             ],
             [
              0.6666666666666666,
              "#ed7953"
             ],
             [
              0.7777777777777778,
              "#fb9f3a"
             ],
             [
              0.8888888888888888,
              "#fdca26"
             ],
             [
              1,
              "#f0f921"
             ]
            ],
            "type": "contour"
           }
          ],
          "contourcarpet": [
           {
            "colorbar": {
             "outlinewidth": 0,
             "ticks": ""
            },
            "type": "contourcarpet"
           }
          ],
          "heatmap": [
           {
            "colorbar": {
             "outlinewidth": 0,
             "ticks": ""
            },
            "colorscale": [
             [
              0,
              "#0d0887"
             ],
             [
              0.1111111111111111,
              "#46039f"
             ],
             [
              0.2222222222222222,
              "#7201a8"
             ],
             [
              0.3333333333333333,
              "#9c179e"
             ],
             [
              0.4444444444444444,
              "#bd3786"
             ],
             [
              0.5555555555555556,
              "#d8576b"
             ],
             [
              0.6666666666666666,
              "#ed7953"
             ],
             [
              0.7777777777777778,
              "#fb9f3a"
             ],
             [
              0.8888888888888888,
              "#fdca26"
             ],
             [
              1,
              "#f0f921"
             ]
            ],
            "type": "heatmap"
           }
          ],
          "histogram": [
           {
            "marker": {
             "pattern": {
              "fillmode": "overlay",
              "size": 10,
              "solidity": 0.2
             }
            },
            "type": "histogram"
           }
          ],
          "histogram2d": [
           {
            "colorbar": {
             "outlinewidth": 0,
             "ticks": ""
            },
            "colorscale": [
             [
              0,
              "#0d0887"
             ],
             [
              0.1111111111111111,
              "#46039f"
             ],
             [
              0.2222222222222222,
              "#7201a8"
             ],
             [
              0.3333333333333333,
              "#9c179e"
             ],
             [
              0.4444444444444444,
              "#bd3786"
             ],
             [
              0.5555555555555556,
              "#d8576b"
             ],
             [
              0.6666666666666666,
              "#ed7953"
             ],
             [
              0.7777777777777778,
              "#fb9f3a"
             ],
             [
              0.8888888888888888,
              "#fdca26"
             ],
             [
              1,
              "#f0f921"
             ]
            ],
            "type": "histogram2d"
           }
          ],
          "histogram2dcontour": [
           {
            "colorbar": {
             "outlinewidth": 0,
             "ticks": ""
            },
            "colorscale": [
             [
              0,
              "#0d0887"
             ],
             [
              0.1111111111111111,
              "#46039f"
             ],
             [
              0.2222222222222222,
              "#7201a8"
             ],
             [
              0.3333333333333333,
              "#9c179e"
             ],
             [
              0.4444444444444444,
              "#bd3786"
             ],
             [
              0.5555555555555556,
              "#d8576b"
             ],
             [
              0.6666666666666666,
              "#ed7953"
             ],
             [
              0.7777777777777778,
              "#fb9f3a"
             ],
             [
              0.8888888888888888,
              "#fdca26"
             ],
             [
              1,
              "#f0f921"
             ]
            ],
            "type": "histogram2dcontour"
           }
          ],
          "mesh3d": [
           {
            "colorbar": {
             "outlinewidth": 0,
             "ticks": ""
            },
            "type": "mesh3d"
           }
          ],
          "parcoords": [
           {
            "line": {
             "colorbar": {
              "outlinewidth": 0,
              "ticks": ""
             }
            },
            "type": "parcoords"
           }
          ],
          "pie": [
           {
            "automargin": true,
            "type": "pie"
           }
          ],
          "scatter": [
           {
            "fillpattern": {
             "fillmode": "overlay",
             "size": 10,
             "solidity": 0.2
            },
            "type": "scatter"
           }
          ],
          "scatter3d": [
           {
            "line": {
             "colorbar": {
              "outlinewidth": 0,
              "ticks": ""
             }
            },
            "marker": {
             "colorbar": {
              "outlinewidth": 0,
              "ticks": ""
             }
            },
            "type": "scatter3d"
           }
          ],
          "scattercarpet": [
           {
            "marker": {
             "colorbar": {
              "outlinewidth": 0,
              "ticks": ""
             }
            },
            "type": "scattercarpet"
           }
          ],
          "scattergeo": [
           {
            "marker": {
             "colorbar": {
              "outlinewidth": 0,
              "ticks": ""
             }
            },
            "type": "scattergeo"
           }
          ],
          "scattergl": [
           {
            "marker": {
             "colorbar": {
              "outlinewidth": 0,
              "ticks": ""
             }
            },
            "type": "scattergl"
           }
          ],
          "scattermap": [
           {
            "marker": {
             "colorbar": {
              "outlinewidth": 0,
              "ticks": ""
             }
            },
            "type": "scattermap"
           }
          ],
          "scattermapbox": [
           {
            "marker": {
             "colorbar": {
              "outlinewidth": 0,
              "ticks": ""
             }
            },
            "type": "scattermapbox"
           }
          ],
          "scatterpolar": [
           {
            "marker": {
             "colorbar": {
              "outlinewidth": 0,
              "ticks": ""
             }
            },
            "type": "scatterpolar"
           }
          ],
          "scatterpolargl": [
           {
            "marker": {
             "colorbar": {
              "outlinewidth": 0,
              "ticks": ""
             }
            },
            "type": "scatterpolargl"
           }
          ],
          "scatterternary": [
           {
            "marker": {
             "colorbar": {
              "outlinewidth": 0,
              "ticks": ""
             }
            },
            "type": "scatterternary"
           }
          ],
          "surface": [
           {
            "colorbar": {
             "outlinewidth": 0,
             "ticks": ""
            },
            "colorscale": [
             [
              0,
              "#0d0887"
             ],
             [
              0.1111111111111111,
              "#46039f"
             ],
             [
              0.2222222222222222,
              "#7201a8"
             ],
             [
              0.3333333333333333,
              "#9c179e"
             ],
             [
              0.4444444444444444,
              "#bd3786"
             ],
             [
              0.5555555555555556,
              "#d8576b"
             ],
             [
              0.6666666666666666,
              "#ed7953"
             ],
             [
              0.7777777777777778,
              "#fb9f3a"
             ],
             [
              0.8888888888888888,
              "#fdca26"
             ],
             [
              1,
              "#f0f921"
             ]
            ],
            "type": "surface"
           }
          ],
          "table": [
           {
            "cells": {
             "fill": {
              "color": "#EBF0F8"
             },
             "line": {
              "color": "white"
             }
            },
            "header": {
             "fill": {
              "color": "#C8D4E3"
             },
             "line": {
              "color": "white"
             }
            },
            "type": "table"
           }
          ]
         },
         "layout": {
          "annotationdefaults": {
           "arrowcolor": "#2a3f5f",
           "arrowhead": 0,
           "arrowwidth": 1
          },
          "autotypenumbers": "strict",
          "coloraxis": {
           "colorbar": {
            "outlinewidth": 0,
            "ticks": ""
           }
          },
          "colorscale": {
           "diverging": [
            [
             0,
             "#8e0152"
            ],
            [
             0.1,
             "#c51b7d"
            ],
            [
             0.2,
             "#de77ae"
            ],
            [
             0.3,
             "#f1b6da"
            ],
            [
             0.4,
             "#fde0ef"
            ],
            [
             0.5,
             "#f7f7f7"
            ],
            [
             0.6,
             "#e6f5d0"
            ],
            [
             0.7,
             "#b8e186"
            ],
            [
             0.8,
             "#7fbc41"
            ],
            [
             0.9,
             "#4d9221"
            ],
            [
             1,
             "#276419"
            ]
           ],
           "sequential": [
            [
             0,
             "#0d0887"
            ],
            [
             0.1111111111111111,
             "#46039f"
            ],
            [
             0.2222222222222222,
             "#7201a8"
            ],
            [
             0.3333333333333333,
             "#9c179e"
            ],
            [
             0.4444444444444444,
             "#bd3786"
            ],
            [
             0.5555555555555556,
             "#d8576b"
            ],
            [
             0.6666666666666666,
             "#ed7953"
            ],
            [
             0.7777777777777778,
             "#fb9f3a"
            ],
            [
             0.8888888888888888,
             "#fdca26"
            ],
            [
             1,
             "#f0f921"
            ]
           ],
           "sequentialminus": [
            [
             0,
             "#0d0887"
            ],
            [
             0.1111111111111111,
             "#46039f"
            ],
            [
             0.2222222222222222,
             "#7201a8"
            ],
            [
             0.3333333333333333,
             "#9c179e"
            ],
            [
             0.4444444444444444,
             "#bd3786"
            ],
            [
             0.5555555555555556,
             "#d8576b"
            ],
            [
             0.6666666666666666,
             "#ed7953"
            ],
            [
             0.7777777777777778,
             "#fb9f3a"
            ],
            [
             0.8888888888888888,
             "#fdca26"
            ],
            [
             1,
             "#f0f921"
            ]
           ]
          },
          "colorway": [
           "#636efa",
           "#EF553B",
           "#00cc96",
           "#ab63fa",
           "#FFA15A",
           "#19d3f3",
           "#FF6692",
           "#B6E880",
           "#FF97FF",
           "#FECB52"
          ],
          "font": {
           "color": "#2a3f5f"
          },
          "geo": {
           "bgcolor": "white",
           "lakecolor": "white",
           "landcolor": "white",
           "showlakes": true,
           "showland": true,
           "subunitcolor": "#C8D4E3"
          },
          "hoverlabel": {
           "align": "left"
          },
          "hovermode": "closest",
          "mapbox": {
           "style": "light"
          },
          "paper_bgcolor": "white",
          "plot_bgcolor": "white",
          "polar": {
           "angularaxis": {
            "gridcolor": "#EBF0F8",
            "linecolor": "#EBF0F8",
            "ticks": ""
           },
           "bgcolor": "white",
           "radialaxis": {
            "gridcolor": "#EBF0F8",
            "linecolor": "#EBF0F8",
            "ticks": ""
           }
          },
          "scene": {
           "xaxis": {
            "backgroundcolor": "white",
            "gridcolor": "#DFE8F3",
            "gridwidth": 2,
            "linecolor": "#EBF0F8",
            "showbackground": true,
            "ticks": "",
            "zerolinecolor": "#EBF0F8"
           },
           "yaxis": {
            "backgroundcolor": "white",
            "gridcolor": "#DFE8F3",
            "gridwidth": 2,
            "linecolor": "#EBF0F8",
            "showbackground": true,
            "ticks": "",
            "zerolinecolor": "#EBF0F8"
           },
           "zaxis": {
            "backgroundcolor": "white",
            "gridcolor": "#DFE8F3",
            "gridwidth": 2,
            "linecolor": "#EBF0F8",
            "showbackground": true,
            "ticks": "",
            "zerolinecolor": "#EBF0F8"
           }
          },
          "shapedefaults": {
           "line": {
            "color": "#2a3f5f"
           }
          },
          "ternary": {
           "aaxis": {
            "gridcolor": "#DFE8F3",
            "linecolor": "#A2B1C6",
            "ticks": ""
           },
           "baxis": {
            "gridcolor": "#DFE8F3",
            "linecolor": "#A2B1C6",
            "ticks": ""
           },
           "bgcolor": "white",
           "caxis": {
            "gridcolor": "#DFE8F3",
            "linecolor": "#A2B1C6",
            "ticks": ""
           }
          },
          "title": {
           "x": 0.05
          },
          "xaxis": {
           "automargin": true,
           "gridcolor": "#EBF0F8",
           "linecolor": "#EBF0F8",
           "ticks": "",
           "title": {
            "standoff": 15
           },
           "zerolinecolor": "#EBF0F8",
           "zerolinewidth": 2
          },
          "yaxis": {
           "automargin": true,
           "gridcolor": "#EBF0F8",
           "linecolor": "#EBF0F8",
           "ticks": "",
           "title": {
            "standoff": 15
           },
           "zerolinecolor": "#EBF0F8",
           "zerolinewidth": 2
          }
         }
        },
        "title": {
         "text": "Residual plot"
        },
        "width": 700,
        "xaxis": {
         "title": {
          "text": "Independent variable"
         }
        },
        "yaxis": {
         "title": {
          "text": "Residuals"
         }
        }
       }
      }
     },
     "metadata": {},
     "output_type": "display_data"
    }
   ],
   "source": [
    "# Plot the residuals\n",
    "go.Figure(data=go.Scatter(x=independent, y=residuals,\n",
    "    mode='markers',\n",
    "    name='Residuals',\n",
    "    marker=dict(size=12))).update_layout(title='Residual plot',\n",
    "        yaxis=dict(title='Residuals'),\n",
    "        xaxis=dict(title='Independent variable')).add_trace(go.Scatter(\n",
    "            x=[np.min(independent), np.max(independent)],\n",
    "            y=[0, 0],\n",
    "            name='Zero line',\n",
    "            mode='lines'\n",
    "        )).update_layout(\n",
    "            width=700\n",
    "        )"
   ]
  },
  {
   "cell_type": "code",
   "execution_count": 54,
   "metadata": {},
   "outputs": [
    {
     "data": {
      "text/plain": [
       "PearsonRResult(statistic=np.float64(-5.49368978328182e-16), pvalue=np.float64(0.9999999999999973))"
      ]
     },
     "execution_count": 54,
     "metadata": {},
     "output_type": "execute_result"
    }
   ],
   "source": [
    "stats.pearsonr(\n",
    "    independent,\n",
    "    residuals\n",
    ")"
   ]
  },
  {
   "cell_type": "markdown",
   "metadata": {},
   "source": [
    "### <span style=\"color: pink;\"> Multiple Linear Regression <span>"
   ]
  },
  {
   "cell_type": "code",
   "execution_count": 67,
   "metadata": {},
   "outputs": [
    {
     "data": {
      "application/vnd.microsoft.datawrangler.viewer.v0+json": {
       "columns": [
        {
         "name": "index",
         "rawType": "int64",
         "type": "integer"
        },
        {
         "name": "Variable1",
         "rawType": "float64",
         "type": "float"
        },
        {
         "name": "Variable2",
         "rawType": "float64",
         "type": "float"
        },
        {
         "name": "Dependent",
         "rawType": "float64",
         "type": "float"
        }
       ],
       "conversionMethod": "pd.DataFrame",
       "ref": "ea1e956a-876e-4aae-a556-fa2203d1e077",
       "rows": [
        [
         "0",
         "14.7",
         "0.7675216402550661",
         "21.07755203476195"
        ],
        [
         "1",
         "16.8",
         "1.9934665405895582",
         "7.551747043700486"
        ],
        [
         "2",
         "12.5",
         "1.987637548999763",
         "34.172533583366565"
        ],
        [
         "3",
         "16.7",
         "-0.6502864812698932",
         "17.067763351067498"
        ],
        [
         "4",
         "18.3",
         "0.967063084092397",
         "33.966517180175046"
        ],
        [
         "5",
         "12.3",
         "0.46189896557423343",
         "16.757746433832068"
        ],
        [
         "6",
         "19.2",
         "-0.5646916709923315",
         "23.405064063780582"
        ],
        [
         "7",
         "15.7",
         "0.039936670277347555",
         "14.627540480461127"
        ],
        [
         "8",
         "11.4",
         "1.6564242939436937",
         "27.71358821618398"
        ],
        [
         "9",
         "12.3",
         "-0.8861844721576798",
         "10.201557894927609"
        ]
       ],
       "shape": {
        "columns": 3,
        "rows": 10
       }
      },
      "text/html": [
       "<div>\n",
       "<style scoped>\n",
       "    .dataframe tbody tr th:only-of-type {\n",
       "        vertical-align: middle;\n",
       "    }\n",
       "\n",
       "    .dataframe tbody tr th {\n",
       "        vertical-align: top;\n",
       "    }\n",
       "\n",
       "    .dataframe thead th {\n",
       "        text-align: right;\n",
       "    }\n",
       "</style>\n",
       "<table border=\"1\" class=\"dataframe\">\n",
       "  <thead>\n",
       "    <tr style=\"text-align: right;\">\n",
       "      <th></th>\n",
       "      <th>Variable1</th>\n",
       "      <th>Variable2</th>\n",
       "      <th>Dependent</th>\n",
       "    </tr>\n",
       "  </thead>\n",
       "  <tbody>\n",
       "    <tr>\n",
       "      <th>0</th>\n",
       "      <td>14.7</td>\n",
       "      <td>0.767522</td>\n",
       "      <td>21.077552</td>\n",
       "    </tr>\n",
       "    <tr>\n",
       "      <th>1</th>\n",
       "      <td>16.8</td>\n",
       "      <td>1.993467</td>\n",
       "      <td>7.551747</td>\n",
       "    </tr>\n",
       "    <tr>\n",
       "      <th>2</th>\n",
       "      <td>12.5</td>\n",
       "      <td>1.987638</td>\n",
       "      <td>34.172534</td>\n",
       "    </tr>\n",
       "    <tr>\n",
       "      <th>3</th>\n",
       "      <td>16.7</td>\n",
       "      <td>-0.650286</td>\n",
       "      <td>17.067763</td>\n",
       "    </tr>\n",
       "    <tr>\n",
       "      <th>4</th>\n",
       "      <td>18.3</td>\n",
       "      <td>0.967063</td>\n",
       "      <td>33.966517</td>\n",
       "    </tr>\n",
       "    <tr>\n",
       "      <th>5</th>\n",
       "      <td>12.3</td>\n",
       "      <td>0.461899</td>\n",
       "      <td>16.757746</td>\n",
       "    </tr>\n",
       "    <tr>\n",
       "      <th>6</th>\n",
       "      <td>19.2</td>\n",
       "      <td>-0.564692</td>\n",
       "      <td>23.405064</td>\n",
       "    </tr>\n",
       "    <tr>\n",
       "      <th>7</th>\n",
       "      <td>15.7</td>\n",
       "      <td>0.039937</td>\n",
       "      <td>14.627540</td>\n",
       "    </tr>\n",
       "    <tr>\n",
       "      <th>8</th>\n",
       "      <td>11.4</td>\n",
       "      <td>1.656424</td>\n",
       "      <td>27.713588</td>\n",
       "    </tr>\n",
       "    <tr>\n",
       "      <th>9</th>\n",
       "      <td>12.3</td>\n",
       "      <td>-0.886184</td>\n",
       "      <td>10.201558</td>\n",
       "    </tr>\n",
       "  </tbody>\n",
       "</table>\n",
       "</div>"
      ],
      "text/plain": [
       "   Variable1  Variable2  Dependent\n",
       "0       14.7   0.767522  21.077552\n",
       "1       16.8   1.993467   7.551747\n",
       "2       12.5   1.987638  34.172534\n",
       "3       16.7  -0.650286  17.067763\n",
       "4       18.3   0.967063  33.966517\n",
       "5       12.3   0.461899  16.757746\n",
       "6       19.2  -0.564692  23.405064\n",
       "7       15.7   0.039937  14.627540\n",
       "8       11.4   1.656424  27.713588\n",
       "9       12.3  -0.886184  10.201558"
      ]
     },
     "execution_count": 67,
     "metadata": {},
     "output_type": "execute_result"
    }
   ],
   "source": [
    "np.random.seed(7) # For reproducible results\n",
    "\n",
    "\n",
    "# Generating numpy arrays with random values\n",
    "var1 = np.random.randint(low=100, high=200, size=100) / 10\n",
    "var2 = np.random.randn(100)\n",
    "dependent = var1 + var2 + (np.random.randn(100) * 10)\n",
    "\n",
    "# Add the arrays to a DataFrame object\n",
    "df = DataFrame(\n",
    "    {\n",
    "        'Variable1':var1,\n",
    "        'Variable2':var2,\n",
    "        'Dependent':dependent\n",
    "    }\n",
    ")\n",
    "df[:10]"
   ]
  },
  {
   "cell_type": "code",
   "execution_count": 56,
   "metadata": {},
   "outputs": [
    {
     "data": {
      "application/vnd.plotly.v1+json": {
       "config": {
        "plotlyServerURL": "https://plot.ly"
       },
       "data": [
        {
         "marker": {
          "color": {
           "bdata": "mcLx3Z8OMEDOQe5y2XwxQJwFLaCOSwhAw6AKM/zVM0C2sX//hjYyQJZ49H3d1jtApkVYHcXuMkA4DixcIRw0QJYFd5cORzlAcMLkCqiwI0DgljZ2F3gdQPwjC7Mr2TBAumOctQ+1OECrHF2Tb1wwQMMa9yJhTDNAe9KwxDVoIECy5IpD1rohQCBnXAbPAxnAck2Uhyg7KUAg1ez9UhwjQPn7CjRwDzpAViAJJpTAFUCgyoDYq/MLwMbV3HxsNCBA93ZJ40cGQECi0iYaQ9c1QKjdrq5ohDFAIL3aCSWND0BNmtJKPT0aQDKU3EUztz9ACsFeYCBCPkBsVpHcwyw6QKQ7tiP52SpAuvP0IF2mOEDix22aOm4/QKom8DGJex7AqhrfI8ROHEBG/q466iQ2QMY1xcAYnC1AyqyCXt09MUAGR5AFWhomwHWAiIk6IDxAUMtxpivPKkBmdDcRANs2QJQBOdp38xJAAgjT/uc1QkBw6SRP3KQ7QJAKO+LeohDAORs7qG+8NkDxplVu4xAdQEQI1+QP9xxAYBQhx4maJcDzGcKLGEk4QOA+lTZYiiNAtLb+4xZJM0AYtKYcTLEtQGRl3/uZmzlAXp4mZAnsK0Dm8OgEojkeQLBhCXpMHS5AIouCm8BtL0CMMpst3hsZQKA8fYfZTuq/JDiyOzp1MEBPlKMT3cs0QIYLeMhQRClAWFVVr9KOPkDBSvlv92crQPr2BOy1dTxAko1QfJVANkD6rrmHP7QyQOK5ySwgXSXAnj43NP/gOEAkFmMPBu0ZQJbMHANoQylAu1PIzrOUKkDIr/IzfcktQAydjTHGnhdA+ej1mWsLLEAeR92xHXoeQIxlm34Aci1AnB/0lX1kLkB2PJlKRHs0QPP0JESXZzBALoIyEn67OkAKOpd1qd4tQPFFbpv3ODlA6nhLfb4cOEAUmL0teGEYQGDPx7MpSOa/Bbp1XxQ/NEBW/l/x6rwhQBp3xe7SijhAXrYgfQJLLkCIg0zWApwPwABJMZMZlb4/zvm7j9noM0DsGQ62nM0hQOFyDkjizhJAEITxWAxRBkA=",
           "dtype": "f8"
          },
          "colorscale": [
           [
            0,
            "#440154"
           ],
           [
            0.1111111111111111,
            "#482878"
           ],
           [
            0.2222222222222222,
            "#3e4989"
           ],
           [
            0.3333333333333333,
            "#31688e"
           ],
           [
            0.4444444444444444,
            "#26828e"
           ],
           [
            0.5555555555555556,
            "#1f9e89"
           ],
           [
            0.6666666666666666,
            "#35b779"
           ],
           [
            0.7777777777777778,
            "#6ece58"
           ],
           [
            0.8888888888888888,
            "#b5de2b"
           ],
           [
            1,
            "#fde725"
           ]
          ],
          "showscale": true,
          "size": 16
         },
         "mode": "markers",
         "type": "scatter",
         "x": {
          "bdata": "AAAAAACAMkCamZmZmZkvQDMzMzMzMyxAAAAAAAAAJ0CamZmZmZksQM3MzMzMzC9AMzMzMzMzMkDNzMzMzEwwQJqZmZmZmSlAMzMzMzMzJ0AAAAAAAAAlQAAAAAAAACtAMzMzMzOzMUBmZmZmZmYqQDMzMzMzszJAAAAAAACAM0CamZmZmZkqQAAAAAAAAC1AAAAAAAAALECamZmZmRkzQM3MzMzMzCZAAAAAAAAALUBmZmZmZmYsQJqZmZmZmTNAzczMzMzMKkAAAAAAAIAzQAAAAAAAAC9AmpmZmZmZJ0DNzMzMzMwlQM3MzMzMTDFAmpmZmZmZJkAAAAAAAIAyQJqZmZmZmSxAMzMzMzMzJEAzMzMzMzMqQM3MzMzMzCZAAAAAAAAAMkCamZmZmZktQAAAAAAAAClAmpmZmZmZKkAAAAAAAIAyQM3MzMzMTDJAMzMzMzMzMkBmZmZmZmYwQDMzMzMzszFAmpmZmZmZL0AAAAAAAAAmQGZmZmZmZi5AZmZmZmZmKUCamZmZmZkpQJqZmZmZmSVAMzMzMzOzM0BmZmZmZuYyQM3MzMzMzCxAMzMzMzMzLkDNzMzMzMwuQGZmZmZmZixAMzMzMzMzM0BmZmZmZmYlQAAAAAAAACdAAAAAAAAAJEAzMzMzMzMyQJqZmZmZmS1AZmZmZmZmMEDNzMzMzMwsQM3MzMzMzCVAMzMzMzMzLUAzMzMzMzMvQM3MzMzMzDNAmpmZmZmZLUCamZmZmZksQAAAAAAAACVAMzMzMzMzKEAzMzMzMzMnQDMzMzMzMyZAZmZmZmZmKkAAAAAAAAAsQDMzMzMzMytAZmZmZmbmMECamZmZmZkpQM3MzMzMTDNAzczMzMzMLUCamZmZmRkwQGZmZmZmZi5AAAAAAACAM0BmZmZmZmYlQDMzMzMzMzNAmpmZmZmZL0AAAAAAAAAuQJqZmZmZmS1AzczMzMzMMUBmZmZmZmYtQDMzMzMzMzBAMzMzMzOzMUDNzMzMzEwyQDMzMzMzszFAzczMzMzMKEAzMzMzM7MwQGZmZmZmZiVAzczMzMzMLUA=",
          "dtype": "f8"
         },
         "y": {
          "bdata": "LkixwRMn5b/icNIIGC3xvyATjkyRZ+i/s6vsIoNx4j/MOMZy3KfQPwgjOOesh/4/uLZspbzz4T8f6e+5m/zxv8BsVPTufv8/hQmPMeQPuj/hw1J65YT3Py445ubLktk/GNpEjsSG3j9MqosdM3q8v1MDHQiTc/c/Xv7E0KYIv7909EXlx1zAPxlMJRYensK//KbhqrHIAEBGuql+/vYAQAVJ9pj5/vm/c5/u9/b8sj/iVZzejcTwP/I1oZ1KAcK/cSZQnarf7b9eIUcfLavsvyvvSzvt5fC/V+RQHt3+1D94cHtnj4TlP+N8SLrJbOy/Z22tMfZ36b/sZw0K8cjiv18OJ1iZo9g/EaPdpipn6b95tRIv41EBwCVaxAC2pe+/507zGtcX7D9BLm2spI/qv9ox/2k9Isc/THVi5sDN3D8ko32djrf4PyfvnfGVj4G/X0fbkWWM/L9wx1fr3+7iPyet50paqP+/Ifcjovkdyr97vCZGI7izP8JxHdH7g+C/m6JZ0pRh6L+k9qisMzLXP/HXR8YzNM8/EbSLTafm578SkZIICzrvv4/fZtij7u2/O9iNXP7sxb8DCix5YNvMPxUf6NUa/tk/eKSRBXq9/L/jwmEw0cXDP6NaRaE2IP0/pwzIN+OTs78SIpPJ6rykP2GmzC7ngvo/3m9mUaec+z84fEoMHt72P2fcDXW5N+s/MbH3Eh4O6j95h6F5Nprtv+K3YpzZorW/kpBP14TR1D9N0pKQa2ndv0/jPSMZvPC/a5NE4jyM8z8mXL8ftUYAQE2VXUEDx/c/+ceoWkLL7j9roelV8F/0v8KrAnDGXtG/AmQjwGDX87/DkUSl/SX+PzwBuQB2dug/Nwtfp44L0D9WKduWb9z1vyNR0Ej1Jt8/hO6AZewv07/Zrm6wkbLyP8XREx6LmMe/0gqCjn/C2D8zMwsslSHzP9lgZHj2m+4/7YeOReW88b8SotqTiH3sP8itDOOveda/ijw8FBnX4j9NtPtEPfnnP2d2Ny1oUd+/B1/rK10D1z8z/rTEWli7P7uAT9nM1rm/Zs+k65WI2z8=",
          "dtype": "f8"
         }
        }
       ],
       "layout": {
        "template": {
         "data": {
          "bar": [
           {
            "error_x": {
             "color": "#2a3f5f"
            },
            "error_y": {
             "color": "#2a3f5f"
            },
            "marker": {
             "line": {
              "color": "white",
              "width": 0.5
             },
             "pattern": {
              "fillmode": "overlay",
              "size": 10,
              "solidity": 0.2
             }
            },
            "type": "bar"
           }
          ],
          "barpolar": [
           {
            "marker": {
             "line": {
              "color": "white",
              "width": 0.5
             },
             "pattern": {
              "fillmode": "overlay",
              "size": 10,
              "solidity": 0.2
             }
            },
            "type": "barpolar"
           }
          ],
          "carpet": [
           {
            "aaxis": {
             "endlinecolor": "#2a3f5f",
             "gridcolor": "#C8D4E3",
             "linecolor": "#C8D4E3",
             "minorgridcolor": "#C8D4E3",
             "startlinecolor": "#2a3f5f"
            },
            "baxis": {
             "endlinecolor": "#2a3f5f",
             "gridcolor": "#C8D4E3",
             "linecolor": "#C8D4E3",
             "minorgridcolor": "#C8D4E3",
             "startlinecolor": "#2a3f5f"
            },
            "type": "carpet"
           }
          ],
          "choropleth": [
           {
            "colorbar": {
             "outlinewidth": 0,
             "ticks": ""
            },
            "type": "choropleth"
           }
          ],
          "contour": [
           {
            "colorbar": {
             "outlinewidth": 0,
             "ticks": ""
            },
            "colorscale": [
             [
              0,
              "#0d0887"
             ],
             [
              0.1111111111111111,
              "#46039f"
             ],
             [
              0.2222222222222222,
              "#7201a8"
             ],
             [
              0.3333333333333333,
              "#9c179e"
             ],
             [
              0.4444444444444444,
              "#bd3786"
             ],
             [
              0.5555555555555556,
              "#d8576b"
             ],
             [
              0.6666666666666666,
              "#ed7953"
             ],
             [
              0.7777777777777778,
              "#fb9f3a"
             ],
             [
              0.8888888888888888,
              "#fdca26"
             ],
             [
              1,
              "#f0f921"
             ]
            ],
            "type": "contour"
           }
          ],
          "contourcarpet": [
           {
            "colorbar": {
             "outlinewidth": 0,
             "ticks": ""
            },
            "type": "contourcarpet"
           }
          ],
          "heatmap": [
           {
            "colorbar": {
             "outlinewidth": 0,
             "ticks": ""
            },
            "colorscale": [
             [
              0,
              "#0d0887"
             ],
             [
              0.1111111111111111,
              "#46039f"
             ],
             [
              0.2222222222222222,
              "#7201a8"
             ],
             [
              0.3333333333333333,
              "#9c179e"
             ],
             [
              0.4444444444444444,
              "#bd3786"
             ],
             [
              0.5555555555555556,
              "#d8576b"
             ],
             [
              0.6666666666666666,
              "#ed7953"
             ],
             [
              0.7777777777777778,
              "#fb9f3a"
             ],
             [
              0.8888888888888888,
              "#fdca26"
             ],
             [
              1,
              "#f0f921"
             ]
            ],
            "type": "heatmap"
           }
          ],
          "histogram": [
           {
            "marker": {
             "pattern": {
              "fillmode": "overlay",
              "size": 10,
              "solidity": 0.2
             }
            },
            "type": "histogram"
           }
          ],
          "histogram2d": [
           {
            "colorbar": {
             "outlinewidth": 0,
             "ticks": ""
            },
            "colorscale": [
             [
              0,
              "#0d0887"
             ],
             [
              0.1111111111111111,
              "#46039f"
             ],
             [
              0.2222222222222222,
              "#7201a8"
             ],
             [
              0.3333333333333333,
              "#9c179e"
             ],
             [
              0.4444444444444444,
              "#bd3786"
             ],
             [
              0.5555555555555556,
              "#d8576b"
             ],
             [
              0.6666666666666666,
              "#ed7953"
             ],
             [
              0.7777777777777778,
              "#fb9f3a"
             ],
             [
              0.8888888888888888,
              "#fdca26"
             ],
             [
              1,
              "#f0f921"
             ]
            ],
            "type": "histogram2d"
           }
          ],
          "histogram2dcontour": [
           {
            "colorbar": {
             "outlinewidth": 0,
             "ticks": ""
            },
            "colorscale": [
             [
              0,
              "#0d0887"
             ],
             [
              0.1111111111111111,
              "#46039f"
             ],
             [
              0.2222222222222222,
              "#7201a8"
             ],
             [
              0.3333333333333333,
              "#9c179e"
             ],
             [
              0.4444444444444444,
              "#bd3786"
             ],
             [
              0.5555555555555556,
              "#d8576b"
             ],
             [
              0.6666666666666666,
              "#ed7953"
             ],
             [
              0.7777777777777778,
              "#fb9f3a"
             ],
             [
              0.8888888888888888,
              "#fdca26"
             ],
             [
              1,
              "#f0f921"
             ]
            ],
            "type": "histogram2dcontour"
           }
          ],
          "mesh3d": [
           {
            "colorbar": {
             "outlinewidth": 0,
             "ticks": ""
            },
            "type": "mesh3d"
           }
          ],
          "parcoords": [
           {
            "line": {
             "colorbar": {
              "outlinewidth": 0,
              "ticks": ""
             }
            },
            "type": "parcoords"
           }
          ],
          "pie": [
           {
            "automargin": true,
            "type": "pie"
           }
          ],
          "scatter": [
           {
            "fillpattern": {
             "fillmode": "overlay",
             "size": 10,
             "solidity": 0.2
            },
            "type": "scatter"
           }
          ],
          "scatter3d": [
           {
            "line": {
             "colorbar": {
              "outlinewidth": 0,
              "ticks": ""
             }
            },
            "marker": {
             "colorbar": {
              "outlinewidth": 0,
              "ticks": ""
             }
            },
            "type": "scatter3d"
           }
          ],
          "scattercarpet": [
           {
            "marker": {
             "colorbar": {
              "outlinewidth": 0,
              "ticks": ""
             }
            },
            "type": "scattercarpet"
           }
          ],
          "scattergeo": [
           {
            "marker": {
             "colorbar": {
              "outlinewidth": 0,
              "ticks": ""
             }
            },
            "type": "scattergeo"
           }
          ],
          "scattergl": [
           {
            "marker": {
             "colorbar": {
              "outlinewidth": 0,
              "ticks": ""
             }
            },
            "type": "scattergl"
           }
          ],
          "scattermap": [
           {
            "marker": {
             "colorbar": {
              "outlinewidth": 0,
              "ticks": ""
             }
            },
            "type": "scattermap"
           }
          ],
          "scattermapbox": [
           {
            "marker": {
             "colorbar": {
              "outlinewidth": 0,
              "ticks": ""
             }
            },
            "type": "scattermapbox"
           }
          ],
          "scatterpolar": [
           {
            "marker": {
             "colorbar": {
              "outlinewidth": 0,
              "ticks": ""
             }
            },
            "type": "scatterpolar"
           }
          ],
          "scatterpolargl": [
           {
            "marker": {
             "colorbar": {
              "outlinewidth": 0,
              "ticks": ""
             }
            },
            "type": "scatterpolargl"
           }
          ],
          "scatterternary": [
           {
            "marker": {
             "colorbar": {
              "outlinewidth": 0,
              "ticks": ""
             }
            },
            "type": "scatterternary"
           }
          ],
          "surface": [
           {
            "colorbar": {
             "outlinewidth": 0,
             "ticks": ""
            },
            "colorscale": [
             [
              0,
              "#0d0887"
             ],
             [
              0.1111111111111111,
              "#46039f"
             ],
             [
              0.2222222222222222,
              "#7201a8"
             ],
             [
              0.3333333333333333,
              "#9c179e"
             ],
             [
              0.4444444444444444,
              "#bd3786"
             ],
             [
              0.5555555555555556,
              "#d8576b"
             ],
             [
              0.6666666666666666,
              "#ed7953"
             ],
             [
              0.7777777777777778,
              "#fb9f3a"
             ],
             [
              0.8888888888888888,
              "#fdca26"
             ],
             [
              1,
              "#f0f921"
             ]
            ],
            "type": "surface"
           }
          ],
          "table": [
           {
            "cells": {
             "fill": {
              "color": "#EBF0F8"
             },
             "line": {
              "color": "white"
             }
            },
            "header": {
             "fill": {
              "color": "#C8D4E3"
             },
             "line": {
              "color": "white"
             }
            },
            "type": "table"
           }
          ]
         },
         "layout": {
          "annotationdefaults": {
           "arrowcolor": "#2a3f5f",
           "arrowhead": 0,
           "arrowwidth": 1
          },
          "autotypenumbers": "strict",
          "coloraxis": {
           "colorbar": {
            "outlinewidth": 0,
            "ticks": ""
           }
          },
          "colorscale": {
           "diverging": [
            [
             0,
             "#8e0152"
            ],
            [
             0.1,
             "#c51b7d"
            ],
            [
             0.2,
             "#de77ae"
            ],
            [
             0.3,
             "#f1b6da"
            ],
            [
             0.4,
             "#fde0ef"
            ],
            [
             0.5,
             "#f7f7f7"
            ],
            [
             0.6,
             "#e6f5d0"
            ],
            [
             0.7,
             "#b8e186"
            ],
            [
             0.8,
             "#7fbc41"
            ],
            [
             0.9,
             "#4d9221"
            ],
            [
             1,
             "#276419"
            ]
           ],
           "sequential": [
            [
             0,
             "#0d0887"
            ],
            [
             0.1111111111111111,
             "#46039f"
            ],
            [
             0.2222222222222222,
             "#7201a8"
            ],
            [
             0.3333333333333333,
             "#9c179e"
            ],
            [
             0.4444444444444444,
             "#bd3786"
            ],
            [
             0.5555555555555556,
             "#d8576b"
            ],
            [
             0.6666666666666666,
             "#ed7953"
            ],
            [
             0.7777777777777778,
             "#fb9f3a"
            ],
            [
             0.8888888888888888,
             "#fdca26"
            ],
            [
             1,
             "#f0f921"
            ]
           ],
           "sequentialminus": [
            [
             0,
             "#0d0887"
            ],
            [
             0.1111111111111111,
             "#46039f"
            ],
            [
             0.2222222222222222,
             "#7201a8"
            ],
            [
             0.3333333333333333,
             "#9c179e"
            ],
            [
             0.4444444444444444,
             "#bd3786"
            ],
            [
             0.5555555555555556,
             "#d8576b"
            ],
            [
             0.6666666666666666,
             "#ed7953"
            ],
            [
             0.7777777777777778,
             "#fb9f3a"
            ],
            [
             0.8888888888888888,
             "#fdca26"
            ],
            [
             1,
             "#f0f921"
            ]
           ]
          },
          "colorway": [
           "#636efa",
           "#EF553B",
           "#00cc96",
           "#ab63fa",
           "#FFA15A",
           "#19d3f3",
           "#FF6692",
           "#B6E880",
           "#FF97FF",
           "#FECB52"
          ],
          "font": {
           "color": "#2a3f5f"
          },
          "geo": {
           "bgcolor": "white",
           "lakecolor": "white",
           "landcolor": "white",
           "showlakes": true,
           "showland": true,
           "subunitcolor": "#C8D4E3"
          },
          "hoverlabel": {
           "align": "left"
          },
          "hovermode": "closest",
          "mapbox": {
           "style": "light"
          },
          "paper_bgcolor": "white",
          "plot_bgcolor": "white",
          "polar": {
           "angularaxis": {
            "gridcolor": "#EBF0F8",
            "linecolor": "#EBF0F8",
            "ticks": ""
           },
           "bgcolor": "white",
           "radialaxis": {
            "gridcolor": "#EBF0F8",
            "linecolor": "#EBF0F8",
            "ticks": ""
           }
          },
          "scene": {
           "xaxis": {
            "backgroundcolor": "white",
            "gridcolor": "#DFE8F3",
            "gridwidth": 2,
            "linecolor": "#EBF0F8",
            "showbackground": true,
            "ticks": "",
            "zerolinecolor": "#EBF0F8"
           },
           "yaxis": {
            "backgroundcolor": "white",
            "gridcolor": "#DFE8F3",
            "gridwidth": 2,
            "linecolor": "#EBF0F8",
            "showbackground": true,
            "ticks": "",
            "zerolinecolor": "#EBF0F8"
           },
           "zaxis": {
            "backgroundcolor": "white",
            "gridcolor": "#DFE8F3",
            "gridwidth": 2,
            "linecolor": "#EBF0F8",
            "showbackground": true,
            "ticks": "",
            "zerolinecolor": "#EBF0F8"
           }
          },
          "shapedefaults": {
           "line": {
            "color": "#2a3f5f"
           }
          },
          "ternary": {
           "aaxis": {
            "gridcolor": "#DFE8F3",
            "linecolor": "#A2B1C6",
            "ticks": ""
           },
           "baxis": {
            "gridcolor": "#DFE8F3",
            "linecolor": "#A2B1C6",
            "ticks": ""
           },
           "bgcolor": "white",
           "caxis": {
            "gridcolor": "#DFE8F3",
            "linecolor": "#A2B1C6",
            "ticks": ""
           }
          },
          "title": {
           "x": 0.05
          },
          "xaxis": {
           "automargin": true,
           "gridcolor": "#EBF0F8",
           "linecolor": "#EBF0F8",
           "ticks": "",
           "title": {
            "standoff": 15
           },
           "zerolinecolor": "#EBF0F8",
           "zerolinewidth": 2
          },
          "yaxis": {
           "automargin": true,
           "gridcolor": "#EBF0F8",
           "linecolor": "#EBF0F8",
           "ticks": "",
           "title": {
            "standoff": 15
           },
           "zerolinecolor": "#EBF0F8",
           "zerolinewidth": 2
          }
         }
        },
        "title": {
         "text": "Scatter plot of independent variables and heatmap as dependent variable"
        },
        "width": 700
       }
      }
     },
     "metadata": {},
     "output_type": "display_data"
    }
   ],
   "source": [
    "go.Figure(\n",
    "    data=go.Scatter(\n",
    "        x=df.Variable1,\n",
    "        y=df.Variable2,\n",
    "        mode='markers',\n",
    "        marker=dict(\n",
    "            size=16,\n",
    "            color=df.Dependent,\n",
    "            colorscale='Viridis',\n",
    "            showscale=True\n",
    "        )\n",
    "    )\n",
    ").update_layout(title='Scatter plot of independent variables and heatmap as dependent variable',\n",
    "                width=700)"
   ]
  },
  {
   "cell_type": "code",
   "execution_count": 68,
   "metadata": {},
   "outputs": [
    {
     "data": {
      "application/vnd.plotly.v1+json": {
       "config": {
        "plotlyServerURL": "https://plot.ly"
       },
       "data": [
        {
         "dimensions": [
          {
           "axis": {
            "matches": true
           },
           "label": "Variable1",
           "values": {
            "bdata": "ZmZmZmZmLUDNzMzMzMwwQAAAAAAAAClAMzMzMzOzMEDNzMzMzEwyQJqZmZmZmShAMzMzMzMzM0BmZmZmZmYvQM3MzMzMzCZAmpmZmZmZKEAzMzMzMzMxQGZmZmZm5jJAZmZmZmZmLEAAAAAAAAAzQJqZmZmZmSVAzczMzMzMK0DNzMzMzMwwQJqZmZmZmS1AZmZmZmZmJUDNzMzMzMwsQAAAAAAAACRAAAAAAACAMUAAAAAAAAAvQDMzMzMzMyVAzczMzMzMJ0AAAAAAAAAwQM3MzMzMzCxAzczMzMxMMEBmZmZmZuYwQDMzMzMzMy9AzczMzMzMKEAAAAAAAAAvQJqZmZmZmS5AmpmZmZkZMEBmZmZmZmYwQM3MzMzMzCpAMzMzMzMzL0DNzMzMzEwxQM3MzMzMzDFAmpmZmZmZK0DNzMzMzMwkQM3MzMzMzCVAMzMzMzOzMkBmZmZmZuYzQDMzMzMzszBAMzMzMzMzMUDNzMzMzEwyQJqZmZmZmS1AMzMzMzMzJEBmZmZmZmYwQDMzMzMzMydAMzMzMzMzKkDNzMzMzEwzQM3MzMzMzCxAMzMzMzMzM0CamZmZmRkxQJqZmZmZmShAAAAAAAAAJkAAAAAAAAArQGZmZmZmZjBAmpmZmZkZMEBmZmZmZmYlQJqZmZmZmShAMzMzMzMzM0CamZmZmZkzQDMzMzMzMyhAAAAAAAAAK0AzMzMzM7MzQDMzMzMzszBAmpmZmZkZM0AzMzMzM7MzQM3MzMzMzCdAZmZmZmZmKUDNzMzMzMwkQM3MzMzMzCdAmpmZmZmZKkAAAAAAAAAqQGZmZmZmZi9AzczMzMxMMUDNzMzMzEwzQJqZmZmZGTJAMzMzMzMzKkBmZmZmZmYkQM3MzMzMTDJAAAAAAAAALkCamZmZmZknQDMzMzMzMyhAMzMzMzOzMEAAAAAAAIAxQJqZmZmZmS9AZmZmZmZmLUAzMzMzMzMnQGZmZmZmZiZAzczMzMxMM0DNzMzMzMwlQJqZmZmZmTFAMzMzMzOzMEDNzMzMzMwmQAAAAAAAAChAmpmZmZmZLkA=",
            "dtype": "f8"
           }
          },
          {
           "axis": {
            "matches": true
           },
           "label": "Variable2",
           "values": {
            "bdata": "58T7iomP6D/eCdgrPeX/P9sW1Addzf8/NLlCmCXP5L9UEOtHLvLuP92kzK3Aj90/fopnRPQR4r8aM4FJlHKkP+CbrMK2gPo//XzEiZ9b7L+GslURBh4EwKCFYFrWFag/WELmrB7PwT9yUjlhARr7v+mG1cxMyL6/amwB4jtt8T+WUxaxr3zEPxRmubW/uMq/Ghlk0MOo9r9HHd2kJe6Dv2ujaJKTode/4c6/kOkq4z9gLdLruHDkv8rXCmQXGvW/3soOg7Ky9b+bSgQD9Yziv4lRfqtxxde/v1OsuvL78r/lCavJ8NDbPzi3S4stkuA/sSfWkGNMsL/wvNCHqQACQHEBfEMs0QHArmGSB96hAsA3Lr51Zzj1v6ihIMBTTKw/tJykTsGZ4z9+utUbBEPDvwHGiwn9B+M/fxbPBFRw4b+hz+aXXd/4P56ijOB4ovu/NvPVUY1w3z9AiB08z5vfv9QWKObagfa/4oIW0AslAUCJfGym+cLKPyjLwNnuhfY/LFG1dm3n079zfmuaOASrvzJ2kPIIicC/FK9J+gHq/z/SpjJPPCPRP1NaUPCOr/e/6WwqOr6W+r8MROy1ziAIQMiVrBlBMck/6EIp3jdZ+7+JWfAKMxV2PwjHLseHq5U/2a7B/Cm15z/vv2a8v/fNP/3JhrEG77Y/HuYu1Uop3z80EU/FXlLXv1pBRCzXBfK/vv97Nh+rxL/1gFmvxlXdPwxT3wUKU9W/k3ut0Qd1/T9R0iGFnM3iP9IJNVSQtwLAXYz7KZsy3j8ejaqFqInxP1szMaaRvdY/MZ+4Tjoz7j8LAaUcnjZgP5yKQ+HOdKw/L6UA7dCi5b+edAviZpfSvyySSgi8z/a/WLIxyz9k1T83YhQKzGrov8Ik+Umod7c/WwCPEW0+87+iVKa/JPHnv9LjFdXGtM8/IbdfEbgG179i2NGNy3/xv4sPXFVQveC/63M0dpZY8D/EE6CFMNUBwGGyWukAr/0/8fbA3Etv3r8uSLHBEyflv+Jw0ggYLfG/IBOOTJFn6L+zq+wig3HiP8w4xnLcp9A/CCM456yH/j8=",
            "dtype": "f8"
           }
          },
          {
           "axis": {
            "matches": true
           },
           "label": "Dependent",
           "values": {
            "bdata": "dAo9c9oTNUDeblEt/TQeQLMCmZQVFkFAyLNg8FgRMUDe77/VtvtAQCj4l6v7wTBA87hKR7JnN0BL/mD8TEEtQDhSo7ettjtA6+2tmDJnJED25+MdZO0vQLes2PcWfjFAOYgTw9eoQUDYSSAEj0FDQHTZZ/5dRRbAz55rlDd2L0Ahr1DXnnA7QJSDIfKCXipAAMQ0+LV8qr9WQa4fqrkVQBABI2tSx+2/JaJC2SlhNUC6AfgI55U1QIBFkUhGftk/Qjx6dfKtBEBiWocJmhkjQF+HfpXg4DFAbxLzM0GzHEAkQSlFx0IRwJ5s2paI6RhA55hBO40dNUBT8i92Y+YiQAh5SiGowi1AuK+m/INFMkB5CXkRmYU+QJnisCkyvSpAwOGkcX0V+r+rjyC+7BA3QLATepu7Qva/lQn3V+VtJkB7rURBG3MpQMCiEZwADBBAXxB9ze0kJ0DPVnA8zwc3QKVOTpApuzFAlLb0yYC/J0DhsNeaXoAhQI7OIhtiahtA4V4HCfAmIEBvoZDTB5oyQBB7QXJ3EC9AAJLmUZTxBsCiOtEVzhw1QGi5LJyPHz9A5btibwDGMEDGAUcGZIU0QPYNQMz/ED1AvHH9FFWMOkCoPN8aNMw7QPiG7Dw77ThAcA5tT6z7OEDQZZjKGu/6P9DwxKa+FidAYl0sIJXwNkDy2NqfrkctQFDu1BmOdeA/JOT9zk+OOUA05s9adkBEQDcz9hNJOj9A0S8J026QPkCM86iGpzYeQFdpfWmVYhtAcFyg+CSs6D9S6gt2v1Y+QJf7OI1h5jNAh2tp6TTAMEDAlQIrgSjlv6ZhBO6DnzRAv0QRq3JAK0BCzIk/CrI+QCfIdvVlqS1AFLIKh45NMUAikGkO2mQ1QDYktnoB9TtANNhvG0+wBUDO7ANVfvQzQHSUk1f/qyFAQYdAKVA6NkDSirFs5uU3QKGDIgZUxCRAS0FzKUNRM0AeUikpzuAkQKOGl4J+FyhAWYkrCmcgN0D+UbCIDOogQJsOuz+mSTNANOl8ti2MFkApB3GZYrwzQNPJZWV00y9A/d5a5EM9O0A=",
            "dtype": "f8"
           }
          }
         ],
         "hovertemplate": "%{xaxis.title.text}=%{x}<br>%{yaxis.title.text}=%{y}<extra></extra>",
         "legendgroup": "",
         "marker": {
          "color": "#636efa",
          "symbol": "circle"
         },
         "name": "",
         "showlegend": false,
         "type": "splom"
        }
       ],
       "layout": {
        "dragmode": "select",
        "legend": {
         "tracegroupgap": 0
        },
        "template": {
         "data": {
          "bar": [
           {
            "error_x": {
             "color": "#2a3f5f"
            },
            "error_y": {
             "color": "#2a3f5f"
            },
            "marker": {
             "line": {
              "color": "white",
              "width": 0.5
             },
             "pattern": {
              "fillmode": "overlay",
              "size": 10,
              "solidity": 0.2
             }
            },
            "type": "bar"
           }
          ],
          "barpolar": [
           {
            "marker": {
             "line": {
              "color": "white",
              "width": 0.5
             },
             "pattern": {
              "fillmode": "overlay",
              "size": 10,
              "solidity": 0.2
             }
            },
            "type": "barpolar"
           }
          ],
          "carpet": [
           {
            "aaxis": {
             "endlinecolor": "#2a3f5f",
             "gridcolor": "#C8D4E3",
             "linecolor": "#C8D4E3",
             "minorgridcolor": "#C8D4E3",
             "startlinecolor": "#2a3f5f"
            },
            "baxis": {
             "endlinecolor": "#2a3f5f",
             "gridcolor": "#C8D4E3",
             "linecolor": "#C8D4E3",
             "minorgridcolor": "#C8D4E3",
             "startlinecolor": "#2a3f5f"
            },
            "type": "carpet"
           }
          ],
          "choropleth": [
           {
            "colorbar": {
             "outlinewidth": 0,
             "ticks": ""
            },
            "type": "choropleth"
           }
          ],
          "contour": [
           {
            "colorbar": {
             "outlinewidth": 0,
             "ticks": ""
            },
            "colorscale": [
             [
              0,
              "#0d0887"
             ],
             [
              0.1111111111111111,
              "#46039f"
             ],
             [
              0.2222222222222222,
              "#7201a8"
             ],
             [
              0.3333333333333333,
              "#9c179e"
             ],
             [
              0.4444444444444444,
              "#bd3786"
             ],
             [
              0.5555555555555556,
              "#d8576b"
             ],
             [
              0.6666666666666666,
              "#ed7953"
             ],
             [
              0.7777777777777778,
              "#fb9f3a"
             ],
             [
              0.8888888888888888,
              "#fdca26"
             ],
             [
              1,
              "#f0f921"
             ]
            ],
            "type": "contour"
           }
          ],
          "contourcarpet": [
           {
            "colorbar": {
             "outlinewidth": 0,
             "ticks": ""
            },
            "type": "contourcarpet"
           }
          ],
          "heatmap": [
           {
            "colorbar": {
             "outlinewidth": 0,
             "ticks": ""
            },
            "colorscale": [
             [
              0,
              "#0d0887"
             ],
             [
              0.1111111111111111,
              "#46039f"
             ],
             [
              0.2222222222222222,
              "#7201a8"
             ],
             [
              0.3333333333333333,
              "#9c179e"
             ],
             [
              0.4444444444444444,
              "#bd3786"
             ],
             [
              0.5555555555555556,
              "#d8576b"
             ],
             [
              0.6666666666666666,
              "#ed7953"
             ],
             [
              0.7777777777777778,
              "#fb9f3a"
             ],
             [
              0.8888888888888888,
              "#fdca26"
             ],
             [
              1,
              "#f0f921"
             ]
            ],
            "type": "heatmap"
           }
          ],
          "histogram": [
           {
            "marker": {
             "pattern": {
              "fillmode": "overlay",
              "size": 10,
              "solidity": 0.2
             }
            },
            "type": "histogram"
           }
          ],
          "histogram2d": [
           {
            "colorbar": {
             "outlinewidth": 0,
             "ticks": ""
            },
            "colorscale": [
             [
              0,
              "#0d0887"
             ],
             [
              0.1111111111111111,
              "#46039f"
             ],
             [
              0.2222222222222222,
              "#7201a8"
             ],
             [
              0.3333333333333333,
              "#9c179e"
             ],
             [
              0.4444444444444444,
              "#bd3786"
             ],
             [
              0.5555555555555556,
              "#d8576b"
             ],
             [
              0.6666666666666666,
              "#ed7953"
             ],
             [
              0.7777777777777778,
              "#fb9f3a"
             ],
             [
              0.8888888888888888,
              "#fdca26"
             ],
             [
              1,
              "#f0f921"
             ]
            ],
            "type": "histogram2d"
           }
          ],
          "histogram2dcontour": [
           {
            "colorbar": {
             "outlinewidth": 0,
             "ticks": ""
            },
            "colorscale": [
             [
              0,
              "#0d0887"
             ],
             [
              0.1111111111111111,
              "#46039f"
             ],
             [
              0.2222222222222222,
              "#7201a8"
             ],
             [
              0.3333333333333333,
              "#9c179e"
             ],
             [
              0.4444444444444444,
              "#bd3786"
             ],
             [
              0.5555555555555556,
              "#d8576b"
             ],
             [
              0.6666666666666666,
              "#ed7953"
             ],
             [
              0.7777777777777778,
              "#fb9f3a"
             ],
             [
              0.8888888888888888,
              "#fdca26"
             ],
             [
              1,
              "#f0f921"
             ]
            ],
            "type": "histogram2dcontour"
           }
          ],
          "mesh3d": [
           {
            "colorbar": {
             "outlinewidth": 0,
             "ticks": ""
            },
            "type": "mesh3d"
           }
          ],
          "parcoords": [
           {
            "line": {
             "colorbar": {
              "outlinewidth": 0,
              "ticks": ""
             }
            },
            "type": "parcoords"
           }
          ],
          "pie": [
           {
            "automargin": true,
            "type": "pie"
           }
          ],
          "scatter": [
           {
            "fillpattern": {
             "fillmode": "overlay",
             "size": 10,
             "solidity": 0.2
            },
            "type": "scatter"
           }
          ],
          "scatter3d": [
           {
            "line": {
             "colorbar": {
              "outlinewidth": 0,
              "ticks": ""
             }
            },
            "marker": {
             "colorbar": {
              "outlinewidth": 0,
              "ticks": ""
             }
            },
            "type": "scatter3d"
           }
          ],
          "scattercarpet": [
           {
            "marker": {
             "colorbar": {
              "outlinewidth": 0,
              "ticks": ""
             }
            },
            "type": "scattercarpet"
           }
          ],
          "scattergeo": [
           {
            "marker": {
             "colorbar": {
              "outlinewidth": 0,
              "ticks": ""
             }
            },
            "type": "scattergeo"
           }
          ],
          "scattergl": [
           {
            "marker": {
             "colorbar": {
              "outlinewidth": 0,
              "ticks": ""
             }
            },
            "type": "scattergl"
           }
          ],
          "scattermap": [
           {
            "marker": {
             "colorbar": {
              "outlinewidth": 0,
              "ticks": ""
             }
            },
            "type": "scattermap"
           }
          ],
          "scattermapbox": [
           {
            "marker": {
             "colorbar": {
              "outlinewidth": 0,
              "ticks": ""
             }
            },
            "type": "scattermapbox"
           }
          ],
          "scatterpolar": [
           {
            "marker": {
             "colorbar": {
              "outlinewidth": 0,
              "ticks": ""
             }
            },
            "type": "scatterpolar"
           }
          ],
          "scatterpolargl": [
           {
            "marker": {
             "colorbar": {
              "outlinewidth": 0,
              "ticks": ""
             }
            },
            "type": "scatterpolargl"
           }
          ],
          "scatterternary": [
           {
            "marker": {
             "colorbar": {
              "outlinewidth": 0,
              "ticks": ""
             }
            },
            "type": "scatterternary"
           }
          ],
          "surface": [
           {
            "colorbar": {
             "outlinewidth": 0,
             "ticks": ""
            },
            "colorscale": [
             [
              0,
              "#0d0887"
             ],
             [
              0.1111111111111111,
              "#46039f"
             ],
             [
              0.2222222222222222,
              "#7201a8"
             ],
             [
              0.3333333333333333,
              "#9c179e"
             ],
             [
              0.4444444444444444,
              "#bd3786"
             ],
             [
              0.5555555555555556,
              "#d8576b"
             ],
             [
              0.6666666666666666,
              "#ed7953"
             ],
             [
              0.7777777777777778,
              "#fb9f3a"
             ],
             [
              0.8888888888888888,
              "#fdca26"
             ],
             [
              1,
              "#f0f921"
             ]
            ],
            "type": "surface"
           }
          ],
          "table": [
           {
            "cells": {
             "fill": {
              "color": "#EBF0F8"
             },
             "line": {
              "color": "white"
             }
            },
            "header": {
             "fill": {
              "color": "#C8D4E3"
             },
             "line": {
              "color": "white"
             }
            },
            "type": "table"
           }
          ]
         },
         "layout": {
          "annotationdefaults": {
           "arrowcolor": "#2a3f5f",
           "arrowhead": 0,
           "arrowwidth": 1
          },
          "autotypenumbers": "strict",
          "coloraxis": {
           "colorbar": {
            "outlinewidth": 0,
            "ticks": ""
           }
          },
          "colorscale": {
           "diverging": [
            [
             0,
             "#8e0152"
            ],
            [
             0.1,
             "#c51b7d"
            ],
            [
             0.2,
             "#de77ae"
            ],
            [
             0.3,
             "#f1b6da"
            ],
            [
             0.4,
             "#fde0ef"
            ],
            [
             0.5,
             "#f7f7f7"
            ],
            [
             0.6,
             "#e6f5d0"
            ],
            [
             0.7,
             "#b8e186"
            ],
            [
             0.8,
             "#7fbc41"
            ],
            [
             0.9,
             "#4d9221"
            ],
            [
             1,
             "#276419"
            ]
           ],
           "sequential": [
            [
             0,
             "#0d0887"
            ],
            [
             0.1111111111111111,
             "#46039f"
            ],
            [
             0.2222222222222222,
             "#7201a8"
            ],
            [
             0.3333333333333333,
             "#9c179e"
            ],
            [
             0.4444444444444444,
             "#bd3786"
            ],
            [
             0.5555555555555556,
             "#d8576b"
            ],
            [
             0.6666666666666666,
             "#ed7953"
            ],
            [
             0.7777777777777778,
             "#fb9f3a"
            ],
            [
             0.8888888888888888,
             "#fdca26"
            ],
            [
             1,
             "#f0f921"
            ]
           ],
           "sequentialminus": [
            [
             0,
             "#0d0887"
            ],
            [
             0.1111111111111111,
             "#46039f"
            ],
            [
             0.2222222222222222,
             "#7201a8"
            ],
            [
             0.3333333333333333,
             "#9c179e"
            ],
            [
             0.4444444444444444,
             "#bd3786"
            ],
            [
             0.5555555555555556,
             "#d8576b"
            ],
            [
             0.6666666666666666,
             "#ed7953"
            ],
            [
             0.7777777777777778,
             "#fb9f3a"
            ],
            [
             0.8888888888888888,
             "#fdca26"
            ],
            [
             1,
             "#f0f921"
            ]
           ]
          },
          "colorway": [
           "#636efa",
           "#EF553B",
           "#00cc96",
           "#ab63fa",
           "#FFA15A",
           "#19d3f3",
           "#FF6692",
           "#B6E880",
           "#FF97FF",
           "#FECB52"
          ],
          "font": {
           "color": "#2a3f5f"
          },
          "geo": {
           "bgcolor": "white",
           "lakecolor": "white",
           "landcolor": "white",
           "showlakes": true,
           "showland": true,
           "subunitcolor": "#C8D4E3"
          },
          "hoverlabel": {
           "align": "left"
          },
          "hovermode": "closest",
          "mapbox": {
           "style": "light"
          },
          "paper_bgcolor": "white",
          "plot_bgcolor": "white",
          "polar": {
           "angularaxis": {
            "gridcolor": "#EBF0F8",
            "linecolor": "#EBF0F8",
            "ticks": ""
           },
           "bgcolor": "white",
           "radialaxis": {
            "gridcolor": "#EBF0F8",
            "linecolor": "#EBF0F8",
            "ticks": ""
           }
          },
          "scene": {
           "xaxis": {
            "backgroundcolor": "white",
            "gridcolor": "#DFE8F3",
            "gridwidth": 2,
            "linecolor": "#EBF0F8",
            "showbackground": true,
            "ticks": "",
            "zerolinecolor": "#EBF0F8"
           },
           "yaxis": {
            "backgroundcolor": "white",
            "gridcolor": "#DFE8F3",
            "gridwidth": 2,
            "linecolor": "#EBF0F8",
            "showbackground": true,
            "ticks": "",
            "zerolinecolor": "#EBF0F8"
           },
           "zaxis": {
            "backgroundcolor": "white",
            "gridcolor": "#DFE8F3",
            "gridwidth": 2,
            "linecolor": "#EBF0F8",
            "showbackground": true,
            "ticks": "",
            "zerolinecolor": "#EBF0F8"
           }
          },
          "shapedefaults": {
           "line": {
            "color": "#2a3f5f"
           }
          },
          "ternary": {
           "aaxis": {
            "gridcolor": "#DFE8F3",
            "linecolor": "#A2B1C6",
            "ticks": ""
           },
           "baxis": {
            "gridcolor": "#DFE8F3",
            "linecolor": "#A2B1C6",
            "ticks": ""
           },
           "bgcolor": "white",
           "caxis": {
            "gridcolor": "#DFE8F3",
            "linecolor": "#A2B1C6",
            "ticks": ""
           }
          },
          "title": {
           "x": 0.05
          },
          "xaxis": {
           "automargin": true,
           "gridcolor": "#EBF0F8",
           "linecolor": "#EBF0F8",
           "ticks": "",
           "title": {
            "standoff": 15
           },
           "zerolinecolor": "#EBF0F8",
           "zerolinewidth": 2
          },
          "yaxis": {
           "automargin": true,
           "gridcolor": "#EBF0F8",
           "linecolor": "#EBF0F8",
           "ticks": "",
           "title": {
            "standoff": 15
           },
           "zerolinecolor": "#EBF0F8",
           "zerolinewidth": 2
          }
         }
        },
        "title": {
         "text": "Scatter plot matrix"
        }
       }
      }
     },
     "metadata": {},
     "output_type": "display_data"
    }
   ],
   "source": [
    "px.scatter_matrix(\n",
    "    df,\n",
    "    title='Scatter plot matrix'\n",
    ")"
   ]
  },
  {
   "cell_type": "code",
   "execution_count": 69,
   "metadata": {},
   "outputs": [],
   "source": [
    "# Target vector and design matrix\n",
    "y, X = dmatrices(\n",
    "    'Dependent ~ Variable1 + Variable2',\n",
    "    data = df\n",
    ")"
   ]
  },
  {
   "cell_type": "code",
   "execution_count": 70,
   "metadata": {},
   "outputs": [
    {
     "data": {
      "text/plain": [
       "array([[ 1.        , 14.7       ,  0.76752164],\n",
       "       [ 1.        , 16.8       ,  1.99346654],\n",
       "       [ 1.        , 12.5       ,  1.98763755],\n",
       "       [ 1.        , 16.7       , -0.65028648],\n",
       "       [ 1.        , 18.3       ,  0.96706308]])"
      ]
     },
     "execution_count": 70,
     "metadata": {},
     "output_type": "execute_result"
    }
   ],
   "source": [
    "X[:5]"
   ]
  },
  {
   "cell_type": "code",
   "execution_count": 71,
   "metadata": {},
   "outputs": [],
   "source": [
    "# Create the model\n",
    "multi_lin_model = sm.OLS(y, X).fit()"
   ]
  },
  {
   "cell_type": "code",
   "execution_count": 72,
   "metadata": {},
   "outputs": [
    {
     "data": {
      "text/html": [
       "<table class=\"simpletable\">\n",
       "<tr>\n",
       "        <td>Model:</td>               <td>OLS</td>         <td>Adj. R-squared:</td>     <td>0.090</td> \n",
       "</tr>\n",
       "<tr>\n",
       "  <td>Dependent Variable:</td>     <td>Dependent</td>           <td>AIC:</td>         <td>744.9274</td>\n",
       "</tr>\n",
       "<tr>\n",
       "         <td>Date:</td>        <td>2025-04-22 10:32</td>        <td>BIC:</td>         <td>752.7429</td>\n",
       "</tr>\n",
       "<tr>\n",
       "   <td>No. Observations:</td>         <td>100</td>         <td>Log-Likelihood:</td>    <td>-369.46</td>\n",
       "</tr>\n",
       "<tr>\n",
       "       <td>Df Model:</td>              <td>2</td>           <td>F-statistic:</td>       <td>5.919</td> \n",
       "</tr>\n",
       "<tr>\n",
       "     <td>Df Residuals:</td>           <td>97</td>        <td>Prob (F-statistic):</td>  <td>0.00375</td>\n",
       "</tr>\n",
       "<tr>\n",
       "      <td>R-squared:</td>            <td>0.109</td>            <td>Scale:</td>         <td>97.696</td> \n",
       "</tr>\n",
       "</table>\n",
       "<table class=\"simpletable\">\n",
       "<tr>\n",
       "      <td></td>       <th>Coef.</th>  <th>Std.Err.</th>    <th>t</th>     <th>P>|t|</th>  <th>[0.025</th>  <th>0.975]</th>\n",
       "</tr>\n",
       "<tr>\n",
       "  <th>Intercept</th> <td>-1.0602</td>  <td>5.2183</td>  <td>-0.2032</td> <td>0.8394</td> <td>-11.4171</td> <td>9.2966</td>\n",
       "</tr>\n",
       "<tr>\n",
       "  <th>Variable1</th> <td>1.1487</td>   <td>0.3429</td>  <td>3.3497</td>  <td>0.0012</td>  <td>0.4681</td>  <td>1.8292</td>\n",
       "</tr>\n",
       "<tr>\n",
       "  <th>Variable2</th> <td>0.6303</td>   <td>0.8886</td>  <td>0.7094</td>  <td>0.4798</td>  <td>-1.1333</td> <td>2.3939</td>\n",
       "</tr>\n",
       "</table>\n",
       "<table class=\"simpletable\">\n",
       "<tr>\n",
       "     <td>Omnibus:</td>    <td>0.907</td>  <td>Durbin-Watson:</td>   <td>1.801</td>\n",
       "</tr>\n",
       "<tr>\n",
       "  <td>Prob(Omnibus):</td> <td>0.635</td> <td>Jarque-Bera (JB):</td> <td>0.894</td>\n",
       "</tr>\n",
       "<tr>\n",
       "       <td>Skew:</td>     <td>0.019</td>     <td>Prob(JB):</td>     <td>0.639</td>\n",
       "</tr>\n",
       "<tr>\n",
       "     <td>Kurtosis:</td>   <td>2.538</td>  <td>Condition No.:</td>    <td>81</td>  \n",
       "</tr>\n",
       "</table><br/>\n",
       "Notes:<br/>\n",
       "[1] Standard Errors assume that the covariance matrix of the errors is correctly specified."
      ],
      "text/latex": [
       "\\begin{table}\n",
       "\\caption{Results: Ordinary least squares}\n",
       "\\label{}\n",
       "\\begin{center}\n",
       "\\begin{tabular}{llll}\n",
       "\\hline\n",
       "Model:              & OLS              & Adj. R-squared:     & 0.090     \\\\\n",
       "Dependent Variable: & Dependent        & AIC:                & 744.9274  \\\\\n",
       "Date:               & 2025-04-22 10:32 & BIC:                & 752.7429  \\\\\n",
       "No. Observations:   & 100              & Log-Likelihood:     & -369.46   \\\\\n",
       "Df Model:           & 2                & F-statistic:        & 5.919     \\\\\n",
       "Df Residuals:       & 97               & Prob (F-statistic): & 0.00375   \\\\\n",
       "R-squared:          & 0.109            & Scale:              & 97.696    \\\\\n",
       "\\hline\n",
       "\\end{tabular}\n",
       "\\end{center}\n",
       "\n",
       "\\begin{center}\n",
       "\\begin{tabular}{lrrrrrr}\n",
       "\\hline\n",
       "          &   Coef. & Std.Err. &       t & P$> |$t$|$ &   [0.025 & 0.975]  \\\\\n",
       "\\hline\n",
       "Intercept & -1.0602 &   5.2183 & -0.2032 &      0.8394 & -11.4171 & 9.2966  \\\\\n",
       "Variable1 &  1.1487 &   0.3429 &  3.3497 &      0.0012 &   0.4681 & 1.8292  \\\\\n",
       "Variable2 &  0.6303 &   0.8886 &  0.7094 &      0.4798 &  -1.1333 & 2.3939  \\\\\n",
       "\\hline\n",
       "\\end{tabular}\n",
       "\\end{center}\n",
       "\n",
       "\\begin{center}\n",
       "\\begin{tabular}{llll}\n",
       "\\hline\n",
       "Omnibus:       & 0.907 & Durbin-Watson:    & 1.801  \\\\\n",
       "Prob(Omnibus): & 0.635 & Jarque-Bera (JB): & 0.894  \\\\\n",
       "Skew:          & 0.019 & Prob(JB):         & 0.639  \\\\\n",
       "Kurtosis:      & 2.538 & Condition No.:    & 81     \\\\\n",
       "\\hline\n",
       "\\end{tabular}\n",
       "\\end{center}\n",
       "\\end{table}\n",
       "\\bigskip\n",
       "Notes: \\newline \n",
       "[1] Standard Errors assume that the covariance matrix of the errors is correctly specified."
      ],
      "text/plain": [
       "<class 'statsmodels.iolib.summary2.Summary'>\n",
       "\"\"\"\n",
       "                 Results: Ordinary least squares\n",
       "=================================================================\n",
       "Model:              OLS              Adj. R-squared:     0.090   \n",
       "Dependent Variable: Dependent        AIC:                744.9274\n",
       "Date:               2025-04-22 10:32 BIC:                752.7429\n",
       "No. Observations:   100              Log-Likelihood:     -369.46 \n",
       "Df Model:           2                F-statistic:        5.919   \n",
       "Df Residuals:       97               Prob (F-statistic): 0.00375 \n",
       "R-squared:          0.109            Scale:              97.696  \n",
       "------------------------------------------------------------------\n",
       "               Coef.   Std.Err.     t     P>|t|    [0.025   0.975]\n",
       "------------------------------------------------------------------\n",
       "Intercept     -1.0602    5.2183  -0.2032  0.8394  -11.4171  9.2966\n",
       "Variable1      1.1487    0.3429   3.3497  0.0012    0.4681  1.8292\n",
       "Variable2      0.6303    0.8886   0.7094  0.4798   -1.1333  2.3939\n",
       "-----------------------------------------------------------------\n",
       "Omnibus:              0.907        Durbin-Watson:           1.801\n",
       "Prob(Omnibus):        0.635        Jarque-Bera (JB):        0.894\n",
       "Skew:                 0.019        Prob(JB):                0.639\n",
       "Kurtosis:             2.538        Condition No.:           81   \n",
       "=================================================================\n",
       "Notes:\n",
       "[1] Standard Errors assume that the covariance matrix of the\n",
       "errors is correctly specified.\n",
       "\"\"\""
      ]
     },
     "execution_count": 72,
     "metadata": {},
     "output_type": "execute_result"
    }
   ],
   "source": [
    "# Print the summary results\n",
    "multi_lin_model.summary2()"
   ]
  },
  {
   "cell_type": "code",
   "execution_count": 62,
   "metadata": {},
   "outputs": [],
   "source": [
    "# Variance in mean model and working model\n",
    "var_mean_model = np.var(df.Dependent)\n",
    "var_best_model = np.var(multi_lin_model.resid)"
   ]
  },
  {
   "cell_type": "code",
   "execution_count": 73,
   "metadata": {},
   "outputs": [
    {
     "data": {
      "text/plain": [
       "np.float64(0.02265232590878605)"
      ]
     },
     "execution_count": 73,
     "metadata": {},
     "output_type": "execute_result"
    }
   ],
   "source": [
    "(var_mean_model - var_best_model) / var_mean_model"
   ]
  },
  {
   "cell_type": "code",
   "execution_count": 74,
   "metadata": {},
   "outputs": [],
   "source": [
    "p_best = 3\n",
    "p_mean = 1\n",
    "n = len(df.Dependent)"
   ]
  },
  {
   "cell_type": "code",
   "execution_count": 75,
   "metadata": {},
   "outputs": [
    {
     "data": {
      "text/plain": [
       "np.float64(1.1241013159392752)"
      ]
     },
     "execution_count": 75,
     "metadata": {},
     "output_type": "execute_result"
    }
   ],
   "source": [
    "# F statistic\n",
    "F = ((var_mean_model - var_best_model) / (p_best - p_mean)) / ((var_best_model) / (n - p_best))\n",
    "F"
   ]
  },
  {
   "cell_type": "code",
   "execution_count": 76,
   "metadata": {},
   "outputs": [
    {
     "data": {
      "text/plain": [
       "np.float64(0.329139922335588)"
      ]
     },
     "execution_count": 76,
     "metadata": {},
     "output_type": "execute_result"
    }
   ],
   "source": [
    "# The p value\n",
    "1 - stats.f.cdf(F, p_best - p_mean, n - p_best)"
   ]
  },
  {
   "cell_type": "markdown",
   "metadata": {},
   "source": [
    "## <span style=\"color: MediumPurple;\"> No need todo the quiz questions today :) <span>"
   ]
  }
 ],
 "metadata": {
  "kernelspec": {
   "display_name": ".venv",
   "language": "python",
   "name": "python3"
  },
  "language_info": {
   "codemirror_mode": {
    "name": "ipython",
    "version": 3
   },
   "file_extension": ".py",
   "mimetype": "text/x-python",
   "name": "python",
   "nbconvert_exporter": "python",
   "pygments_lexer": "ipython3",
   "version": "3.9.6"
  }
 },
 "nbformat": 4,
 "nbformat_minor": 2
}
